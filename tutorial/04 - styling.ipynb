{
 "cells": [
  {
   "cell_type": "markdown",
   "metadata": {},
   "source": [
    "<table style=\"float:left; border:none\">\n",
    "   <tr style=\"border:none\">\n",
    "       <td style=\"border:none\">\n",
    "           <a href=\"http://bokeh.pydata.org/\">     \n",
    "           <img \n",
    "               src=\"assets/images/bokeh-transparent.png\" \n",
    "               style=\"width:50px\"\n",
    "           >\n",
    "           </a>    \n",
    "       </td>\n",
    "       <td style=\"border:none\">\n",
    "           <h1>Bokeh Tutorial</h1>\n",
    "       </td>\n",
    "   </tr>\n",
    "</table>\n",
    "\n",
    "<div style=\"float:right;\"><h2>04. Styling Visual Attributes</h2></div>"
   ]
  },
  {
   "cell_type": "code",
   "execution_count": 1,
   "metadata": {
    "collapsed": false
   },
   "outputs": [],
   "source": [
    "from bokeh.io import output_notebook, show\n",
    "from bokeh.plotting import figure"
   ]
  },
  {
   "cell_type": "code",
   "execution_count": 2,
   "metadata": {
    "collapsed": false
   },
   "outputs": [
    {
     "data": {
      "text/html": [
       "\n",
       "    <div class=\"bk-root\">\n",
       "        <a href=\"http://bokeh.pydata.org\" target=\"_blank\" class=\"bk-logo bk-logo-small bk-logo-notebook\"></a>\n",
       "        <span id=\"3f6b3b79-4a63-4311-af22-c0a4c9f9784b\">Loading BokehJS ...</span>\n",
       "    </div>"
      ]
     },
     "metadata": {},
     "output_type": "display_data"
    },
    {
     "data": {
      "application/javascript": [
       "\n",
       "(function(global) {\n",
       "  function now() {\n",
       "    return new Date();\n",
       "  }\n",
       "\n",
       "  var force = true;\n",
       "\n",
       "  if (typeof (window._bokeh_onload_callbacks) === \"undefined\" || force === true) {\n",
       "    window._bokeh_onload_callbacks = [];\n",
       "    window._bokeh_is_loading = undefined;\n",
       "  }\n",
       "\n",
       "\n",
       "  \n",
       "  if (typeof (window._bokeh_timeout) === \"undefined\" || force === true) {\n",
       "    window._bokeh_timeout = Date.now() + 5000;\n",
       "    window._bokeh_failed_load = false;\n",
       "  }\n",
       "\n",
       "  var NB_LOAD_WARNING = {'data': {'text/html':\n",
       "     \"<div style='background-color: #fdd'>\\n\"+\n",
       "     \"<p>\\n\"+\n",
       "     \"BokehJS does not appear to have successfully loaded. If loading BokehJS from CDN, this \\n\"+\n",
       "     \"may be due to a slow or bad network connection. Possible fixes:\\n\"+\n",
       "     \"</p>\\n\"+\n",
       "     \"<ul>\\n\"+\n",
       "     \"<li>re-rerun `output_notebook()` to attempt to load from CDN again, or</li>\\n\"+\n",
       "     \"<li>use INLINE resources instead, as so:</li>\\n\"+\n",
       "     \"</ul>\\n\"+\n",
       "     \"<code>\\n\"+\n",
       "     \"from bokeh.resources import INLINE\\n\"+\n",
       "     \"output_notebook(resources=INLINE)\\n\"+\n",
       "     \"</code>\\n\"+\n",
       "     \"</div>\"}};\n",
       "\n",
       "  function display_loaded() {\n",
       "    if (window.Bokeh !== undefined) {\n",
       "      document.getElementById(\"3f6b3b79-4a63-4311-af22-c0a4c9f9784b\").textContent = \"BokehJS successfully loaded.\";\n",
       "    } else if (Date.now() < window._bokeh_timeout) {\n",
       "      setTimeout(display_loaded, 100)\n",
       "    }\n",
       "  }\n",
       "\n",
       "  function run_callbacks() {\n",
       "    window._bokeh_onload_callbacks.forEach(function(callback) { callback() });\n",
       "    delete window._bokeh_onload_callbacks\n",
       "    console.info(\"Bokeh: all callbacks have finished\");\n",
       "  }\n",
       "\n",
       "  function load_libs(js_urls, callback) {\n",
       "    window._bokeh_onload_callbacks.push(callback);\n",
       "    if (window._bokeh_is_loading > 0) {\n",
       "      console.log(\"Bokeh: BokehJS is being loaded, scheduling callback at\", now());\n",
       "      return null;\n",
       "    }\n",
       "    if (js_urls == null || js_urls.length === 0) {\n",
       "      run_callbacks();\n",
       "      return null;\n",
       "    }\n",
       "    console.log(\"Bokeh: BokehJS not loaded, scheduling load and callback at\", now());\n",
       "    window._bokeh_is_loading = js_urls.length;\n",
       "    for (var i = 0; i < js_urls.length; i++) {\n",
       "      var url = js_urls[i];\n",
       "      var s = document.createElement('script');\n",
       "      s.src = url;\n",
       "      s.async = false;\n",
       "      s.onreadystatechange = s.onload = function() {\n",
       "        window._bokeh_is_loading--;\n",
       "        if (window._bokeh_is_loading === 0) {\n",
       "          console.log(\"Bokeh: all BokehJS libraries loaded\");\n",
       "          run_callbacks()\n",
       "        }\n",
       "      };\n",
       "      s.onerror = function() {\n",
       "        console.warn(\"failed to load library \" + url);\n",
       "      };\n",
       "      console.log(\"Bokeh: injecting script tag for BokehJS library: \", url);\n",
       "      document.getElementsByTagName(\"head\")[0].appendChild(s);\n",
       "    }\n",
       "  };var element = document.getElementById(\"3f6b3b79-4a63-4311-af22-c0a4c9f9784b\");\n",
       "  if (element == null) {\n",
       "    console.log(\"Bokeh: ERROR: autoload.js configured with elementid '3f6b3b79-4a63-4311-af22-c0a4c9f9784b' but no matching script tag was found. \")\n",
       "    return false;\n",
       "  }\n",
       "\n",
       "  var js_urls = [\"https://cdn.pydata.org/bokeh/release/bokeh-0.12.4.min.js\", \"https://cdn.pydata.org/bokeh/release/bokeh-widgets-0.12.4.min.js\"];\n",
       "\n",
       "  var inline_js = [\n",
       "    function(Bokeh) {\n",
       "      Bokeh.set_log_level(\"info\");\n",
       "    },\n",
       "    \n",
       "    function(Bokeh) {\n",
       "      \n",
       "      document.getElementById(\"3f6b3b79-4a63-4311-af22-c0a4c9f9784b\").textContent = \"BokehJS is loading...\";\n",
       "    },\n",
       "    function(Bokeh) {\n",
       "      console.log(\"Bokeh: injecting CSS: https://cdn.pydata.org/bokeh/release/bokeh-0.12.4.min.css\");\n",
       "      Bokeh.embed.inject_css(\"https://cdn.pydata.org/bokeh/release/bokeh-0.12.4.min.css\");\n",
       "      console.log(\"Bokeh: injecting CSS: https://cdn.pydata.org/bokeh/release/bokeh-widgets-0.12.4.min.css\");\n",
       "      Bokeh.embed.inject_css(\"https://cdn.pydata.org/bokeh/release/bokeh-widgets-0.12.4.min.css\");\n",
       "    }\n",
       "  ];\n",
       "\n",
       "  function run_inline_js() {\n",
       "    \n",
       "    if ((window.Bokeh !== undefined) || (force === true)) {\n",
       "      for (var i = 0; i < inline_js.length; i++) {\n",
       "        inline_js[i](window.Bokeh);\n",
       "      }if (force === true) {\n",
       "        display_loaded();\n",
       "      }} else if (Date.now() < window._bokeh_timeout) {\n",
       "      setTimeout(run_inline_js, 100);\n",
       "    } else if (!window._bokeh_failed_load) {\n",
       "      console.log(\"Bokeh: BokehJS failed to load within specified timeout.\");\n",
       "      window._bokeh_failed_load = true;\n",
       "    } else if (force !== true) {\n",
       "      var cell = $(document.getElementById(\"3f6b3b79-4a63-4311-af22-c0a4c9f9784b\")).parents('.cell').data().cell;\n",
       "      cell.output_area.append_execute_result(NB_LOAD_WARNING)\n",
       "    }\n",
       "\n",
       "  }\n",
       "\n",
       "  if (window._bokeh_is_loading === 0) {\n",
       "    console.log(\"Bokeh: BokehJS loaded, going straight to plotting\");\n",
       "    run_inline_js();\n",
       "  } else {\n",
       "    load_libs(js_urls, function() {\n",
       "      console.log(\"Bokeh: BokehJS plotting callback run at\", now());\n",
       "      run_inline_js();\n",
       "    });\n",
       "  }\n",
       "}(this));"
      ]
     },
     "metadata": {},
     "output_type": "display_data"
    }
   ],
   "source": [
    "output_notebook()"
   ]
  },
  {
   "cell_type": "markdown",
   "metadata": {},
   "source": [
    "# Colors and Properties"
   ]
  },
  {
   "cell_type": "markdown",
   "metadata": {},
   "source": [
    "## Colors\n",
    "\n",
    "There are many places where you may need to specify colors. Bokeh can accept colors in a variety of different ways:\n",
    "\n",
    "* any of the [147 named CSS colors](http://www.w3schools.com/cssref/css_colornames.asp), e.g ``'green'``, ``'indigo'``\n",
    "* an RGB(A) hex value, e.g., ``'#FF0000'``, ``'#44444444'``\n",
    "* a 3-tuple of integers *(r,g,b)* between 0 and 255\n",
    "*  a 4-tuple of *(r,g,b,a)* where *r*, *g*, *b* are integers between 0 and 255 and *a* is a floating point value between 0 and 1\n",
    "\n"
   ]
  },
  {
   "cell_type": "markdown",
   "metadata": {
    "collapsed": true
   },
   "source": [
    "## Properties\n",
    "\n",
    "Regardless of what API (``models``, ``plotting``, or ``charts``) is used to create a Bokeh plot, styling the visual aspects of the plot can always be accomplished by setting attributes on the Bokeh model objects that comprise the resulting plot. Visual properties come in three kinds: line, fill, and text properties. For full information with code and examples see the [Styling Visual Properties](http://bokeh.pydata.org/en/latest/docs/user_guide/styling.html) section of the user guide. \n",
    "\n",
    "----\n",
    "\n",
    "### Line Properties\n",
    "\n",
    "Set the visual appearance of lines. The most common are ``line_color``, ``line_alpha``, ``line_width`` and ``line_dash``.\n",
    "\n",
    "### Fill Properties\n",
    "\n",
    "Set the visual appearance of filled areas: ``fill_color`` and ``fill_alpha``.\n",
    "\n",
    "### Text Properties\n",
    "\n",
    "Set the visual appearance of lines of text. The most common are ``text_font``, ``text_font_size``, ``text_color``, and ``text_alpha``.\n",
    "\n",
    "----\n",
    "\n",
    "Sometimes a prefix is used with property names, e.g. to distinguish between different line properties on the same object, or to give a more meaningful name. For example, to set the line width of the plot outline, you would say ``myplot.outline_line_width = 2``. "
   ]
  },
  {
   "cell_type": "markdown",
   "metadata": {},
   "source": [
    "# Plots\n",
    "\n",
    "Many top-level attributes of plots (outline, border, etc.) can be configured. See the [Plots](http://bokeh.pydata.org/en/latest/docs/user_guide/styling.html#plots) section of the styling guide for full information. \n",
    "\n",
    "Here is an example that tweaks the plot outline:"
   ]
  },
  {
   "cell_type": "code",
   "execution_count": 4,
   "metadata": {
    "collapsed": false,
    "scrolled": false
   },
   "outputs": [
    {
     "data": {
      "text/html": [
       "\n",
       "\n",
       "    <div class=\"bk-root\">\n",
       "        <div class=\"bk-plotdiv\" id=\"39f4b3a9-e744-4c0d-bfdd-fc216093fd8d\"></div>\n",
       "    </div>\n",
       "<script type=\"text/javascript\">\n",
       "  \n",
       "  (function(global) {\n",
       "    function now() {\n",
       "      return new Date();\n",
       "    }\n",
       "  \n",
       "    var force = false;\n",
       "  \n",
       "    if (typeof (window._bokeh_onload_callbacks) === \"undefined\" || force === true) {\n",
       "      window._bokeh_onload_callbacks = [];\n",
       "      window._bokeh_is_loading = undefined;\n",
       "    }\n",
       "  \n",
       "  \n",
       "    \n",
       "    if (typeof (window._bokeh_timeout) === \"undefined\" || force === true) {\n",
       "      window._bokeh_timeout = Date.now() + 0;\n",
       "      window._bokeh_failed_load = false;\n",
       "    }\n",
       "  \n",
       "    var NB_LOAD_WARNING = {'data': {'text/html':\n",
       "       \"<div style='background-color: #fdd'>\\n\"+\n",
       "       \"<p>\\n\"+\n",
       "       \"BokehJS does not appear to have successfully loaded. If loading BokehJS from CDN, this \\n\"+\n",
       "       \"may be due to a slow or bad network connection. Possible fixes:\\n\"+\n",
       "       \"</p>\\n\"+\n",
       "       \"<ul>\\n\"+\n",
       "       \"<li>re-rerun `output_notebook()` to attempt to load from CDN again, or</li>\\n\"+\n",
       "       \"<li>use INLINE resources instead, as so:</li>\\n\"+\n",
       "       \"</ul>\\n\"+\n",
       "       \"<code>\\n\"+\n",
       "       \"from bokeh.resources import INLINE\\n\"+\n",
       "       \"output_notebook(resources=INLINE)\\n\"+\n",
       "       \"</code>\\n\"+\n",
       "       \"</div>\"}};\n",
       "  \n",
       "    function display_loaded() {\n",
       "      if (window.Bokeh !== undefined) {\n",
       "        document.getElementById(\"39f4b3a9-e744-4c0d-bfdd-fc216093fd8d\").textContent = \"BokehJS successfully loaded.\";\n",
       "      } else if (Date.now() < window._bokeh_timeout) {\n",
       "        setTimeout(display_loaded, 100)\n",
       "      }\n",
       "    }\n",
       "  \n",
       "    function run_callbacks() {\n",
       "      window._bokeh_onload_callbacks.forEach(function(callback) { callback() });\n",
       "      delete window._bokeh_onload_callbacks\n",
       "      console.info(\"Bokeh: all callbacks have finished\");\n",
       "    }\n",
       "  \n",
       "    function load_libs(js_urls, callback) {\n",
       "      window._bokeh_onload_callbacks.push(callback);\n",
       "      if (window._bokeh_is_loading > 0) {\n",
       "        console.log(\"Bokeh: BokehJS is being loaded, scheduling callback at\", now());\n",
       "        return null;\n",
       "      }\n",
       "      if (js_urls == null || js_urls.length === 0) {\n",
       "        run_callbacks();\n",
       "        return null;\n",
       "      }\n",
       "      console.log(\"Bokeh: BokehJS not loaded, scheduling load and callback at\", now());\n",
       "      window._bokeh_is_loading = js_urls.length;\n",
       "      for (var i = 0; i < js_urls.length; i++) {\n",
       "        var url = js_urls[i];\n",
       "        var s = document.createElement('script');\n",
       "        s.src = url;\n",
       "        s.async = false;\n",
       "        s.onreadystatechange = s.onload = function() {\n",
       "          window._bokeh_is_loading--;\n",
       "          if (window._bokeh_is_loading === 0) {\n",
       "            console.log(\"Bokeh: all BokehJS libraries loaded\");\n",
       "            run_callbacks()\n",
       "          }\n",
       "        };\n",
       "        s.onerror = function() {\n",
       "          console.warn(\"failed to load library \" + url);\n",
       "        };\n",
       "        console.log(\"Bokeh: injecting script tag for BokehJS library: \", url);\n",
       "        document.getElementsByTagName(\"head\")[0].appendChild(s);\n",
       "      }\n",
       "    };var element = document.getElementById(\"39f4b3a9-e744-4c0d-bfdd-fc216093fd8d\");\n",
       "    if (element == null) {\n",
       "      console.log(\"Bokeh: ERROR: autoload.js configured with elementid '39f4b3a9-e744-4c0d-bfdd-fc216093fd8d' but no matching script tag was found. \")\n",
       "      return false;\n",
       "    }\n",
       "  \n",
       "    var js_urls = [];\n",
       "  \n",
       "    var inline_js = [\n",
       "      function(Bokeh) {\n",
       "        (function() {\n",
       "          var fn = function() {\n",
       "            var docs_json = {\"3284359d-7084-46fa-b8f7-c3ec11246357\":{\"roots\":{\"references\":[{\"attributes\":{\"callback\":null},\"id\":\"c1860bdf-04d2-47dc-96de-ae9d39605dfd\",\"type\":\"DataRange1d\"},{\"attributes\":{\"dimension\":1,\"plot\":{\"id\":\"a838d374-6d02-4038-8905-f618af51c55f\",\"subtype\":\"Figure\",\"type\":\"Plot\"},\"ticker\":{\"id\":\"6ee5b42b-2b36-4e69-910a-1bffc7e6bf03\",\"type\":\"BasicTicker\"}},\"id\":\"47ad64fa-0148-4949-9804-2dece00bf160\",\"type\":\"Grid\"},{\"attributes\":{},\"id\":\"6ee5b42b-2b36-4e69-910a-1bffc7e6bf03\",\"type\":\"BasicTicker\"},{\"attributes\":{\"overlay\":{\"id\":\"c4ff6b51-9999-4e24-be70-faad7dd25a5d\",\"type\":\"BoxAnnotation\"},\"plot\":{\"id\":\"a838d374-6d02-4038-8905-f618af51c55f\",\"subtype\":\"Figure\",\"type\":\"Plot\"}},\"id\":\"9e7430de-b729-45db-a2d0-efd32c51e5e8\",\"type\":\"BoxZoomTool\"},{\"attributes\":{\"plot\":{\"id\":\"a838d374-6d02-4038-8905-f618af51c55f\",\"subtype\":\"Figure\",\"type\":\"Plot\"}},\"id\":\"77eef6fd-a3e9-4516-b891-2c81398fa006\",\"type\":\"WheelZoomTool\"},{\"attributes\":{},\"id\":\"163ecd3c-12cd-4ccf-b843-a86fa36138ac\",\"type\":\"BasicTickFormatter\"},{\"attributes\":{\"plot\":{\"id\":\"a838d374-6d02-4038-8905-f618af51c55f\",\"subtype\":\"Figure\",\"type\":\"Plot\"}},\"id\":\"2514c401-05b7-4749-ba28-0036a96bfb8a\",\"type\":\"PanTool\"},{\"attributes\":{\"bottom_units\":\"screen\",\"fill_alpha\":{\"value\":0.5},\"fill_color\":{\"value\":\"lightgrey\"},\"left_units\":\"screen\",\"level\":\"overlay\",\"line_alpha\":{\"value\":1.0},\"line_color\":{\"value\":\"black\"},\"line_dash\":[4,4],\"line_width\":{\"value\":2},\"plot\":null,\"render_mode\":\"css\",\"right_units\":\"screen\",\"top_units\":\"screen\"},\"id\":\"c4ff6b51-9999-4e24-be70-faad7dd25a5d\",\"type\":\"BoxAnnotation\"},{\"attributes\":{\"fill_color\":{\"value\":\"#1f77b4\"},\"line_color\":{\"value\":\"#1f77b4\"},\"size\":{\"units\":\"screen\",\"value\":10},\"x\":{\"field\":\"x\"},\"y\":{\"field\":\"y\"}},\"id\":\"4b289084-c3d5-454b-beed-f495158eac45\",\"type\":\"Circle\"},{\"attributes\":{\"data_source\":{\"id\":\"64da5ecb-fb49-4be4-b5d1-7aaa5c733da0\",\"type\":\"ColumnDataSource\"},\"glyph\":{\"id\":\"4b289084-c3d5-454b-beed-f495158eac45\",\"type\":\"Circle\"},\"hover_glyph\":null,\"nonselection_glyph\":{\"id\":\"db528141-fe41-49b9-a705-065151e6f5b6\",\"type\":\"Circle\"},\"selection_glyph\":null},\"id\":\"4e9b95cc-0159-4558-8451-743517d17bc9\",\"type\":\"GlyphRenderer\"},{\"attributes\":{\"plot\":{\"id\":\"a838d374-6d02-4038-8905-f618af51c55f\",\"subtype\":\"Figure\",\"type\":\"Plot\"}},\"id\":\"70134d8f-efcd-479d-82b5-628c2c3a800e\",\"type\":\"ResetTool\"},{\"attributes\":{\"plot\":{\"id\":\"a838d374-6d02-4038-8905-f618af51c55f\",\"subtype\":\"Figure\",\"type\":\"Plot\"}},\"id\":\"b8405078-9423-475f-a95c-43ac7003bdd6\",\"type\":\"SaveTool\"},{\"attributes\":{\"plot\":{\"id\":\"a838d374-6d02-4038-8905-f618af51c55f\",\"subtype\":\"Figure\",\"type\":\"Plot\"}},\"id\":\"78cbe93d-c2e0-424f-9bfc-4174f6495a43\",\"type\":\"HelpTool\"},{\"attributes\":{},\"id\":\"6820a16d-b61d-4571-8436-4d094d571982\",\"type\":\"BasicTickFormatter\"},{\"attributes\":{\"active_drag\":\"auto\",\"active_scroll\":\"auto\",\"active_tap\":\"auto\",\"tools\":[{\"id\":\"2514c401-05b7-4749-ba28-0036a96bfb8a\",\"type\":\"PanTool\"},{\"id\":\"77eef6fd-a3e9-4516-b891-2c81398fa006\",\"type\":\"WheelZoomTool\"},{\"id\":\"9e7430de-b729-45db-a2d0-efd32c51e5e8\",\"type\":\"BoxZoomTool\"},{\"id\":\"b8405078-9423-475f-a95c-43ac7003bdd6\",\"type\":\"SaveTool\"},{\"id\":\"70134d8f-efcd-479d-82b5-628c2c3a800e\",\"type\":\"ResetTool\"},{\"id\":\"78cbe93d-c2e0-424f-9bfc-4174f6495a43\",\"type\":\"HelpTool\"}]},\"id\":\"3b254f25-25ac-4b28-a24f-6bf64d136e0e\",\"type\":\"Toolbar\"},{\"attributes\":{\"fill_alpha\":{\"value\":0.1},\"fill_color\":{\"value\":\"#1f77b4\"},\"line_alpha\":{\"value\":0.1},\"line_color\":{\"value\":\"#1f77b4\"},\"size\":{\"units\":\"screen\",\"value\":10},\"x\":{\"field\":\"x\"},\"y\":{\"field\":\"y\"}},\"id\":\"db528141-fe41-49b9-a705-065151e6f5b6\",\"type\":\"Circle\"},{\"attributes\":{},\"id\":\"acbf0e5f-365d-46b8-b4a6-8a70a640bcf1\",\"type\":\"ToolEvents\"},{\"attributes\":{\"formatter\":{\"id\":\"6820a16d-b61d-4571-8436-4d094d571982\",\"type\":\"BasicTickFormatter\"},\"plot\":{\"id\":\"a838d374-6d02-4038-8905-f618af51c55f\",\"subtype\":\"Figure\",\"type\":\"Plot\"},\"ticker\":{\"id\":\"6ee5b42b-2b36-4e69-910a-1bffc7e6bf03\",\"type\":\"BasicTicker\"}},\"id\":\"ac4a8277-df36-40b4-8f4c-a8d3321d0200\",\"type\":\"LinearAxis\"},{\"attributes\":{\"below\":[{\"id\":\"b1027927-8437-422f-a8ce-7b76044e9437\",\"type\":\"LinearAxis\"}],\"left\":[{\"id\":\"ac4a8277-df36-40b4-8f4c-a8d3321d0200\",\"type\":\"LinearAxis\"}],\"outline_line_alpha\":{\"value\":0.3},\"outline_line_color\":{\"value\":\"red\"},\"outline_line_width\":{\"value\":7},\"plot_height\":400,\"plot_width\":400,\"renderers\":[{\"id\":\"b1027927-8437-422f-a8ce-7b76044e9437\",\"type\":\"LinearAxis\"},{\"id\":\"07f2e468-15ef-4c97-963a-aec04284ec54\",\"type\":\"Grid\"},{\"id\":\"ac4a8277-df36-40b4-8f4c-a8d3321d0200\",\"type\":\"LinearAxis\"},{\"id\":\"47ad64fa-0148-4949-9804-2dece00bf160\",\"type\":\"Grid\"},{\"id\":\"c4ff6b51-9999-4e24-be70-faad7dd25a5d\",\"type\":\"BoxAnnotation\"},{\"id\":\"4e9b95cc-0159-4558-8451-743517d17bc9\",\"type\":\"GlyphRenderer\"}],\"title\":{\"id\":\"04d2adc6-8b6e-4b5f-a15f-651e7999e983\",\"type\":\"Title\"},\"tool_events\":{\"id\":\"acbf0e5f-365d-46b8-b4a6-8a70a640bcf1\",\"type\":\"ToolEvents\"},\"toolbar\":{\"id\":\"3b254f25-25ac-4b28-a24f-6bf64d136e0e\",\"type\":\"Toolbar\"},\"x_range\":{\"id\":\"c1860bdf-04d2-47dc-96de-ae9d39605dfd\",\"type\":\"DataRange1d\"},\"y_range\":{\"id\":\"c16a434b-07fa-4564-bbab-1f5b225b36d5\",\"type\":\"DataRange1d\"}},\"id\":\"a838d374-6d02-4038-8905-f618af51c55f\",\"subtype\":\"Figure\",\"type\":\"Plot\"},{\"attributes\":{},\"id\":\"a401d3a9-3914-4a64-83cf-ad54382d026c\",\"type\":\"BasicTicker\"},{\"attributes\":{\"plot\":null,\"text\":\"\"},\"id\":\"04d2adc6-8b6e-4b5f-a15f-651e7999e983\",\"type\":\"Title\"},{\"attributes\":{\"plot\":{\"id\":\"a838d374-6d02-4038-8905-f618af51c55f\",\"subtype\":\"Figure\",\"type\":\"Plot\"},\"ticker\":{\"id\":\"a401d3a9-3914-4a64-83cf-ad54382d026c\",\"type\":\"BasicTicker\"}},\"id\":\"07f2e468-15ef-4c97-963a-aec04284ec54\",\"type\":\"Grid\"},{\"attributes\":{\"callback\":null,\"column_names\":[\"x\",\"y\"],\"data\":{\"x\":[1,2,3,4,5],\"y\":[2,5,8,2,7]}},\"id\":\"64da5ecb-fb49-4be4-b5d1-7aaa5c733da0\",\"type\":\"ColumnDataSource\"},{\"attributes\":{\"formatter\":{\"id\":\"163ecd3c-12cd-4ccf-b843-a86fa36138ac\",\"type\":\"BasicTickFormatter\"},\"plot\":{\"id\":\"a838d374-6d02-4038-8905-f618af51c55f\",\"subtype\":\"Figure\",\"type\":\"Plot\"},\"ticker\":{\"id\":\"a401d3a9-3914-4a64-83cf-ad54382d026c\",\"type\":\"BasicTicker\"}},\"id\":\"b1027927-8437-422f-a8ce-7b76044e9437\",\"type\":\"LinearAxis\"},{\"attributes\":{\"callback\":null},\"id\":\"c16a434b-07fa-4564-bbab-1f5b225b36d5\",\"type\":\"DataRange1d\"}],\"root_ids\":[\"a838d374-6d02-4038-8905-f618af51c55f\"]},\"title\":\"Bokeh Application\",\"version\":\"0.12.4\"}};\n",
       "            var render_items = [{\"docid\":\"3284359d-7084-46fa-b8f7-c3ec11246357\",\"elementid\":\"39f4b3a9-e744-4c0d-bfdd-fc216093fd8d\",\"modelid\":\"a838d374-6d02-4038-8905-f618af51c55f\"}];\n",
       "            \n",
       "            Bokeh.embed.embed_items(docs_json, render_items);\n",
       "          };\n",
       "          if (document.readyState != \"loading\") fn();\n",
       "          else document.addEventListener(\"DOMContentLoaded\", fn);\n",
       "        })();\n",
       "      },\n",
       "      function(Bokeh) {\n",
       "      }\n",
       "    ];\n",
       "  \n",
       "    function run_inline_js() {\n",
       "      \n",
       "      if ((window.Bokeh !== undefined) || (force === true)) {\n",
       "        for (var i = 0; i < inline_js.length; i++) {\n",
       "          inline_js[i](window.Bokeh);\n",
       "        }if (force === true) {\n",
       "          display_loaded();\n",
       "        }} else if (Date.now() < window._bokeh_timeout) {\n",
       "        setTimeout(run_inline_js, 100);\n",
       "      } else if (!window._bokeh_failed_load) {\n",
       "        console.log(\"Bokeh: BokehJS failed to load within specified timeout.\");\n",
       "        window._bokeh_failed_load = true;\n",
       "      } else if (force !== true) {\n",
       "        var cell = $(document.getElementById(\"39f4b3a9-e744-4c0d-bfdd-fc216093fd8d\")).parents('.cell').data().cell;\n",
       "        cell.output_area.append_execute_result(NB_LOAD_WARNING)\n",
       "      }\n",
       "  \n",
       "    }\n",
       "  \n",
       "    if (window._bokeh_is_loading === 0) {\n",
       "      console.log(\"Bokeh: BokehJS loaded, going straight to plotting\");\n",
       "      run_inline_js();\n",
       "    } else {\n",
       "      load_libs(js_urls, function() {\n",
       "        console.log(\"Bokeh: BokehJS plotting callback run at\", now());\n",
       "        run_inline_js();\n",
       "      });\n",
       "    }\n",
       "  }(this));\n",
       "</script>"
      ]
     },
     "metadata": {},
     "output_type": "display_data"
    }
   ],
   "source": [
    "# create a new plot with a title\n",
    "p = figure(plot_width=400, plot_height=400)\n",
    "p.outline_line_width = 7\n",
    "p.outline_line_alpha = 0.3\n",
    "p.outline_line_color = \"red\"\n",
    "\n",
    "p.circle([1,2,3,4,5], [2,5,8,2,7], size=10)\n",
    "\n",
    "show(p)"
   ]
  },
  {
   "cell_type": "markdown",
   "metadata": {},
   "source": [
    "## Exercise 4.1: Plot Properties\n",
    "\n",
    "Create a plot of your own and customize several plot-level properties"
   ]
  },
  {
   "cell_type": "code",
   "execution_count": null,
   "metadata": {
    "collapsed": true
   },
   "outputs": [],
   "source": [
    "# Exercise"
   ]
  },
  {
   "cell_type": "markdown",
   "metadata": {},
   "source": [
    "# Glyphs\n",
    "\n",
    "It's also possible to style the visual properties of glyphs. When using `bokeh.plotting` this is often done when calling the glyph methods:\n",
    "```python\n",
    "p.circle(line_color=\"red\", fill_alpha=0.2, ...)\n",
    "```\n",
    "But it is also possible to set these properties directly on glyph objects. Glyph objects are found on `GlyphRenderer` objects, which are returned by the `Plot.add_glyph` and `bokeh.plotting` glyph methods like `circle`, `rect`, etc. Let's look at an example:"
   ]
  },
  {
   "cell_type": "code",
   "execution_count": 5,
   "metadata": {
    "collapsed": true
   },
   "outputs": [],
   "source": [
    "p = figure(plot_width=400, plot_height=400)"
   ]
  },
  {
   "cell_type": "code",
   "execution_count": 6,
   "metadata": {
    "collapsed": true
   },
   "outputs": [],
   "source": [
    "# keep a reference to the returned GlyphRenderer\n",
    "r = p.circle([1,2,3,4,5], [2,5,8,2,7])"
   ]
  },
  {
   "cell_type": "code",
   "execution_count": 16,
   "metadata": {
    "collapsed": true
   },
   "outputs": [],
   "source": [
    "r.glyph.size = 50\n",
    "r.glyph.fill_alpha = 0.5\n",
    "r.glyph.line_color = \"firebrick\"\n",
    "r.glyph.line_dash = [5, 10]\n",
    "r.glyph.line_width = 3"
   ]
  },
  {
   "cell_type": "code",
   "execution_count": 17,
   "metadata": {
    "collapsed": false
   },
   "outputs": [
    {
     "data": {
      "text/html": [
       "\n",
       "\n",
       "    <div class=\"bk-root\">\n",
       "        <div class=\"bk-plotdiv\" id=\"74b2c102-8c2f-4db4-9ff7-e4a83bfbb245\"></div>\n",
       "    </div>\n",
       "<script type=\"text/javascript\">\n",
       "  \n",
       "  (function(global) {\n",
       "    function now() {\n",
       "      return new Date();\n",
       "    }\n",
       "  \n",
       "    var force = false;\n",
       "  \n",
       "    if (typeof (window._bokeh_onload_callbacks) === \"undefined\" || force === true) {\n",
       "      window._bokeh_onload_callbacks = [];\n",
       "      window._bokeh_is_loading = undefined;\n",
       "    }\n",
       "  \n",
       "  \n",
       "    \n",
       "    if (typeof (window._bokeh_timeout) === \"undefined\" || force === true) {\n",
       "      window._bokeh_timeout = Date.now() + 0;\n",
       "      window._bokeh_failed_load = false;\n",
       "    }\n",
       "  \n",
       "    var NB_LOAD_WARNING = {'data': {'text/html':\n",
       "       \"<div style='background-color: #fdd'>\\n\"+\n",
       "       \"<p>\\n\"+\n",
       "       \"BokehJS does not appear to have successfully loaded. If loading BokehJS from CDN, this \\n\"+\n",
       "       \"may be due to a slow or bad network connection. Possible fixes:\\n\"+\n",
       "       \"</p>\\n\"+\n",
       "       \"<ul>\\n\"+\n",
       "       \"<li>re-rerun `output_notebook()` to attempt to load from CDN again, or</li>\\n\"+\n",
       "       \"<li>use INLINE resources instead, as so:</li>\\n\"+\n",
       "       \"</ul>\\n\"+\n",
       "       \"<code>\\n\"+\n",
       "       \"from bokeh.resources import INLINE\\n\"+\n",
       "       \"output_notebook(resources=INLINE)\\n\"+\n",
       "       \"</code>\\n\"+\n",
       "       \"</div>\"}};\n",
       "  \n",
       "    function display_loaded() {\n",
       "      if (window.Bokeh !== undefined) {\n",
       "        document.getElementById(\"74b2c102-8c2f-4db4-9ff7-e4a83bfbb245\").textContent = \"BokehJS successfully loaded.\";\n",
       "      } else if (Date.now() < window._bokeh_timeout) {\n",
       "        setTimeout(display_loaded, 100)\n",
       "      }\n",
       "    }\n",
       "  \n",
       "    function run_callbacks() {\n",
       "      window._bokeh_onload_callbacks.forEach(function(callback) { callback() });\n",
       "      delete window._bokeh_onload_callbacks\n",
       "      console.info(\"Bokeh: all callbacks have finished\");\n",
       "    }\n",
       "  \n",
       "    function load_libs(js_urls, callback) {\n",
       "      window._bokeh_onload_callbacks.push(callback);\n",
       "      if (window._bokeh_is_loading > 0) {\n",
       "        console.log(\"Bokeh: BokehJS is being loaded, scheduling callback at\", now());\n",
       "        return null;\n",
       "      }\n",
       "      if (js_urls == null || js_urls.length === 0) {\n",
       "        run_callbacks();\n",
       "        return null;\n",
       "      }\n",
       "      console.log(\"Bokeh: BokehJS not loaded, scheduling load and callback at\", now());\n",
       "      window._bokeh_is_loading = js_urls.length;\n",
       "      for (var i = 0; i < js_urls.length; i++) {\n",
       "        var url = js_urls[i];\n",
       "        var s = document.createElement('script');\n",
       "        s.src = url;\n",
       "        s.async = false;\n",
       "        s.onreadystatechange = s.onload = function() {\n",
       "          window._bokeh_is_loading--;\n",
       "          if (window._bokeh_is_loading === 0) {\n",
       "            console.log(\"Bokeh: all BokehJS libraries loaded\");\n",
       "            run_callbacks()\n",
       "          }\n",
       "        };\n",
       "        s.onerror = function() {\n",
       "          console.warn(\"failed to load library \" + url);\n",
       "        };\n",
       "        console.log(\"Bokeh: injecting script tag for BokehJS library: \", url);\n",
       "        document.getElementsByTagName(\"head\")[0].appendChild(s);\n",
       "      }\n",
       "    };var element = document.getElementById(\"74b2c102-8c2f-4db4-9ff7-e4a83bfbb245\");\n",
       "    if (element == null) {\n",
       "      console.log(\"Bokeh: ERROR: autoload.js configured with elementid '74b2c102-8c2f-4db4-9ff7-e4a83bfbb245' but no matching script tag was found. \")\n",
       "      return false;\n",
       "    }\n",
       "  \n",
       "    var js_urls = [];\n",
       "  \n",
       "    var inline_js = [\n",
       "      function(Bokeh) {\n",
       "        (function() {\n",
       "          var fn = function() {\n",
       "            var docs_json = {\"8d7c8044-59fa-438f-a701-b7fe06998b02\":{\"roots\":{\"references\":[{\"attributes\":{\"data_source\":{\"id\":\"8bd8100d-51e2-4805-b1b6-c8d38a9f1009\",\"type\":\"ColumnDataSource\"},\"glyph\":{\"id\":\"c9db8f94-6cf8-465e-9660-3b6c88945d13\",\"type\":\"Circle\"},\"hover_glyph\":null,\"nonselection_glyph\":{\"id\":\"4aed47c1-12ab-463c-b793-66f26bc354dd\",\"type\":\"Circle\"},\"selection_glyph\":null},\"id\":\"ce425dbe-3f5e-4ab7-8d3b-ffbb450946d4\",\"type\":\"GlyphRenderer\"},{\"attributes\":{\"plot\":null,\"text\":\"\"},\"id\":\"9680d2f7-bd4d-4b96-8a6a-8126f3d52f5d\",\"type\":\"Title\"},{\"attributes\":{\"fill_alpha\":{\"value\":0.1},\"fill_color\":{\"value\":\"#1f77b4\"},\"line_alpha\":{\"value\":0.1},\"line_color\":{\"value\":\"#1f77b4\"},\"x\":{\"field\":\"x\"},\"y\":{\"field\":\"y\"}},\"id\":\"4aed47c1-12ab-463c-b793-66f26bc354dd\",\"type\":\"Circle\"},{\"attributes\":{},\"id\":\"0444a97e-d1a6-47c8-b519-b8a0ea234af4\",\"type\":\"BasicTickFormatter\"},{\"attributes\":{},\"id\":\"ec40fb47-c001-425d-b6e0-b15019ac3fdb\",\"type\":\"BasicTickFormatter\"},{\"attributes\":{\"below\":[{\"id\":\"74c9e3b5-12aa-4f48-b9a7-c62caadc77f1\",\"type\":\"LinearAxis\"}],\"left\":[{\"id\":\"6baaa563-43e6-44d0-b6bd-434e7e23519f\",\"type\":\"LinearAxis\"}],\"plot_height\":400,\"plot_width\":400,\"renderers\":[{\"id\":\"74c9e3b5-12aa-4f48-b9a7-c62caadc77f1\",\"type\":\"LinearAxis\"},{\"id\":\"6c300827-b31f-43a1-8895-2767ceb931ab\",\"type\":\"Grid\"},{\"id\":\"6baaa563-43e6-44d0-b6bd-434e7e23519f\",\"type\":\"LinearAxis\"},{\"id\":\"81851bae-adab-4833-b3ce-d4ebfc284246\",\"type\":\"Grid\"},{\"id\":\"f6c15f64-8c81-423d-8506-0f00eaa39646\",\"type\":\"BoxAnnotation\"},{\"id\":\"ce425dbe-3f5e-4ab7-8d3b-ffbb450946d4\",\"type\":\"GlyphRenderer\"}],\"title\":{\"id\":\"9680d2f7-bd4d-4b96-8a6a-8126f3d52f5d\",\"type\":\"Title\"},\"tool_events\":{\"id\":\"d0131b4e-30d6-47c1-aa4e-70f24c884ec9\",\"type\":\"ToolEvents\"},\"toolbar\":{\"id\":\"1254cc8b-e214-47c7-a70e-a67fd0fd3e73\",\"type\":\"Toolbar\"},\"x_range\":{\"id\":\"a0618ef5-2652-4b34-9c8d-2bb684225458\",\"type\":\"DataRange1d\"},\"y_range\":{\"id\":\"d72e187d-46ba-4e2f-a835-bf2ae42a42f8\",\"type\":\"DataRange1d\"}},\"id\":\"46baedd0-c33b-4463-bfe5-52d5ee698a42\",\"subtype\":\"Figure\",\"type\":\"Plot\"},{\"attributes\":{\"active_drag\":\"auto\",\"active_scroll\":\"auto\",\"active_tap\":\"auto\",\"tools\":[{\"id\":\"efb1dc96-c6b1-47e5-a7d7-913f212d8485\",\"type\":\"PanTool\"},{\"id\":\"9b62cbf7-8bd0-4599-b01c-a9b6c5ab74cc\",\"type\":\"WheelZoomTool\"},{\"id\":\"40de7221-1eab-4adc-b236-d7af7c9c4375\",\"type\":\"BoxZoomTool\"},{\"id\":\"b00638a0-212e-4d7b-8585-c88ba1516330\",\"type\":\"SaveTool\"},{\"id\":\"f87388e1-b770-4408-8099-8c91e62dfc8e\",\"type\":\"ResetTool\"},{\"id\":\"95ab3c57-e8a1-48fc-af11-0f9a9ac7fa13\",\"type\":\"HelpTool\"}]},\"id\":\"1254cc8b-e214-47c7-a70e-a67fd0fd3e73\",\"type\":\"Toolbar\"},{\"attributes\":{\"plot\":{\"id\":\"46baedd0-c33b-4463-bfe5-52d5ee698a42\",\"subtype\":\"Figure\",\"type\":\"Plot\"},\"ticker\":{\"id\":\"7c8cb0af-dac1-40d0-92b3-3ddacfa58e51\",\"type\":\"BasicTicker\"}},\"id\":\"6c300827-b31f-43a1-8895-2767ceb931ab\",\"type\":\"Grid\"},{\"attributes\":{\"callback\":null},\"id\":\"a0618ef5-2652-4b34-9c8d-2bb684225458\",\"type\":\"DataRange1d\"},{\"attributes\":{},\"id\":\"d0131b4e-30d6-47c1-aa4e-70f24c884ec9\",\"type\":\"ToolEvents\"},{\"attributes\":{\"overlay\":{\"id\":\"f6c15f64-8c81-423d-8506-0f00eaa39646\",\"type\":\"BoxAnnotation\"},\"plot\":{\"id\":\"46baedd0-c33b-4463-bfe5-52d5ee698a42\",\"subtype\":\"Figure\",\"type\":\"Plot\"}},\"id\":\"40de7221-1eab-4adc-b236-d7af7c9c4375\",\"type\":\"BoxZoomTool\"},{\"attributes\":{\"plot\":{\"id\":\"46baedd0-c33b-4463-bfe5-52d5ee698a42\",\"subtype\":\"Figure\",\"type\":\"Plot\"}},\"id\":\"9b62cbf7-8bd0-4599-b01c-a9b6c5ab74cc\",\"type\":\"WheelZoomTool\"},{\"attributes\":{\"plot\":{\"id\":\"46baedd0-c33b-4463-bfe5-52d5ee698a42\",\"subtype\":\"Figure\",\"type\":\"Plot\"}},\"id\":\"efb1dc96-c6b1-47e5-a7d7-913f212d8485\",\"type\":\"PanTool\"},{\"attributes\":{\"plot\":{\"id\":\"46baedd0-c33b-4463-bfe5-52d5ee698a42\",\"subtype\":\"Figure\",\"type\":\"Plot\"}},\"id\":\"95ab3c57-e8a1-48fc-af11-0f9a9ac7fa13\",\"type\":\"HelpTool\"},{\"attributes\":{\"formatter\":{\"id\":\"ec40fb47-c001-425d-b6e0-b15019ac3fdb\",\"type\":\"BasicTickFormatter\"},\"plot\":{\"id\":\"46baedd0-c33b-4463-bfe5-52d5ee698a42\",\"subtype\":\"Figure\",\"type\":\"Plot\"},\"ticker\":{\"id\":\"df6d818f-ba2f-4547-8063-fc1fe7656ac0\",\"type\":\"BasicTicker\"}},\"id\":\"6baaa563-43e6-44d0-b6bd-434e7e23519f\",\"type\":\"LinearAxis\"},{\"attributes\":{\"callback\":null},\"id\":\"d72e187d-46ba-4e2f-a835-bf2ae42a42f8\",\"type\":\"DataRange1d\"},{\"attributes\":{\"bottom_units\":\"screen\",\"fill_alpha\":{\"value\":0.5},\"fill_color\":{\"value\":\"lightgrey\"},\"left_units\":\"screen\",\"level\":\"overlay\",\"line_alpha\":{\"value\":1.0},\"line_color\":{\"value\":\"black\"},\"line_dash\":[4,4],\"line_width\":{\"value\":2},\"plot\":null,\"render_mode\":\"css\",\"right_units\":\"screen\",\"top_units\":\"screen\"},\"id\":\"f6c15f64-8c81-423d-8506-0f00eaa39646\",\"type\":\"BoxAnnotation\"},{\"attributes\":{\"callback\":null,\"column_names\":[\"x\",\"y\"],\"data\":{\"x\":[1,2,3,4,5],\"y\":[2,5,8,2,7]}},\"id\":\"8bd8100d-51e2-4805-b1b6-c8d38a9f1009\",\"type\":\"ColumnDataSource\"},{\"attributes\":{},\"id\":\"df6d818f-ba2f-4547-8063-fc1fe7656ac0\",\"type\":\"BasicTicker\"},{\"attributes\":{\"plot\":{\"id\":\"46baedd0-c33b-4463-bfe5-52d5ee698a42\",\"subtype\":\"Figure\",\"type\":\"Plot\"}},\"id\":\"b00638a0-212e-4d7b-8585-c88ba1516330\",\"type\":\"SaveTool\"},{\"attributes\":{\"plot\":{\"id\":\"46baedd0-c33b-4463-bfe5-52d5ee698a42\",\"subtype\":\"Figure\",\"type\":\"Plot\"}},\"id\":\"f87388e1-b770-4408-8099-8c91e62dfc8e\",\"type\":\"ResetTool\"},{\"attributes\":{\"dimension\":1,\"plot\":{\"id\":\"46baedd0-c33b-4463-bfe5-52d5ee698a42\",\"subtype\":\"Figure\",\"type\":\"Plot\"},\"ticker\":{\"id\":\"df6d818f-ba2f-4547-8063-fc1fe7656ac0\",\"type\":\"BasicTicker\"}},\"id\":\"81851bae-adab-4833-b3ce-d4ebfc284246\",\"type\":\"Grid\"},{\"attributes\":{},\"id\":\"7c8cb0af-dac1-40d0-92b3-3ddacfa58e51\",\"type\":\"BasicTicker\"},{\"attributes\":{\"fill_alpha\":{\"value\":0.5},\"fill_color\":{\"value\":\"#1f77b4\"},\"line_color\":{\"value\":\"firebrick\"},\"line_dash\":[5,10],\"line_width\":{\"value\":3},\"size\":{\"units\":\"screen\",\"value\":50},\"x\":{\"field\":\"x\"},\"y\":{\"field\":\"y\"}},\"id\":\"c9db8f94-6cf8-465e-9660-3b6c88945d13\",\"type\":\"Circle\"},{\"attributes\":{\"formatter\":{\"id\":\"0444a97e-d1a6-47c8-b519-b8a0ea234af4\",\"type\":\"BasicTickFormatter\"},\"plot\":{\"id\":\"46baedd0-c33b-4463-bfe5-52d5ee698a42\",\"subtype\":\"Figure\",\"type\":\"Plot\"},\"ticker\":{\"id\":\"7c8cb0af-dac1-40d0-92b3-3ddacfa58e51\",\"type\":\"BasicTicker\"}},\"id\":\"74c9e3b5-12aa-4f48-b9a7-c62caadc77f1\",\"type\":\"LinearAxis\"}],\"root_ids\":[\"46baedd0-c33b-4463-bfe5-52d5ee698a42\"]},\"title\":\"Bokeh Application\",\"version\":\"0.12.4\"}};\n",
       "            var render_items = [{\"docid\":\"8d7c8044-59fa-438f-a701-b7fe06998b02\",\"elementid\":\"74b2c102-8c2f-4db4-9ff7-e4a83bfbb245\",\"modelid\":\"46baedd0-c33b-4463-bfe5-52d5ee698a42\"}];\n",
       "            \n",
       "            Bokeh.embed.embed_items(docs_json, render_items);\n",
       "          };\n",
       "          if (document.readyState != \"loading\") fn();\n",
       "          else document.addEventListener(\"DOMContentLoaded\", fn);\n",
       "        })();\n",
       "      },\n",
       "      function(Bokeh) {\n",
       "      }\n",
       "    ];\n",
       "  \n",
       "    function run_inline_js() {\n",
       "      \n",
       "      if ((window.Bokeh !== undefined) || (force === true)) {\n",
       "        for (var i = 0; i < inline_js.length; i++) {\n",
       "          inline_js[i](window.Bokeh);\n",
       "        }if (force === true) {\n",
       "          display_loaded();\n",
       "        }} else if (Date.now() < window._bokeh_timeout) {\n",
       "        setTimeout(run_inline_js, 100);\n",
       "      } else if (!window._bokeh_failed_load) {\n",
       "        console.log(\"Bokeh: BokehJS failed to load within specified timeout.\");\n",
       "        window._bokeh_failed_load = true;\n",
       "      } else if (force !== true) {\n",
       "        var cell = $(document.getElementById(\"74b2c102-8c2f-4db4-9ff7-e4a83bfbb245\")).parents('.cell').data().cell;\n",
       "        cell.output_area.append_execute_result(NB_LOAD_WARNING)\n",
       "      }\n",
       "  \n",
       "    }\n",
       "  \n",
       "    if (window._bokeh_is_loading === 0) {\n",
       "      console.log(\"Bokeh: BokehJS loaded, going straight to plotting\");\n",
       "      run_inline_js();\n",
       "    } else {\n",
       "      load_libs(js_urls, function() {\n",
       "        console.log(\"Bokeh: BokehJS plotting callback run at\", now());\n",
       "        run_inline_js();\n",
       "      });\n",
       "    }\n",
       "  }(this));\n",
       "</script>"
      ]
     },
     "metadata": {},
     "output_type": "display_data"
    }
   ],
   "source": [
    "show(p)"
   ]
  },
  {
   "cell_type": "markdown",
   "metadata": {},
   "source": [
    "### Selection and non-selection visuals\n",
    "\n",
    "You can also control how glyphs look when there are selections involved. The set of \"selected\" points is displayed according to the optional `.selection_glyph` property of a `GlyphRenderer`:\n",
    "```python\n",
    "r.selection_glyph = Circle(fill_alpha=1, fill_color=\"firebrick\", line_color=None) \n",
    "```\n",
    "When there is a non-empty selection, the set of \"unselected: points is displayed according to the optional  `.nonselection_glyph` property of a `GlyphRenderer`:\n",
    "```python\n",
    "r.nonselection_glyph = Circle(fill_alpha=0.2, fill_color=\"grey\", line_color=None) \n",
    "```\n",
    "\n",
    "When using the `bokeh.plotting` interface, it is easier to pass these visual properties to the glyph methods as shown below. The glyph method will create the selection or nonselection glyphs and attach them to the renderer for you. "
   ]
  },
  {
   "cell_type": "code",
   "execution_count": 18,
   "metadata": {
    "collapsed": true
   },
   "outputs": [],
   "source": [
    "p = figure(plot_width=400, plot_height=400, \n",
    "           tools=\"tap\", title=\"Select a circle\")"
   ]
  },
  {
   "cell_type": "code",
   "execution_count": 19,
   "metadata": {
    "collapsed": true
   },
   "outputs": [],
   "source": [
    "renderer = p.circle([1, 2, 3, 4, 5], [2, 5, 8, 2, 7], size=50,\n",
    "\n",
    "                    # set visual properties for selected glyphs\n",
    "                    selection_color=\"firebrick\",\n",
    "\n",
    "                    # set visual properties for non-selected glyphs\n",
    "                    nonselection_fill_alpha=0.2,\n",
    "                    nonselection_fill_color=\"grey\",\n",
    "                    nonselection_line_color=\"firebrick\",\n",
    "                    nonselection_line_alpha=1.0)"
   ]
  },
  {
   "cell_type": "code",
   "execution_count": 20,
   "metadata": {
    "collapsed": false
   },
   "outputs": [
    {
     "data": {
      "text/html": [
       "\n",
       "\n",
       "    <div class=\"bk-root\">\n",
       "        <div class=\"bk-plotdiv\" id=\"854e6036-b01e-420b-a116-1f4ac9d00c83\"></div>\n",
       "    </div>\n",
       "<script type=\"text/javascript\">\n",
       "  \n",
       "  (function(global) {\n",
       "    function now() {\n",
       "      return new Date();\n",
       "    }\n",
       "  \n",
       "    var force = false;\n",
       "  \n",
       "    if (typeof (window._bokeh_onload_callbacks) === \"undefined\" || force === true) {\n",
       "      window._bokeh_onload_callbacks = [];\n",
       "      window._bokeh_is_loading = undefined;\n",
       "    }\n",
       "  \n",
       "  \n",
       "    \n",
       "    if (typeof (window._bokeh_timeout) === \"undefined\" || force === true) {\n",
       "      window._bokeh_timeout = Date.now() + 0;\n",
       "      window._bokeh_failed_load = false;\n",
       "    }\n",
       "  \n",
       "    var NB_LOAD_WARNING = {'data': {'text/html':\n",
       "       \"<div style='background-color: #fdd'>\\n\"+\n",
       "       \"<p>\\n\"+\n",
       "       \"BokehJS does not appear to have successfully loaded. If loading BokehJS from CDN, this \\n\"+\n",
       "       \"may be due to a slow or bad network connection. Possible fixes:\\n\"+\n",
       "       \"</p>\\n\"+\n",
       "       \"<ul>\\n\"+\n",
       "       \"<li>re-rerun `output_notebook()` to attempt to load from CDN again, or</li>\\n\"+\n",
       "       \"<li>use INLINE resources instead, as so:</li>\\n\"+\n",
       "       \"</ul>\\n\"+\n",
       "       \"<code>\\n\"+\n",
       "       \"from bokeh.resources import INLINE\\n\"+\n",
       "       \"output_notebook(resources=INLINE)\\n\"+\n",
       "       \"</code>\\n\"+\n",
       "       \"</div>\"}};\n",
       "  \n",
       "    function display_loaded() {\n",
       "      if (window.Bokeh !== undefined) {\n",
       "        document.getElementById(\"854e6036-b01e-420b-a116-1f4ac9d00c83\").textContent = \"BokehJS successfully loaded.\";\n",
       "      } else if (Date.now() < window._bokeh_timeout) {\n",
       "        setTimeout(display_loaded, 100)\n",
       "      }\n",
       "    }\n",
       "  \n",
       "    function run_callbacks() {\n",
       "      window._bokeh_onload_callbacks.forEach(function(callback) { callback() });\n",
       "      delete window._bokeh_onload_callbacks\n",
       "      console.info(\"Bokeh: all callbacks have finished\");\n",
       "    }\n",
       "  \n",
       "    function load_libs(js_urls, callback) {\n",
       "      window._bokeh_onload_callbacks.push(callback);\n",
       "      if (window._bokeh_is_loading > 0) {\n",
       "        console.log(\"Bokeh: BokehJS is being loaded, scheduling callback at\", now());\n",
       "        return null;\n",
       "      }\n",
       "      if (js_urls == null || js_urls.length === 0) {\n",
       "        run_callbacks();\n",
       "        return null;\n",
       "      }\n",
       "      console.log(\"Bokeh: BokehJS not loaded, scheduling load and callback at\", now());\n",
       "      window._bokeh_is_loading = js_urls.length;\n",
       "      for (var i = 0; i < js_urls.length; i++) {\n",
       "        var url = js_urls[i];\n",
       "        var s = document.createElement('script');\n",
       "        s.src = url;\n",
       "        s.async = false;\n",
       "        s.onreadystatechange = s.onload = function() {\n",
       "          window._bokeh_is_loading--;\n",
       "          if (window._bokeh_is_loading === 0) {\n",
       "            console.log(\"Bokeh: all BokehJS libraries loaded\");\n",
       "            run_callbacks()\n",
       "          }\n",
       "        };\n",
       "        s.onerror = function() {\n",
       "          console.warn(\"failed to load library \" + url);\n",
       "        };\n",
       "        console.log(\"Bokeh: injecting script tag for BokehJS library: \", url);\n",
       "        document.getElementsByTagName(\"head\")[0].appendChild(s);\n",
       "      }\n",
       "    };var element = document.getElementById(\"854e6036-b01e-420b-a116-1f4ac9d00c83\");\n",
       "    if (element == null) {\n",
       "      console.log(\"Bokeh: ERROR: autoload.js configured with elementid '854e6036-b01e-420b-a116-1f4ac9d00c83' but no matching script tag was found. \")\n",
       "      return false;\n",
       "    }\n",
       "  \n",
       "    var js_urls = [];\n",
       "  \n",
       "    var inline_js = [\n",
       "      function(Bokeh) {\n",
       "        (function() {\n",
       "          var fn = function() {\n",
       "            var docs_json = {\"657c0a30-e1e3-45a3-936d-ba668b6decb2\":{\"roots\":{\"references\":[{\"attributes\":{\"plot\":{\"id\":\"ef9442e9-555c-42f5-9fe4-8f93d80874ee\",\"subtype\":\"Figure\",\"type\":\"Plot\"},\"ticker\":{\"id\":\"8a663b7a-5180-4a1c-a36d-878580f32509\",\"type\":\"BasicTicker\"}},\"id\":\"2eb9eac3-98ef-4993-86fd-d5135e170527\",\"type\":\"Grid\"},{\"attributes\":{\"callback\":null,\"plot\":{\"id\":\"ef9442e9-555c-42f5-9fe4-8f93d80874ee\",\"subtype\":\"Figure\",\"type\":\"Plot\"}},\"id\":\"49c99ec8-4d95-4f4a-8b04-b945554849ef\",\"type\":\"TapTool\"},{\"attributes\":{\"formatter\":{\"id\":\"40e01d21-743a-4e1d-839b-ae53b57df784\",\"type\":\"BasicTickFormatter\"},\"plot\":{\"id\":\"ef9442e9-555c-42f5-9fe4-8f93d80874ee\",\"subtype\":\"Figure\",\"type\":\"Plot\"},\"ticker\":{\"id\":\"39870cb5-f7e2-4239-be3c-99a206e5e963\",\"type\":\"BasicTicker\"}},\"id\":\"19920215-85ea-4b7f-a569-4ccf49b39481\",\"type\":\"LinearAxis\"},{\"attributes\":{},\"id\":\"39870cb5-f7e2-4239-be3c-99a206e5e963\",\"type\":\"BasicTicker\"},{\"attributes\":{\"dimension\":1,\"plot\":{\"id\":\"ef9442e9-555c-42f5-9fe4-8f93d80874ee\",\"subtype\":\"Figure\",\"type\":\"Plot\"},\"ticker\":{\"id\":\"39870cb5-f7e2-4239-be3c-99a206e5e963\",\"type\":\"BasicTicker\"}},\"id\":\"9fef79bd-f2cd-4996-ae5b-18e5440edc33\",\"type\":\"Grid\"},{\"attributes\":{},\"id\":\"8a663b7a-5180-4a1c-a36d-878580f32509\",\"type\":\"BasicTicker\"},{\"attributes\":{\"fill_alpha\":{\"value\":0.2},\"fill_color\":{\"value\":\"grey\"},\"line_color\":{\"value\":\"firebrick\"},\"size\":{\"units\":\"screen\",\"value\":50},\"x\":{\"field\":\"x\"},\"y\":{\"field\":\"y\"}},\"id\":\"07c02617-e2b2-45ae-9c33-55904b6832b6\",\"type\":\"Circle\"},{\"attributes\":{\"callback\":null},\"id\":\"debdead7-105a-40e0-b82c-0ccc38596767\",\"type\":\"DataRange1d\"},{\"attributes\":{\"formatter\":{\"id\":\"5ad104ba-4824-4895-8a64-40b5151bdb96\",\"type\":\"BasicTickFormatter\"},\"plot\":{\"id\":\"ef9442e9-555c-42f5-9fe4-8f93d80874ee\",\"subtype\":\"Figure\",\"type\":\"Plot\"},\"ticker\":{\"id\":\"8a663b7a-5180-4a1c-a36d-878580f32509\",\"type\":\"BasicTicker\"}},\"id\":\"cd222ae7-576d-41fa-902e-7f6608302442\",\"type\":\"LinearAxis\"},{\"attributes\":{\"plot\":null,\"text\":\"Select a circle\"},\"id\":\"e4c26850-0e21-428b-af3f-14ad1c1ccd98\",\"type\":\"Title\"},{\"attributes\":{},\"id\":\"0bdd3f31-3a73-4ce4-a49e-6ef7d86a490a\",\"type\":\"ToolEvents\"},{\"attributes\":{\"callback\":null,\"column_names\":[\"x\",\"y\"],\"data\":{\"x\":[1,2,3,4,5],\"y\":[2,5,8,2,7]}},\"id\":\"1aa8d214-b07d-46bf-871a-5d0f93888349\",\"type\":\"ColumnDataSource\"},{\"attributes\":{\"fill_color\":{\"value\":\"#1f77b4\"},\"line_color\":{\"value\":\"#1f77b4\"},\"size\":{\"units\":\"screen\",\"value\":50},\"x\":{\"field\":\"x\"},\"y\":{\"field\":\"y\"}},\"id\":\"dd52b29d-8412-4927-970b-b3531edb8999\",\"type\":\"Circle\"},{\"attributes\":{\"active_drag\":\"auto\",\"active_scroll\":\"auto\",\"active_tap\":\"auto\",\"tools\":[{\"id\":\"49c99ec8-4d95-4f4a-8b04-b945554849ef\",\"type\":\"TapTool\"}]},\"id\":\"df71d4c7-b872-4fa5-9250-634bb1efc01a\",\"type\":\"Toolbar\"},{\"attributes\":{\"fill_color\":{\"value\":\"firebrick\"},\"line_color\":{\"value\":\"firebrick\"},\"size\":{\"units\":\"screen\",\"value\":50},\"x\":{\"field\":\"x\"},\"y\":{\"field\":\"y\"}},\"id\":\"dce1d823-b95f-4d2d-9f13-cd394364a139\",\"type\":\"Circle\"},{\"attributes\":{\"data_source\":{\"id\":\"1aa8d214-b07d-46bf-871a-5d0f93888349\",\"type\":\"ColumnDataSource\"},\"glyph\":{\"id\":\"dd52b29d-8412-4927-970b-b3531edb8999\",\"type\":\"Circle\"},\"hover_glyph\":null,\"nonselection_glyph\":{\"id\":\"07c02617-e2b2-45ae-9c33-55904b6832b6\",\"type\":\"Circle\"},\"selection_glyph\":{\"id\":\"dce1d823-b95f-4d2d-9f13-cd394364a139\",\"type\":\"Circle\"}},\"id\":\"0cedad3b-5bde-49a4-8499-202d297a474f\",\"type\":\"GlyphRenderer\"},{\"attributes\":{\"callback\":null},\"id\":\"f9c8ff46-3d10-4f37-9379-1c94fd960636\",\"type\":\"DataRange1d\"},{\"attributes\":{},\"id\":\"5ad104ba-4824-4895-8a64-40b5151bdb96\",\"type\":\"BasicTickFormatter\"},{\"attributes\":{},\"id\":\"40e01d21-743a-4e1d-839b-ae53b57df784\",\"type\":\"BasicTickFormatter\"},{\"attributes\":{\"below\":[{\"id\":\"cd222ae7-576d-41fa-902e-7f6608302442\",\"type\":\"LinearAxis\"}],\"left\":[{\"id\":\"19920215-85ea-4b7f-a569-4ccf49b39481\",\"type\":\"LinearAxis\"}],\"plot_height\":400,\"plot_width\":400,\"renderers\":[{\"id\":\"cd222ae7-576d-41fa-902e-7f6608302442\",\"type\":\"LinearAxis\"},{\"id\":\"2eb9eac3-98ef-4993-86fd-d5135e170527\",\"type\":\"Grid\"},{\"id\":\"19920215-85ea-4b7f-a569-4ccf49b39481\",\"type\":\"LinearAxis\"},{\"id\":\"9fef79bd-f2cd-4996-ae5b-18e5440edc33\",\"type\":\"Grid\"},{\"id\":\"0cedad3b-5bde-49a4-8499-202d297a474f\",\"type\":\"GlyphRenderer\"}],\"title\":{\"id\":\"e4c26850-0e21-428b-af3f-14ad1c1ccd98\",\"type\":\"Title\"},\"tool_events\":{\"id\":\"0bdd3f31-3a73-4ce4-a49e-6ef7d86a490a\",\"type\":\"ToolEvents\"},\"toolbar\":{\"id\":\"df71d4c7-b872-4fa5-9250-634bb1efc01a\",\"type\":\"Toolbar\"},\"x_range\":{\"id\":\"f9c8ff46-3d10-4f37-9379-1c94fd960636\",\"type\":\"DataRange1d\"},\"y_range\":{\"id\":\"debdead7-105a-40e0-b82c-0ccc38596767\",\"type\":\"DataRange1d\"}},\"id\":\"ef9442e9-555c-42f5-9fe4-8f93d80874ee\",\"subtype\":\"Figure\",\"type\":\"Plot\"}],\"root_ids\":[\"ef9442e9-555c-42f5-9fe4-8f93d80874ee\"]},\"title\":\"Bokeh Application\",\"version\":\"0.12.4\"}};\n",
       "            var render_items = [{\"docid\":\"657c0a30-e1e3-45a3-936d-ba668b6decb2\",\"elementid\":\"854e6036-b01e-420b-a116-1f4ac9d00c83\",\"modelid\":\"ef9442e9-555c-42f5-9fe4-8f93d80874ee\"}];\n",
       "            \n",
       "            Bokeh.embed.embed_items(docs_json, render_items);\n",
       "          };\n",
       "          if (document.readyState != \"loading\") fn();\n",
       "          else document.addEventListener(\"DOMContentLoaded\", fn);\n",
       "        })();\n",
       "      },\n",
       "      function(Bokeh) {\n",
       "      }\n",
       "    ];\n",
       "  \n",
       "    function run_inline_js() {\n",
       "      \n",
       "      if ((window.Bokeh !== undefined) || (force === true)) {\n",
       "        for (var i = 0; i < inline_js.length; i++) {\n",
       "          inline_js[i](window.Bokeh);\n",
       "        }if (force === true) {\n",
       "          display_loaded();\n",
       "        }} else if (Date.now() < window._bokeh_timeout) {\n",
       "        setTimeout(run_inline_js, 100);\n",
       "      } else if (!window._bokeh_failed_load) {\n",
       "        console.log(\"Bokeh: BokehJS failed to load within specified timeout.\");\n",
       "        window._bokeh_failed_load = true;\n",
       "      } else if (force !== true) {\n",
       "        var cell = $(document.getElementById(\"854e6036-b01e-420b-a116-1f4ac9d00c83\")).parents('.cell').data().cell;\n",
       "        cell.output_area.append_execute_result(NB_LOAD_WARNING)\n",
       "      }\n",
       "  \n",
       "    }\n",
       "  \n",
       "    if (window._bokeh_is_loading === 0) {\n",
       "      console.log(\"Bokeh: BokehJS loaded, going straight to plotting\");\n",
       "      run_inline_js();\n",
       "    } else {\n",
       "      load_libs(js_urls, function() {\n",
       "        console.log(\"Bokeh: BokehJS plotting callback run at\", now());\n",
       "        run_inline_js();\n",
       "      });\n",
       "    }\n",
       "  }(this));\n",
       "</script>"
      ]
     },
     "metadata": {},
     "output_type": "display_data"
    }
   ],
   "source": [
    "show(p)"
   ]
  },
  {
   "cell_type": "markdown",
   "metadata": {},
   "source": [
    "It is also possible to specify the visual appearance of glyphs when they are \"inspected\", e.g. by a hover tool. This is accomplished by setting an optional `hover_glyph` on the glyph renderer:\n",
    "```python\n",
    "r.hover_glyph = Circle(fill_alpha=1, fill_color=\"firebrick\", line_color=None) \n",
    "```\n",
    "Or if using `bokeh.plotting` glyph methods, by passing `hover_fill_alpha`, etc. to the glyph method. Lets look at an example that works together with a `HoverTool` configured for \"hline\" hit-testing."
   ]
  },
  {
   "cell_type": "code",
   "execution_count": 45,
   "metadata": {
    "collapsed": true
   },
   "outputs": [],
   "source": [
    "from bokeh.models.tools import HoverTool\n",
    "from bokeh.sampledata.glucose import data"
   ]
  },
  {
   "cell_type": "code",
   "execution_count": 46,
   "metadata": {
    "collapsed": true
   },
   "outputs": [],
   "source": [
    "subset = data.ix['2010-10-06']"
   ]
  },
  {
   "cell_type": "code",
   "execution_count": 47,
   "metadata": {
    "collapsed": true
   },
   "outputs": [],
   "source": [
    "x, y = subset.index.to_series(), subset['glucose']"
   ]
  },
  {
   "cell_type": "code",
   "execution_count": 48,
   "metadata": {
    "collapsed": true
   },
   "outputs": [],
   "source": [
    "# Basic plot setup\n",
    "p = figure(width=600, height=300, x_axis_type=\"datetime\", tools=\"\",\n",
    "              toolbar_location=None, title='Hover over points')"
   ]
  },
  {
   "cell_type": "code",
   "execution_count": 49,
   "metadata": {
    "collapsed": false
   },
   "outputs": [
    {
     "data": {
      "text/html": [
       "<div style=\"display: table;\"><div style=\"display: table-row;\"><div style=\"display: table-cell;\"><b title=\"bokeh.models.renderers.GlyphRenderer\">GlyphRenderer</b>(</div><div style=\"display: table-cell;\">id&nbsp;=&nbsp;'ceda89c5-3249-4561-8ee0-9c76e23f9684', <span id=\"a0f21ab5-a340-444a-a592-222cc6375a2d\" style=\"cursor: pointer;\">&hellip;)</span></div></div><div class=\"5be43dd4-c2d1-4107-8525-766a07c09030\" style=\"display: none;\"><div style=\"display: table-cell;\"></div><div style=\"display: table-cell;\">data_source&nbsp;=&nbsp;ColumnDataSource(id='e7eac5ce-6185-488c-95d8-f13c01f18101', ...),</div></div><div class=\"5be43dd4-c2d1-4107-8525-766a07c09030\" style=\"display: none;\"><div style=\"display: table-cell;\"></div><div style=\"display: table-cell;\">glyph&nbsp;=&nbsp;Line(id='5cf39af0-e445-41dd-987b-561465ee6d1d', ...),</div></div><div class=\"5be43dd4-c2d1-4107-8525-766a07c09030\" style=\"display: none;\"><div style=\"display: table-cell;\"></div><div style=\"display: table-cell;\">hover_glyph&nbsp;=&nbsp;None,</div></div><div class=\"5be43dd4-c2d1-4107-8525-766a07c09030\" style=\"display: none;\"><div style=\"display: table-cell;\"></div><div style=\"display: table-cell;\">js_callbacks&nbsp;=&nbsp;{},</div></div><div class=\"5be43dd4-c2d1-4107-8525-766a07c09030\" style=\"display: none;\"><div style=\"display: table-cell;\"></div><div style=\"display: table-cell;\">level&nbsp;=&nbsp;'glyph',</div></div><div class=\"5be43dd4-c2d1-4107-8525-766a07c09030\" style=\"display: none;\"><div style=\"display: table-cell;\"></div><div style=\"display: table-cell;\">name&nbsp;=&nbsp;None,</div></div><div class=\"5be43dd4-c2d1-4107-8525-766a07c09030\" style=\"display: none;\"><div style=\"display: table-cell;\"></div><div style=\"display: table-cell;\">nonselection_glyph&nbsp;=&nbsp;Line(id='f900826b-b3ab-445a-bc33-bf98f9fa013a', ...),</div></div><div class=\"5be43dd4-c2d1-4107-8525-766a07c09030\" style=\"display: none;\"><div style=\"display: table-cell;\"></div><div style=\"display: table-cell;\">selection_glyph&nbsp;=&nbsp;None,</div></div><div class=\"5be43dd4-c2d1-4107-8525-766a07c09030\" style=\"display: none;\"><div style=\"display: table-cell;\"></div><div style=\"display: table-cell;\">tags&nbsp;=&nbsp;[],</div></div><div class=\"5be43dd4-c2d1-4107-8525-766a07c09030\" style=\"display: none;\"><div style=\"display: table-cell;\"></div><div style=\"display: table-cell;\">visible&nbsp;=&nbsp;True,</div></div><div class=\"5be43dd4-c2d1-4107-8525-766a07c09030\" style=\"display: none;\"><div style=\"display: table-cell;\"></div><div style=\"display: table-cell;\">x_range_name&nbsp;=&nbsp;'default',</div></div><div class=\"5be43dd4-c2d1-4107-8525-766a07c09030\" style=\"display: none;\"><div style=\"display: table-cell;\"></div><div style=\"display: table-cell;\">y_range_name&nbsp;=&nbsp;'default')</div></div></div>\n",
       "<script>\n",
       "(function() {\n",
       "  var expanded = false;\n",
       "  var ellipsis = document.getElementById(\"a0f21ab5-a340-444a-a592-222cc6375a2d\");\n",
       "  ellipsis.addEventListener(\"click\", function() {\n",
       "    var rows = document.getElementsByClassName(\"5be43dd4-c2d1-4107-8525-766a07c09030\");\n",
       "    for (var i = 0; i < rows.length; i++) {\n",
       "      var el = rows[i];\n",
       "      el.style.display = expanded ? \"none\" : \"table-row\";\n",
       "    }\n",
       "    ellipsis.innerHTML = expanded ? \"&hellip;)\" : \"&lsaquo;&lsaquo;&lsaquo;\";\n",
       "    expanded = !expanded;\n",
       "  });\n",
       "})();\n",
       "</script>\n"
      ],
      "text/plain": [
       "GlyphRenderer(id='ceda89c5-3249-4561-8ee0-9c76e23f9684', ...)"
      ]
     },
     "execution_count": 49,
     "metadata": {},
     "output_type": "execute_result"
    }
   ],
   "source": [
    "p.line(x, y, line_dash=\"4 4\", line_width=1, color='gray')"
   ]
  },
  {
   "cell_type": "code",
   "execution_count": 52,
   "metadata": {
    "collapsed": true
   },
   "outputs": [],
   "source": [
    "cr = p.circle(x, y, size=20,\n",
    "              fill_color=\"grey\", hover_fill_color=\"firebrick\",\n",
    "              fill_alpha=0.05, hover_alpha=0.3,\n",
    "              line_color=None, hover_line_color=\"white\")"
   ]
  },
  {
   "cell_type": "code",
   "execution_count": 53,
   "metadata": {
    "collapsed": false
   },
   "outputs": [
    {
     "data": {
      "text/html": [
       "\n",
       "\n",
       "    <div class=\"bk-root\">\n",
       "        <div class=\"bk-plotdiv\" id=\"2eb88521-172f-4cf1-bf96-049946292941\"></div>\n",
       "    </div>\n",
       "<script type=\"text/javascript\">\n",
       "  \n",
       "  (function(global) {\n",
       "    function now() {\n",
       "      return new Date();\n",
       "    }\n",
       "  \n",
       "    var force = false;\n",
       "  \n",
       "    if (typeof (window._bokeh_onload_callbacks) === \"undefined\" || force === true) {\n",
       "      window._bokeh_onload_callbacks = [];\n",
       "      window._bokeh_is_loading = undefined;\n",
       "    }\n",
       "  \n",
       "  \n",
       "    \n",
       "    if (typeof (window._bokeh_timeout) === \"undefined\" || force === true) {\n",
       "      window._bokeh_timeout = Date.now() + 0;\n",
       "      window._bokeh_failed_load = false;\n",
       "    }\n",
       "  \n",
       "    var NB_LOAD_WARNING = {'data': {'text/html':\n",
       "       \"<div style='background-color: #fdd'>\\n\"+\n",
       "       \"<p>\\n\"+\n",
       "       \"BokehJS does not appear to have successfully loaded. If loading BokehJS from CDN, this \\n\"+\n",
       "       \"may be due to a slow or bad network connection. Possible fixes:\\n\"+\n",
       "       \"</p>\\n\"+\n",
       "       \"<ul>\\n\"+\n",
       "       \"<li>re-rerun `output_notebook()` to attempt to load from CDN again, or</li>\\n\"+\n",
       "       \"<li>use INLINE resources instead, as so:</li>\\n\"+\n",
       "       \"</ul>\\n\"+\n",
       "       \"<code>\\n\"+\n",
       "       \"from bokeh.resources import INLINE\\n\"+\n",
       "       \"output_notebook(resources=INLINE)\\n\"+\n",
       "       \"</code>\\n\"+\n",
       "       \"</div>\"}};\n",
       "  \n",
       "    function display_loaded() {\n",
       "      if (window.Bokeh !== undefined) {\n",
       "        document.getElementById(\"2eb88521-172f-4cf1-bf96-049946292941\").textContent = \"BokehJS successfully loaded.\";\n",
       "      } else if (Date.now() < window._bokeh_timeout) {\n",
       "        setTimeout(display_loaded, 100)\n",
       "      }\n",
       "    }\n",
       "  \n",
       "    function run_callbacks() {\n",
       "      window._bokeh_onload_callbacks.forEach(function(callback) { callback() });\n",
       "      delete window._bokeh_onload_callbacks\n",
       "      console.info(\"Bokeh: all callbacks have finished\");\n",
       "    }\n",
       "  \n",
       "    function load_libs(js_urls, callback) {\n",
       "      window._bokeh_onload_callbacks.push(callback);\n",
       "      if (window._bokeh_is_loading > 0) {\n",
       "        console.log(\"Bokeh: BokehJS is being loaded, scheduling callback at\", now());\n",
       "        return null;\n",
       "      }\n",
       "      if (js_urls == null || js_urls.length === 0) {\n",
       "        run_callbacks();\n",
       "        return null;\n",
       "      }\n",
       "      console.log(\"Bokeh: BokehJS not loaded, scheduling load and callback at\", now());\n",
       "      window._bokeh_is_loading = js_urls.length;\n",
       "      for (var i = 0; i < js_urls.length; i++) {\n",
       "        var url = js_urls[i];\n",
       "        var s = document.createElement('script');\n",
       "        s.src = url;\n",
       "        s.async = false;\n",
       "        s.onreadystatechange = s.onload = function() {\n",
       "          window._bokeh_is_loading--;\n",
       "          if (window._bokeh_is_loading === 0) {\n",
       "            console.log(\"Bokeh: all BokehJS libraries loaded\");\n",
       "            run_callbacks()\n",
       "          }\n",
       "        };\n",
       "        s.onerror = function() {\n",
       "          console.warn(\"failed to load library \" + url);\n",
       "        };\n",
       "        console.log(\"Bokeh: injecting script tag for BokehJS library: \", url);\n",
       "        document.getElementsByTagName(\"head\")[0].appendChild(s);\n",
       "      }\n",
       "    };var element = document.getElementById(\"2eb88521-172f-4cf1-bf96-049946292941\");\n",
       "    if (element == null) {\n",
       "      console.log(\"Bokeh: ERROR: autoload.js configured with elementid '2eb88521-172f-4cf1-bf96-049946292941' but no matching script tag was found. \")\n",
       "      return false;\n",
       "    }\n",
       "  \n",
       "    var js_urls = [];\n",
       "  \n",
       "    var inline_js = [\n",
       "      function(Bokeh) {\n",
       "        (function() {\n",
       "          var fn = function() {\n",
       "            var docs_json = {\"d387df03-dc52-4b57-9c18-f9a41c4aea61\":{\"roots\":{\"references\":[{\"attributes\":{\"num_minor_ticks\":5},\"id\":\"2c2d0ca5-cefd-4a7c-a838-cb938b61089d\",\"type\":\"DatetimeTicker\"},{\"attributes\":{\"line_alpha\":{\"value\":0.1},\"line_color\":{\"value\":\"#1f77b4\"},\"line_dash\":[4,4],\"x\":{\"field\":\"x\"},\"y\":{\"field\":\"y\"}},\"id\":\"f900826b-b3ab-445a-bc33-bf98f9fa013a\",\"type\":\"Line\"},{\"attributes\":{\"plot\":{\"id\":\"f68f94f0-e1d5-4566-a883-b1836971c281\",\"subtype\":\"Figure\",\"type\":\"Plot\"},\"ticker\":{\"id\":\"2c2d0ca5-cefd-4a7c-a838-cb938b61089d\",\"type\":\"DatetimeTicker\"}},\"id\":\"eb6408cb-82a1-4659-bb91-150336c61967\",\"type\":\"Grid\"},{\"attributes\":{\"formatter\":{\"id\":\"4ba1343a-63eb-42b3-94be-061e2bf1d27a\",\"type\":\"BasicTickFormatter\"},\"plot\":{\"id\":\"f68f94f0-e1d5-4566-a883-b1836971c281\",\"subtype\":\"Figure\",\"type\":\"Plot\"},\"ticker\":{\"id\":\"ef498193-c371-4025-a977-c83ad846052f\",\"type\":\"BasicTicker\"}},\"id\":\"4e5cba69-7edf-4000-978f-081465daaa4e\",\"type\":\"LinearAxis\"},{\"attributes\":{},\"id\":\"ef498193-c371-4025-a977-c83ad846052f\",\"type\":\"BasicTicker\"},{\"attributes\":{\"dimension\":1,\"plot\":{\"id\":\"f68f94f0-e1d5-4566-a883-b1836971c281\",\"subtype\":\"Figure\",\"type\":\"Plot\"},\"ticker\":{\"id\":\"ef498193-c371-4025-a977-c83ad846052f\",\"type\":\"BasicTicker\"}},\"id\":\"738b1932-abb5-4363-9f01-b542fc506b5d\",\"type\":\"Grid\"},{\"attributes\":{\"base\":24,\"mantissas\":[1,2,4,6,8,12],\"max_interval\":43200000.0,\"min_interval\":3600000.0,\"num_minor_ticks\":0},\"id\":\"05fb5fde-1c1e-4d9d-9468-d7bd3f43a487\",\"type\":\"AdaptiveTicker\"},{\"attributes\":{\"data_source\":{\"id\":\"e7eac5ce-6185-488c-95d8-f13c01f18101\",\"type\":\"ColumnDataSource\"},\"glyph\":{\"id\":\"5cf39af0-e445-41dd-987b-561465ee6d1d\",\"type\":\"Line\"},\"hover_glyph\":null,\"nonselection_glyph\":{\"id\":\"f900826b-b3ab-445a-bc33-bf98f9fa013a\",\"type\":\"Line\"},\"selection_glyph\":null},\"id\":\"ceda89c5-3249-4561-8ee0-9c76e23f9684\",\"type\":\"GlyphRenderer\"},{\"attributes\":{},\"id\":\"f1ac45f4-0ed2-40f9-84e4-10077324d9c3\",\"type\":\"DatetimeTickFormatter\"},{\"attributes\":{},\"id\":\"4ba1343a-63eb-42b3-94be-061e2bf1d27a\",\"type\":\"BasicTickFormatter\"},{\"attributes\":{\"max_interval\":500.0,\"num_minor_ticks\":0},\"id\":\"214f1acf-d229-4dac-a209-3bb950e79bf5\",\"type\":\"AdaptiveTicker\"},{\"attributes\":{\"base\":60,\"mantissas\":[1,2,5,10,15,20,30],\"max_interval\":1800000.0,\"min_interval\":1000.0,\"num_minor_ticks\":0},\"id\":\"7ee7b338-089a-4bf7-b72d-03888c29c56f\",\"type\":\"AdaptiveTicker\"},{\"attributes\":{\"days\":[1,2,3,4,5,6,7,8,9,10,11,12,13,14,15,16,17,18,19,20,21,22,23,24,25,26,27,28,29,30,31]},\"id\":\"ea273c5c-75ea-45d9-937d-d2f5e44be2d8\",\"type\":\"DaysTicker\"},{\"attributes\":{\"below\":[{\"id\":\"d1a30380-b278-474a-bf29-0b7c65a4c594\",\"type\":\"DatetimeAxis\"}],\"left\":[{\"id\":\"4e5cba69-7edf-4000-978f-081465daaa4e\",\"type\":\"LinearAxis\"}],\"plot_height\":300,\"renderers\":[{\"id\":\"d1a30380-b278-474a-bf29-0b7c65a4c594\",\"type\":\"DatetimeAxis\"},{\"id\":\"eb6408cb-82a1-4659-bb91-150336c61967\",\"type\":\"Grid\"},{\"id\":\"4e5cba69-7edf-4000-978f-081465daaa4e\",\"type\":\"LinearAxis\"},{\"id\":\"738b1932-abb5-4363-9f01-b542fc506b5d\",\"type\":\"Grid\"},{\"id\":\"ceda89c5-3249-4561-8ee0-9c76e23f9684\",\"type\":\"GlyphRenderer\"},{\"id\":\"80df89c7-10f4-43ee-bcdd-343bf3f90738\",\"type\":\"GlyphRenderer\"},{\"id\":\"6fb17d9e-f7c0-4c35-b0ee-0d375432f13c\",\"type\":\"GlyphRenderer\"}],\"title\":{\"id\":\"21087a8d-1085-4c1e-b4f2-f8bd67de9b07\",\"type\":\"Title\"},\"tool_events\":{\"id\":\"3616ded5-e459-4303-b027-92a27e16bb65\",\"type\":\"ToolEvents\"},\"toolbar\":{\"id\":\"635855cc-0c9d-461f-994e-93fd6c0a785d\",\"type\":\"Toolbar\"},\"toolbar_location\":null,\"x_range\":{\"id\":\"686ecbd9-711e-420c-a0be-bb1ba07fa84e\",\"type\":\"DataRange1d\"},\"y_range\":{\"id\":\"3f95b1bb-69b1-4127-94c3-f85ba3358f7e\",\"type\":\"DataRange1d\"}},\"id\":\"f68f94f0-e1d5-4566-a883-b1836971c281\",\"subtype\":\"Figure\",\"type\":\"Plot\"},{\"attributes\":{\"days\":[1,4,7,10,13,16,19,22,25,28]},\"id\":\"69f43d02-4075-4221-bc29-e61c3780002f\",\"type\":\"DaysTicker\"},{\"attributes\":{\"days\":[1,8,15,22]},\"id\":\"7da44821-d664-4794-aa12-d0cfd04a8a1e\",\"type\":\"DaysTicker\"},{\"attributes\":{\"callback\":null},\"id\":\"686ecbd9-711e-420c-a0be-bb1ba07fa84e\",\"type\":\"DataRange1d\"},{\"attributes\":{\"days\":[1,15]},\"id\":\"49b03874-13a9-44e5-aa5a-8e1057b6026f\",\"type\":\"DaysTicker\"},{\"attributes\":{\"months\":[0,1,2,3,4,5,6,7,8,9,10,11]},\"id\":\"d6669d1e-7118-40ef-8ede-dd63dbe74b51\",\"type\":\"MonthsTicker\"},{\"attributes\":{\"months\":[0,2,4,6,8,10]},\"id\":\"c45e3655-20c6-443e-b824-7b5bafd9eb15\",\"type\":\"MonthsTicker\"},{\"attributes\":{\"months\":[0,4,8]},\"id\":\"7ee9a9c3-67af-4228-b1e7-a48cadd4b9c7\",\"type\":\"MonthsTicker\"},{\"attributes\":{\"months\":[0,6]},\"id\":\"ebb1a91d-08ae-486d-8b8d-d68ffceccdd6\",\"type\":\"MonthsTicker\"},{\"attributes\":{},\"id\":\"2c067561-d074-48ad-8ecc-6ba16e5dc73b\",\"type\":\"YearsTicker\"},{\"attributes\":{\"callback\":null},\"id\":\"3f95b1bb-69b1-4127-94c3-f85ba3358f7e\",\"type\":\"DataRange1d\"},{\"attributes\":{\"active_drag\":\"auto\",\"active_scroll\":\"auto\",\"active_tap\":\"auto\",\"tools\":[{\"id\":\"c6db77dd-85f2-4c45-9ba6-bb951f8fb3cf\",\"type\":\"HoverTool\"},{\"id\":\"cd94cb5d-c919-4f46-ba6b-57b9b196c80c\",\"type\":\"HoverTool\"}]},\"id\":\"635855cc-0c9d-461f-994e-93fd6c0a785d\",\"type\":\"Toolbar\"},{\"attributes\":{\"callback\":null,\"mode\":\"hline\",\"plot\":{\"id\":\"f68f94f0-e1d5-4566-a883-b1836971c281\",\"subtype\":\"Figure\",\"type\":\"Plot\"},\"renderers\":[{\"id\":\"80df89c7-10f4-43ee-bcdd-343bf3f90738\",\"type\":\"GlyphRenderer\"}],\"tooltips\":null},\"id\":\"c6db77dd-85f2-4c45-9ba6-bb951f8fb3cf\",\"type\":\"HoverTool\"},{\"attributes\":{\"plot\":null,\"text\":\"Hover over points\"},\"id\":\"21087a8d-1085-4c1e-b4f2-f8bd67de9b07\",\"type\":\"Title\"},{\"attributes\":{\"callback\":null,\"column_names\":[\"x\",\"y\"],\"data\":{\"x\":{\"__ndarray__\":\"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\",\"dtype\":\"float64\",\"shape\":[288]},\"y\":[143,147,150,152,152,152,154,155,142,140,138,134,131,130,128,127,126,126,126,126,127,129,131,132,134,136,136,136,136,135,134,132,130,130,130,129,128,127,125,124,123,123,122,121,120,118,115,112,111,111,110,110,109,108,107,107,107,108,107,105,105,105,105,104,103,102,99,97,96,94,94,93,93,92,91,92,94,95,96,97,99,102,104,112,112,112,111,110,107,104,105,105,103,99,96,94,95,102,114,128,144,160,173,185,196,205,209,214,219,226,234,241,248,255,260,265,268,270,272,271,271,268,265,261,256,253,250,246,244,241,237,233,229,225,222,204,200,197,193,190,186,182,179,175,171,168,164,158,154,151,148,145,141,133,139,152,173,196,217,233,244,249,250,253,256,260,263,265,265,264,260,254,246,234,217,200,188,181,175,169,164,159,154,147,138,132,129,127,123,117,111,106,104,103,100,94,88,83,78,75,73,71,69,68,67,67,68,70,71,71,70,69,68,67,67,67,66,67,69,71,74,76,78,80,80,80,80,80,80,82,84,87,90,92,87,87,86,86,86,86,87,87,87,85,83,82,83,87,95,107,118,130,141,149,172,179,187,201,214,221,225,230,232,230,223,216,208,199,191,185,181,177,176,177,176,173,171,169,163,154,152,153,154,154,153,151,150,150]}},\"id\":\"5633aab1-daa0-4868-8740-238884aefd22\",\"type\":\"ColumnDataSource\"},{\"attributes\":{\"fill_alpha\":{\"value\":0.05},\"fill_color\":{\"value\":\"grey\"},\"line_color\":{\"value\":null},\"radius\":{\"units\":\"data\",\"value\":20},\"x\":{\"field\":\"x\"},\"y\":{\"field\":\"y\"}},\"id\":\"8e8d3271-a2f6-42bb-aa08-ea1f3698a4dc\",\"type\":\"Circle\"},{\"attributes\":{\"formatter\":{\"id\":\"f1ac45f4-0ed2-40f9-84e4-10077324d9c3\",\"type\":\"DatetimeTickFormatter\"},\"plot\":{\"id\":\"f68f94f0-e1d5-4566-a883-b1836971c281\",\"subtype\":\"Figure\",\"type\":\"Plot\"},\"ticker\":{\"id\":\"2c2d0ca5-cefd-4a7c-a838-cb938b61089d\",\"type\":\"DatetimeTicker\"}},\"id\":\"d1a30380-b278-474a-bf29-0b7c65a4c594\",\"type\":\"DatetimeAxis\"},{\"attributes\":{\"fill_alpha\":{\"value\":0.1},\"fill_color\":{\"value\":\"#1f77b4\"},\"line_alpha\":{\"value\":0.1},\"line_color\":{\"value\":\"#1f77b4\"},\"radius\":{\"units\":\"data\",\"value\":20},\"x\":{\"field\":\"x\"},\"y\":{\"field\":\"y\"}},\"id\":\"75850380-ef99-4e3d-8503-c67ea633afef\",\"type\":\"Circle\"},{\"attributes\":{\"fill_alpha\":{\"value\":0.3},\"fill_color\":{\"value\":\"firebrick\"},\"line_alpha\":{\"value\":0.3},\"line_color\":{\"value\":\"white\"},\"radius\":{\"units\":\"data\",\"value\":20},\"x\":{\"field\":\"x\"},\"y\":{\"field\":\"y\"}},\"id\":\"ffd526d4-26d4-4b77-b380-2f74d477222c\",\"type\":\"Circle\"},{\"attributes\":{\"data_source\":{\"id\":\"5633aab1-daa0-4868-8740-238884aefd22\",\"type\":\"ColumnDataSource\"},\"glyph\":{\"id\":\"8e8d3271-a2f6-42bb-aa08-ea1f3698a4dc\",\"type\":\"Circle\"},\"hover_glyph\":{\"id\":\"ffd526d4-26d4-4b77-b380-2f74d477222c\",\"type\":\"Circle\"},\"nonselection_glyph\":{\"id\":\"75850380-ef99-4e3d-8503-c67ea633afef\",\"type\":\"Circle\"},\"selection_glyph\":null},\"id\":\"80df89c7-10f4-43ee-bcdd-343bf3f90738\",\"type\":\"GlyphRenderer\"},{\"attributes\":{\"callback\":null,\"column_names\":[\"x\",\"y\"],\"data\":{\"x\":{\"__ndarray__\":\"AADyke23ckIAADDb7bdyQgAAbiTut3JCAACsbe63ckIAAOq27rdyQgAAKADvt3JCAABmSe+3ckIAAKSS77dyQgAA4tvvt3JCAAAgJfC3ckIAAF5u8LdyQgAAnLfwt3JCAADaAPG3ckIAABhK8bdyQgAAVpPxt3JCAACU3PG3ckIAANIl8rdyQgAAEG/yt3JCAABOuPK3ckIAAIwB87dyQgAAykrzt3JCAAAIlPO3ckIAAEbd87dyQgAAhCb0t3JCAADCb/S3ckIAAAC59LdyQgAAPgL1t3JCAAB8S/W3ckIAALqU9bdyQgAA+N31t3JCAAA2J/a3ckIAAHRw9rdyQgAAsrn2t3JCAADwAve3ckIAAC5M97dyQgAAbJX3t3JCAACq3ve3ckIAAOgn+LdyQgAAJnH4t3JCAABkuvi3ckIAAKID+bdyQgAA4Ez5t3JCAAAelvm3ckIAAFzf+bdyQgAAmij6t3JCAADYcfq3ckIAABa7+rdyQgAAVAT7t3JCAACSTfu3ckIAANCW+7dyQgAADuD7t3JCAABMKfy3ckIAAIpy/LdyQgAAyLv8t3JCAAAGBf23ckIAAERO/bdyQgAAgpf9t3JCAADA4P23ckIAAP4p/rdyQgAAPHP+t3JCAAB6vP63ckIAALgF/7dyQgAA9k7/t3JCAAA0mP+3ckIAAHLh/7dyQgAAsCoAuHJCAADucwC4ckIAACy9ALhyQgAAagYBuHJCAACoTwG4ckIAAOaYAbhyQgAAJOIBuHJCAABiKwK4ckIAAKB0ArhyQgAA3r0CuHJCAAAcBwO4ckIAAFpQA7hyQgAAmJkDuHJCAADW4gO4ckIAABQsBLhyQgAAUnUEuHJCAACQvgS4ckIAAM4HBbhyQgAADFEFuHJCAABKmgW4ckIAAIjjBbhyQgAAxiwGuHJCAAAEdga4ckIAAEK/BrhyQgAAgAgHuHJCAAC+UQe4ckIAAPyaB7hyQgAAOuQHuHJCAAB4LQi4ckIAALZ2CLhyQgAA9L8IuHJCAAAyCQm4ckIAAHBSCbhyQgAArpsJuHJCAADs5Am4ckIAACouCrhyQgAAaHcKuHJCAACmwAq4ckIAAOQJC7hyQgAAIlMLuHJCAABgnAu4ckIAAJ7lC7hyQgAA3C4MuHJCAAAaeAy4ckIAAFjBDLhyQgAAlgoNuHJCAADUUw24ckIAABKdDbhyQgAAUOYNuHJCAACOLw64ckIAAMx4DrhyQgAACsIOuHJCAABICw+4ckIAAIZUD7hyQgAAxJ0PuHJCAAAC5w+4ckIAAEAwELhyQgAAfnkQuHJCAAC8whC4ckIAAPoLEbhyQgAAOFURuHJCAAB2nhG4ckIAALTnEbhyQgAA8jASuHJCAAAwehK4ckIAAG7DErhyQgAArAwTuHJCAADqVRO4ckIAACifE7hyQgAAZugTuHJCAACkMRS4ckIAAOJ6FLhyQgAAIMQUuHJCAABeDRW4ckIAAJxWFbhyQgAA2p8VuHJCAAAY6RW4ckIAAFYyFrhyQgAAlHsWuHJCAADSxBa4ckIAABAOF7hyQgAATlcXuHJCAACMoBe4ckIAAMrpF7hyQgAACDMYuHJCAABGfBi4ckIAAITFGLhyQgAAwg4ZuHJCAAAAWBm4ckIAAD6hGbhyQgAAfOoZuHJCAAC6Mxq4ckIAAPh8GrhyQgAANsYauHJCAAB0Dxu4ckIAALJYG7hyQgAA8KEbuHJCAAAu6xu4ckIAAGw0HLhyQgAAqn0cuHJCAADoxhy4ckIAACYQHbhyQgAAZFkduHJCAACioh24ckIAAODrHbhyQgAAHjUeuHJCAABcfh64ckIAAJrHHrhyQgAA2BAfuHJCAAAWWh+4ckIAAFSjH7hyQgAAkuwfuHJCAADQNSC4ckIAAA5/ILhyQgAATMgguHJCAACKESG4ckIAAMhaIbhyQgAABqQhuHJCAABE7SG4ckIAAII2IrhyQgAAwH8iuHJCAAD+yCK4ckIAADwSI7hyQgAAelsjuHJCAAC4pCO4ckIAAPbtI7hyQgAANDckuHJCAABygCS4ckIAALDJJLhyQgAA7hIluHJCAAAsXCW4ckIAAGqlJbhyQgAAqO4luHJCAADmNya4ckIAACSBJrhyQgAAYsomuHJCAACgEye4ckIAAN5cJ7hyQgAAHKYnuHJCAABa7ye4ckIAAJg4KLhyQgAA1oEouHJCAAAUyyi4ckIAAFIUKbhyQgAAkF0puHJCAADOpim4ckIAAAzwKbhyQgAASjkquHJCAACIgiq4ckIAAMbLKrhyQgAABBUruHJCAABCXiu4ckIAAICnK7hyQgAAvvAruHJCAAD8OSy4ckIAADqDLLhyQgAAeMwsuHJCAAC2FS24ckIAAPReLbhyQgAAMqgtuHJCAABw8S24ckIAAK46LrhyQgAA7IMuuHJCAAAqzS64ckIAAGgWL7hyQgAApl8vuHJCAADkqC+4ckIAACLyL7hyQgAAYDswuHJCAACehDC4ckIAANzNMLhyQgAAGhcxuHJCAABYYDG4ckIAAJapMbhyQgAA1PIxuHJCAAASPDK4ckIAAFCFMrhyQgAAjs4yuHJCAADMFzO4ckIAAAphM7hyQgAASKozuHJCAACG8zO4ckIAAMQ8NLhyQgAAAoY0uHJCAABAzzS4ckIAAH4YNbhyQgAAvGE1uHJCAAD6qjW4ckIAADj0NbhyQgAAdj02uHJCAAC0hja4ckIAAPLPNrhyQgAAMBk3uHJCAABuYje4ckIAAKyrN7hyQgAA6vQ3uHJCAAAoPji4ckIAAGaHOLhyQgAApNA4uHJCAADiGTm4ckIAACBjObhyQgAAXqw5uHJCAACc9Tm4ckIAANo+OrhyQgAAGIg6uHJCAABW0Tq4ckIAAJQaO7hyQgAA0mM7uHJCAAAQrTu4ckIAAE72O7hyQgAAjD88uHJCAADKiDy4ckIAAAjSPLhyQgAARhs9uHJCAACEZD24ckIAAMKtPbhyQgAAAPc9uHJCAAA+QD64ckIAAHyJPrhyQgAAutI+uHJCAAD4Gz+4ckIAADZlP7hyQgAAdK4/uHJC\",\"dtype\":\"float64\",\"shape\":[288]},\"y\":[143,147,150,152,152,152,154,155,142,140,138,134,131,130,128,127,126,126,126,126,127,129,131,132,134,136,136,136,136,135,134,132,130,130,130,129,128,127,125,124,123,123,122,121,120,118,115,112,111,111,110,110,109,108,107,107,107,108,107,105,105,105,105,104,103,102,99,97,96,94,94,93,93,92,91,92,94,95,96,97,99,102,104,112,112,112,111,110,107,104,105,105,103,99,96,94,95,102,114,128,144,160,173,185,196,205,209,214,219,226,234,241,248,255,260,265,268,270,272,271,271,268,265,261,256,253,250,246,244,241,237,233,229,225,222,204,200,197,193,190,186,182,179,175,171,168,164,158,154,151,148,145,141,133,139,152,173,196,217,233,244,249,250,253,256,260,263,265,265,264,260,254,246,234,217,200,188,181,175,169,164,159,154,147,138,132,129,127,123,117,111,106,104,103,100,94,88,83,78,75,73,71,69,68,67,67,68,70,71,71,70,69,68,67,67,67,66,67,69,71,74,76,78,80,80,80,80,80,80,82,84,87,90,92,87,87,86,86,86,86,87,87,87,85,83,82,83,87,95,107,118,130,141,149,172,179,187,201,214,221,225,230,232,230,223,216,208,199,191,185,181,177,176,177,176,173,171,169,163,154,152,153,154,154,153,151,150,150]}},\"id\":\"cf6259f9-9897-4a2e-a2cd-dbc212a7592f\",\"type\":\"ColumnDataSource\"},{\"attributes\":{\"fill_alpha\":{\"value\":0.3},\"fill_color\":{\"value\":\"firebrick\"},\"line_alpha\":{\"value\":0.3},\"line_color\":{\"value\":\"white\"},\"size\":{\"units\":\"screen\",\"value\":20},\"x\":{\"field\":\"x\"},\"y\":{\"field\":\"y\"}},\"id\":\"0d02dff4-bea7-447e-993e-5f3d61ce1b00\",\"type\":\"Circle\"},{\"attributes\":{\"fill_alpha\":{\"value\":0.1},\"fill_color\":{\"value\":\"#1f77b4\"},\"line_alpha\":{\"value\":0.1},\"line_color\":{\"value\":\"#1f77b4\"},\"size\":{\"units\":\"screen\",\"value\":20},\"x\":{\"field\":\"x\"},\"y\":{\"field\":\"y\"}},\"id\":\"eaa547b8-a357-4533-875c-ab4d3734c78a\",\"type\":\"Circle\"},{\"attributes\":{\"line_color\":{\"value\":\"gray\"},\"line_dash\":[4,4],\"x\":{\"field\":\"x\"},\"y\":{\"field\":\"y\"}},\"id\":\"5cf39af0-e445-41dd-987b-561465ee6d1d\",\"type\":\"Line\"},{\"attributes\":{\"fill_alpha\":{\"value\":0.05},\"fill_color\":{\"value\":\"grey\"},\"line_color\":{\"value\":null},\"size\":{\"units\":\"screen\",\"value\":20},\"x\":{\"field\":\"x\"},\"y\":{\"field\":\"y\"}},\"id\":\"63be81ad-c354-4d92-a704-dc7cfc049a68\",\"type\":\"Circle\"},{\"attributes\":{\"callback\":null,\"column_names\":[\"x\",\"y\"],\"data\":{\"x\":{\"__ndarray__\":\"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\",\"dtype\":\"float64\",\"shape\":[288]},\"y\":[143,147,150,152,152,152,154,155,142,140,138,134,131,130,128,127,126,126,126,126,127,129,131,132,134,136,136,136,136,135,134,132,130,130,130,129,128,127,125,124,123,123,122,121,120,118,115,112,111,111,110,110,109,108,107,107,107,108,107,105,105,105,105,104,103,102,99,97,96,94,94,93,93,92,91,92,94,95,96,97,99,102,104,112,112,112,111,110,107,104,105,105,103,99,96,94,95,102,114,128,144,160,173,185,196,205,209,214,219,226,234,241,248,255,260,265,268,270,272,271,271,268,265,261,256,253,250,246,244,241,237,233,229,225,222,204,200,197,193,190,186,182,179,175,171,168,164,158,154,151,148,145,141,133,139,152,173,196,217,233,244,249,250,253,256,260,263,265,265,264,260,254,246,234,217,200,188,181,175,169,164,159,154,147,138,132,129,127,123,117,111,106,104,103,100,94,88,83,78,75,73,71,69,68,67,67,68,70,71,71,70,69,68,67,67,67,66,67,69,71,74,76,78,80,80,80,80,80,80,82,84,87,90,92,87,87,86,86,86,86,87,87,87,85,83,82,83,87,95,107,118,130,141,149,172,179,187,201,214,221,225,230,232,230,223,216,208,199,191,185,181,177,176,177,176,173,171,169,163,154,152,153,154,154,153,151,150,150]}},\"id\":\"e7eac5ce-6185-488c-95d8-f13c01f18101\",\"type\":\"ColumnDataSource\"},{\"attributes\":{\"data_source\":{\"id\":\"cf6259f9-9897-4a2e-a2cd-dbc212a7592f\",\"type\":\"ColumnDataSource\"},\"glyph\":{\"id\":\"63be81ad-c354-4d92-a704-dc7cfc049a68\",\"type\":\"Circle\"},\"hover_glyph\":{\"id\":\"0d02dff4-bea7-447e-993e-5f3d61ce1b00\",\"type\":\"Circle\"},\"nonselection_glyph\":{\"id\":\"eaa547b8-a357-4533-875c-ab4d3734c78a\",\"type\":\"Circle\"},\"selection_glyph\":null},\"id\":\"6fb17d9e-f7c0-4c35-b0ee-0d375432f13c\",\"type\":\"GlyphRenderer\"},{\"attributes\":{\"callback\":null,\"mode\":\"hline\",\"plot\":{\"id\":\"f68f94f0-e1d5-4566-a883-b1836971c281\",\"subtype\":\"Figure\",\"type\":\"Plot\"},\"renderers\":[{\"id\":\"6fb17d9e-f7c0-4c35-b0ee-0d375432f13c\",\"type\":\"GlyphRenderer\"}],\"tooltips\":null},\"id\":\"cd94cb5d-c919-4f46-ba6b-57b9b196c80c\",\"type\":\"HoverTool\"},{\"attributes\":{},\"id\":\"3616ded5-e459-4303-b027-92a27e16bb65\",\"type\":\"ToolEvents\"}],\"root_ids\":[\"f68f94f0-e1d5-4566-a883-b1836971c281\"]},\"title\":\"Bokeh Application\",\"version\":\"0.12.4\"}};\n",
       "            var render_items = [{\"docid\":\"d387df03-dc52-4b57-9c18-f9a41c4aea61\",\"elementid\":\"2eb88521-172f-4cf1-bf96-049946292941\",\"modelid\":\"f68f94f0-e1d5-4566-a883-b1836971c281\"}];\n",
       "            \n",
       "            Bokeh.embed.embed_items(docs_json, render_items);\n",
       "          };\n",
       "          if (document.readyState != \"loading\") fn();\n",
       "          else document.addEventListener(\"DOMContentLoaded\", fn);\n",
       "        })();\n",
       "      },\n",
       "      function(Bokeh) {\n",
       "      }\n",
       "    ];\n",
       "  \n",
       "    function run_inline_js() {\n",
       "      \n",
       "      if ((window.Bokeh !== undefined) || (force === true)) {\n",
       "        for (var i = 0; i < inline_js.length; i++) {\n",
       "          inline_js[i](window.Bokeh);\n",
       "        }if (force === true) {\n",
       "          display_loaded();\n",
       "        }} else if (Date.now() < window._bokeh_timeout) {\n",
       "        setTimeout(run_inline_js, 100);\n",
       "      } else if (!window._bokeh_failed_load) {\n",
       "        console.log(\"Bokeh: BokehJS failed to load within specified timeout.\");\n",
       "        window._bokeh_failed_load = true;\n",
       "      } else if (force !== true) {\n",
       "        var cell = $(document.getElementById(\"2eb88521-172f-4cf1-bf96-049946292941\")).parents('.cell').data().cell;\n",
       "        cell.output_area.append_execute_result(NB_LOAD_WARNING)\n",
       "      }\n",
       "  \n",
       "    }\n",
       "  \n",
       "    if (window._bokeh_is_loading === 0) {\n",
       "      console.log(\"Bokeh: BokehJS loaded, going straight to plotting\");\n",
       "      run_inline_js();\n",
       "    } else {\n",
       "      load_libs(js_urls, function() {\n",
       "        console.log(\"Bokeh: BokehJS plotting callback run at\", now());\n",
       "        run_inline_js();\n",
       "      });\n",
       "    }\n",
       "  }(this));\n",
       "</script>"
      ]
     },
     "metadata": {},
     "output_type": "display_data"
    }
   ],
   "source": [
    "p.add_tools(HoverTool(tooltips=None, renderers=[cr], mode='hline'))\n",
    "\n",
    "show(p)"
   ]
  },
  {
   "cell_type": "markdown",
   "metadata": {},
   "source": [
    "## Exercise 4.2: Visual Properties\n",
    "\n",
    "Experiment with standard, selected, hover glyph visual properties"
   ]
  },
  {
   "cell_type": "code",
   "execution_count": null,
   "metadata": {
    "collapsed": true
   },
   "outputs": [],
   "source": [
    "# Exercise"
   ]
  },
  {
   "cell_type": "markdown",
   "metadata": {},
   "source": [
    "# Axes\n",
    "\n",
    "[Axes](http://bokeh.pydata.org/en/latest/docs/user_guide/styling.html#axes)\n",
    "\n",
    "To style axes, you first must get ahold of `Axis` objects. The simplest way is to use some convenience methods on `Plot`: [axis](http://bokeh.pydata.org/en/latest/docs/reference/plotting.html#bokeh.plotting.Figure.axis), [xaxis](http://bokeh.pydata.org/en/latest/docs/reference/plotting.html#bokeh.plotting.Figure.xaxis), and [yaxis](http://bokeh.pydata.org/en/latest/docs/reference/plotting.html#bokeh.plotting.Figure.yaxis). These methods return lists of axis objects:\n",
    "\n",
    "```\n",
    ">>> p.xaxis\n",
    "[<bokeh.models.axes.LinearAxis at 0x106fa2390>]\n",
    "```\n",
    "However, you can set properties on all the elements of the list as if it was a single object:\n",
    "```\n",
    "p.xaxis.axis_label = \"Temperature\"\n",
    "p.axis.major_label_text_color = \"orange\"\n",
    "```\n",
    "These are referred to as \"splattable\" lists, and tab completion works on them as well. \n"
   ]
  },
  {
   "cell_type": "markdown",
   "metadata": {
    "collapsed": true
   },
   "source": [
    "## Exercise 4.3: Splattable Properties\n",
    "\n",
    "Try out tab completion. Type `p.xaxis.<press tab key>` to see a list of attributes that can be set."
   ]
  },
  {
   "cell_type": "code",
   "execution_count": null,
   "metadata": {
    "collapsed": true
   },
   "outputs": [],
   "source": [
    "# Exercise"
   ]
  },
  {
   "cell_type": "markdown",
   "metadata": {},
   "source": [
    "* **axis** \n",
    " - [line properties](http://bokeh.pydata.org/en/latest/docs/user_guide/styling.html#line-properties)\n",
    "* **axis_label** \n",
    " - [text properties](http://bokeh.pydata.org/en/latest/docs/user_guide/styling.html#text-properties)\n",
    " - ``axis_label_standoff``\n",
    "* **major_label** \n",
    " - [text properties](http://bokeh.pydata.org/en/latest/docs/user_guide/styling.html#text-properties)\n",
    " - ``orientation``\n",
    "* **major_tick** \n",
    " - [line_properties](http://bokeh.pydata.org/en/latest/docs/user_guide/styling.html#line-properties)\n",
    " - ``major_tick_in`` \n",
    " - ``major_tick_out``\n",
    "* **minor_tick** \n",
    " - [line properties](http://bokeh.pydata.org/en/latest/docs/user_guide/styling.html#line-properties)\n",
    " - ``minor_tick_in``\n",
    " - ``minor_tick_out``\n",
    "\n",
    "As a simple first example, let's change the orientation of the major tick labels on both axes of a plot:"
   ]
  },
  {
   "cell_type": "code",
   "execution_count": 54,
   "metadata": {
    "collapsed": true
   },
   "outputs": [],
   "source": [
    "from math import pi"
   ]
  },
  {
   "cell_type": "code",
   "execution_count": 56,
   "metadata": {
    "collapsed": false
   },
   "outputs": [
    {
     "data": {
      "text/html": [
       "<div style=\"display: table;\"><div style=\"display: table-row;\"><div style=\"display: table-cell;\"><b title=\"bokeh.models.renderers.GlyphRenderer\">GlyphRenderer</b>(</div><div style=\"display: table-cell;\">id&nbsp;=&nbsp;'6c39f437-5fd1-40ae-afd7-80cb6a252ccb', <span id=\"8d36c031-98ef-4f8f-9251-87306a544e4a\" style=\"cursor: pointer;\">&hellip;)</span></div></div><div class=\"82a9586b-f705-4d27-9e01-aa0927435f90\" style=\"display: none;\"><div style=\"display: table-cell;\"></div><div style=\"display: table-cell;\">data_source&nbsp;=&nbsp;ColumnDataSource(id='d81d3e88-61f3-4269-9b25-1d4db091347d', ...),</div></div><div class=\"82a9586b-f705-4d27-9e01-aa0927435f90\" style=\"display: none;\"><div style=\"display: table-cell;\"></div><div style=\"display: table-cell;\">glyph&nbsp;=&nbsp;X(id='ecc13b3b-baf7-4fc8-b1be-837c8996e6d6', ...),</div></div><div class=\"82a9586b-f705-4d27-9e01-aa0927435f90\" style=\"display: none;\"><div style=\"display: table-cell;\"></div><div style=\"display: table-cell;\">hover_glyph&nbsp;=&nbsp;None,</div></div><div class=\"82a9586b-f705-4d27-9e01-aa0927435f90\" style=\"display: none;\"><div style=\"display: table-cell;\"></div><div style=\"display: table-cell;\">js_callbacks&nbsp;=&nbsp;{},</div></div><div class=\"82a9586b-f705-4d27-9e01-aa0927435f90\" style=\"display: none;\"><div style=\"display: table-cell;\"></div><div style=\"display: table-cell;\">level&nbsp;=&nbsp;'glyph',</div></div><div class=\"82a9586b-f705-4d27-9e01-aa0927435f90\" style=\"display: none;\"><div style=\"display: table-cell;\"></div><div style=\"display: table-cell;\">name&nbsp;=&nbsp;None,</div></div><div class=\"82a9586b-f705-4d27-9e01-aa0927435f90\" style=\"display: none;\"><div style=\"display: table-cell;\"></div><div style=\"display: table-cell;\">nonselection_glyph&nbsp;=&nbsp;X(id='54a0c4b4-0217-4213-a901-1479ddf387b7', ...),</div></div><div class=\"82a9586b-f705-4d27-9e01-aa0927435f90\" style=\"display: none;\"><div style=\"display: table-cell;\"></div><div style=\"display: table-cell;\">selection_glyph&nbsp;=&nbsp;None,</div></div><div class=\"82a9586b-f705-4d27-9e01-aa0927435f90\" style=\"display: none;\"><div style=\"display: table-cell;\"></div><div style=\"display: table-cell;\">tags&nbsp;=&nbsp;[],</div></div><div class=\"82a9586b-f705-4d27-9e01-aa0927435f90\" style=\"display: none;\"><div style=\"display: table-cell;\"></div><div style=\"display: table-cell;\">visible&nbsp;=&nbsp;True,</div></div><div class=\"82a9586b-f705-4d27-9e01-aa0927435f90\" style=\"display: none;\"><div style=\"display: table-cell;\"></div><div style=\"display: table-cell;\">x_range_name&nbsp;=&nbsp;'default',</div></div><div class=\"82a9586b-f705-4d27-9e01-aa0927435f90\" style=\"display: none;\"><div style=\"display: table-cell;\"></div><div style=\"display: table-cell;\">y_range_name&nbsp;=&nbsp;'default')</div></div></div>\n",
       "<script>\n",
       "(function() {\n",
       "  var expanded = false;\n",
       "  var ellipsis = document.getElementById(\"8d36c031-98ef-4f8f-9251-87306a544e4a\");\n",
       "  ellipsis.addEventListener(\"click\", function() {\n",
       "    var rows = document.getElementsByClassName(\"82a9586b-f705-4d27-9e01-aa0927435f90\");\n",
       "    for (var i = 0; i < rows.length; i++) {\n",
       "      var el = rows[i];\n",
       "      el.style.display = expanded ? \"none\" : \"table-row\";\n",
       "    }\n",
       "    ellipsis.innerHTML = expanded ? \"&hellip;)\" : \"&lsaquo;&lsaquo;&lsaquo;\";\n",
       "    expanded = !expanded;\n",
       "  });\n",
       "})();\n",
       "</script>\n"
      ],
      "text/plain": [
       "GlyphRenderer(id='6c39f437-5fd1-40ae-afd7-80cb6a252ccb', ...)"
      ]
     },
     "execution_count": 56,
     "metadata": {},
     "output_type": "execute_result"
    }
   ],
   "source": [
    "p = figure(plot_width=600, plot_height=300)\n",
    "p.x([1,2,3,4,5], [2,5,8,2,7], size=10, line_width=2)"
   ]
  },
  {
   "cell_type": "code",
   "execution_count": 57,
   "metadata": {
    "collapsed": true
   },
   "outputs": [],
   "source": [
    "p.xaxis.major_label_orientation = pi/4\n",
    "p.yaxis.major_label_orientation = \"vertical\""
   ]
  },
  {
   "cell_type": "code",
   "execution_count": 58,
   "metadata": {
    "collapsed": false
   },
   "outputs": [
    {
     "data": {
      "text/html": [
       "\n",
       "\n",
       "    <div class=\"bk-root\">\n",
       "        <div class=\"bk-plotdiv\" id=\"c6cbbe7c-a0a8-455f-b54b-ab281d7458ef\"></div>\n",
       "    </div>\n",
       "<script type=\"text/javascript\">\n",
       "  \n",
       "  (function(global) {\n",
       "    function now() {\n",
       "      return new Date();\n",
       "    }\n",
       "  \n",
       "    var force = false;\n",
       "  \n",
       "    if (typeof (window._bokeh_onload_callbacks) === \"undefined\" || force === true) {\n",
       "      window._bokeh_onload_callbacks = [];\n",
       "      window._bokeh_is_loading = undefined;\n",
       "    }\n",
       "  \n",
       "  \n",
       "    \n",
       "    if (typeof (window._bokeh_timeout) === \"undefined\" || force === true) {\n",
       "      window._bokeh_timeout = Date.now() + 0;\n",
       "      window._bokeh_failed_load = false;\n",
       "    }\n",
       "  \n",
       "    var NB_LOAD_WARNING = {'data': {'text/html':\n",
       "       \"<div style='background-color: #fdd'>\\n\"+\n",
       "       \"<p>\\n\"+\n",
       "       \"BokehJS does not appear to have successfully loaded. If loading BokehJS from CDN, this \\n\"+\n",
       "       \"may be due to a slow or bad network connection. Possible fixes:\\n\"+\n",
       "       \"</p>\\n\"+\n",
       "       \"<ul>\\n\"+\n",
       "       \"<li>re-rerun `output_notebook()` to attempt to load from CDN again, or</li>\\n\"+\n",
       "       \"<li>use INLINE resources instead, as so:</li>\\n\"+\n",
       "       \"</ul>\\n\"+\n",
       "       \"<code>\\n\"+\n",
       "       \"from bokeh.resources import INLINE\\n\"+\n",
       "       \"output_notebook(resources=INLINE)\\n\"+\n",
       "       \"</code>\\n\"+\n",
       "       \"</div>\"}};\n",
       "  \n",
       "    function display_loaded() {\n",
       "      if (window.Bokeh !== undefined) {\n",
       "        document.getElementById(\"c6cbbe7c-a0a8-455f-b54b-ab281d7458ef\").textContent = \"BokehJS successfully loaded.\";\n",
       "      } else if (Date.now() < window._bokeh_timeout) {\n",
       "        setTimeout(display_loaded, 100)\n",
       "      }\n",
       "    }\n",
       "  \n",
       "    function run_callbacks() {\n",
       "      window._bokeh_onload_callbacks.forEach(function(callback) { callback() });\n",
       "      delete window._bokeh_onload_callbacks\n",
       "      console.info(\"Bokeh: all callbacks have finished\");\n",
       "    }\n",
       "  \n",
       "    function load_libs(js_urls, callback) {\n",
       "      window._bokeh_onload_callbacks.push(callback);\n",
       "      if (window._bokeh_is_loading > 0) {\n",
       "        console.log(\"Bokeh: BokehJS is being loaded, scheduling callback at\", now());\n",
       "        return null;\n",
       "      }\n",
       "      if (js_urls == null || js_urls.length === 0) {\n",
       "        run_callbacks();\n",
       "        return null;\n",
       "      }\n",
       "      console.log(\"Bokeh: BokehJS not loaded, scheduling load and callback at\", now());\n",
       "      window._bokeh_is_loading = js_urls.length;\n",
       "      for (var i = 0; i < js_urls.length; i++) {\n",
       "        var url = js_urls[i];\n",
       "        var s = document.createElement('script');\n",
       "        s.src = url;\n",
       "        s.async = false;\n",
       "        s.onreadystatechange = s.onload = function() {\n",
       "          window._bokeh_is_loading--;\n",
       "          if (window._bokeh_is_loading === 0) {\n",
       "            console.log(\"Bokeh: all BokehJS libraries loaded\");\n",
       "            run_callbacks()\n",
       "          }\n",
       "        };\n",
       "        s.onerror = function() {\n",
       "          console.warn(\"failed to load library \" + url);\n",
       "        };\n",
       "        console.log(\"Bokeh: injecting script tag for BokehJS library: \", url);\n",
       "        document.getElementsByTagName(\"head\")[0].appendChild(s);\n",
       "      }\n",
       "    };var element = document.getElementById(\"c6cbbe7c-a0a8-455f-b54b-ab281d7458ef\");\n",
       "    if (element == null) {\n",
       "      console.log(\"Bokeh: ERROR: autoload.js configured with elementid 'c6cbbe7c-a0a8-455f-b54b-ab281d7458ef' but no matching script tag was found. \")\n",
       "      return false;\n",
       "    }\n",
       "  \n",
       "    var js_urls = [];\n",
       "  \n",
       "    var inline_js = [\n",
       "      function(Bokeh) {\n",
       "        (function() {\n",
       "          var fn = function() {\n",
       "            var docs_json = {\"47bb9015-e24e-43b0-929c-2b3b78b7e9de\":{\"roots\":{\"references\":[{\"attributes\":{\"plot\":{\"id\":\"3385a41b-34dc-4fa9-804a-804123171678\",\"subtype\":\"Figure\",\"type\":\"Plot\"}},\"id\":\"058d6e99-7318-4170-9a53-b3ff3e289e68\",\"type\":\"HelpTool\"},{\"attributes\":{},\"id\":\"cb119692-39e7-4326-b054-d84d6e3dd25f\",\"type\":\"BasicTickFormatter\"},{\"attributes\":{\"callback\":null},\"id\":\"b4701246-d5cc-4ada-a87a-2fe0435e12fd\",\"type\":\"DataRange1d\"},{\"attributes\":{\"below\":[{\"id\":\"3e56e842-c048-4997-bd5a-f05485c724bb\",\"type\":\"LinearAxis\"}],\"left\":[{\"id\":\"ff2450c1-dcb8-4be3-a148-6ae83f835510\",\"type\":\"LinearAxis\"}],\"plot_height\":300,\"renderers\":[{\"id\":\"3e56e842-c048-4997-bd5a-f05485c724bb\",\"type\":\"LinearAxis\"},{\"id\":\"726a6e0b-2712-430c-9894-404cb2a09903\",\"type\":\"Grid\"},{\"id\":\"ff2450c1-dcb8-4be3-a148-6ae83f835510\",\"type\":\"LinearAxis\"},{\"id\":\"079491cb-d609-46f3-a9f3-676136b5d1eb\",\"type\":\"Grid\"},{\"id\":\"e8974532-6363-49ba-9269-fac7fc027ac0\",\"type\":\"BoxAnnotation\"},{\"id\":\"6c39f437-5fd1-40ae-afd7-80cb6a252ccb\",\"type\":\"GlyphRenderer\"}],\"title\":{\"id\":\"388155ac-b102-4b85-a1b9-5ba9ffa96d53\",\"type\":\"Title\"},\"tool_events\":{\"id\":\"cc7f9d29-01cd-4b68-8d67-69787621f185\",\"type\":\"ToolEvents\"},\"toolbar\":{\"id\":\"0e180a43-0af3-4298-8719-7ac1eec00b26\",\"type\":\"Toolbar\"},\"x_range\":{\"id\":\"b4701246-d5cc-4ada-a87a-2fe0435e12fd\",\"type\":\"DataRange1d\"},\"y_range\":{\"id\":\"e1de99bc-efeb-42f9-b934-fbdc42527653\",\"type\":\"DataRange1d\"}},\"id\":\"3385a41b-34dc-4fa9-804a-804123171678\",\"subtype\":\"Figure\",\"type\":\"Plot\"},{\"attributes\":{\"callback\":null,\"column_names\":[\"x\",\"y\"],\"data\":{\"x\":[1,2,3,4,5],\"y\":[2,5,8,2,7]}},\"id\":\"d81d3e88-61f3-4269-9b25-1d4db091347d\",\"type\":\"ColumnDataSource\"},{\"attributes\":{},\"id\":\"cc7f9d29-01cd-4b68-8d67-69787621f185\",\"type\":\"ToolEvents\"},{\"attributes\":{\"active_drag\":\"auto\",\"active_scroll\":\"auto\",\"active_tap\":\"auto\",\"tools\":[{\"id\":\"0c1ac189-5485-4075-8042-3cc47608af30\",\"type\":\"PanTool\"},{\"id\":\"fe94f540-5e74-4ab4-a515-4d5390e257a6\",\"type\":\"WheelZoomTool\"},{\"id\":\"ab10b406-c097-4f25-b03f-32c94a33c2b0\",\"type\":\"BoxZoomTool\"},{\"id\":\"ebba8e33-d438-4d4c-b7e5-53a680475ddc\",\"type\":\"SaveTool\"},{\"id\":\"93afc147-31bc-4284-86f3-988d844e66c8\",\"type\":\"ResetTool\"},{\"id\":\"058d6e99-7318-4170-9a53-b3ff3e289e68\",\"type\":\"HelpTool\"}]},\"id\":\"0e180a43-0af3-4298-8719-7ac1eec00b26\",\"type\":\"Toolbar\"},{\"attributes\":{\"data_source\":{\"id\":\"d81d3e88-61f3-4269-9b25-1d4db091347d\",\"type\":\"ColumnDataSource\"},\"glyph\":{\"id\":\"ecc13b3b-baf7-4fc8-b1be-837c8996e6d6\",\"type\":\"X\"},\"hover_glyph\":null,\"nonselection_glyph\":{\"id\":\"54a0c4b4-0217-4213-a901-1479ddf387b7\",\"type\":\"X\"},\"selection_glyph\":null},\"id\":\"6c39f437-5fd1-40ae-afd7-80cb6a252ccb\",\"type\":\"GlyphRenderer\"},{\"attributes\":{\"callback\":null},\"id\":\"e1de99bc-efeb-42f9-b934-fbdc42527653\",\"type\":\"DataRange1d\"},{\"attributes\":{\"formatter\":{\"id\":\"cb119692-39e7-4326-b054-d84d6e3dd25f\",\"type\":\"BasicTickFormatter\"},\"major_label_orientation\":0.7853981633974483,\"plot\":{\"id\":\"3385a41b-34dc-4fa9-804a-804123171678\",\"subtype\":\"Figure\",\"type\":\"Plot\"},\"ticker\":{\"id\":\"82841f4b-c51a-40fc-bca2-2d6f4e289f6e\",\"type\":\"BasicTicker\"}},\"id\":\"3e56e842-c048-4997-bd5a-f05485c724bb\",\"type\":\"LinearAxis\"},{\"attributes\":{},\"id\":\"82841f4b-c51a-40fc-bca2-2d6f4e289f6e\",\"type\":\"BasicTicker\"},{\"attributes\":{\"plot\":{\"id\":\"3385a41b-34dc-4fa9-804a-804123171678\",\"subtype\":\"Figure\",\"type\":\"Plot\"},\"ticker\":{\"id\":\"82841f4b-c51a-40fc-bca2-2d6f4e289f6e\",\"type\":\"BasicTicker\"}},\"id\":\"726a6e0b-2712-430c-9894-404cb2a09903\",\"type\":\"Grid\"},{\"attributes\":{\"formatter\":{\"id\":\"edc96a6d-a527-48af-8018-3d3d2ff2ad7f\",\"type\":\"BasicTickFormatter\"},\"major_label_orientation\":\"vertical\",\"plot\":{\"id\":\"3385a41b-34dc-4fa9-804a-804123171678\",\"subtype\":\"Figure\",\"type\":\"Plot\"},\"ticker\":{\"id\":\"5c5e1f56-37b0-4905-8cb7-15ed3969170e\",\"type\":\"BasicTicker\"}},\"id\":\"ff2450c1-dcb8-4be3-a148-6ae83f835510\",\"type\":\"LinearAxis\"},{\"attributes\":{},\"id\":\"5c5e1f56-37b0-4905-8cb7-15ed3969170e\",\"type\":\"BasicTicker\"},{\"attributes\":{\"dimension\":1,\"plot\":{\"id\":\"3385a41b-34dc-4fa9-804a-804123171678\",\"subtype\":\"Figure\",\"type\":\"Plot\"},\"ticker\":{\"id\":\"5c5e1f56-37b0-4905-8cb7-15ed3969170e\",\"type\":\"BasicTicker\"}},\"id\":\"079491cb-d609-46f3-a9f3-676136b5d1eb\",\"type\":\"Grid\"},{\"attributes\":{\"plot\":null,\"text\":\"\"},\"id\":\"388155ac-b102-4b85-a1b9-5ba9ffa96d53\",\"type\":\"Title\"},{\"attributes\":{\"fill_alpha\":{\"value\":0.1},\"fill_color\":{\"value\":\"#1f77b4\"},\"line_alpha\":{\"value\":0.1},\"line_color\":{\"value\":\"#1f77b4\"},\"line_width\":{\"value\":2},\"size\":{\"units\":\"screen\",\"value\":10},\"x\":{\"field\":\"x\"},\"y\":{\"field\":\"y\"}},\"id\":\"54a0c4b4-0217-4213-a901-1479ddf387b7\",\"type\":\"X\"},{\"attributes\":{\"fill_color\":{\"value\":\"#1f77b4\"},\"line_color\":{\"value\":\"#1f77b4\"},\"line_width\":{\"value\":2},\"size\":{\"units\":\"screen\",\"value\":10},\"x\":{\"field\":\"x\"},\"y\":{\"field\":\"y\"}},\"id\":\"ecc13b3b-baf7-4fc8-b1be-837c8996e6d6\",\"type\":\"X\"},{\"attributes\":{\"plot\":{\"id\":\"3385a41b-34dc-4fa9-804a-804123171678\",\"subtype\":\"Figure\",\"type\":\"Plot\"}},\"id\":\"0c1ac189-5485-4075-8042-3cc47608af30\",\"type\":\"PanTool\"},{\"attributes\":{\"bottom_units\":\"screen\",\"fill_alpha\":{\"value\":0.5},\"fill_color\":{\"value\":\"lightgrey\"},\"left_units\":\"screen\",\"level\":\"overlay\",\"line_alpha\":{\"value\":1.0},\"line_color\":{\"value\":\"black\"},\"line_dash\":[4,4],\"line_width\":{\"value\":2},\"plot\":null,\"render_mode\":\"css\",\"right_units\":\"screen\",\"top_units\":\"screen\"},\"id\":\"e8974532-6363-49ba-9269-fac7fc027ac0\",\"type\":\"BoxAnnotation\"},{\"attributes\":{\"plot\":{\"id\":\"3385a41b-34dc-4fa9-804a-804123171678\",\"subtype\":\"Figure\",\"type\":\"Plot\"}},\"id\":\"fe94f540-5e74-4ab4-a515-4d5390e257a6\",\"type\":\"WheelZoomTool\"},{\"attributes\":{\"overlay\":{\"id\":\"e8974532-6363-49ba-9269-fac7fc027ac0\",\"type\":\"BoxAnnotation\"},\"plot\":{\"id\":\"3385a41b-34dc-4fa9-804a-804123171678\",\"subtype\":\"Figure\",\"type\":\"Plot\"}},\"id\":\"ab10b406-c097-4f25-b03f-32c94a33c2b0\",\"type\":\"BoxZoomTool\"},{\"attributes\":{\"plot\":{\"id\":\"3385a41b-34dc-4fa9-804a-804123171678\",\"subtype\":\"Figure\",\"type\":\"Plot\"}},\"id\":\"ebba8e33-d438-4d4c-b7e5-53a680475ddc\",\"type\":\"SaveTool\"},{\"attributes\":{\"plot\":{\"id\":\"3385a41b-34dc-4fa9-804a-804123171678\",\"subtype\":\"Figure\",\"type\":\"Plot\"}},\"id\":\"93afc147-31bc-4284-86f3-988d844e66c8\",\"type\":\"ResetTool\"},{\"attributes\":{},\"id\":\"edc96a6d-a527-48af-8018-3d3d2ff2ad7f\",\"type\":\"BasicTickFormatter\"}],\"root_ids\":[\"3385a41b-34dc-4fa9-804a-804123171678\"]},\"title\":\"Bokeh Application\",\"version\":\"0.12.4\"}};\n",
       "            var render_items = [{\"docid\":\"47bb9015-e24e-43b0-929c-2b3b78b7e9de\",\"elementid\":\"c6cbbe7c-a0a8-455f-b54b-ab281d7458ef\",\"modelid\":\"3385a41b-34dc-4fa9-804a-804123171678\"}];\n",
       "            \n",
       "            Bokeh.embed.embed_items(docs_json, render_items);\n",
       "          };\n",
       "          if (document.readyState != \"loading\") fn();\n",
       "          else document.addEventListener(\"DOMContentLoaded\", fn);\n",
       "        })();\n",
       "      },\n",
       "      function(Bokeh) {\n",
       "      }\n",
       "    ];\n",
       "  \n",
       "    function run_inline_js() {\n",
       "      \n",
       "      if ((window.Bokeh !== undefined) || (force === true)) {\n",
       "        for (var i = 0; i < inline_js.length; i++) {\n",
       "          inline_js[i](window.Bokeh);\n",
       "        }if (force === true) {\n",
       "          display_loaded();\n",
       "        }} else if (Date.now() < window._bokeh_timeout) {\n",
       "        setTimeout(run_inline_js, 100);\n",
       "      } else if (!window._bokeh_failed_load) {\n",
       "        console.log(\"Bokeh: BokehJS failed to load within specified timeout.\");\n",
       "        window._bokeh_failed_load = true;\n",
       "      } else if (force !== true) {\n",
       "        var cell = $(document.getElementById(\"c6cbbe7c-a0a8-455f-b54b-ab281d7458ef\")).parents('.cell').data().cell;\n",
       "        cell.output_area.append_execute_result(NB_LOAD_WARNING)\n",
       "      }\n",
       "  \n",
       "    }\n",
       "  \n",
       "    if (window._bokeh_is_loading === 0) {\n",
       "      console.log(\"Bokeh: BokehJS loaded, going straight to plotting\");\n",
       "      run_inline_js();\n",
       "    } else {\n",
       "      load_libs(js_urls, function() {\n",
       "        console.log(\"Bokeh: BokehJS plotting callback run at\", now());\n",
       "        run_inline_js();\n",
       "      });\n",
       "    }\n",
       "  }(this));\n",
       "</script>"
      ]
     },
     "metadata": {},
     "output_type": "display_data"
    }
   ],
   "source": [
    "show(p)"
   ]
  },
  {
   "cell_type": "markdown",
   "metadata": {},
   "source": [
    "The next example shows customizations on several of the different Axis properties at once:"
   ]
  },
  {
   "cell_type": "code",
   "execution_count": 60,
   "metadata": {
    "collapsed": false
   },
   "outputs": [
    {
     "data": {
      "text/html": [
       "<div style=\"display: table;\"><div style=\"display: table-row;\"><div style=\"display: table-cell;\"><b title=\"bokeh.models.renderers.GlyphRenderer\">GlyphRenderer</b>(</div><div style=\"display: table-cell;\">id&nbsp;=&nbsp;'36d969ff-f802-404a-bd34-e6cd7b91b76d', <span id=\"fa119ff2-fecc-4b7f-abc7-bb2a99ee0360\" style=\"cursor: pointer;\">&hellip;)</span></div></div><div class=\"e9654282-6a87-49a7-bd98-8a0c048a3dd1\" style=\"display: none;\"><div style=\"display: table-cell;\"></div><div style=\"display: table-cell;\">data_source&nbsp;=&nbsp;ColumnDataSource(id='48ab5d5e-c278-4346-93ad-ca9539d4c43e', ...),</div></div><div class=\"e9654282-6a87-49a7-bd98-8a0c048a3dd1\" style=\"display: none;\"><div style=\"display: table-cell;\"></div><div style=\"display: table-cell;\">glyph&nbsp;=&nbsp;Asterisk(id='2a3a8845-7945-43a5-afd1-ca863886d5bd', ...),</div></div><div class=\"e9654282-6a87-49a7-bd98-8a0c048a3dd1\" style=\"display: none;\"><div style=\"display: table-cell;\"></div><div style=\"display: table-cell;\">hover_glyph&nbsp;=&nbsp;None,</div></div><div class=\"e9654282-6a87-49a7-bd98-8a0c048a3dd1\" style=\"display: none;\"><div style=\"display: table-cell;\"></div><div style=\"display: table-cell;\">js_callbacks&nbsp;=&nbsp;{},</div></div><div class=\"e9654282-6a87-49a7-bd98-8a0c048a3dd1\" style=\"display: none;\"><div style=\"display: table-cell;\"></div><div style=\"display: table-cell;\">level&nbsp;=&nbsp;'glyph',</div></div><div class=\"e9654282-6a87-49a7-bd98-8a0c048a3dd1\" style=\"display: none;\"><div style=\"display: table-cell;\"></div><div style=\"display: table-cell;\">name&nbsp;=&nbsp;None,</div></div><div class=\"e9654282-6a87-49a7-bd98-8a0c048a3dd1\" style=\"display: none;\"><div style=\"display: table-cell;\"></div><div style=\"display: table-cell;\">nonselection_glyph&nbsp;=&nbsp;Asterisk(id='ad54cd4d-8351-4a1b-bff3-42fe26df20f5', ...),</div></div><div class=\"e9654282-6a87-49a7-bd98-8a0c048a3dd1\" style=\"display: none;\"><div style=\"display: table-cell;\"></div><div style=\"display: table-cell;\">selection_glyph&nbsp;=&nbsp;None,</div></div><div class=\"e9654282-6a87-49a7-bd98-8a0c048a3dd1\" style=\"display: none;\"><div style=\"display: table-cell;\"></div><div style=\"display: table-cell;\">tags&nbsp;=&nbsp;[],</div></div><div class=\"e9654282-6a87-49a7-bd98-8a0c048a3dd1\" style=\"display: none;\"><div style=\"display: table-cell;\"></div><div style=\"display: table-cell;\">visible&nbsp;=&nbsp;True,</div></div><div class=\"e9654282-6a87-49a7-bd98-8a0c048a3dd1\" style=\"display: none;\"><div style=\"display: table-cell;\"></div><div style=\"display: table-cell;\">x_range_name&nbsp;=&nbsp;'default',</div></div><div class=\"e9654282-6a87-49a7-bd98-8a0c048a3dd1\" style=\"display: none;\"><div style=\"display: table-cell;\"></div><div style=\"display: table-cell;\">y_range_name&nbsp;=&nbsp;'default')</div></div></div>\n",
       "<script>\n",
       "(function() {\n",
       "  var expanded = false;\n",
       "  var ellipsis = document.getElementById(\"fa119ff2-fecc-4b7f-abc7-bb2a99ee0360\");\n",
       "  ellipsis.addEventListener(\"click\", function() {\n",
       "    var rows = document.getElementsByClassName(\"e9654282-6a87-49a7-bd98-8a0c048a3dd1\");\n",
       "    for (var i = 0; i < rows.length; i++) {\n",
       "      var el = rows[i];\n",
       "      el.style.display = expanded ? \"none\" : \"table-row\";\n",
       "    }\n",
       "    ellipsis.innerHTML = expanded ? \"&hellip;)\" : \"&lsaquo;&lsaquo;&lsaquo;\";\n",
       "    expanded = !expanded;\n",
       "  });\n",
       "})();\n",
       "</script>\n"
      ],
      "text/plain": [
       "GlyphRenderer(id='36d969ff-f802-404a-bd34-e6cd7b91b76d', ...)"
      ]
     },
     "execution_count": 60,
     "metadata": {},
     "output_type": "execute_result"
    }
   ],
   "source": [
    "p = figure(plot_width=600, plot_height=300)\n",
    "p.asterisk([1,2,3,4,5], [2,5,8,2,7], size=12, color=\"olive\")"
   ]
  },
  {
   "cell_type": "code",
   "execution_count": 61,
   "metadata": {
    "collapsed": true
   },
   "outputs": [],
   "source": [
    "# change just some things about the x-axes\n",
    "p.xaxis.axis_label = \"Temp\"\n",
    "p.xaxis.axis_line_width = 3\n",
    "p.xaxis.axis_line_color = \"red\""
   ]
  },
  {
   "cell_type": "code",
   "execution_count": 62,
   "metadata": {
    "collapsed": true
   },
   "outputs": [],
   "source": [
    "# change just some things about the y-axes\n",
    "p.yaxis.axis_label = \"Pressure\"\n",
    "p.yaxis.major_label_text_color = \"orange\"\n",
    "p.yaxis.major_label_orientation = \"vertical\""
   ]
  },
  {
   "cell_type": "code",
   "execution_count": 63,
   "metadata": {
    "collapsed": true
   },
   "outputs": [],
   "source": [
    "# change things on all axes\n",
    "p.axis.minor_tick_in = -3\n",
    "p.axis.minor_tick_out = 6"
   ]
  },
  {
   "cell_type": "code",
   "execution_count": 64,
   "metadata": {
    "collapsed": false
   },
   "outputs": [
    {
     "data": {
      "text/html": [
       "\n",
       "\n",
       "    <div class=\"bk-root\">\n",
       "        <div class=\"bk-plotdiv\" id=\"fb7a8703-2ca2-4ed5-8cd0-b5c59602979e\"></div>\n",
       "    </div>\n",
       "<script type=\"text/javascript\">\n",
       "  \n",
       "  (function(global) {\n",
       "    function now() {\n",
       "      return new Date();\n",
       "    }\n",
       "  \n",
       "    var force = false;\n",
       "  \n",
       "    if (typeof (window._bokeh_onload_callbacks) === \"undefined\" || force === true) {\n",
       "      window._bokeh_onload_callbacks = [];\n",
       "      window._bokeh_is_loading = undefined;\n",
       "    }\n",
       "  \n",
       "  \n",
       "    \n",
       "    if (typeof (window._bokeh_timeout) === \"undefined\" || force === true) {\n",
       "      window._bokeh_timeout = Date.now() + 0;\n",
       "      window._bokeh_failed_load = false;\n",
       "    }\n",
       "  \n",
       "    var NB_LOAD_WARNING = {'data': {'text/html':\n",
       "       \"<div style='background-color: #fdd'>\\n\"+\n",
       "       \"<p>\\n\"+\n",
       "       \"BokehJS does not appear to have successfully loaded. If loading BokehJS from CDN, this \\n\"+\n",
       "       \"may be due to a slow or bad network connection. Possible fixes:\\n\"+\n",
       "       \"</p>\\n\"+\n",
       "       \"<ul>\\n\"+\n",
       "       \"<li>re-rerun `output_notebook()` to attempt to load from CDN again, or</li>\\n\"+\n",
       "       \"<li>use INLINE resources instead, as so:</li>\\n\"+\n",
       "       \"</ul>\\n\"+\n",
       "       \"<code>\\n\"+\n",
       "       \"from bokeh.resources import INLINE\\n\"+\n",
       "       \"output_notebook(resources=INLINE)\\n\"+\n",
       "       \"</code>\\n\"+\n",
       "       \"</div>\"}};\n",
       "  \n",
       "    function display_loaded() {\n",
       "      if (window.Bokeh !== undefined) {\n",
       "        document.getElementById(\"fb7a8703-2ca2-4ed5-8cd0-b5c59602979e\").textContent = \"BokehJS successfully loaded.\";\n",
       "      } else if (Date.now() < window._bokeh_timeout) {\n",
       "        setTimeout(display_loaded, 100)\n",
       "      }\n",
       "    }\n",
       "  \n",
       "    function run_callbacks() {\n",
       "      window._bokeh_onload_callbacks.forEach(function(callback) { callback() });\n",
       "      delete window._bokeh_onload_callbacks\n",
       "      console.info(\"Bokeh: all callbacks have finished\");\n",
       "    }\n",
       "  \n",
       "    function load_libs(js_urls, callback) {\n",
       "      window._bokeh_onload_callbacks.push(callback);\n",
       "      if (window._bokeh_is_loading > 0) {\n",
       "        console.log(\"Bokeh: BokehJS is being loaded, scheduling callback at\", now());\n",
       "        return null;\n",
       "      }\n",
       "      if (js_urls == null || js_urls.length === 0) {\n",
       "        run_callbacks();\n",
       "        return null;\n",
       "      }\n",
       "      console.log(\"Bokeh: BokehJS not loaded, scheduling load and callback at\", now());\n",
       "      window._bokeh_is_loading = js_urls.length;\n",
       "      for (var i = 0; i < js_urls.length; i++) {\n",
       "        var url = js_urls[i];\n",
       "        var s = document.createElement('script');\n",
       "        s.src = url;\n",
       "        s.async = false;\n",
       "        s.onreadystatechange = s.onload = function() {\n",
       "          window._bokeh_is_loading--;\n",
       "          if (window._bokeh_is_loading === 0) {\n",
       "            console.log(\"Bokeh: all BokehJS libraries loaded\");\n",
       "            run_callbacks()\n",
       "          }\n",
       "        };\n",
       "        s.onerror = function() {\n",
       "          console.warn(\"failed to load library \" + url);\n",
       "        };\n",
       "        console.log(\"Bokeh: injecting script tag for BokehJS library: \", url);\n",
       "        document.getElementsByTagName(\"head\")[0].appendChild(s);\n",
       "      }\n",
       "    };var element = document.getElementById(\"fb7a8703-2ca2-4ed5-8cd0-b5c59602979e\");\n",
       "    if (element == null) {\n",
       "      console.log(\"Bokeh: ERROR: autoload.js configured with elementid 'fb7a8703-2ca2-4ed5-8cd0-b5c59602979e' but no matching script tag was found. \")\n",
       "      return false;\n",
       "    }\n",
       "  \n",
       "    var js_urls = [];\n",
       "  \n",
       "    var inline_js = [\n",
       "      function(Bokeh) {\n",
       "        (function() {\n",
       "          var fn = function() {\n",
       "            var docs_json = {\"829a3319-8547-4823-afae-348ad8edc79d\":{\"roots\":{\"references\":[{\"attributes\":{\"plot\":{\"id\":\"4d3f3d52-ad6e-4354-beae-89f429927b45\",\"subtype\":\"Figure\",\"type\":\"Plot\"}},\"id\":\"8b5cf561-9e30-4a98-8f2f-09b4b28e3512\",\"type\":\"HelpTool\"},{\"attributes\":{\"bottom_units\":\"screen\",\"fill_alpha\":{\"value\":0.5},\"fill_color\":{\"value\":\"lightgrey\"},\"left_units\":\"screen\",\"level\":\"overlay\",\"line_alpha\":{\"value\":1.0},\"line_color\":{\"value\":\"black\"},\"line_dash\":[4,4],\"line_width\":{\"value\":2},\"plot\":null,\"render_mode\":\"css\",\"right_units\":\"screen\",\"top_units\":\"screen\"},\"id\":\"a2066d2e-75fd-43a7-8bb4-209cff5018bc\",\"type\":\"BoxAnnotation\"},{\"attributes\":{\"plot\":null,\"text\":\"\"},\"id\":\"b452b3fd-3d40-47ba-8ec5-a285291898ca\",\"type\":\"Title\"},{\"attributes\":{\"plot\":{\"id\":\"4d3f3d52-ad6e-4354-beae-89f429927b45\",\"subtype\":\"Figure\",\"type\":\"Plot\"}},\"id\":\"bc7da5e5-cc4b-4676-b54d-38b5a8a088b4\",\"type\":\"SaveTool\"},{\"attributes\":{\"data_source\":{\"id\":\"48ab5d5e-c278-4346-93ad-ca9539d4c43e\",\"type\":\"ColumnDataSource\"},\"glyph\":{\"id\":\"2a3a8845-7945-43a5-afd1-ca863886d5bd\",\"type\":\"Asterisk\"},\"hover_glyph\":null,\"nonselection_glyph\":{\"id\":\"ad54cd4d-8351-4a1b-bff3-42fe26df20f5\",\"type\":\"Asterisk\"},\"selection_glyph\":null},\"id\":\"36d969ff-f802-404a-bd34-e6cd7b91b76d\",\"type\":\"GlyphRenderer\"},{\"attributes\":{\"axis_label\":\"Temp\",\"axis_line_color\":{\"value\":\"red\"},\"axis_line_width\":{\"value\":3},\"formatter\":{\"id\":\"42d2d552-245f-4d02-8a9b-5ccf99f5cab9\",\"type\":\"BasicTickFormatter\"},\"minor_tick_in\":-3,\"minor_tick_out\":6,\"plot\":{\"id\":\"4d3f3d52-ad6e-4354-beae-89f429927b45\",\"subtype\":\"Figure\",\"type\":\"Plot\"},\"ticker\":{\"id\":\"7eb46848-4e45-413a-a59b-3fae57cdc988\",\"type\":\"BasicTicker\"}},\"id\":\"cb82f667-99a5-476b-8131-c39c9c73f69e\",\"type\":\"LinearAxis\"},{\"attributes\":{\"callback\":null},\"id\":\"5378189e-a735-404d-a5df-ca884f83addc\",\"type\":\"DataRange1d\"},{\"attributes\":{\"dimension\":1,\"plot\":{\"id\":\"4d3f3d52-ad6e-4354-beae-89f429927b45\",\"subtype\":\"Figure\",\"type\":\"Plot\"},\"ticker\":{\"id\":\"07290090-3683-4f6a-b92d-ba00eed07d29\",\"type\":\"BasicTicker\"}},\"id\":\"555510e9-0547-41dc-8fc4-7934d2d89d56\",\"type\":\"Grid\"},{\"attributes\":{\"fill_color\":{\"value\":\"olive\"},\"line_color\":{\"value\":\"olive\"},\"size\":{\"units\":\"screen\",\"value\":12},\"x\":{\"field\":\"x\"},\"y\":{\"field\":\"y\"}},\"id\":\"2a3a8845-7945-43a5-afd1-ca863886d5bd\",\"type\":\"Asterisk\"},{\"attributes\":{},\"id\":\"eba98932-b609-4bcc-a128-24f9351ed944\",\"type\":\"ToolEvents\"},{\"attributes\":{},\"id\":\"42d2d552-245f-4d02-8a9b-5ccf99f5cab9\",\"type\":\"BasicTickFormatter\"},{\"attributes\":{\"below\":[{\"id\":\"cb82f667-99a5-476b-8131-c39c9c73f69e\",\"type\":\"LinearAxis\"}],\"left\":[{\"id\":\"3f3e9740-8cf7-4aa1-9f73-981536c94b38\",\"type\":\"LinearAxis\"}],\"plot_height\":300,\"renderers\":[{\"id\":\"cb82f667-99a5-476b-8131-c39c9c73f69e\",\"type\":\"LinearAxis\"},{\"id\":\"c0df5ff9-f534-474d-82ee-2c7b1998ddad\",\"type\":\"Grid\"},{\"id\":\"3f3e9740-8cf7-4aa1-9f73-981536c94b38\",\"type\":\"LinearAxis\"},{\"id\":\"555510e9-0547-41dc-8fc4-7934d2d89d56\",\"type\":\"Grid\"},{\"id\":\"a2066d2e-75fd-43a7-8bb4-209cff5018bc\",\"type\":\"BoxAnnotation\"},{\"id\":\"36d969ff-f802-404a-bd34-e6cd7b91b76d\",\"type\":\"GlyphRenderer\"}],\"title\":{\"id\":\"b452b3fd-3d40-47ba-8ec5-a285291898ca\",\"type\":\"Title\"},\"tool_events\":{\"id\":\"eba98932-b609-4bcc-a128-24f9351ed944\",\"type\":\"ToolEvents\"},\"toolbar\":{\"id\":\"e19be3be-a50b-4e8a-854c-722a9b481a37\",\"type\":\"Toolbar\"},\"x_range\":{\"id\":\"5378189e-a735-404d-a5df-ca884f83addc\",\"type\":\"DataRange1d\"},\"y_range\":{\"id\":\"48020442-11f0-4050-97a6-fba20df7d9e5\",\"type\":\"DataRange1d\"}},\"id\":\"4d3f3d52-ad6e-4354-beae-89f429927b45\",\"subtype\":\"Figure\",\"type\":\"Plot\"},{\"attributes\":{\"overlay\":{\"id\":\"a2066d2e-75fd-43a7-8bb4-209cff5018bc\",\"type\":\"BoxAnnotation\"},\"plot\":{\"id\":\"4d3f3d52-ad6e-4354-beae-89f429927b45\",\"subtype\":\"Figure\",\"type\":\"Plot\"}},\"id\":\"5a4c18d5-ca12-4a69-9846-7364f7d3618a\",\"type\":\"BoxZoomTool\"},{\"attributes\":{\"plot\":{\"id\":\"4d3f3d52-ad6e-4354-beae-89f429927b45\",\"subtype\":\"Figure\",\"type\":\"Plot\"}},\"id\":\"b7f668a1-d301-45bc-83e0-8093530e67f9\",\"type\":\"ResetTool\"},{\"attributes\":{\"plot\":{\"id\":\"4d3f3d52-ad6e-4354-beae-89f429927b45\",\"subtype\":\"Figure\",\"type\":\"Plot\"},\"ticker\":{\"id\":\"7eb46848-4e45-413a-a59b-3fae57cdc988\",\"type\":\"BasicTicker\"}},\"id\":\"c0df5ff9-f534-474d-82ee-2c7b1998ddad\",\"type\":\"Grid\"},{\"attributes\":{},\"id\":\"d5a63b89-74af-40c0-b6b9-07d74d75adfc\",\"type\":\"BasicTickFormatter\"},{\"attributes\":{\"plot\":{\"id\":\"4d3f3d52-ad6e-4354-beae-89f429927b45\",\"subtype\":\"Figure\",\"type\":\"Plot\"}},\"id\":\"20fc2ad2-2c59-4bf7-a26f-30777f968e69\",\"type\":\"PanTool\"},{\"attributes\":{\"plot\":{\"id\":\"4d3f3d52-ad6e-4354-beae-89f429927b45\",\"subtype\":\"Figure\",\"type\":\"Plot\"}},\"id\":\"af1dedc1-a1cc-47da-a564-3a6913a23a4d\",\"type\":\"WheelZoomTool\"},{\"attributes\":{},\"id\":\"07290090-3683-4f6a-b92d-ba00eed07d29\",\"type\":\"BasicTicker\"},{\"attributes\":{},\"id\":\"7eb46848-4e45-413a-a59b-3fae57cdc988\",\"type\":\"BasicTicker\"},{\"attributes\":{\"fill_alpha\":{\"value\":0.1},\"fill_color\":{\"value\":\"#1f77b4\"},\"line_alpha\":{\"value\":0.1},\"line_color\":{\"value\":\"#1f77b4\"},\"size\":{\"units\":\"screen\",\"value\":12},\"x\":{\"field\":\"x\"},\"y\":{\"field\":\"y\"}},\"id\":\"ad54cd4d-8351-4a1b-bff3-42fe26df20f5\",\"type\":\"Asterisk\"},{\"attributes\":{\"callback\":null,\"column_names\":[\"x\",\"y\"],\"data\":{\"x\":[1,2,3,4,5],\"y\":[2,5,8,2,7]}},\"id\":\"48ab5d5e-c278-4346-93ad-ca9539d4c43e\",\"type\":\"ColumnDataSource\"},{\"attributes\":{\"callback\":null},\"id\":\"48020442-11f0-4050-97a6-fba20df7d9e5\",\"type\":\"DataRange1d\"},{\"attributes\":{\"axis_label\":\"Pressure\",\"formatter\":{\"id\":\"d5a63b89-74af-40c0-b6b9-07d74d75adfc\",\"type\":\"BasicTickFormatter\"},\"major_label_orientation\":\"vertical\",\"major_label_text_color\":{\"value\":\"orange\"},\"minor_tick_in\":-3,\"minor_tick_out\":6,\"plot\":{\"id\":\"4d3f3d52-ad6e-4354-beae-89f429927b45\",\"subtype\":\"Figure\",\"type\":\"Plot\"},\"ticker\":{\"id\":\"07290090-3683-4f6a-b92d-ba00eed07d29\",\"type\":\"BasicTicker\"}},\"id\":\"3f3e9740-8cf7-4aa1-9f73-981536c94b38\",\"type\":\"LinearAxis\"},{\"attributes\":{\"active_drag\":\"auto\",\"active_scroll\":\"auto\",\"active_tap\":\"auto\",\"tools\":[{\"id\":\"20fc2ad2-2c59-4bf7-a26f-30777f968e69\",\"type\":\"PanTool\"},{\"id\":\"af1dedc1-a1cc-47da-a564-3a6913a23a4d\",\"type\":\"WheelZoomTool\"},{\"id\":\"5a4c18d5-ca12-4a69-9846-7364f7d3618a\",\"type\":\"BoxZoomTool\"},{\"id\":\"bc7da5e5-cc4b-4676-b54d-38b5a8a088b4\",\"type\":\"SaveTool\"},{\"id\":\"b7f668a1-d301-45bc-83e0-8093530e67f9\",\"type\":\"ResetTool\"},{\"id\":\"8b5cf561-9e30-4a98-8f2f-09b4b28e3512\",\"type\":\"HelpTool\"}]},\"id\":\"e19be3be-a50b-4e8a-854c-722a9b481a37\",\"type\":\"Toolbar\"}],\"root_ids\":[\"4d3f3d52-ad6e-4354-beae-89f429927b45\"]},\"title\":\"Bokeh Application\",\"version\":\"0.12.4\"}};\n",
       "            var render_items = [{\"docid\":\"829a3319-8547-4823-afae-348ad8edc79d\",\"elementid\":\"fb7a8703-2ca2-4ed5-8cd0-b5c59602979e\",\"modelid\":\"4d3f3d52-ad6e-4354-beae-89f429927b45\"}];\n",
       "            \n",
       "            Bokeh.embed.embed_items(docs_json, render_items);\n",
       "          };\n",
       "          if (document.readyState != \"loading\") fn();\n",
       "          else document.addEventListener(\"DOMContentLoaded\", fn);\n",
       "        })();\n",
       "      },\n",
       "      function(Bokeh) {\n",
       "      }\n",
       "    ];\n",
       "  \n",
       "    function run_inline_js() {\n",
       "      \n",
       "      if ((window.Bokeh !== undefined) || (force === true)) {\n",
       "        for (var i = 0; i < inline_js.length; i++) {\n",
       "          inline_js[i](window.Bokeh);\n",
       "        }if (force === true) {\n",
       "          display_loaded();\n",
       "        }} else if (Date.now() < window._bokeh_timeout) {\n",
       "        setTimeout(run_inline_js, 100);\n",
       "      } else if (!window._bokeh_failed_load) {\n",
       "        console.log(\"Bokeh: BokehJS failed to load within specified timeout.\");\n",
       "        window._bokeh_failed_load = true;\n",
       "      } else if (force !== true) {\n",
       "        var cell = $(document.getElementById(\"fb7a8703-2ca2-4ed5-8cd0-b5c59602979e\")).parents('.cell').data().cell;\n",
       "        cell.output_area.append_execute_result(NB_LOAD_WARNING)\n",
       "      }\n",
       "  \n",
       "    }\n",
       "  \n",
       "    if (window._bokeh_is_loading === 0) {\n",
       "      console.log(\"Bokeh: BokehJS loaded, going straight to plotting\");\n",
       "      run_inline_js();\n",
       "    } else {\n",
       "      load_libs(js_urls, function() {\n",
       "        console.log(\"Bokeh: BokehJS plotting callback run at\", now());\n",
       "        run_inline_js();\n",
       "      });\n",
       "    }\n",
       "  }(this));\n",
       "</script>"
      ]
     },
     "metadata": {},
     "output_type": "display_data"
    }
   ],
   "source": [
    "show(p)"
   ]
  },
  {
   "cell_type": "markdown",
   "metadata": {},
   "source": [
    "## Exercise 4.4\n",
    "\n",
    "Create a plot of your own and customize several axis properties"
   ]
  },
  {
   "cell_type": "code",
   "execution_count": null,
   "metadata": {
    "collapsed": true
   },
   "outputs": [],
   "source": [
    "# Exercise"
   ]
  },
  {
   "cell_type": "markdown",
   "metadata": {},
   "source": [
    "There are further customizations possible. See the [User Guide](http://bokeh.pydata.org/en/latest/docs/user_guide.html) for more information on topics such as [tick label formatting](http://bokeh.pydata.org/en/latest/docs/user_guide/styling.html#tick-label-formats) or [limiting axis bounds](http://bokeh.pydata.org/en/latest/docs/user_guide/styling.html#bounds)."
   ]
  },
  {
   "cell_type": "markdown",
   "metadata": {},
   "source": [
    "# Grids\n",
    "\n",
    "[Grids](http://bokeh.pydata.org/en/latest/docs/user_guide/styling.html#grids)\n",
    "\n",
    "* **grid** [line properties](http://bokeh.pydata.org/en/latest/docs/user_guide/styling.html#line-properties)\n",
    "* **band** [fill properties]()"
   ]
  },
  {
   "cell_type": "code",
   "execution_count": 81,
   "metadata": {
    "collapsed": false
   },
   "outputs": [
    {
     "data": {
      "text/html": [
       "<div style=\"display: table;\"><div style=\"display: table-row;\"><div style=\"display: table-cell;\"><b title=\"bokeh.models.renderers.GlyphRenderer\">GlyphRenderer</b>(</div><div style=\"display: table-cell;\">id&nbsp;=&nbsp;'59daccbb-1754-4f03-9532-e8966588f7eb', <span id=\"f8a64c2e-5483-4e3e-ae3b-75fe658a02fa\" style=\"cursor: pointer;\">&hellip;)</span></div></div><div class=\"f4a60483-7073-4346-b41a-0698041d36d7\" style=\"display: none;\"><div style=\"display: table-cell;\"></div><div style=\"display: table-cell;\">data_source&nbsp;=&nbsp;ColumnDataSource(id='bad56b33-adff-4b42-b511-e5c2af3c8ca7', ...),</div></div><div class=\"f4a60483-7073-4346-b41a-0698041d36d7\" style=\"display: none;\"><div style=\"display: table-cell;\"></div><div style=\"display: table-cell;\">glyph&nbsp;=&nbsp;Circle(id='a2e12eca-86d4-4550-810f-46598c28233f', ...),</div></div><div class=\"f4a60483-7073-4346-b41a-0698041d36d7\" style=\"display: none;\"><div style=\"display: table-cell;\"></div><div style=\"display: table-cell;\">hover_glyph&nbsp;=&nbsp;None,</div></div><div class=\"f4a60483-7073-4346-b41a-0698041d36d7\" style=\"display: none;\"><div style=\"display: table-cell;\"></div><div style=\"display: table-cell;\">js_callbacks&nbsp;=&nbsp;{},</div></div><div class=\"f4a60483-7073-4346-b41a-0698041d36d7\" style=\"display: none;\"><div style=\"display: table-cell;\"></div><div style=\"display: table-cell;\">level&nbsp;=&nbsp;'glyph',</div></div><div class=\"f4a60483-7073-4346-b41a-0698041d36d7\" style=\"display: none;\"><div style=\"display: table-cell;\"></div><div style=\"display: table-cell;\">name&nbsp;=&nbsp;None,</div></div><div class=\"f4a60483-7073-4346-b41a-0698041d36d7\" style=\"display: none;\"><div style=\"display: table-cell;\"></div><div style=\"display: table-cell;\">nonselection_glyph&nbsp;=&nbsp;Circle(id='9981a19f-0481-40cc-82f1-57b03fc6dcdc', ...),</div></div><div class=\"f4a60483-7073-4346-b41a-0698041d36d7\" style=\"display: none;\"><div style=\"display: table-cell;\"></div><div style=\"display: table-cell;\">selection_glyph&nbsp;=&nbsp;None,</div></div><div class=\"f4a60483-7073-4346-b41a-0698041d36d7\" style=\"display: none;\"><div style=\"display: table-cell;\"></div><div style=\"display: table-cell;\">tags&nbsp;=&nbsp;[],</div></div><div class=\"f4a60483-7073-4346-b41a-0698041d36d7\" style=\"display: none;\"><div style=\"display: table-cell;\"></div><div style=\"display: table-cell;\">visible&nbsp;=&nbsp;True,</div></div><div class=\"f4a60483-7073-4346-b41a-0698041d36d7\" style=\"display: none;\"><div style=\"display: table-cell;\"></div><div style=\"display: table-cell;\">x_range_name&nbsp;=&nbsp;'default',</div></div><div class=\"f4a60483-7073-4346-b41a-0698041d36d7\" style=\"display: none;\"><div style=\"display: table-cell;\"></div><div style=\"display: table-cell;\">y_range_name&nbsp;=&nbsp;'default')</div></div></div>\n",
       "<script>\n",
       "(function() {\n",
       "  var expanded = false;\n",
       "  var ellipsis = document.getElementById(\"f8a64c2e-5483-4e3e-ae3b-75fe658a02fa\");\n",
       "  ellipsis.addEventListener(\"click\", function() {\n",
       "    var rows = document.getElementsByClassName(\"f4a60483-7073-4346-b41a-0698041d36d7\");\n",
       "    for (var i = 0; i < rows.length; i++) {\n",
       "      var el = rows[i];\n",
       "      el.style.display = expanded ? \"none\" : \"table-row\";\n",
       "    }\n",
       "    ellipsis.innerHTML = expanded ? \"&hellip;)\" : \"&lsaquo;&lsaquo;&lsaquo;\";\n",
       "    expanded = !expanded;\n",
       "  });\n",
       "})();\n",
       "</script>\n"
      ],
      "text/plain": [
       "GlyphRenderer(id='59daccbb-1754-4f03-9532-e8966588f7eb', ...)"
      ]
     },
     "execution_count": 81,
     "metadata": {},
     "output_type": "execute_result"
    }
   ],
   "source": [
    "p = figure(plot_width=600, plot_height=300)\n",
    "p.circle([1,2,3,4,5], [2,5,8,2,7], size=10)"
   ]
  },
  {
   "cell_type": "code",
   "execution_count": 82,
   "metadata": {
    "collapsed": true
   },
   "outputs": [],
   "source": [
    "# change just some things about the x-grid\n",
    "p.xgrid.grid_line_color = None"
   ]
  },
  {
   "cell_type": "code",
   "execution_count": 83,
   "metadata": {
    "collapsed": true
   },
   "outputs": [],
   "source": [
    "# change just some things about the y-grid\n",
    "p.ygrid.grid_line_alpha = 0.5\n",
    "p.ygrid.grid_line_dash = [6, 4]"
   ]
  },
  {
   "cell_type": "code",
   "execution_count": 84,
   "metadata": {
    "collapsed": false
   },
   "outputs": [
    {
     "data": {
      "text/html": [
       "\n",
       "\n",
       "    <div class=\"bk-root\">\n",
       "        <div class=\"bk-plotdiv\" id=\"efe5d4af-5aab-4a49-986b-16bbadcd98c6\"></div>\n",
       "    </div>\n",
       "<script type=\"text/javascript\">\n",
       "  \n",
       "  (function(global) {\n",
       "    function now() {\n",
       "      return new Date();\n",
       "    }\n",
       "  \n",
       "    var force = false;\n",
       "  \n",
       "    if (typeof (window._bokeh_onload_callbacks) === \"undefined\" || force === true) {\n",
       "      window._bokeh_onload_callbacks = [];\n",
       "      window._bokeh_is_loading = undefined;\n",
       "    }\n",
       "  \n",
       "  \n",
       "    \n",
       "    if (typeof (window._bokeh_timeout) === \"undefined\" || force === true) {\n",
       "      window._bokeh_timeout = Date.now() + 0;\n",
       "      window._bokeh_failed_load = false;\n",
       "    }\n",
       "  \n",
       "    var NB_LOAD_WARNING = {'data': {'text/html':\n",
       "       \"<div style='background-color: #fdd'>\\n\"+\n",
       "       \"<p>\\n\"+\n",
       "       \"BokehJS does not appear to have successfully loaded. If loading BokehJS from CDN, this \\n\"+\n",
       "       \"may be due to a slow or bad network connection. Possible fixes:\\n\"+\n",
       "       \"</p>\\n\"+\n",
       "       \"<ul>\\n\"+\n",
       "       \"<li>re-rerun `output_notebook()` to attempt to load from CDN again, or</li>\\n\"+\n",
       "       \"<li>use INLINE resources instead, as so:</li>\\n\"+\n",
       "       \"</ul>\\n\"+\n",
       "       \"<code>\\n\"+\n",
       "       \"from bokeh.resources import INLINE\\n\"+\n",
       "       \"output_notebook(resources=INLINE)\\n\"+\n",
       "       \"</code>\\n\"+\n",
       "       \"</div>\"}};\n",
       "  \n",
       "    function display_loaded() {\n",
       "      if (window.Bokeh !== undefined) {\n",
       "        document.getElementById(\"efe5d4af-5aab-4a49-986b-16bbadcd98c6\").textContent = \"BokehJS successfully loaded.\";\n",
       "      } else if (Date.now() < window._bokeh_timeout) {\n",
       "        setTimeout(display_loaded, 100)\n",
       "      }\n",
       "    }\n",
       "  \n",
       "    function run_callbacks() {\n",
       "      window._bokeh_onload_callbacks.forEach(function(callback) { callback() });\n",
       "      delete window._bokeh_onload_callbacks\n",
       "      console.info(\"Bokeh: all callbacks have finished\");\n",
       "    }\n",
       "  \n",
       "    function load_libs(js_urls, callback) {\n",
       "      window._bokeh_onload_callbacks.push(callback);\n",
       "      if (window._bokeh_is_loading > 0) {\n",
       "        console.log(\"Bokeh: BokehJS is being loaded, scheduling callback at\", now());\n",
       "        return null;\n",
       "      }\n",
       "      if (js_urls == null || js_urls.length === 0) {\n",
       "        run_callbacks();\n",
       "        return null;\n",
       "      }\n",
       "      console.log(\"Bokeh: BokehJS not loaded, scheduling load and callback at\", now());\n",
       "      window._bokeh_is_loading = js_urls.length;\n",
       "      for (var i = 0; i < js_urls.length; i++) {\n",
       "        var url = js_urls[i];\n",
       "        var s = document.createElement('script');\n",
       "        s.src = url;\n",
       "        s.async = false;\n",
       "        s.onreadystatechange = s.onload = function() {\n",
       "          window._bokeh_is_loading--;\n",
       "          if (window._bokeh_is_loading === 0) {\n",
       "            console.log(\"Bokeh: all BokehJS libraries loaded\");\n",
       "            run_callbacks()\n",
       "          }\n",
       "        };\n",
       "        s.onerror = function() {\n",
       "          console.warn(\"failed to load library \" + url);\n",
       "        };\n",
       "        console.log(\"Bokeh: injecting script tag for BokehJS library: \", url);\n",
       "        document.getElementsByTagName(\"head\")[0].appendChild(s);\n",
       "      }\n",
       "    };var element = document.getElementById(\"efe5d4af-5aab-4a49-986b-16bbadcd98c6\");\n",
       "    if (element == null) {\n",
       "      console.log(\"Bokeh: ERROR: autoload.js configured with elementid 'efe5d4af-5aab-4a49-986b-16bbadcd98c6' but no matching script tag was found. \")\n",
       "      return false;\n",
       "    }\n",
       "  \n",
       "    var js_urls = [];\n",
       "  \n",
       "    var inline_js = [\n",
       "      function(Bokeh) {\n",
       "        (function() {\n",
       "          var fn = function() {\n",
       "            var docs_json = {\"97cfac5a-3a90-49c9-844e-660a28d204c2\":{\"roots\":{\"references\":[{\"attributes\":{\"plot\":null,\"text\":\"\"},\"id\":\"845e3df3-c00a-4f1b-b1ad-fa9e002d5a61\",\"type\":\"Title\"},{\"attributes\":{},\"id\":\"678625ab-6510-43c5-8e73-e1406e75b23c\",\"type\":\"ToolEvents\"},{\"attributes\":{\"callback\":null},\"id\":\"cfc2c021-bab1-4e54-920e-42a4ebfa138a\",\"type\":\"DataRange1d\"},{\"attributes\":{\"formatter\":{\"id\":\"a1e12563-f1e5-434e-96e9-5c6849963eab\",\"type\":\"BasicTickFormatter\"},\"plot\":{\"id\":\"c2183db9-47c6-4b02-a964-bf0c9a0b456a\",\"subtype\":\"Figure\",\"type\":\"Plot\"},\"ticker\":{\"id\":\"71b26c03-aac8-44ba-97f9-ee9d889e0bfc\",\"type\":\"BasicTicker\"}},\"id\":\"57f2f9a5-39a6-4b51-9fba-b95f1c990816\",\"type\":\"LinearAxis\"},{\"attributes\":{},\"id\":\"71b26c03-aac8-44ba-97f9-ee9d889e0bfc\",\"type\":\"BasicTicker\"},{\"attributes\":{\"grid_line_color\":{\"value\":null},\"plot\":{\"id\":\"c2183db9-47c6-4b02-a964-bf0c9a0b456a\",\"subtype\":\"Figure\",\"type\":\"Plot\"},\"ticker\":{\"id\":\"71b26c03-aac8-44ba-97f9-ee9d889e0bfc\",\"type\":\"BasicTicker\"}},\"id\":\"ff33f551-2733-4ac4-8da0-eb73fe110738\",\"type\":\"Grid\"},{\"attributes\":{\"formatter\":{\"id\":\"22877558-ccbd-4874-8b18-5581247eb76c\",\"type\":\"BasicTickFormatter\"},\"plot\":{\"id\":\"c2183db9-47c6-4b02-a964-bf0c9a0b456a\",\"subtype\":\"Figure\",\"type\":\"Plot\"},\"ticker\":{\"id\":\"1ec58577-fea9-4cf0-9bcf-4383feb7eb0a\",\"type\":\"BasicTicker\"}},\"id\":\"27e8eb2c-e32e-4158-9ef7-98e6ae213f41\",\"type\":\"LinearAxis\"},{\"attributes\":{},\"id\":\"1ec58577-fea9-4cf0-9bcf-4383feb7eb0a\",\"type\":\"BasicTicker\"},{\"attributes\":{\"dimension\":1,\"grid_line_alpha\":{\"value\":0.5},\"grid_line_dash\":[6,4],\"plot\":{\"id\":\"c2183db9-47c6-4b02-a964-bf0c9a0b456a\",\"subtype\":\"Figure\",\"type\":\"Plot\"},\"ticker\":{\"id\":\"1ec58577-fea9-4cf0-9bcf-4383feb7eb0a\",\"type\":\"BasicTicker\"}},\"id\":\"b4b6ae8f-2e6a-4bb5-bc86-3a21883f7592\",\"type\":\"Grid\"},{\"attributes\":{\"callback\":null,\"column_names\":[\"x\",\"y\"],\"data\":{\"x\":[1,2,3,4,5],\"y\":[2,5,8,2,7]}},\"id\":\"bad56b33-adff-4b42-b511-e5c2af3c8ca7\",\"type\":\"ColumnDataSource\"},{\"attributes\":{},\"id\":\"a1e12563-f1e5-434e-96e9-5c6849963eab\",\"type\":\"BasicTickFormatter\"},{\"attributes\":{\"data_source\":{\"id\":\"bad56b33-adff-4b42-b511-e5c2af3c8ca7\",\"type\":\"ColumnDataSource\"},\"glyph\":{\"id\":\"a2e12eca-86d4-4550-810f-46598c28233f\",\"type\":\"Circle\"},\"hover_glyph\":null,\"nonselection_glyph\":{\"id\":\"9981a19f-0481-40cc-82f1-57b03fc6dcdc\",\"type\":\"Circle\"},\"selection_glyph\":null},\"id\":\"59daccbb-1754-4f03-9532-e8966588f7eb\",\"type\":\"GlyphRenderer\"},{\"attributes\":{\"bottom_units\":\"screen\",\"fill_alpha\":{\"value\":0.5},\"fill_color\":{\"value\":\"lightgrey\"},\"left_units\":\"screen\",\"level\":\"overlay\",\"line_alpha\":{\"value\":1.0},\"line_color\":{\"value\":\"black\"},\"line_dash\":[4,4],\"line_width\":{\"value\":2},\"plot\":null,\"render_mode\":\"css\",\"right_units\":\"screen\",\"top_units\":\"screen\"},\"id\":\"d0e7e124-e549-475d-b021-6f6d7f181216\",\"type\":\"BoxAnnotation\"},{\"attributes\":{\"plot\":{\"id\":\"c2183db9-47c6-4b02-a964-bf0c9a0b456a\",\"subtype\":\"Figure\",\"type\":\"Plot\"}},\"id\":\"16f8da3b-2a38-41cd-ac4a-4ae83d057806\",\"type\":\"PanTool\"},{\"attributes\":{},\"id\":\"22877558-ccbd-4874-8b18-5581247eb76c\",\"type\":\"BasicTickFormatter\"},{\"attributes\":{\"plot\":{\"id\":\"c2183db9-47c6-4b02-a964-bf0c9a0b456a\",\"subtype\":\"Figure\",\"type\":\"Plot\"}},\"id\":\"edc63802-e367-4e88-b4ed-4878aeba9490\",\"type\":\"WheelZoomTool\"},{\"attributes\":{\"overlay\":{\"id\":\"d0e7e124-e549-475d-b021-6f6d7f181216\",\"type\":\"BoxAnnotation\"},\"plot\":{\"id\":\"c2183db9-47c6-4b02-a964-bf0c9a0b456a\",\"subtype\":\"Figure\",\"type\":\"Plot\"}},\"id\":\"d3111210-f804-4229-93ed-c9ffb7c27414\",\"type\":\"BoxZoomTool\"},{\"attributes\":{\"plot\":{\"id\":\"c2183db9-47c6-4b02-a964-bf0c9a0b456a\",\"subtype\":\"Figure\",\"type\":\"Plot\"}},\"id\":\"6f7c3762-ad85-4cd3-acbf-3957163af407\",\"type\":\"SaveTool\"},{\"attributes\":{\"plot\":{\"id\":\"c2183db9-47c6-4b02-a964-bf0c9a0b456a\",\"subtype\":\"Figure\",\"type\":\"Plot\"}},\"id\":\"fcd014fd-1764-4709-a7a2-07e1f72711e0\",\"type\":\"ResetTool\"},{\"attributes\":{\"plot\":{\"id\":\"c2183db9-47c6-4b02-a964-bf0c9a0b456a\",\"subtype\":\"Figure\",\"type\":\"Plot\"}},\"id\":\"871dd1d4-19a5-42f7-85b4-1dfe3f7587a5\",\"type\":\"HelpTool\"},{\"attributes\":{\"fill_alpha\":{\"value\":0.1},\"fill_color\":{\"value\":\"#1f77b4\"},\"line_alpha\":{\"value\":0.1},\"line_color\":{\"value\":\"#1f77b4\"},\"size\":{\"units\":\"screen\",\"value\":10},\"x\":{\"field\":\"x\"},\"y\":{\"field\":\"y\"}},\"id\":\"9981a19f-0481-40cc-82f1-57b03fc6dcdc\",\"type\":\"Circle\"},{\"attributes\":{\"fill_color\":{\"value\":\"#1f77b4\"},\"line_color\":{\"value\":\"#1f77b4\"},\"size\":{\"units\":\"screen\",\"value\":10},\"x\":{\"field\":\"x\"},\"y\":{\"field\":\"y\"}},\"id\":\"a2e12eca-86d4-4550-810f-46598c28233f\",\"type\":\"Circle\"},{\"attributes\":{\"below\":[{\"id\":\"57f2f9a5-39a6-4b51-9fba-b95f1c990816\",\"type\":\"LinearAxis\"}],\"left\":[{\"id\":\"27e8eb2c-e32e-4158-9ef7-98e6ae213f41\",\"type\":\"LinearAxis\"}],\"plot_height\":300,\"renderers\":[{\"id\":\"57f2f9a5-39a6-4b51-9fba-b95f1c990816\",\"type\":\"LinearAxis\"},{\"id\":\"ff33f551-2733-4ac4-8da0-eb73fe110738\",\"type\":\"Grid\"},{\"id\":\"27e8eb2c-e32e-4158-9ef7-98e6ae213f41\",\"type\":\"LinearAxis\"},{\"id\":\"b4b6ae8f-2e6a-4bb5-bc86-3a21883f7592\",\"type\":\"Grid\"},{\"id\":\"d0e7e124-e549-475d-b021-6f6d7f181216\",\"type\":\"BoxAnnotation\"},{\"id\":\"59daccbb-1754-4f03-9532-e8966588f7eb\",\"type\":\"GlyphRenderer\"}],\"title\":{\"id\":\"845e3df3-c00a-4f1b-b1ad-fa9e002d5a61\",\"type\":\"Title\"},\"tool_events\":{\"id\":\"678625ab-6510-43c5-8e73-e1406e75b23c\",\"type\":\"ToolEvents\"},\"toolbar\":{\"id\":\"2386f796-cf64-4464-bf9d-d57fadcbc7a8\",\"type\":\"Toolbar\"},\"x_range\":{\"id\":\"bb744c39-1dae-43c6-bb55-b59ecd1d7ab3\",\"type\":\"DataRange1d\"},\"y_range\":{\"id\":\"cfc2c021-bab1-4e54-920e-42a4ebfa138a\",\"type\":\"DataRange1d\"}},\"id\":\"c2183db9-47c6-4b02-a964-bf0c9a0b456a\",\"subtype\":\"Figure\",\"type\":\"Plot\"},{\"attributes\":{\"callback\":null},\"id\":\"bb744c39-1dae-43c6-bb55-b59ecd1d7ab3\",\"type\":\"DataRange1d\"},{\"attributes\":{\"active_drag\":\"auto\",\"active_scroll\":\"auto\",\"active_tap\":\"auto\",\"tools\":[{\"id\":\"16f8da3b-2a38-41cd-ac4a-4ae83d057806\",\"type\":\"PanTool\"},{\"id\":\"edc63802-e367-4e88-b4ed-4878aeba9490\",\"type\":\"WheelZoomTool\"},{\"id\":\"d3111210-f804-4229-93ed-c9ffb7c27414\",\"type\":\"BoxZoomTool\"},{\"id\":\"6f7c3762-ad85-4cd3-acbf-3957163af407\",\"type\":\"SaveTool\"},{\"id\":\"fcd014fd-1764-4709-a7a2-07e1f72711e0\",\"type\":\"ResetTool\"},{\"id\":\"871dd1d4-19a5-42f7-85b4-1dfe3f7587a5\",\"type\":\"HelpTool\"}]},\"id\":\"2386f796-cf64-4464-bf9d-d57fadcbc7a8\",\"type\":\"Toolbar\"}],\"root_ids\":[\"c2183db9-47c6-4b02-a964-bf0c9a0b456a\"]},\"title\":\"Bokeh Application\",\"version\":\"0.12.4\"}};\n",
       "            var render_items = [{\"docid\":\"97cfac5a-3a90-49c9-844e-660a28d204c2\",\"elementid\":\"efe5d4af-5aab-4a49-986b-16bbadcd98c6\",\"modelid\":\"c2183db9-47c6-4b02-a964-bf0c9a0b456a\"}];\n",
       "            \n",
       "            Bokeh.embed.embed_items(docs_json, render_items);\n",
       "          };\n",
       "          if (document.readyState != \"loading\") fn();\n",
       "          else document.addEventListener(\"DOMContentLoaded\", fn);\n",
       "        })();\n",
       "      },\n",
       "      function(Bokeh) {\n",
       "      }\n",
       "    ];\n",
       "  \n",
       "    function run_inline_js() {\n",
       "      \n",
       "      if ((window.Bokeh !== undefined) || (force === true)) {\n",
       "        for (var i = 0; i < inline_js.length; i++) {\n",
       "          inline_js[i](window.Bokeh);\n",
       "        }if (force === true) {\n",
       "          display_loaded();\n",
       "        }} else if (Date.now() < window._bokeh_timeout) {\n",
       "        setTimeout(run_inline_js, 100);\n",
       "      } else if (!window._bokeh_failed_load) {\n",
       "        console.log(\"Bokeh: BokehJS failed to load within specified timeout.\");\n",
       "        window._bokeh_failed_load = true;\n",
       "      } else if (force !== true) {\n",
       "        var cell = $(document.getElementById(\"efe5d4af-5aab-4a49-986b-16bbadcd98c6\")).parents('.cell').data().cell;\n",
       "        cell.output_area.append_execute_result(NB_LOAD_WARNING)\n",
       "      }\n",
       "  \n",
       "    }\n",
       "  \n",
       "    if (window._bokeh_is_loading === 0) {\n",
       "      console.log(\"Bokeh: BokehJS loaded, going straight to plotting\");\n",
       "      run_inline_js();\n",
       "    } else {\n",
       "      load_libs(js_urls, function() {\n",
       "        console.log(\"Bokeh: BokehJS plotting callback run at\", now());\n",
       "        run_inline_js();\n",
       "      });\n",
       "    }\n",
       "  }(this));\n",
       "</script>"
      ]
     },
     "metadata": {},
     "output_type": "display_data"
    }
   ],
   "source": [
    "show(p)"
   ]
  },
  {
   "cell_type": "code",
   "execution_count": 85,
   "metadata": {
    "collapsed": false
   },
   "outputs": [
    {
     "data": {
      "text/html": [
       "<div style=\"display: table;\"><div style=\"display: table-row;\"><div style=\"display: table-cell;\"><b title=\"bokeh.models.renderers.GlyphRenderer\">GlyphRenderer</b>(</div><div style=\"display: table-cell;\">id&nbsp;=&nbsp;'0c64c865-164d-4d8d-881d-0c1d0740c05c', <span id=\"a63fd899-717c-48ff-a0ff-c348e2fff2a5\" style=\"cursor: pointer;\">&hellip;)</span></div></div><div class=\"b72295e1-c033-46e5-a29c-2aac102d1678\" style=\"display: none;\"><div style=\"display: table-cell;\"></div><div style=\"display: table-cell;\">data_source&nbsp;=&nbsp;ColumnDataSource(id='96961498-835f-436d-9218-00eaa5fb4189', ...),</div></div><div class=\"b72295e1-c033-46e5-a29c-2aac102d1678\" style=\"display: none;\"><div style=\"display: table-cell;\"></div><div style=\"display: table-cell;\">glyph&nbsp;=&nbsp;Circle(id='1764e8bf-0e04-4feb-8586-6d6ccc335d85', ...),</div></div><div class=\"b72295e1-c033-46e5-a29c-2aac102d1678\" style=\"display: none;\"><div style=\"display: table-cell;\"></div><div style=\"display: table-cell;\">hover_glyph&nbsp;=&nbsp;None,</div></div><div class=\"b72295e1-c033-46e5-a29c-2aac102d1678\" style=\"display: none;\"><div style=\"display: table-cell;\"></div><div style=\"display: table-cell;\">js_callbacks&nbsp;=&nbsp;{},</div></div><div class=\"b72295e1-c033-46e5-a29c-2aac102d1678\" style=\"display: none;\"><div style=\"display: table-cell;\"></div><div style=\"display: table-cell;\">level&nbsp;=&nbsp;'glyph',</div></div><div class=\"b72295e1-c033-46e5-a29c-2aac102d1678\" style=\"display: none;\"><div style=\"display: table-cell;\"></div><div style=\"display: table-cell;\">name&nbsp;=&nbsp;None,</div></div><div class=\"b72295e1-c033-46e5-a29c-2aac102d1678\" style=\"display: none;\"><div style=\"display: table-cell;\"></div><div style=\"display: table-cell;\">nonselection_glyph&nbsp;=&nbsp;Circle(id='8ed8b07c-9a32-4e53-bfe8-45785d3ac6c1', ...),</div></div><div class=\"b72295e1-c033-46e5-a29c-2aac102d1678\" style=\"display: none;\"><div style=\"display: table-cell;\"></div><div style=\"display: table-cell;\">selection_glyph&nbsp;=&nbsp;None,</div></div><div class=\"b72295e1-c033-46e5-a29c-2aac102d1678\" style=\"display: none;\"><div style=\"display: table-cell;\"></div><div style=\"display: table-cell;\">tags&nbsp;=&nbsp;[],</div></div><div class=\"b72295e1-c033-46e5-a29c-2aac102d1678\" style=\"display: none;\"><div style=\"display: table-cell;\"></div><div style=\"display: table-cell;\">visible&nbsp;=&nbsp;True,</div></div><div class=\"b72295e1-c033-46e5-a29c-2aac102d1678\" style=\"display: none;\"><div style=\"display: table-cell;\"></div><div style=\"display: table-cell;\">x_range_name&nbsp;=&nbsp;'default',</div></div><div class=\"b72295e1-c033-46e5-a29c-2aac102d1678\" style=\"display: none;\"><div style=\"display: table-cell;\"></div><div style=\"display: table-cell;\">y_range_name&nbsp;=&nbsp;'default')</div></div></div>\n",
       "<script>\n",
       "(function() {\n",
       "  var expanded = false;\n",
       "  var ellipsis = document.getElementById(\"a63fd899-717c-48ff-a0ff-c348e2fff2a5\");\n",
       "  ellipsis.addEventListener(\"click\", function() {\n",
       "    var rows = document.getElementsByClassName(\"b72295e1-c033-46e5-a29c-2aac102d1678\");\n",
       "    for (var i = 0; i < rows.length; i++) {\n",
       "      var el = rows[i];\n",
       "      el.style.display = expanded ? \"none\" : \"table-row\";\n",
       "    }\n",
       "    ellipsis.innerHTML = expanded ? \"&hellip;)\" : \"&lsaquo;&lsaquo;&lsaquo;\";\n",
       "    expanded = !expanded;\n",
       "  });\n",
       "})();\n",
       "</script>\n"
      ],
      "text/plain": [
       "GlyphRenderer(id='0c64c865-164d-4d8d-881d-0c1d0740c05c', ...)"
      ]
     },
     "execution_count": 85,
     "metadata": {},
     "output_type": "execute_result"
    }
   ],
   "source": [
    "p = figure(plot_width=600, plot_height=300)\n",
    "p.circle([1,2,3,4,5], [2,5,8,2,7], size=10)"
   ]
  },
  {
   "cell_type": "code",
   "execution_count": 86,
   "metadata": {
    "collapsed": true
   },
   "outputs": [],
   "source": [
    "# change just some things about the x-grid\n",
    "p.xgrid.grid_line_color = None"
   ]
  },
  {
   "cell_type": "code",
   "execution_count": 91,
   "metadata": {
    "collapsed": true
   },
   "outputs": [],
   "source": [
    "# change just some things about the y-grid\n",
    "p.ygrid.band_fill_alpha = 0.3\n",
    "p.ygrid.band_fill_color = \"navy\""
   ]
  },
  {
   "cell_type": "code",
   "execution_count": 92,
   "metadata": {
    "collapsed": false
   },
   "outputs": [
    {
     "data": {
      "text/html": [
       "\n",
       "\n",
       "    <div class=\"bk-root\">\n",
       "        <div class=\"bk-plotdiv\" id=\"bf04eb16-5a73-4f32-8c50-a85249102d44\"></div>\n",
       "    </div>\n",
       "<script type=\"text/javascript\">\n",
       "  \n",
       "  (function(global) {\n",
       "    function now() {\n",
       "      return new Date();\n",
       "    }\n",
       "  \n",
       "    var force = false;\n",
       "  \n",
       "    if (typeof (window._bokeh_onload_callbacks) === \"undefined\" || force === true) {\n",
       "      window._bokeh_onload_callbacks = [];\n",
       "      window._bokeh_is_loading = undefined;\n",
       "    }\n",
       "  \n",
       "  \n",
       "    \n",
       "    if (typeof (window._bokeh_timeout) === \"undefined\" || force === true) {\n",
       "      window._bokeh_timeout = Date.now() + 0;\n",
       "      window._bokeh_failed_load = false;\n",
       "    }\n",
       "  \n",
       "    var NB_LOAD_WARNING = {'data': {'text/html':\n",
       "       \"<div style='background-color: #fdd'>\\n\"+\n",
       "       \"<p>\\n\"+\n",
       "       \"BokehJS does not appear to have successfully loaded. If loading BokehJS from CDN, this \\n\"+\n",
       "       \"may be due to a slow or bad network connection. Possible fixes:\\n\"+\n",
       "       \"</p>\\n\"+\n",
       "       \"<ul>\\n\"+\n",
       "       \"<li>re-rerun `output_notebook()` to attempt to load from CDN again, or</li>\\n\"+\n",
       "       \"<li>use INLINE resources instead, as so:</li>\\n\"+\n",
       "       \"</ul>\\n\"+\n",
       "       \"<code>\\n\"+\n",
       "       \"from bokeh.resources import INLINE\\n\"+\n",
       "       \"output_notebook(resources=INLINE)\\n\"+\n",
       "       \"</code>\\n\"+\n",
       "       \"</div>\"}};\n",
       "  \n",
       "    function display_loaded() {\n",
       "      if (window.Bokeh !== undefined) {\n",
       "        document.getElementById(\"bf04eb16-5a73-4f32-8c50-a85249102d44\").textContent = \"BokehJS successfully loaded.\";\n",
       "      } else if (Date.now() < window._bokeh_timeout) {\n",
       "        setTimeout(display_loaded, 100)\n",
       "      }\n",
       "    }\n",
       "  \n",
       "    function run_callbacks() {\n",
       "      window._bokeh_onload_callbacks.forEach(function(callback) { callback() });\n",
       "      delete window._bokeh_onload_callbacks\n",
       "      console.info(\"Bokeh: all callbacks have finished\");\n",
       "    }\n",
       "  \n",
       "    function load_libs(js_urls, callback) {\n",
       "      window._bokeh_onload_callbacks.push(callback);\n",
       "      if (window._bokeh_is_loading > 0) {\n",
       "        console.log(\"Bokeh: BokehJS is being loaded, scheduling callback at\", now());\n",
       "        return null;\n",
       "      }\n",
       "      if (js_urls == null || js_urls.length === 0) {\n",
       "        run_callbacks();\n",
       "        return null;\n",
       "      }\n",
       "      console.log(\"Bokeh: BokehJS not loaded, scheduling load and callback at\", now());\n",
       "      window._bokeh_is_loading = js_urls.length;\n",
       "      for (var i = 0; i < js_urls.length; i++) {\n",
       "        var url = js_urls[i];\n",
       "        var s = document.createElement('script');\n",
       "        s.src = url;\n",
       "        s.async = false;\n",
       "        s.onreadystatechange = s.onload = function() {\n",
       "          window._bokeh_is_loading--;\n",
       "          if (window._bokeh_is_loading === 0) {\n",
       "            console.log(\"Bokeh: all BokehJS libraries loaded\");\n",
       "            run_callbacks()\n",
       "          }\n",
       "        };\n",
       "        s.onerror = function() {\n",
       "          console.warn(\"failed to load library \" + url);\n",
       "        };\n",
       "        console.log(\"Bokeh: injecting script tag for BokehJS library: \", url);\n",
       "        document.getElementsByTagName(\"head\")[0].appendChild(s);\n",
       "      }\n",
       "    };var element = document.getElementById(\"bf04eb16-5a73-4f32-8c50-a85249102d44\");\n",
       "    if (element == null) {\n",
       "      console.log(\"Bokeh: ERROR: autoload.js configured with elementid 'bf04eb16-5a73-4f32-8c50-a85249102d44' but no matching script tag was found. \")\n",
       "      return false;\n",
       "    }\n",
       "  \n",
       "    var js_urls = [];\n",
       "  \n",
       "    var inline_js = [\n",
       "      function(Bokeh) {\n",
       "        (function() {\n",
       "          var fn = function() {\n",
       "            var docs_json = {\"93fcdbff-0c4f-4055-88f8-d52d150a2e41\":{\"roots\":{\"references\":[{\"attributes\":{\"plot\":{\"id\":\"ea1f94af-dfae-4477-91b6-988bf63c3e77\",\"subtype\":\"Figure\",\"type\":\"Plot\"}},\"id\":\"2e0134ce-268b-46d0-b950-9eeaab7010c4\",\"type\":\"SaveTool\"},{\"attributes\":{\"plot\":{\"id\":\"ea1f94af-dfae-4477-91b6-988bf63c3e77\",\"subtype\":\"Figure\",\"type\":\"Plot\"}},\"id\":\"ff82fd13-0846-45d9-bfa1-13bf5503553a\",\"type\":\"WheelZoomTool\"},{\"attributes\":{\"plot\":null,\"text\":\"\"},\"id\":\"3e06104e-c879-4ddb-adfe-ec746e9edf4f\",\"type\":\"Title\"},{\"attributes\":{\"fill_color\":{\"value\":\"#1f77b4\"},\"line_color\":{\"value\":\"#1f77b4\"},\"size\":{\"units\":\"screen\",\"value\":10},\"x\":{\"field\":\"x\"},\"y\":{\"field\":\"y\"}},\"id\":\"1764e8bf-0e04-4feb-8586-6d6ccc335d85\",\"type\":\"Circle\"},{\"attributes\":{\"below\":[{\"id\":\"bdd47fb8-bb66-4e7e-994d-7669a401a65a\",\"type\":\"LinearAxis\"}],\"left\":[{\"id\":\"32de35d4-de75-4748-a951-3a83605da587\",\"type\":\"LinearAxis\"}],\"plot_height\":300,\"renderers\":[{\"id\":\"bdd47fb8-bb66-4e7e-994d-7669a401a65a\",\"type\":\"LinearAxis\"},{\"id\":\"785f2b41-5d8a-468c-bb1e-f7eed0e99bf1\",\"type\":\"Grid\"},{\"id\":\"32de35d4-de75-4748-a951-3a83605da587\",\"type\":\"LinearAxis\"},{\"id\":\"ade338bf-73d5-4975-a007-e463975d52ce\",\"type\":\"Grid\"},{\"id\":\"487ea890-689f-4133-b646-5cae9d7c0368\",\"type\":\"BoxAnnotation\"},{\"id\":\"0c64c865-164d-4d8d-881d-0c1d0740c05c\",\"type\":\"GlyphRenderer\"}],\"title\":{\"id\":\"3e06104e-c879-4ddb-adfe-ec746e9edf4f\",\"type\":\"Title\"},\"tool_events\":{\"id\":\"8f43f42d-fd8b-4661-93a8-734763cea077\",\"type\":\"ToolEvents\"},\"toolbar\":{\"id\":\"16bf6bd1-c674-4e72-a25e-b4d137c3bd0b\",\"type\":\"Toolbar\"},\"x_range\":{\"id\":\"3c06a456-2147-457f-818c-8a6bb8b4897c\",\"type\":\"DataRange1d\"},\"y_range\":{\"id\":\"596d0693-0f45-4dc4-b679-186b1b57fd3d\",\"type\":\"DataRange1d\"}},\"id\":\"ea1f94af-dfae-4477-91b6-988bf63c3e77\",\"subtype\":\"Figure\",\"type\":\"Plot\"},{\"attributes\":{\"band_fill_alpha\":{\"value\":0.3},\"band_fill_color\":{\"value\":\"navy\"},\"dimension\":1,\"plot\":{\"id\":\"ea1f94af-dfae-4477-91b6-988bf63c3e77\",\"subtype\":\"Figure\",\"type\":\"Plot\"},\"ticker\":{\"id\":\"a8eb8212-892c-4255-9f04-c1f0087e4c09\",\"type\":\"BasicTicker\"}},\"id\":\"ade338bf-73d5-4975-a007-e463975d52ce\",\"type\":\"Grid\"},{\"attributes\":{},\"id\":\"5745a5ff-0a33-45f9-b02e-78349cbd521b\",\"type\":\"BasicTickFormatter\"},{\"attributes\":{\"fill_alpha\":{\"value\":0.1},\"fill_color\":{\"value\":\"#1f77b4\"},\"line_alpha\":{\"value\":0.1},\"line_color\":{\"value\":\"#1f77b4\"},\"size\":{\"units\":\"screen\",\"value\":10},\"x\":{\"field\":\"x\"},\"y\":{\"field\":\"y\"}},\"id\":\"8ed8b07c-9a32-4e53-bfe8-45785d3ac6c1\",\"type\":\"Circle\"},{\"attributes\":{\"data_source\":{\"id\":\"96961498-835f-436d-9218-00eaa5fb4189\",\"type\":\"ColumnDataSource\"},\"glyph\":{\"id\":\"1764e8bf-0e04-4feb-8586-6d6ccc335d85\",\"type\":\"Circle\"},\"hover_glyph\":null,\"nonselection_glyph\":{\"id\":\"8ed8b07c-9a32-4e53-bfe8-45785d3ac6c1\",\"type\":\"Circle\"},\"selection_glyph\":null},\"id\":\"0c64c865-164d-4d8d-881d-0c1d0740c05c\",\"type\":\"GlyphRenderer\"},{\"attributes\":{\"bottom_units\":\"screen\",\"fill_alpha\":{\"value\":0.5},\"fill_color\":{\"value\":\"lightgrey\"},\"left_units\":\"screen\",\"level\":\"overlay\",\"line_alpha\":{\"value\":1.0},\"line_color\":{\"value\":\"black\"},\"line_dash\":[4,4],\"line_width\":{\"value\":2},\"plot\":null,\"render_mode\":\"css\",\"right_units\":\"screen\",\"top_units\":\"screen\"},\"id\":\"487ea890-689f-4133-b646-5cae9d7c0368\",\"type\":\"BoxAnnotation\"},{\"attributes\":{\"plot\":{\"id\":\"ea1f94af-dfae-4477-91b6-988bf63c3e77\",\"subtype\":\"Figure\",\"type\":\"Plot\"}},\"id\":\"86614b32-d4d0-45e1-bb5e-92e44c8711a4\",\"type\":\"HelpTool\"},{\"attributes\":{\"grid_line_color\":{\"value\":null},\"plot\":{\"id\":\"ea1f94af-dfae-4477-91b6-988bf63c3e77\",\"subtype\":\"Figure\",\"type\":\"Plot\"},\"ticker\":{\"id\":\"e6389f28-2233-4192-9d4f-4de5ce77eb57\",\"type\":\"BasicTicker\"}},\"id\":\"785f2b41-5d8a-468c-bb1e-f7eed0e99bf1\",\"type\":\"Grid\"},{\"attributes\":{\"callback\":null},\"id\":\"3c06a456-2147-457f-818c-8a6bb8b4897c\",\"type\":\"DataRange1d\"},{\"attributes\":{\"callback\":null},\"id\":\"596d0693-0f45-4dc4-b679-186b1b57fd3d\",\"type\":\"DataRange1d\"},{\"attributes\":{},\"id\":\"8f43f42d-fd8b-4661-93a8-734763cea077\",\"type\":\"ToolEvents\"},{\"attributes\":{\"plot\":{\"id\":\"ea1f94af-dfae-4477-91b6-988bf63c3e77\",\"subtype\":\"Figure\",\"type\":\"Plot\"}},\"id\":\"a1ad22ba-d182-4019-a601-6422109bcc61\",\"type\":\"PanTool\"},{\"attributes\":{},\"id\":\"4f1d947b-47a3-4113-af42-4761c7d46a1d\",\"type\":\"BasicTickFormatter\"},{\"attributes\":{},\"id\":\"a8eb8212-892c-4255-9f04-c1f0087e4c09\",\"type\":\"BasicTicker\"},{\"attributes\":{\"formatter\":{\"id\":\"5745a5ff-0a33-45f9-b02e-78349cbd521b\",\"type\":\"BasicTickFormatter\"},\"plot\":{\"id\":\"ea1f94af-dfae-4477-91b6-988bf63c3e77\",\"subtype\":\"Figure\",\"type\":\"Plot\"},\"ticker\":{\"id\":\"e6389f28-2233-4192-9d4f-4de5ce77eb57\",\"type\":\"BasicTicker\"}},\"id\":\"bdd47fb8-bb66-4e7e-994d-7669a401a65a\",\"type\":\"LinearAxis\"},{\"attributes\":{\"overlay\":{\"id\":\"487ea890-689f-4133-b646-5cae9d7c0368\",\"type\":\"BoxAnnotation\"},\"plot\":{\"id\":\"ea1f94af-dfae-4477-91b6-988bf63c3e77\",\"subtype\":\"Figure\",\"type\":\"Plot\"}},\"id\":\"b034157b-893d-46b6-b74b-8bb55c521109\",\"type\":\"BoxZoomTool\"},{\"attributes\":{\"plot\":{\"id\":\"ea1f94af-dfae-4477-91b6-988bf63c3e77\",\"subtype\":\"Figure\",\"type\":\"Plot\"}},\"id\":\"c777765e-8ae2-456a-8fc6-0a8ebf907717\",\"type\":\"ResetTool\"},{\"attributes\":{\"formatter\":{\"id\":\"4f1d947b-47a3-4113-af42-4761c7d46a1d\",\"type\":\"BasicTickFormatter\"},\"plot\":{\"id\":\"ea1f94af-dfae-4477-91b6-988bf63c3e77\",\"subtype\":\"Figure\",\"type\":\"Plot\"},\"ticker\":{\"id\":\"a8eb8212-892c-4255-9f04-c1f0087e4c09\",\"type\":\"BasicTicker\"}},\"id\":\"32de35d4-de75-4748-a951-3a83605da587\",\"type\":\"LinearAxis\"},{\"attributes\":{\"active_drag\":\"auto\",\"active_scroll\":\"auto\",\"active_tap\":\"auto\",\"tools\":[{\"id\":\"a1ad22ba-d182-4019-a601-6422109bcc61\",\"type\":\"PanTool\"},{\"id\":\"ff82fd13-0846-45d9-bfa1-13bf5503553a\",\"type\":\"WheelZoomTool\"},{\"id\":\"b034157b-893d-46b6-b74b-8bb55c521109\",\"type\":\"BoxZoomTool\"},{\"id\":\"2e0134ce-268b-46d0-b950-9eeaab7010c4\",\"type\":\"SaveTool\"},{\"id\":\"c777765e-8ae2-456a-8fc6-0a8ebf907717\",\"type\":\"ResetTool\"},{\"id\":\"86614b32-d4d0-45e1-bb5e-92e44c8711a4\",\"type\":\"HelpTool\"}]},\"id\":\"16bf6bd1-c674-4e72-a25e-b4d137c3bd0b\",\"type\":\"Toolbar\"},{\"attributes\":{},\"id\":\"e6389f28-2233-4192-9d4f-4de5ce77eb57\",\"type\":\"BasicTicker\"},{\"attributes\":{\"callback\":null,\"column_names\":[\"x\",\"y\"],\"data\":{\"x\":[1,2,3,4,5],\"y\":[2,5,8,2,7]}},\"id\":\"96961498-835f-436d-9218-00eaa5fb4189\",\"type\":\"ColumnDataSource\"}],\"root_ids\":[\"ea1f94af-dfae-4477-91b6-988bf63c3e77\"]},\"title\":\"Bokeh Application\",\"version\":\"0.12.4\"}};\n",
       "            var render_items = [{\"docid\":\"93fcdbff-0c4f-4055-88f8-d52d150a2e41\",\"elementid\":\"bf04eb16-5a73-4f32-8c50-a85249102d44\",\"modelid\":\"ea1f94af-dfae-4477-91b6-988bf63c3e77\"}];\n",
       "            \n",
       "            Bokeh.embed.embed_items(docs_json, render_items);\n",
       "          };\n",
       "          if (document.readyState != \"loading\") fn();\n",
       "          else document.addEventListener(\"DOMContentLoaded\", fn);\n",
       "        })();\n",
       "      },\n",
       "      function(Bokeh) {\n",
       "      }\n",
       "    ];\n",
       "  \n",
       "    function run_inline_js() {\n",
       "      \n",
       "      if ((window.Bokeh !== undefined) || (force === true)) {\n",
       "        for (var i = 0; i < inline_js.length; i++) {\n",
       "          inline_js[i](window.Bokeh);\n",
       "        }if (force === true) {\n",
       "          display_loaded();\n",
       "        }} else if (Date.now() < window._bokeh_timeout) {\n",
       "        setTimeout(run_inline_js, 100);\n",
       "      } else if (!window._bokeh_failed_load) {\n",
       "        console.log(\"Bokeh: BokehJS failed to load within specified timeout.\");\n",
       "        window._bokeh_failed_load = true;\n",
       "      } else if (force !== true) {\n",
       "        var cell = $(document.getElementById(\"bf04eb16-5a73-4f32-8c50-a85249102d44\")).parents('.cell').data().cell;\n",
       "        cell.output_area.append_execute_result(NB_LOAD_WARNING)\n",
       "      }\n",
       "  \n",
       "    }\n",
       "  \n",
       "    if (window._bokeh_is_loading === 0) {\n",
       "      console.log(\"Bokeh: BokehJS loaded, going straight to plotting\");\n",
       "      run_inline_js();\n",
       "    } else {\n",
       "      load_libs(js_urls, function() {\n",
       "        console.log(\"Bokeh: BokehJS plotting callback run at\", now());\n",
       "        run_inline_js();\n",
       "      });\n",
       "    }\n",
       "  }(this));\n",
       "</script>"
      ]
     },
     "metadata": {},
     "output_type": "display_data"
    }
   ],
   "source": [
    "show(p)"
   ]
  },
  {
   "cell_type": "markdown",
   "metadata": {},
   "source": [
    "## Exercise 4.5 Grids\n",
    "\n",
    "Create a plot of your own and customize several grid properties"
   ]
  },
  {
   "cell_type": "code",
   "execution_count": null,
   "metadata": {
    "collapsed": true
   },
   "outputs": [],
   "source": [
    "# Exercise"
   ]
  },
  {
   "cell_type": "markdown",
   "metadata": {},
   "source": [
    "# Legends\n",
    "\n",
    "[Legends](http://bokeh.pydata.org/en/latest/docs/user_guide/styling.html#legends)"
   ]
  },
  {
   "cell_type": "code",
   "execution_count": 93,
   "metadata": {
    "collapsed": true
   },
   "outputs": [],
   "source": [
    "import numpy as np"
   ]
  },
  {
   "cell_type": "code",
   "execution_count": 94,
   "metadata": {
    "collapsed": true
   },
   "outputs": [],
   "source": [
    "x = np.linspace(0, 4*np.pi, 100)\n",
    "y = np.sin(x)"
   ]
  },
  {
   "cell_type": "code",
   "execution_count": 95,
   "metadata": {
    "collapsed": true
   },
   "outputs": [],
   "source": [
    "p = figure(width=600, height=300)"
   ]
  },
  {
   "cell_type": "code",
   "execution_count": 96,
   "metadata": {
    "collapsed": false
   },
   "outputs": [
    {
     "data": {
      "text/html": [
       "<div style=\"display: table;\"><div style=\"display: table-row;\"><div style=\"display: table-cell;\"><b title=\"bokeh.models.renderers.GlyphRenderer\">GlyphRenderer</b>(</div><div style=\"display: table-cell;\">id&nbsp;=&nbsp;'b66e7c59-a259-4f2b-8fc4-b836ac8ea3d4', <span id=\"f5d79114-19f9-4992-aedc-324bb92fa38d\" style=\"cursor: pointer;\">&hellip;)</span></div></div><div class=\"c4f2dc0d-a18e-4e66-bd39-3c66fabc0dc0\" style=\"display: none;\"><div style=\"display: table-cell;\"></div><div style=\"display: table-cell;\">data_source&nbsp;=&nbsp;ColumnDataSource(id='f75ba4e3-9b88-496f-818f-efbed813062c', ...),</div></div><div class=\"c4f2dc0d-a18e-4e66-bd39-3c66fabc0dc0\" style=\"display: none;\"><div style=\"display: table-cell;\"></div><div style=\"display: table-cell;\">glyph&nbsp;=&nbsp;Line(id='1388b016-443b-4fed-8c26-c717f5f8b23a', ...),</div></div><div class=\"c4f2dc0d-a18e-4e66-bd39-3c66fabc0dc0\" style=\"display: none;\"><div style=\"display: table-cell;\"></div><div style=\"display: table-cell;\">hover_glyph&nbsp;=&nbsp;None,</div></div><div class=\"c4f2dc0d-a18e-4e66-bd39-3c66fabc0dc0\" style=\"display: none;\"><div style=\"display: table-cell;\"></div><div style=\"display: table-cell;\">js_callbacks&nbsp;=&nbsp;{},</div></div><div class=\"c4f2dc0d-a18e-4e66-bd39-3c66fabc0dc0\" style=\"display: none;\"><div style=\"display: table-cell;\"></div><div style=\"display: table-cell;\">level&nbsp;=&nbsp;'glyph',</div></div><div class=\"c4f2dc0d-a18e-4e66-bd39-3c66fabc0dc0\" style=\"display: none;\"><div style=\"display: table-cell;\"></div><div style=\"display: table-cell;\">name&nbsp;=&nbsp;None,</div></div><div class=\"c4f2dc0d-a18e-4e66-bd39-3c66fabc0dc0\" style=\"display: none;\"><div style=\"display: table-cell;\"></div><div style=\"display: table-cell;\">nonselection_glyph&nbsp;=&nbsp;Line(id='ed8fe842-b6e7-4d9a-8125-2308d778fd36', ...),</div></div><div class=\"c4f2dc0d-a18e-4e66-bd39-3c66fabc0dc0\" style=\"display: none;\"><div style=\"display: table-cell;\"></div><div style=\"display: table-cell;\">selection_glyph&nbsp;=&nbsp;None,</div></div><div class=\"c4f2dc0d-a18e-4e66-bd39-3c66fabc0dc0\" style=\"display: none;\"><div style=\"display: table-cell;\"></div><div style=\"display: table-cell;\">tags&nbsp;=&nbsp;[],</div></div><div class=\"c4f2dc0d-a18e-4e66-bd39-3c66fabc0dc0\" style=\"display: none;\"><div style=\"display: table-cell;\"></div><div style=\"display: table-cell;\">visible&nbsp;=&nbsp;True,</div></div><div class=\"c4f2dc0d-a18e-4e66-bd39-3c66fabc0dc0\" style=\"display: none;\"><div style=\"display: table-cell;\"></div><div style=\"display: table-cell;\">x_range_name&nbsp;=&nbsp;'default',</div></div><div class=\"c4f2dc0d-a18e-4e66-bd39-3c66fabc0dc0\" style=\"display: none;\"><div style=\"display: table-cell;\"></div><div style=\"display: table-cell;\">y_range_name&nbsp;=&nbsp;'default')</div></div></div>\n",
       "<script>\n",
       "(function() {\n",
       "  var expanded = false;\n",
       "  var ellipsis = document.getElementById(\"f5d79114-19f9-4992-aedc-324bb92fa38d\");\n",
       "  ellipsis.addEventListener(\"click\", function() {\n",
       "    var rows = document.getElementsByClassName(\"c4f2dc0d-a18e-4e66-bd39-3c66fabc0dc0\");\n",
       "    for (var i = 0; i < rows.length; i++) {\n",
       "      var el = rows[i];\n",
       "      el.style.display = expanded ? \"none\" : \"table-row\";\n",
       "    }\n",
       "    ellipsis.innerHTML = expanded ? \"&hellip;)\" : \"&lsaquo;&lsaquo;&lsaquo;\";\n",
       "    expanded = !expanded;\n",
       "  });\n",
       "})();\n",
       "</script>\n"
      ],
      "text/plain": [
       "GlyphRenderer(id='b66e7c59-a259-4f2b-8fc4-b836ac8ea3d4', ...)"
      ]
     },
     "execution_count": 96,
     "metadata": {},
     "output_type": "execute_result"
    }
   ],
   "source": [
    "p.circle(x, y, legend=\"sin(x)\")\n",
    "p.line(x, y, legend=\"sin(x)\")"
   ]
  },
  {
   "cell_type": "code",
   "execution_count": 97,
   "metadata": {
    "collapsed": false
   },
   "outputs": [
    {
     "data": {
      "text/html": [
       "<div style=\"display: table;\"><div style=\"display: table-row;\"><div style=\"display: table-cell;\"><b title=\"bokeh.models.renderers.GlyphRenderer\">GlyphRenderer</b>(</div><div style=\"display: table-cell;\">id&nbsp;=&nbsp;'e50f36de-4d8e-4cce-86f4-572524c661f7', <span id=\"8cbba9b4-bd8f-4258-8984-c132b17ba9ba\" style=\"cursor: pointer;\">&hellip;)</span></div></div><div class=\"f26c12bb-9c29-4c3d-9284-671dd679f974\" style=\"display: none;\"><div style=\"display: table-cell;\"></div><div style=\"display: table-cell;\">data_source&nbsp;=&nbsp;ColumnDataSource(id='6c2f596c-7c9b-42a5-932d-f792e29dafe4', ...),</div></div><div class=\"f26c12bb-9c29-4c3d-9284-671dd679f974\" style=\"display: none;\"><div style=\"display: table-cell;\"></div><div style=\"display: table-cell;\">glyph&nbsp;=&nbsp;Line(id='7558fee8-5a43-44ae-a15c-373ec7868d7d', ...),</div></div><div class=\"f26c12bb-9c29-4c3d-9284-671dd679f974\" style=\"display: none;\"><div style=\"display: table-cell;\"></div><div style=\"display: table-cell;\">hover_glyph&nbsp;=&nbsp;None,</div></div><div class=\"f26c12bb-9c29-4c3d-9284-671dd679f974\" style=\"display: none;\"><div style=\"display: table-cell;\"></div><div style=\"display: table-cell;\">js_callbacks&nbsp;=&nbsp;{},</div></div><div class=\"f26c12bb-9c29-4c3d-9284-671dd679f974\" style=\"display: none;\"><div style=\"display: table-cell;\"></div><div style=\"display: table-cell;\">level&nbsp;=&nbsp;'glyph',</div></div><div class=\"f26c12bb-9c29-4c3d-9284-671dd679f974\" style=\"display: none;\"><div style=\"display: table-cell;\"></div><div style=\"display: table-cell;\">name&nbsp;=&nbsp;None,</div></div><div class=\"f26c12bb-9c29-4c3d-9284-671dd679f974\" style=\"display: none;\"><div style=\"display: table-cell;\"></div><div style=\"display: table-cell;\">nonselection_glyph&nbsp;=&nbsp;Line(id='736dd45a-cace-45f9-8f86-36aeae187b3d', ...),</div></div><div class=\"f26c12bb-9c29-4c3d-9284-671dd679f974\" style=\"display: none;\"><div style=\"display: table-cell;\"></div><div style=\"display: table-cell;\">selection_glyph&nbsp;=&nbsp;None,</div></div><div class=\"f26c12bb-9c29-4c3d-9284-671dd679f974\" style=\"display: none;\"><div style=\"display: table-cell;\"></div><div style=\"display: table-cell;\">tags&nbsp;=&nbsp;[],</div></div><div class=\"f26c12bb-9c29-4c3d-9284-671dd679f974\" style=\"display: none;\"><div style=\"display: table-cell;\"></div><div style=\"display: table-cell;\">visible&nbsp;=&nbsp;True,</div></div><div class=\"f26c12bb-9c29-4c3d-9284-671dd679f974\" style=\"display: none;\"><div style=\"display: table-cell;\"></div><div style=\"display: table-cell;\">x_range_name&nbsp;=&nbsp;'default',</div></div><div class=\"f26c12bb-9c29-4c3d-9284-671dd679f974\" style=\"display: none;\"><div style=\"display: table-cell;\"></div><div style=\"display: table-cell;\">y_range_name&nbsp;=&nbsp;'default')</div></div></div>\n",
       "<script>\n",
       "(function() {\n",
       "  var expanded = false;\n",
       "  var ellipsis = document.getElementById(\"8cbba9b4-bd8f-4258-8984-c132b17ba9ba\");\n",
       "  ellipsis.addEventListener(\"click\", function() {\n",
       "    var rows = document.getElementsByClassName(\"f26c12bb-9c29-4c3d-9284-671dd679f974\");\n",
       "    for (var i = 0; i < rows.length; i++) {\n",
       "      var el = rows[i];\n",
       "      el.style.display = expanded ? \"none\" : \"table-row\";\n",
       "    }\n",
       "    ellipsis.innerHTML = expanded ? \"&hellip;)\" : \"&lsaquo;&lsaquo;&lsaquo;\";\n",
       "    expanded = !expanded;\n",
       "  });\n",
       "})();\n",
       "</script>\n"
      ],
      "text/plain": [
       "GlyphRenderer(id='e50f36de-4d8e-4cce-86f4-572524c661f7', ...)"
      ]
     },
     "execution_count": 97,
     "metadata": {},
     "output_type": "execute_result"
    }
   ],
   "source": [
    "p.line(x, 2*y, legend=\"2*sin(x)\", line_dash=[4, 4], \n",
    "       line_color=\"orange\", line_width=2)"
   ]
  },
  {
   "cell_type": "code",
   "execution_count": 98,
   "metadata": {
    "collapsed": false
   },
   "outputs": [
    {
     "data": {
      "text/html": [
       "<div style=\"display: table;\"><div style=\"display: table-row;\"><div style=\"display: table-cell;\"><b title=\"bokeh.models.renderers.GlyphRenderer\">GlyphRenderer</b>(</div><div style=\"display: table-cell;\">id&nbsp;=&nbsp;'e4975668-4ca6-4f55-beef-b5c357f63ca4', <span id=\"2fec4530-b043-4c32-bd47-d85f8cdd36e1\" style=\"cursor: pointer;\">&hellip;)</span></div></div><div class=\"7e34bfbc-3643-457d-9d5a-c82fce196e39\" style=\"display: none;\"><div style=\"display: table-cell;\"></div><div style=\"display: table-cell;\">data_source&nbsp;=&nbsp;ColumnDataSource(id='7be46923-aeae-4d7b-b926-bf0aa731baf6', ...),</div></div><div class=\"7e34bfbc-3643-457d-9d5a-c82fce196e39\" style=\"display: none;\"><div style=\"display: table-cell;\"></div><div style=\"display: table-cell;\">glyph&nbsp;=&nbsp;Square(id='ea486820-683c-4883-bfd8-dfe9bfc04f14', ...),</div></div><div class=\"7e34bfbc-3643-457d-9d5a-c82fce196e39\" style=\"display: none;\"><div style=\"display: table-cell;\"></div><div style=\"display: table-cell;\">hover_glyph&nbsp;=&nbsp;None,</div></div><div class=\"7e34bfbc-3643-457d-9d5a-c82fce196e39\" style=\"display: none;\"><div style=\"display: table-cell;\"></div><div style=\"display: table-cell;\">js_callbacks&nbsp;=&nbsp;{},</div></div><div class=\"7e34bfbc-3643-457d-9d5a-c82fce196e39\" style=\"display: none;\"><div style=\"display: table-cell;\"></div><div style=\"display: table-cell;\">level&nbsp;=&nbsp;'glyph',</div></div><div class=\"7e34bfbc-3643-457d-9d5a-c82fce196e39\" style=\"display: none;\"><div style=\"display: table-cell;\"></div><div style=\"display: table-cell;\">name&nbsp;=&nbsp;None,</div></div><div class=\"7e34bfbc-3643-457d-9d5a-c82fce196e39\" style=\"display: none;\"><div style=\"display: table-cell;\"></div><div style=\"display: table-cell;\">nonselection_glyph&nbsp;=&nbsp;Square(id='07edface-7fcf-4046-8c8b-da9c815d95d9', ...),</div></div><div class=\"7e34bfbc-3643-457d-9d5a-c82fce196e39\" style=\"display: none;\"><div style=\"display: table-cell;\"></div><div style=\"display: table-cell;\">selection_glyph&nbsp;=&nbsp;None,</div></div><div class=\"7e34bfbc-3643-457d-9d5a-c82fce196e39\" style=\"display: none;\"><div style=\"display: table-cell;\"></div><div style=\"display: table-cell;\">tags&nbsp;=&nbsp;[],</div></div><div class=\"7e34bfbc-3643-457d-9d5a-c82fce196e39\" style=\"display: none;\"><div style=\"display: table-cell;\"></div><div style=\"display: table-cell;\">visible&nbsp;=&nbsp;True,</div></div><div class=\"7e34bfbc-3643-457d-9d5a-c82fce196e39\" style=\"display: none;\"><div style=\"display: table-cell;\"></div><div style=\"display: table-cell;\">x_range_name&nbsp;=&nbsp;'default',</div></div><div class=\"7e34bfbc-3643-457d-9d5a-c82fce196e39\" style=\"display: none;\"><div style=\"display: table-cell;\"></div><div style=\"display: table-cell;\">y_range_name&nbsp;=&nbsp;'default')</div></div></div>\n",
       "<script>\n",
       "(function() {\n",
       "  var expanded = false;\n",
       "  var ellipsis = document.getElementById(\"2fec4530-b043-4c32-bd47-d85f8cdd36e1\");\n",
       "  ellipsis.addEventListener(\"click\", function() {\n",
       "    var rows = document.getElementsByClassName(\"7e34bfbc-3643-457d-9d5a-c82fce196e39\");\n",
       "    for (var i = 0; i < rows.length; i++) {\n",
       "      var el = rows[i];\n",
       "      el.style.display = expanded ? \"none\" : \"table-row\";\n",
       "    }\n",
       "    ellipsis.innerHTML = expanded ? \"&hellip;)\" : \"&lsaquo;&lsaquo;&lsaquo;\";\n",
       "    expanded = !expanded;\n",
       "  });\n",
       "})();\n",
       "</script>\n"
      ],
      "text/plain": [
       "GlyphRenderer(id='e4975668-4ca6-4f55-beef-b5c357f63ca4', ...)"
      ]
     },
     "execution_count": 98,
     "metadata": {},
     "output_type": "execute_result"
    }
   ],
   "source": [
    "p.line(x, 3*y, legend=\"3*sin(x)\", line_color=\"green\")\n",
    "p.square(x, 3*y, legend=\"3*sin(x)\", fill_color=\"white\", \n",
    "         line_color=\"green\")"
   ]
  },
  {
   "cell_type": "code",
   "execution_count": 100,
   "metadata": {
    "collapsed": true
   },
   "outputs": [],
   "source": [
    "p.legend.location = \"bottom_left\""
   ]
  },
  {
   "cell_type": "code",
   "execution_count": 101,
   "metadata": {
    "collapsed": false
   },
   "outputs": [
    {
     "data": {
      "text/html": [
       "\n",
       "\n",
       "    <div class=\"bk-root\">\n",
       "        <div class=\"bk-plotdiv\" id=\"b380b3ce-109c-4267-bcaf-e1dd3ee2665d\"></div>\n",
       "    </div>\n",
       "<script type=\"text/javascript\">\n",
       "  \n",
       "  (function(global) {\n",
       "    function now() {\n",
       "      return new Date();\n",
       "    }\n",
       "  \n",
       "    var force = false;\n",
       "  \n",
       "    if (typeof (window._bokeh_onload_callbacks) === \"undefined\" || force === true) {\n",
       "      window._bokeh_onload_callbacks = [];\n",
       "      window._bokeh_is_loading = undefined;\n",
       "    }\n",
       "  \n",
       "  \n",
       "    \n",
       "    if (typeof (window._bokeh_timeout) === \"undefined\" || force === true) {\n",
       "      window._bokeh_timeout = Date.now() + 0;\n",
       "      window._bokeh_failed_load = false;\n",
       "    }\n",
       "  \n",
       "    var NB_LOAD_WARNING = {'data': {'text/html':\n",
       "       \"<div style='background-color: #fdd'>\\n\"+\n",
       "       \"<p>\\n\"+\n",
       "       \"BokehJS does not appear to have successfully loaded. If loading BokehJS from CDN, this \\n\"+\n",
       "       \"may be due to a slow or bad network connection. Possible fixes:\\n\"+\n",
       "       \"</p>\\n\"+\n",
       "       \"<ul>\\n\"+\n",
       "       \"<li>re-rerun `output_notebook()` to attempt to load from CDN again, or</li>\\n\"+\n",
       "       \"<li>use INLINE resources instead, as so:</li>\\n\"+\n",
       "       \"</ul>\\n\"+\n",
       "       \"<code>\\n\"+\n",
       "       \"from bokeh.resources import INLINE\\n\"+\n",
       "       \"output_notebook(resources=INLINE)\\n\"+\n",
       "       \"</code>\\n\"+\n",
       "       \"</div>\"}};\n",
       "  \n",
       "    function display_loaded() {\n",
       "      if (window.Bokeh !== undefined) {\n",
       "        document.getElementById(\"b380b3ce-109c-4267-bcaf-e1dd3ee2665d\").textContent = \"BokehJS successfully loaded.\";\n",
       "      } else if (Date.now() < window._bokeh_timeout) {\n",
       "        setTimeout(display_loaded, 100)\n",
       "      }\n",
       "    }\n",
       "  \n",
       "    function run_callbacks() {\n",
       "      window._bokeh_onload_callbacks.forEach(function(callback) { callback() });\n",
       "      delete window._bokeh_onload_callbacks\n",
       "      console.info(\"Bokeh: all callbacks have finished\");\n",
       "    }\n",
       "  \n",
       "    function load_libs(js_urls, callback) {\n",
       "      window._bokeh_onload_callbacks.push(callback);\n",
       "      if (window._bokeh_is_loading > 0) {\n",
       "        console.log(\"Bokeh: BokehJS is being loaded, scheduling callback at\", now());\n",
       "        return null;\n",
       "      }\n",
       "      if (js_urls == null || js_urls.length === 0) {\n",
       "        run_callbacks();\n",
       "        return null;\n",
       "      }\n",
       "      console.log(\"Bokeh: BokehJS not loaded, scheduling load and callback at\", now());\n",
       "      window._bokeh_is_loading = js_urls.length;\n",
       "      for (var i = 0; i < js_urls.length; i++) {\n",
       "        var url = js_urls[i];\n",
       "        var s = document.createElement('script');\n",
       "        s.src = url;\n",
       "        s.async = false;\n",
       "        s.onreadystatechange = s.onload = function() {\n",
       "          window._bokeh_is_loading--;\n",
       "          if (window._bokeh_is_loading === 0) {\n",
       "            console.log(\"Bokeh: all BokehJS libraries loaded\");\n",
       "            run_callbacks()\n",
       "          }\n",
       "        };\n",
       "        s.onerror = function() {\n",
       "          console.warn(\"failed to load library \" + url);\n",
       "        };\n",
       "        console.log(\"Bokeh: injecting script tag for BokehJS library: \", url);\n",
       "        document.getElementsByTagName(\"head\")[0].appendChild(s);\n",
       "      }\n",
       "    };var element = document.getElementById(\"b380b3ce-109c-4267-bcaf-e1dd3ee2665d\");\n",
       "    if (element == null) {\n",
       "      console.log(\"Bokeh: ERROR: autoload.js configured with elementid 'b380b3ce-109c-4267-bcaf-e1dd3ee2665d' but no matching script tag was found. \")\n",
       "      return false;\n",
       "    }\n",
       "  \n",
       "    var js_urls = [];\n",
       "  \n",
       "    var inline_js = [\n",
       "      function(Bokeh) {\n",
       "        (function() {\n",
       "          var fn = function() {\n",
       "            var docs_json = {\"691b909d-870b-4b87-9fe4-ddfd36499121\":{\"roots\":{\"references\":[{\"attributes\":{\"callback\":null,\"column_names\":[\"x\",\"y\"],\"data\":{\"x\":{\"__ndarray__\":\"AAAAAAAAAACRGkt8Vz/AP5EaS3xXP9A/2qdwOgNf2D+RGkt8Vz/gPzXhXVstT+Q/2qdwOgNf6D9+boMZ2W7sP5EaS3xXP/A/433Ua0JH8j814V1bLU/0P4dE50oYV/Y/2qdwOgNf+D8sC/op7mb6P35ugxnZbvw/0NEMCcR2/j+RGkt8Vz8AQDrMD/RMQwFA433Ua0JHAkCML5njN0sDQDXhXVstTwRA3pIi0yJTBUCHROdKGFcGQDD2q8INWwdA2qdwOgNfCECDWTWy+GIJQCwL+inuZgpA1by+oeNqC0B+boMZ2W4MQCcgSJHOcg1A0NEMCcR2DkB5g9GAuXoPQJEaS3xXPxBAZnMtOFLBEEA6zA/0TEMRQA8l8q9HxRFA433Ua0JHEkC41rYnPckSQIwvmeM3SxNAYYh7nzLNE0A14V1bLU8UQAo6QBco0RRA3pIi0yJTFUCz6wSPHdUVQIdE50oYVxZAXJ3JBhPZFkAw9qvCDVsXQAVPjn4I3RdA2qdwOgNfGECuAFP2/eAYQINZNbL4YhlAV7IXbvPkGUAsC/op7mYaQABk3OXo6BpA1by+oeNqG0CpFaFd3uwbQH5ugxnZbhxAUsdl1dPwHEAnIEiRznIdQPt4Kk3J9B1A0NEMCcR2HkCkKu/EvvgeQHmD0YC5eh9ATdyzPLT8H0CRGkt8Vz8gQPtGPNpUgCBAZnMtOFLBIEDQnx6WTwIhQDrMD/RMQyFApPgAUkqEIUAPJfKvR8UhQHlR4w1FBiJA433Ua0JHIkBNqsXJP4giQLjWtic9ySJAIgOohToKI0CML5njN0sjQPZbikE1jCNAYYh7nzLNI0DLtGz9Lw4kQDXhXVstTyRAoA1PuSqQJEAKOkAXKNEkQHRmMXUlEiVA3pIi0yJTJUBJvxMxIJQlQLPrBI8d1SVAHRj27BoWJkCHROdKGFcmQPJw2KgVmCZAXJ3JBhPZJkDGybpkEBonQDD2q8INWydAmyKdIAucJ0AFT45+CN0nQG97f9wFHihA2qdwOgNfKEBE1GGYAKAoQK4AU/b94ChAGC1EVPshKUA=\",\"dtype\":\"float64\",\"shape\":[100]},\"y\":{\"__ndarray__\":\"AAAAAAAAAADwgwJ4LjTAP5qI2QHPEtA/+5MNU1HJ1z8ZTT7q2B3fP0aFmgwa+eI/ABg/lCAV5j+IQCEcMdboP3fOhmLzMOs/EyzujrQb7T/9Izwlj47uPxccgYyLg+8/g6xao7j27z9mZrL8O+bvP7+X94FZUu8/xVNiW3I97j9RB8Ai+6vsP5FWKYlppOo/oig6uxkv6D/Sh2bxK1blPyZGRbpaJeI/8qg+VZVT3T/4C4p0qOPVP+UppLIiM8w/3FNHxZdVuD/I23zJpD6gv+3ENsZjOcS/wo12/ecH0r/egWKM2KjZv2MTsJELcOC/83ixWvXH47+258MBZM7mv5eCD4nhdum/rExY6Hq267+TIxAn7YPtvwSssILL1+6/70I4BJ6s77/vOc8G+P7vvzTGy1KGze+/3176khQZ77/C8a4NiuTtvzGcHq/dNOy/mEFFlgER6r+EGZN4xoHnvx8WPFK3keS/Cli7+O1M4b+HQNqEwoHbv9kfIiFb+NO/gKyggGI5yL8EhrXMjDywvyCGtcyMPLA/jqyggGI5yD/gHyIhW/jTP4BA2oTCgds/Dli7+O1M4T8cFjxSt5HkP4cZk3jGgec/lEFFlgER6j8ynB6v3TTsP8Hxrg2K5O0/4F76khQZ7z80xstShs3vP+85zwb4/u8/8EI4BJ6s7z8DrLCCy9fuP5UjECftg+0/p0xY6Hq26z+Vgg+J4XbpP7fnwwFkzuY/9nixWvXH4z9cE7CRC3DgP9eBYozYqNk/w412/ecH0j/+xDbGYznEP0/bfMmkPqA/+VNHxZdVuL/UKaSyIjPMv+gLinSo49W/+Kg+VZVT3b8mRkW6WiXiv8+HZvErVuW/pig6uxkv6L+TVimJaaTqv1EHwCL7q+y/xFNiW3I97r/Al/eBWVLvv2Zmsvw75u+/g6xao7j2778YHIGMi4Pvv/sjPCWPju6/EyzujrQb7b94zoZi8zDrv4xAIRwx1ui//Bc/lCAV5r9GhZoMGvnivx5NPurYHd+/65MNU1HJ17+SiNkBzxLQv/GDAnguNMC/B1wUMyamwbw=\",\"dtype\":\"float64\",\"shape\":[100]}}},\"id\":\"faf182c8-f42c-4d62-8f2f-67e11d5ddb73\",\"type\":\"ColumnDataSource\"},{\"attributes\":{\"plot\":{\"id\":\"d51248f8-e5ad-4d74-9227-473fbda3e191\",\"subtype\":\"Figure\",\"type\":\"Plot\"}},\"id\":\"180428e6-4c7a-49f6-a68f-e6ca6beb9b42\",\"type\":\"ResetTool\"},{\"attributes\":{\"plot\":{\"id\":\"d51248f8-e5ad-4d74-9227-473fbda3e191\",\"subtype\":\"Figure\",\"type\":\"Plot\"}},\"id\":\"a3114240-100b-4e6a-bdf5-3cd11a5eed18\",\"type\":\"HelpTool\"},{\"attributes\":{\"callback\":null,\"column_names\":[\"x\",\"y\"],\"data\":{\"x\":{\"__ndarray__\":\"AAAAAAAAAACRGkt8Vz/AP5EaS3xXP9A/2qdwOgNf2D+RGkt8Vz/gPzXhXVstT+Q/2qdwOgNf6D9+boMZ2W7sP5EaS3xXP/A/433Ua0JH8j814V1bLU/0P4dE50oYV/Y/2qdwOgNf+D8sC/op7mb6P35ugxnZbvw/0NEMCcR2/j+RGkt8Vz8AQDrMD/RMQwFA433Ua0JHAkCML5njN0sDQDXhXVstTwRA3pIi0yJTBUCHROdKGFcGQDD2q8INWwdA2qdwOgNfCECDWTWy+GIJQCwL+inuZgpA1by+oeNqC0B+boMZ2W4MQCcgSJHOcg1A0NEMCcR2DkB5g9GAuXoPQJEaS3xXPxBAZnMtOFLBEEA6zA/0TEMRQA8l8q9HxRFA433Ua0JHEkC41rYnPckSQIwvmeM3SxNAYYh7nzLNE0A14V1bLU8UQAo6QBco0RRA3pIi0yJTFUCz6wSPHdUVQIdE50oYVxZAXJ3JBhPZFkAw9qvCDVsXQAVPjn4I3RdA2qdwOgNfGECuAFP2/eAYQINZNbL4YhlAV7IXbvPkGUAsC/op7mYaQABk3OXo6BpA1by+oeNqG0CpFaFd3uwbQH5ugxnZbhxAUsdl1dPwHEAnIEiRznIdQPt4Kk3J9B1A0NEMCcR2HkCkKu/EvvgeQHmD0YC5eh9ATdyzPLT8H0CRGkt8Vz8gQPtGPNpUgCBAZnMtOFLBIEDQnx6WTwIhQDrMD/RMQyFApPgAUkqEIUAPJfKvR8UhQHlR4w1FBiJA433Ua0JHIkBNqsXJP4giQLjWtic9ySJAIgOohToKI0CML5njN0sjQPZbikE1jCNAYYh7nzLNI0DLtGz9Lw4kQDXhXVstTyRAoA1PuSqQJEAKOkAXKNEkQHRmMXUlEiVA3pIi0yJTJUBJvxMxIJQlQLPrBI8d1SVAHRj27BoWJkCHROdKGFcmQPJw2KgVmCZAXJ3JBhPZJkDGybpkEBonQDD2q8INWydAmyKdIAucJ0AFT45+CN0nQG97f9wFHihA2qdwOgNfKEBE1GGYAKAoQK4AU/b94ChAGC1EVPshKUA=\",\"dtype\":\"float64\",\"shape\":[100]},\"y\":{\"__ndarray__\":\"AAAAAAAAAADwgwJ4LjTAP5qI2QHPEtA/+5MNU1HJ1z8ZTT7q2B3fP0aFmgwa+eI/ABg/lCAV5j+IQCEcMdboP3fOhmLzMOs/EyzujrQb7T/9Izwlj47uPxccgYyLg+8/g6xao7j27z9mZrL8O+bvP7+X94FZUu8/xVNiW3I97j9RB8Ai+6vsP5FWKYlppOo/oig6uxkv6D/Sh2bxK1blPyZGRbpaJeI/8qg+VZVT3T/4C4p0qOPVP+UppLIiM8w/3FNHxZdVuD/I23zJpD6gv+3ENsZjOcS/wo12/ecH0r/egWKM2KjZv2MTsJELcOC/83ixWvXH47+258MBZM7mv5eCD4nhdum/rExY6Hq267+TIxAn7YPtvwSssILL1+6/70I4BJ6s77/vOc8G+P7vvzTGy1KGze+/3176khQZ77/C8a4NiuTtvzGcHq/dNOy/mEFFlgER6r+EGZN4xoHnvx8WPFK3keS/Cli7+O1M4b+HQNqEwoHbv9kfIiFb+NO/gKyggGI5yL8EhrXMjDywvyCGtcyMPLA/jqyggGI5yD/gHyIhW/jTP4BA2oTCgds/Dli7+O1M4T8cFjxSt5HkP4cZk3jGgec/lEFFlgER6j8ynB6v3TTsP8Hxrg2K5O0/4F76khQZ7z80xstShs3vP+85zwb4/u8/8EI4BJ6s7z8DrLCCy9fuP5UjECftg+0/p0xY6Hq26z+Vgg+J4XbpP7fnwwFkzuY/9nixWvXH4z9cE7CRC3DgP9eBYozYqNk/w412/ecH0j/+xDbGYznEP0/bfMmkPqA/+VNHxZdVuL/UKaSyIjPMv+gLinSo49W/+Kg+VZVT3b8mRkW6WiXiv8+HZvErVuW/pig6uxkv6L+TVimJaaTqv1EHwCL7q+y/xFNiW3I97r/Al/eBWVLvv2Zmsvw75u+/g6xao7j2778YHIGMi4Pvv/sjPCWPju6/EyzujrQb7b94zoZi8zDrv4xAIRwx1ui//Bc/lCAV5r9GhZoMGvnivx5NPurYHd+/65MNU1HJ17+SiNkBzxLQv/GDAnguNMC/B1wUMyamwbw=\",\"dtype\":\"float64\",\"shape\":[100]}}},\"id\":\"f75ba4e3-9b88-496f-818f-efbed813062c\",\"type\":\"ColumnDataSource\"},{\"attributes\":{\"label\":{\"value\":\"sin(x)\"},\"renderers\":[{\"id\":\"73bffbb5-15ee-45a1-9baf-853337c4bccc\",\"type\":\"GlyphRenderer\"},{\"id\":\"b66e7c59-a259-4f2b-8fc4-b836ac8ea3d4\",\"type\":\"GlyphRenderer\"}]},\"id\":\"79605fa5-f657-4b91-81e6-0d6579576cc8\",\"type\":\"LegendItem\"},{\"attributes\":{\"bottom_units\":\"screen\",\"fill_alpha\":{\"value\":0.5},\"fill_color\":{\"value\":\"lightgrey\"},\"left_units\":\"screen\",\"level\":\"overlay\",\"line_alpha\":{\"value\":1.0},\"line_color\":{\"value\":\"black\"},\"line_dash\":[4,4],\"line_width\":{\"value\":2},\"plot\":null,\"render_mode\":\"css\",\"right_units\":\"screen\",\"top_units\":\"screen\"},\"id\":\"8aaef474-9de5-4f9f-bd50-019c6befbbbc\",\"type\":\"BoxAnnotation\"},{\"attributes\":{\"fill_color\":{\"value\":\"#1f77b4\"},\"line_color\":{\"value\":\"#1f77b4\"},\"x\":{\"field\":\"x\"},\"y\":{\"field\":\"y\"}},\"id\":\"a355e6ee-6301-4f96-bb72-0587e7f55be6\",\"type\":\"Circle\"},{\"attributes\":{\"fill_alpha\":{\"value\":0.1},\"fill_color\":{\"value\":\"#1f77b4\"},\"line_alpha\":{\"value\":0.1},\"line_color\":{\"value\":\"#1f77b4\"},\"x\":{\"field\":\"x\"},\"y\":{\"field\":\"y\"}},\"id\":\"98effd7c-e661-4dac-b6f5-c5f12a078933\",\"type\":\"Circle\"},{\"attributes\":{\"data_source\":{\"id\":\"faf182c8-f42c-4d62-8f2f-67e11d5ddb73\",\"type\":\"ColumnDataSource\"},\"glyph\":{\"id\":\"a355e6ee-6301-4f96-bb72-0587e7f55be6\",\"type\":\"Circle\"},\"hover_glyph\":null,\"nonselection_glyph\":{\"id\":\"98effd7c-e661-4dac-b6f5-c5f12a078933\",\"type\":\"Circle\"},\"selection_glyph\":null},\"id\":\"73bffbb5-15ee-45a1-9baf-853337c4bccc\",\"type\":\"GlyphRenderer\"},{\"attributes\":{\"plot\":null,\"text\":\"\"},\"id\":\"063dccd0-a59b-4243-b51b-ce7dfe669d27\",\"type\":\"Title\"},{\"attributes\":{},\"id\":\"db728f60-e31e-449c-90bf-37bf0c51a946\",\"type\":\"BasicTickFormatter\"},{\"attributes\":{},\"id\":\"2280f0b6-29e9-4b9c-820c-9a46b78b0702\",\"type\":\"BasicTickFormatter\"},{\"attributes\":{\"items\":[{\"id\":\"79605fa5-f657-4b91-81e6-0d6579576cc8\",\"type\":\"LegendItem\"},{\"id\":\"c17c13e3-21fc-497a-92ce-b31fef6c6357\",\"type\":\"LegendItem\"},{\"id\":\"75d4c5ae-433d-406f-aec1-360b1e050a49\",\"type\":\"LegendItem\"}],\"location\":\"bottom_left\",\"plot\":{\"id\":\"d51248f8-e5ad-4d74-9227-473fbda3e191\",\"subtype\":\"Figure\",\"type\":\"Plot\"}},\"id\":\"4d6db75f-9fa4-406d-8ee6-ca38b876f57e\",\"type\":\"Legend\"},{\"attributes\":{\"line_alpha\":{\"value\":0.1},\"line_color\":{\"value\":\"#1f77b4\"},\"x\":{\"field\":\"x\"},\"y\":{\"field\":\"y\"}},\"id\":\"ed8fe842-b6e7-4d9a-8125-2308d778fd36\",\"type\":\"Line\"},{\"attributes\":{\"line_color\":{\"value\":\"#1f77b4\"},\"x\":{\"field\":\"x\"},\"y\":{\"field\":\"y\"}},\"id\":\"1388b016-443b-4fed-8c26-c717f5f8b23a\",\"type\":\"Line\"},{\"attributes\":{\"data_source\":{\"id\":\"f75ba4e3-9b88-496f-818f-efbed813062c\",\"type\":\"ColumnDataSource\"},\"glyph\":{\"id\":\"1388b016-443b-4fed-8c26-c717f5f8b23a\",\"type\":\"Line\"},\"hover_glyph\":null,\"nonselection_glyph\":{\"id\":\"ed8fe842-b6e7-4d9a-8125-2308d778fd36\",\"type\":\"Line\"},\"selection_glyph\":null},\"id\":\"b66e7c59-a259-4f2b-8fc4-b836ac8ea3d4\",\"type\":\"GlyphRenderer\"},{\"attributes\":{\"line_color\":{\"value\":\"orange\"},\"line_dash\":[4,4],\"line_width\":{\"value\":2},\"x\":{\"field\":\"x\"},\"y\":{\"field\":\"y\"}},\"id\":\"7558fee8-5a43-44ae-a15c-373ec7868d7d\",\"type\":\"Line\"},{\"attributes\":{\"plot\":{\"id\":\"d51248f8-e5ad-4d74-9227-473fbda3e191\",\"subtype\":\"Figure\",\"type\":\"Plot\"}},\"id\":\"1f94a4bf-0499-4859-a691-69c0859dbf42\",\"type\":\"SaveTool\"},{\"attributes\":{\"callback\":null,\"column_names\":[\"x\",\"y\"],\"data\":{\"x\":{\"__ndarray__\":\"AAAAAAAAAACRGkt8Vz/AP5EaS3xXP9A/2qdwOgNf2D+RGkt8Vz/gPzXhXVstT+Q/2qdwOgNf6D9+boMZ2W7sP5EaS3xXP/A/433Ua0JH8j814V1bLU/0P4dE50oYV/Y/2qdwOgNf+D8sC/op7mb6P35ugxnZbvw/0NEMCcR2/j+RGkt8Vz8AQDrMD/RMQwFA433Ua0JHAkCML5njN0sDQDXhXVstTwRA3pIi0yJTBUCHROdKGFcGQDD2q8INWwdA2qdwOgNfCECDWTWy+GIJQCwL+inuZgpA1by+oeNqC0B+boMZ2W4MQCcgSJHOcg1A0NEMCcR2DkB5g9GAuXoPQJEaS3xXPxBAZnMtOFLBEEA6zA/0TEMRQA8l8q9HxRFA433Ua0JHEkC41rYnPckSQIwvmeM3SxNAYYh7nzLNE0A14V1bLU8UQAo6QBco0RRA3pIi0yJTFUCz6wSPHdUVQIdE50oYVxZAXJ3JBhPZFkAw9qvCDVsXQAVPjn4I3RdA2qdwOgNfGECuAFP2/eAYQINZNbL4YhlAV7IXbvPkGUAsC/op7mYaQABk3OXo6BpA1by+oeNqG0CpFaFd3uwbQH5ugxnZbhxAUsdl1dPwHEAnIEiRznIdQPt4Kk3J9B1A0NEMCcR2HkCkKu/EvvgeQHmD0YC5eh9ATdyzPLT8H0CRGkt8Vz8gQPtGPNpUgCBAZnMtOFLBIEDQnx6WTwIhQDrMD/RMQyFApPgAUkqEIUAPJfKvR8UhQHlR4w1FBiJA433Ua0JHIkBNqsXJP4giQLjWtic9ySJAIgOohToKI0CML5njN0sjQPZbikE1jCNAYYh7nzLNI0DLtGz9Lw4kQDXhXVstTyRAoA1PuSqQJEAKOkAXKNEkQHRmMXUlEiVA3pIi0yJTJUBJvxMxIJQlQLPrBI8d1SVAHRj27BoWJkCHROdKGFcmQPJw2KgVmCZAXJ3JBhPZJkDGybpkEBonQDD2q8INWydAmyKdIAucJ0AFT45+CN0nQG97f9wFHihA2qdwOgNfKEBE1GGYAKAoQK4AU/b94ChAGC1EVPshKUA=\",\"dtype\":\"float64\",\"shape\":[100]},\"y\":{\"__ndarray__\":\"AAAAAAAAAADwgwJ4LjTQP5qI2QHPEuA/+5MNU1HJ5z8ZTT7q2B3vP0aFmgwa+fI/ABg/lCAV9j+IQCEcMdb4P3fOhmLzMPs/EyzujrQb/T/9Izwlj47+PxccgYyLg/8/g6xao7j2/z9mZrL8O+b/P7+X94FZUv8/xVNiW3I9/j9RB8Ai+6v8P5FWKYlppPo/oig6uxkv+D/Sh2bxK1b1PyZGRbpaJfI/8qg+VZVT7T/4C4p0qOPlP+UppLIiM9w/3FNHxZdVyD/I23zJpD6wv+3ENsZjOdS/wo12/ecH4r/egWKM2Kjpv2MTsJELcPC/83ixWvXH87+258MBZM72v5eCD4nhdvm/rExY6Hq2+7+TIxAn7YP9vwSssILL1/6/70I4BJ6s/7/vOc8G+P7/vzTGy1KGzf+/3176khQZ/7/C8a4NiuT9vzGcHq/dNPy/mEFFlgER+r+EGZN4xoH3vx8WPFK3kfS/Cli7+O1M8b+HQNqEwoHrv9kfIiFb+OO/gKyggGI52L8EhrXMjDzAvyCGtcyMPMA/jqyggGI52D/gHyIhW/jjP4BA2oTCges/Dli7+O1M8T8cFjxSt5H0P4cZk3jGgfc/lEFFlgER+j8ynB6v3TT8P8Hxrg2K5P0/4F76khQZ/z80xstShs3/P+85zwb4/v8/8EI4BJ6s/z8DrLCCy9f+P5UjECftg/0/p0xY6Hq2+z+Vgg+J4Xb5P7fnwwFkzvY/9nixWvXH8z9cE7CRC3DwP9eBYozYqOk/w412/ecH4j/+xDbGYznUP0/bfMmkPrA/+VNHxZdVyL/UKaSyIjPcv+gLinSo4+W/+Kg+VZVT7b8mRkW6WiXyv8+HZvErVvW/pig6uxkv+L+TVimJaaT6v1EHwCL7q/y/xFNiW3I9/r/Al/eBWVL/v2Zmsvw75v+/g6xao7j2/78YHIGMi4P/v/sjPCWPjv6/EyzujrQb/b94zoZi8zD7v4xAIRwx1vi//Bc/lCAV9r9GhZoMGvnyvx5NPurYHe+/65MNU1HJ57+SiNkBzxLgv/GDAnguNNC/B1wUMyam0bw=\",\"dtype\":\"float64\",\"shape\":[100]}}},\"id\":\"6c2f596c-7c9b-42a5-932d-f792e29dafe4\",\"type\":\"ColumnDataSource\"},{\"attributes\":{\"plot\":{\"id\":\"d51248f8-e5ad-4d74-9227-473fbda3e191\",\"subtype\":\"Figure\",\"type\":\"Plot\"}},\"id\":\"f537fc76-44fb-434b-a8a0-26cd012e9014\",\"type\":\"PanTool\"},{\"attributes\":{\"plot\":{\"id\":\"d51248f8-e5ad-4d74-9227-473fbda3e191\",\"subtype\":\"Figure\",\"type\":\"Plot\"}},\"id\":\"c4e3d5be-adc3-4514-96f3-76e0a72d3a7e\",\"type\":\"WheelZoomTool\"},{\"attributes\":{\"line_alpha\":{\"value\":0.1},\"line_color\":{\"value\":\"#1f77b4\"},\"line_dash\":[4,4],\"line_width\":{\"value\":2},\"x\":{\"field\":\"x\"},\"y\":{\"field\":\"y\"}},\"id\":\"736dd45a-cace-45f9-8f86-36aeae187b3d\",\"type\":\"Line\"},{\"attributes\":{\"data_source\":{\"id\":\"6c2f596c-7c9b-42a5-932d-f792e29dafe4\",\"type\":\"ColumnDataSource\"},\"glyph\":{\"id\":\"7558fee8-5a43-44ae-a15c-373ec7868d7d\",\"type\":\"Line\"},\"hover_glyph\":null,\"nonselection_glyph\":{\"id\":\"736dd45a-cace-45f9-8f86-36aeae187b3d\",\"type\":\"Line\"},\"selection_glyph\":null},\"id\":\"e50f36de-4d8e-4cce-86f4-572524c661f7\",\"type\":\"GlyphRenderer\"},{\"attributes\":{\"label\":{\"value\":\"2*sin(x)\"},\"renderers\":[{\"id\":\"e50f36de-4d8e-4cce-86f4-572524c661f7\",\"type\":\"GlyphRenderer\"}]},\"id\":\"c17c13e3-21fc-497a-92ce-b31fef6c6357\",\"type\":\"LegendItem\"},{\"attributes\":{\"formatter\":{\"id\":\"db728f60-e31e-449c-90bf-37bf0c51a946\",\"type\":\"BasicTickFormatter\"},\"plot\":{\"id\":\"d51248f8-e5ad-4d74-9227-473fbda3e191\",\"subtype\":\"Figure\",\"type\":\"Plot\"},\"ticker\":{\"id\":\"163f06a9-7519-46cf-88e0-e2c82eef99d2\",\"type\":\"BasicTicker\"}},\"id\":\"cffe7f37-76bd-4c27-816a-aca994e100cf\",\"type\":\"LinearAxis\"},{\"attributes\":{},\"id\":\"163f06a9-7519-46cf-88e0-e2c82eef99d2\",\"type\":\"BasicTicker\"},{\"attributes\":{\"callback\":null,\"column_names\":[\"x\",\"y\"],\"data\":{\"x\":{\"__ndarray__\":\"AAAAAAAAAACRGkt8Vz/AP5EaS3xXP9A/2qdwOgNf2D+RGkt8Vz/gPzXhXVstT+Q/2qdwOgNf6D9+boMZ2W7sP5EaS3xXP/A/433Ua0JH8j814V1bLU/0P4dE50oYV/Y/2qdwOgNf+D8sC/op7mb6P35ugxnZbvw/0NEMCcR2/j+RGkt8Vz8AQDrMD/RMQwFA433Ua0JHAkCML5njN0sDQDXhXVstTwRA3pIi0yJTBUCHROdKGFcGQDD2q8INWwdA2qdwOgNfCECDWTWy+GIJQCwL+inuZgpA1by+oeNqC0B+boMZ2W4MQCcgSJHOcg1A0NEMCcR2DkB5g9GAuXoPQJEaS3xXPxBAZnMtOFLBEEA6zA/0TEMRQA8l8q9HxRFA433Ua0JHEkC41rYnPckSQIwvmeM3SxNAYYh7nzLNE0A14V1bLU8UQAo6QBco0RRA3pIi0yJTFUCz6wSPHdUVQIdE50oYVxZAXJ3JBhPZFkAw9qvCDVsXQAVPjn4I3RdA2qdwOgNfGECuAFP2/eAYQINZNbL4YhlAV7IXbvPkGUAsC/op7mYaQABk3OXo6BpA1by+oeNqG0CpFaFd3uwbQH5ugxnZbhxAUsdl1dPwHEAnIEiRznIdQPt4Kk3J9B1A0NEMCcR2HkCkKu/EvvgeQHmD0YC5eh9ATdyzPLT8H0CRGkt8Vz8gQPtGPNpUgCBAZnMtOFLBIEDQnx6WTwIhQDrMD/RMQyFApPgAUkqEIUAPJfKvR8UhQHlR4w1FBiJA433Ua0JHIkBNqsXJP4giQLjWtic9ySJAIgOohToKI0CML5njN0sjQPZbikE1jCNAYYh7nzLNI0DLtGz9Lw4kQDXhXVstTyRAoA1PuSqQJEAKOkAXKNEkQHRmMXUlEiVA3pIi0yJTJUBJvxMxIJQlQLPrBI8d1SVAHRj27BoWJkCHROdKGFcmQPJw2KgVmCZAXJ3JBhPZJkDGybpkEBonQDD2q8INWydAmyKdIAucJ0AFT45+CN0nQG97f9wFHihA2qdwOgNfKEBE1GGYAKAoQK4AU/b94ChAGC1EVPshKUA=\",\"dtype\":\"float64\",\"shape\":[100]},\"y\":{\"__ndarray__\":\"AAAAAAAAAADoxQO0RU7YP+dMxoI2HOg//C5K/vzW8T/Tua6vYlb3P+nH5xKndfw/AFIvb9iPAEBm8BjVpKACQNka5Ym2ZARADqEya8fUBUD+Gu1b6+oGQBHVYKmoogdAYgGEegr5B0DMzIX9rOwHQM+xeSHDfQdA1L6JxBWuBkB9BRBa/IAFQO0A3yZP+wNAep5rTFMjAkDe5Qz1oAAAQDnpZxcIOPs/tv7u/6/+9T/6iGdXvmrwP2wf+wVaJuU/5X710zFA0j+sSTsu9124v2QnUqkVVt6/o9Qx/NsL679m4Ulpoj7zvxQdiFoRqPi/bDUKCPCr/b/I7VIByxoBwPGhyyYpGQPAgTlCLtzIBMCuGkzd8SIGwAOBBKLYIQfAMzIqg3bBB8BzaxsFOv8HwKfUGL4k2gfAJ8c7bs9SB8BSNUOKZ2sGwCX1VkOmJwXAMvGzMMGMA8AjU27aVKEBwC4hWvuS2v6/DwQZ9WTz+b9lsKPjUaH0v8Yvs7GI9O2/YIF44Akr4r8GSRAz01rIvzBJEDPTWsg/aoF44Akr4j/QL7OxiPTtP2Cwo+NRofQ/FQQZ9WTz+T8qIVr7ktr+PyVTbtpUoQFAL/GzMMGMA0Am9VZDpicFQFE1Q4pnawZAKMc7bs9SB0Cn1Bi+JNoHQHNrGwU6/wdANDIqg3bBB0ACgQSi2CEHQLAaTN3xIgZAfTlCLtzIBEDwocsmKRkDQMntUgHLGgFAcTUKCPCr/T8KHYhaEaj4P2HhSWmiPvM/pNQx/NsL6z99J1KpFVbeP/ZIOy73Xbg/+3710zFA0r9fH/sFWiblv+6IZ1e+avC/uv7u/6/+9b856WcXCDj7v9vlDPWgAADAfJ5rTFMjAsDuAN8mT/sDwH0FEFr8gAXA076JxBWuBsDQsXkhw30HwMzMhf2s7AfAYgGEegr5B8AS1WCpqKIHwPwa7Vvr6gbADqEya8fUBcDaGuWJtmQEwGnwGNWkoALA/VEvb9iPAMDpx+cSp3X8v9a5rq9iVve/8C5K/vzW8b/bTMaCNhzov+rFA7RFTti/CoqeTDl52rw=\",\"dtype\":\"float64\",\"shape\":[100]}}},\"id\":\"7be46923-aeae-4d7b-b926-bf0aa731baf6\",\"type\":\"ColumnDataSource\"},{\"attributes\":{\"callback\":null,\"column_names\":[\"x\",\"y\"],\"data\":{\"x\":{\"__ndarray__\":\"AAAAAAAAAACRGkt8Vz/AP5EaS3xXP9A/2qdwOgNf2D+RGkt8Vz/gPzXhXVstT+Q/2qdwOgNf6D9+boMZ2W7sP5EaS3xXP/A/433Ua0JH8j814V1bLU/0P4dE50oYV/Y/2qdwOgNf+D8sC/op7mb6P35ugxnZbvw/0NEMCcR2/j+RGkt8Vz8AQDrMD/RMQwFA433Ua0JHAkCML5njN0sDQDXhXVstTwRA3pIi0yJTBUCHROdKGFcGQDD2q8INWwdA2qdwOgNfCECDWTWy+GIJQCwL+inuZgpA1by+oeNqC0B+boMZ2W4MQCcgSJHOcg1A0NEMCcR2DkB5g9GAuXoPQJEaS3xXPxBAZnMtOFLBEEA6zA/0TEMRQA8l8q9HxRFA433Ua0JHEkC41rYnPckSQIwvmeM3SxNAYYh7nzLNE0A14V1bLU8UQAo6QBco0RRA3pIi0yJTFUCz6wSPHdUVQIdE50oYVxZAXJ3JBhPZFkAw9qvCDVsXQAVPjn4I3RdA2qdwOgNfGECuAFP2/eAYQINZNbL4YhlAV7IXbvPkGUAsC/op7mYaQABk3OXo6BpA1by+oeNqG0CpFaFd3uwbQH5ugxnZbhxAUsdl1dPwHEAnIEiRznIdQPt4Kk3J9B1A0NEMCcR2HkCkKu/EvvgeQHmD0YC5eh9ATdyzPLT8H0CRGkt8Vz8gQPtGPNpUgCBAZnMtOFLBIEDQnx6WTwIhQDrMD/RMQyFApPgAUkqEIUAPJfKvR8UhQHlR4w1FBiJA433Ua0JHIkBNqsXJP4giQLjWtic9ySJAIgOohToKI0CML5njN0sjQPZbikE1jCNAYYh7nzLNI0DLtGz9Lw4kQDXhXVstTyRAoA1PuSqQJEAKOkAXKNEkQHRmMXUlEiVA3pIi0yJTJUBJvxMxIJQlQLPrBI8d1SVAHRj27BoWJkCHROdKGFcmQPJw2KgVmCZAXJ3JBhPZJkDGybpkEBonQDD2q8INWydAmyKdIAucJ0AFT45+CN0nQG97f9wFHihA2qdwOgNfKEBE1GGYAKAoQK4AU/b94ChAGC1EVPshKUA=\",\"dtype\":\"float64\",\"shape\":[100]},\"y\":{\"__ndarray__\":\"AAAAAAAAAADoxQO0RU7YP+dMxoI2HOg//C5K/vzW8T/Tua6vYlb3P+nH5xKndfw/AFIvb9iPAEBm8BjVpKACQNka5Ym2ZARADqEya8fUBUD+Gu1b6+oGQBHVYKmoogdAYgGEegr5B0DMzIX9rOwHQM+xeSHDfQdA1L6JxBWuBkB9BRBa/IAFQO0A3yZP+wNAep5rTFMjAkDe5Qz1oAAAQDnpZxcIOPs/tv7u/6/+9T/6iGdXvmrwP2wf+wVaJuU/5X710zFA0j+sSTsu9124v2QnUqkVVt6/o9Qx/NsL679m4Ulpoj7zvxQdiFoRqPi/bDUKCPCr/b/I7VIByxoBwPGhyyYpGQPAgTlCLtzIBMCuGkzd8SIGwAOBBKLYIQfAMzIqg3bBB8BzaxsFOv8HwKfUGL4k2gfAJ8c7bs9SB8BSNUOKZ2sGwCX1VkOmJwXAMvGzMMGMA8AjU27aVKEBwC4hWvuS2v6/DwQZ9WTz+b9lsKPjUaH0v8Yvs7GI9O2/YIF44Akr4r8GSRAz01rIvzBJEDPTWsg/aoF44Akr4j/QL7OxiPTtP2Cwo+NRofQ/FQQZ9WTz+T8qIVr7ktr+PyVTbtpUoQFAL/GzMMGMA0Am9VZDpicFQFE1Q4pnawZAKMc7bs9SB0Cn1Bi+JNoHQHNrGwU6/wdANDIqg3bBB0ACgQSi2CEHQLAaTN3xIgZAfTlCLtzIBEDwocsmKRkDQMntUgHLGgFAcTUKCPCr/T8KHYhaEaj4P2HhSWmiPvM/pNQx/NsL6z99J1KpFVbeP/ZIOy73Xbg/+3710zFA0r9fH/sFWiblv+6IZ1e+avC/uv7u/6/+9b856WcXCDj7v9vlDPWgAADAfJ5rTFMjAsDuAN8mT/sDwH0FEFr8gAXA076JxBWuBsDQsXkhw30HwMzMhf2s7AfAYgGEegr5B8AS1WCpqKIHwPwa7Vvr6gbADqEya8fUBcDaGuWJtmQEwGnwGNWkoALA/VEvb9iPAMDpx+cSp3X8v9a5rq9iVve/8C5K/vzW8b/bTMaCNhzov+rFA7RFTti/CoqeTDl52rw=\",\"dtype\":\"float64\",\"shape\":[100]}}},\"id\":\"ad27e6ad-f7ed-43b1-acd6-1f7af52489bb\",\"type\":\"ColumnDataSource\"},{\"attributes\":{\"active_drag\":\"auto\",\"active_scroll\":\"auto\",\"active_tap\":\"auto\",\"tools\":[{\"id\":\"f537fc76-44fb-434b-a8a0-26cd012e9014\",\"type\":\"PanTool\"},{\"id\":\"c4e3d5be-adc3-4514-96f3-76e0a72d3a7e\",\"type\":\"WheelZoomTool\"},{\"id\":\"1ddc640f-1351-4868-b134-cd91b6ef262b\",\"type\":\"BoxZoomTool\"},{\"id\":\"1f94a4bf-0499-4859-a691-69c0859dbf42\",\"type\":\"SaveTool\"},{\"id\":\"180428e6-4c7a-49f6-a68f-e6ca6beb9b42\",\"type\":\"ResetTool\"},{\"id\":\"a3114240-100b-4e6a-bdf5-3cd11a5eed18\",\"type\":\"HelpTool\"}]},\"id\":\"1ef5e767-fa37-44db-a61a-d2130e2805e0\",\"type\":\"Toolbar\"},{\"attributes\":{\"line_color\":{\"value\":\"green\"},\"x\":{\"field\":\"x\"},\"y\":{\"field\":\"y\"}},\"id\":\"02af60d0-953d-4b0e-9eda-4cefb67d78d8\",\"type\":\"Line\"},{\"attributes\":{\"callback\":null},\"id\":\"4f2de265-440e-4e67-89ac-e770e09c153a\",\"type\":\"DataRange1d\"},{\"attributes\":{\"line_alpha\":{\"value\":0.1},\"line_color\":{\"value\":\"#1f77b4\"},\"x\":{\"field\":\"x\"},\"y\":{\"field\":\"y\"}},\"id\":\"26f05ea3-d2da-4294-beaa-a0953450f587\",\"type\":\"Line\"},{\"attributes\":{\"data_source\":{\"id\":\"ad27e6ad-f7ed-43b1-acd6-1f7af52489bb\",\"type\":\"ColumnDataSource\"},\"glyph\":{\"id\":\"02af60d0-953d-4b0e-9eda-4cefb67d78d8\",\"type\":\"Line\"},\"hover_glyph\":null,\"nonselection_glyph\":{\"id\":\"26f05ea3-d2da-4294-beaa-a0953450f587\",\"type\":\"Line\"},\"selection_glyph\":null},\"id\":\"72325254-a637-4747-860f-5a2711a68ad3\",\"type\":\"GlyphRenderer\"},{\"attributes\":{},\"id\":\"01923ea9-b63c-46b3-87ff-3c9708e453ea\",\"type\":\"BasicTicker\"},{\"attributes\":{\"label\":{\"value\":\"3*sin(x)\"},\"renderers\":[{\"id\":\"72325254-a637-4747-860f-5a2711a68ad3\",\"type\":\"GlyphRenderer\"},{\"id\":\"e4975668-4ca6-4f55-beef-b5c357f63ca4\",\"type\":\"GlyphRenderer\"}]},\"id\":\"75d4c5ae-433d-406f-aec1-360b1e050a49\",\"type\":\"LegendItem\"},{\"attributes\":{\"formatter\":{\"id\":\"2280f0b6-29e9-4b9c-820c-9a46b78b0702\",\"type\":\"BasicTickFormatter\"},\"plot\":{\"id\":\"d51248f8-e5ad-4d74-9227-473fbda3e191\",\"subtype\":\"Figure\",\"type\":\"Plot\"},\"ticker\":{\"id\":\"01923ea9-b63c-46b3-87ff-3c9708e453ea\",\"type\":\"BasicTicker\"}},\"id\":\"6d9c526d-34e8-45f9-bc3c-cd01111d83d2\",\"type\":\"LinearAxis\"},{\"attributes\":{},\"id\":\"7389da7e-8bf1-47e5-b743-be075e82d86a\",\"type\":\"ToolEvents\"},{\"attributes\":{\"fill_alpha\":{\"value\":0.1},\"fill_color\":{\"value\":\"#1f77b4\"},\"line_alpha\":{\"value\":0.1},\"line_color\":{\"value\":\"#1f77b4\"},\"x\":{\"field\":\"x\"},\"y\":{\"field\":\"y\"}},\"id\":\"07edface-7fcf-4046-8c8b-da9c815d95d9\",\"type\":\"Square\"},{\"attributes\":{\"fill_color\":{\"value\":\"white\"},\"line_color\":{\"value\":\"green\"},\"x\":{\"field\":\"x\"},\"y\":{\"field\":\"y\"}},\"id\":\"ea486820-683c-4883-bfd8-dfe9bfc04f14\",\"type\":\"Square\"},{\"attributes\":{\"plot\":{\"id\":\"d51248f8-e5ad-4d74-9227-473fbda3e191\",\"subtype\":\"Figure\",\"type\":\"Plot\"},\"ticker\":{\"id\":\"163f06a9-7519-46cf-88e0-e2c82eef99d2\",\"type\":\"BasicTicker\"}},\"id\":\"fe7e2950-96ee-4042-9241-72f0dd0d7dde\",\"type\":\"Grid\"},{\"attributes\":{\"data_source\":{\"id\":\"7be46923-aeae-4d7b-b926-bf0aa731baf6\",\"type\":\"ColumnDataSource\"},\"glyph\":{\"id\":\"ea486820-683c-4883-bfd8-dfe9bfc04f14\",\"type\":\"Square\"},\"hover_glyph\":null,\"nonselection_glyph\":{\"id\":\"07edface-7fcf-4046-8c8b-da9c815d95d9\",\"type\":\"Square\"},\"selection_glyph\":null},\"id\":\"e4975668-4ca6-4f55-beef-b5c357f63ca4\",\"type\":\"GlyphRenderer\"},{\"attributes\":{\"dimension\":1,\"plot\":{\"id\":\"d51248f8-e5ad-4d74-9227-473fbda3e191\",\"subtype\":\"Figure\",\"type\":\"Plot\"},\"ticker\":{\"id\":\"01923ea9-b63c-46b3-87ff-3c9708e453ea\",\"type\":\"BasicTicker\"}},\"id\":\"1a51930e-4fa7-4bf2-bfbb-a27aaf5f0015\",\"type\":\"Grid\"},{\"attributes\":{\"overlay\":{\"id\":\"8aaef474-9de5-4f9f-bd50-019c6befbbbc\",\"type\":\"BoxAnnotation\"},\"plot\":{\"id\":\"d51248f8-e5ad-4d74-9227-473fbda3e191\",\"subtype\":\"Figure\",\"type\":\"Plot\"}},\"id\":\"1ddc640f-1351-4868-b134-cd91b6ef262b\",\"type\":\"BoxZoomTool\"},{\"attributes\":{\"callback\":null},\"id\":\"92581801-ccb0-4766-a791-0c5992c69072\",\"type\":\"DataRange1d\"},{\"attributes\":{\"below\":[{\"id\":\"cffe7f37-76bd-4c27-816a-aca994e100cf\",\"type\":\"LinearAxis\"}],\"left\":[{\"id\":\"6d9c526d-34e8-45f9-bc3c-cd01111d83d2\",\"type\":\"LinearAxis\"}],\"plot_height\":300,\"renderers\":[{\"id\":\"cffe7f37-76bd-4c27-816a-aca994e100cf\",\"type\":\"LinearAxis\"},{\"id\":\"fe7e2950-96ee-4042-9241-72f0dd0d7dde\",\"type\":\"Grid\"},{\"id\":\"6d9c526d-34e8-45f9-bc3c-cd01111d83d2\",\"type\":\"LinearAxis\"},{\"id\":\"1a51930e-4fa7-4bf2-bfbb-a27aaf5f0015\",\"type\":\"Grid\"},{\"id\":\"8aaef474-9de5-4f9f-bd50-019c6befbbbc\",\"type\":\"BoxAnnotation\"},{\"id\":\"4d6db75f-9fa4-406d-8ee6-ca38b876f57e\",\"type\":\"Legend\"},{\"id\":\"73bffbb5-15ee-45a1-9baf-853337c4bccc\",\"type\":\"GlyphRenderer\"},{\"id\":\"b66e7c59-a259-4f2b-8fc4-b836ac8ea3d4\",\"type\":\"GlyphRenderer\"},{\"id\":\"e50f36de-4d8e-4cce-86f4-572524c661f7\",\"type\":\"GlyphRenderer\"},{\"id\":\"72325254-a637-4747-860f-5a2711a68ad3\",\"type\":\"GlyphRenderer\"},{\"id\":\"e4975668-4ca6-4f55-beef-b5c357f63ca4\",\"type\":\"GlyphRenderer\"}],\"title\":{\"id\":\"063dccd0-a59b-4243-b51b-ce7dfe669d27\",\"type\":\"Title\"},\"tool_events\":{\"id\":\"7389da7e-8bf1-47e5-b743-be075e82d86a\",\"type\":\"ToolEvents\"},\"toolbar\":{\"id\":\"1ef5e767-fa37-44db-a61a-d2130e2805e0\",\"type\":\"Toolbar\"},\"x_range\":{\"id\":\"4f2de265-440e-4e67-89ac-e770e09c153a\",\"type\":\"DataRange1d\"},\"y_range\":{\"id\":\"92581801-ccb0-4766-a791-0c5992c69072\",\"type\":\"DataRange1d\"}},\"id\":\"d51248f8-e5ad-4d74-9227-473fbda3e191\",\"subtype\":\"Figure\",\"type\":\"Plot\"}],\"root_ids\":[\"d51248f8-e5ad-4d74-9227-473fbda3e191\"]},\"title\":\"Bokeh Application\",\"version\":\"0.12.4\"}};\n",
       "            var render_items = [{\"docid\":\"691b909d-870b-4b87-9fe4-ddfd36499121\",\"elementid\":\"b380b3ce-109c-4267-bcaf-e1dd3ee2665d\",\"modelid\":\"d51248f8-e5ad-4d74-9227-473fbda3e191\"}];\n",
       "            \n",
       "            Bokeh.embed.embed_items(docs_json, render_items);\n",
       "          };\n",
       "          if (document.readyState != \"loading\") fn();\n",
       "          else document.addEventListener(\"DOMContentLoaded\", fn);\n",
       "        })();\n",
       "      },\n",
       "      function(Bokeh) {\n",
       "      }\n",
       "    ];\n",
       "  \n",
       "    function run_inline_js() {\n",
       "      \n",
       "      if ((window.Bokeh !== undefined) || (force === true)) {\n",
       "        for (var i = 0; i < inline_js.length; i++) {\n",
       "          inline_js[i](window.Bokeh);\n",
       "        }if (force === true) {\n",
       "          display_loaded();\n",
       "        }} else if (Date.now() < window._bokeh_timeout) {\n",
       "        setTimeout(run_inline_js, 100);\n",
       "      } else if (!window._bokeh_failed_load) {\n",
       "        console.log(\"Bokeh: BokehJS failed to load within specified timeout.\");\n",
       "        window._bokeh_failed_load = true;\n",
       "      } else if (force !== true) {\n",
       "        var cell = $(document.getElementById(\"b380b3ce-109c-4267-bcaf-e1dd3ee2665d\")).parents('.cell').data().cell;\n",
       "        cell.output_area.append_execute_result(NB_LOAD_WARNING)\n",
       "      }\n",
       "  \n",
       "    }\n",
       "  \n",
       "    if (window._bokeh_is_loading === 0) {\n",
       "      console.log(\"Bokeh: BokehJS loaded, going straight to plotting\");\n",
       "      run_inline_js();\n",
       "    } else {\n",
       "      load_libs(js_urls, function() {\n",
       "        console.log(\"Bokeh: BokehJS plotting callback run at\", now());\n",
       "        run_inline_js();\n",
       "      });\n",
       "    }\n",
       "  }(this));\n",
       "</script>"
      ]
     },
     "metadata": {},
     "output_type": "display_data"
    }
   ],
   "source": [
    "show(p)"
   ]
  },
  {
   "cell_type": "markdown",
   "metadata": {},
   "source": [
    "## Exercise 4.6 Legends\n",
    "\n",
    "Create a plot of your own and add a legend"
   ]
  },
  {
   "cell_type": "code",
   "execution_count": null,
   "metadata": {
    "collapsed": true
   },
   "outputs": [],
   "source": [
    "# Exercise"
   ]
  }
 ],
 "metadata": {
  "kernelspec": {
   "display_name": "Python 3",
   "language": "python",
   "name": "python3"
  },
  "language_info": {
   "codemirror_mode": {
    "name": "ipython",
    "version": 3
   },
   "file_extension": ".py",
   "mimetype": "text/x-python",
   "name": "python",
   "nbconvert_exporter": "python",
   "pygments_lexer": "ipython3",
   "version": "3.6.0"
  }
 },
 "nbformat": 4,
 "nbformat_minor": 0
}
