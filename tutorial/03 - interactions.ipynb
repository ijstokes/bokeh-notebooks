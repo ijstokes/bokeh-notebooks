{
 "cells": [
  {
   "cell_type": "markdown",
   "metadata": {},
   "source": [
    "<table style=\"float:left; border:none\">\n",
    "   <tr style=\"border:none\">\n",
    "       <td style=\"border:none\">\n",
    "           <a href=\"http://bokeh.pydata.org/\">     \n",
    "           <img \n",
    "               src=\"assets/images/bokeh-transparent.png\" \n",
    "               style=\"width:50px\"\n",
    "           >\n",
    "           </a>    \n",
    "       </td>\n",
    "       <td style=\"border:none\">\n",
    "           <h1>Bokeh Tutorial</h1>\n",
    "       </td>\n",
    "   </tr>\n",
    "</table>\n",
    "\n",
    "<div style=\"float:right;\"><h2>03. Layouts, Widgets, and Interactions</h2></div>"
   ]
  },
  {
   "cell_type": "code",
   "execution_count": 1,
   "metadata": {
    "collapsed": false
   },
   "outputs": [],
   "source": [
    "from bokeh.io import output_notebook, show"
   ]
  },
  {
   "cell_type": "code",
   "execution_count": 2,
   "metadata": {
    "collapsed": false
   },
   "outputs": [
    {
     "data": {
      "text/html": [
       "\n",
       "    <div class=\"bk-root\">\n",
       "        <a href=\"http://bokeh.pydata.org\" target=\"_blank\" class=\"bk-logo bk-logo-small bk-logo-notebook\"></a>\n",
       "        <span id=\"f7ef317c-40be-40c2-8605-14a2a9650b05\">Loading BokehJS ...</span>\n",
       "    </div>"
      ]
     },
     "metadata": {},
     "output_type": "display_data"
    },
    {
     "data": {
      "application/javascript": [
       "\n",
       "(function(global) {\n",
       "  function now() {\n",
       "    return new Date();\n",
       "  }\n",
       "\n",
       "  var force = true;\n",
       "\n",
       "  if (typeof (window._bokeh_onload_callbacks) === \"undefined\" || force === true) {\n",
       "    window._bokeh_onload_callbacks = [];\n",
       "    window._bokeh_is_loading = undefined;\n",
       "  }\n",
       "\n",
       "\n",
       "  \n",
       "  if (typeof (window._bokeh_timeout) === \"undefined\" || force === true) {\n",
       "    window._bokeh_timeout = Date.now() + 5000;\n",
       "    window._bokeh_failed_load = false;\n",
       "  }\n",
       "\n",
       "  var NB_LOAD_WARNING = {'data': {'text/html':\n",
       "     \"<div style='background-color: #fdd'>\\n\"+\n",
       "     \"<p>\\n\"+\n",
       "     \"BokehJS does not appear to have successfully loaded. If loading BokehJS from CDN, this \\n\"+\n",
       "     \"may be due to a slow or bad network connection. Possible fixes:\\n\"+\n",
       "     \"</p>\\n\"+\n",
       "     \"<ul>\\n\"+\n",
       "     \"<li>re-rerun `output_notebook()` to attempt to load from CDN again, or</li>\\n\"+\n",
       "     \"<li>use INLINE resources instead, as so:</li>\\n\"+\n",
       "     \"</ul>\\n\"+\n",
       "     \"<code>\\n\"+\n",
       "     \"from bokeh.resources import INLINE\\n\"+\n",
       "     \"output_notebook(resources=INLINE)\\n\"+\n",
       "     \"</code>\\n\"+\n",
       "     \"</div>\"}};\n",
       "\n",
       "  function display_loaded() {\n",
       "    if (window.Bokeh !== undefined) {\n",
       "      document.getElementById(\"f7ef317c-40be-40c2-8605-14a2a9650b05\").textContent = \"BokehJS successfully loaded.\";\n",
       "    } else if (Date.now() < window._bokeh_timeout) {\n",
       "      setTimeout(display_loaded, 100)\n",
       "    }\n",
       "  }\n",
       "\n",
       "  function run_callbacks() {\n",
       "    window._bokeh_onload_callbacks.forEach(function(callback) { callback() });\n",
       "    delete window._bokeh_onload_callbacks\n",
       "    console.info(\"Bokeh: all callbacks have finished\");\n",
       "  }\n",
       "\n",
       "  function load_libs(js_urls, callback) {\n",
       "    window._bokeh_onload_callbacks.push(callback);\n",
       "    if (window._bokeh_is_loading > 0) {\n",
       "      console.log(\"Bokeh: BokehJS is being loaded, scheduling callback at\", now());\n",
       "      return null;\n",
       "    }\n",
       "    if (js_urls == null || js_urls.length === 0) {\n",
       "      run_callbacks();\n",
       "      return null;\n",
       "    }\n",
       "    console.log(\"Bokeh: BokehJS not loaded, scheduling load and callback at\", now());\n",
       "    window._bokeh_is_loading = js_urls.length;\n",
       "    for (var i = 0; i < js_urls.length; i++) {\n",
       "      var url = js_urls[i];\n",
       "      var s = document.createElement('script');\n",
       "      s.src = url;\n",
       "      s.async = false;\n",
       "      s.onreadystatechange = s.onload = function() {\n",
       "        window._bokeh_is_loading--;\n",
       "        if (window._bokeh_is_loading === 0) {\n",
       "          console.log(\"Bokeh: all BokehJS libraries loaded\");\n",
       "          run_callbacks()\n",
       "        }\n",
       "      };\n",
       "      s.onerror = function() {\n",
       "        console.warn(\"failed to load library \" + url);\n",
       "      };\n",
       "      console.log(\"Bokeh: injecting script tag for BokehJS library: \", url);\n",
       "      document.getElementsByTagName(\"head\")[0].appendChild(s);\n",
       "    }\n",
       "  };var element = document.getElementById(\"f7ef317c-40be-40c2-8605-14a2a9650b05\");\n",
       "  if (element == null) {\n",
       "    console.log(\"Bokeh: ERROR: autoload.js configured with elementid 'f7ef317c-40be-40c2-8605-14a2a9650b05' but no matching script tag was found. \")\n",
       "    return false;\n",
       "  }\n",
       "\n",
       "  var js_urls = [\"https://cdn.pydata.org/bokeh/release/bokeh-0.12.4.min.js\", \"https://cdn.pydata.org/bokeh/release/bokeh-widgets-0.12.4.min.js\"];\n",
       "\n",
       "  var inline_js = [\n",
       "    function(Bokeh) {\n",
       "      Bokeh.set_log_level(\"info\");\n",
       "    },\n",
       "    \n",
       "    function(Bokeh) {\n",
       "      \n",
       "      document.getElementById(\"f7ef317c-40be-40c2-8605-14a2a9650b05\").textContent = \"BokehJS is loading...\";\n",
       "    },\n",
       "    function(Bokeh) {\n",
       "      console.log(\"Bokeh: injecting CSS: https://cdn.pydata.org/bokeh/release/bokeh-0.12.4.min.css\");\n",
       "      Bokeh.embed.inject_css(\"https://cdn.pydata.org/bokeh/release/bokeh-0.12.4.min.css\");\n",
       "      console.log(\"Bokeh: injecting CSS: https://cdn.pydata.org/bokeh/release/bokeh-widgets-0.12.4.min.css\");\n",
       "      Bokeh.embed.inject_css(\"https://cdn.pydata.org/bokeh/release/bokeh-widgets-0.12.4.min.css\");\n",
       "    }\n",
       "  ];\n",
       "\n",
       "  function run_inline_js() {\n",
       "    \n",
       "    if ((window.Bokeh !== undefined) || (force === true)) {\n",
       "      for (var i = 0; i < inline_js.length; i++) {\n",
       "        inline_js[i](window.Bokeh);\n",
       "      }if (force === true) {\n",
       "        display_loaded();\n",
       "      }} else if (Date.now() < window._bokeh_timeout) {\n",
       "      setTimeout(run_inline_js, 100);\n",
       "    } else if (!window._bokeh_failed_load) {\n",
       "      console.log(\"Bokeh: BokehJS failed to load within specified timeout.\");\n",
       "      window._bokeh_failed_load = true;\n",
       "    } else if (force !== true) {\n",
       "      var cell = $(document.getElementById(\"f7ef317c-40be-40c2-8605-14a2a9650b05\")).parents('.cell').data().cell;\n",
       "      cell.output_area.append_execute_result(NB_LOAD_WARNING)\n",
       "    }\n",
       "\n",
       "  }\n",
       "\n",
       "  if (window._bokeh_is_loading === 0) {\n",
       "    console.log(\"Bokeh: BokehJS loaded, going straight to plotting\");\n",
       "    run_inline_js();\n",
       "  } else {\n",
       "    load_libs(js_urls, function() {\n",
       "      console.log(\"Bokeh: BokehJS plotting callback run at\", now());\n",
       "      run_inline_js();\n",
       "    });\n",
       "  }\n",
       "}(this));"
      ]
     },
     "metadata": {},
     "output_type": "display_data"
    }
   ],
   "source": [
    "output_notebook()"
   ]
  },
  {
   "cell_type": "markdown",
   "metadata": {},
   "source": [
    "# Simple Layouts\n",
    "\n",
    "In order to add widgets or have multiple plots that are linked together, you must first be able to create documents that contain these separate objects. It is possible to accomplish this in your own custom templates using ``bokeh.embed.components``. But, Bokeh also provides simple layout capability for rows, columns, and grids. \n",
    "\n",
    "An example using ``gridplot`` is shown below:"
   ]
  },
  {
   "cell_type": "code",
   "execution_count": 3,
   "metadata": {
    "collapsed": true
   },
   "outputs": [],
   "source": [
    "from bokeh.layouts import gridplot\n",
    "from bokeh.plotting import figure"
   ]
  },
  {
   "cell_type": "code",
   "execution_count": 4,
   "metadata": {
    "collapsed": true
   },
   "outputs": [],
   "source": [
    "x = list(range(11))\n",
    "y0, y1, y2 = x, [10-i for i in x], [abs(i-5) for i in x]"
   ]
  },
  {
   "cell_type": "code",
   "execution_count": 5,
   "metadata": {
    "collapsed": false
   },
   "outputs": [
    {
     "data": {
      "text/html": [
       "<div style=\"display: table;\"><div style=\"display: table-row;\"><div style=\"display: table-cell;\"><b title=\"bokeh.models.renderers.GlyphRenderer\">GlyphRenderer</b>(</div><div style=\"display: table-cell;\">id&nbsp;=&nbsp;'8b040250-1684-444d-96cd-9f097cdb767d', <span id=\"bbb19e45-ee3a-4e7b-997a-bcc92315f51a\" style=\"cursor: pointer;\">&hellip;)</span></div></div><div class=\"155a3f06-0b9e-43da-baeb-edcdd54a8214\" style=\"display: none;\"><div style=\"display: table-cell;\"></div><div style=\"display: table-cell;\">data_source&nbsp;=&nbsp;ColumnDataSource(id='8f174c31-e1b2-4e3e-9934-b9aca0a4f86e', ...),</div></div><div class=\"155a3f06-0b9e-43da-baeb-edcdd54a8214\" style=\"display: none;\"><div style=\"display: table-cell;\"></div><div style=\"display: table-cell;\">glyph&nbsp;=&nbsp;Circle(id='b36181b4-35e2-4f4f-8969-e39694c03f29', ...),</div></div><div class=\"155a3f06-0b9e-43da-baeb-edcdd54a8214\" style=\"display: none;\"><div style=\"display: table-cell;\"></div><div style=\"display: table-cell;\">hover_glyph&nbsp;=&nbsp;None,</div></div><div class=\"155a3f06-0b9e-43da-baeb-edcdd54a8214\" style=\"display: none;\"><div style=\"display: table-cell;\"></div><div style=\"display: table-cell;\">js_callbacks&nbsp;=&nbsp;{},</div></div><div class=\"155a3f06-0b9e-43da-baeb-edcdd54a8214\" style=\"display: none;\"><div style=\"display: table-cell;\"></div><div style=\"display: table-cell;\">level&nbsp;=&nbsp;'glyph',</div></div><div class=\"155a3f06-0b9e-43da-baeb-edcdd54a8214\" style=\"display: none;\"><div style=\"display: table-cell;\"></div><div style=\"display: table-cell;\">name&nbsp;=&nbsp;None,</div></div><div class=\"155a3f06-0b9e-43da-baeb-edcdd54a8214\" style=\"display: none;\"><div style=\"display: table-cell;\"></div><div style=\"display: table-cell;\">nonselection_glyph&nbsp;=&nbsp;Circle(id='8f7b2634-951c-48fa-b8c7-37cfd7371107', ...),</div></div><div class=\"155a3f06-0b9e-43da-baeb-edcdd54a8214\" style=\"display: none;\"><div style=\"display: table-cell;\"></div><div style=\"display: table-cell;\">selection_glyph&nbsp;=&nbsp;None,</div></div><div class=\"155a3f06-0b9e-43da-baeb-edcdd54a8214\" style=\"display: none;\"><div style=\"display: table-cell;\"></div><div style=\"display: table-cell;\">tags&nbsp;=&nbsp;[],</div></div><div class=\"155a3f06-0b9e-43da-baeb-edcdd54a8214\" style=\"display: none;\"><div style=\"display: table-cell;\"></div><div style=\"display: table-cell;\">visible&nbsp;=&nbsp;True,</div></div><div class=\"155a3f06-0b9e-43da-baeb-edcdd54a8214\" style=\"display: none;\"><div style=\"display: table-cell;\"></div><div style=\"display: table-cell;\">x_range_name&nbsp;=&nbsp;'default',</div></div><div class=\"155a3f06-0b9e-43da-baeb-edcdd54a8214\" style=\"display: none;\"><div style=\"display: table-cell;\"></div><div style=\"display: table-cell;\">y_range_name&nbsp;=&nbsp;'default')</div></div></div>\n",
       "<script>\n",
       "(function() {\n",
       "  var expanded = false;\n",
       "  var ellipsis = document.getElementById(\"bbb19e45-ee3a-4e7b-997a-bcc92315f51a\");\n",
       "  ellipsis.addEventListener(\"click\", function() {\n",
       "    var rows = document.getElementsByClassName(\"155a3f06-0b9e-43da-baeb-edcdd54a8214\");\n",
       "    for (var i = 0; i < rows.length; i++) {\n",
       "      var el = rows[i];\n",
       "      el.style.display = expanded ? \"none\" : \"table-row\";\n",
       "    }\n",
       "    ellipsis.innerHTML = expanded ? \"&hellip;)\" : \"&lsaquo;&lsaquo;&lsaquo;\";\n",
       "    expanded = !expanded;\n",
       "  });\n",
       "})();\n",
       "</script>\n"
      ],
      "text/plain": [
       "GlyphRenderer(id='8b040250-1684-444d-96cd-9f097cdb767d', ...)"
      ]
     },
     "execution_count": 5,
     "metadata": {},
     "output_type": "execute_result"
    }
   ],
   "source": [
    "# create a new plot\n",
    "s1 = figure(width=250, plot_height=250)\n",
    "s1.circle(x, y0, size=10, color=\"navy\", alpha=0.5)"
   ]
  },
  {
   "cell_type": "code",
   "execution_count": 6,
   "metadata": {
    "collapsed": false
   },
   "outputs": [
    {
     "data": {
      "text/html": [
       "\n",
       "\n",
       "    <div class=\"bk-root\">\n",
       "        <div class=\"bk-plotdiv\" id=\"ceedfb5c-89da-4aee-b32c-dbb76aab7d0c\"></div>\n",
       "    </div>\n",
       "<script type=\"text/javascript\">\n",
       "  \n",
       "  (function(global) {\n",
       "    function now() {\n",
       "      return new Date();\n",
       "    }\n",
       "  \n",
       "    var force = false;\n",
       "  \n",
       "    if (typeof (window._bokeh_onload_callbacks) === \"undefined\" || force === true) {\n",
       "      window._bokeh_onload_callbacks = [];\n",
       "      window._bokeh_is_loading = undefined;\n",
       "    }\n",
       "  \n",
       "  \n",
       "    \n",
       "    if (typeof (window._bokeh_timeout) === \"undefined\" || force === true) {\n",
       "      window._bokeh_timeout = Date.now() + 0;\n",
       "      window._bokeh_failed_load = false;\n",
       "    }\n",
       "  \n",
       "    var NB_LOAD_WARNING = {'data': {'text/html':\n",
       "       \"<div style='background-color: #fdd'>\\n\"+\n",
       "       \"<p>\\n\"+\n",
       "       \"BokehJS does not appear to have successfully loaded. If loading BokehJS from CDN, this \\n\"+\n",
       "       \"may be due to a slow or bad network connection. Possible fixes:\\n\"+\n",
       "       \"</p>\\n\"+\n",
       "       \"<ul>\\n\"+\n",
       "       \"<li>re-rerun `output_notebook()` to attempt to load from CDN again, or</li>\\n\"+\n",
       "       \"<li>use INLINE resources instead, as so:</li>\\n\"+\n",
       "       \"</ul>\\n\"+\n",
       "       \"<code>\\n\"+\n",
       "       \"from bokeh.resources import INLINE\\n\"+\n",
       "       \"output_notebook(resources=INLINE)\\n\"+\n",
       "       \"</code>\\n\"+\n",
       "       \"</div>\"}};\n",
       "  \n",
       "    function display_loaded() {\n",
       "      if (window.Bokeh !== undefined) {\n",
       "        document.getElementById(\"ceedfb5c-89da-4aee-b32c-dbb76aab7d0c\").textContent = \"BokehJS successfully loaded.\";\n",
       "      } else if (Date.now() < window._bokeh_timeout) {\n",
       "        setTimeout(display_loaded, 100)\n",
       "      }\n",
       "    }\n",
       "  \n",
       "    function run_callbacks() {\n",
       "      window._bokeh_onload_callbacks.forEach(function(callback) { callback() });\n",
       "      delete window._bokeh_onload_callbacks\n",
       "      console.info(\"Bokeh: all callbacks have finished\");\n",
       "    }\n",
       "  \n",
       "    function load_libs(js_urls, callback) {\n",
       "      window._bokeh_onload_callbacks.push(callback);\n",
       "      if (window._bokeh_is_loading > 0) {\n",
       "        console.log(\"Bokeh: BokehJS is being loaded, scheduling callback at\", now());\n",
       "        return null;\n",
       "      }\n",
       "      if (js_urls == null || js_urls.length === 0) {\n",
       "        run_callbacks();\n",
       "        return null;\n",
       "      }\n",
       "      console.log(\"Bokeh: BokehJS not loaded, scheduling load and callback at\", now());\n",
       "      window._bokeh_is_loading = js_urls.length;\n",
       "      for (var i = 0; i < js_urls.length; i++) {\n",
       "        var url = js_urls[i];\n",
       "        var s = document.createElement('script');\n",
       "        s.src = url;\n",
       "        s.async = false;\n",
       "        s.onreadystatechange = s.onload = function() {\n",
       "          window._bokeh_is_loading--;\n",
       "          if (window._bokeh_is_loading === 0) {\n",
       "            console.log(\"Bokeh: all BokehJS libraries loaded\");\n",
       "            run_callbacks()\n",
       "          }\n",
       "        };\n",
       "        s.onerror = function() {\n",
       "          console.warn(\"failed to load library \" + url);\n",
       "        };\n",
       "        console.log(\"Bokeh: injecting script tag for BokehJS library: \", url);\n",
       "        document.getElementsByTagName(\"head\")[0].appendChild(s);\n",
       "      }\n",
       "    };var element = document.getElementById(\"ceedfb5c-89da-4aee-b32c-dbb76aab7d0c\");\n",
       "    if (element == null) {\n",
       "      console.log(\"Bokeh: ERROR: autoload.js configured with elementid 'ceedfb5c-89da-4aee-b32c-dbb76aab7d0c' but no matching script tag was found. \")\n",
       "      return false;\n",
       "    }\n",
       "  \n",
       "    var js_urls = [];\n",
       "  \n",
       "    var inline_js = [\n",
       "      function(Bokeh) {\n",
       "        (function() {\n",
       "          var fn = function() {\n",
       "            var docs_json = {\"5b885e66-69fe-443f-b4f4-18fd9e802f73\":{\"roots\":{\"references\":[{\"attributes\":{\"plot\":null,\"text\":\"\"},\"id\":\"498a6619-f32f-4ff2-9231-42717e8ad7bb\",\"type\":\"Title\"},{\"attributes\":{\"fill_alpha\":{\"value\":0.1},\"fill_color\":{\"value\":\"#1f77b4\"},\"line_alpha\":{\"value\":0.1},\"line_color\":{\"value\":\"#1f77b4\"},\"size\":{\"units\":\"screen\",\"value\":10},\"x\":{\"field\":\"x\"},\"y\":{\"field\":\"y\"}},\"id\":\"8f7b2634-951c-48fa-b8c7-37cfd7371107\",\"type\":\"Circle\"},{\"attributes\":{\"below\":[{\"id\":\"563996c7-6bc5-40fe-bf2d-169a54d201b0\",\"type\":\"LinearAxis\"}],\"left\":[{\"id\":\"652f6db0-ebba-40f8-b4b4-bd316cb73dd8\",\"type\":\"LinearAxis\"}],\"plot_height\":250,\"plot_width\":250,\"renderers\":[{\"id\":\"563996c7-6bc5-40fe-bf2d-169a54d201b0\",\"type\":\"LinearAxis\"},{\"id\":\"a13bcfed-63c9-4d85-845e-4554290adac9\",\"type\":\"Grid\"},{\"id\":\"652f6db0-ebba-40f8-b4b4-bd316cb73dd8\",\"type\":\"LinearAxis\"},{\"id\":\"e61a4517-c9b5-4861-b711-b49552261be9\",\"type\":\"Grid\"},{\"id\":\"e141e1ae-9589-4e1a-8131-2e1e2a3eed40\",\"type\":\"BoxAnnotation\"},{\"id\":\"8b040250-1684-444d-96cd-9f097cdb767d\",\"type\":\"GlyphRenderer\"}],\"title\":{\"id\":\"498a6619-f32f-4ff2-9231-42717e8ad7bb\",\"type\":\"Title\"},\"tool_events\":{\"id\":\"ce3f4a55-c6fb-4c8b-a3f1-5f7140675704\",\"type\":\"ToolEvents\"},\"toolbar\":{\"id\":\"1f49d565-1570-49f1-b79e-4d901f3f76ae\",\"type\":\"Toolbar\"},\"x_range\":{\"id\":\"960c743d-bbe4-4a5b-ab88-a9cd405f547d\",\"type\":\"DataRange1d\"},\"y_range\":{\"id\":\"2cd0db74-d1b8-4991-a9e6-9d82daf526e1\",\"type\":\"DataRange1d\"}},\"id\":\"9e4a3a0e-7b0b-482a-8e17-01ab27378953\",\"subtype\":\"Figure\",\"type\":\"Plot\"},{\"attributes\":{\"callback\":null},\"id\":\"960c743d-bbe4-4a5b-ab88-a9cd405f547d\",\"type\":\"DataRange1d\"},{\"attributes\":{\"callback\":null,\"column_names\":[\"x\",\"y\"],\"data\":{\"x\":[0,1,2,3,4,5,6,7,8,9,10],\"y\":[0,1,2,3,4,5,6,7,8,9,10]}},\"id\":\"8f174c31-e1b2-4e3e-9934-b9aca0a4f86e\",\"type\":\"ColumnDataSource\"},{\"attributes\":{},\"id\":\"ce3f4a55-c6fb-4c8b-a3f1-5f7140675704\",\"type\":\"ToolEvents\"},{\"attributes\":{\"formatter\":{\"id\":\"bed60e62-ce55-42ac-a393-6b232cb981ec\",\"type\":\"BasicTickFormatter\"},\"plot\":{\"id\":\"9e4a3a0e-7b0b-482a-8e17-01ab27378953\",\"subtype\":\"Figure\",\"type\":\"Plot\"},\"ticker\":{\"id\":\"a1fd181f-702a-4b24-a729-b032360e6273\",\"type\":\"BasicTicker\"}},\"id\":\"563996c7-6bc5-40fe-bf2d-169a54d201b0\",\"type\":\"LinearAxis\"},{\"attributes\":{\"formatter\":{\"id\":\"9154fd3d-c165-4bf5-a18c-d0305019f8cf\",\"type\":\"BasicTickFormatter\"},\"plot\":{\"id\":\"9e4a3a0e-7b0b-482a-8e17-01ab27378953\",\"subtype\":\"Figure\",\"type\":\"Plot\"},\"ticker\":{\"id\":\"84fdf392-89b9-4cdd-93df-20cb7f4e68e8\",\"type\":\"BasicTicker\"}},\"id\":\"652f6db0-ebba-40f8-b4b4-bd316cb73dd8\",\"type\":\"LinearAxis\"},{\"attributes\":{\"callback\":null},\"id\":\"2cd0db74-d1b8-4991-a9e6-9d82daf526e1\",\"type\":\"DataRange1d\"},{\"attributes\":{},\"id\":\"a1fd181f-702a-4b24-a729-b032360e6273\",\"type\":\"BasicTicker\"},{\"attributes\":{\"plot\":{\"id\":\"9e4a3a0e-7b0b-482a-8e17-01ab27378953\",\"subtype\":\"Figure\",\"type\":\"Plot\"},\"ticker\":{\"id\":\"a1fd181f-702a-4b24-a729-b032360e6273\",\"type\":\"BasicTicker\"}},\"id\":\"a13bcfed-63c9-4d85-845e-4554290adac9\",\"type\":\"Grid\"},{\"attributes\":{},\"id\":\"84fdf392-89b9-4cdd-93df-20cb7f4e68e8\",\"type\":\"BasicTicker\"},{\"attributes\":{\"dimension\":1,\"plot\":{\"id\":\"9e4a3a0e-7b0b-482a-8e17-01ab27378953\",\"subtype\":\"Figure\",\"type\":\"Plot\"},\"ticker\":{\"id\":\"84fdf392-89b9-4cdd-93df-20cb7f4e68e8\",\"type\":\"BasicTicker\"}},\"id\":\"e61a4517-c9b5-4861-b711-b49552261be9\",\"type\":\"Grid\"},{\"attributes\":{\"data_source\":{\"id\":\"8f174c31-e1b2-4e3e-9934-b9aca0a4f86e\",\"type\":\"ColumnDataSource\"},\"glyph\":{\"id\":\"b36181b4-35e2-4f4f-8969-e39694c03f29\",\"type\":\"Circle\"},\"hover_glyph\":null,\"nonselection_glyph\":{\"id\":\"8f7b2634-951c-48fa-b8c7-37cfd7371107\",\"type\":\"Circle\"},\"selection_glyph\":null},\"id\":\"8b040250-1684-444d-96cd-9f097cdb767d\",\"type\":\"GlyphRenderer\"},{\"attributes\":{\"bottom_units\":\"screen\",\"fill_alpha\":{\"value\":0.5},\"fill_color\":{\"value\":\"lightgrey\"},\"left_units\":\"screen\",\"level\":\"overlay\",\"line_alpha\":{\"value\":1.0},\"line_color\":{\"value\":\"black\"},\"line_dash\":[4,4],\"line_width\":{\"value\":2},\"plot\":null,\"render_mode\":\"css\",\"right_units\":\"screen\",\"top_units\":\"screen\"},\"id\":\"e141e1ae-9589-4e1a-8131-2e1e2a3eed40\",\"type\":\"BoxAnnotation\"},{\"attributes\":{\"plot\":{\"id\":\"9e4a3a0e-7b0b-482a-8e17-01ab27378953\",\"subtype\":\"Figure\",\"type\":\"Plot\"}},\"id\":\"4eead39c-dc3e-480c-95f1-aa5c7afdafad\",\"type\":\"PanTool\"},{\"attributes\":{},\"id\":\"bed60e62-ce55-42ac-a393-6b232cb981ec\",\"type\":\"BasicTickFormatter\"},{\"attributes\":{\"plot\":{\"id\":\"9e4a3a0e-7b0b-482a-8e17-01ab27378953\",\"subtype\":\"Figure\",\"type\":\"Plot\"}},\"id\":\"eee35943-563a-45f5-be62-82da0c9363ac\",\"type\":\"WheelZoomTool\"},{\"attributes\":{\"active_drag\":\"auto\",\"active_scroll\":\"auto\",\"active_tap\":\"auto\",\"tools\":[{\"id\":\"4eead39c-dc3e-480c-95f1-aa5c7afdafad\",\"type\":\"PanTool\"},{\"id\":\"eee35943-563a-45f5-be62-82da0c9363ac\",\"type\":\"WheelZoomTool\"},{\"id\":\"d21aedfd-1afc-49be-929b-b067ad7ae402\",\"type\":\"BoxZoomTool\"},{\"id\":\"50e6778b-bd6b-4a65-b82f-931bb6a0b144\",\"type\":\"SaveTool\"},{\"id\":\"ddfa2eb3-c75c-4793-b0c4-60dec5d910ed\",\"type\":\"ResetTool\"},{\"id\":\"b8c04dec-0f2a-486c-8c2f-020525a2bf63\",\"type\":\"HelpTool\"}]},\"id\":\"1f49d565-1570-49f1-b79e-4d901f3f76ae\",\"type\":\"Toolbar\"},{\"attributes\":{\"overlay\":{\"id\":\"e141e1ae-9589-4e1a-8131-2e1e2a3eed40\",\"type\":\"BoxAnnotation\"},\"plot\":{\"id\":\"9e4a3a0e-7b0b-482a-8e17-01ab27378953\",\"subtype\":\"Figure\",\"type\":\"Plot\"}},\"id\":\"d21aedfd-1afc-49be-929b-b067ad7ae402\",\"type\":\"BoxZoomTool\"},{\"attributes\":{},\"id\":\"9154fd3d-c165-4bf5-a18c-d0305019f8cf\",\"type\":\"BasicTickFormatter\"},{\"attributes\":{\"plot\":{\"id\":\"9e4a3a0e-7b0b-482a-8e17-01ab27378953\",\"subtype\":\"Figure\",\"type\":\"Plot\"}},\"id\":\"50e6778b-bd6b-4a65-b82f-931bb6a0b144\",\"type\":\"SaveTool\"},{\"attributes\":{\"fill_alpha\":{\"value\":0.5},\"fill_color\":{\"value\":\"navy\"},\"line_alpha\":{\"value\":0.5},\"line_color\":{\"value\":\"navy\"},\"size\":{\"units\":\"screen\",\"value\":10},\"x\":{\"field\":\"x\"},\"y\":{\"field\":\"y\"}},\"id\":\"b36181b4-35e2-4f4f-8969-e39694c03f29\",\"type\":\"Circle\"},{\"attributes\":{\"plot\":{\"id\":\"9e4a3a0e-7b0b-482a-8e17-01ab27378953\",\"subtype\":\"Figure\",\"type\":\"Plot\"}},\"id\":\"ddfa2eb3-c75c-4793-b0c4-60dec5d910ed\",\"type\":\"ResetTool\"},{\"attributes\":{\"plot\":{\"id\":\"9e4a3a0e-7b0b-482a-8e17-01ab27378953\",\"subtype\":\"Figure\",\"type\":\"Plot\"}},\"id\":\"b8c04dec-0f2a-486c-8c2f-020525a2bf63\",\"type\":\"HelpTool\"}],\"root_ids\":[\"9e4a3a0e-7b0b-482a-8e17-01ab27378953\"]},\"title\":\"Bokeh Application\",\"version\":\"0.12.4\"}};\n",
       "            var render_items = [{\"docid\":\"5b885e66-69fe-443f-b4f4-18fd9e802f73\",\"elementid\":\"ceedfb5c-89da-4aee-b32c-dbb76aab7d0c\",\"modelid\":\"9e4a3a0e-7b0b-482a-8e17-01ab27378953\"}];\n",
       "            \n",
       "            Bokeh.embed.embed_items(docs_json, render_items);\n",
       "          };\n",
       "          if (document.readyState != \"loading\") fn();\n",
       "          else document.addEventListener(\"DOMContentLoaded\", fn);\n",
       "        })();\n",
       "      },\n",
       "      function(Bokeh) {\n",
       "      }\n",
       "    ];\n",
       "  \n",
       "    function run_inline_js() {\n",
       "      \n",
       "      if ((window.Bokeh !== undefined) || (force === true)) {\n",
       "        for (var i = 0; i < inline_js.length; i++) {\n",
       "          inline_js[i](window.Bokeh);\n",
       "        }if (force === true) {\n",
       "          display_loaded();\n",
       "        }} else if (Date.now() < window._bokeh_timeout) {\n",
       "        setTimeout(run_inline_js, 100);\n",
       "      } else if (!window._bokeh_failed_load) {\n",
       "        console.log(\"Bokeh: BokehJS failed to load within specified timeout.\");\n",
       "        window._bokeh_failed_load = true;\n",
       "      } else if (force !== true) {\n",
       "        var cell = $(document.getElementById(\"ceedfb5c-89da-4aee-b32c-dbb76aab7d0c\")).parents('.cell').data().cell;\n",
       "        cell.output_area.append_execute_result(NB_LOAD_WARNING)\n",
       "      }\n",
       "  \n",
       "    }\n",
       "  \n",
       "    if (window._bokeh_is_loading === 0) {\n",
       "      console.log(\"Bokeh: BokehJS loaded, going straight to plotting\");\n",
       "      run_inline_js();\n",
       "    } else {\n",
       "      load_libs(js_urls, function() {\n",
       "        console.log(\"Bokeh: BokehJS plotting callback run at\", now());\n",
       "        run_inline_js();\n",
       "      });\n",
       "    }\n",
       "  }(this));\n",
       "</script>"
      ]
     },
     "metadata": {},
     "output_type": "display_data"
    }
   ],
   "source": [
    "show(s1)"
   ]
  },
  {
   "cell_type": "code",
   "execution_count": 7,
   "metadata": {
    "collapsed": false
   },
   "outputs": [
    {
     "data": {
      "text/html": [
       "<div style=\"display: table;\"><div style=\"display: table-row;\"><div style=\"display: table-cell;\"><b title=\"bokeh.models.renderers.GlyphRenderer\">GlyphRenderer</b>(</div><div style=\"display: table-cell;\">id&nbsp;=&nbsp;'3735c978-a6f5-4018-9ef5-cae335ab7ee7', <span id=\"b0ff5fcf-38af-492d-bc4d-12b7ba5f6988\" style=\"cursor: pointer;\">&hellip;)</span></div></div><div class=\"7830410b-3a5e-4906-b5c2-cc4afded5dd7\" style=\"display: none;\"><div style=\"display: table-cell;\"></div><div style=\"display: table-cell;\">data_source&nbsp;=&nbsp;ColumnDataSource(id='e2c6c723-5a7d-44c7-b64d-7adb0cd858b5', ...),</div></div><div class=\"7830410b-3a5e-4906-b5c2-cc4afded5dd7\" style=\"display: none;\"><div style=\"display: table-cell;\"></div><div style=\"display: table-cell;\">glyph&nbsp;=&nbsp;Triangle(id='0b2b8e4f-dcd6-4ab0-a305-90bd07318906', ...),</div></div><div class=\"7830410b-3a5e-4906-b5c2-cc4afded5dd7\" style=\"display: none;\"><div style=\"display: table-cell;\"></div><div style=\"display: table-cell;\">hover_glyph&nbsp;=&nbsp;None,</div></div><div class=\"7830410b-3a5e-4906-b5c2-cc4afded5dd7\" style=\"display: none;\"><div style=\"display: table-cell;\"></div><div style=\"display: table-cell;\">js_callbacks&nbsp;=&nbsp;{},</div></div><div class=\"7830410b-3a5e-4906-b5c2-cc4afded5dd7\" style=\"display: none;\"><div style=\"display: table-cell;\"></div><div style=\"display: table-cell;\">level&nbsp;=&nbsp;'glyph',</div></div><div class=\"7830410b-3a5e-4906-b5c2-cc4afded5dd7\" style=\"display: none;\"><div style=\"display: table-cell;\"></div><div style=\"display: table-cell;\">name&nbsp;=&nbsp;None,</div></div><div class=\"7830410b-3a5e-4906-b5c2-cc4afded5dd7\" style=\"display: none;\"><div style=\"display: table-cell;\"></div><div style=\"display: table-cell;\">nonselection_glyph&nbsp;=&nbsp;Triangle(id='8d74d9e6-996e-420a-8239-aa4c5589cdeb', ...),</div></div><div class=\"7830410b-3a5e-4906-b5c2-cc4afded5dd7\" style=\"display: none;\"><div style=\"display: table-cell;\"></div><div style=\"display: table-cell;\">selection_glyph&nbsp;=&nbsp;None,</div></div><div class=\"7830410b-3a5e-4906-b5c2-cc4afded5dd7\" style=\"display: none;\"><div style=\"display: table-cell;\"></div><div style=\"display: table-cell;\">tags&nbsp;=&nbsp;[],</div></div><div class=\"7830410b-3a5e-4906-b5c2-cc4afded5dd7\" style=\"display: none;\"><div style=\"display: table-cell;\"></div><div style=\"display: table-cell;\">visible&nbsp;=&nbsp;True,</div></div><div class=\"7830410b-3a5e-4906-b5c2-cc4afded5dd7\" style=\"display: none;\"><div style=\"display: table-cell;\"></div><div style=\"display: table-cell;\">x_range_name&nbsp;=&nbsp;'default',</div></div><div class=\"7830410b-3a5e-4906-b5c2-cc4afded5dd7\" style=\"display: none;\"><div style=\"display: table-cell;\"></div><div style=\"display: table-cell;\">y_range_name&nbsp;=&nbsp;'default')</div></div></div>\n",
       "<script>\n",
       "(function() {\n",
       "  var expanded = false;\n",
       "  var ellipsis = document.getElementById(\"b0ff5fcf-38af-492d-bc4d-12b7ba5f6988\");\n",
       "  ellipsis.addEventListener(\"click\", function() {\n",
       "    var rows = document.getElementsByClassName(\"7830410b-3a5e-4906-b5c2-cc4afded5dd7\");\n",
       "    for (var i = 0; i < rows.length; i++) {\n",
       "      var el = rows[i];\n",
       "      el.style.display = expanded ? \"none\" : \"table-row\";\n",
       "    }\n",
       "    ellipsis.innerHTML = expanded ? \"&hellip;)\" : \"&lsaquo;&lsaquo;&lsaquo;\";\n",
       "    expanded = !expanded;\n",
       "  });\n",
       "})();\n",
       "</script>\n"
      ],
      "text/plain": [
       "GlyphRenderer(id='3735c978-a6f5-4018-9ef5-cae335ab7ee7', ...)"
      ]
     },
     "execution_count": 7,
     "metadata": {},
     "output_type": "execute_result"
    }
   ],
   "source": [
    "# create another one\n",
    "s2 = figure(width=250, height=250)\n",
    "s2.triangle(x, y1, size=10, color=\"firebrick\", alpha=0.5)"
   ]
  },
  {
   "cell_type": "code",
   "execution_count": 8,
   "metadata": {
    "collapsed": false
   },
   "outputs": [
    {
     "data": {
      "text/html": [
       "<div style=\"display: table;\"><div style=\"display: table-row;\"><div style=\"display: table-cell;\"><b title=\"bokeh.models.renderers.GlyphRenderer\">GlyphRenderer</b>(</div><div style=\"display: table-cell;\">id&nbsp;=&nbsp;'bde1f2cb-a685-45a2-a13b-6e12609ff77b', <span id=\"f12c1e60-907a-4d53-94e1-d9f021042bae\" style=\"cursor: pointer;\">&hellip;)</span></div></div><div class=\"72101133-4646-43f0-a87f-f455bec28713\" style=\"display: none;\"><div style=\"display: table-cell;\"></div><div style=\"display: table-cell;\">data_source&nbsp;=&nbsp;ColumnDataSource(id='f5725a02-bb44-4eaf-89f4-6ba70c23f6e4', ...),</div></div><div class=\"72101133-4646-43f0-a87f-f455bec28713\" style=\"display: none;\"><div style=\"display: table-cell;\"></div><div style=\"display: table-cell;\">glyph&nbsp;=&nbsp;Square(id='2f95c92e-5ba0-4cbb-b7a6-75b61e2b4f4a', ...),</div></div><div class=\"72101133-4646-43f0-a87f-f455bec28713\" style=\"display: none;\"><div style=\"display: table-cell;\"></div><div style=\"display: table-cell;\">hover_glyph&nbsp;=&nbsp;None,</div></div><div class=\"72101133-4646-43f0-a87f-f455bec28713\" style=\"display: none;\"><div style=\"display: table-cell;\"></div><div style=\"display: table-cell;\">js_callbacks&nbsp;=&nbsp;{},</div></div><div class=\"72101133-4646-43f0-a87f-f455bec28713\" style=\"display: none;\"><div style=\"display: table-cell;\"></div><div style=\"display: table-cell;\">level&nbsp;=&nbsp;'glyph',</div></div><div class=\"72101133-4646-43f0-a87f-f455bec28713\" style=\"display: none;\"><div style=\"display: table-cell;\"></div><div style=\"display: table-cell;\">name&nbsp;=&nbsp;None,</div></div><div class=\"72101133-4646-43f0-a87f-f455bec28713\" style=\"display: none;\"><div style=\"display: table-cell;\"></div><div style=\"display: table-cell;\">nonselection_glyph&nbsp;=&nbsp;Square(id='96197170-a348-411c-9cb9-831f4fe98a15', ...),</div></div><div class=\"72101133-4646-43f0-a87f-f455bec28713\" style=\"display: none;\"><div style=\"display: table-cell;\"></div><div style=\"display: table-cell;\">selection_glyph&nbsp;=&nbsp;None,</div></div><div class=\"72101133-4646-43f0-a87f-f455bec28713\" style=\"display: none;\"><div style=\"display: table-cell;\"></div><div style=\"display: table-cell;\">tags&nbsp;=&nbsp;[],</div></div><div class=\"72101133-4646-43f0-a87f-f455bec28713\" style=\"display: none;\"><div style=\"display: table-cell;\"></div><div style=\"display: table-cell;\">visible&nbsp;=&nbsp;True,</div></div><div class=\"72101133-4646-43f0-a87f-f455bec28713\" style=\"display: none;\"><div style=\"display: table-cell;\"></div><div style=\"display: table-cell;\">x_range_name&nbsp;=&nbsp;'default',</div></div><div class=\"72101133-4646-43f0-a87f-f455bec28713\" style=\"display: none;\"><div style=\"display: table-cell;\"></div><div style=\"display: table-cell;\">y_range_name&nbsp;=&nbsp;'default')</div></div></div>\n",
       "<script>\n",
       "(function() {\n",
       "  var expanded = false;\n",
       "  var ellipsis = document.getElementById(\"f12c1e60-907a-4d53-94e1-d9f021042bae\");\n",
       "  ellipsis.addEventListener(\"click\", function() {\n",
       "    var rows = document.getElementsByClassName(\"72101133-4646-43f0-a87f-f455bec28713\");\n",
       "    for (var i = 0; i < rows.length; i++) {\n",
       "      var el = rows[i];\n",
       "      el.style.display = expanded ? \"none\" : \"table-row\";\n",
       "    }\n",
       "    ellipsis.innerHTML = expanded ? \"&hellip;)\" : \"&lsaquo;&lsaquo;&lsaquo;\";\n",
       "    expanded = !expanded;\n",
       "  });\n",
       "})();\n",
       "</script>\n"
      ],
      "text/plain": [
       "GlyphRenderer(id='bde1f2cb-a685-45a2-a13b-6e12609ff77b', ...)"
      ]
     },
     "execution_count": 8,
     "metadata": {},
     "output_type": "execute_result"
    }
   ],
   "source": [
    "# create and another\n",
    "s3 = figure(width=250, height=250)\n",
    "s3.square(x, y2, size=10, color=\"olive\", alpha=0.5)"
   ]
  },
  {
   "cell_type": "code",
   "execution_count": 12,
   "metadata": {
    "collapsed": false
   },
   "outputs": [
    {
     "data": {
      "text/html": [
       "\n",
       "\n",
       "    <div class=\"bk-root\">\n",
       "        <div class=\"bk-plotdiv\" id=\"6b2634d9-2e65-47c8-af74-3e12c18761ec\"></div>\n",
       "    </div>\n",
       "<script type=\"text/javascript\">\n",
       "  \n",
       "  (function(global) {\n",
       "    function now() {\n",
       "      return new Date();\n",
       "    }\n",
       "  \n",
       "    var force = false;\n",
       "  \n",
       "    if (typeof (window._bokeh_onload_callbacks) === \"undefined\" || force === true) {\n",
       "      window._bokeh_onload_callbacks = [];\n",
       "      window._bokeh_is_loading = undefined;\n",
       "    }\n",
       "  \n",
       "  \n",
       "    \n",
       "    if (typeof (window._bokeh_timeout) === \"undefined\" || force === true) {\n",
       "      window._bokeh_timeout = Date.now() + 0;\n",
       "      window._bokeh_failed_load = false;\n",
       "    }\n",
       "  \n",
       "    var NB_LOAD_WARNING = {'data': {'text/html':\n",
       "       \"<div style='background-color: #fdd'>\\n\"+\n",
       "       \"<p>\\n\"+\n",
       "       \"BokehJS does not appear to have successfully loaded. If loading BokehJS from CDN, this \\n\"+\n",
       "       \"may be due to a slow or bad network connection. Possible fixes:\\n\"+\n",
       "       \"</p>\\n\"+\n",
       "       \"<ul>\\n\"+\n",
       "       \"<li>re-rerun `output_notebook()` to attempt to load from CDN again, or</li>\\n\"+\n",
       "       \"<li>use INLINE resources instead, as so:</li>\\n\"+\n",
       "       \"</ul>\\n\"+\n",
       "       \"<code>\\n\"+\n",
       "       \"from bokeh.resources import INLINE\\n\"+\n",
       "       \"output_notebook(resources=INLINE)\\n\"+\n",
       "       \"</code>\\n\"+\n",
       "       \"</div>\"}};\n",
       "  \n",
       "    function display_loaded() {\n",
       "      if (window.Bokeh !== undefined) {\n",
       "        document.getElementById(\"6b2634d9-2e65-47c8-af74-3e12c18761ec\").textContent = \"BokehJS successfully loaded.\";\n",
       "      } else if (Date.now() < window._bokeh_timeout) {\n",
       "        setTimeout(display_loaded, 100)\n",
       "      }\n",
       "    }\n",
       "  \n",
       "    function run_callbacks() {\n",
       "      window._bokeh_onload_callbacks.forEach(function(callback) { callback() });\n",
       "      delete window._bokeh_onload_callbacks\n",
       "      console.info(\"Bokeh: all callbacks have finished\");\n",
       "    }\n",
       "  \n",
       "    function load_libs(js_urls, callback) {\n",
       "      window._bokeh_onload_callbacks.push(callback);\n",
       "      if (window._bokeh_is_loading > 0) {\n",
       "        console.log(\"Bokeh: BokehJS is being loaded, scheduling callback at\", now());\n",
       "        return null;\n",
       "      }\n",
       "      if (js_urls == null || js_urls.length === 0) {\n",
       "        run_callbacks();\n",
       "        return null;\n",
       "      }\n",
       "      console.log(\"Bokeh: BokehJS not loaded, scheduling load and callback at\", now());\n",
       "      window._bokeh_is_loading = js_urls.length;\n",
       "      for (var i = 0; i < js_urls.length; i++) {\n",
       "        var url = js_urls[i];\n",
       "        var s = document.createElement('script');\n",
       "        s.src = url;\n",
       "        s.async = false;\n",
       "        s.onreadystatechange = s.onload = function() {\n",
       "          window._bokeh_is_loading--;\n",
       "          if (window._bokeh_is_loading === 0) {\n",
       "            console.log(\"Bokeh: all BokehJS libraries loaded\");\n",
       "            run_callbacks()\n",
       "          }\n",
       "        };\n",
       "        s.onerror = function() {\n",
       "          console.warn(\"failed to load library \" + url);\n",
       "        };\n",
       "        console.log(\"Bokeh: injecting script tag for BokehJS library: \", url);\n",
       "        document.getElementsByTagName(\"head\")[0].appendChild(s);\n",
       "      }\n",
       "    };var element = document.getElementById(\"6b2634d9-2e65-47c8-af74-3e12c18761ec\");\n",
       "    if (element == null) {\n",
       "      console.log(\"Bokeh: ERROR: autoload.js configured with elementid '6b2634d9-2e65-47c8-af74-3e12c18761ec' but no matching script tag was found. \")\n",
       "      return false;\n",
       "    }\n",
       "  \n",
       "    var js_urls = [];\n",
       "  \n",
       "    var inline_js = [\n",
       "      function(Bokeh) {\n",
       "        (function() {\n",
       "          var fn = function() {\n",
       "            var docs_json = {\"6e1d7679-2d1d-4f3e-a729-c20f84898796\":{\"roots\":{\"references\":[{\"attributes\":{\"plot\":null,\"text\":\"\"},\"id\":\"498a6619-f32f-4ff2-9231-42717e8ad7bb\",\"type\":\"Title\"},{\"attributes\":{\"data_source\":{\"id\":\"8f174c31-e1b2-4e3e-9934-b9aca0a4f86e\",\"type\":\"ColumnDataSource\"},\"glyph\":{\"id\":\"b36181b4-35e2-4f4f-8969-e39694c03f29\",\"type\":\"Circle\"},\"hover_glyph\":null,\"nonselection_glyph\":{\"id\":\"8f7b2634-951c-48fa-b8c7-37cfd7371107\",\"type\":\"Circle\"},\"selection_glyph\":null},\"id\":\"8b040250-1684-444d-96cd-9f097cdb767d\",\"type\":\"GlyphRenderer\"},{\"attributes\":{},\"id\":\"9154fd3d-c165-4bf5-a18c-d0305019f8cf\",\"type\":\"BasicTickFormatter\"},{\"attributes\":{\"overlay\":{\"id\":\"a1748d77-c848-445f-817d-78e8f7bef17d\",\"type\":\"BoxAnnotation\"},\"plot\":{\"id\":\"604ea618-28f7-42d4-a85e-d9c5eb2b223b\",\"subtype\":\"Figure\",\"type\":\"Plot\"}},\"id\":\"6337c49b-8745-403b-97e3-ea0460c19685\",\"type\":\"BoxZoomTool\"},{\"attributes\":{\"children\":[{\"id\":\"4cdb9aa1-02a8-46d8-9ce7-3bddb3c207d7\",\"type\":\"Row\"}]},\"id\":\"c262058d-87c4-4273-9814-1f33c2ed945e\",\"type\":\"Column\"},{\"attributes\":{\"fill_alpha\":{\"value\":0.5},\"fill_color\":{\"value\":\"navy\"},\"line_alpha\":{\"value\":0.5},\"line_color\":{\"value\":\"navy\"},\"size\":{\"units\":\"screen\",\"value\":10},\"x\":{\"field\":\"x\"},\"y\":{\"field\":\"y\"}},\"id\":\"b36181b4-35e2-4f4f-8969-e39694c03f29\",\"type\":\"Circle\"},{\"attributes\":{\"children\":[{\"id\":\"9e4a3a0e-7b0b-482a-8e17-01ab27378953\",\"subtype\":\"Figure\",\"type\":\"Plot\"},{\"id\":\"fee9b026-3709-4ad1-8c9e-723cc1feb868\",\"subtype\":\"Figure\",\"type\":\"Plot\"},{\"id\":\"604ea618-28f7-42d4-a85e-d9c5eb2b223b\",\"subtype\":\"Figure\",\"type\":\"Plot\"}]},\"id\":\"4cdb9aa1-02a8-46d8-9ce7-3bddb3c207d7\",\"type\":\"Row\"},{\"attributes\":{\"fill_alpha\":{\"value\":0.1},\"fill_color\":{\"value\":\"#1f77b4\"},\"line_alpha\":{\"value\":0.1},\"line_color\":{\"value\":\"#1f77b4\"},\"size\":{\"units\":\"screen\",\"value\":10},\"x\":{\"field\":\"x\"},\"y\":{\"field\":\"y\"}},\"id\":\"8f7b2634-951c-48fa-b8c7-37cfd7371107\",\"type\":\"Circle\"},{\"attributes\":{\"formatter\":{\"id\":\"bd882eb6-8ca2-48d2-a007-7ed61558842c\",\"type\":\"BasicTickFormatter\"},\"plot\":{\"id\":\"604ea618-28f7-42d4-a85e-d9c5eb2b223b\",\"subtype\":\"Figure\",\"type\":\"Plot\"},\"ticker\":{\"id\":\"2f837988-2b5c-484c-821c-cae7aaaa7bf1\",\"type\":\"BasicTicker\"}},\"id\":\"17e57780-ef05-4957-a74a-398e45faf117\",\"type\":\"LinearAxis\"},{\"attributes\":{\"active_drag\":\"auto\",\"active_scroll\":\"auto\",\"active_tap\":\"auto\",\"tools\":[{\"id\":\"1dec25af-e603-4517-971e-2f345a9446f3\",\"type\":\"PanTool\"},{\"id\":\"b9091e73-5e1d-4421-8414-b91b33f6e51f\",\"type\":\"WheelZoomTool\"},{\"id\":\"360a2067-a6c4-409c-9fe6-d5437ea59f6d\",\"type\":\"BoxZoomTool\"},{\"id\":\"b6cb7e1b-d155-4dae-9f81-54c2ed9c7e3d\",\"type\":\"SaveTool\"},{\"id\":\"c4e1dcf2-78c5-415d-9075-6a0bf8573e7e\",\"type\":\"ResetTool\"},{\"id\":\"7dad9be3-603f-4d53-a247-6c9f6825f6f5\",\"type\":\"HelpTool\"}]},\"id\":\"9a77447d-4430-47ed-84f9-796497c471b7\",\"type\":\"Toolbar\"},{\"attributes\":{\"fill_alpha\":{\"value\":0.1},\"fill_color\":{\"value\":\"#1f77b4\"},\"line_alpha\":{\"value\":0.1},\"line_color\":{\"value\":\"#1f77b4\"},\"size\":{\"units\":\"screen\",\"value\":10},\"x\":{\"field\":\"x\"},\"y\":{\"field\":\"y\"}},\"id\":\"8d74d9e6-996e-420a-8239-aa4c5589cdeb\",\"type\":\"Triangle\"},{\"attributes\":{\"plot\":{\"id\":\"604ea618-28f7-42d4-a85e-d9c5eb2b223b\",\"subtype\":\"Figure\",\"type\":\"Plot\"}},\"id\":\"0bfc5a1c-6ef9-4fea-8fea-7460c1e538dc\",\"type\":\"ResetTool\"},{\"attributes\":{\"formatter\":{\"id\":\"783335c8-d7a4-4372-bb38-bd9681d8bee2\",\"type\":\"BasicTickFormatter\"},\"plot\":{\"id\":\"604ea618-28f7-42d4-a85e-d9c5eb2b223b\",\"subtype\":\"Figure\",\"type\":\"Plot\"},\"ticker\":{\"id\":\"294a65db-6bd6-417f-9c3a-69d7fb317ae8\",\"type\":\"BasicTicker\"}},\"id\":\"3d20f1a0-6434-4e7c-8136-04f22ddff37a\",\"type\":\"LinearAxis\"},{\"attributes\":{\"below\":[{\"id\":\"3d20f1a0-6434-4e7c-8136-04f22ddff37a\",\"type\":\"LinearAxis\"}],\"left\":[{\"id\":\"17e57780-ef05-4957-a74a-398e45faf117\",\"type\":\"LinearAxis\"}],\"plot_height\":250,\"plot_width\":250,\"renderers\":[{\"id\":\"3d20f1a0-6434-4e7c-8136-04f22ddff37a\",\"type\":\"LinearAxis\"},{\"id\":\"2d1acad9-25bb-42e8-aac2-5a2e0d9ae6e7\",\"type\":\"Grid\"},{\"id\":\"17e57780-ef05-4957-a74a-398e45faf117\",\"type\":\"LinearAxis\"},{\"id\":\"e5d87f8f-d1cd-4a52-8745-cffab7e863cd\",\"type\":\"Grid\"},{\"id\":\"a1748d77-c848-445f-817d-78e8f7bef17d\",\"type\":\"BoxAnnotation\"},{\"id\":\"bde1f2cb-a685-45a2-a13b-6e12609ff77b\",\"type\":\"GlyphRenderer\"}],\"title\":{\"id\":\"b4bf0f22-80ab-42b9-96ed-612701fcd404\",\"type\":\"Title\"},\"tool_events\":{\"id\":\"226e7b9b-3af4-45d2-9f17-dd101e7bb828\",\"type\":\"ToolEvents\"},\"toolbar\":{\"id\":\"1986b89a-c25a-405f-a51a-2fc64f887295\",\"type\":\"Toolbar\"},\"toolbar_location\":null,\"x_range\":{\"id\":\"20d38f9b-13da-47a5-a9cb-1ffce81fe149\",\"type\":\"DataRange1d\"},\"y_range\":{\"id\":\"abc60d79-1eef-4e60-aea9-3e5cc02aa74d\",\"type\":\"DataRange1d\"}},\"id\":\"604ea618-28f7-42d4-a85e-d9c5eb2b223b\",\"subtype\":\"Figure\",\"type\":\"Plot\"},{\"attributes\":{\"callback\":null},\"id\":\"4428c4be-481d-4238-a4db-137870eac967\",\"type\":\"DataRange1d\"},{\"attributes\":{\"active_drag\":\"auto\",\"active_scroll\":\"auto\",\"active_tap\":\"auto\",\"tools\":[{\"id\":\"8d3979f9-5cf2-4230-9996-c7bc1a3dc38d\",\"type\":\"PanTool\"},{\"id\":\"79aae6f9-3c1a-45cd-b542-61d1f0dd40b4\",\"type\":\"WheelZoomTool\"},{\"id\":\"6337c49b-8745-403b-97e3-ea0460c19685\",\"type\":\"BoxZoomTool\"},{\"id\":\"c8911c71-be06-498a-9459-69ef454375da\",\"type\":\"SaveTool\"},{\"id\":\"0bfc5a1c-6ef9-4fea-8fea-7460c1e538dc\",\"type\":\"ResetTool\"},{\"id\":\"9d625d36-e83e-4802-a328-ffc20cb847e5\",\"type\":\"HelpTool\"}]},\"id\":\"1986b89a-c25a-405f-a51a-2fc64f887295\",\"type\":\"Toolbar\"},{\"attributes\":{\"active_drag\":\"auto\",\"active_scroll\":\"auto\",\"active_tap\":\"auto\",\"tools\":[{\"id\":\"4eead39c-dc3e-480c-95f1-aa5c7afdafad\",\"type\":\"PanTool\"},{\"id\":\"eee35943-563a-45f5-be62-82da0c9363ac\",\"type\":\"WheelZoomTool\"},{\"id\":\"d21aedfd-1afc-49be-929b-b067ad7ae402\",\"type\":\"BoxZoomTool\"},{\"id\":\"50e6778b-bd6b-4a65-b82f-931bb6a0b144\",\"type\":\"SaveTool\"},{\"id\":\"ddfa2eb3-c75c-4793-b0c4-60dec5d910ed\",\"type\":\"ResetTool\"},{\"id\":\"b8c04dec-0f2a-486c-8c2f-020525a2bf63\",\"type\":\"HelpTool\"}]},\"id\":\"1f49d565-1570-49f1-b79e-4d901f3f76ae\",\"type\":\"Toolbar\"},{\"attributes\":{\"plot\":null,\"text\":\"\"},\"id\":\"936c99c0-9988-48a7-accc-b37d84ed7691\",\"type\":\"Title\"},{\"attributes\":{\"plot\":{\"id\":\"604ea618-28f7-42d4-a85e-d9c5eb2b223b\",\"subtype\":\"Figure\",\"type\":\"Plot\"}},\"id\":\"c8911c71-be06-498a-9459-69ef454375da\",\"type\":\"SaveTool\"},{\"attributes\":{},\"id\":\"bd882eb6-8ca2-48d2-a007-7ed61558842c\",\"type\":\"BasicTickFormatter\"},{\"attributes\":{},\"id\":\"55fc71ec-8b1d-47a5-94d2-1f0c0a5c3b0a\",\"type\":\"ToolEvents\"},{\"attributes\":{\"dimension\":1,\"plot\":{\"id\":\"604ea618-28f7-42d4-a85e-d9c5eb2b223b\",\"subtype\":\"Figure\",\"type\":\"Plot\"},\"ticker\":{\"id\":\"2f837988-2b5c-484c-821c-cae7aaaa7bf1\",\"type\":\"BasicTicker\"}},\"id\":\"e5d87f8f-d1cd-4a52-8745-cffab7e863cd\",\"type\":\"Grid\"},{\"attributes\":{},\"id\":\"783335c8-d7a4-4372-bb38-bd9681d8bee2\",\"type\":\"BasicTickFormatter\"},{\"attributes\":{\"callback\":null,\"column_names\":[\"x\",\"y\"],\"data\":{\"x\":[0,1,2,3,4,5,6,7,8,9,10],\"y\":[10,9,8,7,6,5,4,3,2,1,0]}},\"id\":\"e2c6c723-5a7d-44c7-b64d-7adb0cd858b5\",\"type\":\"ColumnDataSource\"},{\"attributes\":{\"below\":[{\"id\":\"b65ce55b-5866-44c0-9007-2ad5343e564b\",\"type\":\"LinearAxis\"}],\"left\":[{\"id\":\"33e38dc6-1af0-45fd-a98d-5e0f2bd13a7c\",\"type\":\"LinearAxis\"}],\"plot_height\":250,\"plot_width\":250,\"renderers\":[{\"id\":\"b65ce55b-5866-44c0-9007-2ad5343e564b\",\"type\":\"LinearAxis\"},{\"id\":\"f2ede673-037c-4fb8-9893-662ad804e05f\",\"type\":\"Grid\"},{\"id\":\"33e38dc6-1af0-45fd-a98d-5e0f2bd13a7c\",\"type\":\"LinearAxis\"},{\"id\":\"44aa5585-7a25-4960-8fcc-2d749abbd2db\",\"type\":\"Grid\"},{\"id\":\"97028320-7f2a-442b-a26e-2a50ff690078\",\"type\":\"BoxAnnotation\"},{\"id\":\"3735c978-a6f5-4018-9ef5-cae335ab7ee7\",\"type\":\"GlyphRenderer\"}],\"title\":{\"id\":\"936c99c0-9988-48a7-accc-b37d84ed7691\",\"type\":\"Title\"},\"tool_events\":{\"id\":\"55fc71ec-8b1d-47a5-94d2-1f0c0a5c3b0a\",\"type\":\"ToolEvents\"},\"toolbar\":{\"id\":\"9a77447d-4430-47ed-84f9-796497c471b7\",\"type\":\"Toolbar\"},\"toolbar_location\":null,\"x_range\":{\"id\":\"4428c4be-481d-4238-a4db-137870eac967\",\"type\":\"DataRange1d\"},\"y_range\":{\"id\":\"f35ddf36-278f-47d7-b80b-a981614bb63e\",\"type\":\"DataRange1d\"}},\"id\":\"fee9b026-3709-4ad1-8c9e-723cc1feb868\",\"subtype\":\"Figure\",\"type\":\"Plot\"},{\"attributes\":{\"fill_alpha\":{\"value\":0.1},\"fill_color\":{\"value\":\"#1f77b4\"},\"line_alpha\":{\"value\":0.1},\"line_color\":{\"value\":\"#1f77b4\"},\"size\":{\"units\":\"screen\",\"value\":10},\"x\":{\"field\":\"x\"},\"y\":{\"field\":\"y\"}},\"id\":\"96197170-a348-411c-9cb9-831f4fe98a15\",\"type\":\"Square\"},{\"attributes\":{\"plot\":null,\"text\":\"\"},\"id\":\"b4bf0f22-80ab-42b9-96ed-612701fcd404\",\"type\":\"Title\"},{\"attributes\":{\"plot\":{\"id\":\"fee9b026-3709-4ad1-8c9e-723cc1feb868\",\"subtype\":\"Figure\",\"type\":\"Plot\"}},\"id\":\"b9091e73-5e1d-4421-8414-b91b33f6e51f\",\"type\":\"WheelZoomTool\"},{\"attributes\":{\"data_source\":{\"id\":\"f5725a02-bb44-4eaf-89f4-6ba70c23f6e4\",\"type\":\"ColumnDataSource\"},\"glyph\":{\"id\":\"2f95c92e-5ba0-4cbb-b7a6-75b61e2b4f4a\",\"type\":\"Square\"},\"hover_glyph\":null,\"nonselection_glyph\":{\"id\":\"96197170-a348-411c-9cb9-831f4fe98a15\",\"type\":\"Square\"},\"selection_glyph\":null},\"id\":\"bde1f2cb-a685-45a2-a13b-6e12609ff77b\",\"type\":\"GlyphRenderer\"},{\"attributes\":{\"callback\":null},\"id\":\"f35ddf36-278f-47d7-b80b-a981614bb63e\",\"type\":\"DataRange1d\"},{\"attributes\":{\"plot\":{\"id\":\"fee9b026-3709-4ad1-8c9e-723cc1feb868\",\"subtype\":\"Figure\",\"type\":\"Plot\"},\"ticker\":{\"id\":\"6a7395cd-a93a-44cc-84c6-f5739a8e19ec\",\"type\":\"BasicTicker\"}},\"id\":\"f2ede673-037c-4fb8-9893-662ad804e05f\",\"type\":\"Grid\"},{\"attributes\":{},\"id\":\"6a7395cd-a93a-44cc-84c6-f5739a8e19ec\",\"type\":\"BasicTicker\"},{\"attributes\":{\"plot\":{\"id\":\"604ea618-28f7-42d4-a85e-d9c5eb2b223b\",\"subtype\":\"Figure\",\"type\":\"Plot\"}},\"id\":\"8d3979f9-5cf2-4230-9996-c7bc1a3dc38d\",\"type\":\"PanTool\"},{\"attributes\":{\"formatter\":{\"id\":\"9aebdf0a-3360-4f3c-a432-7dbd31e8fedc\",\"type\":\"BasicTickFormatter\"},\"plot\":{\"id\":\"fee9b026-3709-4ad1-8c9e-723cc1feb868\",\"subtype\":\"Figure\",\"type\":\"Plot\"},\"ticker\":{\"id\":\"6a7395cd-a93a-44cc-84c6-f5739a8e19ec\",\"type\":\"BasicTicker\"}},\"id\":\"b65ce55b-5866-44c0-9007-2ad5343e564b\",\"type\":\"LinearAxis\"},{\"attributes\":{\"below\":[{\"id\":\"563996c7-6bc5-40fe-bf2d-169a54d201b0\",\"type\":\"LinearAxis\"}],\"left\":[{\"id\":\"652f6db0-ebba-40f8-b4b4-bd316cb73dd8\",\"type\":\"LinearAxis\"}],\"plot_height\":250,\"plot_width\":250,\"renderers\":[{\"id\":\"563996c7-6bc5-40fe-bf2d-169a54d201b0\",\"type\":\"LinearAxis\"},{\"id\":\"a13bcfed-63c9-4d85-845e-4554290adac9\",\"type\":\"Grid\"},{\"id\":\"652f6db0-ebba-40f8-b4b4-bd316cb73dd8\",\"type\":\"LinearAxis\"},{\"id\":\"e61a4517-c9b5-4861-b711-b49552261be9\",\"type\":\"Grid\"},{\"id\":\"e141e1ae-9589-4e1a-8131-2e1e2a3eed40\",\"type\":\"BoxAnnotation\"},{\"id\":\"8b040250-1684-444d-96cd-9f097cdb767d\",\"type\":\"GlyphRenderer\"}],\"title\":{\"id\":\"498a6619-f32f-4ff2-9231-42717e8ad7bb\",\"type\":\"Title\"},\"tool_events\":{\"id\":\"ce3f4a55-c6fb-4c8b-a3f1-5f7140675704\",\"type\":\"ToolEvents\"},\"toolbar\":{\"id\":\"1f49d565-1570-49f1-b79e-4d901f3f76ae\",\"type\":\"Toolbar\"},\"toolbar_location\":null,\"x_range\":{\"id\":\"960c743d-bbe4-4a5b-ab88-a9cd405f547d\",\"type\":\"DataRange1d\"},\"y_range\":{\"id\":\"2cd0db74-d1b8-4991-a9e6-9d82daf526e1\",\"type\":\"DataRange1d\"}},\"id\":\"9e4a3a0e-7b0b-482a-8e17-01ab27378953\",\"subtype\":\"Figure\",\"type\":\"Plot\"},{\"attributes\":{\"callback\":null},\"id\":\"960c743d-bbe4-4a5b-ab88-a9cd405f547d\",\"type\":\"DataRange1d\"},{\"attributes\":{},\"id\":\"c8e10494-8da8-40de-aa60-2c139d8e54b7\",\"type\":\"BasicTicker\"},{\"attributes\":{\"formatter\":{\"id\":\"a50669d7-3fe3-46c6-a207-70ae8640ad65\",\"type\":\"BasicTickFormatter\"},\"plot\":{\"id\":\"fee9b026-3709-4ad1-8c9e-723cc1feb868\",\"subtype\":\"Figure\",\"type\":\"Plot\"},\"ticker\":{\"id\":\"c8e10494-8da8-40de-aa60-2c139d8e54b7\",\"type\":\"BasicTicker\"}},\"id\":\"33e38dc6-1af0-45fd-a98d-5e0f2bd13a7c\",\"type\":\"LinearAxis\"},{\"attributes\":{\"callback\":null,\"column_names\":[\"x\",\"y\"],\"data\":{\"x\":[0,1,2,3,4,5,6,7,8,9,10],\"y\":[0,1,2,3,4,5,6,7,8,9,10]}},\"id\":\"8f174c31-e1b2-4e3e-9934-b9aca0a4f86e\",\"type\":\"ColumnDataSource\"},{\"attributes\":{},\"id\":\"ce3f4a55-c6fb-4c8b-a3f1-5f7140675704\",\"type\":\"ToolEvents\"},{\"attributes\":{\"fill_alpha\":{\"value\":0.5},\"fill_color\":{\"value\":\"firebrick\"},\"line_alpha\":{\"value\":0.5},\"line_color\":{\"value\":\"firebrick\"},\"size\":{\"units\":\"screen\",\"value\":10},\"x\":{\"field\":\"x\"},\"y\":{\"field\":\"y\"}},\"id\":\"0b2b8e4f-dcd6-4ab0-a305-90bd07318906\",\"type\":\"Triangle\"},{\"attributes\":{\"data_source\":{\"id\":\"e2c6c723-5a7d-44c7-b64d-7adb0cd858b5\",\"type\":\"ColumnDataSource\"},\"glyph\":{\"id\":\"0b2b8e4f-dcd6-4ab0-a305-90bd07318906\",\"type\":\"Triangle\"},\"hover_glyph\":null,\"nonselection_glyph\":{\"id\":\"8d74d9e6-996e-420a-8239-aa4c5589cdeb\",\"type\":\"Triangle\"},\"selection_glyph\":null},\"id\":\"3735c978-a6f5-4018-9ef5-cae335ab7ee7\",\"type\":\"GlyphRenderer\"},{\"attributes\":{\"dimension\":1,\"plot\":{\"id\":\"fee9b026-3709-4ad1-8c9e-723cc1feb868\",\"subtype\":\"Figure\",\"type\":\"Plot\"},\"ticker\":{\"id\":\"c8e10494-8da8-40de-aa60-2c139d8e54b7\",\"type\":\"BasicTicker\"}},\"id\":\"44aa5585-7a25-4960-8fcc-2d749abbd2db\",\"type\":\"Grid\"},{\"attributes\":{\"plot\":{\"id\":\"fee9b026-3709-4ad1-8c9e-723cc1feb868\",\"subtype\":\"Figure\",\"type\":\"Plot\"}},\"id\":\"1dec25af-e603-4517-971e-2f345a9446f3\",\"type\":\"PanTool\"},{\"attributes\":{\"bottom_units\":\"screen\",\"fill_alpha\":{\"value\":0.5},\"fill_color\":{\"value\":\"lightgrey\"},\"left_units\":\"screen\",\"level\":\"overlay\",\"line_alpha\":{\"value\":1.0},\"line_color\":{\"value\":\"black\"},\"line_dash\":[4,4],\"line_width\":{\"value\":2},\"plot\":null,\"render_mode\":\"css\",\"right_units\":\"screen\",\"top_units\":\"screen\"},\"id\":\"97028320-7f2a-442b-a26e-2a50ff690078\",\"type\":\"BoxAnnotation\"},{\"attributes\":{\"plot\":{\"id\":\"604ea618-28f7-42d4-a85e-d9c5eb2b223b\",\"subtype\":\"Figure\",\"type\":\"Plot\"}},\"id\":\"79aae6f9-3c1a-45cd-b542-61d1f0dd40b4\",\"type\":\"WheelZoomTool\"},{\"attributes\":{\"formatter\":{\"id\":\"bed60e62-ce55-42ac-a393-6b232cb981ec\",\"type\":\"BasicTickFormatter\"},\"plot\":{\"id\":\"9e4a3a0e-7b0b-482a-8e17-01ab27378953\",\"subtype\":\"Figure\",\"type\":\"Plot\"},\"ticker\":{\"id\":\"a1fd181f-702a-4b24-a729-b032360e6273\",\"type\":\"BasicTicker\"}},\"id\":\"563996c7-6bc5-40fe-bf2d-169a54d201b0\",\"type\":\"LinearAxis\"},{\"attributes\":{\"formatter\":{\"id\":\"9154fd3d-c165-4bf5-a18c-d0305019f8cf\",\"type\":\"BasicTickFormatter\"},\"plot\":{\"id\":\"9e4a3a0e-7b0b-482a-8e17-01ab27378953\",\"subtype\":\"Figure\",\"type\":\"Plot\"},\"ticker\":{\"id\":\"84fdf392-89b9-4cdd-93df-20cb7f4e68e8\",\"type\":\"BasicTicker\"}},\"id\":\"652f6db0-ebba-40f8-b4b4-bd316cb73dd8\",\"type\":\"LinearAxis\"},{\"attributes\":{\"overlay\":{\"id\":\"97028320-7f2a-442b-a26e-2a50ff690078\",\"type\":\"BoxAnnotation\"},\"plot\":{\"id\":\"fee9b026-3709-4ad1-8c9e-723cc1feb868\",\"subtype\":\"Figure\",\"type\":\"Plot\"}},\"id\":\"360a2067-a6c4-409c-9fe6-d5437ea59f6d\",\"type\":\"BoxZoomTool\"},{\"attributes\":{\"callback\":null},\"id\":\"2cd0db74-d1b8-4991-a9e6-9d82daf526e1\",\"type\":\"DataRange1d\"},{\"attributes\":{\"callback\":null},\"id\":\"20d38f9b-13da-47a5-a9cb-1ffce81fe149\",\"type\":\"DataRange1d\"},{\"attributes\":{},\"id\":\"a1fd181f-702a-4b24-a729-b032360e6273\",\"type\":\"BasicTicker\"},{\"attributes\":{},\"id\":\"a50669d7-3fe3-46c6-a207-70ae8640ad65\",\"type\":\"BasicTickFormatter\"},{\"attributes\":{\"plot\":{\"id\":\"9e4a3a0e-7b0b-482a-8e17-01ab27378953\",\"subtype\":\"Figure\",\"type\":\"Plot\"},\"ticker\":{\"id\":\"a1fd181f-702a-4b24-a729-b032360e6273\",\"type\":\"BasicTicker\"}},\"id\":\"a13bcfed-63c9-4d85-845e-4554290adac9\",\"type\":\"Grid\"},{\"attributes\":{},\"id\":\"226e7b9b-3af4-45d2-9f17-dd101e7bb828\",\"type\":\"ToolEvents\"},{\"attributes\":{},\"id\":\"84fdf392-89b9-4cdd-93df-20cb7f4e68e8\",\"type\":\"BasicTicker\"},{\"attributes\":{\"callback\":null,\"column_names\":[\"x\",\"y\"],\"data\":{\"x\":[0,1,2,3,4,5,6,7,8,9,10],\"y\":[5,4,3,2,1,0,1,2,3,4,5]}},\"id\":\"f5725a02-bb44-4eaf-89f4-6ba70c23f6e4\",\"type\":\"ColumnDataSource\"},{\"attributes\":{},\"id\":\"9aebdf0a-3360-4f3c-a432-7dbd31e8fedc\",\"type\":\"BasicTickFormatter\"},{\"attributes\":{\"dimension\":1,\"plot\":{\"id\":\"9e4a3a0e-7b0b-482a-8e17-01ab27378953\",\"subtype\":\"Figure\",\"type\":\"Plot\"},\"ticker\":{\"id\":\"84fdf392-89b9-4cdd-93df-20cb7f4e68e8\",\"type\":\"BasicTicker\"}},\"id\":\"e61a4517-c9b5-4861-b711-b49552261be9\",\"type\":\"Grid\"},{\"attributes\":{\"bottom_units\":\"screen\",\"fill_alpha\":{\"value\":0.5},\"fill_color\":{\"value\":\"lightgrey\"},\"left_units\":\"screen\",\"level\":\"overlay\",\"line_alpha\":{\"value\":1.0},\"line_color\":{\"value\":\"black\"},\"line_dash\":[4,4],\"line_width\":{\"value\":2},\"plot\":null,\"render_mode\":\"css\",\"right_units\":\"screen\",\"top_units\":\"screen\"},\"id\":\"e141e1ae-9589-4e1a-8131-2e1e2a3eed40\",\"type\":\"BoxAnnotation\"},{\"attributes\":{\"plot\":{\"id\":\"fee9b026-3709-4ad1-8c9e-723cc1feb868\",\"subtype\":\"Figure\",\"type\":\"Plot\"}},\"id\":\"7dad9be3-603f-4d53-a247-6c9f6825f6f5\",\"type\":\"HelpTool\"},{\"attributes\":{\"plot\":{\"id\":\"fee9b026-3709-4ad1-8c9e-723cc1feb868\",\"subtype\":\"Figure\",\"type\":\"Plot\"}},\"id\":\"c4e1dcf2-78c5-415d-9075-6a0bf8573e7e\",\"type\":\"ResetTool\"},{\"attributes\":{\"plot\":{\"id\":\"fee9b026-3709-4ad1-8c9e-723cc1feb868\",\"subtype\":\"Figure\",\"type\":\"Plot\"}},\"id\":\"b6cb7e1b-d155-4dae-9f81-54c2ed9c7e3d\",\"type\":\"SaveTool\"},{\"attributes\":{},\"id\":\"2f837988-2b5c-484c-821c-cae7aaaa7bf1\",\"type\":\"BasicTicker\"},{\"attributes\":{\"plot\":{\"id\":\"9e4a3a0e-7b0b-482a-8e17-01ab27378953\",\"subtype\":\"Figure\",\"type\":\"Plot\"}},\"id\":\"4eead39c-dc3e-480c-95f1-aa5c7afdafad\",\"type\":\"PanTool\"},{\"attributes\":{\"fill_alpha\":{\"value\":0.5},\"fill_color\":{\"value\":\"olive\"},\"line_alpha\":{\"value\":0.5},\"line_color\":{\"value\":\"olive\"},\"size\":{\"units\":\"screen\",\"value\":10},\"x\":{\"field\":\"x\"},\"y\":{\"field\":\"y\"}},\"id\":\"2f95c92e-5ba0-4cbb-b7a6-75b61e2b4f4a\",\"type\":\"Square\"},{\"attributes\":{},\"id\":\"bed60e62-ce55-42ac-a393-6b232cb981ec\",\"type\":\"BasicTickFormatter\"},{\"attributes\":{\"plot\":{\"id\":\"604ea618-28f7-42d4-a85e-d9c5eb2b223b\",\"subtype\":\"Figure\",\"type\":\"Plot\"}},\"id\":\"9d625d36-e83e-4802-a328-ffc20cb847e5\",\"type\":\"HelpTool\"},{\"attributes\":{\"plot\":{\"id\":\"604ea618-28f7-42d4-a85e-d9c5eb2b223b\",\"subtype\":\"Figure\",\"type\":\"Plot\"},\"ticker\":{\"id\":\"294a65db-6bd6-417f-9c3a-69d7fb317ae8\",\"type\":\"BasicTicker\"}},\"id\":\"2d1acad9-25bb-42e8-aac2-5a2e0d9ae6e7\",\"type\":\"Grid\"},{\"attributes\":{\"plot\":{\"id\":\"9e4a3a0e-7b0b-482a-8e17-01ab27378953\",\"subtype\":\"Figure\",\"type\":\"Plot\"}},\"id\":\"eee35943-563a-45f5-be62-82da0c9363ac\",\"type\":\"WheelZoomTool\"},{\"attributes\":{\"overlay\":{\"id\":\"e141e1ae-9589-4e1a-8131-2e1e2a3eed40\",\"type\":\"BoxAnnotation\"},\"plot\":{\"id\":\"9e4a3a0e-7b0b-482a-8e17-01ab27378953\",\"subtype\":\"Figure\",\"type\":\"Plot\"}},\"id\":\"d21aedfd-1afc-49be-929b-b067ad7ae402\",\"type\":\"BoxZoomTool\"},{\"attributes\":{},\"id\":\"294a65db-6bd6-417f-9c3a-69d7fb317ae8\",\"type\":\"BasicTicker\"},{\"attributes\":{\"callback\":null},\"id\":\"abc60d79-1eef-4e60-aea9-3e5cc02aa74d\",\"type\":\"DataRange1d\"},{\"attributes\":{\"plot\":{\"id\":\"9e4a3a0e-7b0b-482a-8e17-01ab27378953\",\"subtype\":\"Figure\",\"type\":\"Plot\"}},\"id\":\"50e6778b-bd6b-4a65-b82f-931bb6a0b144\",\"type\":\"SaveTool\"},{\"attributes\":{\"plot\":{\"id\":\"9e4a3a0e-7b0b-482a-8e17-01ab27378953\",\"subtype\":\"Figure\",\"type\":\"Plot\"}},\"id\":\"ddfa2eb3-c75c-4793-b0c4-60dec5d910ed\",\"type\":\"ResetTool\"},{\"attributes\":{\"plot\":{\"id\":\"9e4a3a0e-7b0b-482a-8e17-01ab27378953\",\"subtype\":\"Figure\",\"type\":\"Plot\"}},\"id\":\"b8c04dec-0f2a-486c-8c2f-020525a2bf63\",\"type\":\"HelpTool\"},{\"attributes\":{\"bottom_units\":\"screen\",\"fill_alpha\":{\"value\":0.5},\"fill_color\":{\"value\":\"lightgrey\"},\"left_units\":\"screen\",\"level\":\"overlay\",\"line_alpha\":{\"value\":1.0},\"line_color\":{\"value\":\"black\"},\"line_dash\":[4,4],\"line_width\":{\"value\":2},\"plot\":null,\"render_mode\":\"css\",\"right_units\":\"screen\",\"top_units\":\"screen\"},\"id\":\"a1748d77-c848-445f-817d-78e8f7bef17d\",\"type\":\"BoxAnnotation\"}],\"root_ids\":[\"c262058d-87c4-4273-9814-1f33c2ed945e\"]},\"title\":\"Bokeh Application\",\"version\":\"0.12.4\"}};\n",
       "            var render_items = [{\"docid\":\"6e1d7679-2d1d-4f3e-a729-c20f84898796\",\"elementid\":\"6b2634d9-2e65-47c8-af74-3e12c18761ec\",\"modelid\":\"c262058d-87c4-4273-9814-1f33c2ed945e\"}];\n",
       "            \n",
       "            Bokeh.embed.embed_items(docs_json, render_items);\n",
       "          };\n",
       "          if (document.readyState != \"loading\") fn();\n",
       "          else document.addEventListener(\"DOMContentLoaded\", fn);\n",
       "        })();\n",
       "      },\n",
       "      function(Bokeh) {\n",
       "      }\n",
       "    ];\n",
       "  \n",
       "    function run_inline_js() {\n",
       "      \n",
       "      if ((window.Bokeh !== undefined) || (force === true)) {\n",
       "        for (var i = 0; i < inline_js.length; i++) {\n",
       "          inline_js[i](window.Bokeh);\n",
       "        }if (force === true) {\n",
       "          display_loaded();\n",
       "        }} else if (Date.now() < window._bokeh_timeout) {\n",
       "        setTimeout(run_inline_js, 100);\n",
       "      } else if (!window._bokeh_failed_load) {\n",
       "        console.log(\"Bokeh: BokehJS failed to load within specified timeout.\");\n",
       "        window._bokeh_failed_load = true;\n",
       "      } else if (force !== true) {\n",
       "        var cell = $(document.getElementById(\"6b2634d9-2e65-47c8-af74-3e12c18761ec\")).parents('.cell').data().cell;\n",
       "        cell.output_area.append_execute_result(NB_LOAD_WARNING)\n",
       "      }\n",
       "  \n",
       "    }\n",
       "  \n",
       "    if (window._bokeh_is_loading === 0) {\n",
       "      console.log(\"Bokeh: BokehJS loaded, going straight to plotting\");\n",
       "      run_inline_js();\n",
       "    } else {\n",
       "      load_libs(js_urls, function() {\n",
       "        console.log(\"Bokeh: BokehJS plotting callback run at\", now());\n",
       "        run_inline_js();\n",
       "      });\n",
       "    }\n",
       "  }(this));\n",
       "</script>"
      ]
     },
     "metadata": {},
     "output_type": "display_data"
    }
   ],
   "source": [
    "# put all the plots in a gridplot\n",
    "p = gridplot([[s1, s2, s3]], toolbar_location=None)\n",
    "\n",
    "# show the results\n",
    "show(p)"
   ]
  },
  {
   "cell_type": "markdown",
   "metadata": {},
   "source": [
    "## Exercise 3.1: Gridplot\n",
    "\n",
    "Create a gridplot of your own using `numpy` functions `cos()`, `sin()`, and `log()`"
   ]
  },
  {
   "cell_type": "code",
   "execution_count": null,
   "metadata": {
    "collapsed": false
   },
   "outputs": [],
   "source": [
    "# Exercise"
   ]
  },
  {
   "cell_type": "markdown",
   "metadata": {},
   "source": [
    "Layouts\n",
    "-------"
   ]
  },
  {
   "cell_type": "markdown",
   "metadata": {},
   "source": [
    "The [`bokeh.layouts`](http://bokeh.pydata.org/en/latest/docs/reference/layouts.html) modules also provides the ``row`` and ``column`` functions to arrange plot objects in vertical or horizontal layouts. "
   ]
  },
  {
   "cell_type": "markdown",
   "metadata": {},
   "source": [
    "## Exercise 3.2: Column Layout\n",
    "\n",
    "Use column to arrange a few plots vertically"
   ]
  },
  {
   "cell_type": "code",
   "execution_count": 10,
   "metadata": {
    "collapsed": false
   },
   "outputs": [
    {
     "data": {
      "text/html": [
       "\n",
       "\n",
       "    <div class=\"bk-root\">\n",
       "        <div class=\"bk-plotdiv\" id=\"d5429420-c37e-4205-b64b-9cca47cd6ace\"></div>\n",
       "    </div>\n",
       "<script type=\"text/javascript\">\n",
       "  \n",
       "  (function(global) {\n",
       "    function now() {\n",
       "      return new Date();\n",
       "    }\n",
       "  \n",
       "    var force = false;\n",
       "  \n",
       "    if (typeof (window._bokeh_onload_callbacks) === \"undefined\" || force === true) {\n",
       "      window._bokeh_onload_callbacks = [];\n",
       "      window._bokeh_is_loading = undefined;\n",
       "    }\n",
       "  \n",
       "  \n",
       "    \n",
       "    if (typeof (window._bokeh_timeout) === \"undefined\" || force === true) {\n",
       "      window._bokeh_timeout = Date.now() + 0;\n",
       "      window._bokeh_failed_load = false;\n",
       "    }\n",
       "  \n",
       "    var NB_LOAD_WARNING = {'data': {'text/html':\n",
       "       \"<div style='background-color: #fdd'>\\n\"+\n",
       "       \"<p>\\n\"+\n",
       "       \"BokehJS does not appear to have successfully loaded. If loading BokehJS from CDN, this \\n\"+\n",
       "       \"may be due to a slow or bad network connection. Possible fixes:\\n\"+\n",
       "       \"</p>\\n\"+\n",
       "       \"<ul>\\n\"+\n",
       "       \"<li>re-rerun `output_notebook()` to attempt to load from CDN again, or</li>\\n\"+\n",
       "       \"<li>use INLINE resources instead, as so:</li>\\n\"+\n",
       "       \"</ul>\\n\"+\n",
       "       \"<code>\\n\"+\n",
       "       \"from bokeh.resources import INLINE\\n\"+\n",
       "       \"output_notebook(resources=INLINE)\\n\"+\n",
       "       \"</code>\\n\"+\n",
       "       \"</div>\"}};\n",
       "  \n",
       "    function display_loaded() {\n",
       "      if (window.Bokeh !== undefined) {\n",
       "        document.getElementById(\"d5429420-c37e-4205-b64b-9cca47cd6ace\").textContent = \"BokehJS successfully loaded.\";\n",
       "      } else if (Date.now() < window._bokeh_timeout) {\n",
       "        setTimeout(display_loaded, 100)\n",
       "      }\n",
       "    }\n",
       "  \n",
       "    function run_callbacks() {\n",
       "      window._bokeh_onload_callbacks.forEach(function(callback) { callback() });\n",
       "      delete window._bokeh_onload_callbacks\n",
       "      console.info(\"Bokeh: all callbacks have finished\");\n",
       "    }\n",
       "  \n",
       "    function load_libs(js_urls, callback) {\n",
       "      window._bokeh_onload_callbacks.push(callback);\n",
       "      if (window._bokeh_is_loading > 0) {\n",
       "        console.log(\"Bokeh: BokehJS is being loaded, scheduling callback at\", now());\n",
       "        return null;\n",
       "      }\n",
       "      if (js_urls == null || js_urls.length === 0) {\n",
       "        run_callbacks();\n",
       "        return null;\n",
       "      }\n",
       "      console.log(\"Bokeh: BokehJS not loaded, scheduling load and callback at\", now());\n",
       "      window._bokeh_is_loading = js_urls.length;\n",
       "      for (var i = 0; i < js_urls.length; i++) {\n",
       "        var url = js_urls[i];\n",
       "        var s = document.createElement('script');\n",
       "        s.src = url;\n",
       "        s.async = false;\n",
       "        s.onreadystatechange = s.onload = function() {\n",
       "          window._bokeh_is_loading--;\n",
       "          if (window._bokeh_is_loading === 0) {\n",
       "            console.log(\"Bokeh: all BokehJS libraries loaded\");\n",
       "            run_callbacks()\n",
       "          }\n",
       "        };\n",
       "        s.onerror = function() {\n",
       "          console.warn(\"failed to load library \" + url);\n",
       "        };\n",
       "        console.log(\"Bokeh: injecting script tag for BokehJS library: \", url);\n",
       "        document.getElementsByTagName(\"head\")[0].appendChild(s);\n",
       "      }\n",
       "    };var element = document.getElementById(\"d5429420-c37e-4205-b64b-9cca47cd6ace\");\n",
       "    if (element == null) {\n",
       "      console.log(\"Bokeh: ERROR: autoload.js configured with elementid 'd5429420-c37e-4205-b64b-9cca47cd6ace' but no matching script tag was found. \")\n",
       "      return false;\n",
       "    }\n",
       "  \n",
       "    var js_urls = [];\n",
       "  \n",
       "    var inline_js = [\n",
       "      function(Bokeh) {\n",
       "        (function() {\n",
       "          var fn = function() {\n",
       "            var docs_json = {\"1f32e478-d7f9-4852-b0cd-8e756d77df7b\":{\"roots\":{\"references\":[{\"attributes\":{\"plot\":null,\"text\":\"\"},\"id\":\"498a6619-f32f-4ff2-9231-42717e8ad7bb\",\"type\":\"Title\"},{\"attributes\":{\"data_source\":{\"id\":\"8f174c31-e1b2-4e3e-9934-b9aca0a4f86e\",\"type\":\"ColumnDataSource\"},\"glyph\":{\"id\":\"b36181b4-35e2-4f4f-8969-e39694c03f29\",\"type\":\"Circle\"},\"hover_glyph\":null,\"nonselection_glyph\":{\"id\":\"8f7b2634-951c-48fa-b8c7-37cfd7371107\",\"type\":\"Circle\"},\"selection_glyph\":null},\"id\":\"8b040250-1684-444d-96cd-9f097cdb767d\",\"type\":\"GlyphRenderer\"},{\"attributes\":{},\"id\":\"9154fd3d-c165-4bf5-a18c-d0305019f8cf\",\"type\":\"BasicTickFormatter\"},{\"attributes\":{\"overlay\":{\"id\":\"a1748d77-c848-445f-817d-78e8f7bef17d\",\"type\":\"BoxAnnotation\"},\"plot\":{\"id\":\"604ea618-28f7-42d4-a85e-d9c5eb2b223b\",\"subtype\":\"Figure\",\"type\":\"Plot\"}},\"id\":\"6337c49b-8745-403b-97e3-ea0460c19685\",\"type\":\"BoxZoomTool\"},{\"attributes\":{\"fill_alpha\":{\"value\":0.5},\"fill_color\":{\"value\":\"navy\"},\"line_alpha\":{\"value\":0.5},\"line_color\":{\"value\":\"navy\"},\"size\":{\"units\":\"screen\",\"value\":10},\"x\":{\"field\":\"x\"},\"y\":{\"field\":\"y\"}},\"id\":\"b36181b4-35e2-4f4f-8969-e39694c03f29\",\"type\":\"Circle\"},{\"attributes\":{\"fill_alpha\":{\"value\":0.1},\"fill_color\":{\"value\":\"#1f77b4\"},\"line_alpha\":{\"value\":0.1},\"line_color\":{\"value\":\"#1f77b4\"},\"size\":{\"units\":\"screen\",\"value\":10},\"x\":{\"field\":\"x\"},\"y\":{\"field\":\"y\"}},\"id\":\"8f7b2634-951c-48fa-b8c7-37cfd7371107\",\"type\":\"Circle\"},{\"attributes\":{\"formatter\":{\"id\":\"bd882eb6-8ca2-48d2-a007-7ed61558842c\",\"type\":\"BasicTickFormatter\"},\"plot\":{\"id\":\"604ea618-28f7-42d4-a85e-d9c5eb2b223b\",\"subtype\":\"Figure\",\"type\":\"Plot\"},\"ticker\":{\"id\":\"2f837988-2b5c-484c-821c-cae7aaaa7bf1\",\"type\":\"BasicTicker\"}},\"id\":\"17e57780-ef05-4957-a74a-398e45faf117\",\"type\":\"LinearAxis\"},{\"attributes\":{\"active_drag\":\"auto\",\"active_scroll\":\"auto\",\"active_tap\":\"auto\",\"tools\":[{\"id\":\"1dec25af-e603-4517-971e-2f345a9446f3\",\"type\":\"PanTool\"},{\"id\":\"b9091e73-5e1d-4421-8414-b91b33f6e51f\",\"type\":\"WheelZoomTool\"},{\"id\":\"360a2067-a6c4-409c-9fe6-d5437ea59f6d\",\"type\":\"BoxZoomTool\"},{\"id\":\"b6cb7e1b-d155-4dae-9f81-54c2ed9c7e3d\",\"type\":\"SaveTool\"},{\"id\":\"c4e1dcf2-78c5-415d-9075-6a0bf8573e7e\",\"type\":\"ResetTool\"},{\"id\":\"7dad9be3-603f-4d53-a247-6c9f6825f6f5\",\"type\":\"HelpTool\"}]},\"id\":\"9a77447d-4430-47ed-84f9-796497c471b7\",\"type\":\"Toolbar\"},{\"attributes\":{\"fill_alpha\":{\"value\":0.1},\"fill_color\":{\"value\":\"#1f77b4\"},\"line_alpha\":{\"value\":0.1},\"line_color\":{\"value\":\"#1f77b4\"},\"size\":{\"units\":\"screen\",\"value\":10},\"x\":{\"field\":\"x\"},\"y\":{\"field\":\"y\"}},\"id\":\"8d74d9e6-996e-420a-8239-aa4c5589cdeb\",\"type\":\"Triangle\"},{\"attributes\":{\"plot\":{\"id\":\"604ea618-28f7-42d4-a85e-d9c5eb2b223b\",\"subtype\":\"Figure\",\"type\":\"Plot\"}},\"id\":\"0bfc5a1c-6ef9-4fea-8fea-7460c1e538dc\",\"type\":\"ResetTool\"},{\"attributes\":{\"formatter\":{\"id\":\"783335c8-d7a4-4372-bb38-bd9681d8bee2\",\"type\":\"BasicTickFormatter\"},\"plot\":{\"id\":\"604ea618-28f7-42d4-a85e-d9c5eb2b223b\",\"subtype\":\"Figure\",\"type\":\"Plot\"},\"ticker\":{\"id\":\"294a65db-6bd6-417f-9c3a-69d7fb317ae8\",\"type\":\"BasicTicker\"}},\"id\":\"3d20f1a0-6434-4e7c-8136-04f22ddff37a\",\"type\":\"LinearAxis\"},{\"attributes\":{\"children\":[{\"id\":\"9e4a3a0e-7b0b-482a-8e17-01ab27378953\",\"subtype\":\"Figure\",\"type\":\"Plot\"},{\"id\":\"fee9b026-3709-4ad1-8c9e-723cc1feb868\",\"subtype\":\"Figure\",\"type\":\"Plot\"},{\"id\":\"604ea618-28f7-42d4-a85e-d9c5eb2b223b\",\"subtype\":\"Figure\",\"type\":\"Plot\"}]},\"id\":\"5cecc086-4bd9-4966-9ad2-e2fe53d2af8f\",\"type\":\"Column\"},{\"attributes\":{\"below\":[{\"id\":\"3d20f1a0-6434-4e7c-8136-04f22ddff37a\",\"type\":\"LinearAxis\"}],\"left\":[{\"id\":\"17e57780-ef05-4957-a74a-398e45faf117\",\"type\":\"LinearAxis\"}],\"plot_height\":250,\"plot_width\":250,\"renderers\":[{\"id\":\"3d20f1a0-6434-4e7c-8136-04f22ddff37a\",\"type\":\"LinearAxis\"},{\"id\":\"2d1acad9-25bb-42e8-aac2-5a2e0d9ae6e7\",\"type\":\"Grid\"},{\"id\":\"17e57780-ef05-4957-a74a-398e45faf117\",\"type\":\"LinearAxis\"},{\"id\":\"e5d87f8f-d1cd-4a52-8745-cffab7e863cd\",\"type\":\"Grid\"},{\"id\":\"a1748d77-c848-445f-817d-78e8f7bef17d\",\"type\":\"BoxAnnotation\"},{\"id\":\"bde1f2cb-a685-45a2-a13b-6e12609ff77b\",\"type\":\"GlyphRenderer\"}],\"title\":{\"id\":\"b4bf0f22-80ab-42b9-96ed-612701fcd404\",\"type\":\"Title\"},\"tool_events\":{\"id\":\"226e7b9b-3af4-45d2-9f17-dd101e7bb828\",\"type\":\"ToolEvents\"},\"toolbar\":{\"id\":\"1986b89a-c25a-405f-a51a-2fc64f887295\",\"type\":\"Toolbar\"},\"toolbar_location\":null,\"x_range\":{\"id\":\"20d38f9b-13da-47a5-a9cb-1ffce81fe149\",\"type\":\"DataRange1d\"},\"y_range\":{\"id\":\"abc60d79-1eef-4e60-aea9-3e5cc02aa74d\",\"type\":\"DataRange1d\"}},\"id\":\"604ea618-28f7-42d4-a85e-d9c5eb2b223b\",\"subtype\":\"Figure\",\"type\":\"Plot\"},{\"attributes\":{\"callback\":null},\"id\":\"4428c4be-481d-4238-a4db-137870eac967\",\"type\":\"DataRange1d\"},{\"attributes\":{\"active_drag\":\"auto\",\"active_scroll\":\"auto\",\"active_tap\":\"auto\",\"tools\":[{\"id\":\"8d3979f9-5cf2-4230-9996-c7bc1a3dc38d\",\"type\":\"PanTool\"},{\"id\":\"79aae6f9-3c1a-45cd-b542-61d1f0dd40b4\",\"type\":\"WheelZoomTool\"},{\"id\":\"6337c49b-8745-403b-97e3-ea0460c19685\",\"type\":\"BoxZoomTool\"},{\"id\":\"c8911c71-be06-498a-9459-69ef454375da\",\"type\":\"SaveTool\"},{\"id\":\"0bfc5a1c-6ef9-4fea-8fea-7460c1e538dc\",\"type\":\"ResetTool\"},{\"id\":\"9d625d36-e83e-4802-a328-ffc20cb847e5\",\"type\":\"HelpTool\"}]},\"id\":\"1986b89a-c25a-405f-a51a-2fc64f887295\",\"type\":\"Toolbar\"},{\"attributes\":{\"active_drag\":\"auto\",\"active_scroll\":\"auto\",\"active_tap\":\"auto\",\"tools\":[{\"id\":\"4eead39c-dc3e-480c-95f1-aa5c7afdafad\",\"type\":\"PanTool\"},{\"id\":\"eee35943-563a-45f5-be62-82da0c9363ac\",\"type\":\"WheelZoomTool\"},{\"id\":\"d21aedfd-1afc-49be-929b-b067ad7ae402\",\"type\":\"BoxZoomTool\"},{\"id\":\"50e6778b-bd6b-4a65-b82f-931bb6a0b144\",\"type\":\"SaveTool\"},{\"id\":\"ddfa2eb3-c75c-4793-b0c4-60dec5d910ed\",\"type\":\"ResetTool\"},{\"id\":\"b8c04dec-0f2a-486c-8c2f-020525a2bf63\",\"type\":\"HelpTool\"}]},\"id\":\"1f49d565-1570-49f1-b79e-4d901f3f76ae\",\"type\":\"Toolbar\"},{\"attributes\":{\"plot\":null,\"text\":\"\"},\"id\":\"936c99c0-9988-48a7-accc-b37d84ed7691\",\"type\":\"Title\"},{\"attributes\":{\"plot\":{\"id\":\"604ea618-28f7-42d4-a85e-d9c5eb2b223b\",\"subtype\":\"Figure\",\"type\":\"Plot\"}},\"id\":\"c8911c71-be06-498a-9459-69ef454375da\",\"type\":\"SaveTool\"},{\"attributes\":{},\"id\":\"bd882eb6-8ca2-48d2-a007-7ed61558842c\",\"type\":\"BasicTickFormatter\"},{\"attributes\":{},\"id\":\"55fc71ec-8b1d-47a5-94d2-1f0c0a5c3b0a\",\"type\":\"ToolEvents\"},{\"attributes\":{\"dimension\":1,\"plot\":{\"id\":\"604ea618-28f7-42d4-a85e-d9c5eb2b223b\",\"subtype\":\"Figure\",\"type\":\"Plot\"},\"ticker\":{\"id\":\"2f837988-2b5c-484c-821c-cae7aaaa7bf1\",\"type\":\"BasicTicker\"}},\"id\":\"e5d87f8f-d1cd-4a52-8745-cffab7e863cd\",\"type\":\"Grid\"},{\"attributes\":{},\"id\":\"783335c8-d7a4-4372-bb38-bd9681d8bee2\",\"type\":\"BasicTickFormatter\"},{\"attributes\":{\"callback\":null,\"column_names\":[\"x\",\"y\"],\"data\":{\"x\":[0,1,2,3,4,5,6,7,8,9,10],\"y\":[10,9,8,7,6,5,4,3,2,1,0]}},\"id\":\"e2c6c723-5a7d-44c7-b64d-7adb0cd858b5\",\"type\":\"ColumnDataSource\"},{\"attributes\":{\"below\":[{\"id\":\"b65ce55b-5866-44c0-9007-2ad5343e564b\",\"type\":\"LinearAxis\"}],\"left\":[{\"id\":\"33e38dc6-1af0-45fd-a98d-5e0f2bd13a7c\",\"type\":\"LinearAxis\"}],\"plot_height\":250,\"plot_width\":250,\"renderers\":[{\"id\":\"b65ce55b-5866-44c0-9007-2ad5343e564b\",\"type\":\"LinearAxis\"},{\"id\":\"f2ede673-037c-4fb8-9893-662ad804e05f\",\"type\":\"Grid\"},{\"id\":\"33e38dc6-1af0-45fd-a98d-5e0f2bd13a7c\",\"type\":\"LinearAxis\"},{\"id\":\"44aa5585-7a25-4960-8fcc-2d749abbd2db\",\"type\":\"Grid\"},{\"id\":\"97028320-7f2a-442b-a26e-2a50ff690078\",\"type\":\"BoxAnnotation\"},{\"id\":\"3735c978-a6f5-4018-9ef5-cae335ab7ee7\",\"type\":\"GlyphRenderer\"}],\"title\":{\"id\":\"936c99c0-9988-48a7-accc-b37d84ed7691\",\"type\":\"Title\"},\"tool_events\":{\"id\":\"55fc71ec-8b1d-47a5-94d2-1f0c0a5c3b0a\",\"type\":\"ToolEvents\"},\"toolbar\":{\"id\":\"9a77447d-4430-47ed-84f9-796497c471b7\",\"type\":\"Toolbar\"},\"toolbar_location\":null,\"x_range\":{\"id\":\"4428c4be-481d-4238-a4db-137870eac967\",\"type\":\"DataRange1d\"},\"y_range\":{\"id\":\"f35ddf36-278f-47d7-b80b-a981614bb63e\",\"type\":\"DataRange1d\"}},\"id\":\"fee9b026-3709-4ad1-8c9e-723cc1feb868\",\"subtype\":\"Figure\",\"type\":\"Plot\"},{\"attributes\":{\"fill_alpha\":{\"value\":0.1},\"fill_color\":{\"value\":\"#1f77b4\"},\"line_alpha\":{\"value\":0.1},\"line_color\":{\"value\":\"#1f77b4\"},\"size\":{\"units\":\"screen\",\"value\":10},\"x\":{\"field\":\"x\"},\"y\":{\"field\":\"y\"}},\"id\":\"96197170-a348-411c-9cb9-831f4fe98a15\",\"type\":\"Square\"},{\"attributes\":{\"plot\":null,\"text\":\"\"},\"id\":\"b4bf0f22-80ab-42b9-96ed-612701fcd404\",\"type\":\"Title\"},{\"attributes\":{\"plot\":{\"id\":\"fee9b026-3709-4ad1-8c9e-723cc1feb868\",\"subtype\":\"Figure\",\"type\":\"Plot\"}},\"id\":\"b9091e73-5e1d-4421-8414-b91b33f6e51f\",\"type\":\"WheelZoomTool\"},{\"attributes\":{\"data_source\":{\"id\":\"f5725a02-bb44-4eaf-89f4-6ba70c23f6e4\",\"type\":\"ColumnDataSource\"},\"glyph\":{\"id\":\"2f95c92e-5ba0-4cbb-b7a6-75b61e2b4f4a\",\"type\":\"Square\"},\"hover_glyph\":null,\"nonselection_glyph\":{\"id\":\"96197170-a348-411c-9cb9-831f4fe98a15\",\"type\":\"Square\"},\"selection_glyph\":null},\"id\":\"bde1f2cb-a685-45a2-a13b-6e12609ff77b\",\"type\":\"GlyphRenderer\"},{\"attributes\":{\"callback\":null},\"id\":\"f35ddf36-278f-47d7-b80b-a981614bb63e\",\"type\":\"DataRange1d\"},{\"attributes\":{\"plot\":{\"id\":\"fee9b026-3709-4ad1-8c9e-723cc1feb868\",\"subtype\":\"Figure\",\"type\":\"Plot\"},\"ticker\":{\"id\":\"6a7395cd-a93a-44cc-84c6-f5739a8e19ec\",\"type\":\"BasicTicker\"}},\"id\":\"f2ede673-037c-4fb8-9893-662ad804e05f\",\"type\":\"Grid\"},{\"attributes\":{},\"id\":\"6a7395cd-a93a-44cc-84c6-f5739a8e19ec\",\"type\":\"BasicTicker\"},{\"attributes\":{\"plot\":{\"id\":\"604ea618-28f7-42d4-a85e-d9c5eb2b223b\",\"subtype\":\"Figure\",\"type\":\"Plot\"}},\"id\":\"8d3979f9-5cf2-4230-9996-c7bc1a3dc38d\",\"type\":\"PanTool\"},{\"attributes\":{\"formatter\":{\"id\":\"9aebdf0a-3360-4f3c-a432-7dbd31e8fedc\",\"type\":\"BasicTickFormatter\"},\"plot\":{\"id\":\"fee9b026-3709-4ad1-8c9e-723cc1feb868\",\"subtype\":\"Figure\",\"type\":\"Plot\"},\"ticker\":{\"id\":\"6a7395cd-a93a-44cc-84c6-f5739a8e19ec\",\"type\":\"BasicTicker\"}},\"id\":\"b65ce55b-5866-44c0-9007-2ad5343e564b\",\"type\":\"LinearAxis\"},{\"attributes\":{\"below\":[{\"id\":\"563996c7-6bc5-40fe-bf2d-169a54d201b0\",\"type\":\"LinearAxis\"}],\"left\":[{\"id\":\"652f6db0-ebba-40f8-b4b4-bd316cb73dd8\",\"type\":\"LinearAxis\"}],\"plot_height\":250,\"plot_width\":250,\"renderers\":[{\"id\":\"563996c7-6bc5-40fe-bf2d-169a54d201b0\",\"type\":\"LinearAxis\"},{\"id\":\"a13bcfed-63c9-4d85-845e-4554290adac9\",\"type\":\"Grid\"},{\"id\":\"652f6db0-ebba-40f8-b4b4-bd316cb73dd8\",\"type\":\"LinearAxis\"},{\"id\":\"e61a4517-c9b5-4861-b711-b49552261be9\",\"type\":\"Grid\"},{\"id\":\"e141e1ae-9589-4e1a-8131-2e1e2a3eed40\",\"type\":\"BoxAnnotation\"},{\"id\":\"8b040250-1684-444d-96cd-9f097cdb767d\",\"type\":\"GlyphRenderer\"}],\"title\":{\"id\":\"498a6619-f32f-4ff2-9231-42717e8ad7bb\",\"type\":\"Title\"},\"tool_events\":{\"id\":\"ce3f4a55-c6fb-4c8b-a3f1-5f7140675704\",\"type\":\"ToolEvents\"},\"toolbar\":{\"id\":\"1f49d565-1570-49f1-b79e-4d901f3f76ae\",\"type\":\"Toolbar\"},\"toolbar_location\":null,\"x_range\":{\"id\":\"960c743d-bbe4-4a5b-ab88-a9cd405f547d\",\"type\":\"DataRange1d\"},\"y_range\":{\"id\":\"2cd0db74-d1b8-4991-a9e6-9d82daf526e1\",\"type\":\"DataRange1d\"}},\"id\":\"9e4a3a0e-7b0b-482a-8e17-01ab27378953\",\"subtype\":\"Figure\",\"type\":\"Plot\"},{\"attributes\":{\"callback\":null},\"id\":\"960c743d-bbe4-4a5b-ab88-a9cd405f547d\",\"type\":\"DataRange1d\"},{\"attributes\":{},\"id\":\"c8e10494-8da8-40de-aa60-2c139d8e54b7\",\"type\":\"BasicTicker\"},{\"attributes\":{\"formatter\":{\"id\":\"a50669d7-3fe3-46c6-a207-70ae8640ad65\",\"type\":\"BasicTickFormatter\"},\"plot\":{\"id\":\"fee9b026-3709-4ad1-8c9e-723cc1feb868\",\"subtype\":\"Figure\",\"type\":\"Plot\"},\"ticker\":{\"id\":\"c8e10494-8da8-40de-aa60-2c139d8e54b7\",\"type\":\"BasicTicker\"}},\"id\":\"33e38dc6-1af0-45fd-a98d-5e0f2bd13a7c\",\"type\":\"LinearAxis\"},{\"attributes\":{\"callback\":null,\"column_names\":[\"x\",\"y\"],\"data\":{\"x\":[0,1,2,3,4,5,6,7,8,9,10],\"y\":[0,1,2,3,4,5,6,7,8,9,10]}},\"id\":\"8f174c31-e1b2-4e3e-9934-b9aca0a4f86e\",\"type\":\"ColumnDataSource\"},{\"attributes\":{},\"id\":\"ce3f4a55-c6fb-4c8b-a3f1-5f7140675704\",\"type\":\"ToolEvents\"},{\"attributes\":{\"fill_alpha\":{\"value\":0.5},\"fill_color\":{\"value\":\"firebrick\"},\"line_alpha\":{\"value\":0.5},\"line_color\":{\"value\":\"firebrick\"},\"size\":{\"units\":\"screen\",\"value\":10},\"x\":{\"field\":\"x\"},\"y\":{\"field\":\"y\"}},\"id\":\"0b2b8e4f-dcd6-4ab0-a305-90bd07318906\",\"type\":\"Triangle\"},{\"attributes\":{\"data_source\":{\"id\":\"e2c6c723-5a7d-44c7-b64d-7adb0cd858b5\",\"type\":\"ColumnDataSource\"},\"glyph\":{\"id\":\"0b2b8e4f-dcd6-4ab0-a305-90bd07318906\",\"type\":\"Triangle\"},\"hover_glyph\":null,\"nonselection_glyph\":{\"id\":\"8d74d9e6-996e-420a-8239-aa4c5589cdeb\",\"type\":\"Triangle\"},\"selection_glyph\":null},\"id\":\"3735c978-a6f5-4018-9ef5-cae335ab7ee7\",\"type\":\"GlyphRenderer\"},{\"attributes\":{\"dimension\":1,\"plot\":{\"id\":\"fee9b026-3709-4ad1-8c9e-723cc1feb868\",\"subtype\":\"Figure\",\"type\":\"Plot\"},\"ticker\":{\"id\":\"c8e10494-8da8-40de-aa60-2c139d8e54b7\",\"type\":\"BasicTicker\"}},\"id\":\"44aa5585-7a25-4960-8fcc-2d749abbd2db\",\"type\":\"Grid\"},{\"attributes\":{\"plot\":{\"id\":\"fee9b026-3709-4ad1-8c9e-723cc1feb868\",\"subtype\":\"Figure\",\"type\":\"Plot\"}},\"id\":\"1dec25af-e603-4517-971e-2f345a9446f3\",\"type\":\"PanTool\"},{\"attributes\":{\"bottom_units\":\"screen\",\"fill_alpha\":{\"value\":0.5},\"fill_color\":{\"value\":\"lightgrey\"},\"left_units\":\"screen\",\"level\":\"overlay\",\"line_alpha\":{\"value\":1.0},\"line_color\":{\"value\":\"black\"},\"line_dash\":[4,4],\"line_width\":{\"value\":2},\"plot\":null,\"render_mode\":\"css\",\"right_units\":\"screen\",\"top_units\":\"screen\"},\"id\":\"97028320-7f2a-442b-a26e-2a50ff690078\",\"type\":\"BoxAnnotation\"},{\"attributes\":{\"plot\":{\"id\":\"604ea618-28f7-42d4-a85e-d9c5eb2b223b\",\"subtype\":\"Figure\",\"type\":\"Plot\"}},\"id\":\"79aae6f9-3c1a-45cd-b542-61d1f0dd40b4\",\"type\":\"WheelZoomTool\"},{\"attributes\":{\"formatter\":{\"id\":\"bed60e62-ce55-42ac-a393-6b232cb981ec\",\"type\":\"BasicTickFormatter\"},\"plot\":{\"id\":\"9e4a3a0e-7b0b-482a-8e17-01ab27378953\",\"subtype\":\"Figure\",\"type\":\"Plot\"},\"ticker\":{\"id\":\"a1fd181f-702a-4b24-a729-b032360e6273\",\"type\":\"BasicTicker\"}},\"id\":\"563996c7-6bc5-40fe-bf2d-169a54d201b0\",\"type\":\"LinearAxis\"},{\"attributes\":{\"formatter\":{\"id\":\"9154fd3d-c165-4bf5-a18c-d0305019f8cf\",\"type\":\"BasicTickFormatter\"},\"plot\":{\"id\":\"9e4a3a0e-7b0b-482a-8e17-01ab27378953\",\"subtype\":\"Figure\",\"type\":\"Plot\"},\"ticker\":{\"id\":\"84fdf392-89b9-4cdd-93df-20cb7f4e68e8\",\"type\":\"BasicTicker\"}},\"id\":\"652f6db0-ebba-40f8-b4b4-bd316cb73dd8\",\"type\":\"LinearAxis\"},{\"attributes\":{\"overlay\":{\"id\":\"97028320-7f2a-442b-a26e-2a50ff690078\",\"type\":\"BoxAnnotation\"},\"plot\":{\"id\":\"fee9b026-3709-4ad1-8c9e-723cc1feb868\",\"subtype\":\"Figure\",\"type\":\"Plot\"}},\"id\":\"360a2067-a6c4-409c-9fe6-d5437ea59f6d\",\"type\":\"BoxZoomTool\"},{\"attributes\":{\"callback\":null},\"id\":\"2cd0db74-d1b8-4991-a9e6-9d82daf526e1\",\"type\":\"DataRange1d\"},{\"attributes\":{\"callback\":null},\"id\":\"20d38f9b-13da-47a5-a9cb-1ffce81fe149\",\"type\":\"DataRange1d\"},{\"attributes\":{},\"id\":\"a1fd181f-702a-4b24-a729-b032360e6273\",\"type\":\"BasicTicker\"},{\"attributes\":{},\"id\":\"a50669d7-3fe3-46c6-a207-70ae8640ad65\",\"type\":\"BasicTickFormatter\"},{\"attributes\":{\"plot\":{\"id\":\"9e4a3a0e-7b0b-482a-8e17-01ab27378953\",\"subtype\":\"Figure\",\"type\":\"Plot\"},\"ticker\":{\"id\":\"a1fd181f-702a-4b24-a729-b032360e6273\",\"type\":\"BasicTicker\"}},\"id\":\"a13bcfed-63c9-4d85-845e-4554290adac9\",\"type\":\"Grid\"},{\"attributes\":{},\"id\":\"226e7b9b-3af4-45d2-9f17-dd101e7bb828\",\"type\":\"ToolEvents\"},{\"attributes\":{},\"id\":\"84fdf392-89b9-4cdd-93df-20cb7f4e68e8\",\"type\":\"BasicTicker\"},{\"attributes\":{\"callback\":null,\"column_names\":[\"x\",\"y\"],\"data\":{\"x\":[0,1,2,3,4,5,6,7,8,9,10],\"y\":[5,4,3,2,1,0,1,2,3,4,5]}},\"id\":\"f5725a02-bb44-4eaf-89f4-6ba70c23f6e4\",\"type\":\"ColumnDataSource\"},{\"attributes\":{},\"id\":\"9aebdf0a-3360-4f3c-a432-7dbd31e8fedc\",\"type\":\"BasicTickFormatter\"},{\"attributes\":{\"dimension\":1,\"plot\":{\"id\":\"9e4a3a0e-7b0b-482a-8e17-01ab27378953\",\"subtype\":\"Figure\",\"type\":\"Plot\"},\"ticker\":{\"id\":\"84fdf392-89b9-4cdd-93df-20cb7f4e68e8\",\"type\":\"BasicTicker\"}},\"id\":\"e61a4517-c9b5-4861-b711-b49552261be9\",\"type\":\"Grid\"},{\"attributes\":{\"bottom_units\":\"screen\",\"fill_alpha\":{\"value\":0.5},\"fill_color\":{\"value\":\"lightgrey\"},\"left_units\":\"screen\",\"level\":\"overlay\",\"line_alpha\":{\"value\":1.0},\"line_color\":{\"value\":\"black\"},\"line_dash\":[4,4],\"line_width\":{\"value\":2},\"plot\":null,\"render_mode\":\"css\",\"right_units\":\"screen\",\"top_units\":\"screen\"},\"id\":\"e141e1ae-9589-4e1a-8131-2e1e2a3eed40\",\"type\":\"BoxAnnotation\"},{\"attributes\":{\"plot\":{\"id\":\"fee9b026-3709-4ad1-8c9e-723cc1feb868\",\"subtype\":\"Figure\",\"type\":\"Plot\"}},\"id\":\"7dad9be3-603f-4d53-a247-6c9f6825f6f5\",\"type\":\"HelpTool\"},{\"attributes\":{\"plot\":{\"id\":\"fee9b026-3709-4ad1-8c9e-723cc1feb868\",\"subtype\":\"Figure\",\"type\":\"Plot\"}},\"id\":\"c4e1dcf2-78c5-415d-9075-6a0bf8573e7e\",\"type\":\"ResetTool\"},{\"attributes\":{\"plot\":{\"id\":\"fee9b026-3709-4ad1-8c9e-723cc1feb868\",\"subtype\":\"Figure\",\"type\":\"Plot\"}},\"id\":\"b6cb7e1b-d155-4dae-9f81-54c2ed9c7e3d\",\"type\":\"SaveTool\"},{\"attributes\":{},\"id\":\"2f837988-2b5c-484c-821c-cae7aaaa7bf1\",\"type\":\"BasicTicker\"},{\"attributes\":{\"plot\":{\"id\":\"9e4a3a0e-7b0b-482a-8e17-01ab27378953\",\"subtype\":\"Figure\",\"type\":\"Plot\"}},\"id\":\"4eead39c-dc3e-480c-95f1-aa5c7afdafad\",\"type\":\"PanTool\"},{\"attributes\":{\"fill_alpha\":{\"value\":0.5},\"fill_color\":{\"value\":\"olive\"},\"line_alpha\":{\"value\":0.5},\"line_color\":{\"value\":\"olive\"},\"size\":{\"units\":\"screen\",\"value\":10},\"x\":{\"field\":\"x\"},\"y\":{\"field\":\"y\"}},\"id\":\"2f95c92e-5ba0-4cbb-b7a6-75b61e2b4f4a\",\"type\":\"Square\"},{\"attributes\":{},\"id\":\"bed60e62-ce55-42ac-a393-6b232cb981ec\",\"type\":\"BasicTickFormatter\"},{\"attributes\":{\"plot\":{\"id\":\"604ea618-28f7-42d4-a85e-d9c5eb2b223b\",\"subtype\":\"Figure\",\"type\":\"Plot\"}},\"id\":\"9d625d36-e83e-4802-a328-ffc20cb847e5\",\"type\":\"HelpTool\"},{\"attributes\":{\"plot\":{\"id\":\"604ea618-28f7-42d4-a85e-d9c5eb2b223b\",\"subtype\":\"Figure\",\"type\":\"Plot\"},\"ticker\":{\"id\":\"294a65db-6bd6-417f-9c3a-69d7fb317ae8\",\"type\":\"BasicTicker\"}},\"id\":\"2d1acad9-25bb-42e8-aac2-5a2e0d9ae6e7\",\"type\":\"Grid\"},{\"attributes\":{\"plot\":{\"id\":\"9e4a3a0e-7b0b-482a-8e17-01ab27378953\",\"subtype\":\"Figure\",\"type\":\"Plot\"}},\"id\":\"eee35943-563a-45f5-be62-82da0c9363ac\",\"type\":\"WheelZoomTool\"},{\"attributes\":{\"overlay\":{\"id\":\"e141e1ae-9589-4e1a-8131-2e1e2a3eed40\",\"type\":\"BoxAnnotation\"},\"plot\":{\"id\":\"9e4a3a0e-7b0b-482a-8e17-01ab27378953\",\"subtype\":\"Figure\",\"type\":\"Plot\"}},\"id\":\"d21aedfd-1afc-49be-929b-b067ad7ae402\",\"type\":\"BoxZoomTool\"},{\"attributes\":{},\"id\":\"294a65db-6bd6-417f-9c3a-69d7fb317ae8\",\"type\":\"BasicTicker\"},{\"attributes\":{\"callback\":null},\"id\":\"abc60d79-1eef-4e60-aea9-3e5cc02aa74d\",\"type\":\"DataRange1d\"},{\"attributes\":{\"plot\":{\"id\":\"9e4a3a0e-7b0b-482a-8e17-01ab27378953\",\"subtype\":\"Figure\",\"type\":\"Plot\"}},\"id\":\"50e6778b-bd6b-4a65-b82f-931bb6a0b144\",\"type\":\"SaveTool\"},{\"attributes\":{\"plot\":{\"id\":\"9e4a3a0e-7b0b-482a-8e17-01ab27378953\",\"subtype\":\"Figure\",\"type\":\"Plot\"}},\"id\":\"ddfa2eb3-c75c-4793-b0c4-60dec5d910ed\",\"type\":\"ResetTool\"},{\"attributes\":{\"plot\":{\"id\":\"9e4a3a0e-7b0b-482a-8e17-01ab27378953\",\"subtype\":\"Figure\",\"type\":\"Plot\"}},\"id\":\"b8c04dec-0f2a-486c-8c2f-020525a2bf63\",\"type\":\"HelpTool\"},{\"attributes\":{\"bottom_units\":\"screen\",\"fill_alpha\":{\"value\":0.5},\"fill_color\":{\"value\":\"lightgrey\"},\"left_units\":\"screen\",\"level\":\"overlay\",\"line_alpha\":{\"value\":1.0},\"line_color\":{\"value\":\"black\"},\"line_dash\":[4,4],\"line_width\":{\"value\":2},\"plot\":null,\"render_mode\":\"css\",\"right_units\":\"screen\",\"top_units\":\"screen\"},\"id\":\"a1748d77-c848-445f-817d-78e8f7bef17d\",\"type\":\"BoxAnnotation\"}],\"root_ids\":[\"5cecc086-4bd9-4966-9ad2-e2fe53d2af8f\"]},\"title\":\"Bokeh Application\",\"version\":\"0.12.4\"}};\n",
       "            var render_items = [{\"docid\":\"1f32e478-d7f9-4852-b0cd-8e756d77df7b\",\"elementid\":\"d5429420-c37e-4205-b64b-9cca47cd6ace\",\"modelid\":\"5cecc086-4bd9-4966-9ad2-e2fe53d2af8f\"}];\n",
       "            \n",
       "            Bokeh.embed.embed_items(docs_json, render_items);\n",
       "          };\n",
       "          if (document.readyState != \"loading\") fn();\n",
       "          else document.addEventListener(\"DOMContentLoaded\", fn);\n",
       "        })();\n",
       "      },\n",
       "      function(Bokeh) {\n",
       "      }\n",
       "    ];\n",
       "  \n",
       "    function run_inline_js() {\n",
       "      \n",
       "      if ((window.Bokeh !== undefined) || (force === true)) {\n",
       "        for (var i = 0; i < inline_js.length; i++) {\n",
       "          inline_js[i](window.Bokeh);\n",
       "        }if (force === true) {\n",
       "          display_loaded();\n",
       "        }} else if (Date.now() < window._bokeh_timeout) {\n",
       "        setTimeout(run_inline_js, 100);\n",
       "      } else if (!window._bokeh_failed_load) {\n",
       "        console.log(\"Bokeh: BokehJS failed to load within specified timeout.\");\n",
       "        window._bokeh_failed_load = true;\n",
       "      } else if (force !== true) {\n",
       "        var cell = $(document.getElementById(\"d5429420-c37e-4205-b64b-9cca47cd6ace\")).parents('.cell').data().cell;\n",
       "        cell.output_area.append_execute_result(NB_LOAD_WARNING)\n",
       "      }\n",
       "  \n",
       "    }\n",
       "  \n",
       "    if (window._bokeh_is_loading === 0) {\n",
       "      console.log(\"Bokeh: BokehJS loaded, going straight to plotting\");\n",
       "      run_inline_js();\n",
       "    } else {\n",
       "      load_libs(js_urls, function() {\n",
       "        console.log(\"Bokeh: BokehJS plotting callback run at\", now());\n",
       "        run_inline_js();\n",
       "      });\n",
       "    }\n",
       "  }(this));\n",
       "</script>"
      ]
     },
     "metadata": {},
     "output_type": "display_data"
    }
   ],
   "source": [
    "# Exercise\n",
    "from bokeh.layouts import column\n",
    "\n",
    "p = column([s1, s2, s3])\n",
    "show(p)"
   ]
  },
  {
   "cell_type": "markdown",
   "metadata": {
    "collapsed": true
   },
   "source": [
    "# Linked Interactions\n",
    "\n",
    "It is possible to link various interactions between different Bokeh plots. For instance, the ranges of two (or more) plots can be linked, so that when one of the plots is panned (or zoomed, or otherwise has its range changed) the other plots will update in unison. It is also possible to link selections between two plots, so that when items are selected on one plot, the corresponding items on the second plot also become selected. "
   ]
  },
  {
   "cell_type": "markdown",
   "metadata": {},
   "source": [
    "## Linked panning\n",
    "\n",
    "Linked panning (when multiple plots have ranges that stay in sync) is simple to spell with Bokeh. You simply share the appropriate range objects between two (or more) plots. The example below shows how to accomplish this by linking the ranges of three plots in various ways:"
   ]
  },
  {
   "cell_type": "code",
   "execution_count": 13,
   "metadata": {
    "collapsed": true
   },
   "outputs": [],
   "source": [
    "plot_options = dict(width=250, plot_height=250, tools='pan,wheel_zoom')"
   ]
  },
  {
   "cell_type": "code",
   "execution_count": 14,
   "metadata": {
    "collapsed": false
   },
   "outputs": [
    {
     "data": {
      "text/html": [
       "<div style=\"display: table;\"><div style=\"display: table-row;\"><div style=\"display: table-cell;\"><b title=\"bokeh.models.renderers.GlyphRenderer\">GlyphRenderer</b>(</div><div style=\"display: table-cell;\">id&nbsp;=&nbsp;'a7c884c2-d35c-4361-bc4f-66195335f0c5', <span id=\"c80c4e96-34a3-4737-9458-da9eb6f06429\" style=\"cursor: pointer;\">&hellip;)</span></div></div><div class=\"55260152-c5c5-4807-ad20-4aede798edff\" style=\"display: none;\"><div style=\"display: table-cell;\"></div><div style=\"display: table-cell;\">data_source&nbsp;=&nbsp;ColumnDataSource(id='5745be81-c5cb-4aff-bdce-a469e692af9e', ...),</div></div><div class=\"55260152-c5c5-4807-ad20-4aede798edff\" style=\"display: none;\"><div style=\"display: table-cell;\"></div><div style=\"display: table-cell;\">glyph&nbsp;=&nbsp;Circle(id='bc466b17-6519-4d96-adcc-aa1f93114d20', ...),</div></div><div class=\"55260152-c5c5-4807-ad20-4aede798edff\" style=\"display: none;\"><div style=\"display: table-cell;\"></div><div style=\"display: table-cell;\">hover_glyph&nbsp;=&nbsp;None,</div></div><div class=\"55260152-c5c5-4807-ad20-4aede798edff\" style=\"display: none;\"><div style=\"display: table-cell;\"></div><div style=\"display: table-cell;\">js_callbacks&nbsp;=&nbsp;{},</div></div><div class=\"55260152-c5c5-4807-ad20-4aede798edff\" style=\"display: none;\"><div style=\"display: table-cell;\"></div><div style=\"display: table-cell;\">level&nbsp;=&nbsp;'glyph',</div></div><div class=\"55260152-c5c5-4807-ad20-4aede798edff\" style=\"display: none;\"><div style=\"display: table-cell;\"></div><div style=\"display: table-cell;\">name&nbsp;=&nbsp;None,</div></div><div class=\"55260152-c5c5-4807-ad20-4aede798edff\" style=\"display: none;\"><div style=\"display: table-cell;\"></div><div style=\"display: table-cell;\">nonselection_glyph&nbsp;=&nbsp;Circle(id='c05add9f-ee80-4aec-8f9a-18cbf607d0ac', ...),</div></div><div class=\"55260152-c5c5-4807-ad20-4aede798edff\" style=\"display: none;\"><div style=\"display: table-cell;\"></div><div style=\"display: table-cell;\">selection_glyph&nbsp;=&nbsp;None,</div></div><div class=\"55260152-c5c5-4807-ad20-4aede798edff\" style=\"display: none;\"><div style=\"display: table-cell;\"></div><div style=\"display: table-cell;\">tags&nbsp;=&nbsp;[],</div></div><div class=\"55260152-c5c5-4807-ad20-4aede798edff\" style=\"display: none;\"><div style=\"display: table-cell;\"></div><div style=\"display: table-cell;\">visible&nbsp;=&nbsp;True,</div></div><div class=\"55260152-c5c5-4807-ad20-4aede798edff\" style=\"display: none;\"><div style=\"display: table-cell;\"></div><div style=\"display: table-cell;\">x_range_name&nbsp;=&nbsp;'default',</div></div><div class=\"55260152-c5c5-4807-ad20-4aede798edff\" style=\"display: none;\"><div style=\"display: table-cell;\"></div><div style=\"display: table-cell;\">y_range_name&nbsp;=&nbsp;'default')</div></div></div>\n",
       "<script>\n",
       "(function() {\n",
       "  var expanded = false;\n",
       "  var ellipsis = document.getElementById(\"c80c4e96-34a3-4737-9458-da9eb6f06429\");\n",
       "  ellipsis.addEventListener(\"click\", function() {\n",
       "    var rows = document.getElementsByClassName(\"55260152-c5c5-4807-ad20-4aede798edff\");\n",
       "    for (var i = 0; i < rows.length; i++) {\n",
       "      var el = rows[i];\n",
       "      el.style.display = expanded ? \"none\" : \"table-row\";\n",
       "    }\n",
       "    ellipsis.innerHTML = expanded ? \"&hellip;)\" : \"&lsaquo;&lsaquo;&lsaquo;\";\n",
       "    expanded = !expanded;\n",
       "  });\n",
       "})();\n",
       "</script>\n"
      ],
      "text/plain": [
       "GlyphRenderer(id='a7c884c2-d35c-4361-bc4f-66195335f0c5', ...)"
      ]
     },
     "execution_count": 14,
     "metadata": {},
     "output_type": "execute_result"
    }
   ],
   "source": [
    "# create a new plot\n",
    "s1 = figure(**plot_options)\n",
    "s1.circle(x, y0, size=10, color=\"navy\")"
   ]
  },
  {
   "cell_type": "code",
   "execution_count": 15,
   "metadata": {
    "collapsed": false
   },
   "outputs": [
    {
     "data": {
      "text/html": [
       "<div style=\"display: table;\"><div style=\"display: table-row;\"><div style=\"display: table-cell;\"><b title=\"bokeh.models.renderers.GlyphRenderer\">GlyphRenderer</b>(</div><div style=\"display: table-cell;\">id&nbsp;=&nbsp;'15cdd392-e40b-4fa7-a705-4f6f7b493278', <span id=\"97aa5d28-afed-44e0-ae07-3495fe84384e\" style=\"cursor: pointer;\">&hellip;)</span></div></div><div class=\"855baa5c-ea2a-4746-a775-63f5a6e9b8d9\" style=\"display: none;\"><div style=\"display: table-cell;\"></div><div style=\"display: table-cell;\">data_source&nbsp;=&nbsp;ColumnDataSource(id='8bb0cd5a-5e9c-4faf-81e8-19ff05b984c4', ...),</div></div><div class=\"855baa5c-ea2a-4746-a775-63f5a6e9b8d9\" style=\"display: none;\"><div style=\"display: table-cell;\"></div><div style=\"display: table-cell;\">glyph&nbsp;=&nbsp;Triangle(id='8cc46c75-d5bc-48db-a3db-0e00392b4d69', ...),</div></div><div class=\"855baa5c-ea2a-4746-a775-63f5a6e9b8d9\" style=\"display: none;\"><div style=\"display: table-cell;\"></div><div style=\"display: table-cell;\">hover_glyph&nbsp;=&nbsp;None,</div></div><div class=\"855baa5c-ea2a-4746-a775-63f5a6e9b8d9\" style=\"display: none;\"><div style=\"display: table-cell;\"></div><div style=\"display: table-cell;\">js_callbacks&nbsp;=&nbsp;{},</div></div><div class=\"855baa5c-ea2a-4746-a775-63f5a6e9b8d9\" style=\"display: none;\"><div style=\"display: table-cell;\"></div><div style=\"display: table-cell;\">level&nbsp;=&nbsp;'glyph',</div></div><div class=\"855baa5c-ea2a-4746-a775-63f5a6e9b8d9\" style=\"display: none;\"><div style=\"display: table-cell;\"></div><div style=\"display: table-cell;\">name&nbsp;=&nbsp;None,</div></div><div class=\"855baa5c-ea2a-4746-a775-63f5a6e9b8d9\" style=\"display: none;\"><div style=\"display: table-cell;\"></div><div style=\"display: table-cell;\">nonselection_glyph&nbsp;=&nbsp;Triangle(id='62122b02-f296-444e-9309-f0086ad12325', ...),</div></div><div class=\"855baa5c-ea2a-4746-a775-63f5a6e9b8d9\" style=\"display: none;\"><div style=\"display: table-cell;\"></div><div style=\"display: table-cell;\">selection_glyph&nbsp;=&nbsp;None,</div></div><div class=\"855baa5c-ea2a-4746-a775-63f5a6e9b8d9\" style=\"display: none;\"><div style=\"display: table-cell;\"></div><div style=\"display: table-cell;\">tags&nbsp;=&nbsp;[],</div></div><div class=\"855baa5c-ea2a-4746-a775-63f5a6e9b8d9\" style=\"display: none;\"><div style=\"display: table-cell;\"></div><div style=\"display: table-cell;\">visible&nbsp;=&nbsp;True,</div></div><div class=\"855baa5c-ea2a-4746-a775-63f5a6e9b8d9\" style=\"display: none;\"><div style=\"display: table-cell;\"></div><div style=\"display: table-cell;\">x_range_name&nbsp;=&nbsp;'default',</div></div><div class=\"855baa5c-ea2a-4746-a775-63f5a6e9b8d9\" style=\"display: none;\"><div style=\"display: table-cell;\"></div><div style=\"display: table-cell;\">y_range_name&nbsp;=&nbsp;'default')</div></div></div>\n",
       "<script>\n",
       "(function() {\n",
       "  var expanded = false;\n",
       "  var ellipsis = document.getElementById(\"97aa5d28-afed-44e0-ae07-3495fe84384e\");\n",
       "  ellipsis.addEventListener(\"click\", function() {\n",
       "    var rows = document.getElementsByClassName(\"855baa5c-ea2a-4746-a775-63f5a6e9b8d9\");\n",
       "    for (var i = 0; i < rows.length; i++) {\n",
       "      var el = rows[i];\n",
       "      el.style.display = expanded ? \"none\" : \"table-row\";\n",
       "    }\n",
       "    ellipsis.innerHTML = expanded ? \"&hellip;)\" : \"&lsaquo;&lsaquo;&lsaquo;\";\n",
       "    expanded = !expanded;\n",
       "  });\n",
       "})();\n",
       "</script>\n"
      ],
      "text/plain": [
       "GlyphRenderer(id='15cdd392-e40b-4fa7-a705-4f6f7b493278', ...)"
      ]
     },
     "execution_count": 15,
     "metadata": {},
     "output_type": "execute_result"
    }
   ],
   "source": [
    "# create a new plot and share both ranges\n",
    "s2 = figure(x_range=s1.x_range, y_range=s1.y_range, **plot_options)\n",
    "s2.triangle(x, y1, size=10, color=\"firebrick\")"
   ]
  },
  {
   "cell_type": "code",
   "execution_count": 16,
   "metadata": {
    "collapsed": true
   },
   "outputs": [],
   "source": [
    "p = gridplot([[s1, s2]])"
   ]
  },
  {
   "cell_type": "code",
   "execution_count": 17,
   "metadata": {
    "collapsed": false
   },
   "outputs": [
    {
     "data": {
      "text/html": [
       "\n",
       "\n",
       "    <div class=\"bk-root\">\n",
       "        <div class=\"bk-plotdiv\" id=\"cf0b4e8e-84fc-4d1c-ba9f-0e5f039c7755\"></div>\n",
       "    </div>\n",
       "<script type=\"text/javascript\">\n",
       "  \n",
       "  (function(global) {\n",
       "    function now() {\n",
       "      return new Date();\n",
       "    }\n",
       "  \n",
       "    var force = false;\n",
       "  \n",
       "    if (typeof (window._bokeh_onload_callbacks) === \"undefined\" || force === true) {\n",
       "      window._bokeh_onload_callbacks = [];\n",
       "      window._bokeh_is_loading = undefined;\n",
       "    }\n",
       "  \n",
       "  \n",
       "    \n",
       "    if (typeof (window._bokeh_timeout) === \"undefined\" || force === true) {\n",
       "      window._bokeh_timeout = Date.now() + 0;\n",
       "      window._bokeh_failed_load = false;\n",
       "    }\n",
       "  \n",
       "    var NB_LOAD_WARNING = {'data': {'text/html':\n",
       "       \"<div style='background-color: #fdd'>\\n\"+\n",
       "       \"<p>\\n\"+\n",
       "       \"BokehJS does not appear to have successfully loaded. If loading BokehJS from CDN, this \\n\"+\n",
       "       \"may be due to a slow or bad network connection. Possible fixes:\\n\"+\n",
       "       \"</p>\\n\"+\n",
       "       \"<ul>\\n\"+\n",
       "       \"<li>re-rerun `output_notebook()` to attempt to load from CDN again, or</li>\\n\"+\n",
       "       \"<li>use INLINE resources instead, as so:</li>\\n\"+\n",
       "       \"</ul>\\n\"+\n",
       "       \"<code>\\n\"+\n",
       "       \"from bokeh.resources import INLINE\\n\"+\n",
       "       \"output_notebook(resources=INLINE)\\n\"+\n",
       "       \"</code>\\n\"+\n",
       "       \"</div>\"}};\n",
       "  \n",
       "    function display_loaded() {\n",
       "      if (window.Bokeh !== undefined) {\n",
       "        document.getElementById(\"cf0b4e8e-84fc-4d1c-ba9f-0e5f039c7755\").textContent = \"BokehJS successfully loaded.\";\n",
       "      } else if (Date.now() < window._bokeh_timeout) {\n",
       "        setTimeout(display_loaded, 100)\n",
       "      }\n",
       "    }\n",
       "  \n",
       "    function run_callbacks() {\n",
       "      window._bokeh_onload_callbacks.forEach(function(callback) { callback() });\n",
       "      delete window._bokeh_onload_callbacks\n",
       "      console.info(\"Bokeh: all callbacks have finished\");\n",
       "    }\n",
       "  \n",
       "    function load_libs(js_urls, callback) {\n",
       "      window._bokeh_onload_callbacks.push(callback);\n",
       "      if (window._bokeh_is_loading > 0) {\n",
       "        console.log(\"Bokeh: BokehJS is being loaded, scheduling callback at\", now());\n",
       "        return null;\n",
       "      }\n",
       "      if (js_urls == null || js_urls.length === 0) {\n",
       "        run_callbacks();\n",
       "        return null;\n",
       "      }\n",
       "      console.log(\"Bokeh: BokehJS not loaded, scheduling load and callback at\", now());\n",
       "      window._bokeh_is_loading = js_urls.length;\n",
       "      for (var i = 0; i < js_urls.length; i++) {\n",
       "        var url = js_urls[i];\n",
       "        var s = document.createElement('script');\n",
       "        s.src = url;\n",
       "        s.async = false;\n",
       "        s.onreadystatechange = s.onload = function() {\n",
       "          window._bokeh_is_loading--;\n",
       "          if (window._bokeh_is_loading === 0) {\n",
       "            console.log(\"Bokeh: all BokehJS libraries loaded\");\n",
       "            run_callbacks()\n",
       "          }\n",
       "        };\n",
       "        s.onerror = function() {\n",
       "          console.warn(\"failed to load library \" + url);\n",
       "        };\n",
       "        console.log(\"Bokeh: injecting script tag for BokehJS library: \", url);\n",
       "        document.getElementsByTagName(\"head\")[0].appendChild(s);\n",
       "      }\n",
       "    };var element = document.getElementById(\"cf0b4e8e-84fc-4d1c-ba9f-0e5f039c7755\");\n",
       "    if (element == null) {\n",
       "      console.log(\"Bokeh: ERROR: autoload.js configured with elementid 'cf0b4e8e-84fc-4d1c-ba9f-0e5f039c7755' but no matching script tag was found. \")\n",
       "      return false;\n",
       "    }\n",
       "  \n",
       "    var js_urls = [];\n",
       "  \n",
       "    var inline_js = [\n",
       "      function(Bokeh) {\n",
       "        (function() {\n",
       "          var fn = function() {\n",
       "            var docs_json = {\"e7743769-67ba-4f07-8a0c-52f5219a8ccf\":{\"roots\":{\"references\":[{\"attributes\":{\"children\":[{\"id\":\"94f57fb9-27da-4a82-b415-92ee1222b2f1\",\"type\":\"ToolbarBox\"},{\"id\":\"e702e9cd-69d7-41b5-b11c-d19d8f8e919f\",\"type\":\"Column\"}]},\"id\":\"f8e1c542-708a-4ed6-a168-4595d5efc319\",\"type\":\"Column\"},{\"attributes\":{\"children\":[{\"id\":\"9b9c4d86-4927-4717-ae99-08d29d55bece\",\"subtype\":\"Figure\",\"type\":\"Plot\"},{\"id\":\"a76f687c-2757-49c4-9c75-eb2212b5eb6a\",\"subtype\":\"Figure\",\"type\":\"Plot\"}]},\"id\":\"344e3c37-5524-491f-bb3f-d23699b7ba94\",\"type\":\"Row\"},{\"attributes\":{\"callback\":null,\"column_names\":[\"x\",\"y\"],\"data\":{\"x\":[0,1,2,3,4,5,6,7,8,9,10],\"y\":[0,1,2,3,4,5,6,7,8,9,10]}},\"id\":\"5745be81-c5cb-4aff-bdce-a469e692af9e\",\"type\":\"ColumnDataSource\"},{\"attributes\":{\"below\":[{\"id\":\"f31adb4b-2d0e-4fe5-998b-1b6143a972a1\",\"type\":\"LinearAxis\"}],\"left\":[{\"id\":\"e0b42ff6-462e-4009-9c9d-0e97cb1f92ce\",\"type\":\"LinearAxis\"}],\"plot_height\":250,\"plot_width\":250,\"renderers\":[{\"id\":\"f31adb4b-2d0e-4fe5-998b-1b6143a972a1\",\"type\":\"LinearAxis\"},{\"id\":\"965e335b-1a40-416e-b33d-cae2382f22a5\",\"type\":\"Grid\"},{\"id\":\"e0b42ff6-462e-4009-9c9d-0e97cb1f92ce\",\"type\":\"LinearAxis\"},{\"id\":\"b3e2abde-6635-4384-8eca-3776fa1f06bb\",\"type\":\"Grid\"},{\"id\":\"a7c884c2-d35c-4361-bc4f-66195335f0c5\",\"type\":\"GlyphRenderer\"}],\"title\":{\"id\":\"bb40cf23-9b33-4cf6-b772-8b179ffaab4f\",\"type\":\"Title\"},\"tool_events\":{\"id\":\"01293b11-fc64-4714-8e19-59f5e3f5efee\",\"type\":\"ToolEvents\"},\"toolbar\":{\"id\":\"5b615328-0b0c-4417-8d91-4d8be3b9dcc2\",\"type\":\"Toolbar\"},\"toolbar_location\":null,\"x_range\":{\"id\":\"f04af16c-c8a6-4d7d-8211-0c3c522e70c4\",\"type\":\"DataRange1d\"},\"y_range\":{\"id\":\"dc985e0c-b48c-40e2-bf1a-49cd54e7dfd5\",\"type\":\"DataRange1d\"}},\"id\":\"9b9c4d86-4927-4717-ae99-08d29d55bece\",\"subtype\":\"Figure\",\"type\":\"Plot\"},{\"attributes\":{\"formatter\":{\"id\":\"c2e2063f-414e-4ff9-8725-b63f2b2905e9\",\"type\":\"BasicTickFormatter\"},\"plot\":{\"id\":\"a76f687c-2757-49c4-9c75-eb2212b5eb6a\",\"subtype\":\"Figure\",\"type\":\"Plot\"},\"ticker\":{\"id\":\"c34dbbc2-2648-4561-83b9-180897408816\",\"type\":\"BasicTicker\"}},\"id\":\"73d174c0-e975-44a1-ac3b-57e0f6b43b5a\",\"type\":\"LinearAxis\"},{\"attributes\":{},\"id\":\"01293b11-fc64-4714-8e19-59f5e3f5efee\",\"type\":\"ToolEvents\"},{\"attributes\":{\"callback\":null},\"id\":\"f04af16c-c8a6-4d7d-8211-0c3c522e70c4\",\"type\":\"DataRange1d\"},{\"attributes\":{\"active_drag\":\"auto\",\"active_scroll\":\"auto\",\"active_tap\":\"auto\",\"tools\":[{\"id\":\"e060adf4-c810-4146-b267-0bcfd42724e1\",\"type\":\"PanTool\"},{\"id\":\"01c043df-5875-409d-b020-4f30158b87d2\",\"type\":\"WheelZoomTool\"}]},\"id\":\"5b615328-0b0c-4417-8d91-4d8be3b9dcc2\",\"type\":\"Toolbar\"},{\"attributes\":{\"fill_color\":{\"value\":\"navy\"},\"line_color\":{\"value\":\"navy\"},\"size\":{\"units\":\"screen\",\"value\":10},\"x\":{\"field\":\"x\"},\"y\":{\"field\":\"y\"}},\"id\":\"bc466b17-6519-4d96-adcc-aa1f93114d20\",\"type\":\"Circle\"},{\"attributes\":{\"callback\":null},\"id\":\"dc985e0c-b48c-40e2-bf1a-49cd54e7dfd5\",\"type\":\"DataRange1d\"},{\"attributes\":{\"formatter\":{\"id\":\"a88ffb38-f0b3-48ae-8705-b3aa1f2f8fe2\",\"type\":\"BasicTickFormatter\"},\"plot\":{\"id\":\"9b9c4d86-4927-4717-ae99-08d29d55bece\",\"subtype\":\"Figure\",\"type\":\"Plot\"},\"ticker\":{\"id\":\"9e41cb5d-edb4-4ae9-900d-3da06851a1d0\",\"type\":\"BasicTicker\"}},\"id\":\"f31adb4b-2d0e-4fe5-998b-1b6143a972a1\",\"type\":\"LinearAxis\"},{\"attributes\":{},\"id\":\"9e41cb5d-edb4-4ae9-900d-3da06851a1d0\",\"type\":\"BasicTicker\"},{\"attributes\":{\"plot\":{\"id\":\"9b9c4d86-4927-4717-ae99-08d29d55bece\",\"subtype\":\"Figure\",\"type\":\"Plot\"},\"ticker\":{\"id\":\"9e41cb5d-edb4-4ae9-900d-3da06851a1d0\",\"type\":\"BasicTicker\"}},\"id\":\"965e335b-1a40-416e-b33d-cae2382f22a5\",\"type\":\"Grid\"},{\"attributes\":{\"formatter\":{\"id\":\"ed0e6120-6384-47c7-8f86-4c04161ebe5d\",\"type\":\"BasicTickFormatter\"},\"plot\":{\"id\":\"9b9c4d86-4927-4717-ae99-08d29d55bece\",\"subtype\":\"Figure\",\"type\":\"Plot\"},\"ticker\":{\"id\":\"13b1f422-54d7-4f5b-896c-49b3002d51c0\",\"type\":\"BasicTicker\"}},\"id\":\"e0b42ff6-462e-4009-9c9d-0e97cb1f92ce\",\"type\":\"LinearAxis\"},{\"attributes\":{},\"id\":\"13b1f422-54d7-4f5b-896c-49b3002d51c0\",\"type\":\"BasicTicker\"},{\"attributes\":{\"dimension\":1,\"plot\":{\"id\":\"9b9c4d86-4927-4717-ae99-08d29d55bece\",\"subtype\":\"Figure\",\"type\":\"Plot\"},\"ticker\":{\"id\":\"13b1f422-54d7-4f5b-896c-49b3002d51c0\",\"type\":\"BasicTicker\"}},\"id\":\"b3e2abde-6635-4384-8eca-3776fa1f06bb\",\"type\":\"Grid\"},{\"attributes\":{\"plot\":{\"id\":\"9b9c4d86-4927-4717-ae99-08d29d55bece\",\"subtype\":\"Figure\",\"type\":\"Plot\"}},\"id\":\"e060adf4-c810-4146-b267-0bcfd42724e1\",\"type\":\"PanTool\"},{\"attributes\":{\"plot\":{\"id\":\"9b9c4d86-4927-4717-ae99-08d29d55bece\",\"subtype\":\"Figure\",\"type\":\"Plot\"}},\"id\":\"01c043df-5875-409d-b020-4f30158b87d2\",\"type\":\"WheelZoomTool\"},{\"attributes\":{\"fill_alpha\":{\"value\":0.1},\"fill_color\":{\"value\":\"#1f77b4\"},\"line_alpha\":{\"value\":0.1},\"line_color\":{\"value\":\"#1f77b4\"},\"size\":{\"units\":\"screen\",\"value\":10},\"x\":{\"field\":\"x\"},\"y\":{\"field\":\"y\"}},\"id\":\"c05add9f-ee80-4aec-8f9a-18cbf607d0ac\",\"type\":\"Circle\"},{\"attributes\":{\"data_source\":{\"id\":\"5745be81-c5cb-4aff-bdce-a469e692af9e\",\"type\":\"ColumnDataSource\"},\"glyph\":{\"id\":\"bc466b17-6519-4d96-adcc-aa1f93114d20\",\"type\":\"Circle\"},\"hover_glyph\":null,\"nonselection_glyph\":{\"id\":\"c05add9f-ee80-4aec-8f9a-18cbf607d0ac\",\"type\":\"Circle\"},\"selection_glyph\":null},\"id\":\"a7c884c2-d35c-4361-bc4f-66195335f0c5\",\"type\":\"GlyphRenderer\"},{\"attributes\":{\"plot\":null,\"text\":\"\"},\"id\":\"bb40cf23-9b33-4cf6-b772-8b179ffaab4f\",\"type\":\"Title\"},{\"attributes\":{},\"id\":\"ed0e6120-6384-47c7-8f86-4c04161ebe5d\",\"type\":\"BasicTickFormatter\"},{\"attributes\":{},\"id\":\"a88ffb38-f0b3-48ae-8705-b3aa1f2f8fe2\",\"type\":\"BasicTickFormatter\"},{\"attributes\":{\"below\":[{\"id\":\"30d225b0-1074-40d9-b881-56a8b8e6a13c\",\"type\":\"LinearAxis\"}],\"left\":[{\"id\":\"73d174c0-e975-44a1-ac3b-57e0f6b43b5a\",\"type\":\"LinearAxis\"}],\"plot_height\":250,\"plot_width\":250,\"renderers\":[{\"id\":\"30d225b0-1074-40d9-b881-56a8b8e6a13c\",\"type\":\"LinearAxis\"},{\"id\":\"d96b0152-cf96-44e7-9b40-55de5bb6e4b6\",\"type\":\"Grid\"},{\"id\":\"73d174c0-e975-44a1-ac3b-57e0f6b43b5a\",\"type\":\"LinearAxis\"},{\"id\":\"20a5d817-cb2c-4811-9761-dce444f04a09\",\"type\":\"Grid\"},{\"id\":\"15cdd392-e40b-4fa7-a705-4f6f7b493278\",\"type\":\"GlyphRenderer\"}],\"title\":{\"id\":\"fe41fb02-2832-46f5-83af-ca7398ccc98d\",\"type\":\"Title\"},\"tool_events\":{\"id\":\"9ae0e0da-d4b7-4b79-b900-2349f1d2d8ba\",\"type\":\"ToolEvents\"},\"toolbar\":{\"id\":\"838093d9-8efa-42b1-94f7-ffc1a305a7e7\",\"type\":\"Toolbar\"},\"toolbar_location\":null,\"x_range\":{\"id\":\"f04af16c-c8a6-4d7d-8211-0c3c522e70c4\",\"type\":\"DataRange1d\"},\"y_range\":{\"id\":\"dc985e0c-b48c-40e2-bf1a-49cd54e7dfd5\",\"type\":\"DataRange1d\"}},\"id\":\"a76f687c-2757-49c4-9c75-eb2212b5eb6a\",\"subtype\":\"Figure\",\"type\":\"Plot\"},{\"attributes\":{\"callback\":null,\"column_names\":[\"x\",\"y\"],\"data\":{\"x\":[0,1,2,3,4,5,6,7,8,9,10],\"y\":[10,9,8,7,6,5,4,3,2,1,0]}},\"id\":\"8bb0cd5a-5e9c-4faf-81e8-19ff05b984c4\",\"type\":\"ColumnDataSource\"},{\"attributes\":{\"sizing_mode\":\"scale_width\",\"toolbar_location\":\"above\",\"tools\":[{\"id\":\"e060adf4-c810-4146-b267-0bcfd42724e1\",\"type\":\"PanTool\"},{\"id\":\"01c043df-5875-409d-b020-4f30158b87d2\",\"type\":\"WheelZoomTool\"},{\"id\":\"80e9646a-b9e5-4176-afca-e53b8f0d649e\",\"type\":\"PanTool\"},{\"id\":\"de603b3c-a5aa-45d4-8b5b-ab1063fa6c47\",\"type\":\"WheelZoomTool\"}]},\"id\":\"94f57fb9-27da-4a82-b415-92ee1222b2f1\",\"type\":\"ToolbarBox\"},{\"attributes\":{\"dimension\":1,\"plot\":{\"id\":\"a76f687c-2757-49c4-9c75-eb2212b5eb6a\",\"subtype\":\"Figure\",\"type\":\"Plot\"},\"ticker\":{\"id\":\"c34dbbc2-2648-4561-83b9-180897408816\",\"type\":\"BasicTicker\"}},\"id\":\"20a5d817-cb2c-4811-9761-dce444f04a09\",\"type\":\"Grid\"},{\"attributes\":{},\"id\":\"c34dbbc2-2648-4561-83b9-180897408816\",\"type\":\"BasicTicker\"},{\"attributes\":{\"formatter\":{\"id\":\"5a649abd-46d0-4100-8ed7-c5b55eb2c1aa\",\"type\":\"BasicTickFormatter\"},\"plot\":{\"id\":\"a76f687c-2757-49c4-9c75-eb2212b5eb6a\",\"subtype\":\"Figure\",\"type\":\"Plot\"},\"ticker\":{\"id\":\"3580293c-669f-4725-b620-2e9acc3d5d51\",\"type\":\"BasicTicker\"}},\"id\":\"30d225b0-1074-40d9-b881-56a8b8e6a13c\",\"type\":\"LinearAxis\"},{\"attributes\":{\"fill_color\":{\"value\":\"firebrick\"},\"line_color\":{\"value\":\"firebrick\"},\"size\":{\"units\":\"screen\",\"value\":10},\"x\":{\"field\":\"x\"},\"y\":{\"field\":\"y\"}},\"id\":\"8cc46c75-d5bc-48db-a3db-0e00392b4d69\",\"type\":\"Triangle\"},{\"attributes\":{},\"id\":\"3580293c-669f-4725-b620-2e9acc3d5d51\",\"type\":\"BasicTicker\"},{\"attributes\":{\"plot\":{\"id\":\"a76f687c-2757-49c4-9c75-eb2212b5eb6a\",\"subtype\":\"Figure\",\"type\":\"Plot\"},\"ticker\":{\"id\":\"3580293c-669f-4725-b620-2e9acc3d5d51\",\"type\":\"BasicTicker\"}},\"id\":\"d96b0152-cf96-44e7-9b40-55de5bb6e4b6\",\"type\":\"Grid\"},{\"attributes\":{\"plot\":{\"id\":\"a76f687c-2757-49c4-9c75-eb2212b5eb6a\",\"subtype\":\"Figure\",\"type\":\"Plot\"}},\"id\":\"80e9646a-b9e5-4176-afca-e53b8f0d649e\",\"type\":\"PanTool\"},{\"attributes\":{\"plot\":{\"id\":\"a76f687c-2757-49c4-9c75-eb2212b5eb6a\",\"subtype\":\"Figure\",\"type\":\"Plot\"}},\"id\":\"de603b3c-a5aa-45d4-8b5b-ab1063fa6c47\",\"type\":\"WheelZoomTool\"},{\"attributes\":{\"fill_alpha\":{\"value\":0.1},\"fill_color\":{\"value\":\"#1f77b4\"},\"line_alpha\":{\"value\":0.1},\"line_color\":{\"value\":\"#1f77b4\"},\"size\":{\"units\":\"screen\",\"value\":10},\"x\":{\"field\":\"x\"},\"y\":{\"field\":\"y\"}},\"id\":\"62122b02-f296-444e-9309-f0086ad12325\",\"type\":\"Triangle\"},{\"attributes\":{\"data_source\":{\"id\":\"8bb0cd5a-5e9c-4faf-81e8-19ff05b984c4\",\"type\":\"ColumnDataSource\"},\"glyph\":{\"id\":\"8cc46c75-d5bc-48db-a3db-0e00392b4d69\",\"type\":\"Triangle\"},\"hover_glyph\":null,\"nonselection_glyph\":{\"id\":\"62122b02-f296-444e-9309-f0086ad12325\",\"type\":\"Triangle\"},\"selection_glyph\":null},\"id\":\"15cdd392-e40b-4fa7-a705-4f6f7b493278\",\"type\":\"GlyphRenderer\"},{\"attributes\":{\"plot\":null,\"text\":\"\"},\"id\":\"fe41fb02-2832-46f5-83af-ca7398ccc98d\",\"type\":\"Title\"},{\"attributes\":{\"active_drag\":\"auto\",\"active_scroll\":\"auto\",\"active_tap\":\"auto\",\"tools\":[{\"id\":\"80e9646a-b9e5-4176-afca-e53b8f0d649e\",\"type\":\"PanTool\"},{\"id\":\"de603b3c-a5aa-45d4-8b5b-ab1063fa6c47\",\"type\":\"WheelZoomTool\"}]},\"id\":\"838093d9-8efa-42b1-94f7-ffc1a305a7e7\",\"type\":\"Toolbar\"},{\"attributes\":{},\"id\":\"c2e2063f-414e-4ff9-8725-b63f2b2905e9\",\"type\":\"BasicTickFormatter\"},{\"attributes\":{},\"id\":\"5a649abd-46d0-4100-8ed7-c5b55eb2c1aa\",\"type\":\"BasicTickFormatter\"},{\"attributes\":{\"children\":[{\"id\":\"344e3c37-5524-491f-bb3f-d23699b7ba94\",\"type\":\"Row\"}]},\"id\":\"e702e9cd-69d7-41b5-b11c-d19d8f8e919f\",\"type\":\"Column\"},{\"attributes\":{},\"id\":\"9ae0e0da-d4b7-4b79-b900-2349f1d2d8ba\",\"type\":\"ToolEvents\"}],\"root_ids\":[\"f8e1c542-708a-4ed6-a168-4595d5efc319\"]},\"title\":\"Bokeh Application\",\"version\":\"0.12.4\"}};\n",
       "            var render_items = [{\"docid\":\"e7743769-67ba-4f07-8a0c-52f5219a8ccf\",\"elementid\":\"cf0b4e8e-84fc-4d1c-ba9f-0e5f039c7755\",\"modelid\":\"f8e1c542-708a-4ed6-a168-4595d5efc319\"}];\n",
       "            \n",
       "            Bokeh.embed.embed_items(docs_json, render_items);\n",
       "          };\n",
       "          if (document.readyState != \"loading\") fn();\n",
       "          else document.addEventListener(\"DOMContentLoaded\", fn);\n",
       "        })();\n",
       "      },\n",
       "      function(Bokeh) {\n",
       "      }\n",
       "    ];\n",
       "  \n",
       "    function run_inline_js() {\n",
       "      \n",
       "      if ((window.Bokeh !== undefined) || (force === true)) {\n",
       "        for (var i = 0; i < inline_js.length; i++) {\n",
       "          inline_js[i](window.Bokeh);\n",
       "        }if (force === true) {\n",
       "          display_loaded();\n",
       "        }} else if (Date.now() < window._bokeh_timeout) {\n",
       "        setTimeout(run_inline_js, 100);\n",
       "      } else if (!window._bokeh_failed_load) {\n",
       "        console.log(\"Bokeh: BokehJS failed to load within specified timeout.\");\n",
       "        window._bokeh_failed_load = true;\n",
       "      } else if (force !== true) {\n",
       "        var cell = $(document.getElementById(\"cf0b4e8e-84fc-4d1c-ba9f-0e5f039c7755\")).parents('.cell').data().cell;\n",
       "        cell.output_area.append_execute_result(NB_LOAD_WARNING)\n",
       "      }\n",
       "  \n",
       "    }\n",
       "  \n",
       "    if (window._bokeh_is_loading === 0) {\n",
       "      console.log(\"Bokeh: BokehJS loaded, going straight to plotting\");\n",
       "      run_inline_js();\n",
       "    } else {\n",
       "      load_libs(js_urls, function() {\n",
       "        console.log(\"Bokeh: BokehJS plotting callback run at\", now());\n",
       "        run_inline_js();\n",
       "      });\n",
       "    }\n",
       "  }(this));\n",
       "</script>"
      ]
     },
     "metadata": {},
     "output_type": "display_data"
    }
   ],
   "source": [
    "show(p)"
   ]
  },
  {
   "cell_type": "code",
   "execution_count": 18,
   "metadata": {
    "collapsed": false
   },
   "outputs": [
    {
     "data": {
      "text/html": [
       "<div style=\"display: table;\"><div style=\"display: table-row;\"><div style=\"display: table-cell;\"><b title=\"bokeh.models.renderers.GlyphRenderer\">GlyphRenderer</b>(</div><div style=\"display: table-cell;\">id&nbsp;=&nbsp;'b1590885-84e1-4b54-92ab-db58ac571bd4', <span id=\"067b688d-b464-4702-bc12-845f67069fe0\" style=\"cursor: pointer;\">&hellip;)</span></div></div><div class=\"c2ee79e4-cc6d-43d3-9e0f-9a67376783d9\" style=\"display: none;\"><div style=\"display: table-cell;\"></div><div style=\"display: table-cell;\">data_source&nbsp;=&nbsp;ColumnDataSource(id='0200510f-4bac-4975-b6df-e50d6384e68d', ...),</div></div><div class=\"c2ee79e4-cc6d-43d3-9e0f-9a67376783d9\" style=\"display: none;\"><div style=\"display: table-cell;\"></div><div style=\"display: table-cell;\">glyph&nbsp;=&nbsp;Square(id='34a2b260-6ea7-4f2b-bf7d-2fd00d88fa60', ...),</div></div><div class=\"c2ee79e4-cc6d-43d3-9e0f-9a67376783d9\" style=\"display: none;\"><div style=\"display: table-cell;\"></div><div style=\"display: table-cell;\">hover_glyph&nbsp;=&nbsp;None,</div></div><div class=\"c2ee79e4-cc6d-43d3-9e0f-9a67376783d9\" style=\"display: none;\"><div style=\"display: table-cell;\"></div><div style=\"display: table-cell;\">js_callbacks&nbsp;=&nbsp;{},</div></div><div class=\"c2ee79e4-cc6d-43d3-9e0f-9a67376783d9\" style=\"display: none;\"><div style=\"display: table-cell;\"></div><div style=\"display: table-cell;\">level&nbsp;=&nbsp;'glyph',</div></div><div class=\"c2ee79e4-cc6d-43d3-9e0f-9a67376783d9\" style=\"display: none;\"><div style=\"display: table-cell;\"></div><div style=\"display: table-cell;\">name&nbsp;=&nbsp;None,</div></div><div class=\"c2ee79e4-cc6d-43d3-9e0f-9a67376783d9\" style=\"display: none;\"><div style=\"display: table-cell;\"></div><div style=\"display: table-cell;\">nonselection_glyph&nbsp;=&nbsp;Square(id='6bb2a15d-0108-49c5-9df9-72abc030b4c0', ...),</div></div><div class=\"c2ee79e4-cc6d-43d3-9e0f-9a67376783d9\" style=\"display: none;\"><div style=\"display: table-cell;\"></div><div style=\"display: table-cell;\">selection_glyph&nbsp;=&nbsp;None,</div></div><div class=\"c2ee79e4-cc6d-43d3-9e0f-9a67376783d9\" style=\"display: none;\"><div style=\"display: table-cell;\"></div><div style=\"display: table-cell;\">tags&nbsp;=&nbsp;[],</div></div><div class=\"c2ee79e4-cc6d-43d3-9e0f-9a67376783d9\" style=\"display: none;\"><div style=\"display: table-cell;\"></div><div style=\"display: table-cell;\">visible&nbsp;=&nbsp;True,</div></div><div class=\"c2ee79e4-cc6d-43d3-9e0f-9a67376783d9\" style=\"display: none;\"><div style=\"display: table-cell;\"></div><div style=\"display: table-cell;\">x_range_name&nbsp;=&nbsp;'default',</div></div><div class=\"c2ee79e4-cc6d-43d3-9e0f-9a67376783d9\" style=\"display: none;\"><div style=\"display: table-cell;\"></div><div style=\"display: table-cell;\">y_range_name&nbsp;=&nbsp;'default')</div></div></div>\n",
       "<script>\n",
       "(function() {\n",
       "  var expanded = false;\n",
       "  var ellipsis = document.getElementById(\"067b688d-b464-4702-bc12-845f67069fe0\");\n",
       "  ellipsis.addEventListener(\"click\", function() {\n",
       "    var rows = document.getElementsByClassName(\"c2ee79e4-cc6d-43d3-9e0f-9a67376783d9\");\n",
       "    for (var i = 0; i < rows.length; i++) {\n",
       "      var el = rows[i];\n",
       "      el.style.display = expanded ? \"none\" : \"table-row\";\n",
       "    }\n",
       "    ellipsis.innerHTML = expanded ? \"&hellip;)\" : \"&lsaquo;&lsaquo;&lsaquo;\";\n",
       "    expanded = !expanded;\n",
       "  });\n",
       "})();\n",
       "</script>\n"
      ],
      "text/plain": [
       "GlyphRenderer(id='b1590885-84e1-4b54-92ab-db58ac571bd4', ...)"
      ]
     },
     "execution_count": 18,
     "metadata": {},
     "output_type": "execute_result"
    }
   ],
   "source": [
    "# create a new plot and share only one range\n",
    "s3 = figure(x_range=s1.x_range, **plot_options)\n",
    "s3.square(x, y2, size=10, color=\"olive\")"
   ]
  },
  {
   "cell_type": "code",
   "execution_count": 19,
   "metadata": {
    "collapsed": false
   },
   "outputs": [
    {
     "data": {
      "text/html": [
       "\n",
       "\n",
       "    <div class=\"bk-root\">\n",
       "        <div class=\"bk-plotdiv\" id=\"a9b61b53-3220-49a5-b1d7-992467d31cf1\"></div>\n",
       "    </div>\n",
       "<script type=\"text/javascript\">\n",
       "  \n",
       "  (function(global) {\n",
       "    function now() {\n",
       "      return new Date();\n",
       "    }\n",
       "  \n",
       "    var force = false;\n",
       "  \n",
       "    if (typeof (window._bokeh_onload_callbacks) === \"undefined\" || force === true) {\n",
       "      window._bokeh_onload_callbacks = [];\n",
       "      window._bokeh_is_loading = undefined;\n",
       "    }\n",
       "  \n",
       "  \n",
       "    \n",
       "    if (typeof (window._bokeh_timeout) === \"undefined\" || force === true) {\n",
       "      window._bokeh_timeout = Date.now() + 0;\n",
       "      window._bokeh_failed_load = false;\n",
       "    }\n",
       "  \n",
       "    var NB_LOAD_WARNING = {'data': {'text/html':\n",
       "       \"<div style='background-color: #fdd'>\\n\"+\n",
       "       \"<p>\\n\"+\n",
       "       \"BokehJS does not appear to have successfully loaded. If loading BokehJS from CDN, this \\n\"+\n",
       "       \"may be due to a slow or bad network connection. Possible fixes:\\n\"+\n",
       "       \"</p>\\n\"+\n",
       "       \"<ul>\\n\"+\n",
       "       \"<li>re-rerun `output_notebook()` to attempt to load from CDN again, or</li>\\n\"+\n",
       "       \"<li>use INLINE resources instead, as so:</li>\\n\"+\n",
       "       \"</ul>\\n\"+\n",
       "       \"<code>\\n\"+\n",
       "       \"from bokeh.resources import INLINE\\n\"+\n",
       "       \"output_notebook(resources=INLINE)\\n\"+\n",
       "       \"</code>\\n\"+\n",
       "       \"</div>\"}};\n",
       "  \n",
       "    function display_loaded() {\n",
       "      if (window.Bokeh !== undefined) {\n",
       "        document.getElementById(\"a9b61b53-3220-49a5-b1d7-992467d31cf1\").textContent = \"BokehJS successfully loaded.\";\n",
       "      } else if (Date.now() < window._bokeh_timeout) {\n",
       "        setTimeout(display_loaded, 100)\n",
       "      }\n",
       "    }\n",
       "  \n",
       "    function run_callbacks() {\n",
       "      window._bokeh_onload_callbacks.forEach(function(callback) { callback() });\n",
       "      delete window._bokeh_onload_callbacks\n",
       "      console.info(\"Bokeh: all callbacks have finished\");\n",
       "    }\n",
       "  \n",
       "    function load_libs(js_urls, callback) {\n",
       "      window._bokeh_onload_callbacks.push(callback);\n",
       "      if (window._bokeh_is_loading > 0) {\n",
       "        console.log(\"Bokeh: BokehJS is being loaded, scheduling callback at\", now());\n",
       "        return null;\n",
       "      }\n",
       "      if (js_urls == null || js_urls.length === 0) {\n",
       "        run_callbacks();\n",
       "        return null;\n",
       "      }\n",
       "      console.log(\"Bokeh: BokehJS not loaded, scheduling load and callback at\", now());\n",
       "      window._bokeh_is_loading = js_urls.length;\n",
       "      for (var i = 0; i < js_urls.length; i++) {\n",
       "        var url = js_urls[i];\n",
       "        var s = document.createElement('script');\n",
       "        s.src = url;\n",
       "        s.async = false;\n",
       "        s.onreadystatechange = s.onload = function() {\n",
       "          window._bokeh_is_loading--;\n",
       "          if (window._bokeh_is_loading === 0) {\n",
       "            console.log(\"Bokeh: all BokehJS libraries loaded\");\n",
       "            run_callbacks()\n",
       "          }\n",
       "        };\n",
       "        s.onerror = function() {\n",
       "          console.warn(\"failed to load library \" + url);\n",
       "        };\n",
       "        console.log(\"Bokeh: injecting script tag for BokehJS library: \", url);\n",
       "        document.getElementsByTagName(\"head\")[0].appendChild(s);\n",
       "      }\n",
       "    };var element = document.getElementById(\"a9b61b53-3220-49a5-b1d7-992467d31cf1\");\n",
       "    if (element == null) {\n",
       "      console.log(\"Bokeh: ERROR: autoload.js configured with elementid 'a9b61b53-3220-49a5-b1d7-992467d31cf1' but no matching script tag was found. \")\n",
       "      return false;\n",
       "    }\n",
       "  \n",
       "    var js_urls = [];\n",
       "  \n",
       "    var inline_js = [\n",
       "      function(Bokeh) {\n",
       "        (function() {\n",
       "          var fn = function() {\n",
       "            var docs_json = {\"ee854c1e-1991-4a05-a4b7-4b44d929954f\":{\"roots\":{\"references\":[{\"attributes\":{\"plot\":{\"id\":\"37be6573-ace2-4491-87b1-2cad4e1db299\",\"subtype\":\"Figure\",\"type\":\"Plot\"}},\"id\":\"c63793fb-1525-42e8-a72f-36d0219daed8\",\"type\":\"PanTool\"},{\"attributes\":{\"dimension\":1,\"plot\":{\"id\":\"37be6573-ace2-4491-87b1-2cad4e1db299\",\"subtype\":\"Figure\",\"type\":\"Plot\"},\"ticker\":{\"id\":\"ace540d2-a040-4264-954a-229426791308\",\"type\":\"BasicTicker\"}},\"id\":\"a77a0d5f-1f3a-4b47-af22-8aacd731deb1\",\"type\":\"Grid\"},{\"attributes\":{\"plot\":{\"id\":\"37be6573-ace2-4491-87b1-2cad4e1db299\",\"subtype\":\"Figure\",\"type\":\"Plot\"}},\"id\":\"5d0d24b3-fe65-48dc-a324-8d45482a721c\",\"type\":\"WheelZoomTool\"},{\"attributes\":{\"callback\":null,\"column_names\":[\"x\",\"y\"],\"data\":{\"x\":[0,1,2,3,4,5,6,7,8,9,10],\"y\":[0,1,2,3,4,5,6,7,8,9,10]}},\"id\":\"5745be81-c5cb-4aff-bdce-a469e692af9e\",\"type\":\"ColumnDataSource\"},{\"attributes\":{\"fill_alpha\":{\"value\":0.1},\"fill_color\":{\"value\":\"#1f77b4\"},\"line_alpha\":{\"value\":0.1},\"line_color\":{\"value\":\"#1f77b4\"},\"size\":{\"units\":\"screen\",\"value\":10},\"x\":{\"field\":\"x\"},\"y\":{\"field\":\"y\"}},\"id\":\"6bb2a15d-0108-49c5-9df9-72abc030b4c0\",\"type\":\"Square\"},{\"attributes\":{\"children\":[{\"id\":\"ba136bb4-6d4b-4456-8a98-0c5b42ea3f98\",\"type\":\"ToolbarBox\"},{\"id\":\"df236e4c-8de0-44f0-8ac0-cf8ac51ed71e\",\"type\":\"Column\"}]},\"id\":\"01d991fc-bc03-4044-a404-44fd7c62a04a\",\"type\":\"Column\"},{\"attributes\":{\"below\":[{\"id\":\"f31adb4b-2d0e-4fe5-998b-1b6143a972a1\",\"type\":\"LinearAxis\"}],\"left\":[{\"id\":\"e0b42ff6-462e-4009-9c9d-0e97cb1f92ce\",\"type\":\"LinearAxis\"}],\"plot_height\":250,\"plot_width\":250,\"renderers\":[{\"id\":\"f31adb4b-2d0e-4fe5-998b-1b6143a972a1\",\"type\":\"LinearAxis\"},{\"id\":\"965e335b-1a40-416e-b33d-cae2382f22a5\",\"type\":\"Grid\"},{\"id\":\"e0b42ff6-462e-4009-9c9d-0e97cb1f92ce\",\"type\":\"LinearAxis\"},{\"id\":\"b3e2abde-6635-4384-8eca-3776fa1f06bb\",\"type\":\"Grid\"},{\"id\":\"a7c884c2-d35c-4361-bc4f-66195335f0c5\",\"type\":\"GlyphRenderer\"}],\"title\":{\"id\":\"bb40cf23-9b33-4cf6-b772-8b179ffaab4f\",\"type\":\"Title\"},\"tool_events\":{\"id\":\"01293b11-fc64-4714-8e19-59f5e3f5efee\",\"type\":\"ToolEvents\"},\"toolbar\":{\"id\":\"5b615328-0b0c-4417-8d91-4d8be3b9dcc2\",\"type\":\"Toolbar\"},\"toolbar_location\":null,\"x_range\":{\"id\":\"f04af16c-c8a6-4d7d-8211-0c3c522e70c4\",\"type\":\"DataRange1d\"},\"y_range\":{\"id\":\"dc985e0c-b48c-40e2-bf1a-49cd54e7dfd5\",\"type\":\"DataRange1d\"}},\"id\":\"9b9c4d86-4927-4717-ae99-08d29d55bece\",\"subtype\":\"Figure\",\"type\":\"Plot\"},{\"attributes\":{\"formatter\":{\"id\":\"c2e2063f-414e-4ff9-8725-b63f2b2905e9\",\"type\":\"BasicTickFormatter\"},\"plot\":{\"id\":\"a76f687c-2757-49c4-9c75-eb2212b5eb6a\",\"subtype\":\"Figure\",\"type\":\"Plot\"},\"ticker\":{\"id\":\"c34dbbc2-2648-4561-83b9-180897408816\",\"type\":\"BasicTicker\"}},\"id\":\"73d174c0-e975-44a1-ac3b-57e0f6b43b5a\",\"type\":\"LinearAxis\"},{\"attributes\":{\"data_source\":{\"id\":\"0200510f-4bac-4975-b6df-e50d6384e68d\",\"type\":\"ColumnDataSource\"},\"glyph\":{\"id\":\"34a2b260-6ea7-4f2b-bf7d-2fd00d88fa60\",\"type\":\"Square\"},\"hover_glyph\":null,\"nonselection_glyph\":{\"id\":\"6bb2a15d-0108-49c5-9df9-72abc030b4c0\",\"type\":\"Square\"},\"selection_glyph\":null},\"id\":\"b1590885-84e1-4b54-92ab-db58ac571bd4\",\"type\":\"GlyphRenderer\"},{\"attributes\":{},\"id\":\"01293b11-fc64-4714-8e19-59f5e3f5efee\",\"type\":\"ToolEvents\"},{\"attributes\":{\"sizing_mode\":\"scale_width\",\"toolbar_location\":\"above\",\"tools\":[{\"id\":\"e060adf4-c810-4146-b267-0bcfd42724e1\",\"type\":\"PanTool\"},{\"id\":\"01c043df-5875-409d-b020-4f30158b87d2\",\"type\":\"WheelZoomTool\"},{\"id\":\"80e9646a-b9e5-4176-afca-e53b8f0d649e\",\"type\":\"PanTool\"},{\"id\":\"de603b3c-a5aa-45d4-8b5b-ab1063fa6c47\",\"type\":\"WheelZoomTool\"},{\"id\":\"c63793fb-1525-42e8-a72f-36d0219daed8\",\"type\":\"PanTool\"},{\"id\":\"5d0d24b3-fe65-48dc-a324-8d45482a721c\",\"type\":\"WheelZoomTool\"}]},\"id\":\"ba136bb4-6d4b-4456-8a98-0c5b42ea3f98\",\"type\":\"ToolbarBox\"},{\"attributes\":{\"callback\":null},\"id\":\"f04af16c-c8a6-4d7d-8211-0c3c522e70c4\",\"type\":\"DataRange1d\"},{\"attributes\":{\"active_drag\":\"auto\",\"active_scroll\":\"auto\",\"active_tap\":\"auto\",\"tools\":[{\"id\":\"e060adf4-c810-4146-b267-0bcfd42724e1\",\"type\":\"PanTool\"},{\"id\":\"01c043df-5875-409d-b020-4f30158b87d2\",\"type\":\"WheelZoomTool\"}]},\"id\":\"5b615328-0b0c-4417-8d91-4d8be3b9dcc2\",\"type\":\"Toolbar\"},{\"attributes\":{\"plot\":null,\"text\":\"\"},\"id\":\"d7235a99-840f-40e7-b86e-882e31c0d9ea\",\"type\":\"Title\"},{\"attributes\":{\"fill_color\":{\"value\":\"navy\"},\"line_color\":{\"value\":\"navy\"},\"size\":{\"units\":\"screen\",\"value\":10},\"x\":{\"field\":\"x\"},\"y\":{\"field\":\"y\"}},\"id\":\"bc466b17-6519-4d96-adcc-aa1f93114d20\",\"type\":\"Circle\"},{\"attributes\":{},\"id\":\"b32ab5e4-eb16-465b-8d14-8a1ffd90602f\",\"type\":\"BasicTickFormatter\"},{\"attributes\":{\"callback\":null},\"id\":\"dc985e0c-b48c-40e2-bf1a-49cd54e7dfd5\",\"type\":\"DataRange1d\"},{\"attributes\":{},\"id\":\"bff694c2-9425-43c2-bf05-68377fe48d25\",\"type\":\"BasicTickFormatter\"},{\"attributes\":{\"formatter\":{\"id\":\"a88ffb38-f0b3-48ae-8705-b3aa1f2f8fe2\",\"type\":\"BasicTickFormatter\"},\"plot\":{\"id\":\"9b9c4d86-4927-4717-ae99-08d29d55bece\",\"subtype\":\"Figure\",\"type\":\"Plot\"},\"ticker\":{\"id\":\"9e41cb5d-edb4-4ae9-900d-3da06851a1d0\",\"type\":\"BasicTicker\"}},\"id\":\"f31adb4b-2d0e-4fe5-998b-1b6143a972a1\",\"type\":\"LinearAxis\"},{\"attributes\":{},\"id\":\"9e41cb5d-edb4-4ae9-900d-3da06851a1d0\",\"type\":\"BasicTicker\"},{\"attributes\":{\"plot\":{\"id\":\"9b9c4d86-4927-4717-ae99-08d29d55bece\",\"subtype\":\"Figure\",\"type\":\"Plot\"},\"ticker\":{\"id\":\"9e41cb5d-edb4-4ae9-900d-3da06851a1d0\",\"type\":\"BasicTicker\"}},\"id\":\"965e335b-1a40-416e-b33d-cae2382f22a5\",\"type\":\"Grid\"},{\"attributes\":{\"formatter\":{\"id\":\"ed0e6120-6384-47c7-8f86-4c04161ebe5d\",\"type\":\"BasicTickFormatter\"},\"plot\":{\"id\":\"9b9c4d86-4927-4717-ae99-08d29d55bece\",\"subtype\":\"Figure\",\"type\":\"Plot\"},\"ticker\":{\"id\":\"13b1f422-54d7-4f5b-896c-49b3002d51c0\",\"type\":\"BasicTicker\"}},\"id\":\"e0b42ff6-462e-4009-9c9d-0e97cb1f92ce\",\"type\":\"LinearAxis\"},{\"attributes\":{},\"id\":\"13b1f422-54d7-4f5b-896c-49b3002d51c0\",\"type\":\"BasicTicker\"},{\"attributes\":{\"dimension\":1,\"plot\":{\"id\":\"9b9c4d86-4927-4717-ae99-08d29d55bece\",\"subtype\":\"Figure\",\"type\":\"Plot\"},\"ticker\":{\"id\":\"13b1f422-54d7-4f5b-896c-49b3002d51c0\",\"type\":\"BasicTicker\"}},\"id\":\"b3e2abde-6635-4384-8eca-3776fa1f06bb\",\"type\":\"Grid\"},{\"attributes\":{\"plot\":{\"id\":\"9b9c4d86-4927-4717-ae99-08d29d55bece\",\"subtype\":\"Figure\",\"type\":\"Plot\"}},\"id\":\"e060adf4-c810-4146-b267-0bcfd42724e1\",\"type\":\"PanTool\"},{\"attributes\":{},\"id\":\"ace540d2-a040-4264-954a-229426791308\",\"type\":\"BasicTicker\"},{\"attributes\":{\"plot\":{\"id\":\"9b9c4d86-4927-4717-ae99-08d29d55bece\",\"subtype\":\"Figure\",\"type\":\"Plot\"}},\"id\":\"01c043df-5875-409d-b020-4f30158b87d2\",\"type\":\"WheelZoomTool\"},{\"attributes\":{\"fill_alpha\":{\"value\":0.1},\"fill_color\":{\"value\":\"#1f77b4\"},\"line_alpha\":{\"value\":0.1},\"line_color\":{\"value\":\"#1f77b4\"},\"size\":{\"units\":\"screen\",\"value\":10},\"x\":{\"field\":\"x\"},\"y\":{\"field\":\"y\"}},\"id\":\"c05add9f-ee80-4aec-8f9a-18cbf607d0ac\",\"type\":\"Circle\"},{\"attributes\":{\"data_source\":{\"id\":\"5745be81-c5cb-4aff-bdce-a469e692af9e\",\"type\":\"ColumnDataSource\"},\"glyph\":{\"id\":\"bc466b17-6519-4d96-adcc-aa1f93114d20\",\"type\":\"Circle\"},\"hover_glyph\":null,\"nonselection_glyph\":{\"id\":\"c05add9f-ee80-4aec-8f9a-18cbf607d0ac\",\"type\":\"Circle\"},\"selection_glyph\":null},\"id\":\"a7c884c2-d35c-4361-bc4f-66195335f0c5\",\"type\":\"GlyphRenderer\"},{\"attributes\":{\"plot\":null,\"text\":\"\"},\"id\":\"bb40cf23-9b33-4cf6-b772-8b179ffaab4f\",\"type\":\"Title\"},{\"attributes\":{},\"id\":\"ed0e6120-6384-47c7-8f86-4c04161ebe5d\",\"type\":\"BasicTickFormatter\"},{\"attributes\":{},\"id\":\"a88ffb38-f0b3-48ae-8705-b3aa1f2f8fe2\",\"type\":\"BasicTickFormatter\"},{\"attributes\":{\"below\":[{\"id\":\"30d225b0-1074-40d9-b881-56a8b8e6a13c\",\"type\":\"LinearAxis\"}],\"left\":[{\"id\":\"73d174c0-e975-44a1-ac3b-57e0f6b43b5a\",\"type\":\"LinearAxis\"}],\"plot_height\":250,\"plot_width\":250,\"renderers\":[{\"id\":\"30d225b0-1074-40d9-b881-56a8b8e6a13c\",\"type\":\"LinearAxis\"},{\"id\":\"d96b0152-cf96-44e7-9b40-55de5bb6e4b6\",\"type\":\"Grid\"},{\"id\":\"73d174c0-e975-44a1-ac3b-57e0f6b43b5a\",\"type\":\"LinearAxis\"},{\"id\":\"20a5d817-cb2c-4811-9761-dce444f04a09\",\"type\":\"Grid\"},{\"id\":\"15cdd392-e40b-4fa7-a705-4f6f7b493278\",\"type\":\"GlyphRenderer\"}],\"title\":{\"id\":\"fe41fb02-2832-46f5-83af-ca7398ccc98d\",\"type\":\"Title\"},\"tool_events\":{\"id\":\"9ae0e0da-d4b7-4b79-b900-2349f1d2d8ba\",\"type\":\"ToolEvents\"},\"toolbar\":{\"id\":\"838093d9-8efa-42b1-94f7-ffc1a305a7e7\",\"type\":\"Toolbar\"},\"toolbar_location\":null,\"x_range\":{\"id\":\"f04af16c-c8a6-4d7d-8211-0c3c522e70c4\",\"type\":\"DataRange1d\"},\"y_range\":{\"id\":\"dc985e0c-b48c-40e2-bf1a-49cd54e7dfd5\",\"type\":\"DataRange1d\"}},\"id\":\"a76f687c-2757-49c4-9c75-eb2212b5eb6a\",\"subtype\":\"Figure\",\"type\":\"Plot\"},{\"attributes\":{\"plot\":{\"id\":\"37be6573-ace2-4491-87b1-2cad4e1db299\",\"subtype\":\"Figure\",\"type\":\"Plot\"},\"ticker\":{\"id\":\"e71d7ba2-e48f-4c5a-ac2d-77bf604fe8dd\",\"type\":\"BasicTicker\"}},\"id\":\"ab7ab333-2e21-499d-88bc-b5de9a410dc3\",\"type\":\"Grid\"},{\"attributes\":{\"callback\":null,\"column_names\":[\"x\",\"y\"],\"data\":{\"x\":[0,1,2,3,4,5,6,7,8,9,10],\"y\":[10,9,8,7,6,5,4,3,2,1,0]}},\"id\":\"8bb0cd5a-5e9c-4faf-81e8-19ff05b984c4\",\"type\":\"ColumnDataSource\"},{\"attributes\":{\"formatter\":{\"id\":\"b32ab5e4-eb16-465b-8d14-8a1ffd90602f\",\"type\":\"BasicTickFormatter\"},\"plot\":{\"id\":\"37be6573-ace2-4491-87b1-2cad4e1db299\",\"subtype\":\"Figure\",\"type\":\"Plot\"},\"ticker\":{\"id\":\"ace540d2-a040-4264-954a-229426791308\",\"type\":\"BasicTicker\"}},\"id\":\"3125d8e6-76f1-43c9-b12a-a0f905211cec\",\"type\":\"LinearAxis\"},{\"attributes\":{\"dimension\":1,\"plot\":{\"id\":\"a76f687c-2757-49c4-9c75-eb2212b5eb6a\",\"subtype\":\"Figure\",\"type\":\"Plot\"},\"ticker\":{\"id\":\"c34dbbc2-2648-4561-83b9-180897408816\",\"type\":\"BasicTicker\"}},\"id\":\"20a5d817-cb2c-4811-9761-dce444f04a09\",\"type\":\"Grid\"},{\"attributes\":{},\"id\":\"c34dbbc2-2648-4561-83b9-180897408816\",\"type\":\"BasicTicker\"},{\"attributes\":{\"formatter\":{\"id\":\"5a649abd-46d0-4100-8ed7-c5b55eb2c1aa\",\"type\":\"BasicTickFormatter\"},\"plot\":{\"id\":\"a76f687c-2757-49c4-9c75-eb2212b5eb6a\",\"subtype\":\"Figure\",\"type\":\"Plot\"},\"ticker\":{\"id\":\"3580293c-669f-4725-b620-2e9acc3d5d51\",\"type\":\"BasicTicker\"}},\"id\":\"30d225b0-1074-40d9-b881-56a8b8e6a13c\",\"type\":\"LinearAxis\"},{\"attributes\":{\"fill_color\":{\"value\":\"firebrick\"},\"line_color\":{\"value\":\"firebrick\"},\"size\":{\"units\":\"screen\",\"value\":10},\"x\":{\"field\":\"x\"},\"y\":{\"field\":\"y\"}},\"id\":\"8cc46c75-d5bc-48db-a3db-0e00392b4d69\",\"type\":\"Triangle\"},{\"attributes\":{},\"id\":\"3580293c-669f-4725-b620-2e9acc3d5d51\",\"type\":\"BasicTicker\"},{\"attributes\":{\"plot\":{\"id\":\"a76f687c-2757-49c4-9c75-eb2212b5eb6a\",\"subtype\":\"Figure\",\"type\":\"Plot\"},\"ticker\":{\"id\":\"3580293c-669f-4725-b620-2e9acc3d5d51\",\"type\":\"BasicTicker\"}},\"id\":\"d96b0152-cf96-44e7-9b40-55de5bb6e4b6\",\"type\":\"Grid\"},{\"attributes\":{\"plot\":{\"id\":\"a76f687c-2757-49c4-9c75-eb2212b5eb6a\",\"subtype\":\"Figure\",\"type\":\"Plot\"}},\"id\":\"80e9646a-b9e5-4176-afca-e53b8f0d649e\",\"type\":\"PanTool\"},{\"attributes\":{\"plot\":{\"id\":\"a76f687c-2757-49c4-9c75-eb2212b5eb6a\",\"subtype\":\"Figure\",\"type\":\"Plot\"}},\"id\":\"de603b3c-a5aa-45d4-8b5b-ab1063fa6c47\",\"type\":\"WheelZoomTool\"},{\"attributes\":{\"fill_alpha\":{\"value\":0.1},\"fill_color\":{\"value\":\"#1f77b4\"},\"line_alpha\":{\"value\":0.1},\"line_color\":{\"value\":\"#1f77b4\"},\"size\":{\"units\":\"screen\",\"value\":10},\"x\":{\"field\":\"x\"},\"y\":{\"field\":\"y\"}},\"id\":\"62122b02-f296-444e-9309-f0086ad12325\",\"type\":\"Triangle\"},{\"attributes\":{\"data_source\":{\"id\":\"8bb0cd5a-5e9c-4faf-81e8-19ff05b984c4\",\"type\":\"ColumnDataSource\"},\"glyph\":{\"id\":\"8cc46c75-d5bc-48db-a3db-0e00392b4d69\",\"type\":\"Triangle\"},\"hover_glyph\":null,\"nonselection_glyph\":{\"id\":\"62122b02-f296-444e-9309-f0086ad12325\",\"type\":\"Triangle\"},\"selection_glyph\":null},\"id\":\"15cdd392-e40b-4fa7-a705-4f6f7b493278\",\"type\":\"GlyphRenderer\"},{\"attributes\":{\"plot\":null,\"text\":\"\"},\"id\":\"fe41fb02-2832-46f5-83af-ca7398ccc98d\",\"type\":\"Title\"},{\"attributes\":{\"active_drag\":\"auto\",\"active_scroll\":\"auto\",\"active_tap\":\"auto\",\"tools\":[{\"id\":\"80e9646a-b9e5-4176-afca-e53b8f0d649e\",\"type\":\"PanTool\"},{\"id\":\"de603b3c-a5aa-45d4-8b5b-ab1063fa6c47\",\"type\":\"WheelZoomTool\"}]},\"id\":\"838093d9-8efa-42b1-94f7-ffc1a305a7e7\",\"type\":\"Toolbar\"},{\"attributes\":{},\"id\":\"c2e2063f-414e-4ff9-8725-b63f2b2905e9\",\"type\":\"BasicTickFormatter\"},{\"attributes\":{},\"id\":\"5a649abd-46d0-4100-8ed7-c5b55eb2c1aa\",\"type\":\"BasicTickFormatter\"},{\"attributes\":{\"below\":[{\"id\":\"254738bc-b471-4b31-a388-4dd9615bffde\",\"type\":\"LinearAxis\"}],\"left\":[{\"id\":\"3125d8e6-76f1-43c9-b12a-a0f905211cec\",\"type\":\"LinearAxis\"}],\"plot_height\":250,\"plot_width\":250,\"renderers\":[{\"id\":\"254738bc-b471-4b31-a388-4dd9615bffde\",\"type\":\"LinearAxis\"},{\"id\":\"ab7ab333-2e21-499d-88bc-b5de9a410dc3\",\"type\":\"Grid\"},{\"id\":\"3125d8e6-76f1-43c9-b12a-a0f905211cec\",\"type\":\"LinearAxis\"},{\"id\":\"a77a0d5f-1f3a-4b47-af22-8aacd731deb1\",\"type\":\"Grid\"},{\"id\":\"b1590885-84e1-4b54-92ab-db58ac571bd4\",\"type\":\"GlyphRenderer\"}],\"title\":{\"id\":\"d7235a99-840f-40e7-b86e-882e31c0d9ea\",\"type\":\"Title\"},\"tool_events\":{\"id\":\"827b23aa-0cc0-405f-8064-f891be0bd2da\",\"type\":\"ToolEvents\"},\"toolbar\":{\"id\":\"e8de3675-bbfe-4500-a6b3-8aeed13be119\",\"type\":\"Toolbar\"},\"toolbar_location\":null,\"x_range\":{\"id\":\"f04af16c-c8a6-4d7d-8211-0c3c522e70c4\",\"type\":\"DataRange1d\"},\"y_range\":{\"id\":\"2f0b5155-36dd-4b84-b5f5-e987c4e5421d\",\"type\":\"DataRange1d\"}},\"id\":\"37be6573-ace2-4491-87b1-2cad4e1db299\",\"subtype\":\"Figure\",\"type\":\"Plot\"},{\"attributes\":{\"callback\":null,\"column_names\":[\"x\",\"y\"],\"data\":{\"x\":[0,1,2,3,4,5,6,7,8,9,10],\"y\":[5,4,3,2,1,0,1,2,3,4,5]}},\"id\":\"0200510f-4bac-4975-b6df-e50d6384e68d\",\"type\":\"ColumnDataSource\"},{\"attributes\":{\"children\":[{\"id\":\"c1daf693-f80f-42bc-993f-7aa8b72df0cc\",\"type\":\"Row\"}]},\"id\":\"df236e4c-8de0-44f0-8ac0-cf8ac51ed71e\",\"type\":\"Column\"},{\"attributes\":{\"children\":[{\"id\":\"9b9c4d86-4927-4717-ae99-08d29d55bece\",\"subtype\":\"Figure\",\"type\":\"Plot\"},{\"id\":\"a76f687c-2757-49c4-9c75-eb2212b5eb6a\",\"subtype\":\"Figure\",\"type\":\"Plot\"},{\"id\":\"37be6573-ace2-4491-87b1-2cad4e1db299\",\"subtype\":\"Figure\",\"type\":\"Plot\"}]},\"id\":\"c1daf693-f80f-42bc-993f-7aa8b72df0cc\",\"type\":\"Row\"},{\"attributes\":{\"active_drag\":\"auto\",\"active_scroll\":\"auto\",\"active_tap\":\"auto\",\"tools\":[{\"id\":\"c63793fb-1525-42e8-a72f-36d0219daed8\",\"type\":\"PanTool\"},{\"id\":\"5d0d24b3-fe65-48dc-a324-8d45482a721c\",\"type\":\"WheelZoomTool\"}]},\"id\":\"e8de3675-bbfe-4500-a6b3-8aeed13be119\",\"type\":\"Toolbar\"},{\"attributes\":{},\"id\":\"e71d7ba2-e48f-4c5a-ac2d-77bf604fe8dd\",\"type\":\"BasicTicker\"},{\"attributes\":{\"formatter\":{\"id\":\"bff694c2-9425-43c2-bf05-68377fe48d25\",\"type\":\"BasicTickFormatter\"},\"plot\":{\"id\":\"37be6573-ace2-4491-87b1-2cad4e1db299\",\"subtype\":\"Figure\",\"type\":\"Plot\"},\"ticker\":{\"id\":\"e71d7ba2-e48f-4c5a-ac2d-77bf604fe8dd\",\"type\":\"BasicTicker\"}},\"id\":\"254738bc-b471-4b31-a388-4dd9615bffde\",\"type\":\"LinearAxis\"},{\"attributes\":{},\"id\":\"9ae0e0da-d4b7-4b79-b900-2349f1d2d8ba\",\"type\":\"ToolEvents\"},{\"attributes\":{\"fill_color\":{\"value\":\"olive\"},\"line_color\":{\"value\":\"olive\"},\"size\":{\"units\":\"screen\",\"value\":10},\"x\":{\"field\":\"x\"},\"y\":{\"field\":\"y\"}},\"id\":\"34a2b260-6ea7-4f2b-bf7d-2fd00d88fa60\",\"type\":\"Square\"},{\"attributes\":{\"callback\":null},\"id\":\"2f0b5155-36dd-4b84-b5f5-e987c4e5421d\",\"type\":\"DataRange1d\"},{\"attributes\":{},\"id\":\"827b23aa-0cc0-405f-8064-f891be0bd2da\",\"type\":\"ToolEvents\"}],\"root_ids\":[\"01d991fc-bc03-4044-a404-44fd7c62a04a\"]},\"title\":\"Bokeh Application\",\"version\":\"0.12.4\"}};\n",
       "            var render_items = [{\"docid\":\"ee854c1e-1991-4a05-a4b7-4b44d929954f\",\"elementid\":\"a9b61b53-3220-49a5-b1d7-992467d31cf1\",\"modelid\":\"01d991fc-bc03-4044-a404-44fd7c62a04a\"}];\n",
       "            \n",
       "            Bokeh.embed.embed_items(docs_json, render_items);\n",
       "          };\n",
       "          if (document.readyState != \"loading\") fn();\n",
       "          else document.addEventListener(\"DOMContentLoaded\", fn);\n",
       "        })();\n",
       "      },\n",
       "      function(Bokeh) {\n",
       "      }\n",
       "    ];\n",
       "  \n",
       "    function run_inline_js() {\n",
       "      \n",
       "      if ((window.Bokeh !== undefined) || (force === true)) {\n",
       "        for (var i = 0; i < inline_js.length; i++) {\n",
       "          inline_js[i](window.Bokeh);\n",
       "        }if (force === true) {\n",
       "          display_loaded();\n",
       "        }} else if (Date.now() < window._bokeh_timeout) {\n",
       "        setTimeout(run_inline_js, 100);\n",
       "      } else if (!window._bokeh_failed_load) {\n",
       "        console.log(\"Bokeh: BokehJS failed to load within specified timeout.\");\n",
       "        window._bokeh_failed_load = true;\n",
       "      } else if (force !== true) {\n",
       "        var cell = $(document.getElementById(\"a9b61b53-3220-49a5-b1d7-992467d31cf1\")).parents('.cell').data().cell;\n",
       "        cell.output_area.append_execute_result(NB_LOAD_WARNING)\n",
       "      }\n",
       "  \n",
       "    }\n",
       "  \n",
       "    if (window._bokeh_is_loading === 0) {\n",
       "      console.log(\"Bokeh: BokehJS loaded, going straight to plotting\");\n",
       "      run_inline_js();\n",
       "    } else {\n",
       "      load_libs(js_urls, function() {\n",
       "        console.log(\"Bokeh: BokehJS plotting callback run at\", now());\n",
       "        run_inline_js();\n",
       "      });\n",
       "    }\n",
       "  }(this));\n",
       "</script>"
      ]
     },
     "metadata": {},
     "output_type": "display_data"
    }
   ],
   "source": [
    "p = gridplot([[s1, s2, s3]])\n",
    "\n",
    "# show the results\n",
    "show(p)"
   ]
  },
  {
   "cell_type": "markdown",
   "metadata": {},
   "source": [
    "## Exercise 3.3: Linked Panning\n",
    "\n",
    "Create two plots in a gridplot, and link their ranges"
   ]
  },
  {
   "cell_type": "code",
   "execution_count": null,
   "metadata": {
    "collapsed": true
   },
   "outputs": [],
   "source": [
    "# Exercise"
   ]
  },
  {
   "cell_type": "markdown",
   "metadata": {},
   "source": [
    "## Linked brushing\n",
    "\n",
    "Linking selections is accomplished in a similar way, by sharing data sources between plots. Note that normally with ``bokeh.plotting`` and ``bokeh.charts`` creating a default data source for simple plots is handled automatically. However to share a data source, we must create them by hand and pass them explicitly. This is illustrated in the example below:"
   ]
  },
  {
   "cell_type": "code",
   "execution_count": 21,
   "metadata": {
    "collapsed": true
   },
   "outputs": [],
   "source": [
    "from bokeh.models import ColumnDataSource"
   ]
  },
  {
   "cell_type": "code",
   "execution_count": 22,
   "metadata": {
    "collapsed": true
   },
   "outputs": [],
   "source": [
    "xs = list(range(-20, 21))\n",
    "y0, y1 = [abs(x) for x in xs], [x**2 for x in xs]"
   ]
  },
  {
   "cell_type": "code",
   "execution_count": 23,
   "metadata": {
    "collapsed": true
   },
   "outputs": [],
   "source": [
    "# create a column data source for the plots to share\n",
    "source = ColumnDataSource(data=dict(xs=xs, y0=y0, y1=y1))"
   ]
  },
  {
   "cell_type": "code",
   "execution_count": 32,
   "metadata": {
    "collapsed": true
   },
   "outputs": [],
   "source": [
    "TOOLS = \"box_select,lasso_select,reset,help\""
   ]
  },
  {
   "cell_type": "code",
   "execution_count": 33,
   "metadata": {
    "collapsed": false
   },
   "outputs": [
    {
     "data": {
      "text/html": [
       "<div style=\"display: table;\"><div style=\"display: table-row;\"><div style=\"display: table-cell;\"><b title=\"bokeh.models.renderers.GlyphRenderer\">GlyphRenderer</b>(</div><div style=\"display: table-cell;\">id&nbsp;=&nbsp;'df57712a-2c50-4565-b6e3-3f5665b4f02e', <span id=\"9a7d9dab-ed5b-45a9-b4ea-f18ca77f791a\" style=\"cursor: pointer;\">&hellip;)</span></div></div><div class=\"bdbf936d-5c5e-429b-a073-6feb87b90964\" style=\"display: none;\"><div style=\"display: table-cell;\"></div><div style=\"display: table-cell;\">data_source&nbsp;=&nbsp;ColumnDataSource(id='5d3f7f02-fefe-42ec-8066-5f428beba216', ...),</div></div><div class=\"bdbf936d-5c5e-429b-a073-6feb87b90964\" style=\"display: none;\"><div style=\"display: table-cell;\"></div><div style=\"display: table-cell;\">glyph&nbsp;=&nbsp;Circle(id='d1668596-f402-42bb-bf8b-d77846e6bae3', ...),</div></div><div class=\"bdbf936d-5c5e-429b-a073-6feb87b90964\" style=\"display: none;\"><div style=\"display: table-cell;\"></div><div style=\"display: table-cell;\">hover_glyph&nbsp;=&nbsp;None,</div></div><div class=\"bdbf936d-5c5e-429b-a073-6feb87b90964\" style=\"display: none;\"><div style=\"display: table-cell;\"></div><div style=\"display: table-cell;\">js_callbacks&nbsp;=&nbsp;{},</div></div><div class=\"bdbf936d-5c5e-429b-a073-6feb87b90964\" style=\"display: none;\"><div style=\"display: table-cell;\"></div><div style=\"display: table-cell;\">level&nbsp;=&nbsp;'glyph',</div></div><div class=\"bdbf936d-5c5e-429b-a073-6feb87b90964\" style=\"display: none;\"><div style=\"display: table-cell;\"></div><div style=\"display: table-cell;\">name&nbsp;=&nbsp;None,</div></div><div class=\"bdbf936d-5c5e-429b-a073-6feb87b90964\" style=\"display: none;\"><div style=\"display: table-cell;\"></div><div style=\"display: table-cell;\">nonselection_glyph&nbsp;=&nbsp;Circle(id='ccbea611-3fb4-431a-a5f7-20739df585bf', ...),</div></div><div class=\"bdbf936d-5c5e-429b-a073-6feb87b90964\" style=\"display: none;\"><div style=\"display: table-cell;\"></div><div style=\"display: table-cell;\">selection_glyph&nbsp;=&nbsp;None,</div></div><div class=\"bdbf936d-5c5e-429b-a073-6feb87b90964\" style=\"display: none;\"><div style=\"display: table-cell;\"></div><div style=\"display: table-cell;\">tags&nbsp;=&nbsp;[],</div></div><div class=\"bdbf936d-5c5e-429b-a073-6feb87b90964\" style=\"display: none;\"><div style=\"display: table-cell;\"></div><div style=\"display: table-cell;\">visible&nbsp;=&nbsp;True,</div></div><div class=\"bdbf936d-5c5e-429b-a073-6feb87b90964\" style=\"display: none;\"><div style=\"display: table-cell;\"></div><div style=\"display: table-cell;\">x_range_name&nbsp;=&nbsp;'default',</div></div><div class=\"bdbf936d-5c5e-429b-a073-6feb87b90964\" style=\"display: none;\"><div style=\"display: table-cell;\"></div><div style=\"display: table-cell;\">y_range_name&nbsp;=&nbsp;'default')</div></div></div>\n",
       "<script>\n",
       "(function() {\n",
       "  var expanded = false;\n",
       "  var ellipsis = document.getElementById(\"9a7d9dab-ed5b-45a9-b4ea-f18ca77f791a\");\n",
       "  ellipsis.addEventListener(\"click\", function() {\n",
       "    var rows = document.getElementsByClassName(\"bdbf936d-5c5e-429b-a073-6feb87b90964\");\n",
       "    for (var i = 0; i < rows.length; i++) {\n",
       "      var el = rows[i];\n",
       "      el.style.display = expanded ? \"none\" : \"table-row\";\n",
       "    }\n",
       "    ellipsis.innerHTML = expanded ? \"&hellip;)\" : \"&lsaquo;&lsaquo;&lsaquo;\";\n",
       "    expanded = !expanded;\n",
       "  });\n",
       "})();\n",
       "</script>\n"
      ],
      "text/plain": [
       "GlyphRenderer(id='df57712a-2c50-4565-b6e3-3f5665b4f02e', ...)"
      ]
     },
     "execution_count": 33,
     "metadata": {},
     "output_type": "execute_result"
    }
   ],
   "source": [
    "# create a new plot and add a renderer\n",
    "left = figure(tools=TOOLS, width=300, height=300)\n",
    "left.circle('xs', 'y0', size=10, source=source)"
   ]
  },
  {
   "cell_type": "code",
   "execution_count": 34,
   "metadata": {
    "collapsed": false
   },
   "outputs": [
    {
     "data": {
      "text/html": [
       "<div style=\"display: table;\"><div style=\"display: table-row;\"><div style=\"display: table-cell;\"><b title=\"bokeh.models.renderers.GlyphRenderer\">GlyphRenderer</b>(</div><div style=\"display: table-cell;\">id&nbsp;=&nbsp;'8bff3164-7fd5-4357-887c-f840eecaa8b4', <span id=\"7afea3e1-9400-462f-a2be-77a8bff2abc1\" style=\"cursor: pointer;\">&hellip;)</span></div></div><div class=\"c71fc906-3e20-4699-80d5-fc866233ad64\" style=\"display: none;\"><div style=\"display: table-cell;\"></div><div style=\"display: table-cell;\">data_source&nbsp;=&nbsp;ColumnDataSource(id='5d3f7f02-fefe-42ec-8066-5f428beba216', ...),</div></div><div class=\"c71fc906-3e20-4699-80d5-fc866233ad64\" style=\"display: none;\"><div style=\"display: table-cell;\"></div><div style=\"display: table-cell;\">glyph&nbsp;=&nbsp;Circle(id='27bb650b-5eaa-45c1-9375-acabeae83e4d', ...),</div></div><div class=\"c71fc906-3e20-4699-80d5-fc866233ad64\" style=\"display: none;\"><div style=\"display: table-cell;\"></div><div style=\"display: table-cell;\">hover_glyph&nbsp;=&nbsp;None,</div></div><div class=\"c71fc906-3e20-4699-80d5-fc866233ad64\" style=\"display: none;\"><div style=\"display: table-cell;\"></div><div style=\"display: table-cell;\">js_callbacks&nbsp;=&nbsp;{},</div></div><div class=\"c71fc906-3e20-4699-80d5-fc866233ad64\" style=\"display: none;\"><div style=\"display: table-cell;\"></div><div style=\"display: table-cell;\">level&nbsp;=&nbsp;'glyph',</div></div><div class=\"c71fc906-3e20-4699-80d5-fc866233ad64\" style=\"display: none;\"><div style=\"display: table-cell;\"></div><div style=\"display: table-cell;\">name&nbsp;=&nbsp;None,</div></div><div class=\"c71fc906-3e20-4699-80d5-fc866233ad64\" style=\"display: none;\"><div style=\"display: table-cell;\"></div><div style=\"display: table-cell;\">nonselection_glyph&nbsp;=&nbsp;Circle(id='a1b1b918-1464-45b7-b920-a3d59a41f668', ...),</div></div><div class=\"c71fc906-3e20-4699-80d5-fc866233ad64\" style=\"display: none;\"><div style=\"display: table-cell;\"></div><div style=\"display: table-cell;\">selection_glyph&nbsp;=&nbsp;None,</div></div><div class=\"c71fc906-3e20-4699-80d5-fc866233ad64\" style=\"display: none;\"><div style=\"display: table-cell;\"></div><div style=\"display: table-cell;\">tags&nbsp;=&nbsp;[],</div></div><div class=\"c71fc906-3e20-4699-80d5-fc866233ad64\" style=\"display: none;\"><div style=\"display: table-cell;\"></div><div style=\"display: table-cell;\">visible&nbsp;=&nbsp;True,</div></div><div class=\"c71fc906-3e20-4699-80d5-fc866233ad64\" style=\"display: none;\"><div style=\"display: table-cell;\"></div><div style=\"display: table-cell;\">x_range_name&nbsp;=&nbsp;'default',</div></div><div class=\"c71fc906-3e20-4699-80d5-fc866233ad64\" style=\"display: none;\"><div style=\"display: table-cell;\"></div><div style=\"display: table-cell;\">y_range_name&nbsp;=&nbsp;'default')</div></div></div>\n",
       "<script>\n",
       "(function() {\n",
       "  var expanded = false;\n",
       "  var ellipsis = document.getElementById(\"7afea3e1-9400-462f-a2be-77a8bff2abc1\");\n",
       "  ellipsis.addEventListener(\"click\", function() {\n",
       "    var rows = document.getElementsByClassName(\"c71fc906-3e20-4699-80d5-fc866233ad64\");\n",
       "    for (var i = 0; i < rows.length; i++) {\n",
       "      var el = rows[i];\n",
       "      el.style.display = expanded ? \"none\" : \"table-row\";\n",
       "    }\n",
       "    ellipsis.innerHTML = expanded ? \"&hellip;)\" : \"&lsaquo;&lsaquo;&lsaquo;\";\n",
       "    expanded = !expanded;\n",
       "  });\n",
       "})();\n",
       "</script>\n"
      ],
      "text/plain": [
       "GlyphRenderer(id='8bff3164-7fd5-4357-887c-f840eecaa8b4', ...)"
      ]
     },
     "execution_count": 34,
     "metadata": {},
     "output_type": "execute_result"
    }
   ],
   "source": [
    "# create another new plot and add a renderer\n",
    "right = figure(tools=TOOLS, width=300, height=300)\n",
    "right.circle('xs', 'y1', color='red', size=10, source=source)"
   ]
  },
  {
   "cell_type": "code",
   "execution_count": 35,
   "metadata": {
    "collapsed": false
   },
   "outputs": [
    {
     "data": {
      "text/html": [
       "\n",
       "\n",
       "    <div class=\"bk-root\">\n",
       "        <div class=\"bk-plotdiv\" id=\"0228098f-4901-44e5-ae9b-c8d31e6c453b\"></div>\n",
       "    </div>\n",
       "<script type=\"text/javascript\">\n",
       "  \n",
       "  (function(global) {\n",
       "    function now() {\n",
       "      return new Date();\n",
       "    }\n",
       "  \n",
       "    var force = false;\n",
       "  \n",
       "    if (typeof (window._bokeh_onload_callbacks) === \"undefined\" || force === true) {\n",
       "      window._bokeh_onload_callbacks = [];\n",
       "      window._bokeh_is_loading = undefined;\n",
       "    }\n",
       "  \n",
       "  \n",
       "    \n",
       "    if (typeof (window._bokeh_timeout) === \"undefined\" || force === true) {\n",
       "      window._bokeh_timeout = Date.now() + 0;\n",
       "      window._bokeh_failed_load = false;\n",
       "    }\n",
       "  \n",
       "    var NB_LOAD_WARNING = {'data': {'text/html':\n",
       "       \"<div style='background-color: #fdd'>\\n\"+\n",
       "       \"<p>\\n\"+\n",
       "       \"BokehJS does not appear to have successfully loaded. If loading BokehJS from CDN, this \\n\"+\n",
       "       \"may be due to a slow or bad network connection. Possible fixes:\\n\"+\n",
       "       \"</p>\\n\"+\n",
       "       \"<ul>\\n\"+\n",
       "       \"<li>re-rerun `output_notebook()` to attempt to load from CDN again, or</li>\\n\"+\n",
       "       \"<li>use INLINE resources instead, as so:</li>\\n\"+\n",
       "       \"</ul>\\n\"+\n",
       "       \"<code>\\n\"+\n",
       "       \"from bokeh.resources import INLINE\\n\"+\n",
       "       \"output_notebook(resources=INLINE)\\n\"+\n",
       "       \"</code>\\n\"+\n",
       "       \"</div>\"}};\n",
       "  \n",
       "    function display_loaded() {\n",
       "      if (window.Bokeh !== undefined) {\n",
       "        document.getElementById(\"0228098f-4901-44e5-ae9b-c8d31e6c453b\").textContent = \"BokehJS successfully loaded.\";\n",
       "      } else if (Date.now() < window._bokeh_timeout) {\n",
       "        setTimeout(display_loaded, 100)\n",
       "      }\n",
       "    }\n",
       "  \n",
       "    function run_callbacks() {\n",
       "      window._bokeh_onload_callbacks.forEach(function(callback) { callback() });\n",
       "      delete window._bokeh_onload_callbacks\n",
       "      console.info(\"Bokeh: all callbacks have finished\");\n",
       "    }\n",
       "  \n",
       "    function load_libs(js_urls, callback) {\n",
       "      window._bokeh_onload_callbacks.push(callback);\n",
       "      if (window._bokeh_is_loading > 0) {\n",
       "        console.log(\"Bokeh: BokehJS is being loaded, scheduling callback at\", now());\n",
       "        return null;\n",
       "      }\n",
       "      if (js_urls == null || js_urls.length === 0) {\n",
       "        run_callbacks();\n",
       "        return null;\n",
       "      }\n",
       "      console.log(\"Bokeh: BokehJS not loaded, scheduling load and callback at\", now());\n",
       "      window._bokeh_is_loading = js_urls.length;\n",
       "      for (var i = 0; i < js_urls.length; i++) {\n",
       "        var url = js_urls[i];\n",
       "        var s = document.createElement('script');\n",
       "        s.src = url;\n",
       "        s.async = false;\n",
       "        s.onreadystatechange = s.onload = function() {\n",
       "          window._bokeh_is_loading--;\n",
       "          if (window._bokeh_is_loading === 0) {\n",
       "            console.log(\"Bokeh: all BokehJS libraries loaded\");\n",
       "            run_callbacks()\n",
       "          }\n",
       "        };\n",
       "        s.onerror = function() {\n",
       "          console.warn(\"failed to load library \" + url);\n",
       "        };\n",
       "        console.log(\"Bokeh: injecting script tag for BokehJS library: \", url);\n",
       "        document.getElementsByTagName(\"head\")[0].appendChild(s);\n",
       "      }\n",
       "    };var element = document.getElementById(\"0228098f-4901-44e5-ae9b-c8d31e6c453b\");\n",
       "    if (element == null) {\n",
       "      console.log(\"Bokeh: ERROR: autoload.js configured with elementid '0228098f-4901-44e5-ae9b-c8d31e6c453b' but no matching script tag was found. \")\n",
       "      return false;\n",
       "    }\n",
       "  \n",
       "    var js_urls = [];\n",
       "  \n",
       "    var inline_js = [\n",
       "      function(Bokeh) {\n",
       "        (function() {\n",
       "          var fn = function() {\n",
       "            var docs_json = {\"22c1b74a-1bf3-45da-8479-00dbd61a1f28\":{\"roots\":{\"references\":[{\"attributes\":{\"dimension\":1,\"plot\":{\"id\":\"d0c02bf7-d88b-4d89-863a-7032ce64d014\",\"subtype\":\"Figure\",\"type\":\"Plot\"},\"ticker\":{\"id\":\"9ae72816-3664-40e8-a978-c9fd3c0c4132\",\"type\":\"BasicTicker\"}},\"id\":\"a2363604-e15e-4944-837d-ba753fb85473\",\"type\":\"Grid\"},{\"attributes\":{\"data_source\":{\"id\":\"5d3f7f02-fefe-42ec-8066-5f428beba216\",\"type\":\"ColumnDataSource\"},\"glyph\":{\"id\":\"d1668596-f402-42bb-bf8b-d77846e6bae3\",\"type\":\"Circle\"},\"hover_glyph\":null,\"nonselection_glyph\":{\"id\":\"ccbea611-3fb4-431a-a5f7-20739df585bf\",\"type\":\"Circle\"},\"selection_glyph\":null},\"id\":\"df57712a-2c50-4565-b6e3-3f5665b4f02e\",\"type\":\"GlyphRenderer\"},{\"attributes\":{\"fill_alpha\":{\"value\":0.5},\"fill_color\":{\"value\":\"lightgrey\"},\"level\":\"overlay\",\"line_alpha\":{\"value\":1.0},\"line_color\":{\"value\":\"black\"},\"line_dash\":[4,4],\"line_width\":{\"value\":2},\"plot\":null,\"xs_units\":\"screen\",\"ys_units\":\"screen\"},\"id\":\"90867f99-136a-421b-866b-f77440602f8b\",\"type\":\"PolyAnnotation\"},{\"attributes\":{\"callback\":null,\"overlay\":{\"id\":\"52e661a0-e975-46ee-ab0e-bc83aa0fb645\",\"type\":\"BoxAnnotation\"},\"plot\":{\"id\":\"d0c02bf7-d88b-4d89-863a-7032ce64d014\",\"subtype\":\"Figure\",\"type\":\"Plot\"},\"renderers\":[{\"id\":\"df57712a-2c50-4565-b6e3-3f5665b4f02e\",\"type\":\"GlyphRenderer\"}]},\"id\":\"a234de93-eb2e-454d-a2d1-b6161372397c\",\"type\":\"BoxSelectTool\"},{\"attributes\":{\"children\":[{\"id\":\"35780099-fdc8-4e75-87b3-9046f1c97431\",\"type\":\"Row\"}]},\"id\":\"8a1519ef-78f4-4d26-8819-14aee332f805\",\"type\":\"Column\"},{\"attributes\":{},\"id\":\"4adb7bbd-ae4e-42a4-baa6-14124a2a9404\",\"type\":\"BasicTickFormatter\"},{\"attributes\":{\"callback\":null,\"overlay\":{\"id\":\"90867f99-136a-421b-866b-f77440602f8b\",\"type\":\"PolyAnnotation\"},\"plot\":{\"id\":\"d0c02bf7-d88b-4d89-863a-7032ce64d014\",\"subtype\":\"Figure\",\"type\":\"Plot\"}},\"id\":\"f19c30b2-1f4f-4afc-be9d-38624839f282\",\"type\":\"LassoSelectTool\"},{\"attributes\":{\"plot\":{\"id\":\"d0c02bf7-d88b-4d89-863a-7032ce64d014\",\"subtype\":\"Figure\",\"type\":\"Plot\"}},\"id\":\"4e21a907-35e5-4f40-a783-47d3928b3715\",\"type\":\"ResetTool\"},{\"attributes\":{\"plot\":{\"id\":\"d0c02bf7-d88b-4d89-863a-7032ce64d014\",\"subtype\":\"Figure\",\"type\":\"Plot\"}},\"id\":\"a5f7e058-e772-4839-abbd-e0c501b4d7aa\",\"type\":\"HelpTool\"},{\"attributes\":{\"bottom_units\":\"screen\",\"fill_alpha\":{\"value\":0.5},\"fill_color\":{\"value\":\"lightgrey\"},\"left_units\":\"screen\",\"level\":\"overlay\",\"line_alpha\":{\"value\":1.0},\"line_color\":{\"value\":\"black\"},\"line_dash\":[4,4],\"line_width\":{\"value\":2},\"plot\":null,\"render_mode\":\"css\",\"right_units\":\"screen\",\"top_units\":\"screen\"},\"id\":\"52e661a0-e975-46ee-ab0e-bc83aa0fb645\",\"type\":\"BoxAnnotation\"},{\"attributes\":{\"plot\":null,\"text\":\"\"},\"id\":\"3913802d-dab9-4626-b9d5-fd7cc23abec9\",\"type\":\"Title\"},{\"attributes\":{},\"id\":\"a576d45c-94e2-4209-ac5c-d12d5f6d6abe\",\"type\":\"BasicTickFormatter\"},{\"attributes\":{\"below\":[{\"id\":\"75ace0d3-8569-4b25-932e-3a9d37c756ad\",\"type\":\"LinearAxis\"}],\"left\":[{\"id\":\"fc1e54a3-469d-4d0f-b6ad-5dc1a4fae90b\",\"type\":\"LinearAxis\"}],\"plot_height\":300,\"plot_width\":300,\"renderers\":[{\"id\":\"75ace0d3-8569-4b25-932e-3a9d37c756ad\",\"type\":\"LinearAxis\"},{\"id\":\"aa9698ab-4a90-4486-9fbd-f4c95ca4941e\",\"type\":\"Grid\"},{\"id\":\"fc1e54a3-469d-4d0f-b6ad-5dc1a4fae90b\",\"type\":\"LinearAxis\"},{\"id\":\"9154e149-e1a1-4854-84ae-77980cb3974a\",\"type\":\"Grid\"},{\"id\":\"104c55a4-438c-4219-8ea5-43d45c6d8de9\",\"type\":\"BoxAnnotation\"},{\"id\":\"0cd71e19-2af5-4452-a1b7-7e3e22c042df\",\"type\":\"PolyAnnotation\"},{\"id\":\"8bff3164-7fd5-4357-887c-f840eecaa8b4\",\"type\":\"GlyphRenderer\"}],\"title\":{\"id\":\"e85b01ec-fb17-4c23-9a0f-caccc8485ee5\",\"type\":\"Title\"},\"tool_events\":{\"id\":\"9de36a59-40a5-47f8-a93e-0aba4a62162f\",\"type\":\"ToolEvents\"},\"toolbar\":{\"id\":\"fb8e3841-3e83-4eb3-bc4c-b91cc2a56e46\",\"type\":\"Toolbar\"},\"toolbar_location\":null,\"x_range\":{\"id\":\"819bd0ac-0649-407b-aa96-5c5d04917ac0\",\"type\":\"DataRange1d\"},\"y_range\":{\"id\":\"ce400292-c118-476b-bb32-dbc53e77a4df\",\"type\":\"DataRange1d\"}},\"id\":\"6378eb1e-6b13-4ce7-9940-0d8f813e66cb\",\"subtype\":\"Figure\",\"type\":\"Plot\"},{\"attributes\":{\"fill_color\":{\"value\":\"red\"},\"line_color\":{\"value\":\"red\"},\"size\":{\"units\":\"screen\",\"value\":10},\"x\":{\"field\":\"xs\"},\"y\":{\"field\":\"y1\"}},\"id\":\"27bb650b-5eaa-45c1-9375-acabeae83e4d\",\"type\":\"Circle\"},{\"attributes\":{\"formatter\":{\"id\":\"4adb7bbd-ae4e-42a4-baa6-14124a2a9404\",\"type\":\"BasicTickFormatter\"},\"plot\":{\"id\":\"d0c02bf7-d88b-4d89-863a-7032ce64d014\",\"subtype\":\"Figure\",\"type\":\"Plot\"},\"ticker\":{\"id\":\"9ae72816-3664-40e8-a978-c9fd3c0c4132\",\"type\":\"BasicTicker\"}},\"id\":\"70d2cf2c-72bb-4a8e-b00e-fcf6935cd47a\",\"type\":\"LinearAxis\"},{\"attributes\":{\"fill_alpha\":{\"value\":0.1},\"fill_color\":{\"value\":\"#1f77b4\"},\"line_alpha\":{\"value\":0.1},\"line_color\":{\"value\":\"#1f77b4\"},\"size\":{\"units\":\"screen\",\"value\":10},\"x\":{\"field\":\"xs\"},\"y\":{\"field\":\"y1\"}},\"id\":\"a1b1b918-1464-45b7-b920-a3d59a41f668\",\"type\":\"Circle\"},{\"attributes\":{\"data_source\":{\"id\":\"5d3f7f02-fefe-42ec-8066-5f428beba216\",\"type\":\"ColumnDataSource\"},\"glyph\":{\"id\":\"27bb650b-5eaa-45c1-9375-acabeae83e4d\",\"type\":\"Circle\"},\"hover_glyph\":null,\"nonselection_glyph\":{\"id\":\"a1b1b918-1464-45b7-b920-a3d59a41f668\",\"type\":\"Circle\"},\"selection_glyph\":null},\"id\":\"8bff3164-7fd5-4357-887c-f840eecaa8b4\",\"type\":\"GlyphRenderer\"},{\"attributes\":{},\"id\":\"9de36a59-40a5-47f8-a93e-0aba4a62162f\",\"type\":\"ToolEvents\"},{\"attributes\":{\"callback\":null},\"id\":\"819bd0ac-0649-407b-aa96-5c5d04917ac0\",\"type\":\"DataRange1d\"},{\"attributes\":{\"active_drag\":\"auto\",\"active_scroll\":\"auto\",\"active_tap\":\"auto\",\"tools\":[{\"id\":\"73be42bf-b625-421c-8d18-ae17f4f23ff3\",\"type\":\"BoxSelectTool\"},{\"id\":\"d602d42c-710a-4967-b125-359b6a5cdf78\",\"type\":\"LassoSelectTool\"},{\"id\":\"e7b2ae41-75f6-457e-b697-e32ef010c75e\",\"type\":\"ResetTool\"},{\"id\":\"8d2e4a61-b3f3-4e92-a1ee-21f8f23027d8\",\"type\":\"HelpTool\"}]},\"id\":\"fb8e3841-3e83-4eb3-bc4c-b91cc2a56e46\",\"type\":\"Toolbar\"},{\"attributes\":{\"children\":[{\"id\":\"e66759ca-b736-4b90-be9d-7d6fd4e47992\",\"type\":\"ToolbarBox\"},{\"id\":\"8a1519ef-78f4-4d26-8819-14aee332f805\",\"type\":\"Column\"}]},\"id\":\"c2c2af4a-1053-4d87-b258-71943440f01f\",\"type\":\"Column\"},{\"attributes\":{\"callback\":null},\"id\":\"ce400292-c118-476b-bb32-dbc53e77a4df\",\"type\":\"DataRange1d\"},{\"attributes\":{\"formatter\":{\"id\":\"351e2289-fdac-47d9-8cdb-2ea63d310868\",\"type\":\"BasicTickFormatter\"},\"plot\":{\"id\":\"6378eb1e-6b13-4ce7-9940-0d8f813e66cb\",\"subtype\":\"Figure\",\"type\":\"Plot\"},\"ticker\":{\"id\":\"597f7a05-109d-4cbf-b025-b567c4090232\",\"type\":\"BasicTicker\"}},\"id\":\"75ace0d3-8569-4b25-932e-3a9d37c756ad\",\"type\":\"LinearAxis\"},{\"attributes\":{},\"id\":\"597f7a05-109d-4cbf-b025-b567c4090232\",\"type\":\"BasicTicker\"},{\"attributes\":{\"below\":[{\"id\":\"67b1329b-8476-4223-ac15-d9d029ce2724\",\"type\":\"LinearAxis\"}],\"left\":[{\"id\":\"70d2cf2c-72bb-4a8e-b00e-fcf6935cd47a\",\"type\":\"LinearAxis\"}],\"plot_height\":300,\"plot_width\":300,\"renderers\":[{\"id\":\"67b1329b-8476-4223-ac15-d9d029ce2724\",\"type\":\"LinearAxis\"},{\"id\":\"83da2108-f004-4357-b382-957bd2f6a28e\",\"type\":\"Grid\"},{\"id\":\"70d2cf2c-72bb-4a8e-b00e-fcf6935cd47a\",\"type\":\"LinearAxis\"},{\"id\":\"a2363604-e15e-4944-837d-ba753fb85473\",\"type\":\"Grid\"},{\"id\":\"52e661a0-e975-46ee-ab0e-bc83aa0fb645\",\"type\":\"BoxAnnotation\"},{\"id\":\"90867f99-136a-421b-866b-f77440602f8b\",\"type\":\"PolyAnnotation\"},{\"id\":\"df57712a-2c50-4565-b6e3-3f5665b4f02e\",\"type\":\"GlyphRenderer\"}],\"title\":{\"id\":\"3913802d-dab9-4626-b9d5-fd7cc23abec9\",\"type\":\"Title\"},\"tool_events\":{\"id\":\"a1acc577-8c2a-4393-b410-cc816c815bb6\",\"type\":\"ToolEvents\"},\"toolbar\":{\"id\":\"60079925-5484-4154-937b-3d5d2f4bcf90\",\"type\":\"Toolbar\"},\"toolbar_location\":null,\"x_range\":{\"id\":\"d06a7989-121c-48e9-9e49-e6463c7c9eaf\",\"type\":\"DataRange1d\"},\"y_range\":{\"id\":\"3433d41d-42ef-450e-989f-fa2b05b710e2\",\"type\":\"DataRange1d\"}},\"id\":\"d0c02bf7-d88b-4d89-863a-7032ce64d014\",\"subtype\":\"Figure\",\"type\":\"Plot\"},{\"attributes\":{\"plot\":{\"id\":\"6378eb1e-6b13-4ce7-9940-0d8f813e66cb\",\"subtype\":\"Figure\",\"type\":\"Plot\"},\"ticker\":{\"id\":\"597f7a05-109d-4cbf-b025-b567c4090232\",\"type\":\"BasicTicker\"}},\"id\":\"aa9698ab-4a90-4486-9fbd-f4c95ca4941e\",\"type\":\"Grid\"},{\"attributes\":{\"formatter\":{\"id\":\"99d716e3-c0ef-4166-a72f-82d24907e907\",\"type\":\"BasicTickFormatter\"},\"plot\":{\"id\":\"6378eb1e-6b13-4ce7-9940-0d8f813e66cb\",\"subtype\":\"Figure\",\"type\":\"Plot\"},\"ticker\":{\"id\":\"16ee6dc1-df54-46ea-89dd-a9b4445e8a13\",\"type\":\"BasicTicker\"}},\"id\":\"fc1e54a3-469d-4d0f-b6ad-5dc1a4fae90b\",\"type\":\"LinearAxis\"},{\"attributes\":{\"fill_color\":{\"value\":\"#1f77b4\"},\"line_color\":{\"value\":\"#1f77b4\"},\"size\":{\"units\":\"screen\",\"value\":10},\"x\":{\"field\":\"xs\"},\"y\":{\"field\":\"y0\"}},\"id\":\"d1668596-f402-42bb-bf8b-d77846e6bae3\",\"type\":\"Circle\"},{\"attributes\":{},\"id\":\"16ee6dc1-df54-46ea-89dd-a9b4445e8a13\",\"type\":\"BasicTicker\"},{\"attributes\":{\"dimension\":1,\"plot\":{\"id\":\"6378eb1e-6b13-4ce7-9940-0d8f813e66cb\",\"subtype\":\"Figure\",\"type\":\"Plot\"},\"ticker\":{\"id\":\"16ee6dc1-df54-46ea-89dd-a9b4445e8a13\",\"type\":\"BasicTicker\"}},\"id\":\"9154e149-e1a1-4854-84ae-77980cb3974a\",\"type\":\"Grid\"},{\"attributes\":{\"fill_alpha\":{\"value\":0.5},\"fill_color\":{\"value\":\"lightgrey\"},\"level\":\"overlay\",\"line_alpha\":{\"value\":1.0},\"line_color\":{\"value\":\"black\"},\"line_dash\":[4,4],\"line_width\":{\"value\":2},\"plot\":null,\"xs_units\":\"screen\",\"ys_units\":\"screen\"},\"id\":\"0cd71e19-2af5-4452-a1b7-7e3e22c042df\",\"type\":\"PolyAnnotation\"},{\"attributes\":{\"callback\":null,\"overlay\":{\"id\":\"104c55a4-438c-4219-8ea5-43d45c6d8de9\",\"type\":\"BoxAnnotation\"},\"plot\":{\"id\":\"6378eb1e-6b13-4ce7-9940-0d8f813e66cb\",\"subtype\":\"Figure\",\"type\":\"Plot\"},\"renderers\":[{\"id\":\"8bff3164-7fd5-4357-887c-f840eecaa8b4\",\"type\":\"GlyphRenderer\"}]},\"id\":\"73be42bf-b625-421c-8d18-ae17f4f23ff3\",\"type\":\"BoxSelectTool\"},{\"attributes\":{},\"id\":\"351e2289-fdac-47d9-8cdb-2ea63d310868\",\"type\":\"BasicTickFormatter\"},{\"attributes\":{\"callback\":null,\"overlay\":{\"id\":\"0cd71e19-2af5-4452-a1b7-7e3e22c042df\",\"type\":\"PolyAnnotation\"},\"plot\":{\"id\":\"6378eb1e-6b13-4ce7-9940-0d8f813e66cb\",\"subtype\":\"Figure\",\"type\":\"Plot\"}},\"id\":\"d602d42c-710a-4967-b125-359b6a5cdf78\",\"type\":\"LassoSelectTool\"},{\"attributes\":{\"plot\":{\"id\":\"6378eb1e-6b13-4ce7-9940-0d8f813e66cb\",\"subtype\":\"Figure\",\"type\":\"Plot\"}},\"id\":\"e7b2ae41-75f6-457e-b697-e32ef010c75e\",\"type\":\"ResetTool\"},{\"attributes\":{\"plot\":{\"id\":\"6378eb1e-6b13-4ce7-9940-0d8f813e66cb\",\"subtype\":\"Figure\",\"type\":\"Plot\"}},\"id\":\"8d2e4a61-b3f3-4e92-a1ee-21f8f23027d8\",\"type\":\"HelpTool\"},{\"attributes\":{\"bottom_units\":\"screen\",\"fill_alpha\":{\"value\":0.5},\"fill_color\":{\"value\":\"lightgrey\"},\"left_units\":\"screen\",\"level\":\"overlay\",\"line_alpha\":{\"value\":1.0},\"line_color\":{\"value\":\"black\"},\"line_dash\":[4,4],\"line_width\":{\"value\":2},\"plot\":null,\"render_mode\":\"css\",\"right_units\":\"screen\",\"top_units\":\"screen\"},\"id\":\"104c55a4-438c-4219-8ea5-43d45c6d8de9\",\"type\":\"BoxAnnotation\"},{\"attributes\":{\"sizing_mode\":\"scale_width\",\"toolbar_location\":\"above\",\"tools\":[{\"id\":\"a234de93-eb2e-454d-a2d1-b6161372397c\",\"type\":\"BoxSelectTool\"},{\"id\":\"f19c30b2-1f4f-4afc-be9d-38624839f282\",\"type\":\"LassoSelectTool\"},{\"id\":\"4e21a907-35e5-4f40-a783-47d3928b3715\",\"type\":\"ResetTool\"},{\"id\":\"a5f7e058-e772-4839-abbd-e0c501b4d7aa\",\"type\":\"HelpTool\"},{\"id\":\"73be42bf-b625-421c-8d18-ae17f4f23ff3\",\"type\":\"BoxSelectTool\"},{\"id\":\"d602d42c-710a-4967-b125-359b6a5cdf78\",\"type\":\"LassoSelectTool\"},{\"id\":\"e7b2ae41-75f6-457e-b697-e32ef010c75e\",\"type\":\"ResetTool\"},{\"id\":\"8d2e4a61-b3f3-4e92-a1ee-21f8f23027d8\",\"type\":\"HelpTool\"}]},\"id\":\"e66759ca-b736-4b90-be9d-7d6fd4e47992\",\"type\":\"ToolbarBox\"},{\"attributes\":{\"plot\":null,\"text\":\"\"},\"id\":\"e85b01ec-fb17-4c23-9a0f-caccc8485ee5\",\"type\":\"Title\"},{\"attributes\":{},\"id\":\"99d716e3-c0ef-4166-a72f-82d24907e907\",\"type\":\"BasicTickFormatter\"},{\"attributes\":{\"callback\":null,\"column_names\":[\"xs\",\"y0\",\"y1\"],\"data\":{\"xs\":[-20,-19,-18,-17,-16,-15,-14,-13,-12,-11,-10,-9,-8,-7,-6,-5,-4,-3,-2,-1,0,1,2,3,4,5,6,7,8,9,10,11,12,13,14,15,16,17,18,19,20],\"y0\":[20,19,18,17,16,15,14,13,12,11,10,9,8,7,6,5,4,3,2,1,0,1,2,3,4,5,6,7,8,9,10,11,12,13,14,15,16,17,18,19,20],\"y1\":[400,361,324,289,256,225,196,169,144,121,100,81,64,49,36,25,16,9,4,1,0,1,4,9,16,25,36,49,64,81,100,121,144,169,196,225,256,289,324,361,400]}},\"id\":\"5d3f7f02-fefe-42ec-8066-5f428beba216\",\"type\":\"ColumnDataSource\"},{\"attributes\":{},\"id\":\"9ae72816-3664-40e8-a978-c9fd3c0c4132\",\"type\":\"BasicTicker\"},{\"attributes\":{\"active_drag\":\"auto\",\"active_scroll\":\"auto\",\"active_tap\":\"auto\",\"tools\":[{\"id\":\"a234de93-eb2e-454d-a2d1-b6161372397c\",\"type\":\"BoxSelectTool\"},{\"id\":\"f19c30b2-1f4f-4afc-be9d-38624839f282\",\"type\":\"LassoSelectTool\"},{\"id\":\"4e21a907-35e5-4f40-a783-47d3928b3715\",\"type\":\"ResetTool\"},{\"id\":\"a5f7e058-e772-4839-abbd-e0c501b4d7aa\",\"type\":\"HelpTool\"}]},\"id\":\"60079925-5484-4154-937b-3d5d2f4bcf90\",\"type\":\"Toolbar\"},{\"attributes\":{\"callback\":null},\"id\":\"d06a7989-121c-48e9-9e49-e6463c7c9eaf\",\"type\":\"DataRange1d\"},{\"attributes\":{},\"id\":\"a1acc577-8c2a-4393-b410-cc816c815bb6\",\"type\":\"ToolEvents\"},{\"attributes\":{\"plot\":{\"id\":\"d0c02bf7-d88b-4d89-863a-7032ce64d014\",\"subtype\":\"Figure\",\"type\":\"Plot\"},\"ticker\":{\"id\":\"ca60fad1-8fb4-4104-98cd-7f44593aad8d\",\"type\":\"BasicTicker\"}},\"id\":\"83da2108-f004-4357-b382-957bd2f6a28e\",\"type\":\"Grid\"},{\"attributes\":{\"fill_alpha\":{\"value\":0.1},\"fill_color\":{\"value\":\"#1f77b4\"},\"line_alpha\":{\"value\":0.1},\"line_color\":{\"value\":\"#1f77b4\"},\"size\":{\"units\":\"screen\",\"value\":10},\"x\":{\"field\":\"xs\"},\"y\":{\"field\":\"y0\"}},\"id\":\"ccbea611-3fb4-431a-a5f7-20739df585bf\",\"type\":\"Circle\"},{\"attributes\":{\"callback\":null},\"id\":\"3433d41d-42ef-450e-989f-fa2b05b710e2\",\"type\":\"DataRange1d\"},{\"attributes\":{\"formatter\":{\"id\":\"a576d45c-94e2-4209-ac5c-d12d5f6d6abe\",\"type\":\"BasicTickFormatter\"},\"plot\":{\"id\":\"d0c02bf7-d88b-4d89-863a-7032ce64d014\",\"subtype\":\"Figure\",\"type\":\"Plot\"},\"ticker\":{\"id\":\"ca60fad1-8fb4-4104-98cd-7f44593aad8d\",\"type\":\"BasicTicker\"}},\"id\":\"67b1329b-8476-4223-ac15-d9d029ce2724\",\"type\":\"LinearAxis\"},{\"attributes\":{\"children\":[{\"id\":\"d0c02bf7-d88b-4d89-863a-7032ce64d014\",\"subtype\":\"Figure\",\"type\":\"Plot\"},{\"id\":\"6378eb1e-6b13-4ce7-9940-0d8f813e66cb\",\"subtype\":\"Figure\",\"type\":\"Plot\"}]},\"id\":\"35780099-fdc8-4e75-87b3-9046f1c97431\",\"type\":\"Row\"},{\"attributes\":{},\"id\":\"ca60fad1-8fb4-4104-98cd-7f44593aad8d\",\"type\":\"BasicTicker\"}],\"root_ids\":[\"c2c2af4a-1053-4d87-b258-71943440f01f\"]},\"title\":\"Bokeh Application\",\"version\":\"0.12.4\"}};\n",
       "            var render_items = [{\"docid\":\"22c1b74a-1bf3-45da-8479-00dbd61a1f28\",\"elementid\":\"0228098f-4901-44e5-ae9b-c8d31e6c453b\",\"modelid\":\"c2c2af4a-1053-4d87-b258-71943440f01f\"}];\n",
       "            \n",
       "            Bokeh.embed.embed_items(docs_json, render_items);\n",
       "          };\n",
       "          if (document.readyState != \"loading\") fn();\n",
       "          else document.addEventListener(\"DOMContentLoaded\", fn);\n",
       "        })();\n",
       "      },\n",
       "      function(Bokeh) {\n",
       "      }\n",
       "    ];\n",
       "  \n",
       "    function run_inline_js() {\n",
       "      \n",
       "      if ((window.Bokeh !== undefined) || (force === true)) {\n",
       "        for (var i = 0; i < inline_js.length; i++) {\n",
       "          inline_js[i](window.Bokeh);\n",
       "        }if (force === true) {\n",
       "          display_loaded();\n",
       "        }} else if (Date.now() < window._bokeh_timeout) {\n",
       "        setTimeout(run_inline_js, 100);\n",
       "      } else if (!window._bokeh_failed_load) {\n",
       "        console.log(\"Bokeh: BokehJS failed to load within specified timeout.\");\n",
       "        window._bokeh_failed_load = true;\n",
       "      } else if (force !== true) {\n",
       "        var cell = $(document.getElementById(\"0228098f-4901-44e5-ae9b-c8d31e6c453b\")).parents('.cell').data().cell;\n",
       "        cell.output_area.append_execute_result(NB_LOAD_WARNING)\n",
       "      }\n",
       "  \n",
       "    }\n",
       "  \n",
       "    if (window._bokeh_is_loading === 0) {\n",
       "      console.log(\"Bokeh: BokehJS loaded, going straight to plotting\");\n",
       "      run_inline_js();\n",
       "    } else {\n",
       "      load_libs(js_urls, function() {\n",
       "        console.log(\"Bokeh: BokehJS plotting callback run at\", now());\n",
       "        run_inline_js();\n",
       "      });\n",
       "    }\n",
       "  }(this));\n",
       "</script>"
      ]
     },
     "metadata": {},
     "output_type": "display_data"
    }
   ],
   "source": [
    "p = gridplot([[left, right]])\n",
    "\n",
    "show(p)"
   ]
  },
  {
   "cell_type": "markdown",
   "metadata": {},
   "source": [
    "## Exercise 3.4: Linked Brushing\n",
    "\n",
    "Create two plots in a gridplot, and link their data sources"
   ]
  },
  {
   "cell_type": "code",
   "execution_count": null,
   "metadata": {
    "collapsed": true
   },
   "outputs": [],
   "source": [
    "# Exercise"
   ]
  },
  {
   "cell_type": "markdown",
   "metadata": {},
   "source": [
    "# Hover Tools\n",
    "\n",
    "Bokeh has a Hover Tool that allows additional information to be displayed in a popup whenever the uer howevers over a specific glyph. Basic hover tool configuration amounts to providing a list of ``(name, format)`` tuples. The full details can be found in the User's Guide [here](http://bokeh.pydata.org/en/latest/docs/user_guide/tools.html#hover-tool).\n",
    "\n",
    "The example below shows some basic usage of the Hover tool with a circle glyph, using hover information defined in utils.py:"
   ]
  },
  {
   "cell_type": "code",
   "execution_count": 37,
   "metadata": {
    "collapsed": true
   },
   "outputs": [],
   "source": [
    "from bokeh.models import HoverTool, ColumnDataSource\n",
    "from bokeh.plotting import figure, show, gridplot, output_notebook"
   ]
  },
  {
   "cell_type": "code",
   "execution_count": 38,
   "metadata": {
    "collapsed": false
   },
   "outputs": [
    {
     "data": {
      "text/html": [
       "\n",
       "    <div class=\"bk-root\">\n",
       "        <a href=\"http://bokeh.pydata.org\" target=\"_blank\" class=\"bk-logo bk-logo-small bk-logo-notebook\"></a>\n",
       "        <span id=\"b0e577b9-8ee6-4f1b-9e2f-464bdbcc9396\">Loading BokehJS ...</span>\n",
       "    </div>"
      ]
     },
     "metadata": {},
     "output_type": "display_data"
    },
    {
     "data": {
      "application/javascript": [
       "\n",
       "(function(global) {\n",
       "  function now() {\n",
       "    return new Date();\n",
       "  }\n",
       "\n",
       "  var force = true;\n",
       "\n",
       "  if (typeof (window._bokeh_onload_callbacks) === \"undefined\" || force === true) {\n",
       "    window._bokeh_onload_callbacks = [];\n",
       "    window._bokeh_is_loading = undefined;\n",
       "  }\n",
       "\n",
       "\n",
       "  \n",
       "  if (typeof (window._bokeh_timeout) === \"undefined\" || force === true) {\n",
       "    window._bokeh_timeout = Date.now() + 5000;\n",
       "    window._bokeh_failed_load = false;\n",
       "  }\n",
       "\n",
       "  var NB_LOAD_WARNING = {'data': {'text/html':\n",
       "     \"<div style='background-color: #fdd'>\\n\"+\n",
       "     \"<p>\\n\"+\n",
       "     \"BokehJS does not appear to have successfully loaded. If loading BokehJS from CDN, this \\n\"+\n",
       "     \"may be due to a slow or bad network connection. Possible fixes:\\n\"+\n",
       "     \"</p>\\n\"+\n",
       "     \"<ul>\\n\"+\n",
       "     \"<li>re-rerun `output_notebook()` to attempt to load from CDN again, or</li>\\n\"+\n",
       "     \"<li>use INLINE resources instead, as so:</li>\\n\"+\n",
       "     \"</ul>\\n\"+\n",
       "     \"<code>\\n\"+\n",
       "     \"from bokeh.resources import INLINE\\n\"+\n",
       "     \"output_notebook(resources=INLINE)\\n\"+\n",
       "     \"</code>\\n\"+\n",
       "     \"</div>\"}};\n",
       "\n",
       "  function display_loaded() {\n",
       "    if (window.Bokeh !== undefined) {\n",
       "      document.getElementById(\"b0e577b9-8ee6-4f1b-9e2f-464bdbcc9396\").textContent = \"BokehJS successfully loaded.\";\n",
       "    } else if (Date.now() < window._bokeh_timeout) {\n",
       "      setTimeout(display_loaded, 100)\n",
       "    }\n",
       "  }\n",
       "\n",
       "  function run_callbacks() {\n",
       "    window._bokeh_onload_callbacks.forEach(function(callback) { callback() });\n",
       "    delete window._bokeh_onload_callbacks\n",
       "    console.info(\"Bokeh: all callbacks have finished\");\n",
       "  }\n",
       "\n",
       "  function load_libs(js_urls, callback) {\n",
       "    window._bokeh_onload_callbacks.push(callback);\n",
       "    if (window._bokeh_is_loading > 0) {\n",
       "      console.log(\"Bokeh: BokehJS is being loaded, scheduling callback at\", now());\n",
       "      return null;\n",
       "    }\n",
       "    if (js_urls == null || js_urls.length === 0) {\n",
       "      run_callbacks();\n",
       "      return null;\n",
       "    }\n",
       "    console.log(\"Bokeh: BokehJS not loaded, scheduling load and callback at\", now());\n",
       "    window._bokeh_is_loading = js_urls.length;\n",
       "    for (var i = 0; i < js_urls.length; i++) {\n",
       "      var url = js_urls[i];\n",
       "      var s = document.createElement('script');\n",
       "      s.src = url;\n",
       "      s.async = false;\n",
       "      s.onreadystatechange = s.onload = function() {\n",
       "        window._bokeh_is_loading--;\n",
       "        if (window._bokeh_is_loading === 0) {\n",
       "          console.log(\"Bokeh: all BokehJS libraries loaded\");\n",
       "          run_callbacks()\n",
       "        }\n",
       "      };\n",
       "      s.onerror = function() {\n",
       "        console.warn(\"failed to load library \" + url);\n",
       "      };\n",
       "      console.log(\"Bokeh: injecting script tag for BokehJS library: \", url);\n",
       "      document.getElementsByTagName(\"head\")[0].appendChild(s);\n",
       "    }\n",
       "  };var element = document.getElementById(\"b0e577b9-8ee6-4f1b-9e2f-464bdbcc9396\");\n",
       "  if (element == null) {\n",
       "    console.log(\"Bokeh: ERROR: autoload.js configured with elementid 'b0e577b9-8ee6-4f1b-9e2f-464bdbcc9396' but no matching script tag was found. \")\n",
       "    return false;\n",
       "  }\n",
       "\n",
       "  var js_urls = [\"https://cdn.pydata.org/bokeh/release/bokeh-0.12.4.min.js\", \"https://cdn.pydata.org/bokeh/release/bokeh-widgets-0.12.4.min.js\"];\n",
       "\n",
       "  var inline_js = [\n",
       "    function(Bokeh) {\n",
       "      Bokeh.set_log_level(\"info\");\n",
       "    },\n",
       "    \n",
       "    function(Bokeh) {\n",
       "      \n",
       "      document.getElementById(\"b0e577b9-8ee6-4f1b-9e2f-464bdbcc9396\").textContent = \"BokehJS is loading...\";\n",
       "    },\n",
       "    function(Bokeh) {\n",
       "      console.log(\"Bokeh: injecting CSS: https://cdn.pydata.org/bokeh/release/bokeh-0.12.4.min.css\");\n",
       "      Bokeh.embed.inject_css(\"https://cdn.pydata.org/bokeh/release/bokeh-0.12.4.min.css\");\n",
       "      console.log(\"Bokeh: injecting CSS: https://cdn.pydata.org/bokeh/release/bokeh-widgets-0.12.4.min.css\");\n",
       "      Bokeh.embed.inject_css(\"https://cdn.pydata.org/bokeh/release/bokeh-widgets-0.12.4.min.css\");\n",
       "    }\n",
       "  ];\n",
       "\n",
       "  function run_inline_js() {\n",
       "    \n",
       "    if ((window.Bokeh !== undefined) || (force === true)) {\n",
       "      for (var i = 0; i < inline_js.length; i++) {\n",
       "        inline_js[i](window.Bokeh);\n",
       "      }if (force === true) {\n",
       "        display_loaded();\n",
       "      }} else if (Date.now() < window._bokeh_timeout) {\n",
       "      setTimeout(run_inline_js, 100);\n",
       "    } else if (!window._bokeh_failed_load) {\n",
       "      console.log(\"Bokeh: BokehJS failed to load within specified timeout.\");\n",
       "      window._bokeh_failed_load = true;\n",
       "    } else if (force !== true) {\n",
       "      var cell = $(document.getElementById(\"b0e577b9-8ee6-4f1b-9e2f-464bdbcc9396\")).parents('.cell').data().cell;\n",
       "      cell.output_area.append_execute_result(NB_LOAD_WARNING)\n",
       "    }\n",
       "\n",
       "  }\n",
       "\n",
       "  if (window._bokeh_is_loading === 0) {\n",
       "    console.log(\"Bokeh: BokehJS loaded, going straight to plotting\");\n",
       "    run_inline_js();\n",
       "  } else {\n",
       "    load_libs(js_urls, function() {\n",
       "      console.log(\"Bokeh: BokehJS plotting callback run at\", now());\n",
       "      run_inline_js();\n",
       "    });\n",
       "  }\n",
       "}(this));"
      ]
     },
     "metadata": {},
     "output_type": "display_data"
    }
   ],
   "source": [
    "output_notebook()"
   ]
  },
  {
   "cell_type": "code",
   "execution_count": 47,
   "metadata": {
    "collapsed": false
   },
   "outputs": [],
   "source": [
    "source = ColumnDataSource(\n",
    "        data=dict(\n",
    "            xs=[1, 5, 7, 8, 12],\n",
    "            ys=[2, 5, 8, 2, 7],\n",
    "            desc=['A', 'b', 'C', 'd', 'E'],\n",
    "        )\n",
    "    )"
   ]
  },
  {
   "cell_type": "code",
   "execution_count": 48,
   "metadata": {
    "collapsed": true
   },
   "outputs": [],
   "source": [
    "hover = HoverTool(\n",
    "        tooltips=[\n",
    "            (\"index\", \"$index\"),\n",
    "            (\"desc\",  \"@desc\"),\n",
    "        ]\n",
    "    )"
   ]
  },
  {
   "cell_type": "code",
   "execution_count": 49,
   "metadata": {
    "collapsed": false
   },
   "outputs": [],
   "source": [
    "p = figure(plot_width=600, plot_height=300, tools=[hover],\n",
    "           title=\"Mouse over the dots\")"
   ]
  },
  {
   "cell_type": "code",
   "execution_count": 50,
   "metadata": {
    "collapsed": false
   },
   "outputs": [
    {
     "data": {
      "text/html": [
       "<div style=\"display: table;\"><div style=\"display: table-row;\"><div style=\"display: table-cell;\"><b title=\"bokeh.models.renderers.GlyphRenderer\">GlyphRenderer</b>(</div><div style=\"display: table-cell;\">id&nbsp;=&nbsp;'e458eb7f-c755-45bf-8184-0ca9d6fdc0f3', <span id=\"81f4bf22-4a32-4935-95ac-1cb7577c96f2\" style=\"cursor: pointer;\">&hellip;)</span></div></div><div class=\"8a796082-311a-4150-b210-0392f72ba29c\" style=\"display: none;\"><div style=\"display: table-cell;\"></div><div style=\"display: table-cell;\">data_source&nbsp;=&nbsp;ColumnDataSource(id='e73a2ac0-40d4-489e-bd5a-28be65d8b366', ...),</div></div><div class=\"8a796082-311a-4150-b210-0392f72ba29c\" style=\"display: none;\"><div style=\"display: table-cell;\"></div><div style=\"display: table-cell;\">glyph&nbsp;=&nbsp;Circle(id='309d92c1-348d-4267-9b0b-f223c719957a', ...),</div></div><div class=\"8a796082-311a-4150-b210-0392f72ba29c\" style=\"display: none;\"><div style=\"display: table-cell;\"></div><div style=\"display: table-cell;\">hover_glyph&nbsp;=&nbsp;None,</div></div><div class=\"8a796082-311a-4150-b210-0392f72ba29c\" style=\"display: none;\"><div style=\"display: table-cell;\"></div><div style=\"display: table-cell;\">js_callbacks&nbsp;=&nbsp;{},</div></div><div class=\"8a796082-311a-4150-b210-0392f72ba29c\" style=\"display: none;\"><div style=\"display: table-cell;\"></div><div style=\"display: table-cell;\">level&nbsp;=&nbsp;'glyph',</div></div><div class=\"8a796082-311a-4150-b210-0392f72ba29c\" style=\"display: none;\"><div style=\"display: table-cell;\"></div><div style=\"display: table-cell;\">name&nbsp;=&nbsp;None,</div></div><div class=\"8a796082-311a-4150-b210-0392f72ba29c\" style=\"display: none;\"><div style=\"display: table-cell;\"></div><div style=\"display: table-cell;\">nonselection_glyph&nbsp;=&nbsp;Circle(id='dbee2bd8-523d-4226-9532-601c2401a414', ...),</div></div><div class=\"8a796082-311a-4150-b210-0392f72ba29c\" style=\"display: none;\"><div style=\"display: table-cell;\"></div><div style=\"display: table-cell;\">selection_glyph&nbsp;=&nbsp;None,</div></div><div class=\"8a796082-311a-4150-b210-0392f72ba29c\" style=\"display: none;\"><div style=\"display: table-cell;\"></div><div style=\"display: table-cell;\">tags&nbsp;=&nbsp;[],</div></div><div class=\"8a796082-311a-4150-b210-0392f72ba29c\" style=\"display: none;\"><div style=\"display: table-cell;\"></div><div style=\"display: table-cell;\">visible&nbsp;=&nbsp;True,</div></div><div class=\"8a796082-311a-4150-b210-0392f72ba29c\" style=\"display: none;\"><div style=\"display: table-cell;\"></div><div style=\"display: table-cell;\">x_range_name&nbsp;=&nbsp;'default',</div></div><div class=\"8a796082-311a-4150-b210-0392f72ba29c\" style=\"display: none;\"><div style=\"display: table-cell;\"></div><div style=\"display: table-cell;\">y_range_name&nbsp;=&nbsp;'default')</div></div></div>\n",
       "<script>\n",
       "(function() {\n",
       "  var expanded = false;\n",
       "  var ellipsis = document.getElementById(\"81f4bf22-4a32-4935-95ac-1cb7577c96f2\");\n",
       "  ellipsis.addEventListener(\"click\", function() {\n",
       "    var rows = document.getElementsByClassName(\"8a796082-311a-4150-b210-0392f72ba29c\");\n",
       "    for (var i = 0; i < rows.length; i++) {\n",
       "      var el = rows[i];\n",
       "      el.style.display = expanded ? \"none\" : \"table-row\";\n",
       "    }\n",
       "    ellipsis.innerHTML = expanded ? \"&hellip;)\" : \"&lsaquo;&lsaquo;&lsaquo;\";\n",
       "    expanded = !expanded;\n",
       "  });\n",
       "})();\n",
       "</script>\n"
      ],
      "text/plain": [
       "GlyphRenderer(id='e458eb7f-c755-45bf-8184-0ca9d6fdc0f3', ...)"
      ]
     },
     "execution_count": 50,
     "metadata": {},
     "output_type": "execute_result"
    }
   ],
   "source": [
    "p.circle('xs', 'ys', size=20, source=source)"
   ]
  },
  {
   "cell_type": "code",
   "execution_count": 51,
   "metadata": {
    "collapsed": false
   },
   "outputs": [
    {
     "data": {
      "text/html": [
       "\n",
       "\n",
       "    <div class=\"bk-root\">\n",
       "        <div class=\"bk-plotdiv\" id=\"068476ce-437c-4f3b-b280-1c20872566a5\"></div>\n",
       "    </div>\n",
       "<script type=\"text/javascript\">\n",
       "  \n",
       "  (function(global) {\n",
       "    function now() {\n",
       "      return new Date();\n",
       "    }\n",
       "  \n",
       "    var force = false;\n",
       "  \n",
       "    if (typeof (window._bokeh_onload_callbacks) === \"undefined\" || force === true) {\n",
       "      window._bokeh_onload_callbacks = [];\n",
       "      window._bokeh_is_loading = undefined;\n",
       "    }\n",
       "  \n",
       "  \n",
       "    \n",
       "    if (typeof (window._bokeh_timeout) === \"undefined\" || force === true) {\n",
       "      window._bokeh_timeout = Date.now() + 0;\n",
       "      window._bokeh_failed_load = false;\n",
       "    }\n",
       "  \n",
       "    var NB_LOAD_WARNING = {'data': {'text/html':\n",
       "       \"<div style='background-color: #fdd'>\\n\"+\n",
       "       \"<p>\\n\"+\n",
       "       \"BokehJS does not appear to have successfully loaded. If loading BokehJS from CDN, this \\n\"+\n",
       "       \"may be due to a slow or bad network connection. Possible fixes:\\n\"+\n",
       "       \"</p>\\n\"+\n",
       "       \"<ul>\\n\"+\n",
       "       \"<li>re-rerun `output_notebook()` to attempt to load from CDN again, or</li>\\n\"+\n",
       "       \"<li>use INLINE resources instead, as so:</li>\\n\"+\n",
       "       \"</ul>\\n\"+\n",
       "       \"<code>\\n\"+\n",
       "       \"from bokeh.resources import INLINE\\n\"+\n",
       "       \"output_notebook(resources=INLINE)\\n\"+\n",
       "       \"</code>\\n\"+\n",
       "       \"</div>\"}};\n",
       "  \n",
       "    function display_loaded() {\n",
       "      if (window.Bokeh !== undefined) {\n",
       "        document.getElementById(\"068476ce-437c-4f3b-b280-1c20872566a5\").textContent = \"BokehJS successfully loaded.\";\n",
       "      } else if (Date.now() < window._bokeh_timeout) {\n",
       "        setTimeout(display_loaded, 100)\n",
       "      }\n",
       "    }\n",
       "  \n",
       "    function run_callbacks() {\n",
       "      window._bokeh_onload_callbacks.forEach(function(callback) { callback() });\n",
       "      delete window._bokeh_onload_callbacks\n",
       "      console.info(\"Bokeh: all callbacks have finished\");\n",
       "    }\n",
       "  \n",
       "    function load_libs(js_urls, callback) {\n",
       "      window._bokeh_onload_callbacks.push(callback);\n",
       "      if (window._bokeh_is_loading > 0) {\n",
       "        console.log(\"Bokeh: BokehJS is being loaded, scheduling callback at\", now());\n",
       "        return null;\n",
       "      }\n",
       "      if (js_urls == null || js_urls.length === 0) {\n",
       "        run_callbacks();\n",
       "        return null;\n",
       "      }\n",
       "      console.log(\"Bokeh: BokehJS not loaded, scheduling load and callback at\", now());\n",
       "      window._bokeh_is_loading = js_urls.length;\n",
       "      for (var i = 0; i < js_urls.length; i++) {\n",
       "        var url = js_urls[i];\n",
       "        var s = document.createElement('script');\n",
       "        s.src = url;\n",
       "        s.async = false;\n",
       "        s.onreadystatechange = s.onload = function() {\n",
       "          window._bokeh_is_loading--;\n",
       "          if (window._bokeh_is_loading === 0) {\n",
       "            console.log(\"Bokeh: all BokehJS libraries loaded\");\n",
       "            run_callbacks()\n",
       "          }\n",
       "        };\n",
       "        s.onerror = function() {\n",
       "          console.warn(\"failed to load library \" + url);\n",
       "        };\n",
       "        console.log(\"Bokeh: injecting script tag for BokehJS library: \", url);\n",
       "        document.getElementsByTagName(\"head\")[0].appendChild(s);\n",
       "      }\n",
       "    };var element = document.getElementById(\"068476ce-437c-4f3b-b280-1c20872566a5\");\n",
       "    if (element == null) {\n",
       "      console.log(\"Bokeh: ERROR: autoload.js configured with elementid '068476ce-437c-4f3b-b280-1c20872566a5' but no matching script tag was found. \")\n",
       "      return false;\n",
       "    }\n",
       "  \n",
       "    var js_urls = [];\n",
       "  \n",
       "    var inline_js = [\n",
       "      function(Bokeh) {\n",
       "        (function() {\n",
       "          var fn = function() {\n",
       "            var docs_json = {\"3eaf0894-0954-4e5b-8d35-716a337de207\":{\"roots\":{\"references\":[{\"attributes\":{},\"id\":\"dd1190ae-1752-4ffa-bc98-dec6f44b404b\",\"type\":\"BasicTicker\"},{\"attributes\":{\"callback\":null},\"id\":\"5a0142c0-18df-4890-8468-1867373ce378\",\"type\":\"DataRange1d\"},{\"attributes\":{\"plot\":{\"id\":\"1244ada5-4585-4fd2-9b70-396dc468c78c\",\"subtype\":\"Figure\",\"type\":\"Plot\"},\"ticker\":{\"id\":\"dd1190ae-1752-4ffa-bc98-dec6f44b404b\",\"type\":\"BasicTicker\"}},\"id\":\"30ebb36f-2f88-4d1a-9190-9de2c4c9aa5b\",\"type\":\"Grid\"},{\"attributes\":{\"formatter\":{\"id\":\"fff4912f-4e6c-4d0b-b305-282b68dfbbd8\",\"type\":\"BasicTickFormatter\"},\"plot\":{\"id\":\"1244ada5-4585-4fd2-9b70-396dc468c78c\",\"subtype\":\"Figure\",\"type\":\"Plot\"},\"ticker\":{\"id\":\"7725639c-7bbf-459d-a21b-227682926142\",\"type\":\"BasicTicker\"}},\"id\":\"87b4543d-f9d1-4212-ab6d-a814d6ab1db4\",\"type\":\"LinearAxis\"},{\"attributes\":{},\"id\":\"7725639c-7bbf-459d-a21b-227682926142\",\"type\":\"BasicTicker\"},{\"attributes\":{\"dimension\":1,\"plot\":{\"id\":\"1244ada5-4585-4fd2-9b70-396dc468c78c\",\"subtype\":\"Figure\",\"type\":\"Plot\"},\"ticker\":{\"id\":\"7725639c-7bbf-459d-a21b-227682926142\",\"type\":\"BasicTicker\"}},\"id\":\"e704e3c5-78cd-4116-8558-eec274596873\",\"type\":\"Grid\"},{\"attributes\":{\"fill_alpha\":{\"value\":0.1},\"fill_color\":{\"value\":\"#1f77b4\"},\"line_alpha\":{\"value\":0.1},\"line_color\":{\"value\":\"#1f77b4\"},\"size\":{\"units\":\"screen\",\"value\":20},\"x\":{\"field\":\"xs\"},\"y\":{\"field\":\"ys\"}},\"id\":\"dbee2bd8-523d-4226-9532-601c2401a414\",\"type\":\"Circle\"},{\"attributes\":{\"formatter\":{\"id\":\"290fda3b-9a56-4bfe-938e-c768633ce8a2\",\"type\":\"BasicTickFormatter\"},\"plot\":{\"id\":\"1244ada5-4585-4fd2-9b70-396dc468c78c\",\"subtype\":\"Figure\",\"type\":\"Plot\"},\"ticker\":{\"id\":\"dd1190ae-1752-4ffa-bc98-dec6f44b404b\",\"type\":\"BasicTicker\"}},\"id\":\"3c5ba119-f43f-43ac-837a-fc47ebdc5a11\",\"type\":\"LinearAxis\"},{\"attributes\":{\"data_source\":{\"id\":\"e73a2ac0-40d4-489e-bd5a-28be65d8b366\",\"type\":\"ColumnDataSource\"},\"glyph\":{\"id\":\"309d92c1-348d-4267-9b0b-f223c719957a\",\"type\":\"Circle\"},\"hover_glyph\":null,\"nonselection_glyph\":{\"id\":\"dbee2bd8-523d-4226-9532-601c2401a414\",\"type\":\"Circle\"},\"selection_glyph\":null},\"id\":\"e458eb7f-c755-45bf-8184-0ca9d6fdc0f3\",\"type\":\"GlyphRenderer\"},{\"attributes\":{\"active_drag\":\"auto\",\"active_scroll\":\"auto\",\"active_tap\":\"auto\",\"tools\":[{\"id\":\"70900a72-4723-4ed3-91c2-486cd7fd7edf\",\"type\":\"HoverTool\"}]},\"id\":\"14e3395b-79b5-4eea-98f7-b613e3fb7a6e\",\"type\":\"Toolbar\"},{\"attributes\":{},\"id\":\"fff4912f-4e6c-4d0b-b305-282b68dfbbd8\",\"type\":\"BasicTickFormatter\"},{\"attributes\":{},\"id\":\"290fda3b-9a56-4bfe-938e-c768633ce8a2\",\"type\":\"BasicTickFormatter\"},{\"attributes\":{\"callback\":null},\"id\":\"f5eb7316-d70a-4190-9b1a-19d910cd8ac7\",\"type\":\"DataRange1d\"},{\"attributes\":{\"below\":[{\"id\":\"3c5ba119-f43f-43ac-837a-fc47ebdc5a11\",\"type\":\"LinearAxis\"}],\"left\":[{\"id\":\"87b4543d-f9d1-4212-ab6d-a814d6ab1db4\",\"type\":\"LinearAxis\"}],\"plot_height\":300,\"renderers\":[{\"id\":\"3c5ba119-f43f-43ac-837a-fc47ebdc5a11\",\"type\":\"LinearAxis\"},{\"id\":\"30ebb36f-2f88-4d1a-9190-9de2c4c9aa5b\",\"type\":\"Grid\"},{\"id\":\"87b4543d-f9d1-4212-ab6d-a814d6ab1db4\",\"type\":\"LinearAxis\"},{\"id\":\"e704e3c5-78cd-4116-8558-eec274596873\",\"type\":\"Grid\"},{\"id\":\"e458eb7f-c755-45bf-8184-0ca9d6fdc0f3\",\"type\":\"GlyphRenderer\"}],\"title\":{\"id\":\"2d32223e-e121-4d1c-8aa9-bce6284aa61e\",\"type\":\"Title\"},\"tool_events\":{\"id\":\"bd15db55-e4d0-44df-9547-86e1deff9f06\",\"type\":\"ToolEvents\"},\"toolbar\":{\"id\":\"14e3395b-79b5-4eea-98f7-b613e3fb7a6e\",\"type\":\"Toolbar\"},\"x_range\":{\"id\":\"f5eb7316-d70a-4190-9b1a-19d910cd8ac7\",\"type\":\"DataRange1d\"},\"y_range\":{\"id\":\"5a0142c0-18df-4890-8468-1867373ce378\",\"type\":\"DataRange1d\"}},\"id\":\"1244ada5-4585-4fd2-9b70-396dc468c78c\",\"subtype\":\"Figure\",\"type\":\"Plot\"},{\"attributes\":{\"fill_color\":{\"value\":\"#1f77b4\"},\"line_color\":{\"value\":\"#1f77b4\"},\"size\":{\"units\":\"screen\",\"value\":20},\"x\":{\"field\":\"xs\"},\"y\":{\"field\":\"ys\"}},\"id\":\"309d92c1-348d-4267-9b0b-f223c719957a\",\"type\":\"Circle\"},{\"attributes\":{\"callback\":null,\"plot\":{\"id\":\"1244ada5-4585-4fd2-9b70-396dc468c78c\",\"subtype\":\"Figure\",\"type\":\"Plot\"},\"tooltips\":[[\"index\",\"$index\"],[\"desc\",\"@desc\"]]},\"id\":\"70900a72-4723-4ed3-91c2-486cd7fd7edf\",\"type\":\"HoverTool\"},{\"attributes\":{\"plot\":null,\"text\":\"Mouse over the dots\"},\"id\":\"2d32223e-e121-4d1c-8aa9-bce6284aa61e\",\"type\":\"Title\"},{\"attributes\":{},\"id\":\"bd15db55-e4d0-44df-9547-86e1deff9f06\",\"type\":\"ToolEvents\"},{\"attributes\":{\"callback\":null,\"column_names\":[\"xs\",\"ys\",\"desc\"],\"data\":{\"desc\":[\"A\",\"b\",\"C\",\"d\",\"E\"],\"xs\":[1,5,7,8,12],\"ys\":[2,5,8,2,7]}},\"id\":\"e73a2ac0-40d4-489e-bd5a-28be65d8b366\",\"type\":\"ColumnDataSource\"}],\"root_ids\":[\"1244ada5-4585-4fd2-9b70-396dc468c78c\"]},\"title\":\"Bokeh Application\",\"version\":\"0.12.4\"}};\n",
       "            var render_items = [{\"docid\":\"3eaf0894-0954-4e5b-8d35-716a337de207\",\"elementid\":\"068476ce-437c-4f3b-b280-1c20872566a5\",\"modelid\":\"1244ada5-4585-4fd2-9b70-396dc468c78c\"}];\n",
       "            \n",
       "            Bokeh.embed.embed_items(docs_json, render_items);\n",
       "          };\n",
       "          if (document.readyState != \"loading\") fn();\n",
       "          else document.addEventListener(\"DOMContentLoaded\", fn);\n",
       "        })();\n",
       "      },\n",
       "      function(Bokeh) {\n",
       "      }\n",
       "    ];\n",
       "  \n",
       "    function run_inline_js() {\n",
       "      \n",
       "      if ((window.Bokeh !== undefined) || (force === true)) {\n",
       "        for (var i = 0; i < inline_js.length; i++) {\n",
       "          inline_js[i](window.Bokeh);\n",
       "        }if (force === true) {\n",
       "          display_loaded();\n",
       "        }} else if (Date.now() < window._bokeh_timeout) {\n",
       "        setTimeout(run_inline_js, 100);\n",
       "      } else if (!window._bokeh_failed_load) {\n",
       "        console.log(\"Bokeh: BokehJS failed to load within specified timeout.\");\n",
       "        window._bokeh_failed_load = true;\n",
       "      } else if (force !== true) {\n",
       "        var cell = $(document.getElementById(\"068476ce-437c-4f3b-b280-1c20872566a5\")).parents('.cell').data().cell;\n",
       "        cell.output_area.append_execute_result(NB_LOAD_WARNING)\n",
       "      }\n",
       "  \n",
       "    }\n",
       "  \n",
       "    if (window._bokeh_is_loading === 0) {\n",
       "      console.log(\"Bokeh: BokehJS loaded, going straight to plotting\");\n",
       "      run_inline_js();\n",
       "    } else {\n",
       "      load_libs(js_urls, function() {\n",
       "        console.log(\"Bokeh: BokehJS plotting callback run at\", now());\n",
       "        run_inline_js();\n",
       "      });\n",
       "    }\n",
       "  }(this));\n",
       "</script>"
      ]
     },
     "metadata": {},
     "output_type": "display_data"
    }
   ],
   "source": [
    "show(p)"
   ]
  },
  {
   "cell_type": "code",
   "execution_count": 52,
   "metadata": {
    "collapsed": false
   },
   "outputs": [
    {
     "data": {
      "text/html": [
       "\n",
       "\n",
       "    <div class=\"bk-root\">\n",
       "        <div class=\"bk-plotdiv\" id=\"07639d34-1187-4970-a0a5-c2ac980f4774\"></div>\n",
       "    </div>\n",
       "<script type=\"text/javascript\">\n",
       "  \n",
       "  (function(global) {\n",
       "    function now() {\n",
       "      return new Date();\n",
       "    }\n",
       "  \n",
       "    var force = false;\n",
       "  \n",
       "    if (typeof (window._bokeh_onload_callbacks) === \"undefined\" || force === true) {\n",
       "      window._bokeh_onload_callbacks = [];\n",
       "      window._bokeh_is_loading = undefined;\n",
       "    }\n",
       "  \n",
       "  \n",
       "    \n",
       "    if (typeof (window._bokeh_timeout) === \"undefined\" || force === true) {\n",
       "      window._bokeh_timeout = Date.now() + 0;\n",
       "      window._bokeh_failed_load = false;\n",
       "    }\n",
       "  \n",
       "    var NB_LOAD_WARNING = {'data': {'text/html':\n",
       "       \"<div style='background-color: #fdd'>\\n\"+\n",
       "       \"<p>\\n\"+\n",
       "       \"BokehJS does not appear to have successfully loaded. If loading BokehJS from CDN, this \\n\"+\n",
       "       \"may be due to a slow or bad network connection. Possible fixes:\\n\"+\n",
       "       \"</p>\\n\"+\n",
       "       \"<ul>\\n\"+\n",
       "       \"<li>re-rerun `output_notebook()` to attempt to load from CDN again, or</li>\\n\"+\n",
       "       \"<li>use INLINE resources instead, as so:</li>\\n\"+\n",
       "       \"</ul>\\n\"+\n",
       "       \"<code>\\n\"+\n",
       "       \"from bokeh.resources import INLINE\\n\"+\n",
       "       \"output_notebook(resources=INLINE)\\n\"+\n",
       "       \"</code>\\n\"+\n",
       "       \"</div>\"}};\n",
       "  \n",
       "    function display_loaded() {\n",
       "      if (window.Bokeh !== undefined) {\n",
       "        document.getElementById(\"07639d34-1187-4970-a0a5-c2ac980f4774\").textContent = \"BokehJS successfully loaded.\";\n",
       "      } else if (Date.now() < window._bokeh_timeout) {\n",
       "        setTimeout(display_loaded, 100)\n",
       "      }\n",
       "    }\n",
       "  \n",
       "    function run_callbacks() {\n",
       "      window._bokeh_onload_callbacks.forEach(function(callback) { callback() });\n",
       "      delete window._bokeh_onload_callbacks\n",
       "      console.info(\"Bokeh: all callbacks have finished\");\n",
       "    }\n",
       "  \n",
       "    function load_libs(js_urls, callback) {\n",
       "      window._bokeh_onload_callbacks.push(callback);\n",
       "      if (window._bokeh_is_loading > 0) {\n",
       "        console.log(\"Bokeh: BokehJS is being loaded, scheduling callback at\", now());\n",
       "        return null;\n",
       "      }\n",
       "      if (js_urls == null || js_urls.length === 0) {\n",
       "        run_callbacks();\n",
       "        return null;\n",
       "      }\n",
       "      console.log(\"Bokeh: BokehJS not loaded, scheduling load and callback at\", now());\n",
       "      window._bokeh_is_loading = js_urls.length;\n",
       "      for (var i = 0; i < js_urls.length; i++) {\n",
       "        var url = js_urls[i];\n",
       "        var s = document.createElement('script');\n",
       "        s.src = url;\n",
       "        s.async = false;\n",
       "        s.onreadystatechange = s.onload = function() {\n",
       "          window._bokeh_is_loading--;\n",
       "          if (window._bokeh_is_loading === 0) {\n",
       "            console.log(\"Bokeh: all BokehJS libraries loaded\");\n",
       "            run_callbacks()\n",
       "          }\n",
       "        };\n",
       "        s.onerror = function() {\n",
       "          console.warn(\"failed to load library \" + url);\n",
       "        };\n",
       "        console.log(\"Bokeh: injecting script tag for BokehJS library: \", url);\n",
       "        document.getElementsByTagName(\"head\")[0].appendChild(s);\n",
       "      }\n",
       "    };var element = document.getElementById(\"07639d34-1187-4970-a0a5-c2ac980f4774\");\n",
       "    if (element == null) {\n",
       "      console.log(\"Bokeh: ERROR: autoload.js configured with elementid '07639d34-1187-4970-a0a5-c2ac980f4774' but no matching script tag was found. \")\n",
       "      return false;\n",
       "    }\n",
       "  \n",
       "    var js_urls = [];\n",
       "  \n",
       "    var inline_js = [\n",
       "      function(Bokeh) {\n",
       "        (function() {\n",
       "          var fn = function() {\n",
       "            var docs_json = {\"52c1323d-00da-464e-b2ee-f86d81bc10f6\":{\"roots\":{\"references\":[{\"attributes\":{\"sizing_mode\":\"scale_width\",\"toolbar_location\":\"above\",\"tools\":[{\"id\":\"70900a72-4723-4ed3-91c2-486cd7fd7edf\",\"type\":\"HoverTool\"},{\"id\":\"77adc524-ff15-49af-a238-e62c17553555\",\"type\":\"HoverTool\"}]},\"id\":\"e6b2be0d-bc5e-4071-8d59-38b14ca4614f\",\"type\":\"ToolbarBox\"},{\"attributes\":{\"data_source\":{\"id\":\"137c8e1e-8f62-4af7-9e38-1d49c8fbabc9\",\"type\":\"ColumnDataSource\"},\"glyph\":{\"id\":\"1196024d-a357-468a-8536-85d782623499\",\"type\":\"Circle\"},\"hover_glyph\":null,\"nonselection_glyph\":{\"id\":\"ea51c99c-fe6d-4905-99f9-4a4f858644fe\",\"type\":\"Circle\"},\"selection_glyph\":null},\"id\":\"16996f3b-a6c4-4d33-a0b7-fa7a900e3cf0\",\"type\":\"GlyphRenderer\"},{\"attributes\":{},\"id\":\"a5feb026-e785-4c9f-b6f5-f008685b69d2\",\"type\":\"BasicTickFormatter\"},{\"attributes\":{},\"id\":\"1835e90c-7744-4399-961d-f5f01fc1253a\",\"type\":\"BasicTickFormatter\"},{\"attributes\":{\"children\":[{\"id\":\"1244ada5-4585-4fd2-9b70-396dc468c78c\",\"subtype\":\"Figure\",\"type\":\"Plot\"},{\"id\":\"709a4695-8098-4463-8483-fa506b85da1f\",\"subtype\":\"Figure\",\"type\":\"Plot\"}]},\"id\":\"fde44530-1d69-4ae2-92af-32cdd5e4c36d\",\"type\":\"Row\"},{\"attributes\":{\"formatter\":{\"id\":\"290fda3b-9a56-4bfe-938e-c768633ce8a2\",\"type\":\"BasicTickFormatter\"},\"plot\":{\"id\":\"1244ada5-4585-4fd2-9b70-396dc468c78c\",\"subtype\":\"Figure\",\"type\":\"Plot\"},\"ticker\":{\"id\":\"dd1190ae-1752-4ffa-bc98-dec6f44b404b\",\"type\":\"BasicTicker\"}},\"id\":\"3c5ba119-f43f-43ac-837a-fc47ebdc5a11\",\"type\":\"LinearAxis\"},{\"attributes\":{\"fill_alpha\":{\"value\":0.1},\"fill_color\":{\"value\":\"#1f77b4\"},\"line_alpha\":{\"value\":0.1},\"line_color\":{\"value\":\"#1f77b4\"},\"size\":{\"units\":\"screen\",\"value\":20},\"x\":{\"field\":\"x\"},\"y\":{\"field\":\"y\"}},\"id\":\"ea51c99c-fe6d-4905-99f9-4a4f858644fe\",\"type\":\"Circle\"},{\"attributes\":{\"dimension\":1,\"plot\":{\"id\":\"709a4695-8098-4463-8483-fa506b85da1f\",\"subtype\":\"Figure\",\"type\":\"Plot\"},\"ticker\":{\"id\":\"586f36b6-5990-4a0e-bd20-94c36ff523d2\",\"type\":\"BasicTicker\"}},\"id\":\"92432165-631d-4303-87fb-4ebcf5db86f7\",\"type\":\"Grid\"},{\"attributes\":{\"active_drag\":\"auto\",\"active_scroll\":\"auto\",\"active_tap\":\"auto\",\"tools\":[{\"id\":\"70900a72-4723-4ed3-91c2-486cd7fd7edf\",\"type\":\"HoverTool\"}]},\"id\":\"14e3395b-79b5-4eea-98f7-b613e3fb7a6e\",\"type\":\"Toolbar\"},{\"attributes\":{\"below\":[{\"id\":\"c919d791-faa0-433e-b02f-828055d08b56\",\"type\":\"LinearAxis\"}],\"left\":[{\"id\":\"e367f79e-1a51-47d9-8ecc-3c27d5679598\",\"type\":\"LinearAxis\"}],\"plot_height\":300,\"plot_width\":300,\"renderers\":[{\"id\":\"c919d791-faa0-433e-b02f-828055d08b56\",\"type\":\"LinearAxis\"},{\"id\":\"3ce024ca-ac53-4641-8ceb-ee3639918be0\",\"type\":\"Grid\"},{\"id\":\"e367f79e-1a51-47d9-8ecc-3c27d5679598\",\"type\":\"LinearAxis\"},{\"id\":\"92432165-631d-4303-87fb-4ebcf5db86f7\",\"type\":\"Grid\"},{\"id\":\"16996f3b-a6c4-4d33-a0b7-fa7a900e3cf0\",\"type\":\"GlyphRenderer\"}],\"title\":{\"id\":\"52df7a30-8b35-414b-aed9-7d3c23999010\",\"type\":\"Title\"},\"tool_events\":{\"id\":\"a3460d49-9594-486c-9fb8-379404dffb49\",\"type\":\"ToolEvents\"},\"toolbar\":{\"id\":\"009f3452-7759-4db9-b43e-f67ec214342e\",\"type\":\"Toolbar\"},\"toolbar_location\":null,\"x_range\":{\"id\":\"fa372282-d127-47ea-a46b-bffe7c169ddb\",\"type\":\"DataRange1d\"},\"y_range\":{\"id\":\"c9a70447-6258-4bb7-929f-f2386dfa32ec\",\"type\":\"DataRange1d\"}},\"id\":\"709a4695-8098-4463-8483-fa506b85da1f\",\"subtype\":\"Figure\",\"type\":\"Plot\"},{\"attributes\":{\"callback\":null},\"id\":\"f5eb7316-d70a-4190-9b1a-19d910cd8ac7\",\"type\":\"DataRange1d\"},{\"attributes\":{\"formatter\":{\"id\":\"a5feb026-e785-4c9f-b6f5-f008685b69d2\",\"type\":\"BasicTickFormatter\"},\"plot\":{\"id\":\"709a4695-8098-4463-8483-fa506b85da1f\",\"subtype\":\"Figure\",\"type\":\"Plot\"},\"ticker\":{\"id\":\"586f36b6-5990-4a0e-bd20-94c36ff523d2\",\"type\":\"BasicTicker\"}},\"id\":\"e367f79e-1a51-47d9-8ecc-3c27d5679598\",\"type\":\"LinearAxis\"},{\"attributes\":{},\"id\":\"586f36b6-5990-4a0e-bd20-94c36ff523d2\",\"type\":\"BasicTicker\"},{\"attributes\":{},\"id\":\"a3460d49-9594-486c-9fb8-379404dffb49\",\"type\":\"ToolEvents\"},{\"attributes\":{\"fill_color\":{\"value\":\"#1f77b4\"},\"line_color\":{\"value\":\"#1f77b4\"},\"size\":{\"units\":\"screen\",\"value\":20},\"x\":{\"field\":\"x\"},\"y\":{\"field\":\"y\"}},\"id\":\"1196024d-a357-468a-8536-85d782623499\",\"type\":\"Circle\"},{\"attributes\":{\"plot\":{\"id\":\"709a4695-8098-4463-8483-fa506b85da1f\",\"subtype\":\"Figure\",\"type\":\"Plot\"},\"ticker\":{\"id\":\"2a9db9e9-e764-46f3-af6a-9a60650959e7\",\"type\":\"BasicTicker\"}},\"id\":\"3ce024ca-ac53-4641-8ceb-ee3639918be0\",\"type\":\"Grid\"},{\"attributes\":{\"formatter\":{\"id\":\"1835e90c-7744-4399-961d-f5f01fc1253a\",\"type\":\"BasicTickFormatter\"},\"plot\":{\"id\":\"709a4695-8098-4463-8483-fa506b85da1f\",\"subtype\":\"Figure\",\"type\":\"Plot\"},\"ticker\":{\"id\":\"2a9db9e9-e764-46f3-af6a-9a60650959e7\",\"type\":\"BasicTicker\"}},\"id\":\"c919d791-faa0-433e-b02f-828055d08b56\",\"type\":\"LinearAxis\"},{\"attributes\":{\"callback\":null},\"id\":\"c9a70447-6258-4bb7-929f-f2386dfa32ec\",\"type\":\"DataRange1d\"},{\"attributes\":{\"callback\":null},\"id\":\"fa372282-d127-47ea-a46b-bffe7c169ddb\",\"type\":\"DataRange1d\"},{\"attributes\":{\"active_drag\":\"auto\",\"active_scroll\":\"auto\",\"active_tap\":\"auto\",\"tools\":[{\"id\":\"77adc524-ff15-49af-a238-e62c17553555\",\"type\":\"HoverTool\"}]},\"id\":\"009f3452-7759-4db9-b43e-f67ec214342e\",\"type\":\"Toolbar\"},{\"attributes\":{},\"id\":\"2a9db9e9-e764-46f3-af6a-9a60650959e7\",\"type\":\"BasicTicker\"},{\"attributes\":{\"children\":[{\"id\":\"fde44530-1d69-4ae2-92af-32cdd5e4c36d\",\"type\":\"Row\"}]},\"id\":\"767b864f-3d27-4818-a6b2-9f7d7aa6079c\",\"type\":\"Column\"},{\"attributes\":{\"children\":[{\"id\":\"e6b2be0d-bc5e-4071-8d59-38b14ca4614f\",\"type\":\"ToolbarBox\"},{\"id\":\"767b864f-3d27-4818-a6b2-9f7d7aa6079c\",\"type\":\"Column\"}]},\"id\":\"90778d9d-3159-4ce4-83dc-16c8d084700c\",\"type\":\"Column\"},{\"attributes\":{\"below\":[{\"id\":\"3c5ba119-f43f-43ac-837a-fc47ebdc5a11\",\"type\":\"LinearAxis\"}],\"left\":[{\"id\":\"87b4543d-f9d1-4212-ab6d-a814d6ab1db4\",\"type\":\"LinearAxis\"}],\"plot_height\":300,\"renderers\":[{\"id\":\"3c5ba119-f43f-43ac-837a-fc47ebdc5a11\",\"type\":\"LinearAxis\"},{\"id\":\"30ebb36f-2f88-4d1a-9190-9de2c4c9aa5b\",\"type\":\"Grid\"},{\"id\":\"87b4543d-f9d1-4212-ab6d-a814d6ab1db4\",\"type\":\"LinearAxis\"},{\"id\":\"e704e3c5-78cd-4116-8558-eec274596873\",\"type\":\"Grid\"},{\"id\":\"e458eb7f-c755-45bf-8184-0ca9d6fdc0f3\",\"type\":\"GlyphRenderer\"}],\"title\":{\"id\":\"2d32223e-e121-4d1c-8aa9-bce6284aa61e\",\"type\":\"Title\"},\"tool_events\":{\"id\":\"bd15db55-e4d0-44df-9547-86e1deff9f06\",\"type\":\"ToolEvents\"},\"toolbar\":{\"id\":\"14e3395b-79b5-4eea-98f7-b613e3fb7a6e\",\"type\":\"Toolbar\"},\"toolbar_location\":null,\"x_range\":{\"id\":\"f5eb7316-d70a-4190-9b1a-19d910cd8ac7\",\"type\":\"DataRange1d\"},\"y_range\":{\"id\":\"5a0142c0-18df-4890-8468-1867373ce378\",\"type\":\"DataRange1d\"}},\"id\":\"1244ada5-4585-4fd2-9b70-396dc468c78c\",\"subtype\":\"Figure\",\"type\":\"Plot\"},{\"attributes\":{\"fill_color\":{\"value\":\"#1f77b4\"},\"line_color\":{\"value\":\"#1f77b4\"},\"size\":{\"units\":\"screen\",\"value\":20},\"x\":{\"field\":\"xs\"},\"y\":{\"field\":\"ys\"}},\"id\":\"309d92c1-348d-4267-9b0b-f223c719957a\",\"type\":\"Circle\"},{\"attributes\":{\"callback\":null,\"plot\":{\"id\":\"1244ada5-4585-4fd2-9b70-396dc468c78c\",\"subtype\":\"Figure\",\"type\":\"Plot\"},\"tooltips\":[[\"index\",\"$index\"],[\"desc\",\"@desc\"]]},\"id\":\"70900a72-4723-4ed3-91c2-486cd7fd7edf\",\"type\":\"HoverTool\"},{\"attributes\":{\"plot\":null,\"text\":\"Mouse over the dots\"},\"id\":\"52df7a30-8b35-414b-aed9-7d3c23999010\",\"type\":\"Title\"},{\"attributes\":{\"plot\":null,\"text\":\"Mouse over the dots\"},\"id\":\"2d32223e-e121-4d1c-8aa9-bce6284aa61e\",\"type\":\"Title\"},{\"attributes\":{},\"id\":\"bd15db55-e4d0-44df-9547-86e1deff9f06\",\"type\":\"ToolEvents\"},{\"attributes\":{\"callback\":null,\"column_names\":[\"xs\",\"ys\",\"desc\"],\"data\":{\"desc\":[\"A\",\"b\",\"C\",\"d\",\"E\"],\"xs\":[1,5,7,8,12],\"ys\":[2,5,8,2,7]}},\"id\":\"e73a2ac0-40d4-489e-bd5a-28be65d8b366\",\"type\":\"ColumnDataSource\"},{\"attributes\":{},\"id\":\"dd1190ae-1752-4ffa-bc98-dec6f44b404b\",\"type\":\"BasicTicker\"},{\"attributes\":{\"callback\":null},\"id\":\"5a0142c0-18df-4890-8468-1867373ce378\",\"type\":\"DataRange1d\"},{\"attributes\":{\"plot\":{\"id\":\"1244ada5-4585-4fd2-9b70-396dc468c78c\",\"subtype\":\"Figure\",\"type\":\"Plot\"},\"ticker\":{\"id\":\"dd1190ae-1752-4ffa-bc98-dec6f44b404b\",\"type\":\"BasicTicker\"}},\"id\":\"30ebb36f-2f88-4d1a-9190-9de2c4c9aa5b\",\"type\":\"Grid\"},{\"attributes\":{\"formatter\":{\"id\":\"fff4912f-4e6c-4d0b-b305-282b68dfbbd8\",\"type\":\"BasicTickFormatter\"},\"plot\":{\"id\":\"1244ada5-4585-4fd2-9b70-396dc468c78c\",\"subtype\":\"Figure\",\"type\":\"Plot\"},\"ticker\":{\"id\":\"7725639c-7bbf-459d-a21b-227682926142\",\"type\":\"BasicTicker\"}},\"id\":\"87b4543d-f9d1-4212-ab6d-a814d6ab1db4\",\"type\":\"LinearAxis\"},{\"attributes\":{},\"id\":\"7725639c-7bbf-459d-a21b-227682926142\",\"type\":\"BasicTicker\"},{\"attributes\":{\"dimension\":1,\"plot\":{\"id\":\"1244ada5-4585-4fd2-9b70-396dc468c78c\",\"subtype\":\"Figure\",\"type\":\"Plot\"},\"ticker\":{\"id\":\"7725639c-7bbf-459d-a21b-227682926142\",\"type\":\"BasicTicker\"}},\"id\":\"e704e3c5-78cd-4116-8558-eec274596873\",\"type\":\"Grid\"},{\"attributes\":{\"fill_alpha\":{\"value\":0.1},\"fill_color\":{\"value\":\"#1f77b4\"},\"line_alpha\":{\"value\":0.1},\"line_color\":{\"value\":\"#1f77b4\"},\"size\":{\"units\":\"screen\",\"value\":20},\"x\":{\"field\":\"xs\"},\"y\":{\"field\":\"ys\"}},\"id\":\"dbee2bd8-523d-4226-9532-601c2401a414\",\"type\":\"Circle\"},{\"attributes\":{\"data_source\":{\"id\":\"e73a2ac0-40d4-489e-bd5a-28be65d8b366\",\"type\":\"ColumnDataSource\"},\"glyph\":{\"id\":\"309d92c1-348d-4267-9b0b-f223c719957a\",\"type\":\"Circle\"},\"hover_glyph\":null,\"nonselection_glyph\":{\"id\":\"dbee2bd8-523d-4226-9532-601c2401a414\",\"type\":\"Circle\"},\"selection_glyph\":null},\"id\":\"e458eb7f-c755-45bf-8184-0ca9d6fdc0f3\",\"type\":\"GlyphRenderer\"},{\"attributes\":{},\"id\":\"fff4912f-4e6c-4d0b-b305-282b68dfbbd8\",\"type\":\"BasicTickFormatter\"},{\"attributes\":{},\"id\":\"290fda3b-9a56-4bfe-938e-c768633ce8a2\",\"type\":\"BasicTickFormatter\"},{\"attributes\":{\"callback\":null,\"plot\":{\"id\":\"709a4695-8098-4463-8483-fa506b85da1f\",\"subtype\":\"Figure\",\"type\":\"Plot\"},\"tooltips\":\"\\n            <div>\\n                <div>\\n                    <img\\n                        src=\\\"@imgs\\\" height=\\\"42\\\" alt=\\\"@imgs\\\" width=\\\"42\\\"\\n                        style=\\\"float: left; margin: 0px 15px 15px 0px;\\\"\\n                        border=\\\"2\\\"\\n                    ></img>\\n                </div>\\n                <div>\\n                    <span style=\\\"font-size: 17px; font-weight: bold;\\\">@desc</span>\\n                    <span style=\\\"font-size: 15px; color: #966;\\\">[$index]</span>\\n                </div>\\n                <div>\\n                    <span style=\\\"font-size: 15px;\\\">Location</span>\\n                    <span style=\\\"font-size: 10px; color: #696;\\\">($x, $y)</span>\\n                </div>\\n            </div>\\n            \"},\"id\":\"77adc524-ff15-49af-a238-e62c17553555\",\"type\":\"HoverTool\"},{\"attributes\":{\"callback\":null,\"column_names\":[\"x\",\"y\",\"desc\",\"imgs\"],\"data\":{\"desc\":[\"A\",\"b\",\"C\",\"d\",\"E\"],\"imgs\":[\"http://bokeh.pydata.org/static/snake.jpg\",\"http://bokeh.pydata.org/static/snake2.png\",\"http://bokeh.pydata.org/static/snake3D.png\",\"http://bokeh.pydata.org/static/snake4_TheRevenge.png\",\"http://bokeh.pydata.org/static/snakebite.jpg\"],\"x\":[1,2,3,4,5],\"y\":[2,5,8,2,7]}},\"id\":\"137c8e1e-8f62-4af7-9e38-1d49c8fbabc9\",\"type\":\"ColumnDataSource\"}],\"root_ids\":[\"90778d9d-3159-4ce4-83dc-16c8d084700c\"]},\"title\":\"Bokeh Application\",\"version\":\"0.12.4\"}};\n",
       "            var render_items = [{\"docid\":\"52c1323d-00da-464e-b2ee-f86d81bc10f6\",\"elementid\":\"07639d34-1187-4970-a0a5-c2ac980f4774\",\"modelid\":\"90778d9d-3159-4ce4-83dc-16c8d084700c\"}];\n",
       "            \n",
       "            Bokeh.embed.embed_items(docs_json, render_items);\n",
       "          };\n",
       "          if (document.readyState != \"loading\") fn();\n",
       "          else document.addEventListener(\"DOMContentLoaded\", fn);\n",
       "        })();\n",
       "      },\n",
       "      function(Bokeh) {\n",
       "      }\n",
       "    ];\n",
       "  \n",
       "    function run_inline_js() {\n",
       "      \n",
       "      if ((window.Bokeh !== undefined) || (force === true)) {\n",
       "        for (var i = 0; i < inline_js.length; i++) {\n",
       "          inline_js[i](window.Bokeh);\n",
       "        }if (force === true) {\n",
       "          display_loaded();\n",
       "        }} else if (Date.now() < window._bokeh_timeout) {\n",
       "        setTimeout(run_inline_js, 100);\n",
       "      } else if (!window._bokeh_failed_load) {\n",
       "        console.log(\"Bokeh: BokehJS failed to load within specified timeout.\");\n",
       "        window._bokeh_failed_load = true;\n",
       "      } else if (force !== true) {\n",
       "        var cell = $(document.getElementById(\"07639d34-1187-4970-a0a5-c2ac980f4774\")).parents('.cell').data().cell;\n",
       "        cell.output_area.append_execute_result(NB_LOAD_WARNING)\n",
       "      }\n",
       "  \n",
       "    }\n",
       "  \n",
       "    if (window._bokeh_is_loading === 0) {\n",
       "      console.log(\"Bokeh: BokehJS loaded, going straight to plotting\");\n",
       "      run_inline_js();\n",
       "    } else {\n",
       "      load_libs(js_urls, function() {\n",
       "        console.log(\"Bokeh: BokehJS plotting callback run at\", now());\n",
       "        run_inline_js();\n",
       "      });\n",
       "    }\n",
       "  }(this));\n",
       "</script>"
      ]
     },
     "metadata": {},
     "output_type": "display_data"
    }
   ],
   "source": [
    "# Also show custom hover \n",
    "from utils import get_custom_hover\n",
    "\n",
    "show(gridplot([[p, get_custom_hover()]]))"
   ]
  },
  {
   "cell_type": "markdown",
   "metadata": {},
   "source": [
    "# Jupyter Interactors\n",
    "\n",
    "*** NOTE: The Jupyter widgets below will only work in a live running Jupyter notebook, not is a static saved notebook ***\n",
    "\n",
    "It is possible to use native Jupyter notebook interactors together with Bokeh. In the interactor update function, the ``push_notebook`` function can be used to update a data source or other plot attributes, which will cause the displayed plot to update accordingly. \n",
    "\n",
    "The example below shows a \"trig function\" exporer using IPython interactors:"
   ]
  },
  {
   "cell_type": "code",
   "execution_count": 53,
   "metadata": {
    "collapsed": true
   },
   "outputs": [],
   "source": [
    "import numpy as np\n",
    "from bokeh.io import push_notebook"
   ]
  },
  {
   "cell_type": "code",
   "execution_count": 54,
   "metadata": {
    "collapsed": true
   },
   "outputs": [],
   "source": [
    "x = np.linspace(0, 2*np.pi, 2000)\n",
    "y = np.sin(x)"
   ]
  },
  {
   "cell_type": "code",
   "execution_count": 55,
   "metadata": {
    "collapsed": true
   },
   "outputs": [],
   "source": [
    "source = ColumnDataSource(data=dict(x=x, y=y))"
   ]
  },
  {
   "cell_type": "code",
   "execution_count": 56,
   "metadata": {
    "collapsed": false
   },
   "outputs": [
    {
     "data": {
      "text/html": [
       "<div style=\"display: table;\"><div style=\"display: table-row;\"><div style=\"display: table-cell;\"><b title=\"bokeh.models.renderers.GlyphRenderer\">GlyphRenderer</b>(</div><div style=\"display: table-cell;\">id&nbsp;=&nbsp;'2f097f76-846a-4fc0-bb03-5d28dced32be', <span id=\"51ad5812-a919-4f64-a07a-39b762491bd9\" style=\"cursor: pointer;\">&hellip;)</span></div></div><div class=\"d7eb7a26-32d3-49a4-99f7-674c26561e01\" style=\"display: none;\"><div style=\"display: table-cell;\"></div><div style=\"display: table-cell;\">data_source&nbsp;=&nbsp;ColumnDataSource(id='1dc10329-7567-46ab-8910-0efee6b75237', ...),</div></div><div class=\"d7eb7a26-32d3-49a4-99f7-674c26561e01\" style=\"display: none;\"><div style=\"display: table-cell;\"></div><div style=\"display: table-cell;\">glyph&nbsp;=&nbsp;Line(id='2808374a-6ece-4ba7-ba19-d630ae7be86a', ...),</div></div><div class=\"d7eb7a26-32d3-49a4-99f7-674c26561e01\" style=\"display: none;\"><div style=\"display: table-cell;\"></div><div style=\"display: table-cell;\">hover_glyph&nbsp;=&nbsp;None,</div></div><div class=\"d7eb7a26-32d3-49a4-99f7-674c26561e01\" style=\"display: none;\"><div style=\"display: table-cell;\"></div><div style=\"display: table-cell;\">js_callbacks&nbsp;=&nbsp;{},</div></div><div class=\"d7eb7a26-32d3-49a4-99f7-674c26561e01\" style=\"display: none;\"><div style=\"display: table-cell;\"></div><div style=\"display: table-cell;\">level&nbsp;=&nbsp;'glyph',</div></div><div class=\"d7eb7a26-32d3-49a4-99f7-674c26561e01\" style=\"display: none;\"><div style=\"display: table-cell;\"></div><div style=\"display: table-cell;\">name&nbsp;=&nbsp;'foo',</div></div><div class=\"d7eb7a26-32d3-49a4-99f7-674c26561e01\" style=\"display: none;\"><div style=\"display: table-cell;\"></div><div style=\"display: table-cell;\">nonselection_glyph&nbsp;=&nbsp;Line(id='b9b238ac-a410-4fcf-af50-591389e967e2', ...),</div></div><div class=\"d7eb7a26-32d3-49a4-99f7-674c26561e01\" style=\"display: none;\"><div style=\"display: table-cell;\"></div><div style=\"display: table-cell;\">selection_glyph&nbsp;=&nbsp;None,</div></div><div class=\"d7eb7a26-32d3-49a4-99f7-674c26561e01\" style=\"display: none;\"><div style=\"display: table-cell;\"></div><div style=\"display: table-cell;\">tags&nbsp;=&nbsp;[],</div></div><div class=\"d7eb7a26-32d3-49a4-99f7-674c26561e01\" style=\"display: none;\"><div style=\"display: table-cell;\"></div><div style=\"display: table-cell;\">visible&nbsp;=&nbsp;True,</div></div><div class=\"d7eb7a26-32d3-49a4-99f7-674c26561e01\" style=\"display: none;\"><div style=\"display: table-cell;\"></div><div style=\"display: table-cell;\">x_range_name&nbsp;=&nbsp;'default',</div></div><div class=\"d7eb7a26-32d3-49a4-99f7-674c26561e01\" style=\"display: none;\"><div style=\"display: table-cell;\"></div><div style=\"display: table-cell;\">y_range_name&nbsp;=&nbsp;'default')</div></div></div>\n",
       "<script>\n",
       "(function() {\n",
       "  var expanded = false;\n",
       "  var ellipsis = document.getElementById(\"51ad5812-a919-4f64-a07a-39b762491bd9\");\n",
       "  ellipsis.addEventListener(\"click\", function() {\n",
       "    var rows = document.getElementsByClassName(\"d7eb7a26-32d3-49a4-99f7-674c26561e01\");\n",
       "    for (var i = 0; i < rows.length; i++) {\n",
       "      var el = rows[i];\n",
       "      el.style.display = expanded ? \"none\" : \"table-row\";\n",
       "    }\n",
       "    ellipsis.innerHTML = expanded ? \"&hellip;)\" : \"&lsaquo;&lsaquo;&lsaquo;\";\n",
       "    expanded = !expanded;\n",
       "  });\n",
       "})();\n",
       "</script>\n"
      ],
      "text/plain": [
       "GlyphRenderer(id='2f097f76-846a-4fc0-bb03-5d28dced32be', ...)"
      ]
     },
     "execution_count": 56,
     "metadata": {},
     "output_type": "execute_result"
    }
   ],
   "source": [
    "p = figure(title=\"simple line example\", \n",
    "           plot_height=300, plot_width=600, \n",
    "           y_range=(-5, 5))\n",
    "p.line('x', 'y', color=\"#2222aa\", alpha=0.5, line_width=2, \n",
    "       source=source, name=\"foo\")"
   ]
  },
  {
   "cell_type": "code",
   "execution_count": 57,
   "metadata": {
    "collapsed": true
   },
   "outputs": [],
   "source": [
    "def update(f, w=1, A=1, phi=0):\n",
    "    if   f == \"sin\": func = np.sin\n",
    "    elif f == \"cos\": func = np.cos\n",
    "    elif f == \"tan\": func = np.tan\n",
    "    source.data['y'] = A * func(w * x + phi)\n",
    "    push_notebook()"
   ]
  },
  {
   "cell_type": "code",
   "execution_count": 58,
   "metadata": {
    "collapsed": false
   },
   "outputs": [
    {
     "data": {
      "text/html": [
       "\n",
       "\n",
       "    <div class=\"bk-root\">\n",
       "        <div class=\"bk-plotdiv\" id=\"1a73db8c-860e-4892-af6a-c9aee2299558\"></div>\n",
       "    </div>\n",
       "<script type=\"text/javascript\">\n",
       "  \n",
       "  (function(global) {\n",
       "    function now() {\n",
       "      return new Date();\n",
       "    }\n",
       "  \n",
       "    var force = false;\n",
       "  \n",
       "    if (typeof (window._bokeh_onload_callbacks) === \"undefined\" || force === true) {\n",
       "      window._bokeh_onload_callbacks = [];\n",
       "      window._bokeh_is_loading = undefined;\n",
       "    }\n",
       "  \n",
       "  \n",
       "    \n",
       "    if (typeof (window._bokeh_timeout) === \"undefined\" || force === true) {\n",
       "      window._bokeh_timeout = Date.now() + 0;\n",
       "      window._bokeh_failed_load = false;\n",
       "    }\n",
       "  \n",
       "    var NB_LOAD_WARNING = {'data': {'text/html':\n",
       "       \"<div style='background-color: #fdd'>\\n\"+\n",
       "       \"<p>\\n\"+\n",
       "       \"BokehJS does not appear to have successfully loaded. If loading BokehJS from CDN, this \\n\"+\n",
       "       \"may be due to a slow or bad network connection. Possible fixes:\\n\"+\n",
       "       \"</p>\\n\"+\n",
       "       \"<ul>\\n\"+\n",
       "       \"<li>re-rerun `output_notebook()` to attempt to load from CDN again, or</li>\\n\"+\n",
       "       \"<li>use INLINE resources instead, as so:</li>\\n\"+\n",
       "       \"</ul>\\n\"+\n",
       "       \"<code>\\n\"+\n",
       "       \"from bokeh.resources import INLINE\\n\"+\n",
       "       \"output_notebook(resources=INLINE)\\n\"+\n",
       "       \"</code>\\n\"+\n",
       "       \"</div>\"}};\n",
       "  \n",
       "    function display_loaded() {\n",
       "      if (window.Bokeh !== undefined) {\n",
       "        document.getElementById(\"1a73db8c-860e-4892-af6a-c9aee2299558\").textContent = \"BokehJS successfully loaded.\";\n",
       "      } else if (Date.now() < window._bokeh_timeout) {\n",
       "        setTimeout(display_loaded, 100)\n",
       "      }\n",
       "    }if ((window.Jupyter !== undefined) && Jupyter.notebook.kernel) {\n",
       "      comm_manager = Jupyter.notebook.kernel.comm_manager\n",
       "      comm_manager.register_target(\"f1c3c2e4-3568-4d71-9134-a6befe05a4cc\", function () {});\n",
       "    }\n",
       "  \n",
       "    function run_callbacks() {\n",
       "      window._bokeh_onload_callbacks.forEach(function(callback) { callback() });\n",
       "      delete window._bokeh_onload_callbacks\n",
       "      console.info(\"Bokeh: all callbacks have finished\");\n",
       "    }\n",
       "  \n",
       "    function load_libs(js_urls, callback) {\n",
       "      window._bokeh_onload_callbacks.push(callback);\n",
       "      if (window._bokeh_is_loading > 0) {\n",
       "        console.log(\"Bokeh: BokehJS is being loaded, scheduling callback at\", now());\n",
       "        return null;\n",
       "      }\n",
       "      if (js_urls == null || js_urls.length === 0) {\n",
       "        run_callbacks();\n",
       "        return null;\n",
       "      }\n",
       "      console.log(\"Bokeh: BokehJS not loaded, scheduling load and callback at\", now());\n",
       "      window._bokeh_is_loading = js_urls.length;\n",
       "      for (var i = 0; i < js_urls.length; i++) {\n",
       "        var url = js_urls[i];\n",
       "        var s = document.createElement('script');\n",
       "        s.src = url;\n",
       "        s.async = false;\n",
       "        s.onreadystatechange = s.onload = function() {\n",
       "          window._bokeh_is_loading--;\n",
       "          if (window._bokeh_is_loading === 0) {\n",
       "            console.log(\"Bokeh: all BokehJS libraries loaded\");\n",
       "            run_callbacks()\n",
       "          }\n",
       "        };\n",
       "        s.onerror = function() {\n",
       "          console.warn(\"failed to load library \" + url);\n",
       "        };\n",
       "        console.log(\"Bokeh: injecting script tag for BokehJS library: \", url);\n",
       "        document.getElementsByTagName(\"head\")[0].appendChild(s);\n",
       "      }\n",
       "    };var element = document.getElementById(\"1a73db8c-860e-4892-af6a-c9aee2299558\");\n",
       "    if (element == null) {\n",
       "      console.log(\"Bokeh: ERROR: autoload.js configured with elementid '1a73db8c-860e-4892-af6a-c9aee2299558' but no matching script tag was found. \")\n",
       "      return false;\n",
       "    }\n",
       "  \n",
       "    var js_urls = [];\n",
       "  \n",
       "    var inline_js = [\n",
       "      function(Bokeh) {\n",
       "        (function() {\n",
       "          var fn = function() {\n",
       "            var docs_json = {\"645cccd9-8563-4256-be7a-4fef437fb0e6\":{\"roots\":{\"references\":[{\"attributes\":{\"plot\":{\"id\":\"24736410-34f4-4808-bd1c-6fc3f82788b6\",\"subtype\":\"Figure\",\"type\":\"Plot\"}},\"id\":\"0853096c-d35f-4060-ad10-7606ec043974\",\"type\":\"WheelZoomTool\"},{\"attributes\":{\"line_alpha\":{\"value\":0.1},\"line_color\":{\"value\":\"#1f77b4\"},\"line_width\":{\"value\":2},\"x\":{\"field\":\"x\"},\"y\":{\"field\":\"y\"}},\"id\":\"b9b238ac-a410-4fcf-af50-591389e967e2\",\"type\":\"Line\"},{\"attributes\":{},\"id\":\"b92c376b-b9ce-47eb-be72-96cb98ba266a\",\"type\":\"BasicTickFormatter\"},{\"attributes\":{\"dimension\":1,\"plot\":{\"id\":\"24736410-34f4-4808-bd1c-6fc3f82788b6\",\"subtype\":\"Figure\",\"type\":\"Plot\"},\"ticker\":{\"id\":\"d30a348d-5d4d-4f1f-a918-f844bd1e0a58\",\"type\":\"BasicTicker\"}},\"id\":\"f3ee06da-8ef6-4614-b9a6-6744f380b422\",\"type\":\"Grid\"},{\"attributes\":{},\"id\":\"d30a348d-5d4d-4f1f-a918-f844bd1e0a58\",\"type\":\"BasicTicker\"},{\"attributes\":{\"overlay\":{\"id\":\"a9a7745f-bc60-4cbc-af35-1025042cbe88\",\"type\":\"BoxAnnotation\"},\"plot\":{\"id\":\"24736410-34f4-4808-bd1c-6fc3f82788b6\",\"subtype\":\"Figure\",\"type\":\"Plot\"}},\"id\":\"956a2d65-e03d-40da-abc1-17a51aef97ff\",\"type\":\"BoxZoomTool\"},{\"attributes\":{\"plot\":{\"id\":\"24736410-34f4-4808-bd1c-6fc3f82788b6\",\"subtype\":\"Figure\",\"type\":\"Plot\"}},\"id\":\"924f5751-7626-4687-a867-7b1c9c13ce8a\",\"type\":\"PanTool\"},{\"attributes\":{\"plot\":{\"id\":\"24736410-34f4-4808-bd1c-6fc3f82788b6\",\"subtype\":\"Figure\",\"type\":\"Plot\"}},\"id\":\"e45ed98a-acc4-4adb-b757-27a78d313211\",\"type\":\"SaveTool\"},{\"attributes\":{\"plot\":{\"id\":\"24736410-34f4-4808-bd1c-6fc3f82788b6\",\"subtype\":\"Figure\",\"type\":\"Plot\"}},\"id\":\"9f18a9e7-befc-48bf-a98d-be73c5531c70\",\"type\":\"ResetTool\"},{\"attributes\":{\"callback\":null,\"column_names\":[\"x\",\"y\"],\"data\":{\"x\":{\"__ndarray__\":\"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\",\"dtype\":\"float64\",\"shape\":[2000]},\"y\":{\"__ndarray__\":\"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\",\"dtype\":\"float64\",\"shape\":[2000]}}},\"id\":\"1dc10329-7567-46ab-8910-0efee6b75237\",\"type\":\"ColumnDataSource\"},{\"attributes\":{\"plot\":{\"id\":\"24736410-34f4-4808-bd1c-6fc3f82788b6\",\"subtype\":\"Figure\",\"type\":\"Plot\"}},\"id\":\"d575c21a-bd10-43af-85b6-8f2d5f84d4ef\",\"type\":\"HelpTool\"},{\"attributes\":{\"plot\":null,\"text\":\"simple line example\"},\"id\":\"02403dd6-b99d-4a2f-b276-551fc1c03652\",\"type\":\"Title\"},{\"attributes\":{\"below\":[{\"id\":\"9a3f01f4-148e-4173-a302-d3608e212aba\",\"type\":\"LinearAxis\"}],\"left\":[{\"id\":\"a4081078-25b4-45d0-a887-fddc87858d63\",\"type\":\"LinearAxis\"}],\"plot_height\":300,\"renderers\":[{\"id\":\"9a3f01f4-148e-4173-a302-d3608e212aba\",\"type\":\"LinearAxis\"},{\"id\":\"c7316936-c538-497f-9078-19699c7546e4\",\"type\":\"Grid\"},{\"id\":\"a4081078-25b4-45d0-a887-fddc87858d63\",\"type\":\"LinearAxis\"},{\"id\":\"f3ee06da-8ef6-4614-b9a6-6744f380b422\",\"type\":\"Grid\"},{\"id\":\"a9a7745f-bc60-4cbc-af35-1025042cbe88\",\"type\":\"BoxAnnotation\"},{\"id\":\"2f097f76-846a-4fc0-bb03-5d28dced32be\",\"type\":\"GlyphRenderer\"}],\"title\":{\"id\":\"02403dd6-b99d-4a2f-b276-551fc1c03652\",\"type\":\"Title\"},\"tool_events\":{\"id\":\"add6aeb0-dfb2-4568-b05b-5aa31f0aef58\",\"type\":\"ToolEvents\"},\"toolbar\":{\"id\":\"45492f4e-ad05-40f1-9fd7-3a6f7dc3cecb\",\"type\":\"Toolbar\"},\"x_range\":{\"id\":\"b4bbd169-c697-4270-90e5-0b4fc43bfee4\",\"type\":\"DataRange1d\"},\"y_range\":{\"id\":\"c4d86f68-977c-4d1a-945c-4192d8870dba\",\"type\":\"Range1d\"}},\"id\":\"24736410-34f4-4808-bd1c-6fc3f82788b6\",\"subtype\":\"Figure\",\"type\":\"Plot\"},{\"attributes\":{},\"id\":\"5b429100-8025-430a-8ffa-e2324c003486\",\"type\":\"BasicTickFormatter\"},{\"attributes\":{\"formatter\":{\"id\":\"b92c376b-b9ce-47eb-be72-96cb98ba266a\",\"type\":\"BasicTickFormatter\"},\"plot\":{\"id\":\"24736410-34f4-4808-bd1c-6fc3f82788b6\",\"subtype\":\"Figure\",\"type\":\"Plot\"},\"ticker\":{\"id\":\"eed5de86-ab30-43f2-96ad-9bbe270df2c8\",\"type\":\"BasicTicker\"}},\"id\":\"9a3f01f4-148e-4173-a302-d3608e212aba\",\"type\":\"LinearAxis\"},{\"attributes\":{\"active_drag\":\"auto\",\"active_scroll\":\"auto\",\"active_tap\":\"auto\",\"tools\":[{\"id\":\"924f5751-7626-4687-a867-7b1c9c13ce8a\",\"type\":\"PanTool\"},{\"id\":\"0853096c-d35f-4060-ad10-7606ec043974\",\"type\":\"WheelZoomTool\"},{\"id\":\"956a2d65-e03d-40da-abc1-17a51aef97ff\",\"type\":\"BoxZoomTool\"},{\"id\":\"e45ed98a-acc4-4adb-b757-27a78d313211\",\"type\":\"SaveTool\"},{\"id\":\"9f18a9e7-befc-48bf-a98d-be73c5531c70\",\"type\":\"ResetTool\"},{\"id\":\"d575c21a-bd10-43af-85b6-8f2d5f84d4ef\",\"type\":\"HelpTool\"}]},\"id\":\"45492f4e-ad05-40f1-9fd7-3a6f7dc3cecb\",\"type\":\"Toolbar\"},{\"attributes\":{\"callback\":null},\"id\":\"b4bbd169-c697-4270-90e5-0b4fc43bfee4\",\"type\":\"DataRange1d\"},{\"attributes\":{\"bottom_units\":\"screen\",\"fill_alpha\":{\"value\":0.5},\"fill_color\":{\"value\":\"lightgrey\"},\"left_units\":\"screen\",\"level\":\"overlay\",\"line_alpha\":{\"value\":1.0},\"line_color\":{\"value\":\"black\"},\"line_dash\":[4,4],\"line_width\":{\"value\":2},\"plot\":null,\"render_mode\":\"css\",\"right_units\":\"screen\",\"top_units\":\"screen\"},\"id\":\"a9a7745f-bc60-4cbc-af35-1025042cbe88\",\"type\":\"BoxAnnotation\"},{\"attributes\":{},\"id\":\"eed5de86-ab30-43f2-96ad-9bbe270df2c8\",\"type\":\"BasicTicker\"},{\"attributes\":{\"callback\":null,\"end\":5,\"start\":-5},\"id\":\"c4d86f68-977c-4d1a-945c-4192d8870dba\",\"type\":\"Range1d\"},{\"attributes\":{},\"id\":\"add6aeb0-dfb2-4568-b05b-5aa31f0aef58\",\"type\":\"ToolEvents\"},{\"attributes\":{\"formatter\":{\"id\":\"5b429100-8025-430a-8ffa-e2324c003486\",\"type\":\"BasicTickFormatter\"},\"plot\":{\"id\":\"24736410-34f4-4808-bd1c-6fc3f82788b6\",\"subtype\":\"Figure\",\"type\":\"Plot\"},\"ticker\":{\"id\":\"d30a348d-5d4d-4f1f-a918-f844bd1e0a58\",\"type\":\"BasicTicker\"}},\"id\":\"a4081078-25b4-45d0-a887-fddc87858d63\",\"type\":\"LinearAxis\"},{\"attributes\":{\"line_alpha\":{\"value\":0.5},\"line_color\":{\"value\":\"#2222aa\"},\"line_width\":{\"value\":2},\"x\":{\"field\":\"x\"},\"y\":{\"field\":\"y\"}},\"id\":\"2808374a-6ece-4ba7-ba19-d630ae7be86a\",\"type\":\"Line\"},{\"attributes\":{\"plot\":{\"id\":\"24736410-34f4-4808-bd1c-6fc3f82788b6\",\"subtype\":\"Figure\",\"type\":\"Plot\"},\"ticker\":{\"id\":\"eed5de86-ab30-43f2-96ad-9bbe270df2c8\",\"type\":\"BasicTicker\"}},\"id\":\"c7316936-c538-497f-9078-19699c7546e4\",\"type\":\"Grid\"},{\"attributes\":{\"data_source\":{\"id\":\"1dc10329-7567-46ab-8910-0efee6b75237\",\"type\":\"ColumnDataSource\"},\"glyph\":{\"id\":\"2808374a-6ece-4ba7-ba19-d630ae7be86a\",\"type\":\"Line\"},\"hover_glyph\":null,\"name\":\"foo\",\"nonselection_glyph\":{\"id\":\"b9b238ac-a410-4fcf-af50-591389e967e2\",\"type\":\"Line\"},\"selection_glyph\":null},\"id\":\"2f097f76-846a-4fc0-bb03-5d28dced32be\",\"type\":\"GlyphRenderer\"}],\"root_ids\":[\"24736410-34f4-4808-bd1c-6fc3f82788b6\"]},\"title\":\"Bokeh Application\",\"version\":\"0.12.4\"}};\n",
       "            var render_items = [{\"docid\":\"645cccd9-8563-4256-be7a-4fef437fb0e6\",\"elementid\":\"1a73db8c-860e-4892-af6a-c9aee2299558\",\"modelid\":\"24736410-34f4-4808-bd1c-6fc3f82788b6\",\"notebook_comms_target\":\"f1c3c2e4-3568-4d71-9134-a6befe05a4cc\"}];\n",
       "            \n",
       "            Bokeh.embed.embed_items(docs_json, render_items);\n",
       "          };\n",
       "          if (document.readyState != \"loading\") fn();\n",
       "          else document.addEventListener(\"DOMContentLoaded\", fn);\n",
       "        })();\n",
       "      },\n",
       "      function(Bokeh) {\n",
       "      }\n",
       "    ];\n",
       "  \n",
       "    function run_inline_js() {\n",
       "      \n",
       "      if ((window.Bokeh !== undefined) || (force === true)) {\n",
       "        for (var i = 0; i < inline_js.length; i++) {\n",
       "          inline_js[i](window.Bokeh);\n",
       "        }if (force === true) {\n",
       "          display_loaded();\n",
       "        }} else if (Date.now() < window._bokeh_timeout) {\n",
       "        setTimeout(run_inline_js, 100);\n",
       "      } else if (!window._bokeh_failed_load) {\n",
       "        console.log(\"Bokeh: BokehJS failed to load within specified timeout.\");\n",
       "        window._bokeh_failed_load = true;\n",
       "      } else if (force !== true) {\n",
       "        var cell = $(document.getElementById(\"1a73db8c-860e-4892-af6a-c9aee2299558\")).parents('.cell').data().cell;\n",
       "        cell.output_area.append_execute_result(NB_LOAD_WARNING)\n",
       "      }\n",
       "  \n",
       "    }\n",
       "  \n",
       "    if (window._bokeh_is_loading === 0) {\n",
       "      console.log(\"Bokeh: BokehJS loaded, going straight to plotting\");\n",
       "      run_inline_js();\n",
       "    } else {\n",
       "      load_libs(js_urls, function() {\n",
       "        console.log(\"Bokeh: BokehJS plotting callback run at\", now());\n",
       "        run_inline_js();\n",
       "      });\n",
       "    }\n",
       "  }(this));\n",
       "</script>"
      ]
     },
     "metadata": {},
     "output_type": "display_data"
    },
    {
     "data": {
      "text/html": [
       "<p><code>&lt;Bokeh Notebook handle for <strong>In[58]</strong>&gt;</code></p>"
      ],
      "text/plain": [
       "<bokeh.io._CommsHandle at 0x10fd2f5c0>"
      ]
     },
     "execution_count": 58,
     "metadata": {},
     "output_type": "execute_result"
    }
   ],
   "source": [
    "show(p, notebook_handle=True)"
   ]
  },
  {
   "cell_type": "code",
   "execution_count": 59,
   "metadata": {
    "collapsed": false
   },
   "outputs": [],
   "source": [
    "from ipywidgets import interact\n",
    "interact(update, f=[\"sin\", \"cos\", \"tan\"], \n",
    "                 w=(0,10, 0.1), \n",
    "                 A=(0,5, 0.1), \n",
    "                 phi=(0, 10, 0.1))"
   ]
  },
  {
   "cell_type": "markdown",
   "metadata": {},
   "source": [
    "# Widgets"
   ]
  },
  {
   "cell_type": "markdown",
   "metadata": {},
   "source": [
    "Bokeh supports direct integration with a small basic widget set. Thse can be used in conjunction with a Bokeh Server, or with ``CustomJS`` models to add more interactive capability to your documents. You can see a complete list, with example code in the [Adding Widgets](http://bokeh.pydata.org/en/latest/docs/user_guide/interaction.html#adding-widgets) section of the User's Guide. \n",
    "\n",
    "To use the widgets, include them in a layout like you would a plot object:"
   ]
  },
  {
   "cell_type": "code",
   "execution_count": 60,
   "metadata": {
    "collapsed": true
   },
   "outputs": [],
   "source": [
    "from bokeh.layouts import widgetbox\n",
    "from bokeh.models.widgets import Slider"
   ]
  },
  {
   "cell_type": "code",
   "execution_count": 61,
   "metadata": {
    "collapsed": true
   },
   "outputs": [],
   "source": [
    "slider = Slider(start=0, end=10, value=1, step=.1, title=\"foo\")"
   ]
  },
  {
   "cell_type": "code",
   "execution_count": 62,
   "metadata": {
    "collapsed": false
   },
   "outputs": [
    {
     "data": {
      "text/html": [
       "\n",
       "\n",
       "    <div class=\"bk-root\">\n",
       "        <div class=\"bk-plotdiv\" id=\"43e60eb6-6a79-41ed-bc3c-5e1077b8679f\"></div>\n",
       "    </div>\n",
       "<script type=\"text/javascript\">\n",
       "  \n",
       "  (function(global) {\n",
       "    function now() {\n",
       "      return new Date();\n",
       "    }\n",
       "  \n",
       "    var force = false;\n",
       "  \n",
       "    if (typeof (window._bokeh_onload_callbacks) === \"undefined\" || force === true) {\n",
       "      window._bokeh_onload_callbacks = [];\n",
       "      window._bokeh_is_loading = undefined;\n",
       "    }\n",
       "  \n",
       "  \n",
       "    \n",
       "    if (typeof (window._bokeh_timeout) === \"undefined\" || force === true) {\n",
       "      window._bokeh_timeout = Date.now() + 0;\n",
       "      window._bokeh_failed_load = false;\n",
       "    }\n",
       "  \n",
       "    var NB_LOAD_WARNING = {'data': {'text/html':\n",
       "       \"<div style='background-color: #fdd'>\\n\"+\n",
       "       \"<p>\\n\"+\n",
       "       \"BokehJS does not appear to have successfully loaded. If loading BokehJS from CDN, this \\n\"+\n",
       "       \"may be due to a slow or bad network connection. Possible fixes:\\n\"+\n",
       "       \"</p>\\n\"+\n",
       "       \"<ul>\\n\"+\n",
       "       \"<li>re-rerun `output_notebook()` to attempt to load from CDN again, or</li>\\n\"+\n",
       "       \"<li>use INLINE resources instead, as so:</li>\\n\"+\n",
       "       \"</ul>\\n\"+\n",
       "       \"<code>\\n\"+\n",
       "       \"from bokeh.resources import INLINE\\n\"+\n",
       "       \"output_notebook(resources=INLINE)\\n\"+\n",
       "       \"</code>\\n\"+\n",
       "       \"</div>\"}};\n",
       "  \n",
       "    function display_loaded() {\n",
       "      if (window.Bokeh !== undefined) {\n",
       "        document.getElementById(\"43e60eb6-6a79-41ed-bc3c-5e1077b8679f\").textContent = \"BokehJS successfully loaded.\";\n",
       "      } else if (Date.now() < window._bokeh_timeout) {\n",
       "        setTimeout(display_loaded, 100)\n",
       "      }\n",
       "    }\n",
       "  \n",
       "    function run_callbacks() {\n",
       "      window._bokeh_onload_callbacks.forEach(function(callback) { callback() });\n",
       "      delete window._bokeh_onload_callbacks\n",
       "      console.info(\"Bokeh: all callbacks have finished\");\n",
       "    }\n",
       "  \n",
       "    function load_libs(js_urls, callback) {\n",
       "      window._bokeh_onload_callbacks.push(callback);\n",
       "      if (window._bokeh_is_loading > 0) {\n",
       "        console.log(\"Bokeh: BokehJS is being loaded, scheduling callback at\", now());\n",
       "        return null;\n",
       "      }\n",
       "      if (js_urls == null || js_urls.length === 0) {\n",
       "        run_callbacks();\n",
       "        return null;\n",
       "      }\n",
       "      console.log(\"Bokeh: BokehJS not loaded, scheduling load and callback at\", now());\n",
       "      window._bokeh_is_loading = js_urls.length;\n",
       "      for (var i = 0; i < js_urls.length; i++) {\n",
       "        var url = js_urls[i];\n",
       "        var s = document.createElement('script');\n",
       "        s.src = url;\n",
       "        s.async = false;\n",
       "        s.onreadystatechange = s.onload = function() {\n",
       "          window._bokeh_is_loading--;\n",
       "          if (window._bokeh_is_loading === 0) {\n",
       "            console.log(\"Bokeh: all BokehJS libraries loaded\");\n",
       "            run_callbacks()\n",
       "          }\n",
       "        };\n",
       "        s.onerror = function() {\n",
       "          console.warn(\"failed to load library \" + url);\n",
       "        };\n",
       "        console.log(\"Bokeh: injecting script tag for BokehJS library: \", url);\n",
       "        document.getElementsByTagName(\"head\")[0].appendChild(s);\n",
       "      }\n",
       "    };var element = document.getElementById(\"43e60eb6-6a79-41ed-bc3c-5e1077b8679f\");\n",
       "    if (element == null) {\n",
       "      console.log(\"Bokeh: ERROR: autoload.js configured with elementid '43e60eb6-6a79-41ed-bc3c-5e1077b8679f' but no matching script tag was found. \")\n",
       "      return false;\n",
       "    }\n",
       "  \n",
       "    var js_urls = [];\n",
       "  \n",
       "    var inline_js = [\n",
       "      function(Bokeh) {\n",
       "        (function() {\n",
       "          var fn = function() {\n",
       "            var docs_json = {\"354e8d28-e715-40b5-9aa7-dc6633019c17\":{\"roots\":{\"references\":[{\"attributes\":{\"children\":[{\"id\":\"9b20be02-ec92-447f-b957-36767dfe2558\",\"type\":\"Slider\"}]},\"id\":\"49a21787-c559-4836-a1b7-746de3b6de58\",\"type\":\"WidgetBox\"},{\"attributes\":{\"callback\":null,\"end\":10,\"title\":\"foo\",\"value\":1},\"id\":\"9b20be02-ec92-447f-b957-36767dfe2558\",\"type\":\"Slider\"}],\"root_ids\":[\"49a21787-c559-4836-a1b7-746de3b6de58\"]},\"title\":\"Bokeh Application\",\"version\":\"0.12.4\"}};\n",
       "            var render_items = [{\"docid\":\"354e8d28-e715-40b5-9aa7-dc6633019c17\",\"elementid\":\"43e60eb6-6a79-41ed-bc3c-5e1077b8679f\",\"modelid\":\"49a21787-c559-4836-a1b7-746de3b6de58\"}];\n",
       "            \n",
       "            Bokeh.embed.embed_items(docs_json, render_items);\n",
       "          };\n",
       "          if (document.readyState != \"loading\") fn();\n",
       "          else document.addEventListener(\"DOMContentLoaded\", fn);\n",
       "        })();\n",
       "      },\n",
       "      function(Bokeh) {\n",
       "      }\n",
       "    ];\n",
       "  \n",
       "    function run_inline_js() {\n",
       "      \n",
       "      if ((window.Bokeh !== undefined) || (force === true)) {\n",
       "        for (var i = 0; i < inline_js.length; i++) {\n",
       "          inline_js[i](window.Bokeh);\n",
       "        }if (force === true) {\n",
       "          display_loaded();\n",
       "        }} else if (Date.now() < window._bokeh_timeout) {\n",
       "        setTimeout(run_inline_js, 100);\n",
       "      } else if (!window._bokeh_failed_load) {\n",
       "        console.log(\"Bokeh: BokehJS failed to load within specified timeout.\");\n",
       "        window._bokeh_failed_load = true;\n",
       "      } else if (force !== true) {\n",
       "        var cell = $(document.getElementById(\"43e60eb6-6a79-41ed-bc3c-5e1077b8679f\")).parents('.cell').data().cell;\n",
       "        cell.output_area.append_execute_result(NB_LOAD_WARNING)\n",
       "      }\n",
       "  \n",
       "    }\n",
       "  \n",
       "    if (window._bokeh_is_loading === 0) {\n",
       "      console.log(\"Bokeh: BokehJS loaded, going straight to plotting\");\n",
       "      run_inline_js();\n",
       "    } else {\n",
       "      load_libs(js_urls, function() {\n",
       "        console.log(\"Bokeh: BokehJS plotting callback run at\", now());\n",
       "        run_inline_js();\n",
       "      });\n",
       "    }\n",
       "  }(this));\n",
       "</script>"
      ]
     },
     "metadata": {},
     "output_type": "display_data"
    }
   ],
   "source": [
    "show(widgetbox(slider))"
   ]
  },
  {
   "cell_type": "markdown",
   "metadata": {},
   "source": [
    "# CustomJS Callbacks"
   ]
  },
  {
   "cell_type": "code",
   "execution_count": 63,
   "metadata": {
    "collapsed": true
   },
   "outputs": [],
   "source": [
    "from bokeh.models import TapTool, CustomJS, ColumnDataSource"
   ]
  },
  {
   "cell_type": "code",
   "execution_count": 64,
   "metadata": {
    "collapsed": true
   },
   "outputs": [],
   "source": [
    "callback = CustomJS(code=\"alert('hello world')\")\n",
    "tap = TapTool(callback=callback)"
   ]
  },
  {
   "cell_type": "code",
   "execution_count": 65,
   "metadata": {
    "collapsed": true
   },
   "outputs": [],
   "source": [
    "p = figure(plot_width=600, plot_height=300, tools=[tap])"
   ]
  },
  {
   "cell_type": "code",
   "execution_count": 66,
   "metadata": {
    "collapsed": false
   },
   "outputs": [
    {
     "data": {
      "text/html": [
       "<div style=\"display: table;\"><div style=\"display: table-row;\"><div style=\"display: table-cell;\"><b title=\"bokeh.models.renderers.GlyphRenderer\">GlyphRenderer</b>(</div><div style=\"display: table-cell;\">id&nbsp;=&nbsp;'33db811a-f2b5-4dab-989f-3eb925b0b94a', <span id=\"f6ab8067-a1e4-4bb2-8827-ec94bfc3b21c\" style=\"cursor: pointer;\">&hellip;)</span></div></div><div class=\"2e20f0da-3322-464f-8586-28a40792a8cf\" style=\"display: none;\"><div style=\"display: table-cell;\"></div><div style=\"display: table-cell;\">data_source&nbsp;=&nbsp;ColumnDataSource(id='8c81d51f-4347-47f8-bcb9-8f15f5142a20', ...),</div></div><div class=\"2e20f0da-3322-464f-8586-28a40792a8cf\" style=\"display: none;\"><div style=\"display: table-cell;\"></div><div style=\"display: table-cell;\">glyph&nbsp;=&nbsp;Circle(id='d4cd9cbd-5efa-404f-9e9f-16bb6f9ccf0e', ...),</div></div><div class=\"2e20f0da-3322-464f-8586-28a40792a8cf\" style=\"display: none;\"><div style=\"display: table-cell;\"></div><div style=\"display: table-cell;\">hover_glyph&nbsp;=&nbsp;None,</div></div><div class=\"2e20f0da-3322-464f-8586-28a40792a8cf\" style=\"display: none;\"><div style=\"display: table-cell;\"></div><div style=\"display: table-cell;\">js_callbacks&nbsp;=&nbsp;{},</div></div><div class=\"2e20f0da-3322-464f-8586-28a40792a8cf\" style=\"display: none;\"><div style=\"display: table-cell;\"></div><div style=\"display: table-cell;\">level&nbsp;=&nbsp;'glyph',</div></div><div class=\"2e20f0da-3322-464f-8586-28a40792a8cf\" style=\"display: none;\"><div style=\"display: table-cell;\"></div><div style=\"display: table-cell;\">name&nbsp;=&nbsp;None,</div></div><div class=\"2e20f0da-3322-464f-8586-28a40792a8cf\" style=\"display: none;\"><div style=\"display: table-cell;\"></div><div style=\"display: table-cell;\">nonselection_glyph&nbsp;=&nbsp;Circle(id='d5942bc0-f27f-4a2c-9400-8801df1f917a', ...),</div></div><div class=\"2e20f0da-3322-464f-8586-28a40792a8cf\" style=\"display: none;\"><div style=\"display: table-cell;\"></div><div style=\"display: table-cell;\">selection_glyph&nbsp;=&nbsp;None,</div></div><div class=\"2e20f0da-3322-464f-8586-28a40792a8cf\" style=\"display: none;\"><div style=\"display: table-cell;\"></div><div style=\"display: table-cell;\">tags&nbsp;=&nbsp;[],</div></div><div class=\"2e20f0da-3322-464f-8586-28a40792a8cf\" style=\"display: none;\"><div style=\"display: table-cell;\"></div><div style=\"display: table-cell;\">visible&nbsp;=&nbsp;True,</div></div><div class=\"2e20f0da-3322-464f-8586-28a40792a8cf\" style=\"display: none;\"><div style=\"display: table-cell;\"></div><div style=\"display: table-cell;\">x_range_name&nbsp;=&nbsp;'default',</div></div><div class=\"2e20f0da-3322-464f-8586-28a40792a8cf\" style=\"display: none;\"><div style=\"display: table-cell;\"></div><div style=\"display: table-cell;\">y_range_name&nbsp;=&nbsp;'default')</div></div></div>\n",
       "<script>\n",
       "(function() {\n",
       "  var expanded = false;\n",
       "  var ellipsis = document.getElementById(\"f6ab8067-a1e4-4bb2-8827-ec94bfc3b21c\");\n",
       "  ellipsis.addEventListener(\"click\", function() {\n",
       "    var rows = document.getElementsByClassName(\"2e20f0da-3322-464f-8586-28a40792a8cf\");\n",
       "    for (var i = 0; i < rows.length; i++) {\n",
       "      var el = rows[i];\n",
       "      el.style.display = expanded ? \"none\" : \"table-row\";\n",
       "    }\n",
       "    ellipsis.innerHTML = expanded ? \"&hellip;)\" : \"&lsaquo;&lsaquo;&lsaquo;\";\n",
       "    expanded = !expanded;\n",
       "  });\n",
       "})();\n",
       "</script>\n"
      ],
      "text/plain": [
       "GlyphRenderer(id='33db811a-f2b5-4dab-989f-3eb925b0b94a', ...)"
      ]
     },
     "execution_count": 66,
     "metadata": {},
     "output_type": "execute_result"
    }
   ],
   "source": [
    "p.circle('x', 'y', size=20, source=ColumnDataSource(data=dict(x=[1, 2, 3, 4, 5], y=[2, 5, 8, 2, 7])))"
   ]
  },
  {
   "cell_type": "code",
   "execution_count": 67,
   "metadata": {
    "collapsed": false
   },
   "outputs": [
    {
     "data": {
      "text/html": [
       "\n",
       "\n",
       "    <div class=\"bk-root\">\n",
       "        <div class=\"bk-plotdiv\" id=\"4ffa354e-4983-4001-a0ef-1287f3f43e64\"></div>\n",
       "    </div>\n",
       "<script type=\"text/javascript\">\n",
       "  \n",
       "  (function(global) {\n",
       "    function now() {\n",
       "      return new Date();\n",
       "    }\n",
       "  \n",
       "    var force = false;\n",
       "  \n",
       "    if (typeof (window._bokeh_onload_callbacks) === \"undefined\" || force === true) {\n",
       "      window._bokeh_onload_callbacks = [];\n",
       "      window._bokeh_is_loading = undefined;\n",
       "    }\n",
       "  \n",
       "  \n",
       "    \n",
       "    if (typeof (window._bokeh_timeout) === \"undefined\" || force === true) {\n",
       "      window._bokeh_timeout = Date.now() + 0;\n",
       "      window._bokeh_failed_load = false;\n",
       "    }\n",
       "  \n",
       "    var NB_LOAD_WARNING = {'data': {'text/html':\n",
       "       \"<div style='background-color: #fdd'>\\n\"+\n",
       "       \"<p>\\n\"+\n",
       "       \"BokehJS does not appear to have successfully loaded. If loading BokehJS from CDN, this \\n\"+\n",
       "       \"may be due to a slow or bad network connection. Possible fixes:\\n\"+\n",
       "       \"</p>\\n\"+\n",
       "       \"<ul>\\n\"+\n",
       "       \"<li>re-rerun `output_notebook()` to attempt to load from CDN again, or</li>\\n\"+\n",
       "       \"<li>use INLINE resources instead, as so:</li>\\n\"+\n",
       "       \"</ul>\\n\"+\n",
       "       \"<code>\\n\"+\n",
       "       \"from bokeh.resources import INLINE\\n\"+\n",
       "       \"output_notebook(resources=INLINE)\\n\"+\n",
       "       \"</code>\\n\"+\n",
       "       \"</div>\"}};\n",
       "  \n",
       "    function display_loaded() {\n",
       "      if (window.Bokeh !== undefined) {\n",
       "        document.getElementById(\"4ffa354e-4983-4001-a0ef-1287f3f43e64\").textContent = \"BokehJS successfully loaded.\";\n",
       "      } else if (Date.now() < window._bokeh_timeout) {\n",
       "        setTimeout(display_loaded, 100)\n",
       "      }\n",
       "    }\n",
       "  \n",
       "    function run_callbacks() {\n",
       "      window._bokeh_onload_callbacks.forEach(function(callback) { callback() });\n",
       "      delete window._bokeh_onload_callbacks\n",
       "      console.info(\"Bokeh: all callbacks have finished\");\n",
       "    }\n",
       "  \n",
       "    function load_libs(js_urls, callback) {\n",
       "      window._bokeh_onload_callbacks.push(callback);\n",
       "      if (window._bokeh_is_loading > 0) {\n",
       "        console.log(\"Bokeh: BokehJS is being loaded, scheduling callback at\", now());\n",
       "        return null;\n",
       "      }\n",
       "      if (js_urls == null || js_urls.length === 0) {\n",
       "        run_callbacks();\n",
       "        return null;\n",
       "      }\n",
       "      console.log(\"Bokeh: BokehJS not loaded, scheduling load and callback at\", now());\n",
       "      window._bokeh_is_loading = js_urls.length;\n",
       "      for (var i = 0; i < js_urls.length; i++) {\n",
       "        var url = js_urls[i];\n",
       "        var s = document.createElement('script');\n",
       "        s.src = url;\n",
       "        s.async = false;\n",
       "        s.onreadystatechange = s.onload = function() {\n",
       "          window._bokeh_is_loading--;\n",
       "          if (window._bokeh_is_loading === 0) {\n",
       "            console.log(\"Bokeh: all BokehJS libraries loaded\");\n",
       "            run_callbacks()\n",
       "          }\n",
       "        };\n",
       "        s.onerror = function() {\n",
       "          console.warn(\"failed to load library \" + url);\n",
       "        };\n",
       "        console.log(\"Bokeh: injecting script tag for BokehJS library: \", url);\n",
       "        document.getElementsByTagName(\"head\")[0].appendChild(s);\n",
       "      }\n",
       "    };var element = document.getElementById(\"4ffa354e-4983-4001-a0ef-1287f3f43e64\");\n",
       "    if (element == null) {\n",
       "      console.log(\"Bokeh: ERROR: autoload.js configured with elementid '4ffa354e-4983-4001-a0ef-1287f3f43e64' but no matching script tag was found. \")\n",
       "      return false;\n",
       "    }\n",
       "  \n",
       "    var js_urls = [];\n",
       "  \n",
       "    var inline_js = [\n",
       "      function(Bokeh) {\n",
       "        (function() {\n",
       "          var fn = function() {\n",
       "            var docs_json = {\"3c5c83e6-d2b5-4814-87ca-cc17adf37525\":{\"roots\":{\"references\":[{\"attributes\":{\"active_drag\":\"auto\",\"active_scroll\":\"auto\",\"active_tap\":\"auto\",\"tools\":[{\"id\":\"c873bcca-7819-4db6-a8fd-4c44f1af06c8\",\"type\":\"TapTool\"}]},\"id\":\"66f9d7e2-4e19-4afd-acea-92addd696ecd\",\"type\":\"Toolbar\"},{\"attributes\":{\"callback\":null},\"id\":\"36e652f0-5110-4dee-9039-bccbd5d36d02\",\"type\":\"DataRange1d\"},{\"attributes\":{\"formatter\":{\"id\":\"12259fab-1894-4983-903f-4c1b6694a95f\",\"type\":\"BasicTickFormatter\"},\"plot\":{\"id\":\"490b5096-367b-490d-87ce-1159d6e1602d\",\"subtype\":\"Figure\",\"type\":\"Plot\"},\"ticker\":{\"id\":\"e44402ef-450c-4f77-9c81-73a9d0b89bc7\",\"type\":\"BasicTicker\"}},\"id\":\"9b3a1e42-89bd-4db3-9b7d-e934a7c6a9cd\",\"type\":\"LinearAxis\"},{\"attributes\":{\"code\":\"alert('hello world')\"},\"id\":\"e85e4b46-7406-4f6c-8a05-3bdd9fc0d747\",\"type\":\"CustomJS\"},{\"attributes\":{},\"id\":\"e44402ef-450c-4f77-9c81-73a9d0b89bc7\",\"type\":\"BasicTicker\"},{\"attributes\":{\"below\":[{\"id\":\"59920d1f-1b2e-45b6-b897-ac9c2034bb9e\",\"type\":\"LinearAxis\"}],\"left\":[{\"id\":\"9b3a1e42-89bd-4db3-9b7d-e934a7c6a9cd\",\"type\":\"LinearAxis\"}],\"plot_height\":300,\"renderers\":[{\"id\":\"59920d1f-1b2e-45b6-b897-ac9c2034bb9e\",\"type\":\"LinearAxis\"},{\"id\":\"0d8229df-506a-4383-8657-c2cc466025ff\",\"type\":\"Grid\"},{\"id\":\"9b3a1e42-89bd-4db3-9b7d-e934a7c6a9cd\",\"type\":\"LinearAxis\"},{\"id\":\"bddcd44d-9df0-4f7b-bd5b-22082e733aab\",\"type\":\"Grid\"},{\"id\":\"33db811a-f2b5-4dab-989f-3eb925b0b94a\",\"type\":\"GlyphRenderer\"}],\"title\":{\"id\":\"3a8f040d-1a26-4ca3-a25c-4b8c2e0003ca\",\"type\":\"Title\"},\"tool_events\":{\"id\":\"cd235699-5f6e-4627-a571-2619fb824d7f\",\"type\":\"ToolEvents\"},\"toolbar\":{\"id\":\"66f9d7e2-4e19-4afd-acea-92addd696ecd\",\"type\":\"Toolbar\"},\"x_range\":{\"id\":\"36e652f0-5110-4dee-9039-bccbd5d36d02\",\"type\":\"DataRange1d\"},\"y_range\":{\"id\":\"e32f320e-14cf-41fd-8fcc-5eb1602b2d61\",\"type\":\"DataRange1d\"}},\"id\":\"490b5096-367b-490d-87ce-1159d6e1602d\",\"subtype\":\"Figure\",\"type\":\"Plot\"},{\"attributes\":{\"formatter\":{\"id\":\"0d475518-b109-4c78-a2b6-39282da54a5b\",\"type\":\"BasicTickFormatter\"},\"plot\":{\"id\":\"490b5096-367b-490d-87ce-1159d6e1602d\",\"subtype\":\"Figure\",\"type\":\"Plot\"},\"ticker\":{\"id\":\"d0f13af7-a86c-4cf0-a61c-3e2b3b6b203c\",\"type\":\"BasicTicker\"}},\"id\":\"59920d1f-1b2e-45b6-b897-ac9c2034bb9e\",\"type\":\"LinearAxis\"},{\"attributes\":{\"plot\":null,\"text\":\"\"},\"id\":\"3a8f040d-1a26-4ca3-a25c-4b8c2e0003ca\",\"type\":\"Title\"},{\"attributes\":{\"fill_color\":{\"value\":\"#1f77b4\"},\"line_color\":{\"value\":\"#1f77b4\"},\"size\":{\"units\":\"screen\",\"value\":20},\"x\":{\"field\":\"x\"},\"y\":{\"field\":\"y\"}},\"id\":\"d4cd9cbd-5efa-404f-9e9f-16bb6f9ccf0e\",\"type\":\"Circle\"},{\"attributes\":{\"dimension\":1,\"plot\":{\"id\":\"490b5096-367b-490d-87ce-1159d6e1602d\",\"subtype\":\"Figure\",\"type\":\"Plot\"},\"ticker\":{\"id\":\"e44402ef-450c-4f77-9c81-73a9d0b89bc7\",\"type\":\"BasicTicker\"}},\"id\":\"bddcd44d-9df0-4f7b-bd5b-22082e733aab\",\"type\":\"Grid\"},{\"attributes\":{},\"id\":\"12259fab-1894-4983-903f-4c1b6694a95f\",\"type\":\"BasicTickFormatter\"},{\"attributes\":{},\"id\":\"0d475518-b109-4c78-a2b6-39282da54a5b\",\"type\":\"BasicTickFormatter\"},{\"attributes\":{\"callback\":{\"id\":\"e85e4b46-7406-4f6c-8a05-3bdd9fc0d747\",\"type\":\"CustomJS\"},\"plot\":{\"id\":\"490b5096-367b-490d-87ce-1159d6e1602d\",\"subtype\":\"Figure\",\"type\":\"Plot\"}},\"id\":\"c873bcca-7819-4db6-a8fd-4c44f1af06c8\",\"type\":\"TapTool\"},{\"attributes\":{\"fill_alpha\":{\"value\":0.1},\"fill_color\":{\"value\":\"#1f77b4\"},\"line_alpha\":{\"value\":0.1},\"line_color\":{\"value\":\"#1f77b4\"},\"size\":{\"units\":\"screen\",\"value\":20},\"x\":{\"field\":\"x\"},\"y\":{\"field\":\"y\"}},\"id\":\"d5942bc0-f27f-4a2c-9400-8801df1f917a\",\"type\":\"Circle\"},{\"attributes\":{\"plot\":{\"id\":\"490b5096-367b-490d-87ce-1159d6e1602d\",\"subtype\":\"Figure\",\"type\":\"Plot\"},\"ticker\":{\"id\":\"d0f13af7-a86c-4cf0-a61c-3e2b3b6b203c\",\"type\":\"BasicTicker\"}},\"id\":\"0d8229df-506a-4383-8657-c2cc466025ff\",\"type\":\"Grid\"},{\"attributes\":{\"callback\":null,\"column_names\":[\"x\",\"y\"],\"data\":{\"x\":[1,2,3,4,5],\"y\":[2,5,8,2,7]}},\"id\":\"8c81d51f-4347-47f8-bcb9-8f15f5142a20\",\"type\":\"ColumnDataSource\"},{\"attributes\":{\"data_source\":{\"id\":\"8c81d51f-4347-47f8-bcb9-8f15f5142a20\",\"type\":\"ColumnDataSource\"},\"glyph\":{\"id\":\"d4cd9cbd-5efa-404f-9e9f-16bb6f9ccf0e\",\"type\":\"Circle\"},\"hover_glyph\":null,\"nonselection_glyph\":{\"id\":\"d5942bc0-f27f-4a2c-9400-8801df1f917a\",\"type\":\"Circle\"},\"selection_glyph\":null},\"id\":\"33db811a-f2b5-4dab-989f-3eb925b0b94a\",\"type\":\"GlyphRenderer\"},{\"attributes\":{},\"id\":\"d0f13af7-a86c-4cf0-a61c-3e2b3b6b203c\",\"type\":\"BasicTicker\"},{\"attributes\":{\"callback\":null},\"id\":\"e32f320e-14cf-41fd-8fcc-5eb1602b2d61\",\"type\":\"DataRange1d\"},{\"attributes\":{},\"id\":\"cd235699-5f6e-4627-a571-2619fb824d7f\",\"type\":\"ToolEvents\"}],\"root_ids\":[\"490b5096-367b-490d-87ce-1159d6e1602d\"]},\"title\":\"Bokeh Application\",\"version\":\"0.12.4\"}};\n",
       "            var render_items = [{\"docid\":\"3c5c83e6-d2b5-4814-87ca-cc17adf37525\",\"elementid\":\"4ffa354e-4983-4001-a0ef-1287f3f43e64\",\"modelid\":\"490b5096-367b-490d-87ce-1159d6e1602d\"}];\n",
       "            \n",
       "            Bokeh.embed.embed_items(docs_json, render_items);\n",
       "          };\n",
       "          if (document.readyState != \"loading\") fn();\n",
       "          else document.addEventListener(\"DOMContentLoaded\", fn);\n",
       "        })();\n",
       "      },\n",
       "      function(Bokeh) {\n",
       "      }\n",
       "    ];\n",
       "  \n",
       "    function run_inline_js() {\n",
       "      \n",
       "      if ((window.Bokeh !== undefined) || (force === true)) {\n",
       "        for (var i = 0; i < inline_js.length; i++) {\n",
       "          inline_js[i](window.Bokeh);\n",
       "        }if (force === true) {\n",
       "          display_loaded();\n",
       "        }} else if (Date.now() < window._bokeh_timeout) {\n",
       "        setTimeout(run_inline_js, 100);\n",
       "      } else if (!window._bokeh_failed_load) {\n",
       "        console.log(\"Bokeh: BokehJS failed to load within specified timeout.\");\n",
       "        window._bokeh_failed_load = true;\n",
       "      } else if (force !== true) {\n",
       "        var cell = $(document.getElementById(\"4ffa354e-4983-4001-a0ef-1287f3f43e64\")).parents('.cell').data().cell;\n",
       "        cell.output_area.append_execute_result(NB_LOAD_WARNING)\n",
       "      }\n",
       "  \n",
       "    }\n",
       "  \n",
       "    if (window._bokeh_is_loading === 0) {\n",
       "      console.log(\"Bokeh: BokehJS loaded, going straight to plotting\");\n",
       "      run_inline_js();\n",
       "    } else {\n",
       "      load_libs(js_urls, function() {\n",
       "        console.log(\"Bokeh: BokehJS plotting callback run at\", now());\n",
       "        run_inline_js();\n",
       "      });\n",
       "    }\n",
       "  }(this));\n",
       "</script>"
      ]
     },
     "metadata": {},
     "output_type": "display_data"
    }
   ],
   "source": [
    "show(p)"
   ]
  },
  {
   "cell_type": "markdown",
   "metadata": {},
   "source": [
    "## Lots of places to add callbacks\n",
    "\n",
    "* Widgets - Button, Toggle, Dropdown, TextInput, AutocompleteInput, Select, Multiselect, Slider, (DateRangeSlider), DatePicker,\n",
    "* Tools - TapTool, BoxSelectTool, HoverTool,\n",
    "* Selection - ColumnDataSource, AjaxDataSource, BlazeDataSource, ServerDataSource\n",
    "* Ranges - Range1d, DataRange1d, FactorRange\n"
   ]
  },
  {
   "cell_type": "markdown",
   "metadata": {},
   "source": [
    "## Callbacks for widgets\n",
    "\n",
    "Widgets that have values associated can have small JavaScript actions attached to them. These actions (also referred to as \"callbacks\") are executed whenever the widget's value is changed. In order to make it easier to refer to specific Bokeh models (e.g., a data source, or a glyhph) from JavaScript, the ``CustomJS`` obejct also accepts a dictionary of \"args\" that map names to Python Bokeh models. The corresponding JavaScript models are made available automaticaly to the ``CustomJS`` code. \n",
    "\n",
    "And example below shows an action attached to a slider that updates a data source whenever the slider is moved:"
   ]
  },
  {
   "cell_type": "code",
   "execution_count": 68,
   "metadata": {
    "collapsed": true
   },
   "outputs": [],
   "source": [
    "from bokeh.layouts import column\n",
    "from bokeh.models import CustomJS, ColumnDataSource, Slider"
   ]
  },
  {
   "cell_type": "code",
   "execution_count": 69,
   "metadata": {
    "collapsed": true
   },
   "outputs": [],
   "source": [
    "x = [x*0.005 for x in range(0, 200)]\n",
    "y = x"
   ]
  },
  {
   "cell_type": "code",
   "execution_count": 70,
   "metadata": {
    "collapsed": true
   },
   "outputs": [],
   "source": [
    "source = ColumnDataSource(data=dict(x=x, y=y))"
   ]
  },
  {
   "cell_type": "code",
   "execution_count": 71,
   "metadata": {
    "collapsed": false
   },
   "outputs": [
    {
     "data": {
      "text/html": [
       "<div style=\"display: table;\"><div style=\"display: table-row;\"><div style=\"display: table-cell;\"><b title=\"bokeh.models.renderers.GlyphRenderer\">GlyphRenderer</b>(</div><div style=\"display: table-cell;\">id&nbsp;=&nbsp;'d6305494-4a7e-4ad4-a74b-9eea7d6a05df', <span id=\"754de575-7733-4e27-81e5-aa3b978fb256\" style=\"cursor: pointer;\">&hellip;)</span></div></div><div class=\"ae9f6879-b724-4af1-b5e2-89b7f7ed77bb\" style=\"display: none;\"><div style=\"display: table-cell;\"></div><div style=\"display: table-cell;\">data_source&nbsp;=&nbsp;ColumnDataSource(id='6880816b-f16a-40a2-9b42-c252badd13ca', ...),</div></div><div class=\"ae9f6879-b724-4af1-b5e2-89b7f7ed77bb\" style=\"display: none;\"><div style=\"display: table-cell;\"></div><div style=\"display: table-cell;\">glyph&nbsp;=&nbsp;Line(id='4bb2de8c-9377-4316-bf0f-218b4b8d7a07', ...),</div></div><div class=\"ae9f6879-b724-4af1-b5e2-89b7f7ed77bb\" style=\"display: none;\"><div style=\"display: table-cell;\"></div><div style=\"display: table-cell;\">hover_glyph&nbsp;=&nbsp;None,</div></div><div class=\"ae9f6879-b724-4af1-b5e2-89b7f7ed77bb\" style=\"display: none;\"><div style=\"display: table-cell;\"></div><div style=\"display: table-cell;\">js_callbacks&nbsp;=&nbsp;{},</div></div><div class=\"ae9f6879-b724-4af1-b5e2-89b7f7ed77bb\" style=\"display: none;\"><div style=\"display: table-cell;\"></div><div style=\"display: table-cell;\">level&nbsp;=&nbsp;'glyph',</div></div><div class=\"ae9f6879-b724-4af1-b5e2-89b7f7ed77bb\" style=\"display: none;\"><div style=\"display: table-cell;\"></div><div style=\"display: table-cell;\">name&nbsp;=&nbsp;None,</div></div><div class=\"ae9f6879-b724-4af1-b5e2-89b7f7ed77bb\" style=\"display: none;\"><div style=\"display: table-cell;\"></div><div style=\"display: table-cell;\">nonselection_glyph&nbsp;=&nbsp;Line(id='9eaca69a-dbe3-4a39-b285-e1475b842590', ...),</div></div><div class=\"ae9f6879-b724-4af1-b5e2-89b7f7ed77bb\" style=\"display: none;\"><div style=\"display: table-cell;\"></div><div style=\"display: table-cell;\">selection_glyph&nbsp;=&nbsp;None,</div></div><div class=\"ae9f6879-b724-4af1-b5e2-89b7f7ed77bb\" style=\"display: none;\"><div style=\"display: table-cell;\"></div><div style=\"display: table-cell;\">tags&nbsp;=&nbsp;[],</div></div><div class=\"ae9f6879-b724-4af1-b5e2-89b7f7ed77bb\" style=\"display: none;\"><div style=\"display: table-cell;\"></div><div style=\"display: table-cell;\">visible&nbsp;=&nbsp;True,</div></div><div class=\"ae9f6879-b724-4af1-b5e2-89b7f7ed77bb\" style=\"display: none;\"><div style=\"display: table-cell;\"></div><div style=\"display: table-cell;\">x_range_name&nbsp;=&nbsp;'default',</div></div><div class=\"ae9f6879-b724-4af1-b5e2-89b7f7ed77bb\" style=\"display: none;\"><div style=\"display: table-cell;\"></div><div style=\"display: table-cell;\">y_range_name&nbsp;=&nbsp;'default')</div></div></div>\n",
       "<script>\n",
       "(function() {\n",
       "  var expanded = false;\n",
       "  var ellipsis = document.getElementById(\"754de575-7733-4e27-81e5-aa3b978fb256\");\n",
       "  ellipsis.addEventListener(\"click\", function() {\n",
       "    var rows = document.getElementsByClassName(\"ae9f6879-b724-4af1-b5e2-89b7f7ed77bb\");\n",
       "    for (var i = 0; i < rows.length; i++) {\n",
       "      var el = rows[i];\n",
       "      el.style.display = expanded ? \"none\" : \"table-row\";\n",
       "    }\n",
       "    ellipsis.innerHTML = expanded ? \"&hellip;)\" : \"&lsaquo;&lsaquo;&lsaquo;\";\n",
       "    expanded = !expanded;\n",
       "  });\n",
       "})();\n",
       "</script>\n"
      ],
      "text/plain": [
       "GlyphRenderer(id='d6305494-4a7e-4ad4-a74b-9eea7d6a05df', ...)"
      ]
     },
     "execution_count": 71,
     "metadata": {},
     "output_type": "execute_result"
    }
   ],
   "source": [
    "plot = figure(plot_width=400, plot_height=400)\n",
    "plot.line('x', 'y', source=source, line_width=3, line_alpha=0.6)"
   ]
  },
  {
   "cell_type": "code",
   "execution_count": 72,
   "metadata": {
    "collapsed": true
   },
   "outputs": [],
   "source": [
    "callback = CustomJS(args=dict(source=source), code=\"\"\"\n",
    "    var data = source.get('data');\n",
    "    var f = cb_obj.get('value')\n",
    "    x = data['x']\n",
    "    y = data['y']\n",
    "    for (i = 0; i < x.length; i++) {\n",
    "        y[i] = Math.pow(x[i], f)\n",
    "    }\n",
    "    source.trigger('change');\n",
    "\"\"\")"
   ]
  },
  {
   "cell_type": "code",
   "execution_count": 73,
   "metadata": {
    "collapsed": true
   },
   "outputs": [],
   "source": [
    "slider = Slider(start=0.1, end=4, value=1, step=.1, title=\"power\", callback=callback)"
   ]
  },
  {
   "cell_type": "code",
   "execution_count": 74,
   "metadata": {
    "collapsed": true
   },
   "outputs": [],
   "source": [
    "layout = column(slider, plot)"
   ]
  },
  {
   "cell_type": "code",
   "execution_count": 75,
   "metadata": {
    "collapsed": false
   },
   "outputs": [
    {
     "data": {
      "text/html": [
       "\n",
       "\n",
       "    <div class=\"bk-root\">\n",
       "        <div class=\"bk-plotdiv\" id=\"39fc841f-ee25-4859-85af-9621d5d3b136\"></div>\n",
       "    </div>\n",
       "<script type=\"text/javascript\">\n",
       "  \n",
       "  (function(global) {\n",
       "    function now() {\n",
       "      return new Date();\n",
       "    }\n",
       "  \n",
       "    var force = false;\n",
       "  \n",
       "    if (typeof (window._bokeh_onload_callbacks) === \"undefined\" || force === true) {\n",
       "      window._bokeh_onload_callbacks = [];\n",
       "      window._bokeh_is_loading = undefined;\n",
       "    }\n",
       "  \n",
       "  \n",
       "    \n",
       "    if (typeof (window._bokeh_timeout) === \"undefined\" || force === true) {\n",
       "      window._bokeh_timeout = Date.now() + 0;\n",
       "      window._bokeh_failed_load = false;\n",
       "    }\n",
       "  \n",
       "    var NB_LOAD_WARNING = {'data': {'text/html':\n",
       "       \"<div style='background-color: #fdd'>\\n\"+\n",
       "       \"<p>\\n\"+\n",
       "       \"BokehJS does not appear to have successfully loaded. If loading BokehJS from CDN, this \\n\"+\n",
       "       \"may be due to a slow or bad network connection. Possible fixes:\\n\"+\n",
       "       \"</p>\\n\"+\n",
       "       \"<ul>\\n\"+\n",
       "       \"<li>re-rerun `output_notebook()` to attempt to load from CDN again, or</li>\\n\"+\n",
       "       \"<li>use INLINE resources instead, as so:</li>\\n\"+\n",
       "       \"</ul>\\n\"+\n",
       "       \"<code>\\n\"+\n",
       "       \"from bokeh.resources import INLINE\\n\"+\n",
       "       \"output_notebook(resources=INLINE)\\n\"+\n",
       "       \"</code>\\n\"+\n",
       "       \"</div>\"}};\n",
       "  \n",
       "    function display_loaded() {\n",
       "      if (window.Bokeh !== undefined) {\n",
       "        document.getElementById(\"39fc841f-ee25-4859-85af-9621d5d3b136\").textContent = \"BokehJS successfully loaded.\";\n",
       "      } else if (Date.now() < window._bokeh_timeout) {\n",
       "        setTimeout(display_loaded, 100)\n",
       "      }\n",
       "    }\n",
       "  \n",
       "    function run_callbacks() {\n",
       "      window._bokeh_onload_callbacks.forEach(function(callback) { callback() });\n",
       "      delete window._bokeh_onload_callbacks\n",
       "      console.info(\"Bokeh: all callbacks have finished\");\n",
       "    }\n",
       "  \n",
       "    function load_libs(js_urls, callback) {\n",
       "      window._bokeh_onload_callbacks.push(callback);\n",
       "      if (window._bokeh_is_loading > 0) {\n",
       "        console.log(\"Bokeh: BokehJS is being loaded, scheduling callback at\", now());\n",
       "        return null;\n",
       "      }\n",
       "      if (js_urls == null || js_urls.length === 0) {\n",
       "        run_callbacks();\n",
       "        return null;\n",
       "      }\n",
       "      console.log(\"Bokeh: BokehJS not loaded, scheduling load and callback at\", now());\n",
       "      window._bokeh_is_loading = js_urls.length;\n",
       "      for (var i = 0; i < js_urls.length; i++) {\n",
       "        var url = js_urls[i];\n",
       "        var s = document.createElement('script');\n",
       "        s.src = url;\n",
       "        s.async = false;\n",
       "        s.onreadystatechange = s.onload = function() {\n",
       "          window._bokeh_is_loading--;\n",
       "          if (window._bokeh_is_loading === 0) {\n",
       "            console.log(\"Bokeh: all BokehJS libraries loaded\");\n",
       "            run_callbacks()\n",
       "          }\n",
       "        };\n",
       "        s.onerror = function() {\n",
       "          console.warn(\"failed to load library \" + url);\n",
       "        };\n",
       "        console.log(\"Bokeh: injecting script tag for BokehJS library: \", url);\n",
       "        document.getElementsByTagName(\"head\")[0].appendChild(s);\n",
       "      }\n",
       "    };var element = document.getElementById(\"39fc841f-ee25-4859-85af-9621d5d3b136\");\n",
       "    if (element == null) {\n",
       "      console.log(\"Bokeh: ERROR: autoload.js configured with elementid '39fc841f-ee25-4859-85af-9621d5d3b136' but no matching script tag was found. \")\n",
       "      return false;\n",
       "    }\n",
       "  \n",
       "    var js_urls = [];\n",
       "  \n",
       "    var inline_js = [\n",
       "      function(Bokeh) {\n",
       "        (function() {\n",
       "          var fn = function() {\n",
       "            var docs_json = {\"a64ddfe9-bc2b-4f74-9eac-ba3c9a5bf4aa\":{\"roots\":{\"references\":[{\"attributes\":{\"bottom_units\":\"screen\",\"fill_alpha\":{\"value\":0.5},\"fill_color\":{\"value\":\"lightgrey\"},\"left_units\":\"screen\",\"level\":\"overlay\",\"line_alpha\":{\"value\":1.0},\"line_color\":{\"value\":\"black\"},\"line_dash\":[4,4],\"line_width\":{\"value\":2},\"plot\":null,\"render_mode\":\"css\",\"right_units\":\"screen\",\"top_units\":\"screen\"},\"id\":\"a8afca73-28c3-4331-94c2-fa66da7cd36a\",\"type\":\"BoxAnnotation\"},{\"attributes\":{\"callback\":null,\"column_names\":[\"x\",\"y\"],\"data\":{\"x\":[0.0,0.005,0.01,0.015,0.02,0.025,0.03,0.035,0.04,0.045,0.05,0.055,0.06,0.065,0.07,0.075,0.08,0.085,0.09,0.095,0.1,0.105,0.11,0.115,0.12,0.125,0.13,0.135,0.14,0.145,0.15,0.155,0.16,0.165,0.17,0.17500000000000002,0.18,0.185,0.19,0.195,0.2,0.20500000000000002,0.21,0.215,0.22,0.225,0.23,0.23500000000000001,0.24,0.245,0.25,0.255,0.26,0.265,0.27,0.275,0.28,0.28500000000000003,0.29,0.295,0.3,0.305,0.31,0.315,0.32,0.325,0.33,0.335,0.34,0.34500000000000003,0.35000000000000003,0.355,0.36,0.365,0.37,0.375,0.38,0.385,0.39,0.395,0.4,0.405,0.41000000000000003,0.41500000000000004,0.42,0.425,0.43,0.435,0.44,0.445,0.45,0.455,0.46,0.465,0.47000000000000003,0.47500000000000003,0.48,0.485,0.49,0.495,0.5,0.505,0.51,0.515,0.52,0.525,0.53,0.535,0.54,0.545,0.55,0.555,0.56,0.5650000000000001,0.5700000000000001,0.5750000000000001,0.58,0.585,0.59,0.595,0.6,0.605,0.61,0.615,0.62,0.625,0.63,0.635,0.64,0.645,0.65,0.655,0.66,0.665,0.67,0.675,0.68,0.685,0.6900000000000001,0.6950000000000001,0.7000000000000001,0.705,0.71,0.715,0.72,0.725,0.73,0.735,0.74,0.745,0.75,0.755,0.76,0.765,0.77,0.775,0.78,0.785,0.79,0.795,0.8,0.805,0.81,0.8150000000000001,0.8200000000000001,0.8250000000000001,0.8300000000000001,0.835,0.84,0.845,0.85,0.855,0.86,0.865,0.87,0.875,0.88,0.885,0.89,0.895,0.9,0.905,0.91,0.915,0.92,0.925,0.93,0.935,0.9400000000000001,0.9450000000000001,0.9500000000000001,0.9550000000000001,0.96,0.965,0.97,0.975,0.98,0.985,0.99,0.995],\"y\":[0.0,0.005,0.01,0.015,0.02,0.025,0.03,0.035,0.04,0.045,0.05,0.055,0.06,0.065,0.07,0.075,0.08,0.085,0.09,0.095,0.1,0.105,0.11,0.115,0.12,0.125,0.13,0.135,0.14,0.145,0.15,0.155,0.16,0.165,0.17,0.17500000000000002,0.18,0.185,0.19,0.195,0.2,0.20500000000000002,0.21,0.215,0.22,0.225,0.23,0.23500000000000001,0.24,0.245,0.25,0.255,0.26,0.265,0.27,0.275,0.28,0.28500000000000003,0.29,0.295,0.3,0.305,0.31,0.315,0.32,0.325,0.33,0.335,0.34,0.34500000000000003,0.35000000000000003,0.355,0.36,0.365,0.37,0.375,0.38,0.385,0.39,0.395,0.4,0.405,0.41000000000000003,0.41500000000000004,0.42,0.425,0.43,0.435,0.44,0.445,0.45,0.455,0.46,0.465,0.47000000000000003,0.47500000000000003,0.48,0.485,0.49,0.495,0.5,0.505,0.51,0.515,0.52,0.525,0.53,0.535,0.54,0.545,0.55,0.555,0.56,0.5650000000000001,0.5700000000000001,0.5750000000000001,0.58,0.585,0.59,0.595,0.6,0.605,0.61,0.615,0.62,0.625,0.63,0.635,0.64,0.645,0.65,0.655,0.66,0.665,0.67,0.675,0.68,0.685,0.6900000000000001,0.6950000000000001,0.7000000000000001,0.705,0.71,0.715,0.72,0.725,0.73,0.735,0.74,0.745,0.75,0.755,0.76,0.765,0.77,0.775,0.78,0.785,0.79,0.795,0.8,0.805,0.81,0.8150000000000001,0.8200000000000001,0.8250000000000001,0.8300000000000001,0.835,0.84,0.845,0.85,0.855,0.86,0.865,0.87,0.875,0.88,0.885,0.89,0.895,0.9,0.905,0.91,0.915,0.92,0.925,0.93,0.935,0.9400000000000001,0.9450000000000001,0.9500000000000001,0.9550000000000001,0.96,0.965,0.97,0.975,0.98,0.985,0.99,0.995]}},\"id\":\"6880816b-f16a-40a2-9b42-c252badd13ca\",\"type\":\"ColumnDataSource\"},{\"attributes\":{\"line_alpha\":{\"value\":0.1},\"line_color\":{\"value\":\"#1f77b4\"},\"line_width\":{\"value\":3},\"x\":{\"field\":\"x\"},\"y\":{\"field\":\"y\"}},\"id\":\"9eaca69a-dbe3-4a39-b285-e1475b842590\",\"type\":\"Line\"},{\"attributes\":{\"callback\":null},\"id\":\"167383ce-cb6e-493c-8839-54a9cd0390e5\",\"type\":\"DataRange1d\"},{\"attributes\":{\"line_alpha\":{\"value\":0.6},\"line_color\":{\"value\":\"#1f77b4\"},\"line_width\":{\"value\":3},\"x\":{\"field\":\"x\"},\"y\":{\"field\":\"y\"}},\"id\":\"4bb2de8c-9377-4316-bf0f-218b4b8d7a07\",\"type\":\"Line\"},{\"attributes\":{\"plot\":{\"id\":\"8b80603f-e477-427c-b026-c2e2d21c5d67\",\"subtype\":\"Figure\",\"type\":\"Plot\"}},\"id\":\"e2bc7611-936f-4f21-969d-75e671a0003c\",\"type\":\"SaveTool\"},{\"attributes\":{\"below\":[{\"id\":\"92838825-bd7b-4f84-af5f-b6f30f47ddec\",\"type\":\"LinearAxis\"}],\"left\":[{\"id\":\"0946d61a-62ef-4fc0-97c8-e36fbc4fd87f\",\"type\":\"LinearAxis\"}],\"plot_height\":400,\"plot_width\":400,\"renderers\":[{\"id\":\"92838825-bd7b-4f84-af5f-b6f30f47ddec\",\"type\":\"LinearAxis\"},{\"id\":\"4d06438e-f596-42f4-8f24-9d5da765d1f6\",\"type\":\"Grid\"},{\"id\":\"0946d61a-62ef-4fc0-97c8-e36fbc4fd87f\",\"type\":\"LinearAxis\"},{\"id\":\"dde2e9b2-5438-41b8-8aa3-63f55d4e654c\",\"type\":\"Grid\"},{\"id\":\"a8afca73-28c3-4331-94c2-fa66da7cd36a\",\"type\":\"BoxAnnotation\"},{\"id\":\"d6305494-4a7e-4ad4-a74b-9eea7d6a05df\",\"type\":\"GlyphRenderer\"}],\"title\":{\"id\":\"c6300626-572e-41da-ae5c-aad78779432c\",\"type\":\"Title\"},\"tool_events\":{\"id\":\"09686300-fa8e-4e8c-99c2-48581ef80fd1\",\"type\":\"ToolEvents\"},\"toolbar\":{\"id\":\"3cef9d87-3500-4755-82d6-76477b9417e7\",\"type\":\"Toolbar\"},\"x_range\":{\"id\":\"640c5737-d26c-4c9d-9aee-cc01d34e4f83\",\"type\":\"DataRange1d\"},\"y_range\":{\"id\":\"167383ce-cb6e-493c-8839-54a9cd0390e5\",\"type\":\"DataRange1d\"}},\"id\":\"8b80603f-e477-427c-b026-c2e2d21c5d67\",\"subtype\":\"Figure\",\"type\":\"Plot\"},{\"attributes\":{\"formatter\":{\"id\":\"14560874-ac75-41f3-81a1-c52619816259\",\"type\":\"BasicTickFormatter\"},\"plot\":{\"id\":\"8b80603f-e477-427c-b026-c2e2d21c5d67\",\"subtype\":\"Figure\",\"type\":\"Plot\"},\"ticker\":{\"id\":\"c98ada18-ef57-4db4-acfb-3110439bf53b\",\"type\":\"BasicTicker\"}},\"id\":\"0946d61a-62ef-4fc0-97c8-e36fbc4fd87f\",\"type\":\"LinearAxis\"},{\"attributes\":{\"plot\":{\"id\":\"8b80603f-e477-427c-b026-c2e2d21c5d67\",\"subtype\":\"Figure\",\"type\":\"Plot\"}},\"id\":\"ef929525-7ac2-4f8c-bdd2-088f34d0f1d3\",\"type\":\"HelpTool\"},{\"attributes\":{\"args\":{\"source\":{\"id\":\"6880816b-f16a-40a2-9b42-c252badd13ca\",\"type\":\"ColumnDataSource\"}},\"code\":\"\\n    var data = source.get('data');\\n    var f = cb_obj.get('value')\\n    x = data['x']\\n    y = data['y']\\n    for (i = 0; i < x.length; i++) {\\n        y[i] = Math.pow(x[i], f)\\n    }\\n    source.trigger('change');\\n\"},\"id\":\"8225ab63-0648-4c55-9f54-0fa79cbe85f5\",\"type\":\"CustomJS\"},{\"attributes\":{\"dimension\":1,\"plot\":{\"id\":\"8b80603f-e477-427c-b026-c2e2d21c5d67\",\"subtype\":\"Figure\",\"type\":\"Plot\"},\"ticker\":{\"id\":\"c98ada18-ef57-4db4-acfb-3110439bf53b\",\"type\":\"BasicTicker\"}},\"id\":\"dde2e9b2-5438-41b8-8aa3-63f55d4e654c\",\"type\":\"Grid\"},{\"attributes\":{\"plot\":{\"id\":\"8b80603f-e477-427c-b026-c2e2d21c5d67\",\"subtype\":\"Figure\",\"type\":\"Plot\"},\"ticker\":{\"id\":\"8990b735-0499-45bd-8b50-adbe34c3f9c1\",\"type\":\"BasicTicker\"}},\"id\":\"4d06438e-f596-42f4-8f24-9d5da765d1f6\",\"type\":\"Grid\"},{\"attributes\":{\"callback\":{\"id\":\"8225ab63-0648-4c55-9f54-0fa79cbe85f5\",\"type\":\"CustomJS\"},\"end\":4,\"start\":0.1,\"title\":\"power\",\"value\":1},\"id\":\"63100c10-d7a5-4f1f-a027-4c681e4e054e\",\"type\":\"Slider\"},{\"attributes\":{},\"id\":\"6e340af5-f9ed-403c-87a9-dc4932d6bcee\",\"type\":\"BasicTickFormatter\"},{\"attributes\":{},\"id\":\"8990b735-0499-45bd-8b50-adbe34c3f9c1\",\"type\":\"BasicTicker\"},{\"attributes\":{\"plot\":{\"id\":\"8b80603f-e477-427c-b026-c2e2d21c5d67\",\"subtype\":\"Figure\",\"type\":\"Plot\"}},\"id\":\"30960146-827d-4462-a76d-c7fe1445c27e\",\"type\":\"WheelZoomTool\"},{\"attributes\":{\"children\":[{\"id\":\"63100c10-d7a5-4f1f-a027-4c681e4e054e\",\"type\":\"Slider\"}]},\"id\":\"aa7ddaa0-b1c2-4026-b8b7-e9c48531944c\",\"type\":\"WidgetBox\"},{\"attributes\":{\"formatter\":{\"id\":\"6e340af5-f9ed-403c-87a9-dc4932d6bcee\",\"type\":\"BasicTickFormatter\"},\"plot\":{\"id\":\"8b80603f-e477-427c-b026-c2e2d21c5d67\",\"subtype\":\"Figure\",\"type\":\"Plot\"},\"ticker\":{\"id\":\"8990b735-0499-45bd-8b50-adbe34c3f9c1\",\"type\":\"BasicTicker\"}},\"id\":\"92838825-bd7b-4f84-af5f-b6f30f47ddec\",\"type\":\"LinearAxis\"},{\"attributes\":{\"callback\":null},\"id\":\"640c5737-d26c-4c9d-9aee-cc01d34e4f83\",\"type\":\"DataRange1d\"},{\"attributes\":{\"plot\":{\"id\":\"8b80603f-e477-427c-b026-c2e2d21c5d67\",\"subtype\":\"Figure\",\"type\":\"Plot\"}},\"id\":\"9002c102-6f2d-4985-88fb-f3a04476e7a0\",\"type\":\"ResetTool\"},{\"attributes\":{\"active_drag\":\"auto\",\"active_scroll\":\"auto\",\"active_tap\":\"auto\",\"tools\":[{\"id\":\"e3a97fa2-45b8-4afb-9041-6eedeebd8154\",\"type\":\"PanTool\"},{\"id\":\"30960146-827d-4462-a76d-c7fe1445c27e\",\"type\":\"WheelZoomTool\"},{\"id\":\"ac60f548-f6c0-4b7f-b710-be4d4754a14a\",\"type\":\"BoxZoomTool\"},{\"id\":\"e2bc7611-936f-4f21-969d-75e671a0003c\",\"type\":\"SaveTool\"},{\"id\":\"9002c102-6f2d-4985-88fb-f3a04476e7a0\",\"type\":\"ResetTool\"},{\"id\":\"ef929525-7ac2-4f8c-bdd2-088f34d0f1d3\",\"type\":\"HelpTool\"}]},\"id\":\"3cef9d87-3500-4755-82d6-76477b9417e7\",\"type\":\"Toolbar\"},{\"attributes\":{\"plot\":null,\"text\":\"\"},\"id\":\"c6300626-572e-41da-ae5c-aad78779432c\",\"type\":\"Title\"},{\"attributes\":{\"data_source\":{\"id\":\"6880816b-f16a-40a2-9b42-c252badd13ca\",\"type\":\"ColumnDataSource\"},\"glyph\":{\"id\":\"4bb2de8c-9377-4316-bf0f-218b4b8d7a07\",\"type\":\"Line\"},\"hover_glyph\":null,\"nonselection_glyph\":{\"id\":\"9eaca69a-dbe3-4a39-b285-e1475b842590\",\"type\":\"Line\"},\"selection_glyph\":null},\"id\":\"d6305494-4a7e-4ad4-a74b-9eea7d6a05df\",\"type\":\"GlyphRenderer\"},{\"attributes\":{\"overlay\":{\"id\":\"a8afca73-28c3-4331-94c2-fa66da7cd36a\",\"type\":\"BoxAnnotation\"},\"plot\":{\"id\":\"8b80603f-e477-427c-b026-c2e2d21c5d67\",\"subtype\":\"Figure\",\"type\":\"Plot\"}},\"id\":\"ac60f548-f6c0-4b7f-b710-be4d4754a14a\",\"type\":\"BoxZoomTool\"},{\"attributes\":{},\"id\":\"14560874-ac75-41f3-81a1-c52619816259\",\"type\":\"BasicTickFormatter\"},{\"attributes\":{},\"id\":\"c98ada18-ef57-4db4-acfb-3110439bf53b\",\"type\":\"BasicTicker\"},{\"attributes\":{},\"id\":\"09686300-fa8e-4e8c-99c2-48581ef80fd1\",\"type\":\"ToolEvents\"},{\"attributes\":{\"plot\":{\"id\":\"8b80603f-e477-427c-b026-c2e2d21c5d67\",\"subtype\":\"Figure\",\"type\":\"Plot\"}},\"id\":\"e3a97fa2-45b8-4afb-9041-6eedeebd8154\",\"type\":\"PanTool\"},{\"attributes\":{\"children\":[{\"id\":\"aa7ddaa0-b1c2-4026-b8b7-e9c48531944c\",\"type\":\"WidgetBox\"},{\"id\":\"8b80603f-e477-427c-b026-c2e2d21c5d67\",\"subtype\":\"Figure\",\"type\":\"Plot\"}]},\"id\":\"10232822-fc0b-400b-adfd-e22be373eda2\",\"type\":\"Column\"}],\"root_ids\":[\"10232822-fc0b-400b-adfd-e22be373eda2\"]},\"title\":\"Bokeh Application\",\"version\":\"0.12.4\"}};\n",
       "            var render_items = [{\"docid\":\"a64ddfe9-bc2b-4f74-9eac-ba3c9a5bf4aa\",\"elementid\":\"39fc841f-ee25-4859-85af-9621d5d3b136\",\"modelid\":\"10232822-fc0b-400b-adfd-e22be373eda2\"}];\n",
       "            \n",
       "            Bokeh.embed.embed_items(docs_json, render_items);\n",
       "          };\n",
       "          if (document.readyState != \"loading\") fn();\n",
       "          else document.addEventListener(\"DOMContentLoaded\", fn);\n",
       "        })();\n",
       "      },\n",
       "      function(Bokeh) {\n",
       "      }\n",
       "    ];\n",
       "  \n",
       "    function run_inline_js() {\n",
       "      \n",
       "      if ((window.Bokeh !== undefined) || (force === true)) {\n",
       "        for (var i = 0; i < inline_js.length; i++) {\n",
       "          inline_js[i](window.Bokeh);\n",
       "        }if (force === true) {\n",
       "          display_loaded();\n",
       "        }} else if (Date.now() < window._bokeh_timeout) {\n",
       "        setTimeout(run_inline_js, 100);\n",
       "      } else if (!window._bokeh_failed_load) {\n",
       "        console.log(\"Bokeh: BokehJS failed to load within specified timeout.\");\n",
       "        window._bokeh_failed_load = true;\n",
       "      } else if (force !== true) {\n",
       "        var cell = $(document.getElementById(\"39fc841f-ee25-4859-85af-9621d5d3b136\")).parents('.cell').data().cell;\n",
       "        cell.output_area.append_execute_result(NB_LOAD_WARNING)\n",
       "      }\n",
       "  \n",
       "    }\n",
       "  \n",
       "    if (window._bokeh_is_loading === 0) {\n",
       "      console.log(\"Bokeh: BokehJS loaded, going straight to plotting\");\n",
       "      run_inline_js();\n",
       "    } else {\n",
       "      load_libs(js_urls, function() {\n",
       "        console.log(\"Bokeh: BokehJS plotting callback run at\", now());\n",
       "        run_inline_js();\n",
       "      });\n",
       "    }\n",
       "  }(this));\n",
       "</script>"
      ]
     },
     "metadata": {},
     "output_type": "display_data"
    }
   ],
   "source": [
    "show(layout)"
   ]
  },
  {
   "cell_type": "markdown",
   "metadata": {},
   "source": [
    "## Calbacks for selections\n",
    "\n",
    "It's also possible to make JavaScript actions that execute whenever a user selection (e.g., box, point, lasso) changes. This is done by attaching the same kind of CustomJS object to whatever data source the selection is made on.\n",
    "\n",
    "The example below is a bit more sophisticated, and demonstrates updating one glyph's data source in response to another glyph's selection: "
   ]
  },
  {
   "cell_type": "code",
   "execution_count": 76,
   "metadata": {
    "collapsed": true
   },
   "outputs": [],
   "source": [
    "from random import random"
   ]
  },
  {
   "cell_type": "code",
   "execution_count": 77,
   "metadata": {
    "collapsed": true
   },
   "outputs": [],
   "source": [
    "x = [random() for x in range(500)]\n",
    "y = [random() for y in range(500)]\n",
    "color = [\"navy\"] * len(x)"
   ]
  },
  {
   "cell_type": "code",
   "execution_count": 78,
   "metadata": {
    "collapsed": true
   },
   "outputs": [],
   "source": [
    "s = ColumnDataSource(data=dict(x=x, y=y, color=color))"
   ]
  },
  {
   "cell_type": "code",
   "execution_count": 82,
   "metadata": {
    "collapsed": false
   },
   "outputs": [
    {
     "data": {
      "text/html": [
       "<div style=\"display: table;\"><div style=\"display: table-row;\"><div style=\"display: table-cell;\"><b title=\"bokeh.models.renderers.GlyphRenderer\">GlyphRenderer</b>(</div><div style=\"display: table-cell;\">id&nbsp;=&nbsp;'3f96fb29-2094-4b37-ba52-6ec1f98d0c7e', <span id=\"42347ca1-d296-45a0-8c03-38661756067e\" style=\"cursor: pointer;\">&hellip;)</span></div></div><div class=\"48417f19-1d92-4df3-aa3f-b80042f7085d\" style=\"display: none;\"><div style=\"display: table-cell;\"></div><div style=\"display: table-cell;\">data_source&nbsp;=&nbsp;ColumnDataSource(id='9e82ebdd-60b6-4747-9f93-71751113d7ee', ...),</div></div><div class=\"48417f19-1d92-4df3-aa3f-b80042f7085d\" style=\"display: none;\"><div style=\"display: table-cell;\"></div><div style=\"display: table-cell;\">glyph&nbsp;=&nbsp;Circle(id='22c63124-7275-48ba-a9b4-3243e6a7fd33', ...),</div></div><div class=\"48417f19-1d92-4df3-aa3f-b80042f7085d\" style=\"display: none;\"><div style=\"display: table-cell;\"></div><div style=\"display: table-cell;\">hover_glyph&nbsp;=&nbsp;None,</div></div><div class=\"48417f19-1d92-4df3-aa3f-b80042f7085d\" style=\"display: none;\"><div style=\"display: table-cell;\"></div><div style=\"display: table-cell;\">js_callbacks&nbsp;=&nbsp;{},</div></div><div class=\"48417f19-1d92-4df3-aa3f-b80042f7085d\" style=\"display: none;\"><div style=\"display: table-cell;\"></div><div style=\"display: table-cell;\">level&nbsp;=&nbsp;'glyph',</div></div><div class=\"48417f19-1d92-4df3-aa3f-b80042f7085d\" style=\"display: none;\"><div style=\"display: table-cell;\"></div><div style=\"display: table-cell;\">name&nbsp;=&nbsp;None,</div></div><div class=\"48417f19-1d92-4df3-aa3f-b80042f7085d\" style=\"display: none;\"><div style=\"display: table-cell;\"></div><div style=\"display: table-cell;\">nonselection_glyph&nbsp;=&nbsp;Circle(id='1dd65c2c-f21a-46da-928c-87db8a889f97', ...),</div></div><div class=\"48417f19-1d92-4df3-aa3f-b80042f7085d\" style=\"display: none;\"><div style=\"display: table-cell;\"></div><div style=\"display: table-cell;\">selection_glyph&nbsp;=&nbsp;None,</div></div><div class=\"48417f19-1d92-4df3-aa3f-b80042f7085d\" style=\"display: none;\"><div style=\"display: table-cell;\"></div><div style=\"display: table-cell;\">tags&nbsp;=&nbsp;[],</div></div><div class=\"48417f19-1d92-4df3-aa3f-b80042f7085d\" style=\"display: none;\"><div style=\"display: table-cell;\"></div><div style=\"display: table-cell;\">visible&nbsp;=&nbsp;True,</div></div><div class=\"48417f19-1d92-4df3-aa3f-b80042f7085d\" style=\"display: none;\"><div style=\"display: table-cell;\"></div><div style=\"display: table-cell;\">x_range_name&nbsp;=&nbsp;'default',</div></div><div class=\"48417f19-1d92-4df3-aa3f-b80042f7085d\" style=\"display: none;\"><div style=\"display: table-cell;\"></div><div style=\"display: table-cell;\">y_range_name&nbsp;=&nbsp;'default')</div></div></div>\n",
       "<script>\n",
       "(function() {\n",
       "  var expanded = false;\n",
       "  var ellipsis = document.getElementById(\"42347ca1-d296-45a0-8c03-38661756067e\");\n",
       "  ellipsis.addEventListener(\"click\", function() {\n",
       "    var rows = document.getElementsByClassName(\"48417f19-1d92-4df3-aa3f-b80042f7085d\");\n",
       "    for (var i = 0; i < rows.length; i++) {\n",
       "      var el = rows[i];\n",
       "      el.style.display = expanded ? \"none\" : \"table-row\";\n",
       "    }\n",
       "    ellipsis.innerHTML = expanded ? \"&hellip;)\" : \"&lsaquo;&lsaquo;&lsaquo;\";\n",
       "    expanded = !expanded;\n",
       "  });\n",
       "})();\n",
       "</script>\n"
      ],
      "text/plain": [
       "GlyphRenderer(id='3f96fb29-2094-4b37-ba52-6ec1f98d0c7e', ...)"
      ]
     },
     "execution_count": 82,
     "metadata": {},
     "output_type": "execute_result"
    }
   ],
   "source": [
    "p = figure(plot_width=400, plot_height=400, tools=\"lasso_select, reset\", title=\"Select Here\")\n",
    "p.circle('x', 'y', color='color', size=8, source=s, alpha=0.4)"
   ]
  },
  {
   "cell_type": "code",
   "execution_count": 83,
   "metadata": {
    "collapsed": false
   },
   "outputs": [
    {
     "name": "stderr",
     "output_type": "stream",
     "text": [
      "/Users/ijstokes/anaconda/envs/bokehwkshp/lib/python3.6/site-packages/bokeh/util/deprecation.py:34: BokehDeprecationWarning: \n",
      "Supplying a user-defined data source AND iterable values to glyph methods is deprecated.\n",
      "\n",
      "See https://github.com/bokeh/bokeh/issues/2056 for more information.\n",
      "\n",
      "  warn(message)\n"
     ]
    },
    {
     "data": {
      "text/html": [
       "<div style=\"display: table;\"><div style=\"display: table-row;\"><div style=\"display: table-cell;\"><b title=\"bokeh.models.renderers.GlyphRenderer\">GlyphRenderer</b>(</div><div style=\"display: table-cell;\">id&nbsp;=&nbsp;'fdf3e30f-f0c4-4ab3-be7d-e51f77ba5339', <span id=\"333c35d2-39b9-4808-9178-98fef7fd5757\" style=\"cursor: pointer;\">&hellip;)</span></div></div><div class=\"453cb894-2aea-4e55-9735-b19b8c27dcc1\" style=\"display: none;\"><div style=\"display: table-cell;\"></div><div style=\"display: table-cell;\">data_source&nbsp;=&nbsp;ColumnDataSource(id='911b2d87-6993-404c-a7ae-21af4c26287a', ...),</div></div><div class=\"453cb894-2aea-4e55-9735-b19b8c27dcc1\" style=\"display: none;\"><div style=\"display: table-cell;\"></div><div style=\"display: table-cell;\">glyph&nbsp;=&nbsp;Line(id='e67eb67c-a736-44e2-9a36-ed0ade4e0506', ...),</div></div><div class=\"453cb894-2aea-4e55-9735-b19b8c27dcc1\" style=\"display: none;\"><div style=\"display: table-cell;\"></div><div style=\"display: table-cell;\">hover_glyph&nbsp;=&nbsp;None,</div></div><div class=\"453cb894-2aea-4e55-9735-b19b8c27dcc1\" style=\"display: none;\"><div style=\"display: table-cell;\"></div><div style=\"display: table-cell;\">js_callbacks&nbsp;=&nbsp;{},</div></div><div class=\"453cb894-2aea-4e55-9735-b19b8c27dcc1\" style=\"display: none;\"><div style=\"display: table-cell;\"></div><div style=\"display: table-cell;\">level&nbsp;=&nbsp;'glyph',</div></div><div class=\"453cb894-2aea-4e55-9735-b19b8c27dcc1\" style=\"display: none;\"><div style=\"display: table-cell;\"></div><div style=\"display: table-cell;\">name&nbsp;=&nbsp;None,</div></div><div class=\"453cb894-2aea-4e55-9735-b19b8c27dcc1\" style=\"display: none;\"><div style=\"display: table-cell;\"></div><div style=\"display: table-cell;\">nonselection_glyph&nbsp;=&nbsp;Line(id='6cf9b0cf-adb6-4f0d-b896-64c74bed9236', ...),</div></div><div class=\"453cb894-2aea-4e55-9735-b19b8c27dcc1\" style=\"display: none;\"><div style=\"display: table-cell;\"></div><div style=\"display: table-cell;\">selection_glyph&nbsp;=&nbsp;None,</div></div><div class=\"453cb894-2aea-4e55-9735-b19b8c27dcc1\" style=\"display: none;\"><div style=\"display: table-cell;\"></div><div style=\"display: table-cell;\">tags&nbsp;=&nbsp;[],</div></div><div class=\"453cb894-2aea-4e55-9735-b19b8c27dcc1\" style=\"display: none;\"><div style=\"display: table-cell;\"></div><div style=\"display: table-cell;\">visible&nbsp;=&nbsp;True,</div></div><div class=\"453cb894-2aea-4e55-9735-b19b8c27dcc1\" style=\"display: none;\"><div style=\"display: table-cell;\"></div><div style=\"display: table-cell;\">x_range_name&nbsp;=&nbsp;'default',</div></div><div class=\"453cb894-2aea-4e55-9735-b19b8c27dcc1\" style=\"display: none;\"><div style=\"display: table-cell;\"></div><div style=\"display: table-cell;\">y_range_name&nbsp;=&nbsp;'default')</div></div></div>\n",
       "<script>\n",
       "(function() {\n",
       "  var expanded = false;\n",
       "  var ellipsis = document.getElementById(\"333c35d2-39b9-4808-9178-98fef7fd5757\");\n",
       "  ellipsis.addEventListener(\"click\", function() {\n",
       "    var rows = document.getElementsByClassName(\"453cb894-2aea-4e55-9735-b19b8c27dcc1\");\n",
       "    for (var i = 0; i < rows.length; i++) {\n",
       "      var el = rows[i];\n",
       "      el.style.display = expanded ? \"none\" : \"table-row\";\n",
       "    }\n",
       "    ellipsis.innerHTML = expanded ? \"&hellip;)\" : \"&lsaquo;&lsaquo;&lsaquo;\";\n",
       "    expanded = !expanded;\n",
       "  });\n",
       "})();\n",
       "</script>\n"
      ],
      "text/plain": [
       "GlyphRenderer(id='fdf3e30f-f0c4-4ab3-be7d-e51f77ba5339', ...)"
      ]
     },
     "execution_count": 83,
     "metadata": {},
     "output_type": "execute_result"
    }
   ],
   "source": [
    "s2 = ColumnDataSource(data=dict(ym=[0.5, 0.5]))\n",
    "p.line(x=[0,1], y='ym', color=\"orange\", line_width=5, alpha=0.6, source=s2)"
   ]
  },
  {
   "cell_type": "code",
   "execution_count": 84,
   "metadata": {
    "collapsed": false
   },
   "outputs": [
    {
     "data": {
      "text/html": [
       "\n",
       "\n",
       "    <div class=\"bk-root\">\n",
       "        <div class=\"bk-plotdiv\" id=\"89b54f9f-48d8-4193-a3e7-1af7c2611eec\"></div>\n",
       "    </div>\n",
       "<script type=\"text/javascript\">\n",
       "  \n",
       "  (function(global) {\n",
       "    function now() {\n",
       "      return new Date();\n",
       "    }\n",
       "  \n",
       "    var force = false;\n",
       "  \n",
       "    if (typeof (window._bokeh_onload_callbacks) === \"undefined\" || force === true) {\n",
       "      window._bokeh_onload_callbacks = [];\n",
       "      window._bokeh_is_loading = undefined;\n",
       "    }\n",
       "  \n",
       "  \n",
       "    \n",
       "    if (typeof (window._bokeh_timeout) === \"undefined\" || force === true) {\n",
       "      window._bokeh_timeout = Date.now() + 0;\n",
       "      window._bokeh_failed_load = false;\n",
       "    }\n",
       "  \n",
       "    var NB_LOAD_WARNING = {'data': {'text/html':\n",
       "       \"<div style='background-color: #fdd'>\\n\"+\n",
       "       \"<p>\\n\"+\n",
       "       \"BokehJS does not appear to have successfully loaded. If loading BokehJS from CDN, this \\n\"+\n",
       "       \"may be due to a slow or bad network connection. Possible fixes:\\n\"+\n",
       "       \"</p>\\n\"+\n",
       "       \"<ul>\\n\"+\n",
       "       \"<li>re-rerun `output_notebook()` to attempt to load from CDN again, or</li>\\n\"+\n",
       "       \"<li>use INLINE resources instead, as so:</li>\\n\"+\n",
       "       \"</ul>\\n\"+\n",
       "       \"<code>\\n\"+\n",
       "       \"from bokeh.resources import INLINE\\n\"+\n",
       "       \"output_notebook(resources=INLINE)\\n\"+\n",
       "       \"</code>\\n\"+\n",
       "       \"</div>\"}};\n",
       "  \n",
       "    function display_loaded() {\n",
       "      if (window.Bokeh !== undefined) {\n",
       "        document.getElementById(\"89b54f9f-48d8-4193-a3e7-1af7c2611eec\").textContent = \"BokehJS successfully loaded.\";\n",
       "      } else if (Date.now() < window._bokeh_timeout) {\n",
       "        setTimeout(display_loaded, 100)\n",
       "      }\n",
       "    }\n",
       "  \n",
       "    function run_callbacks() {\n",
       "      window._bokeh_onload_callbacks.forEach(function(callback) { callback() });\n",
       "      delete window._bokeh_onload_callbacks\n",
       "      console.info(\"Bokeh: all callbacks have finished\");\n",
       "    }\n",
       "  \n",
       "    function load_libs(js_urls, callback) {\n",
       "      window._bokeh_onload_callbacks.push(callback);\n",
       "      if (window._bokeh_is_loading > 0) {\n",
       "        console.log(\"Bokeh: BokehJS is being loaded, scheduling callback at\", now());\n",
       "        return null;\n",
       "      }\n",
       "      if (js_urls == null || js_urls.length === 0) {\n",
       "        run_callbacks();\n",
       "        return null;\n",
       "      }\n",
       "      console.log(\"Bokeh: BokehJS not loaded, scheduling load and callback at\", now());\n",
       "      window._bokeh_is_loading = js_urls.length;\n",
       "      for (var i = 0; i < js_urls.length; i++) {\n",
       "        var url = js_urls[i];\n",
       "        var s = document.createElement('script');\n",
       "        s.src = url;\n",
       "        s.async = false;\n",
       "        s.onreadystatechange = s.onload = function() {\n",
       "          window._bokeh_is_loading--;\n",
       "          if (window._bokeh_is_loading === 0) {\n",
       "            console.log(\"Bokeh: all BokehJS libraries loaded\");\n",
       "            run_callbacks()\n",
       "          }\n",
       "        };\n",
       "        s.onerror = function() {\n",
       "          console.warn(\"failed to load library \" + url);\n",
       "        };\n",
       "        console.log(\"Bokeh: injecting script tag for BokehJS library: \", url);\n",
       "        document.getElementsByTagName(\"head\")[0].appendChild(s);\n",
       "      }\n",
       "    };var element = document.getElementById(\"89b54f9f-48d8-4193-a3e7-1af7c2611eec\");\n",
       "    if (element == null) {\n",
       "      console.log(\"Bokeh: ERROR: autoload.js configured with elementid '89b54f9f-48d8-4193-a3e7-1af7c2611eec' but no matching script tag was found. \")\n",
       "      return false;\n",
       "    }\n",
       "  \n",
       "    var js_urls = [];\n",
       "  \n",
       "    var inline_js = [\n",
       "      function(Bokeh) {\n",
       "        (function() {\n",
       "          var fn = function() {\n",
       "            var docs_json = {\"56814172-b9e7-4c24-8225-a9be9a3dc5bb\":{\"roots\":{\"references\":[{\"attributes\":{\"callback\":null},\"id\":\"2af294bb-c70f-48a4-b8af-6bc66b6f487f\",\"type\":\"DataRange1d\"},{\"attributes\":{},\"id\":\"bc03b2b8-6228-4e51-9a83-faf6011b4080\",\"type\":\"BasicTickFormatter\"},{\"attributes\":{\"formatter\":{\"id\":\"b708a613-1ae2-4cc0-9aba-7219428dc826\",\"type\":\"BasicTickFormatter\"},\"plot\":{\"id\":\"69f59c47-e28d-4600-8533-3b13b59e90de\",\"subtype\":\"Figure\",\"type\":\"Plot\"},\"ticker\":{\"id\":\"88d58f43-3e3f-45f1-94f5-53caa5b957ad\",\"type\":\"BasicTicker\"}},\"id\":\"accc5105-c590-49f8-b543-eed5978eda11\",\"type\":\"LinearAxis\"},{\"attributes\":{\"dimension\":1,\"plot\":{\"id\":\"69f59c47-e28d-4600-8533-3b13b59e90de\",\"subtype\":\"Figure\",\"type\":\"Plot\"},\"ticker\":{\"id\":\"88d58f43-3e3f-45f1-94f5-53caa5b957ad\",\"type\":\"BasicTicker\"}},\"id\":\"e40cd6d5-cff7-40b0-a26a-1e31031e0fa9\",\"type\":\"Grid\"},{\"attributes\":{},\"id\":\"c38bbd66-3022-4763-9f01-2cf0cff2e1c7\",\"type\":\"ToolEvents\"},{\"attributes\":{\"callback\":null,\"column_names\":[\"ym\",\"x\"],\"data\":{\"x\":[0,1],\"ym\":[0.5,0.5]}},\"id\":\"911b2d87-6993-404c-a7ae-21af4c26287a\",\"type\":\"ColumnDataSource\"},{\"attributes\":{},\"id\":\"f0e85173-68ef-45f1-8413-6748d758df17\",\"type\":\"BasicTicker\"},{\"attributes\":{\"data_source\":{\"id\":\"9e82ebdd-60b6-4747-9f93-71751113d7ee\",\"type\":\"ColumnDataSource\"},\"glyph\":{\"id\":\"22c63124-7275-48ba-a9b4-3243e6a7fd33\",\"type\":\"Circle\"},\"hover_glyph\":null,\"nonselection_glyph\":{\"id\":\"1dd65c2c-f21a-46da-928c-87db8a889f97\",\"type\":\"Circle\"},\"selection_glyph\":null},\"id\":\"3f96fb29-2094-4b37-ba52-6ec1f98d0c7e\",\"type\":\"GlyphRenderer\"},{\"attributes\":{},\"id\":\"88d58f43-3e3f-45f1-94f5-53caa5b957ad\",\"type\":\"BasicTicker\"},{\"attributes\":{\"fill_alpha\":{\"value\":0.5},\"fill_color\":{\"value\":\"lightgrey\"},\"level\":\"overlay\",\"line_alpha\":{\"value\":1.0},\"line_color\":{\"value\":\"black\"},\"line_dash\":[4,4],\"line_width\":{\"value\":2},\"plot\":null,\"xs_units\":\"screen\",\"ys_units\":\"screen\"},\"id\":\"1f861375-b2a6-452c-8946-3444c0eb63fd\",\"type\":\"PolyAnnotation\"},{\"attributes\":{\"line_alpha\":{\"value\":0.1},\"line_color\":{\"value\":\"#1f77b4\"},\"line_width\":{\"value\":5},\"x\":{\"field\":\"x\"},\"y\":{\"field\":\"ym\"}},\"id\":\"6cf9b0cf-adb6-4f0d-b896-64c74bed9236\",\"type\":\"Line\"},{\"attributes\":{\"args\":{\"s2\":{\"id\":\"911b2d87-6993-404c-a7ae-21af4c26287a\",\"type\":\"ColumnDataSource\"}},\"code\":\"\\n    var inds = cb_obj.get('selected')['1d'].indices;\\n    var d = cb_obj.get('data');\\n    var ym = 0\\n    \\n    if (inds.length == 0) { return; }\\n    \\n    for (i = 0; i < d['color'].length; i++) {\\n        d['color'][i] = \\\"navy\\\"\\n    }\\n    for (i = 0; i < inds.length; i++) {\\n        d['color'][inds[i]] = \\\"firebrick\\\"\\n        ym += d['y'][inds[i]]\\n    }\\n    \\n    ym /= inds.length\\n    s2.get('data')['ym'] = [ym, ym]\\n    \\n    cb_obj.trigger('change');\\n    s2.trigger('change');\\n\"},\"id\":\"95c4a0d2-d921-4b7b-a481-1e3b5ced70fc\",\"type\":\"CustomJS\"},{\"attributes\":{},\"id\":\"b708a613-1ae2-4cc0-9aba-7219428dc826\",\"type\":\"BasicTickFormatter\"},{\"attributes\":{\"data_source\":{\"id\":\"911b2d87-6993-404c-a7ae-21af4c26287a\",\"type\":\"ColumnDataSource\"},\"glyph\":{\"id\":\"e67eb67c-a736-44e2-9a36-ed0ade4e0506\",\"type\":\"Line\"},\"hover_glyph\":null,\"nonselection_glyph\":{\"id\":\"6cf9b0cf-adb6-4f0d-b896-64c74bed9236\",\"type\":\"Line\"},\"selection_glyph\":null},\"id\":\"fdf3e30f-f0c4-4ab3-be7d-e51f77ba5339\",\"type\":\"GlyphRenderer\"},{\"attributes\":{\"plot\":null,\"text\":\"Select Here\"},\"id\":\"ad7dc6ab-cbc8-4e71-8d55-b84c1f41071a\",\"type\":\"Title\"},{\"attributes\":{\"plot\":{\"id\":\"69f59c47-e28d-4600-8533-3b13b59e90de\",\"subtype\":\"Figure\",\"type\":\"Plot\"}},\"id\":\"b54ba08b-76a6-4fd6-9f15-f723b03eeef7\",\"type\":\"ResetTool\"},{\"attributes\":{\"formatter\":{\"id\":\"bc03b2b8-6228-4e51-9a83-faf6011b4080\",\"type\":\"BasicTickFormatter\"},\"plot\":{\"id\":\"69f59c47-e28d-4600-8533-3b13b59e90de\",\"subtype\":\"Figure\",\"type\":\"Plot\"},\"ticker\":{\"id\":\"f0e85173-68ef-45f1-8413-6748d758df17\",\"type\":\"BasicTicker\"}},\"id\":\"c701fcc8-1b12-4a4a-937f-f36f988f6cec\",\"type\":\"LinearAxis\"},{\"attributes\":{\"fill_alpha\":{\"value\":0.1},\"fill_color\":{\"value\":\"#1f77b4\"},\"line_alpha\":{\"value\":0.1},\"line_color\":{\"value\":\"#1f77b4\"},\"size\":{\"units\":\"screen\",\"value\":8},\"x\":{\"field\":\"x\"},\"y\":{\"field\":\"y\"}},\"id\":\"1dd65c2c-f21a-46da-928c-87db8a889f97\",\"type\":\"Circle\"},{\"attributes\":{\"callback\":null,\"overlay\":{\"id\":\"1f861375-b2a6-452c-8946-3444c0eb63fd\",\"type\":\"PolyAnnotation\"},\"plot\":{\"id\":\"69f59c47-e28d-4600-8533-3b13b59e90de\",\"subtype\":\"Figure\",\"type\":\"Plot\"}},\"id\":\"da9d1b10-eb91-46ab-9977-c8789c6d4905\",\"type\":\"LassoSelectTool\"},{\"attributes\":{\"active_drag\":\"auto\",\"active_scroll\":\"auto\",\"active_tap\":\"auto\",\"tools\":[{\"id\":\"da9d1b10-eb91-46ab-9977-c8789c6d4905\",\"type\":\"LassoSelectTool\"},{\"id\":\"b54ba08b-76a6-4fd6-9f15-f723b03eeef7\",\"type\":\"ResetTool\"}]},\"id\":\"9519b996-3a76-4dcf-89e4-a1aa19954488\",\"type\":\"Toolbar\"},{\"attributes\":{\"fill_alpha\":{\"value\":0.4},\"fill_color\":{\"field\":\"color\"},\"line_alpha\":{\"value\":0.4},\"line_color\":{\"field\":\"color\"},\"size\":{\"units\":\"screen\",\"value\":8},\"x\":{\"field\":\"x\"},\"y\":{\"field\":\"y\"}},\"id\":\"22c63124-7275-48ba-a9b4-3243e6a7fd33\",\"type\":\"Circle\"},{\"attributes\":{\"line_alpha\":{\"value\":0.6},\"line_color\":{\"value\":\"orange\"},\"line_width\":{\"value\":5},\"x\":{\"field\":\"x\"},\"y\":{\"field\":\"ym\"}},\"id\":\"e67eb67c-a736-44e2-9a36-ed0ade4e0506\",\"type\":\"Line\"},{\"attributes\":{\"callback\":{\"id\":\"95c4a0d2-d921-4b7b-a481-1e3b5ced70fc\",\"type\":\"CustomJS\"},\"column_names\":[\"x\",\"y\",\"color\"],\"data\":{\"color\":[\"navy\",\"navy\",\"navy\",\"navy\",\"navy\",\"navy\",\"navy\",\"navy\",\"navy\",\"navy\",\"navy\",\"navy\",\"navy\",\"navy\",\"navy\",\"navy\",\"navy\",\"navy\",\"navy\",\"navy\",\"navy\",\"navy\",\"navy\",\"navy\",\"navy\",\"navy\",\"navy\",\"navy\",\"navy\",\"navy\",\"navy\",\"navy\",\"navy\",\"navy\",\"navy\",\"navy\",\"navy\",\"navy\",\"navy\",\"navy\",\"navy\",\"navy\",\"navy\",\"navy\",\"navy\",\"navy\",\"navy\",\"navy\",\"navy\",\"navy\",\"navy\",\"navy\",\"navy\",\"navy\",\"navy\",\"navy\",\"navy\",\"navy\",\"navy\",\"navy\",\"navy\",\"navy\",\"navy\",\"navy\",\"navy\",\"navy\",\"navy\",\"navy\",\"navy\",\"navy\",\"navy\",\"navy\",\"navy\",\"navy\",\"navy\",\"navy\",\"navy\",\"navy\",\"navy\",\"navy\",\"navy\",\"navy\",\"navy\",\"navy\",\"navy\",\"navy\",\"navy\",\"navy\",\"navy\",\"navy\",\"navy\",\"navy\",\"navy\",\"navy\",\"navy\",\"navy\",\"navy\",\"navy\",\"navy\",\"navy\",\"navy\",\"navy\",\"navy\",\"navy\",\"navy\",\"navy\",\"navy\",\"navy\",\"navy\",\"navy\",\"navy\",\"navy\",\"navy\",\"navy\",\"navy\",\"navy\",\"navy\",\"navy\",\"navy\",\"navy\",\"navy\",\"navy\",\"navy\",\"navy\",\"navy\",\"navy\",\"navy\",\"navy\",\"navy\",\"navy\",\"navy\",\"navy\",\"navy\",\"navy\",\"navy\",\"navy\",\"navy\",\"navy\",\"navy\",\"navy\",\"navy\",\"navy\",\"navy\",\"navy\",\"navy\",\"navy\",\"navy\",\"navy\",\"navy\",\"navy\",\"navy\",\"navy\",\"navy\",\"navy\",\"navy\",\"navy\",\"navy\",\"navy\",\"navy\",\"navy\",\"navy\",\"navy\",\"navy\",\"navy\",\"navy\",\"navy\",\"navy\",\"navy\",\"navy\",\"navy\",\"navy\",\"navy\",\"navy\",\"navy\",\"navy\",\"navy\",\"navy\",\"navy\",\"navy\",\"navy\",\"navy\",\"navy\",\"navy\",\"navy\",\"navy\",\"navy\",\"navy\",\"navy\",\"navy\",\"navy\",\"navy\",\"navy\",\"navy\",\"navy\",\"navy\",\"navy\",\"navy\",\"navy\",\"navy\",\"navy\",\"navy\",\"navy\",\"navy\",\"navy\",\"navy\",\"navy\",\"navy\",\"navy\",\"navy\",\"navy\",\"navy\",\"navy\",\"navy\",\"navy\",\"navy\",\"navy\",\"navy\",\"navy\",\"navy\",\"navy\",\"navy\",\"navy\",\"navy\",\"navy\",\"navy\",\"navy\",\"navy\",\"navy\",\"navy\",\"navy\",\"navy\",\"navy\",\"navy\",\"navy\",\"navy\",\"navy\",\"navy\",\"navy\",\"navy\",\"navy\",\"navy\",\"navy\",\"navy\",\"navy\",\"navy\",\"navy\",\"navy\",\"navy\",\"navy\",\"navy\",\"navy\",\"navy\",\"navy\",\"navy\",\"navy\",\"navy\",\"navy\",\"navy\",\"navy\",\"navy\",\"navy\",\"navy\",\"navy\",\"navy\",\"navy\",\"navy\",\"navy\",\"navy\",\"navy\",\"navy\",\"navy\",\"navy\",\"navy\",\"navy\",\"navy\",\"navy\",\"navy\",\"navy\",\"navy\",\"navy\",\"navy\",\"navy\",\"navy\",\"navy\",\"navy\",\"navy\",\"navy\",\"navy\",\"navy\",\"navy\",\"navy\",\"navy\",\"navy\",\"navy\",\"navy\",\"navy\",\"navy\",\"navy\",\"navy\",\"navy\",\"navy\",\"navy\",\"navy\",\"navy\",\"navy\",\"navy\",\"navy\",\"navy\",\"navy\",\"navy\",\"navy\",\"navy\",\"navy\",\"navy\",\"navy\",\"navy\",\"navy\",\"navy\",\"navy\",\"navy\",\"navy\",\"navy\",\"navy\",\"navy\",\"navy\",\"navy\",\"navy\",\"navy\",\"navy\",\"navy\",\"navy\",\"navy\",\"navy\",\"navy\",\"navy\",\"navy\",\"navy\",\"navy\",\"navy\",\"navy\",\"navy\",\"navy\",\"navy\",\"navy\",\"navy\",\"navy\",\"navy\",\"navy\",\"navy\",\"navy\",\"navy\",\"navy\",\"navy\",\"navy\",\"navy\",\"navy\",\"navy\",\"navy\",\"navy\",\"navy\",\"navy\",\"navy\",\"navy\",\"navy\",\"navy\",\"navy\",\"navy\",\"navy\",\"navy\",\"navy\",\"navy\",\"navy\",\"navy\",\"navy\",\"navy\",\"navy\",\"navy\",\"navy\",\"navy\",\"navy\",\"navy\",\"navy\",\"navy\",\"navy\",\"navy\",\"navy\",\"navy\",\"navy\",\"navy\",\"navy\",\"navy\",\"navy\",\"navy\",\"navy\",\"navy\",\"navy\",\"navy\",\"navy\",\"navy\",\"navy\",\"navy\",\"navy\",\"navy\",\"navy\",\"navy\",\"navy\",\"navy\",\"navy\",\"navy\",\"navy\",\"navy\",\"navy\",\"navy\",\"navy\",\"navy\",\"navy\",\"navy\",\"navy\",\"navy\",\"navy\",\"navy\",\"navy\",\"navy\",\"navy\",\"navy\",\"navy\",\"navy\",\"navy\",\"navy\",\"navy\",\"navy\",\"navy\",\"navy\",\"navy\",\"navy\",\"navy\",\"navy\",\"navy\",\"navy\",\"navy\",\"navy\",\"navy\",\"navy\",\"navy\",\"navy\",\"navy\",\"navy\",\"navy\",\"navy\",\"navy\",\"navy\",\"navy\",\"navy\",\"navy\",\"navy\",\"navy\",\"navy\",\"navy\",\"navy\",\"navy\",\"navy\",\"navy\",\"navy\",\"navy\",\"navy\",\"navy\",\"navy\",\"navy\",\"navy\",\"navy\",\"navy\",\"navy\",\"navy\",\"navy\",\"navy\",\"navy\",\"navy\",\"navy\",\"navy\",\"navy\",\"navy\",\"navy\",\"navy\",\"navy\",\"navy\",\"navy\",\"navy\",\"navy\",\"navy\",\"navy\",\"navy\",\"navy\",\"navy\",\"navy\",\"navy\",\"navy\",\"navy\",\"navy\",\"navy\",\"navy\"],\"x\":[0.8040423941845567,0.1953838889166295,0.40719511338040715,0.04772605853618139,0.30120993414205577,0.6255272360026378,0.4647600374960409,0.6740046306659293,0.905914940944097,0.07305560377417963,0.5576013898733146,0.4319795755312833,0.6689679934566752,0.6551594762322608,0.02504351848661235,0.7989495047380483,0.13554261143286472,0.7193005725452077,0.09306903708955971,0.04257373774466022,0.6135426077185421,0.9868291187186038,0.5263745149070143,0.9079807314600049,0.5238529873169067,0.44658898115175805,0.8082055490058204,0.8845780422084057,0.9289591034695883,0.15561190230349176,0.5748934065545079,0.5374543689045361,0.7403788291685219,0.010555908794711355,0.7922182383401244,0.1677100268523447,0.3068195200407886,0.3148198031841819,0.20618275664985908,0.31865052200388844,0.6882809014487002,0.2948692191130218,0.14420466579733393,0.6417808790775549,0.36430918686611713,0.18803128169279837,0.8888856160294155,0.48497099724112935,0.6691654671827899,0.5805269316897904,0.8204515431718262,0.09131871049663476,0.2698359326931362,0.6965328215998174,0.7734754110642577,0.9069399263568905,0.5299593452110167,0.6583708739580298,0.054554989713634816,0.6627251911841462,0.9549512565840994,0.7929401620981705,0.6681542486469482,0.3615037083181206,0.34391935146983077,0.24613762938213357,0.12170308754103965,0.7987003097947408,0.9584923809781087,0.2418641289120873,0.266039432135856,0.7402731364414241,0.13757237401244526,0.6250014228510561,0.9737748839161686,0.09765958284356924,0.9231521758240665,0.3222661239559794,0.07919995419920867,0.9030948007733897,0.15270119359413248,0.1874939900705227,0.10421465909338423,0.8110698287532655,0.9905993520700551,0.630880255276601,0.03762095538469523,0.11815005288524649,0.6218525259273311,0.3557262348547564,0.29502751300745245,0.5547816023119367,0.4095176457368034,0.0705278924601338,0.5089665191925631,0.3189230337650528,0.022989167508040476,0.7381392795221012,0.3063249655358258,0.6624208608114693,0.15718750753909616,0.6400689726399436,0.6237139168498347,0.62008306439765,0.1042561704724414,0.4104557446590371,0.09854151838761538,0.45233375279259735,0.5162295415626634,0.6366975089070084,0.23908467116605225,0.6092047230238956,0.11303260341844035,0.6165644380682445,0.02160774750849037,0.37438176621081753,0.14110378302869875,0.32867990755599774,0.06547343193945399,0.1615188765531571,0.9973971914313864,0.5496743181825664,0.1815359403058523,0.8005920334585618,0.6191197501432255,0.0012952602140077207,0.3861302604628877,0.6062605922958548,0.6199778038658792,0.6706634933470675,0.18803902643626758,0.7602678617953104,0.39382833015226604,0.8720303294479009,0.6497662583108711,0.17982441174235952,0.011896595886231709,0.5686046460933825,0.3374625673546098,0.9543769982831831,0.43341587743839616,0.5668809108114028,0.6942729091021493,0.8762119417479541,0.375071836263267,0.08293719762456486,0.4018066781281673,0.4623205974904211,0.5426260331316655,0.3024693138102609,0.2597274457296077,0.1322352404962246,0.9671177851292994,0.79937823636977,0.2586644378086963,0.7997127931951289,0.16341546410970975,0.5987560543772744,0.22325331350682387,0.5422526409084966,0.40622091768854685,0.7517299889536116,0.07348519824542221,0.9730383949208993,0.988293275796306,0.3381196420198167,0.5670222367492376,0.5260498318405529,0.8968472038245605,0.09470919924867349,0.4239836693784377,0.4801454462316499,0.7355758108526773,0.5312309497376165,0.8922403770406502,0.45728591202451474,0.004246521116709867,0.4047857025193031,0.3766402884411505,0.5622263865460486,0.1985988209677716,0.1103255145385541,0.23392833851741235,0.2920566431172631,0.42678669353632304,0.019924715246468994,0.6440868557917342,0.6297229875849522,0.8734968482244241,0.4992121003152754,0.4662669719091822,0.48244396090520547,0.4756355936723302,0.12206435037067487,0.4424607997656118,0.36379818988741763,0.978833510776468,0.7573338061196566,0.3153467153982388,0.3282221754308601,0.47176710707396674,0.6936141916623717,0.5372172464523141,0.708674225763903,0.2616842089101169,0.6882013910859278,0.964707768935897,0.5051193751066042,0.3571971600344084,0.6053203572274513,0.9277593065887414,0.6241585457257669,0.9371785246656354,0.727630656358626,0.29200069053471434,0.2391681636107047,0.9221619932151428,0.5915644322128516,0.3613676754364348,0.5400797746311052,0.34317055764163795,0.5216961340168272,0.9502556666842609,0.5304579030116914,0.9973132567415381,0.7776264350826373,0.7429072485947368,0.13639841980142942,0.9343035161046874,0.023919395652266973,0.49197404353404806,0.7915167620659532,0.06818364864601134,0.7582521783875602,0.6783154773785829,0.24385447363393398,0.7424926791830783,0.7925317626345577,0.7901779307801288,0.6871109617007952,0.418192477508857,0.9417391673946621,0.49585624552790364,0.790654451764514,0.6482331864042875,0.4998118454895888,0.18480053020527365,0.9120939740351909,0.9844502320527907,0.327683601562353,0.5842994555112646,0.5795017836992886,0.9825423213098736,0.9370987184857861,0.07626014993663388,0.58885079711679,0.9652502166468329,0.9745165544201655,0.38469755699445674,0.8236147303652906,0.8880780264548103,0.3474022003441949,0.8801443026161451,0.6490248349981512,0.8846491877384047,0.35200292207274997,0.21991749988053177,0.9482729815566765,0.8116217239212801,0.8607187421057173,0.8646612430864131,0.924162459677685,0.9377112975065439,0.7738294117338098,0.6285035186671699,0.70482480307507,0.5482677051159424,0.06025193212778546,0.26014125223610707,0.0404140478940157,0.6322976361237623,0.0936573351702975,0.791314833340775,0.5804572453389947,0.2724260917707646,0.4081508175510967,0.6900504850828955,0.7354218005779857,0.09365347658811918,0.28029559557941297,0.16169568102805698,0.8691221970682419,0.2633639346102522,0.5492596672572224,0.7867389975118486,0.07602488227617199,0.701259231994481,0.642063870290913,0.3715611727899558,0.9538659087535996,0.20807815589533052,0.05290679719683733,0.3737666464480547,0.04687584747243767,0.1511103303510285,0.11533598827126712,0.6880656613137005,0.8971787877873612,0.23820026453604115,0.5979610730538584,0.5703772953472472,0.3611748316936928,0.548974662180219,0.3123723333683688,0.1570722948876011,0.03528429199279981,0.06883309151424277,0.5252882658869842,0.4335710249318965,0.6552285163884924,0.2685562876978076,0.42587085144914494,0.6722069010555843,0.9396144099563223,0.6743203587631037,0.5809215433943998,0.9527594997194361,0.5253171724802188,0.7676932156596855,0.3545427568550068,0.8869465082324332,0.20621358872968232,0.2811981393963223,0.5723021512646321,0.278851681674647,0.7061025307957353,0.7023179603131043,0.9549685760852792,0.5563330004824291,0.8441397164407444,0.27543936564282856,0.7975609537380386,0.669833429010082,0.14118200033663308,0.274299413550834,0.6548397633290689,0.9917829224466232,0.3119201036964846,0.5256672812990282,0.6216091505708148,0.4144647773938741,0.08759576625946341,0.8075299418546754,0.21692157973116488,0.526368714891563,0.2250996903147604,0.5399439844570346,0.28427761616797553,0.3604789099014313,0.22815898865170425,0.7203907791808238,0.3769253292796725,0.5367645681104127,0.512144449830025,0.10215248472622529,0.7089149597569068,0.8053042945797053,0.5770890336702007,0.39661513339555543,0.10571857560050313,0.7740213010800193,0.10854512930639537,0.7133432647625051,0.9976086926757525,0.9426564270729216,0.3426916009344724,0.10827599923237308,0.30776340023395843,0.12202121536892985,0.15556988063902188,0.39195590908526,0.5883143257258264,7.382846511083674e-05,0.3125437300918964,0.07852093356401224,0.6628588176040712,0.15513880210927622,0.7221540916257838,0.6772552205320254,0.5882924143180881,0.8685337887650686,0.3313959346203781,0.8733082538525082,0.3549749578422623,0.35542087531793487,0.8956858356075983,0.23339668566194238,0.6101917209937869,0.27883232530958046,0.2601438631368953,0.0814985996370885,0.410097205980712,0.5288481177667382,0.8437079062036064,0.9130806161667075,0.08235696403718606,0.5720110226422731,0.3600891414159312,0.07361493467461899,0.3774174627492016,0.8121655253026088,0.48946147926174954,0.17992970379566608,0.5862645462063213,0.7863136668134425,0.5430071990386288,0.3351950855818765,0.7600439092782438,0.3314131756930012,0.14538584981749036,0.29400991427023104,0.6628607836205661,0.01098805744949638,0.6395529290327043,0.7544013469596315,0.9068481743284575,0.3687813566726613,0.013527777536647134,0.07958008283427531,0.5479536792895537,0.9222170748142173,0.018014591818719783,0.9345996252409079,0.4370140901805257,0.22057283961679852,0.879306378057264,0.7005623680428288,0.16165100503829,0.13143749862062903,0.688020744486541,0.34986197424260557,0.6229217900869902,0.15885363683810483,0.012541000516825163,0.07390516748671783,0.7146053157954951,0.4753571168683294,0.21007357852230246,0.2327220282579877,0.9569976733613011,0.10612565886559466,0.26938881945536153,0.005896461923882934,0.29249349698635396,0.6333385995619388,0.36943280367426756,0.10325358818874497,0.5951188516735599,0.48664599945661124,0.2837298192851846,0.594532055812609,0.9059067131478143,0.705512251779889,0.16445870781262462,0.24811008225951403,0.20691473371689695,0.11746790878504187,0.8600947456648195,0.6362529260504413,0.7377161360777974,0.7742555268340171,0.8299381843682864,0.1587285591910037,0.6967869156243068,0.6114619173296264,0.10483485097835454,0.6579046579194003,0.03834526665349369,0.7116275799029304,0.18173989739562924,0.8253370739665472,0.09112247860897493,0.5830114145073416,0.5148786687387438,0.595697940551703,0.5003519831561476,0.778460976180046,0.29594515963173185,0.6513408033279614,0.3287145779262375,0.100255613212483,0.5953158531403892,0.9099234864450214,0.6121632664790675,0.2445780032749595,0.45211778039804507,0.5118198057506207,0.4115236098831424,0.7677267645698456,0.32288393973017304],\"y\":[0.20363491480612117,0.2943036417512961,0.2753193805143419,0.3970725011864942,0.5038609235835197,0.8753197102898281,0.025778218153302945,0.8006022129845707,0.07160074834061791,0.3396907032135694,0.10779074439662695,0.3263159930459525,0.4892432444438305,0.6098099598440436,0.4967985907954299,0.4332177704525615,0.1492745184666211,0.8038888549506755,0.3435122735000272,0.01912589087789618,0.013229582545249974,0.45457874801422626,0.32386179493236233,0.0995206615692954,0.01681008955889174,0.2743219665732808,0.09506864579902763,0.4622858491738778,0.5774323491704705,0.7736225979837292,0.19773742484371626,0.2264601233815573,0.8022473345885854,0.4087683820357654,0.1765191046152489,0.9579584075204248,0.42451416066167225,0.21989711952106838,0.226051269204263,0.9243794801600694,0.49218608944116216,0.8720235250089048,0.7661652838542631,0.9364075185097877,0.1705716717892637,0.16759549493897397,0.2793618794649185,0.18869408869866477,0.7089959210859892,0.9469157279451331,0.09009357919642158,0.7568595821514001,0.9292069968223206,0.4281239860802898,0.8595789748214928,0.5897789948040058,0.8255494642745624,0.6895871844507975,0.727800475397364,0.9449282993317809,0.08226964087041089,0.8898275933450432,0.31623673906737904,0.7777060199746556,0.17238467876886254,0.07370207157568265,0.6373800411227297,0.06604962651863722,0.5621917525754488,0.9440288705449363,0.36369194943275784,0.2448813219295416,0.04204610475798154,0.6220001627902296,0.5599435132797399,0.5700269234267162,0.3601314080836008,0.70926248751572,0.6380597767818504,0.5174463477442098,0.9145489426979933,0.616037894689133,0.9717795949146825,0.3791596143030881,0.20341791309795765,0.795343107047068,0.9547835442180893,0.1996263750849432,0.1810419891123547,0.8807304399763628,0.13264560566745975,0.13078611043146293,0.3785040394906758,0.9394379234636296,0.5735698272135521,0.22731699229084035,0.44195739869239026,0.7433469294394294,0.6898741484768405,0.8175534250871695,0.7714307393596906,0.884852290923774,0.3204347782049486,0.16164378572876692,0.36880395839773583,0.639716942406772,0.6237890909648213,0.28703390035638787,0.3234795999180127,0.30615758416543637,0.3423130043207363,0.8974008588075267,0.4016465559483705,0.27047316590743486,0.9902039313170963,0.3645806665847139,0.3885997510060917,0.4063232460596704,0.42728799206058654,0.2697278524359521,0.02983286492539372,0.6584636798338532,0.9284492719423557,0.8917257170728219,0.0784843626797691,0.5450786728296835,0.013033507755806917,0.7896836719332663,0.536852514205677,0.8153875310204183,0.2361359922938786,0.6547693805185877,0.6497020006461959,0.4857111077523568,0.7322642002334991,0.9192815958802834,0.07344588699176668,0.8206917454994304,0.6289030933048129,0.9159027826035399,0.9104216155494541,0.10792373839766123,0.5558441453467825,0.03699996868186761,0.726464787007952,0.6113868749362427,0.8441797016544074,0.1521289215054339,0.7453279077375118,0.581959996139462,0.14221409289008757,0.34127232556387543,0.14901416703822945,0.3520536974517604,0.1550893910881318,0.7254589765940591,0.5793772195379395,0.1601175532651219,0.06940943105942554,0.0651878880384662,0.5819759274641189,0.6671413358112009,0.3121840001073741,0.32720774910976247,0.12278047519497537,0.3512169815954007,0.6675116422952962,0.5679661076689716,0.32713425087239967,0.43584733985502955,0.9749123289971604,0.22660431039972828,0.17445230990798755,0.32637911850060264,0.7022931581114479,0.583541546430944,0.3286143512582421,0.21614971518625148,0.1820742089548144,0.15809957661256924,0.35298913163671897,0.8829648855135745,0.5086098952247565,0.4325697884515304,0.1379252345377172,0.27289274933043006,0.42843991445707075,0.7425281443549993,0.13112699645936732,0.325598772176547,0.43095914270301383,0.4387102309993032,0.3345471232109968,0.6737289936730207,0.01077553568714873,0.4806823348719471,0.03881205641451646,0.8247348836347731,0.664773829919854,0.2183079175270891,0.14230434002970282,0.4501070921160657,0.19383617908257478,0.40911195921561083,0.6278176534810308,0.7308444921483005,0.8037412190397403,0.29650519117837615,0.07915917472596945,0.5016493593089374,0.42669906016611214,0.5681007579340667,0.3347599686813648,0.11598580898408672,0.7413966048097991,0.9838069712875457,0.2692332840528542,0.3594389448110603,0.023225431788755246,0.05951628097682404,0.09318085079289473,0.11411524827553865,0.821922660074454,0.13403619947687728,0.052260981181240895,0.06461689053710995,0.5776375387417113,0.34908778174757427,0.2901696541746531,0.3667644014861452,0.970874358445275,0.32354471063522217,0.7165269996101731,0.2515079761484934,0.8984679603359735,0.8225783936836422,0.2857733044344122,0.3464382343955902,0.36997899184472804,0.5701025475764127,0.4798849605649471,0.5446430470177295,0.25100772559756623,0.9330391748872354,0.10698126790999474,0.46684137687389915,0.36070688513019045,0.6077670968343888,0.8992691114750127,0.046129114953963435,0.32088872337591956,0.14803482755550845,0.3857700677939051,0.5169846877198032,0.5571873841009297,0.011746196308119461,0.3926288997178048,0.8723570736032518,0.8235786845569293,0.05344087727889757,0.6584073687785648,0.7205776332678115,0.22164016977813972,0.17955674449033265,0.31770983369188677,0.01686253040715524,0.9116008818284214,0.7271230443623332,0.6131735746896748,0.23064252916076922,0.4885129851986588,0.6578844275986245,0.7315948934966947,0.5156619348777507,0.7157928653034994,0.8731245124541606,0.9355443005184806,0.798534525997314,0.7657074575233851,0.002132794306072827,0.37904037697730764,0.6544003575246805,0.10275163440389123,0.03707656914261004,0.060477373658370914,0.9183133316531783,0.13815160211748378,0.8426862021311059,0.7484658755366499,0.10124843710041909,0.6768029137652922,0.9289954704298455,0.18710718430188067,0.25415651207651946,0.4632467008254112,0.19683890396492854,0.3834913294697343,0.5605646024923359,0.0710585180126675,0.7451459728929394,0.8787222790384749,0.33532424481477896,0.9164941131001646,0.5779790090669867,0.3220409270841067,0.9096225875772113,0.9456569338457291,0.18566863963032265,0.9409377695584654,0.19532558730767746,0.42900459355914944,0.2256338368112646,0.7566992191882213,0.8443509555026982,0.008792336675307655,0.6162436856573262,0.33096118425550614,0.79373133110252,0.8698149900419417,0.7272336518169212,0.8791677101842601,0.028651011265901083,0.6232953562281288,0.6694565449871892,0.8945394055699885,0.35840954472464603,0.594440794321914,0.7887687882141433,0.9357544016084343,0.27147754585283945,0.6403996155913186,0.5720830727387964,0.8006731202006278,0.9298521899810024,0.9128845106877017,0.6907044610420848,0.8370661118298952,0.20125153042608368,0.7493713541880916,0.6756414491694358,0.23841163960526124,0.9739488601006424,0.38138304281494084,0.7631249200792696,0.5632515267147806,0.09230230947078744,0.30157800267095625,0.14697068066297136,0.8738538306686682,0.7031418546949356,0.14530682352046376,0.39572395042800235,0.21429979391977538,0.22977649312232507,0.03533785189512695,0.751364787673659,0.21484352452023114,0.11488550897043281,0.8261743152832721,0.16097472224134268,0.17769344985315216,0.5432415580100469,0.1272015725533212,0.21325593153539002,0.5355904741703412,0.7022709030516003,0.2051151451830514,0.3707654652408898,0.4920806986031171,0.4433892963905166,0.42979681956982163,0.6162788700752296,0.04015219195493902,0.08056952385561067,0.7060291386885416,0.7499536950361596,0.027909423392425303,0.15591576949462882,0.9697360194468729,0.9975747143315621,0.2022302591528391,0.9677842739938751,0.23387312176640296,0.24153507826268872,0.35733623546715054,0.7020210375064563,0.9706655995105511,0.40011947274767135,0.6604001442727709,0.048647109104315134,0.7829035315097284,0.8721144789603967,0.9194746611542363,0.2222663163658346,0.9087039228398271,0.3021465604576581,0.7535627792204379,0.7827335113181495,0.4660361984394932,0.05178026901737476,0.21554424370989123,0.5461657156660441,0.943078944683509,0.26543165950239533,0.165283113216654,0.20433110616672712,0.5919150643002214,0.839975385618845,0.4727963217130914,0.5195702871197049,0.17546480678534382,0.600347015165818,0.07547520547895736,0.8109578021635231,0.6009583598790327,0.9041904058060872,0.2118937115286449,0.10831824943792856,0.41738280369466296,0.9656964039159898,0.8964580540487056,0.7535766319681907,0.7323869363839789,0.07392844398032883,0.4023549495695471,0.7856641295019401,0.1205269391112248,0.6986955155349551,0.5518565374242499,0.38394801094809294,0.8773690039168895,0.8694962405081603,0.2908567522816655,0.9297483890505336,0.838624722551707,0.6491130845078482,0.35181963640871183,0.28761792296087174,0.038946618237507113,0.7698921473476912,0.7229692100966736,0.7400831800658508,0.23788827911628174,0.9380619594516956,0.32485211376427947,0.20040344107042196,0.5400641215949693,0.9896631555459316,0.8815041387918722,0.760095002626341,0.6637165087601482,0.6410292020901223,0.6982881847234355,0.9849842158580162,0.6443284899580967,0.6856093461977408,0.03716669226162472,0.6464404659168559,0.4939818736736359,0.9313283729303622,0.7881831682178732,0.7135521034259181,0.07548111485837372,0.28225522888127486,0.540446009242809,0.6637284981206732,0.8100261105290445,0.099590196248448,0.9953961389204682,0.30332637330766643,0.8484195007975665,0.8250753492029681,0.1889778957921079,0.6546808461852845,0.9319711668792231,0.5219580933997735,0.9552457906603592,0.9537874699922372,0.728136678313274,0.30447714220216293,0.2810129002275369,0.9097597897904249,0.5672890981374911,0.953885151260492,0.6923426329283996,0.8250400401599495,0.9223677712377752,0.41133402280111864,0.22954479787070448,0.7159555576168499,0.40008457370977335,0.8520338511143379,0.3467485167017038,0.672613173633562,0.03337801461605139,0.8057827300970962,0.3893036702591768,0.10195311391830864,0.07446476543915881,0.933792098439879]}},\"id\":\"9e82ebdd-60b6-4747-9f93-71751113d7ee\",\"type\":\"ColumnDataSource\"},{\"attributes\":{\"plot\":{\"id\":\"69f59c47-e28d-4600-8533-3b13b59e90de\",\"subtype\":\"Figure\",\"type\":\"Plot\"},\"ticker\":{\"id\":\"f0e85173-68ef-45f1-8413-6748d758df17\",\"type\":\"BasicTicker\"}},\"id\":\"30cb6792-6f45-4f04-b65d-13e71f71b654\",\"type\":\"Grid\"},{\"attributes\":{\"callback\":null},\"id\":\"5cd0bc11-e73a-4b23-baef-9e429a4dcaac\",\"type\":\"DataRange1d\"},{\"attributes\":{\"below\":[{\"id\":\"c701fcc8-1b12-4a4a-937f-f36f988f6cec\",\"type\":\"LinearAxis\"}],\"left\":[{\"id\":\"accc5105-c590-49f8-b543-eed5978eda11\",\"type\":\"LinearAxis\"}],\"plot_height\":400,\"plot_width\":400,\"renderers\":[{\"id\":\"c701fcc8-1b12-4a4a-937f-f36f988f6cec\",\"type\":\"LinearAxis\"},{\"id\":\"30cb6792-6f45-4f04-b65d-13e71f71b654\",\"type\":\"Grid\"},{\"id\":\"accc5105-c590-49f8-b543-eed5978eda11\",\"type\":\"LinearAxis\"},{\"id\":\"e40cd6d5-cff7-40b0-a26a-1e31031e0fa9\",\"type\":\"Grid\"},{\"id\":\"1f861375-b2a6-452c-8946-3444c0eb63fd\",\"type\":\"PolyAnnotation\"},{\"id\":\"3f96fb29-2094-4b37-ba52-6ec1f98d0c7e\",\"type\":\"GlyphRenderer\"},{\"id\":\"fdf3e30f-f0c4-4ab3-be7d-e51f77ba5339\",\"type\":\"GlyphRenderer\"}],\"title\":{\"id\":\"ad7dc6ab-cbc8-4e71-8d55-b84c1f41071a\",\"type\":\"Title\"},\"tool_events\":{\"id\":\"c38bbd66-3022-4763-9f01-2cf0cff2e1c7\",\"type\":\"ToolEvents\"},\"toolbar\":{\"id\":\"9519b996-3a76-4dcf-89e4-a1aa19954488\",\"type\":\"Toolbar\"},\"x_range\":{\"id\":\"2af294bb-c70f-48a4-b8af-6bc66b6f487f\",\"type\":\"DataRange1d\"},\"y_range\":{\"id\":\"5cd0bc11-e73a-4b23-baef-9e429a4dcaac\",\"type\":\"DataRange1d\"}},\"id\":\"69f59c47-e28d-4600-8533-3b13b59e90de\",\"subtype\":\"Figure\",\"type\":\"Plot\"}],\"root_ids\":[\"69f59c47-e28d-4600-8533-3b13b59e90de\"]},\"title\":\"Bokeh Application\",\"version\":\"0.12.4\"}};\n",
       "            var render_items = [{\"docid\":\"56814172-b9e7-4c24-8225-a9be9a3dc5bb\",\"elementid\":\"89b54f9f-48d8-4193-a3e7-1af7c2611eec\",\"modelid\":\"69f59c47-e28d-4600-8533-3b13b59e90de\"}];\n",
       "            \n",
       "            Bokeh.embed.embed_items(docs_json, render_items);\n",
       "          };\n",
       "          if (document.readyState != \"loading\") fn();\n",
       "          else document.addEventListener(\"DOMContentLoaded\", fn);\n",
       "        })();\n",
       "      },\n",
       "      function(Bokeh) {\n",
       "      }\n",
       "    ];\n",
       "  \n",
       "    function run_inline_js() {\n",
       "      \n",
       "      if ((window.Bokeh !== undefined) || (force === true)) {\n",
       "        for (var i = 0; i < inline_js.length; i++) {\n",
       "          inline_js[i](window.Bokeh);\n",
       "        }if (force === true) {\n",
       "          display_loaded();\n",
       "        }} else if (Date.now() < window._bokeh_timeout) {\n",
       "        setTimeout(run_inline_js, 100);\n",
       "      } else if (!window._bokeh_failed_load) {\n",
       "        console.log(\"Bokeh: BokehJS failed to load within specified timeout.\");\n",
       "        window._bokeh_failed_load = true;\n",
       "      } else if (force !== true) {\n",
       "        var cell = $(document.getElementById(\"89b54f9f-48d8-4193-a3e7-1af7c2611eec\")).parents('.cell').data().cell;\n",
       "        cell.output_area.append_execute_result(NB_LOAD_WARNING)\n",
       "      }\n",
       "  \n",
       "    }\n",
       "  \n",
       "    if (window._bokeh_is_loading === 0) {\n",
       "      console.log(\"Bokeh: BokehJS loaded, going straight to plotting\");\n",
       "      run_inline_js();\n",
       "    } else {\n",
       "      load_libs(js_urls, function() {\n",
       "        console.log(\"Bokeh: BokehJS plotting callback run at\", now());\n",
       "        run_inline_js();\n",
       "      });\n",
       "    }\n",
       "  }(this));\n",
       "</script>"
      ]
     },
     "metadata": {},
     "output_type": "display_data"
    }
   ],
   "source": [
    "s.callback = CustomJS(args=dict(s2=s2), code=\"\"\"\n",
    "    var inds = cb_obj.get('selected')['1d'].indices;\n",
    "    var d = cb_obj.get('data');\n",
    "    var ym = 0\n",
    "    \n",
    "    if (inds.length == 0) { return; }\n",
    "    \n",
    "    for (i = 0; i < d['color'].length; i++) {\n",
    "        d['color'][i] = \"navy\"\n",
    "    }\n",
    "    for (i = 0; i < inds.length; i++) {\n",
    "        d['color'][inds[i]] = \"firebrick\"\n",
    "        ym += d['y'][inds[i]]\n",
    "    }\n",
    "    \n",
    "    ym /= inds.length\n",
    "    s2.get('data')['ym'] = [ym, ym]\n",
    "    \n",
    "    cb_obj.trigger('change');\n",
    "    s2.trigger('change');\n",
    "\"\"\")\n",
    "\n",
    "show(p)"
   ]
  },
  {
   "cell_type": "markdown",
   "metadata": {
    "collapsed": true
   },
   "source": [
    "# More\n",
    "\n",
    "For more interactions, see the User Guide - http://bokeh.pydata.org/en/latest/docs/user_guide/interaction.html"
   ]
  },
  {
   "cell_type": "code",
   "execution_count": null,
   "metadata": {
    "collapsed": true
   },
   "outputs": [],
   "source": []
  }
 ],
 "metadata": {
  "anaconda-cloud": {},
  "kernelspec": {
   "display_name": "Python 3",
   "language": "python",
   "name": "python3"
  },
  "language_info": {
   "codemirror_mode": {
    "name": "ipython",
    "version": 3
   },
   "file_extension": ".py",
   "mimetype": "text/x-python",
   "name": "python",
   "nbconvert_exporter": "python",
   "pygments_lexer": "ipython3",
   "version": "3.6.0"
  },
  "widgets": {
   "state": {
    "dcfb0a48d71c443987ef9542e8b29ff3": {
     "views": [
      {
       "cell_index": 54
      }
     ]
    }
   },
   "version": "1.2.0"
  }
 },
 "nbformat": 4,
 "nbformat_minor": 0
}
