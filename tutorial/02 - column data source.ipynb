{
 "cells": [
  {
   "cell_type": "markdown",
   "metadata": {},
   "source": [
    "<table style=\"float:left; border:none\">\n",
    "   <tr style=\"border:none\">\n",
    "       <td style=\"border:none\">\n",
    "           <a href=\"http://bokeh.pydata.org/\">     \n",
    "           <img \n",
    "               src=\"assets/images/bokeh-transparent.png\" \n",
    "               style=\"width:50px\"\n",
    "           >\n",
    "           </a>    \n",
    "       </td>\n",
    "       <td style=\"border:none\">\n",
    "           <h1>Bokeh Tutorial</h1>\n",
    "       </td>\n",
    "   </tr>\n",
    "</table>\n",
    "\n",
    "<div style=\"float:right;\"><h2>02. Column Data Source</h2></div>"
   ]
  },
  {
   "cell_type": "code",
   "execution_count": 1,
   "metadata": {
    "collapsed": true
   },
   "outputs": [],
   "source": [
    "from bokeh.io import output_notebook, show\n",
    "from bokeh.plotting import figure"
   ]
  },
  {
   "cell_type": "code",
   "execution_count": 2,
   "metadata": {
    "collapsed": false
   },
   "outputs": [
    {
     "data": {
      "text/html": [
       "\n",
       "    <div class=\"bk-root\">\n",
       "        <a href=\"http://bokeh.pydata.org\" target=\"_blank\" class=\"bk-logo bk-logo-small bk-logo-notebook\"></a>\n",
       "        <span id=\"f6103c3d-e998-4641-8282-abed095c8b41\">Loading BokehJS ...</span>\n",
       "    </div>"
      ]
     },
     "metadata": {},
     "output_type": "display_data"
    },
    {
     "data": {
      "application/javascript": [
       "\n",
       "(function(global) {\n",
       "  function now() {\n",
       "    return new Date();\n",
       "  }\n",
       "\n",
       "  var force = true;\n",
       "\n",
       "  if (typeof (window._bokeh_onload_callbacks) === \"undefined\" || force === true) {\n",
       "    window._bokeh_onload_callbacks = [];\n",
       "    window._bokeh_is_loading = undefined;\n",
       "  }\n",
       "\n",
       "\n",
       "  \n",
       "  if (typeof (window._bokeh_timeout) === \"undefined\" || force === true) {\n",
       "    window._bokeh_timeout = Date.now() + 5000;\n",
       "    window._bokeh_failed_load = false;\n",
       "  }\n",
       "\n",
       "  var NB_LOAD_WARNING = {'data': {'text/html':\n",
       "     \"<div style='background-color: #fdd'>\\n\"+\n",
       "     \"<p>\\n\"+\n",
       "     \"BokehJS does not appear to have successfully loaded. If loading BokehJS from CDN, this \\n\"+\n",
       "     \"may be due to a slow or bad network connection. Possible fixes:\\n\"+\n",
       "     \"</p>\\n\"+\n",
       "     \"<ul>\\n\"+\n",
       "     \"<li>re-rerun `output_notebook()` to attempt to load from CDN again, or</li>\\n\"+\n",
       "     \"<li>use INLINE resources instead, as so:</li>\\n\"+\n",
       "     \"</ul>\\n\"+\n",
       "     \"<code>\\n\"+\n",
       "     \"from bokeh.resources import INLINE\\n\"+\n",
       "     \"output_notebook(resources=INLINE)\\n\"+\n",
       "     \"</code>\\n\"+\n",
       "     \"</div>\"}};\n",
       "\n",
       "  function display_loaded() {\n",
       "    if (window.Bokeh !== undefined) {\n",
       "      document.getElementById(\"f6103c3d-e998-4641-8282-abed095c8b41\").textContent = \"BokehJS successfully loaded.\";\n",
       "    } else if (Date.now() < window._bokeh_timeout) {\n",
       "      setTimeout(display_loaded, 100)\n",
       "    }\n",
       "  }\n",
       "\n",
       "  function run_callbacks() {\n",
       "    window._bokeh_onload_callbacks.forEach(function(callback) { callback() });\n",
       "    delete window._bokeh_onload_callbacks\n",
       "    console.info(\"Bokeh: all callbacks have finished\");\n",
       "  }\n",
       "\n",
       "  function load_libs(js_urls, callback) {\n",
       "    window._bokeh_onload_callbacks.push(callback);\n",
       "    if (window._bokeh_is_loading > 0) {\n",
       "      console.log(\"Bokeh: BokehJS is being loaded, scheduling callback at\", now());\n",
       "      return null;\n",
       "    }\n",
       "    if (js_urls == null || js_urls.length === 0) {\n",
       "      run_callbacks();\n",
       "      return null;\n",
       "    }\n",
       "    console.log(\"Bokeh: BokehJS not loaded, scheduling load and callback at\", now());\n",
       "    window._bokeh_is_loading = js_urls.length;\n",
       "    for (var i = 0; i < js_urls.length; i++) {\n",
       "      var url = js_urls[i];\n",
       "      var s = document.createElement('script');\n",
       "      s.src = url;\n",
       "      s.async = false;\n",
       "      s.onreadystatechange = s.onload = function() {\n",
       "        window._bokeh_is_loading--;\n",
       "        if (window._bokeh_is_loading === 0) {\n",
       "          console.log(\"Bokeh: all BokehJS libraries loaded\");\n",
       "          run_callbacks()\n",
       "        }\n",
       "      };\n",
       "      s.onerror = function() {\n",
       "        console.warn(\"failed to load library \" + url);\n",
       "      };\n",
       "      console.log(\"Bokeh: injecting script tag for BokehJS library: \", url);\n",
       "      document.getElementsByTagName(\"head\")[0].appendChild(s);\n",
       "    }\n",
       "  };var element = document.getElementById(\"f6103c3d-e998-4641-8282-abed095c8b41\");\n",
       "  if (element == null) {\n",
       "    console.log(\"Bokeh: ERROR: autoload.js configured with elementid 'f6103c3d-e998-4641-8282-abed095c8b41' but no matching script tag was found. \")\n",
       "    return false;\n",
       "  }\n",
       "\n",
       "  var js_urls = [\"https://cdn.pydata.org/bokeh/release/bokeh-0.12.4.min.js\", \"https://cdn.pydata.org/bokeh/release/bokeh-widgets-0.12.4.min.js\"];\n",
       "\n",
       "  var inline_js = [\n",
       "    function(Bokeh) {\n",
       "      Bokeh.set_log_level(\"info\");\n",
       "    },\n",
       "    \n",
       "    function(Bokeh) {\n",
       "      \n",
       "      document.getElementById(\"f6103c3d-e998-4641-8282-abed095c8b41\").textContent = \"BokehJS is loading...\";\n",
       "    },\n",
       "    function(Bokeh) {\n",
       "      console.log(\"Bokeh: injecting CSS: https://cdn.pydata.org/bokeh/release/bokeh-0.12.4.min.css\");\n",
       "      Bokeh.embed.inject_css(\"https://cdn.pydata.org/bokeh/release/bokeh-0.12.4.min.css\");\n",
       "      console.log(\"Bokeh: injecting CSS: https://cdn.pydata.org/bokeh/release/bokeh-widgets-0.12.4.min.css\");\n",
       "      Bokeh.embed.inject_css(\"https://cdn.pydata.org/bokeh/release/bokeh-widgets-0.12.4.min.css\");\n",
       "    }\n",
       "  ];\n",
       "\n",
       "  function run_inline_js() {\n",
       "    \n",
       "    if ((window.Bokeh !== undefined) || (force === true)) {\n",
       "      for (var i = 0; i < inline_js.length; i++) {\n",
       "        inline_js[i](window.Bokeh);\n",
       "      }if (force === true) {\n",
       "        display_loaded();\n",
       "      }} else if (Date.now() < window._bokeh_timeout) {\n",
       "      setTimeout(run_inline_js, 100);\n",
       "    } else if (!window._bokeh_failed_load) {\n",
       "      console.log(\"Bokeh: BokehJS failed to load within specified timeout.\");\n",
       "      window._bokeh_failed_load = true;\n",
       "    } else if (force !== true) {\n",
       "      var cell = $(document.getElementById(\"f6103c3d-e998-4641-8282-abed095c8b41\")).parents('.cell').data().cell;\n",
       "      cell.output_area.append_execute_result(NB_LOAD_WARNING)\n",
       "    }\n",
       "\n",
       "  }\n",
       "\n",
       "  if (window._bokeh_is_loading === 0) {\n",
       "    console.log(\"Bokeh: BokehJS loaded, going straight to plotting\");\n",
       "    run_inline_js();\n",
       "  } else {\n",
       "    load_libs(js_urls, function() {\n",
       "      console.log(\"Bokeh: BokehJS plotting callback run at\", now());\n",
       "      run_inline_js();\n",
       "    });\n",
       "  }\n",
       "}(this));"
      ]
     },
     "metadata": {},
     "output_type": "display_data"
    }
   ],
   "source": [
    "output_notebook()"
   ]
  },
  {
   "cell_type": "markdown",
   "metadata": {},
   "source": [
    "# Overview\n",
    "\n",
    "We've seen how Bokeh can work well with Python lists, NumPy arrays, Pandas series, etc. At lower levels, these inputs are converted to a Bokeh `ColumnDataSource`. This data type is the central data source object used throughout Bokeh. Although Bokeh often creates them for us transparently, there are times when it is useful to create them explicitly.\n",
    "\n",
    "In later sections we will see features like hover tooltips, computed transforms, and CustomJS interactions that make use of the `ColumnDataSource`, so let's take a quick look now. "
   ]
  },
  {
   "cell_type": "markdown",
   "metadata": {},
   "source": [
    "The `ColumnDataSource` can be imported from `bokeh.models`:"
   ]
  },
  {
   "cell_type": "code",
   "execution_count": 3,
   "metadata": {
    "collapsed": true
   },
   "outputs": [],
   "source": [
    "from bokeh.models import ColumnDataSource"
   ]
  },
  {
   "cell_type": "markdown",
   "metadata": {},
   "source": [
    "The `ColumnDataSource` is a mapping of column names (strings) to sequences of values. Here is a simple example. The mapping is provided by passing a Python `dict` with string keys and simple Python lists as values. The values could also be NumPy arrays, or Pandas sequences.\n",
    "\n",
    "***NOTE: ALL the columns in a `ColumnDataSource` must always be the SAME length.***\n"
   ]
  },
  {
   "cell_type": "code",
   "execution_count": 8,
   "metadata": {
    "collapsed": true
   },
   "outputs": [],
   "source": [
    "source = ColumnDataSource(data={\n",
    "    'first' : [1, 2, 3, 4, 5],\n",
    "    'second' : [3, 7, 8, 5, 1],\n",
    "})"
   ]
  },
  {
   "cell_type": "markdown",
   "metadata": {},
   "source": [
    "Up until now we have called functions like `p.circle` by passing in literal lists or arrays of data directly, when we do this, Bokeh creates a `ColumnDataSource` for us, automatically. But it is possible to specify a `ColumnDataSource` explicitly by passing it as the `source` argument to a glyph method. Whenever we do this, if we want a property (like `\"x\"` or `\"y\"` or `\"fill_color\"`) to have a sequence of values, we pass the ***name of the column*** that we would like to use for a property:"
   ]
  },
  {
   "cell_type": "code",
   "execution_count": 9,
   "metadata": {
    "collapsed": false
   },
   "outputs": [
    {
     "data": {
      "text/html": [
       "\n",
       "\n",
       "    <div class=\"bk-root\">\n",
       "        <div class=\"bk-plotdiv\" id=\"ab80a784-5fe3-469f-8895-c2ff0e467e20\"></div>\n",
       "    </div>\n",
       "<script type=\"text/javascript\">\n",
       "  \n",
       "  (function(global) {\n",
       "    function now() {\n",
       "      return new Date();\n",
       "    }\n",
       "  \n",
       "    var force = false;\n",
       "  \n",
       "    if (typeof (window._bokeh_onload_callbacks) === \"undefined\" || force === true) {\n",
       "      window._bokeh_onload_callbacks = [];\n",
       "      window._bokeh_is_loading = undefined;\n",
       "    }\n",
       "  \n",
       "  \n",
       "    \n",
       "    if (typeof (window._bokeh_timeout) === \"undefined\" || force === true) {\n",
       "      window._bokeh_timeout = Date.now() + 0;\n",
       "      window._bokeh_failed_load = false;\n",
       "    }\n",
       "  \n",
       "    var NB_LOAD_WARNING = {'data': {'text/html':\n",
       "       \"<div style='background-color: #fdd'>\\n\"+\n",
       "       \"<p>\\n\"+\n",
       "       \"BokehJS does not appear to have successfully loaded. If loading BokehJS from CDN, this \\n\"+\n",
       "       \"may be due to a slow or bad network connection. Possible fixes:\\n\"+\n",
       "       \"</p>\\n\"+\n",
       "       \"<ul>\\n\"+\n",
       "       \"<li>re-rerun `output_notebook()` to attempt to load from CDN again, or</li>\\n\"+\n",
       "       \"<li>use INLINE resources instead, as so:</li>\\n\"+\n",
       "       \"</ul>\\n\"+\n",
       "       \"<code>\\n\"+\n",
       "       \"from bokeh.resources import INLINE\\n\"+\n",
       "       \"output_notebook(resources=INLINE)\\n\"+\n",
       "       \"</code>\\n\"+\n",
       "       \"</div>\"}};\n",
       "  \n",
       "    function display_loaded() {\n",
       "      if (window.Bokeh !== undefined) {\n",
       "        document.getElementById(\"ab80a784-5fe3-469f-8895-c2ff0e467e20\").textContent = \"BokehJS successfully loaded.\";\n",
       "      } else if (Date.now() < window._bokeh_timeout) {\n",
       "        setTimeout(display_loaded, 100)\n",
       "      }\n",
       "    }\n",
       "  \n",
       "    function run_callbacks() {\n",
       "      window._bokeh_onload_callbacks.forEach(function(callback) { callback() });\n",
       "      delete window._bokeh_onload_callbacks\n",
       "      console.info(\"Bokeh: all callbacks have finished\");\n",
       "    }\n",
       "  \n",
       "    function load_libs(js_urls, callback) {\n",
       "      window._bokeh_onload_callbacks.push(callback);\n",
       "      if (window._bokeh_is_loading > 0) {\n",
       "        console.log(\"Bokeh: BokehJS is being loaded, scheduling callback at\", now());\n",
       "        return null;\n",
       "      }\n",
       "      if (js_urls == null || js_urls.length === 0) {\n",
       "        run_callbacks();\n",
       "        return null;\n",
       "      }\n",
       "      console.log(\"Bokeh: BokehJS not loaded, scheduling load and callback at\", now());\n",
       "      window._bokeh_is_loading = js_urls.length;\n",
       "      for (var i = 0; i < js_urls.length; i++) {\n",
       "        var url = js_urls[i];\n",
       "        var s = document.createElement('script');\n",
       "        s.src = url;\n",
       "        s.async = false;\n",
       "        s.onreadystatechange = s.onload = function() {\n",
       "          window._bokeh_is_loading--;\n",
       "          if (window._bokeh_is_loading === 0) {\n",
       "            console.log(\"Bokeh: all BokehJS libraries loaded\");\n",
       "            run_callbacks()\n",
       "          }\n",
       "        };\n",
       "        s.onerror = function() {\n",
       "          console.warn(\"failed to load library \" + url);\n",
       "        };\n",
       "        console.log(\"Bokeh: injecting script tag for BokehJS library: \", url);\n",
       "        document.getElementsByTagName(\"head\")[0].appendChild(s);\n",
       "      }\n",
       "    };var element = document.getElementById(\"ab80a784-5fe3-469f-8895-c2ff0e467e20\");\n",
       "    if (element == null) {\n",
       "      console.log(\"Bokeh: ERROR: autoload.js configured with elementid 'ab80a784-5fe3-469f-8895-c2ff0e467e20' but no matching script tag was found. \")\n",
       "      return false;\n",
       "    }\n",
       "  \n",
       "    var js_urls = [];\n",
       "  \n",
       "    var inline_js = [\n",
       "      function(Bokeh) {\n",
       "        (function() {\n",
       "          var fn = function() {\n",
       "            var docs_json = {\"445b5627-888b-4a52-a860-0a9c45ad320d\":{\"roots\":{\"references\":[{\"attributes\":{\"below\":[{\"id\":\"88c91cc6-0004-42f1-8493-167a97539efc\",\"type\":\"LinearAxis\"}],\"left\":[{\"id\":\"8eeb74bb-333c-449b-9506-8ed6d2daa3dc\",\"type\":\"LinearAxis\"}],\"plot_height\":200,\"renderers\":[{\"id\":\"88c91cc6-0004-42f1-8493-167a97539efc\",\"type\":\"LinearAxis\"},{\"id\":\"8ac5b85c-baf5-42ce-befc-776c31fd9d4c\",\"type\":\"Grid\"},{\"id\":\"8eeb74bb-333c-449b-9506-8ed6d2daa3dc\",\"type\":\"LinearAxis\"},{\"id\":\"64616a12-15c8-4934-bd1c-a97d49cfae1b\",\"type\":\"Grid\"},{\"id\":\"9769fe94-1a4e-43b1-9755-cdebbd0cd522\",\"type\":\"BoxAnnotation\"},{\"id\":\"4bc147d1-687f-4973-8b44-596e723fe319\",\"type\":\"GlyphRenderer\"}],\"title\":{\"id\":\"9348a63a-ece9-47dd-b167-48b42072c383\",\"type\":\"Title\"},\"tool_events\":{\"id\":\"9e189340-475e-4e29-acd3-b4ada13e303c\",\"type\":\"ToolEvents\"},\"toolbar\":{\"id\":\"22c8a885-030d-4589-bc28-2ba3a58ac1f0\",\"type\":\"Toolbar\"},\"x_range\":{\"id\":\"850c0071-a769-4c50-9654-0b7c5f1040c0\",\"type\":\"DataRange1d\"},\"y_range\":{\"id\":\"1be7236e-a8cf-4f40-820d-e9d73fdafbb0\",\"type\":\"DataRange1d\"}},\"id\":\"58c1a395-f4a7-48f8-827a-32952e72b74c\",\"subtype\":\"Figure\",\"type\":\"Plot\"},{\"attributes\":{\"plot\":null,\"text\":\"\"},\"id\":\"9348a63a-ece9-47dd-b167-48b42072c383\",\"type\":\"Title\"},{\"attributes\":{\"dimension\":1,\"plot\":{\"id\":\"58c1a395-f4a7-48f8-827a-32952e72b74c\",\"subtype\":\"Figure\",\"type\":\"Plot\"},\"ticker\":{\"id\":\"fd71154b-8a82-4f44-aaae-276e03b2f1ca\",\"type\":\"BasicTicker\"}},\"id\":\"64616a12-15c8-4934-bd1c-a97d49cfae1b\",\"type\":\"Grid\"},{\"attributes\":{},\"id\":\"25813c94-0b96-4fe9-ba1b-3c3682ee58f9\",\"type\":\"BasicTickFormatter\"},{\"attributes\":{\"data_source\":{\"id\":\"201f36b9-d6e4-413f-98d7-b36026fce7fe\",\"type\":\"ColumnDataSource\"},\"glyph\":{\"id\":\"cb06a58b-1df6-44d9-b26f-995f3b7eebb6\",\"type\":\"Circle\"},\"hover_glyph\":null,\"nonselection_glyph\":{\"id\":\"e9a47a77-0320-4deb-af24-ddbfe287475c\",\"type\":\"Circle\"},\"selection_glyph\":null},\"id\":\"4bc147d1-687f-4973-8b44-596e723fe319\",\"type\":\"GlyphRenderer\"},{\"attributes\":{\"plot\":{\"id\":\"58c1a395-f4a7-48f8-827a-32952e72b74c\",\"subtype\":\"Figure\",\"type\":\"Plot\"}},\"id\":\"73804e67-7628-4331-9c65-48f9b5152188\",\"type\":\"PanTool\"},{\"attributes\":{\"bottom_units\":\"screen\",\"fill_alpha\":{\"value\":0.5},\"fill_color\":{\"value\":\"lightgrey\"},\"left_units\":\"screen\",\"level\":\"overlay\",\"line_alpha\":{\"value\":1.0},\"line_color\":{\"value\":\"black\"},\"line_dash\":[4,4],\"line_width\":{\"value\":2},\"plot\":null,\"render_mode\":\"css\",\"right_units\":\"screen\",\"top_units\":\"screen\"},\"id\":\"9769fe94-1a4e-43b1-9755-cdebbd0cd522\",\"type\":\"BoxAnnotation\"},{\"attributes\":{\"plot\":{\"id\":\"58c1a395-f4a7-48f8-827a-32952e72b74c\",\"subtype\":\"Figure\",\"type\":\"Plot\"}},\"id\":\"3e825e07-72a6-464c-8f03-8da4d8365842\",\"type\":\"WheelZoomTool\"},{\"attributes\":{},\"id\":\"2f81d022-3c6d-4b2d-ab08-53d84140da1e\",\"type\":\"BasicTickFormatter\"},{\"attributes\":{\"plot\":{\"id\":\"58c1a395-f4a7-48f8-827a-32952e72b74c\",\"subtype\":\"Figure\",\"type\":\"Plot\"}},\"id\":\"cacbfe66-b324-442f-b8ae-a75af15812b5\",\"type\":\"SaveTool\"},{\"attributes\":{\"formatter\":{\"id\":\"2f81d022-3c6d-4b2d-ab08-53d84140da1e\",\"type\":\"BasicTickFormatter\"},\"plot\":{\"id\":\"58c1a395-f4a7-48f8-827a-32952e72b74c\",\"subtype\":\"Figure\",\"type\":\"Plot\"},\"ticker\":{\"id\":\"818edebd-6640-4cfe-9e14-e1511611813e\",\"type\":\"BasicTicker\"}},\"id\":\"88c91cc6-0004-42f1-8493-167a97539efc\",\"type\":\"LinearAxis\"},{\"attributes\":{\"formatter\":{\"id\":\"25813c94-0b96-4fe9-ba1b-3c3682ee58f9\",\"type\":\"BasicTickFormatter\"},\"plot\":{\"id\":\"58c1a395-f4a7-48f8-827a-32952e72b74c\",\"subtype\":\"Figure\",\"type\":\"Plot\"},\"ticker\":{\"id\":\"fd71154b-8a82-4f44-aaae-276e03b2f1ca\",\"type\":\"BasicTicker\"}},\"id\":\"8eeb74bb-333c-449b-9506-8ed6d2daa3dc\",\"type\":\"LinearAxis\"},{\"attributes\":{\"plot\":{\"id\":\"58c1a395-f4a7-48f8-827a-32952e72b74c\",\"subtype\":\"Figure\",\"type\":\"Plot\"},\"ticker\":{\"id\":\"818edebd-6640-4cfe-9e14-e1511611813e\",\"type\":\"BasicTicker\"}},\"id\":\"8ac5b85c-baf5-42ce-befc-776c31fd9d4c\",\"type\":\"Grid\"},{\"attributes\":{\"overlay\":{\"id\":\"9769fe94-1a4e-43b1-9755-cdebbd0cd522\",\"type\":\"BoxAnnotation\"},\"plot\":{\"id\":\"58c1a395-f4a7-48f8-827a-32952e72b74c\",\"subtype\":\"Figure\",\"type\":\"Plot\"}},\"id\":\"c5f91f10-78f8-45cc-b587-d41c7d122255\",\"type\":\"BoxZoomTool\"},{\"attributes\":{\"callback\":null,\"column_names\":[\"first\",\"second\"],\"data\":{\"first\":[1,2,3,4,5],\"second\":[3,7,8,5,1]}},\"id\":\"201f36b9-d6e4-413f-98d7-b36026fce7fe\",\"type\":\"ColumnDataSource\"},{\"attributes\":{\"plot\":{\"id\":\"58c1a395-f4a7-48f8-827a-32952e72b74c\",\"subtype\":\"Figure\",\"type\":\"Plot\"}},\"id\":\"3365a40a-5342-4582-96c5-71ea91735443\",\"type\":\"HelpTool\"},{\"attributes\":{},\"id\":\"818edebd-6640-4cfe-9e14-e1511611813e\",\"type\":\"BasicTicker\"},{\"attributes\":{\"callback\":null},\"id\":\"850c0071-a769-4c50-9654-0b7c5f1040c0\",\"type\":\"DataRange1d\"},{\"attributes\":{\"active_drag\":\"auto\",\"active_scroll\":\"auto\",\"active_tap\":\"auto\",\"tools\":[{\"id\":\"73804e67-7628-4331-9c65-48f9b5152188\",\"type\":\"PanTool\"},{\"id\":\"3e825e07-72a6-464c-8f03-8da4d8365842\",\"type\":\"WheelZoomTool\"},{\"id\":\"c5f91f10-78f8-45cc-b587-d41c7d122255\",\"type\":\"BoxZoomTool\"},{\"id\":\"cacbfe66-b324-442f-b8ae-a75af15812b5\",\"type\":\"SaveTool\"},{\"id\":\"3c0dcd7c-3a11-4ba1-b853-4dd2defe7a26\",\"type\":\"ResetTool\"},{\"id\":\"3365a40a-5342-4582-96c5-71ea91735443\",\"type\":\"HelpTool\"}]},\"id\":\"22c8a885-030d-4589-bc28-2ba3a58ac1f0\",\"type\":\"Toolbar\"},{\"attributes\":{},\"id\":\"fd71154b-8a82-4f44-aaae-276e03b2f1ca\",\"type\":\"BasicTicker\"},{\"attributes\":{\"fill_alpha\":{\"value\":0.1},\"fill_color\":{\"value\":\"#1f77b4\"},\"line_alpha\":{\"value\":0.1},\"line_color\":{\"value\":\"#1f77b4\"},\"size\":{\"units\":\"screen\",\"value\":20},\"x\":{\"field\":\"first\"},\"y\":{\"field\":\"second\"}},\"id\":\"e9a47a77-0320-4deb-af24-ddbfe287475c\",\"type\":\"Circle\"},{\"attributes\":{\"plot\":{\"id\":\"58c1a395-f4a7-48f8-827a-32952e72b74c\",\"subtype\":\"Figure\",\"type\":\"Plot\"}},\"id\":\"3c0dcd7c-3a11-4ba1-b853-4dd2defe7a26\",\"type\":\"ResetTool\"},{\"attributes\":{\"fill_color\":{\"value\":\"#1f77b4\"},\"line_color\":{\"value\":\"#1f77b4\"},\"size\":{\"units\":\"screen\",\"value\":20},\"x\":{\"field\":\"first\"},\"y\":{\"field\":\"second\"}},\"id\":\"cb06a58b-1df6-44d9-b26f-995f3b7eebb6\",\"type\":\"Circle\"},{\"attributes\":{},\"id\":\"9e189340-475e-4e29-acd3-b4ada13e303c\",\"type\":\"ToolEvents\"},{\"attributes\":{\"callback\":null},\"id\":\"1be7236e-a8cf-4f40-820d-e9d73fdafbb0\",\"type\":\"DataRange1d\"}],\"root_ids\":[\"58c1a395-f4a7-48f8-827a-32952e72b74c\"]},\"title\":\"Bokeh Application\",\"version\":\"0.12.4\"}};\n",
       "            var render_items = [{\"docid\":\"445b5627-888b-4a52-a860-0a9c45ad320d\",\"elementid\":\"ab80a784-5fe3-469f-8895-c2ff0e467e20\",\"modelid\":\"58c1a395-f4a7-48f8-827a-32952e72b74c\"}];\n",
       "            \n",
       "            Bokeh.embed.embed_items(docs_json, render_items);\n",
       "          };\n",
       "          if (document.readyState != \"loading\") fn();\n",
       "          else document.addEventListener(\"DOMContentLoaded\", fn);\n",
       "        })();\n",
       "      },\n",
       "      function(Bokeh) {\n",
       "      }\n",
       "    ];\n",
       "  \n",
       "    function run_inline_js() {\n",
       "      \n",
       "      if ((window.Bokeh !== undefined) || (force === true)) {\n",
       "        for (var i = 0; i < inline_js.length; i++) {\n",
       "          inline_js[i](window.Bokeh);\n",
       "        }if (force === true) {\n",
       "          display_loaded();\n",
       "        }} else if (Date.now() < window._bokeh_timeout) {\n",
       "        setTimeout(run_inline_js, 100);\n",
       "      } else if (!window._bokeh_failed_load) {\n",
       "        console.log(\"Bokeh: BokehJS failed to load within specified timeout.\");\n",
       "        window._bokeh_failed_load = true;\n",
       "      } else if (force !== true) {\n",
       "        var cell = $(document.getElementById(\"ab80a784-5fe3-469f-8895-c2ff0e467e20\")).parents('.cell').data().cell;\n",
       "        cell.output_area.append_execute_result(NB_LOAD_WARNING)\n",
       "      }\n",
       "  \n",
       "    }\n",
       "  \n",
       "    if (window._bokeh_is_loading === 0) {\n",
       "      console.log(\"Bokeh: BokehJS loaded, going straight to plotting\");\n",
       "      run_inline_js();\n",
       "    } else {\n",
       "      load_libs(js_urls, function() {\n",
       "        console.log(\"Bokeh: BokehJS plotting callback run at\", now());\n",
       "        run_inline_js();\n",
       "      });\n",
       "    }\n",
       "  }(this));\n",
       "</script>"
      ]
     },
     "metadata": {},
     "output_type": "display_data"
    }
   ],
   "source": [
    "p = figure(width=600, height=200)\n",
    "p.circle('first', 'second', size=20, source=source) # name dimensions from source\n",
    "show(p)"
   ]
  },
  {
   "cell_type": "markdown",
   "metadata": {},
   "source": [
    "## Exercise 2.1: Column Data Source\n",
    "\n",
    "1. Adapt the cosine plot from earlier to use a column data source and named dimensions\n",
    "\n",
    "2. Review the *Quickstart* notebook and see how `ColumnDataSource` was used with the `autompg` Pandas datafram"
   ]
  },
  {
   "cell_type": "code",
   "execution_count": null,
   "metadata": {
    "collapsed": true
   },
   "outputs": [],
   "source": [
    "# Exercise"
   ]
  },
  {
   "cell_type": "markdown",
   "metadata": {},
   "source": [
    "CDS from Pandas DataFrame\n",
    "------------------------"
   ]
  },
  {
   "cell_type": "markdown",
   "metadata": {},
   "source": [
    "It's also simple to create `ColumnDataSource` objects directly from Pandas data frames. To do this, just pass the data frame to  `ColumnDataSource` when you create it:"
   ]
  },
  {
   "cell_type": "code",
   "execution_count": 10,
   "metadata": {
    "collapsed": true
   },
   "outputs": [],
   "source": [
    "from bokeh.sampledata.iris import flowers as df\n",
    "\n",
    "source = ColumnDataSource(df)"
   ]
  },
  {
   "cell_type": "code",
   "execution_count": 11,
   "metadata": {
    "collapsed": false
   },
   "outputs": [
    {
     "data": {
      "text/plain": [
       "Index(['sepal_length', 'sepal_width', 'petal_length', 'petal_width',\n",
       "       'species'],\n",
       "      dtype='object')"
      ]
     },
     "execution_count": 11,
     "metadata": {},
     "output_type": "execute_result"
    }
   ],
   "source": [
    "df.columns"
   ]
  },
  {
   "cell_type": "markdown",
   "metadata": {},
   "source": [
    "Now we can use it as we did above by passing the column names to glhph methods:"
   ]
  },
  {
   "cell_type": "code",
   "execution_count": 13,
   "metadata": {
    "collapsed": false
   },
   "outputs": [
    {
     "data": {
      "text/html": [
       "\n",
       "\n",
       "    <div class=\"bk-root\">\n",
       "        <div class=\"bk-plotdiv\" id=\"a593b3be-1a68-4436-92c3-36cc7814aa16\"></div>\n",
       "    </div>\n",
       "<script type=\"text/javascript\">\n",
       "  \n",
       "  (function(global) {\n",
       "    function now() {\n",
       "      return new Date();\n",
       "    }\n",
       "  \n",
       "    var force = false;\n",
       "  \n",
       "    if (typeof (window._bokeh_onload_callbacks) === \"undefined\" || force === true) {\n",
       "      window._bokeh_onload_callbacks = [];\n",
       "      window._bokeh_is_loading = undefined;\n",
       "    }\n",
       "  \n",
       "  \n",
       "    \n",
       "    if (typeof (window._bokeh_timeout) === \"undefined\" || force === true) {\n",
       "      window._bokeh_timeout = Date.now() + 0;\n",
       "      window._bokeh_failed_load = false;\n",
       "    }\n",
       "  \n",
       "    var NB_LOAD_WARNING = {'data': {'text/html':\n",
       "       \"<div style='background-color: #fdd'>\\n\"+\n",
       "       \"<p>\\n\"+\n",
       "       \"BokehJS does not appear to have successfully loaded. If loading BokehJS from CDN, this \\n\"+\n",
       "       \"may be due to a slow or bad network connection. Possible fixes:\\n\"+\n",
       "       \"</p>\\n\"+\n",
       "       \"<ul>\\n\"+\n",
       "       \"<li>re-rerun `output_notebook()` to attempt to load from CDN again, or</li>\\n\"+\n",
       "       \"<li>use INLINE resources instead, as so:</li>\\n\"+\n",
       "       \"</ul>\\n\"+\n",
       "       \"<code>\\n\"+\n",
       "       \"from bokeh.resources import INLINE\\n\"+\n",
       "       \"output_notebook(resources=INLINE)\\n\"+\n",
       "       \"</code>\\n\"+\n",
       "       \"</div>\"}};\n",
       "  \n",
       "    function display_loaded() {\n",
       "      if (window.Bokeh !== undefined) {\n",
       "        document.getElementById(\"a593b3be-1a68-4436-92c3-36cc7814aa16\").textContent = \"BokehJS successfully loaded.\";\n",
       "      } else if (Date.now() < window._bokeh_timeout) {\n",
       "        setTimeout(display_loaded, 100)\n",
       "      }\n",
       "    }\n",
       "  \n",
       "    function run_callbacks() {\n",
       "      window._bokeh_onload_callbacks.forEach(function(callback) { callback() });\n",
       "      delete window._bokeh_onload_callbacks\n",
       "      console.info(\"Bokeh: all callbacks have finished\");\n",
       "    }\n",
       "  \n",
       "    function load_libs(js_urls, callback) {\n",
       "      window._bokeh_onload_callbacks.push(callback);\n",
       "      if (window._bokeh_is_loading > 0) {\n",
       "        console.log(\"Bokeh: BokehJS is being loaded, scheduling callback at\", now());\n",
       "        return null;\n",
       "      }\n",
       "      if (js_urls == null || js_urls.length === 0) {\n",
       "        run_callbacks();\n",
       "        return null;\n",
       "      }\n",
       "      console.log(\"Bokeh: BokehJS not loaded, scheduling load and callback at\", now());\n",
       "      window._bokeh_is_loading = js_urls.length;\n",
       "      for (var i = 0; i < js_urls.length; i++) {\n",
       "        var url = js_urls[i];\n",
       "        var s = document.createElement('script');\n",
       "        s.src = url;\n",
       "        s.async = false;\n",
       "        s.onreadystatechange = s.onload = function() {\n",
       "          window._bokeh_is_loading--;\n",
       "          if (window._bokeh_is_loading === 0) {\n",
       "            console.log(\"Bokeh: all BokehJS libraries loaded\");\n",
       "            run_callbacks()\n",
       "          }\n",
       "        };\n",
       "        s.onerror = function() {\n",
       "          console.warn(\"failed to load library \" + url);\n",
       "        };\n",
       "        console.log(\"Bokeh: injecting script tag for BokehJS library: \", url);\n",
       "        document.getElementsByTagName(\"head\")[0].appendChild(s);\n",
       "      }\n",
       "    };var element = document.getElementById(\"a593b3be-1a68-4436-92c3-36cc7814aa16\");\n",
       "    if (element == null) {\n",
       "      console.log(\"Bokeh: ERROR: autoload.js configured with elementid 'a593b3be-1a68-4436-92c3-36cc7814aa16' but no matching script tag was found. \")\n",
       "      return false;\n",
       "    }\n",
       "  \n",
       "    var js_urls = [];\n",
       "  \n",
       "    var inline_js = [\n",
       "      function(Bokeh) {\n",
       "        (function() {\n",
       "          var fn = function() {\n",
       "            var docs_json = {\"944f8e36-6b6c-4a54-869e-a9c83b22a297\":{\"roots\":{\"references\":[{\"attributes\":{\"callback\":null},\"id\":\"2cf9ef8f-9bac-41a2-9f70-7952c964c23c\",\"type\":\"DataRange1d\"},{\"attributes\":{\"active_drag\":\"auto\",\"active_scroll\":\"auto\",\"active_tap\":\"auto\",\"tools\":[{\"id\":\"6374f375-0834-4ab9-9285-915a80dc7cbd\",\"type\":\"PanTool\"},{\"id\":\"f5c6acb6-a9d7-40c5-82e6-b2c52e585cc1\",\"type\":\"WheelZoomTool\"},{\"id\":\"c2604977-285f-4037-9cdb-c6429bb1369b\",\"type\":\"BoxZoomTool\"},{\"id\":\"79ecbdf2-201a-46ab-addd-65a86431e6eb\",\"type\":\"SaveTool\"},{\"id\":\"0d3937b1-8feb-4348-9e81-6087f2a2000c\",\"type\":\"ResetTool\"},{\"id\":\"f1911814-04fd-4501-adbb-1aaf5023177b\",\"type\":\"HelpTool\"}]},\"id\":\"19c3a057-6668-4611-9250-2b65789d6f22\",\"type\":\"Toolbar\"},{\"attributes\":{\"data_source\":{\"id\":\"fc61f9f0-0eeb-49b0-a408-0e1262a7e534\",\"type\":\"ColumnDataSource\"},\"glyph\":{\"id\":\"ee366d21-a2d7-4df2-8a40-4d3498a22908\",\"type\":\"Circle\"},\"hover_glyph\":null,\"nonselection_glyph\":{\"id\":\"218c8ab9-865a-49f1-9fb8-6804f52dbba2\",\"type\":\"Circle\"},\"selection_glyph\":null},\"id\":\"35d18c39-29fd-4977-a6a4-013bbc822df7\",\"type\":\"GlyphRenderer\"},{\"attributes\":{\"below\":[{\"id\":\"62e35784-d458-4b23-a6da-07f3eb85d68d\",\"type\":\"LinearAxis\"}],\"left\":[{\"id\":\"17750e8f-6f19-406a-9839-642e045894ac\",\"type\":\"LinearAxis\"}],\"plot_height\":200,\"renderers\":[{\"id\":\"62e35784-d458-4b23-a6da-07f3eb85d68d\",\"type\":\"LinearAxis\"},{\"id\":\"ac55dc9a-71f4-4c0e-8369-df6d897d6326\",\"type\":\"Grid\"},{\"id\":\"17750e8f-6f19-406a-9839-642e045894ac\",\"type\":\"LinearAxis\"},{\"id\":\"8e02a9f1-69c6-4306-a7ec-87d978fa2411\",\"type\":\"Grid\"},{\"id\":\"a61bea83-3841-47d2-a5ae-eb9cfd9a9146\",\"type\":\"BoxAnnotation\"},{\"id\":\"35d18c39-29fd-4977-a6a4-013bbc822df7\",\"type\":\"GlyphRenderer\"}],\"title\":{\"id\":\"b02c8c79-5e41-4f5d-bc30-ec3814cd3850\",\"type\":\"Title\"},\"tool_events\":{\"id\":\"02c61150-ca23-48dc-8ac7-da86b4f58133\",\"type\":\"ToolEvents\"},\"toolbar\":{\"id\":\"19c3a057-6668-4611-9250-2b65789d6f22\",\"type\":\"Toolbar\"},\"x_range\":{\"id\":\"2cf9ef8f-9bac-41a2-9f70-7952c964c23c\",\"type\":\"DataRange1d\"},\"y_range\":{\"id\":\"6caa47ba-d814-4c3a-8e33-d47ac85e0000\",\"type\":\"DataRange1d\"}},\"id\":\"11ec6842-07f6-41d7-8759-23c2bc56fbba\",\"subtype\":\"Figure\",\"type\":\"Plot\"},{\"attributes\":{\"callback\":null},\"id\":\"6caa47ba-d814-4c3a-8e33-d47ac85e0000\",\"type\":\"DataRange1d\"},{\"attributes\":{\"callback\":null,\"column_names\":[\"sepal_length\",\"sepal_width\",\"petal_length\",\"petal_width\",\"species\",\"index\"],\"data\":{\"index\":[0,1,2,3,4,5,6,7,8,9,10,11,12,13,14,15,16,17,18,19,20,21,22,23,24,25,26,27,28,29,30,31,32,33,34,35,36,37,38,39,40,41,42,43,44,45,46,47,48,49,50,51,52,53,54,55,56,57,58,59,60,61,62,63,64,65,66,67,68,69,70,71,72,73,74,75,76,77,78,79,80,81,82,83,84,85,86,87,88,89,90,91,92,93,94,95,96,97,98,99,100,101,102,103,104,105,106,107,108,109,110,111,112,113,114,115,116,117,118,119,120,121,122,123,124,125,126,127,128,129,130,131,132,133,134,135,136,137,138,139,140,141,142,143,144,145,146,147,148,149],\"petal_length\":[1.4,1.4,1.3,1.5,1.4,1.7,1.4,1.5,1.4,1.5,1.5,1.6,1.4,1.1,1.2,1.5,1.3,1.4,1.7,1.5,1.7,1.5,1.0,1.7,1.9,1.6,1.6,1.5,1.4,1.6,1.6,1.5,1.5,1.4,1.5,1.2,1.3,1.4,1.3,1.5,1.3,1.3,1.3,1.6,1.9,1.4,1.6,1.4,1.5,1.4,4.7,4.5,4.9,4.0,4.6,4.5,4.7,3.3,4.6,3.9,3.5,4.2,4.0,4.7,3.6,4.4,4.5,4.1,4.5,3.9,4.8,4.0,4.9,4.7,4.3,4.4,4.8,5.0,4.5,3.5,3.8,3.7,3.9,5.1,4.5,4.5,4.7,4.4,4.1,4.0,4.4,4.6,4.0,3.3,4.2,4.2,4.2,4.3,3.0,4.1,6.0,5.1,5.9,5.6,5.8,6.6,4.5,6.3,5.8,6.1,5.1,5.3,5.5,5.0,5.1,5.3,5.5,6.7,6.9,5.0,5.7,4.9,6.7,4.9,5.7,6.0,4.8,4.9,5.6,5.8,6.1,6.4,5.6,5.1,5.6,6.1,5.6,5.5,4.8,5.4,5.6,5.1,5.1,5.9,5.7,5.2,5.0,5.2,5.4,5.1],\"petal_width\":[0.2,0.2,0.2,0.2,0.2,0.4,0.3,0.2,0.2,0.1,0.2,0.2,0.1,0.1,0.2,0.4,0.4,0.3,0.3,0.3,0.2,0.4,0.2,0.5,0.2,0.2,0.4,0.2,0.2,0.2,0.2,0.4,0.1,0.2,0.2,0.2,0.2,0.1,0.2,0.2,0.3,0.3,0.2,0.6,0.4,0.3,0.2,0.2,0.2,0.2,1.4,1.5,1.5,1.3,1.5,1.3,1.6,1.0,1.3,1.4,1.0,1.5,1.0,1.4,1.3,1.4,1.5,1.0,1.5,1.1,1.8,1.3,1.5,1.2,1.3,1.4,1.4,1.7,1.5,1.0,1.1,1.0,1.2,1.6,1.5,1.6,1.5,1.3,1.3,1.3,1.2,1.4,1.2,1.0,1.3,1.2,1.3,1.3,1.1,1.3,2.5,1.9,2.1,1.8,2.2,2.1,1.7,1.8,1.8,2.5,2.0,1.9,2.1,2.0,2.4,2.3,1.8,2.2,2.3,1.5,2.3,2.0,2.0,1.8,2.1,1.8,1.8,1.8,2.1,1.6,1.9,2.0,2.2,1.5,1.4,2.3,2.4,1.8,1.8,2.1,2.4,2.3,1.9,2.3,2.5,2.3,1.9,2.0,2.3,1.8],\"sepal_length\":[5.1,4.9,4.7,4.6,5.0,5.4,4.6,5.0,4.4,4.9,5.4,4.8,4.8,4.3,5.8,5.7,5.4,5.1,5.7,5.1,5.4,5.1,4.6,5.1,4.8,5.0,5.0,5.2,5.2,4.7,4.8,5.4,5.2,5.5,4.9,5.0,5.5,4.9,4.4,5.1,5.0,4.5,4.4,5.0,5.1,4.8,5.1,4.6,5.3,5.0,7.0,6.4,6.9,5.5,6.5,5.7,6.3,4.9,6.6,5.2,5.0,5.9,6.0,6.1,5.6,6.7,5.6,5.8,6.2,5.6,5.9,6.1,6.3,6.1,6.4,6.6,6.8,6.7,6.0,5.7,5.5,5.5,5.8,6.0,5.4,6.0,6.7,6.3,5.6,5.5,5.5,6.1,5.8,5.0,5.6,5.7,5.7,6.2,5.1,5.7,6.3,5.8,7.1,6.3,6.5,7.6,4.9,7.3,6.7,7.2,6.5,6.4,6.8,5.7,5.8,6.4,6.5,7.7,7.7,6.0,6.9,5.6,7.7,6.3,6.7,7.2,6.2,6.1,6.4,7.2,7.4,7.9,6.4,6.3,6.1,7.7,6.3,6.4,6.0,6.9,6.7,6.9,5.8,6.8,6.7,6.7,6.3,6.5,6.2,5.9],\"sepal_width\":[3.5,3.0,3.2,3.1,3.6,3.9,3.4,3.4,2.9,3.1,3.7,3.4,3.0,3.0,4.0,4.4,3.9,3.5,3.8,3.8,3.4,3.7,3.6,3.3,3.4,3.0,3.4,3.5,3.4,3.2,3.1,3.4,4.1,4.2,3.1,3.2,3.5,3.6,3.0,3.4,3.5,2.3,3.2,3.5,3.8,3.0,3.8,3.2,3.7,3.3,3.2,3.2,3.1,2.3,2.8,2.8,3.3,2.4,2.9,2.7,2.0,3.0,2.2,2.9,2.9,3.1,3.0,2.7,2.2,2.5,3.2,2.8,2.5,2.8,2.9,3.0,2.8,3.0,2.9,2.6,2.4,2.4,2.7,2.7,3.0,3.4,3.1,2.3,3.0,2.5,2.6,3.0,2.6,2.3,2.7,3.0,2.9,2.9,2.5,2.8,3.3,2.7,3.0,2.9,3.0,3.0,2.5,2.9,2.5,3.6,3.2,2.7,3.0,2.5,2.8,3.2,3.0,3.8,2.6,2.2,3.2,2.8,2.8,2.7,3.3,3.2,2.8,3.0,2.8,3.0,2.8,3.8,2.8,2.8,2.6,3.0,3.4,3.1,3.0,3.1,3.1,3.1,2.7,3.2,3.3,3.0,2.5,3.0,3.4,3.0],\"species\":[\"setosa\",\"setosa\",\"setosa\",\"setosa\",\"setosa\",\"setosa\",\"setosa\",\"setosa\",\"setosa\",\"setosa\",\"setosa\",\"setosa\",\"setosa\",\"setosa\",\"setosa\",\"setosa\",\"setosa\",\"setosa\",\"setosa\",\"setosa\",\"setosa\",\"setosa\",\"setosa\",\"setosa\",\"setosa\",\"setosa\",\"setosa\",\"setosa\",\"setosa\",\"setosa\",\"setosa\",\"setosa\",\"setosa\",\"setosa\",\"setosa\",\"setosa\",\"setosa\",\"setosa\",\"setosa\",\"setosa\",\"setosa\",\"setosa\",\"setosa\",\"setosa\",\"setosa\",\"setosa\",\"setosa\",\"setosa\",\"setosa\",\"setosa\",\"versicolor\",\"versicolor\",\"versicolor\",\"versicolor\",\"versicolor\",\"versicolor\",\"versicolor\",\"versicolor\",\"versicolor\",\"versicolor\",\"versicolor\",\"versicolor\",\"versicolor\",\"versicolor\",\"versicolor\",\"versicolor\",\"versicolor\",\"versicolor\",\"versicolor\",\"versicolor\",\"versicolor\",\"versicolor\",\"versicolor\",\"versicolor\",\"versicolor\",\"versicolor\",\"versicolor\",\"versicolor\",\"versicolor\",\"versicolor\",\"versicolor\",\"versicolor\",\"versicolor\",\"versicolor\",\"versicolor\",\"versicolor\",\"versicolor\",\"versicolor\",\"versicolor\",\"versicolor\",\"versicolor\",\"versicolor\",\"versicolor\",\"versicolor\",\"versicolor\",\"versicolor\",\"versicolor\",\"versicolor\",\"versicolor\",\"versicolor\",\"virginica\",\"virginica\",\"virginica\",\"virginica\",\"virginica\",\"virginica\",\"virginica\",\"virginica\",\"virginica\",\"virginica\",\"virginica\",\"virginica\",\"virginica\",\"virginica\",\"virginica\",\"virginica\",\"virginica\",\"virginica\",\"virginica\",\"virginica\",\"virginica\",\"virginica\",\"virginica\",\"virginica\",\"virginica\",\"virginica\",\"virginica\",\"virginica\",\"virginica\",\"virginica\",\"virginica\",\"virginica\",\"virginica\",\"virginica\",\"virginica\",\"virginica\",\"virginica\",\"virginica\",\"virginica\",\"virginica\",\"virginica\",\"virginica\",\"virginica\",\"virginica\",\"virginica\",\"virginica\",\"virginica\",\"virginica\",\"virginica\",\"virginica\"]}},\"id\":\"fc61f9f0-0eeb-49b0-a408-0e1262a7e534\",\"type\":\"ColumnDataSource\"},{\"attributes\":{\"formatter\":{\"id\":\"661db630-fccd-4db6-b7ae-45bc736d70d6\",\"type\":\"BasicTickFormatter\"},\"plot\":{\"id\":\"11ec6842-07f6-41d7-8759-23c2bc56fbba\",\"subtype\":\"Figure\",\"type\":\"Plot\"},\"ticker\":{\"id\":\"8f83e14c-f7ee-4ce8-b090-c77a477f67a0\",\"type\":\"BasicTicker\"}},\"id\":\"62e35784-d458-4b23-a6da-07f3eb85d68d\",\"type\":\"LinearAxis\"},{\"attributes\":{},\"id\":\"8f83e14c-f7ee-4ce8-b090-c77a477f67a0\",\"type\":\"BasicTicker\"},{\"attributes\":{\"plot\":{\"id\":\"11ec6842-07f6-41d7-8759-23c2bc56fbba\",\"subtype\":\"Figure\",\"type\":\"Plot\"},\"ticker\":{\"id\":\"8f83e14c-f7ee-4ce8-b090-c77a477f67a0\",\"type\":\"BasicTicker\"}},\"id\":\"ac55dc9a-71f4-4c0e-8369-df6d897d6326\",\"type\":\"Grid\"},{\"attributes\":{\"formatter\":{\"id\":\"bd90a629-cbf9-4fef-93a1-67790dc83c85\",\"type\":\"BasicTickFormatter\"},\"plot\":{\"id\":\"11ec6842-07f6-41d7-8759-23c2bc56fbba\",\"subtype\":\"Figure\",\"type\":\"Plot\"},\"ticker\":{\"id\":\"d1087cda-147d-479f-8b2f-3d60c0aaa799\",\"type\":\"BasicTicker\"}},\"id\":\"17750e8f-6f19-406a-9839-642e045894ac\",\"type\":\"LinearAxis\"},{\"attributes\":{},\"id\":\"d1087cda-147d-479f-8b2f-3d60c0aaa799\",\"type\":\"BasicTicker\"},{\"attributes\":{\"dimension\":1,\"plot\":{\"id\":\"11ec6842-07f6-41d7-8759-23c2bc56fbba\",\"subtype\":\"Figure\",\"type\":\"Plot\"},\"ticker\":{\"id\":\"d1087cda-147d-479f-8b2f-3d60c0aaa799\",\"type\":\"BasicTicker\"}},\"id\":\"8e02a9f1-69c6-4306-a7ec-87d978fa2411\",\"type\":\"Grid\"},{\"attributes\":{\"plot\":null,\"text\":\"\"},\"id\":\"b02c8c79-5e41-4f5d-bc30-ec3814cd3850\",\"type\":\"Title\"},{\"attributes\":{\"bottom_units\":\"screen\",\"fill_alpha\":{\"value\":0.5},\"fill_color\":{\"value\":\"lightgrey\"},\"left_units\":\"screen\",\"level\":\"overlay\",\"line_alpha\":{\"value\":1.0},\"line_color\":{\"value\":\"black\"},\"line_dash\":[4,4],\"line_width\":{\"value\":2},\"plot\":null,\"render_mode\":\"css\",\"right_units\":\"screen\",\"top_units\":\"screen\"},\"id\":\"a61bea83-3841-47d2-a5ae-eb9cfd9a9146\",\"type\":\"BoxAnnotation\"},{\"attributes\":{\"plot\":{\"id\":\"11ec6842-07f6-41d7-8759-23c2bc56fbba\",\"subtype\":\"Figure\",\"type\":\"Plot\"}},\"id\":\"6374f375-0834-4ab9-9285-915a80dc7cbd\",\"type\":\"PanTool\"},{\"attributes\":{},\"id\":\"bd90a629-cbf9-4fef-93a1-67790dc83c85\",\"type\":\"BasicTickFormatter\"},{\"attributes\":{\"plot\":{\"id\":\"11ec6842-07f6-41d7-8759-23c2bc56fbba\",\"subtype\":\"Figure\",\"type\":\"Plot\"}},\"id\":\"f5c6acb6-a9d7-40c5-82e6-b2c52e585cc1\",\"type\":\"WheelZoomTool\"},{\"attributes\":{\"overlay\":{\"id\":\"a61bea83-3841-47d2-a5ae-eb9cfd9a9146\",\"type\":\"BoxAnnotation\"},\"plot\":{\"id\":\"11ec6842-07f6-41d7-8759-23c2bc56fbba\",\"subtype\":\"Figure\",\"type\":\"Plot\"}},\"id\":\"c2604977-285f-4037-9cdb-c6429bb1369b\",\"type\":\"BoxZoomTool\"},{\"attributes\":{\"plot\":{\"id\":\"11ec6842-07f6-41d7-8759-23c2bc56fbba\",\"subtype\":\"Figure\",\"type\":\"Plot\"}},\"id\":\"79ecbdf2-201a-46ab-addd-65a86431e6eb\",\"type\":\"SaveTool\"},{\"attributes\":{\"plot\":{\"id\":\"11ec6842-07f6-41d7-8759-23c2bc56fbba\",\"subtype\":\"Figure\",\"type\":\"Plot\"}},\"id\":\"0d3937b1-8feb-4348-9e81-6087f2a2000c\",\"type\":\"ResetTool\"},{\"attributes\":{\"plot\":{\"id\":\"11ec6842-07f6-41d7-8759-23c2bc56fbba\",\"subtype\":\"Figure\",\"type\":\"Plot\"}},\"id\":\"f1911814-04fd-4501-adbb-1aaf5023177b\",\"type\":\"HelpTool\"},{\"attributes\":{\"fill_color\":{\"value\":\"#1f77b4\"},\"line_color\":{\"value\":\"#1f77b4\"},\"x\":{\"field\":\"petal_length\"},\"y\":{\"field\":\"petal_width\"}},\"id\":\"ee366d21-a2d7-4df2-8a40-4d3498a22908\",\"type\":\"Circle\"},{\"attributes\":{},\"id\":\"661db630-fccd-4db6-b7ae-45bc736d70d6\",\"type\":\"BasicTickFormatter\"},{\"attributes\":{\"fill_alpha\":{\"value\":0.1},\"fill_color\":{\"value\":\"#1f77b4\"},\"line_alpha\":{\"value\":0.1},\"line_color\":{\"value\":\"#1f77b4\"},\"x\":{\"field\":\"petal_length\"},\"y\":{\"field\":\"petal_width\"}},\"id\":\"218c8ab9-865a-49f1-9fb8-6804f52dbba2\",\"type\":\"Circle\"},{\"attributes\":{},\"id\":\"02c61150-ca23-48dc-8ac7-da86b4f58133\",\"type\":\"ToolEvents\"}],\"root_ids\":[\"11ec6842-07f6-41d7-8759-23c2bc56fbba\"]},\"title\":\"Bokeh Application\",\"version\":\"0.12.4\"}};\n",
       "            var render_items = [{\"docid\":\"944f8e36-6b6c-4a54-869e-a9c83b22a297\",\"elementid\":\"a593b3be-1a68-4436-92c3-36cc7814aa16\",\"modelid\":\"11ec6842-07f6-41d7-8759-23c2bc56fbba\"}];\n",
       "            \n",
       "            Bokeh.embed.embed_items(docs_json, render_items);\n",
       "          };\n",
       "          if (document.readyState != \"loading\") fn();\n",
       "          else document.addEventListener(\"DOMContentLoaded\", fn);\n",
       "        })();\n",
       "      },\n",
       "      function(Bokeh) {\n",
       "      }\n",
       "    ];\n",
       "  \n",
       "    function run_inline_js() {\n",
       "      \n",
       "      if ((window.Bokeh !== undefined) || (force === true)) {\n",
       "        for (var i = 0; i < inline_js.length; i++) {\n",
       "          inline_js[i](window.Bokeh);\n",
       "        }if (force === true) {\n",
       "          display_loaded();\n",
       "        }} else if (Date.now() < window._bokeh_timeout) {\n",
       "        setTimeout(run_inline_js, 100);\n",
       "      } else if (!window._bokeh_failed_load) {\n",
       "        console.log(\"Bokeh: BokehJS failed to load within specified timeout.\");\n",
       "        window._bokeh_failed_load = true;\n",
       "      } else if (force !== true) {\n",
       "        var cell = $(document.getElementById(\"a593b3be-1a68-4436-92c3-36cc7814aa16\")).parents('.cell').data().cell;\n",
       "        cell.output_area.append_execute_result(NB_LOAD_WARNING)\n",
       "      }\n",
       "  \n",
       "    }\n",
       "  \n",
       "    if (window._bokeh_is_loading === 0) {\n",
       "      console.log(\"Bokeh: BokehJS loaded, going straight to plotting\");\n",
       "      run_inline_js();\n",
       "    } else {\n",
       "      load_libs(js_urls, function() {\n",
       "        console.log(\"Bokeh: BokehJS plotting callback run at\", now());\n",
       "        run_inline_js();\n",
       "      });\n",
       "    }\n",
       "  }(this));\n",
       "</script>"
      ]
     },
     "metadata": {},
     "output_type": "display_data"
    }
   ],
   "source": [
    "p = figure(width=600, height=200)\n",
    "p.circle('petal_length', 'petal_width', source=source)\n",
    "show(p)"
   ]
  },
  {
   "cell_type": "markdown",
   "metadata": {},
   "source": [
    "## Exercise 2.2: Pandas DataFrame\n",
    "\n",
    "Create a column data source with the autompg sample data frame then choose two dimensions to plot"
   ]
  },
  {
   "cell_type": "code",
   "execution_count": null,
   "metadata": {
    "collapsed": false
   },
   "outputs": [],
   "source": [
    "from bokeh.sampledata.autompg import autompg as df"
   ]
  },
  {
   "cell_type": "code",
   "execution_count": null,
   "metadata": {
    "collapsed": true
   },
   "outputs": [],
   "source": []
  }
 ],
 "metadata": {
  "kernelspec": {
   "display_name": "Python 3",
   "language": "python",
   "name": "python3"
  },
  "language_info": {
   "codemirror_mode": {
    "name": "ipython",
    "version": 3
   },
   "file_extension": ".py",
   "mimetype": "text/x-python",
   "name": "python",
   "nbconvert_exporter": "python",
   "pygments_lexer": "ipython3",
   "version": "3.6.0"
  }
 },
 "nbformat": 4,
 "nbformat_minor": 1
}
