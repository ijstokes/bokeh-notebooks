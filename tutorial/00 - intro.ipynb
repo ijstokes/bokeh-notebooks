{
 "cells": [
  {
   "cell_type": "markdown",
   "metadata": {},
   "source": [
    "<table style=\"float:left; border:none\">\n",
    "   <tr style=\"border:none\">\n",
    "       <td style=\"border:none\">\n",
    "           <a href=\"http://bokeh.pydata.org/\">     \n",
    "           <img \n",
    "               src=\"assets/images/bokeh-transparent.png\" \n",
    "               style=\"width:50px\"\n",
    "           >\n",
    "           </a>    \n",
    "       </td>\n",
    "       <td style=\"border:none\">\n",
    "           <h1>Bokeh Tutorial</h1>\n",
    "       </td>\n",
    "   </tr>\n",
    "</table>\n",
    "<div style=\"float:right;\"><h2>00. Introduction and Setup</h2></div>"
   ]
  },
  {
   "cell_type": "markdown",
   "metadata": {},
   "source": [
    "# Table of Contents\n",
    "\n",
    "* [Tutorial Overview](#Tutorial-Overview)\n",
    "* [What is Bokeh](#What-is-Bokeh) \n",
    "* [What can I *do* with Bokeh](#What-can-I-do-with-Bokeh) \n",
    "* [How does it work](#How-does-it-work)\n",
    "* [Getting set up](#Getting-set-up)"
   ]
  },
  {
   "cell_type": "markdown",
   "metadata": {},
   "source": [
    "## Tutorial Overview\n",
    "\n",
    "The tutorial is broken into several sections, which are each presented in their own notebook:\n",
    "\n",
    "1. [Basic Plotting Interface](01 - plotting.ipynb)\n",
    "\n",
    "2. [Column Data Sources](02 - column data source.ipynb)\n",
    "\n",
    "3. [Layouts, Widgets, and Interactions](03 - interactions.ipynb) \n",
    "\n",
    "4. [Styling Visual Attributes](04 - styling.ipynb) \n",
    "\n",
    "5. [Data Transformations](05 - data transformations.ipynb)\n",
    "\n",
    "6. [Bokeh Applications](06 - server.ipynb) \n",
    "\n",
    "7. [Sharing and Embedding](07 - sharing.ipynb) \n",
    "\n",
    "8. [Annotations](08 - annotations.ipynb) \n",
    "\n",
    "9. [Models and Primitives](09 - models.ipynb) \n",
    "\n",
    "10. [High Level Charts](10 - charts.ipynb) \n",
    "\n",
    "11. [Geographic Data](11 - geo.ipynb)\n",
    "\n",
    "12. [Datashader: Visualizaing Large Data](12 - datashader.ipynb)\n",
    "\n",
    "13. [HoloViews and Bokeh](13- holoviews.ipynb)\n",
    "\n",
    "Appendices\n",
    "\n",
    "1. [Extra Bokeh Topics](A1 - Extra Resources.ipynb) "
   ]
  },
  {
   "cell_type": "markdown",
   "metadata": {},
   "source": [
    "## What is Bokeh\n",
    "\n",
    "Bokeh is a Data Visualization library for\n",
    "\n",
    "* interactive visualization in modern browsers\n",
    "* standalone HTML documents, or server-backed apps\n",
    "* capable of expressive and verstatile graphics\n",
    "* can handle large, dynamic or streaming data\n",
    "* available from python (or Scala, or R, or Julia, or...)\n",
    "\n",
    "And most importantly:\n",
    "\n",
    "## <center>NO JAVASCRIPT REQUIRED </center>"
   ]
  },
  {
   "cell_type": "markdown",
   "metadata": {},
   "source": [
    "## What can you *do* with Bokeh"
   ]
  },
  {
   "cell_type": "code",
   "execution_count": null,
   "metadata": {
    "collapsed": false
   },
   "outputs": [],
   "source": [
    "# Standard imports \n",
    "\n",
    "from bokeh.io import output_notebook, show\n",
    "output_notebook()"
   ]
  },
  {
   "cell_type": "code",
   "execution_count": null,
   "metadata": {
    "collapsed": true
   },
   "outputs": [],
   "source": [
    "# Plot a complex chart in a single line\n",
    "\n",
    "from bokeh.charts import Histogram\n",
    "from bokeh.sampledata.iris import flowers as data"
   ]
  },
  {
   "cell_type": "code",
   "execution_count": null,
   "metadata": {
    "collapsed": false
   },
   "outputs": [],
   "source": [
    "data"
   ]
  },
  {
   "cell_type": "code",
   "execution_count": null,
   "metadata": {
    "collapsed": false
   },
   "outputs": [],
   "source": [
    "type(data)"
   ]
  },
  {
   "cell_type": "code",
   "execution_count": null,
   "metadata": {
    "collapsed": true
   },
   "outputs": [],
   "source": [
    "hist = Histogram(data, values=\"petal_length\", color=\"species\", legend=\"top_right\", bins=12, height=300)"
   ]
  },
  {
   "cell_type": "code",
   "execution_count": null,
   "metadata": {
    "collapsed": false,
    "scrolled": false
   },
   "outputs": [],
   "source": [
    "show(hist)"
   ]
  },
  {
   "cell_type": "code",
   "execution_count": null,
   "metadata": {
    "collapsed": false,
    "scrolled": true,
    "slideshow": {
     "slide_type": "-"
    }
   },
   "outputs": [],
   "source": [
    "# Build and serve beautiful web-ready interactive visualizations\n",
    "\n",
    "import utils\n",
    "p = utils.get_gapminder_plot()\n",
    "show(p)"
   ]
  },
  {
   "cell_type": "code",
   "execution_count": null,
   "metadata": {
    "collapsed": false
   },
   "outputs": [],
   "source": [
    "# Create and deploy interactive data applications\n",
    "\n",
    "from IPython.display import IFrame\n",
    "IFrame('http://demo.bokehplots.com/apps/sliders', width=900, height=500)"
   ]
  },
  {
   "cell_type": "markdown",
   "metadata": {},
   "source": [
    "# How does it work"
   ]
  },
  {
   "cell_type": "markdown",
   "metadata": {
    "slideshow": {
     "slide_type": "-"
    }
   },
   "source": [
    "<img src=\"assets/images/arch.png\" style=\"width:800px\">"
   ]
  },
  {
   "cell_type": "markdown",
   "metadata": {},
   "source": [
    "Exercise 0: Recreate the Cosine Plot\n",
    "----------------------------------\n",
    "1. Create a new notebook and copy-and-paste the code necessary to create the cosine plot from the *Quickstart* Notebook\n",
    "\n",
    "2. Experiment with Zoom, Pan, Reset, and Save widgets on the plot.\n",
    "\n",
    "3. Add in a variable `z` that is just like `y` but comes from a `sin()` function instead.  Add this to the plot by using a `p.triangles()` expression after the `p.circles()` expression (and before `show(p)`)."
   ]
  },
  {
   "cell_type": "code",
   "execution_count": null,
   "metadata": {
    "collapsed": true
   },
   "outputs": [],
   "source": []
  }
 ],
 "metadata": {
  "anaconda-cloud": {},
  "kernelspec": {
   "display_name": "Python 3",
   "language": "python",
   "name": "python3"
  },
  "language_info": {
   "codemirror_mode": {
    "name": "ipython",
    "version": 3
   },
   "file_extension": ".py",
   "mimetype": "text/x-python",
   "name": "python",
   "nbconvert_exporter": "python",
   "pygments_lexer": "ipython3",
   "version": "3.6.0"
  }
 },
 "nbformat": 4,
 "nbformat_minor": 0
}
