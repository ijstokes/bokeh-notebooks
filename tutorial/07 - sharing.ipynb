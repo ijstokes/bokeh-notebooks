{
 "cells": [
  {
   "cell_type": "markdown",
   "metadata": {},
   "source": [
    "<table style=\"float:left; border:none\">\n",
    "   <tr style=\"border:none\">\n",
    "       <td style=\"border:none\">\n",
    "           <a href=\"http://bokeh.pydata.org/\">     \n",
    "           <img \n",
    "               src=\"assets/images/bokeh-transparent.png\" \n",
    "               style=\"width:50px\"\n",
    "           >\n",
    "           </a>    \n",
    "       </td>\n",
    "       <td style=\"border:none\">\n",
    "           <h1>Bokeh Tutorial</h1>\n",
    "       </td>\n",
    "   </tr>\n",
    "</table>\n",
    "\n",
    "<div style=\"float:right;\"><h2>07. Sharing and Embedding</h2></div>"
   ]
  },
  {
   "cell_type": "markdown",
   "metadata": {},
   "source": [
    "# DOES NOT WORK\n",
    "\n",
    "(needs to be updated for different data source -- Yahoo API has been removed)"
   ]
  },
  {
   "cell_type": "markdown",
   "metadata": {},
   "source": [
    "# Creating a Plot to Share"
   ]
  },
  {
   "cell_type": "code",
   "execution_count": null,
   "metadata": {
    "collapsed": true
   },
   "outputs": [],
   "source": [
    "import pandas as pd\n",
    "from bokeh.plotting import figure"
   ]
  },
  {
   "cell_type": "code",
   "execution_count": null,
   "metadata": {
    "collapsed": false
   },
   "outputs": [],
   "source": [
    "AAPL = pd.read_csv(\n",
    "    \"http://ichart.yahoo.com/table.csv?s=AAPL&a=0&b=1&c=2000&d=0&e=1&f=2015\",\n",
    "    parse_dates=['Date'])\n",
    "MSFT = pd.read_csv(\n",
    "    \"http://ichart.yahoo.com/table.csv?s=MSFT&a=0&b=1&c=2000&d=0&e=1&f=2015\",\n",
    "    parse_dates=['Date'])\n",
    "IBM = pd.read_csv(\n",
    "    \"http://ichart.yahoo.com/table.csv?s=IBM&a=0&b=1&c=2000&d=0&e=1&f=2015\",\n",
    "    parse_dates=['Date'])"
   ]
  },
  {
   "cell_type": "code",
   "execution_count": null,
   "metadata": {
    "collapsed": false
   },
   "outputs": [],
   "source": [
    "def stock_chart():\n",
    "    p = figure(x_axis_type=\"datetime\", width=700, height=300)\n",
    "\n",
    "    p.line(AAPL['Date'], AAPL['Adj Close'], color='#A6CEE3', legend='AAPL')\n",
    "    p.line(IBM['Date'], IBM['Adj Close'], color='#33A02C', legend='IBM')\n",
    "    p.line(MSFT['Date'], MSFT['Adj Close'], color='#FB9A99', legend='MSFT')\n",
    "\n",
    "    p.title.text = \"Stock Closing Prices\"\n",
    "    p.grid.grid_line_alpha=0.3\n",
    "    p.xaxis.axis_label = 'Date'\n",
    "    p.yaxis.axis_label = 'Price'\n",
    "    p.legend.location = \"top_left\"\n",
    "    return p"
   ]
  },
  {
   "cell_type": "markdown",
   "metadata": {},
   "source": [
    "Embed functions all look for a Plot object. Common plot objects are:\n",
    " * `Plot` from models\n",
    " * `figure` from plotting\n",
    " * `Chart` from charts\n",
    " * `row`, `column` from layouts"
   ]
  },
  {
   "cell_type": "markdown",
   "metadata": {
    "collapsed": false
   },
   "source": [
    "# Displaying in the Notebook"
   ]
  },
  {
   "cell_type": "code",
   "execution_count": null,
   "metadata": {
    "collapsed": true
   },
   "outputs": [],
   "source": [
    "from bokeh.io import output_notebook, show"
   ]
  },
  {
   "cell_type": "code",
   "execution_count": null,
   "metadata": {
    "collapsed": false
   },
   "outputs": [],
   "source": [
    "output_notebook()"
   ]
  },
  {
   "cell_type": "code",
   "execution_count": null,
   "metadata": {
    "collapsed": false
   },
   "outputs": [],
   "source": [
    "p = stock_chart()\n",
    "show(p)"
   ]
  },
  {
   "cell_type": "markdown",
   "metadata": {
    "collapsed": false
   },
   "source": [
    "# Saving to an HTML File"
   ]
  },
  {
   "cell_type": "code",
   "execution_count": null,
   "metadata": {
    "collapsed": true
   },
   "outputs": [],
   "source": [
    "from bokeh.io import output_file, show"
   ]
  },
  {
   "cell_type": "code",
   "execution_count": null,
   "metadata": {
    "collapsed": true
   },
   "outputs": [],
   "source": [
    "output_file(\"tutorial_sharing.html\")"
   ]
  },
  {
   "cell_type": "code",
   "execution_count": null,
   "metadata": {
    "collapsed": false
   },
   "outputs": [],
   "source": [
    "p = stock_chart()\n",
    "show(p)   # save(p) will save without opening a new browser tab"
   ]
  },
  {
   "cell_type": "markdown",
   "metadata": {
    "collapsed": false
   },
   "source": [
    "# Templating in HTML Documents"
   ]
  },
  {
   "cell_type": "code",
   "execution_count": null,
   "metadata": {
    "collapsed": true
   },
   "outputs": [],
   "source": [
    "import jinja2\n",
    "from bokeh.embed import components"
   ]
  },
  {
   "cell_type": "code",
   "execution_count": null,
   "metadata": {
    "collapsed": true
   },
   "outputs": [],
   "source": [
    "# IMPORTANT NOTE!! The version of BokehJS loaded in the template should match \n",
    "# the version of Bokeh installed locally.\n",
    "\n",
    "template = jinja2.Template(\"\"\"\n",
    "<!DOCTYPE html>\n",
    "<html lang=\"en-US\">\n",
    "\n",
    "<link\n",
    "    href=\"http://cdn.pydata.org/bokeh/release/bokeh-0.12.0.min.css\"\n",
    "    rel=\"stylesheet\" type=\"text/css\"\n",
    ">\n",
    "<script \n",
    "    src=\"http://cdn.pydata.org/bokeh/release/bokeh-0.12.0.min.js\"\n",
    "></script>\n",
    "\n",
    "<body>\n",
    "\n",
    "    <h1>Hello Bokeh!</h1>\n",
    "    \n",
    "    <p> Below is a simple plot of stock closing prices </p>\n",
    "    \n",
    "    {{ script }}\n",
    "    \n",
    "    {{ div }}\n",
    "\n",
    "</body>\n",
    "\n",
    "</html>\n",
    "\"\"\")"
   ]
  },
  {
   "cell_type": "code",
   "execution_count": null,
   "metadata": {
    "collapsed": false
   },
   "outputs": [],
   "source": [
    "p = stock_chart()\n",
    "script, div = components(p)"
   ]
  },
  {
   "cell_type": "code",
   "execution_count": null,
   "metadata": {
    "collapsed": false,
    "scrolled": false
   },
   "outputs": [],
   "source": [
    "from IPython.display import HTML\n",
    "HTML(template.render(script=script, div=div))"
   ]
  },
  {
   "cell_type": "code",
   "execution_count": null,
   "metadata": {
    "collapsed": false
   },
   "outputs": [],
   "source": [
    "# Uncomment to test flask (requires \"conda install flask\")\n",
    "#from flask import Flask\n",
    "#app = Flask(__name__)\n",
    "#\n",
    "#@app.route('/')\n",
    "#def hello_bokeh():\n",
    "#    return template.render(script=script, div=div)"
   ]
  },
  {
   "cell_type": "code",
   "execution_count": null,
   "metadata": {
    "collapsed": false
   },
   "outputs": [],
   "source": [
    "# Uncomment to run the Flask Server. Use Kernel -> Interrupt from Notebook menubar to stop \n",
    "#app.run(port=5050)"
   ]
  },
  {
   "cell_type": "code",
   "execution_count": null,
   "metadata": {
    "collapsed": true
   },
   "outputs": [],
   "source": [
    "# EXERCISE: Create your own template (or modify the one above) "
   ]
  },
  {
   "cell_type": "code",
   "execution_count": null,
   "metadata": {
    "collapsed": true
   },
   "outputs": [],
   "source": []
  }
 ],
 "metadata": {
  "anaconda-cloud": {},
  "kernelspec": {
   "display_name": "Python 3",
   "language": "python",
   "name": "python3"
  },
  "language_info": {
   "codemirror_mode": {
    "name": "ipython",
    "version": 3
   },
   "file_extension": ".py",
   "mimetype": "text/x-python",
   "name": "python",
   "nbconvert_exporter": "python",
   "pygments_lexer": "ipython3",
   "version": "3.6.0"
  }
 },
 "nbformat": 4,
 "nbformat_minor": 0
}
