{
 "cells": [
  {
   "cell_type": "markdown",
   "metadata": {},
   "source": [
    "<table style=\"float:left; border:none\">\n",
    "   <tr style=\"border:none\">\n",
    "       <td style=\"border:none\">\n",
    "           <a href=\"http://bokeh.pydata.org/\">     \n",
    "           <img \n",
    "               src=\"assets/images/bokeh-transparent.png\" \n",
    "               style=\"width:50px\"\n",
    "           >\n",
    "           </a>    \n",
    "       </td>\n",
    "       <td style=\"border:none\">\n",
    "           <h1>Bokeh Tutorial</h1>\n",
    "       </td>\n",
    "   </tr>\n",
    "</table>\n",
    "\n",
    "<div style=\"float:right;\"><h2>08. Annotations</h2></div>"
   ]
  },
  {
   "cell_type": "code",
   "execution_count": 1,
   "metadata": {
    "collapsed": true
   },
   "outputs": [],
   "source": [
    "from bokeh.io import output_notebook, show\n",
    "from bokeh.plotting import figure"
   ]
  },
  {
   "cell_type": "code",
   "execution_count": 2,
   "metadata": {
    "collapsed": false
   },
   "outputs": [
    {
     "data": {
      "text/html": [
       "\n",
       "    <div class=\"bk-root\">\n",
       "        <a href=\"http://bokeh.pydata.org\" target=\"_blank\" class=\"bk-logo bk-logo-small bk-logo-notebook\"></a>\n",
       "        <span id=\"3582e44e-6c23-491f-9b11-bee2b7b1c82b\">Loading BokehJS ...</span>\n",
       "    </div>"
      ]
     },
     "metadata": {},
     "output_type": "display_data"
    },
    {
     "data": {
      "application/javascript": [
       "\n",
       "(function(global) {\n",
       "  function now() {\n",
       "    return new Date();\n",
       "  }\n",
       "\n",
       "  var force = true;\n",
       "\n",
       "  if (typeof (window._bokeh_onload_callbacks) === \"undefined\" || force === true) {\n",
       "    window._bokeh_onload_callbacks = [];\n",
       "    window._bokeh_is_loading = undefined;\n",
       "  }\n",
       "\n",
       "\n",
       "  \n",
       "  if (typeof (window._bokeh_timeout) === \"undefined\" || force === true) {\n",
       "    window._bokeh_timeout = Date.now() + 5000;\n",
       "    window._bokeh_failed_load = false;\n",
       "  }\n",
       "\n",
       "  var NB_LOAD_WARNING = {'data': {'text/html':\n",
       "     \"<div style='background-color: #fdd'>\\n\"+\n",
       "     \"<p>\\n\"+\n",
       "     \"BokehJS does not appear to have successfully loaded. If loading BokehJS from CDN, this \\n\"+\n",
       "     \"may be due to a slow or bad network connection. Possible fixes:\\n\"+\n",
       "     \"</p>\\n\"+\n",
       "     \"<ul>\\n\"+\n",
       "     \"<li>re-rerun `output_notebook()` to attempt to load from CDN again, or</li>\\n\"+\n",
       "     \"<li>use INLINE resources instead, as so:</li>\\n\"+\n",
       "     \"</ul>\\n\"+\n",
       "     \"<code>\\n\"+\n",
       "     \"from bokeh.resources import INLINE\\n\"+\n",
       "     \"output_notebook(resources=INLINE)\\n\"+\n",
       "     \"</code>\\n\"+\n",
       "     \"</div>\"}};\n",
       "\n",
       "  function display_loaded() {\n",
       "    if (window.Bokeh !== undefined) {\n",
       "      document.getElementById(\"3582e44e-6c23-491f-9b11-bee2b7b1c82b\").textContent = \"BokehJS successfully loaded.\";\n",
       "    } else if (Date.now() < window._bokeh_timeout) {\n",
       "      setTimeout(display_loaded, 100)\n",
       "    }\n",
       "  }\n",
       "\n",
       "  function run_callbacks() {\n",
       "    window._bokeh_onload_callbacks.forEach(function(callback) { callback() });\n",
       "    delete window._bokeh_onload_callbacks\n",
       "    console.info(\"Bokeh: all callbacks have finished\");\n",
       "  }\n",
       "\n",
       "  function load_libs(js_urls, callback) {\n",
       "    window._bokeh_onload_callbacks.push(callback);\n",
       "    if (window._bokeh_is_loading > 0) {\n",
       "      console.log(\"Bokeh: BokehJS is being loaded, scheduling callback at\", now());\n",
       "      return null;\n",
       "    }\n",
       "    if (js_urls == null || js_urls.length === 0) {\n",
       "      run_callbacks();\n",
       "      return null;\n",
       "    }\n",
       "    console.log(\"Bokeh: BokehJS not loaded, scheduling load and callback at\", now());\n",
       "    window._bokeh_is_loading = js_urls.length;\n",
       "    for (var i = 0; i < js_urls.length; i++) {\n",
       "      var url = js_urls[i];\n",
       "      var s = document.createElement('script');\n",
       "      s.src = url;\n",
       "      s.async = false;\n",
       "      s.onreadystatechange = s.onload = function() {\n",
       "        window._bokeh_is_loading--;\n",
       "        if (window._bokeh_is_loading === 0) {\n",
       "          console.log(\"Bokeh: all BokehJS libraries loaded\");\n",
       "          run_callbacks()\n",
       "        }\n",
       "      };\n",
       "      s.onerror = function() {\n",
       "        console.warn(\"failed to load library \" + url);\n",
       "      };\n",
       "      console.log(\"Bokeh: injecting script tag for BokehJS library: \", url);\n",
       "      document.getElementsByTagName(\"head\")[0].appendChild(s);\n",
       "    }\n",
       "  };var element = document.getElementById(\"3582e44e-6c23-491f-9b11-bee2b7b1c82b\");\n",
       "  if (element == null) {\n",
       "    console.log(\"Bokeh: ERROR: autoload.js configured with elementid '3582e44e-6c23-491f-9b11-bee2b7b1c82b' but no matching script tag was found. \")\n",
       "    return false;\n",
       "  }\n",
       "\n",
       "  var js_urls = [\"https://cdn.pydata.org/bokeh/release/bokeh-0.12.4.min.js\", \"https://cdn.pydata.org/bokeh/release/bokeh-widgets-0.12.4.min.js\"];\n",
       "\n",
       "  var inline_js = [\n",
       "    function(Bokeh) {\n",
       "      Bokeh.set_log_level(\"info\");\n",
       "    },\n",
       "    \n",
       "    function(Bokeh) {\n",
       "      \n",
       "      document.getElementById(\"3582e44e-6c23-491f-9b11-bee2b7b1c82b\").textContent = \"BokehJS is loading...\";\n",
       "    },\n",
       "    function(Bokeh) {\n",
       "      console.log(\"Bokeh: injecting CSS: https://cdn.pydata.org/bokeh/release/bokeh-0.12.4.min.css\");\n",
       "      Bokeh.embed.inject_css(\"https://cdn.pydata.org/bokeh/release/bokeh-0.12.4.min.css\");\n",
       "      console.log(\"Bokeh: injecting CSS: https://cdn.pydata.org/bokeh/release/bokeh-widgets-0.12.4.min.css\");\n",
       "      Bokeh.embed.inject_css(\"https://cdn.pydata.org/bokeh/release/bokeh-widgets-0.12.4.min.css\");\n",
       "    }\n",
       "  ];\n",
       "\n",
       "  function run_inline_js() {\n",
       "    \n",
       "    if ((window.Bokeh !== undefined) || (force === true)) {\n",
       "      for (var i = 0; i < inline_js.length; i++) {\n",
       "        inline_js[i](window.Bokeh);\n",
       "      }if (force === true) {\n",
       "        display_loaded();\n",
       "      }} else if (Date.now() < window._bokeh_timeout) {\n",
       "      setTimeout(run_inline_js, 100);\n",
       "    } else if (!window._bokeh_failed_load) {\n",
       "      console.log(\"Bokeh: BokehJS failed to load within specified timeout.\");\n",
       "      window._bokeh_failed_load = true;\n",
       "    } else if (force !== true) {\n",
       "      var cell = $(document.getElementById(\"3582e44e-6c23-491f-9b11-bee2b7b1c82b\")).parents('.cell').data().cell;\n",
       "      cell.output_area.append_execute_result(NB_LOAD_WARNING)\n",
       "    }\n",
       "\n",
       "  }\n",
       "\n",
       "  if (window._bokeh_is_loading === 0) {\n",
       "    console.log(\"Bokeh: BokehJS loaded, going straight to plotting\");\n",
       "    run_inline_js();\n",
       "  } else {\n",
       "    load_libs(js_urls, function() {\n",
       "      console.log(\"Bokeh: BokehJS plotting callback run at\", now());\n",
       "      run_inline_js();\n",
       "    });\n",
       "  }\n",
       "}(this));"
      ]
     },
     "metadata": {},
     "output_type": "display_data"
    }
   ],
   "source": [
    "output_notebook()"
   ]
  },
  {
   "cell_type": "markdown",
   "metadata": {},
   "source": [
    "# Overview\n",
    "\n",
    "Sometimes we want to add visual cues (boundary lines, shaded regions, labels and arrows, etc.) to our plots to call out some feature or other. Bokeh has several annotation types available for uses like this. Typically to add annotations we create the \"low level\" annotation object directly, and add it to our `Plot`, `Figure` or `Chart` using `add_layout`. Let's take a look at some specific examples."
   ]
  },
  {
   "cell_type": "markdown",
   "metadata": {
    "collapsed": true
   },
   "source": [
    "## Spans\n",
    "\n",
    "`Spans` are \"infinite\" vertical or horizonal lines. When creating them, you specify the `dimension` that should be spanned (i.e., `width` or `height`), any visual line properties for the appearance, and the location along the dimension where the line should be drawn. Let's look at an example that adds two horizontal spans to a simple plot:"
   ]
  },
  {
   "cell_type": "code",
   "execution_count": 3,
   "metadata": {
    "collapsed": true
   },
   "outputs": [],
   "source": [
    "import numpy as np\n",
    "from bokeh.models.annotations import Span"
   ]
  },
  {
   "cell_type": "code",
   "execution_count": 4,
   "metadata": {
    "collapsed": true
   },
   "outputs": [],
   "source": [
    "x = np.linspace(0, 20, 200)\n",
    "y = np.sin(x)"
   ]
  },
  {
   "cell_type": "code",
   "execution_count": 9,
   "metadata": {
    "collapsed": false
   },
   "outputs": [
    {
     "data": {
      "text/html": [
       "<div style=\"display: table;\"><div style=\"display: table-row;\"><div style=\"display: table-cell;\"><b title=\"bokeh.models.renderers.GlyphRenderer\">GlyphRenderer</b>(</div><div style=\"display: table-cell;\">id&nbsp;=&nbsp;'607cd157-75d8-4f6d-af06-8524346fa648', <span id=\"8b863d1b-1462-4cc2-b08a-b4dd66e2eec8\" style=\"cursor: pointer;\">&hellip;)</span></div></div><div class=\"2ebac40e-9bc5-4c3b-9979-28c4297f1365\" style=\"display: none;\"><div style=\"display: table-cell;\"></div><div style=\"display: table-cell;\">data_source&nbsp;=&nbsp;ColumnDataSource(id='47a5ba29-c37d-4081-b1f8-e0ed26373b2e', ...),</div></div><div class=\"2ebac40e-9bc5-4c3b-9979-28c4297f1365\" style=\"display: none;\"><div style=\"display: table-cell;\"></div><div style=\"display: table-cell;\">glyph&nbsp;=&nbsp;Line(id='b65573b8-0106-469b-8ea3-9b1f42af19be', ...),</div></div><div class=\"2ebac40e-9bc5-4c3b-9979-28c4297f1365\" style=\"display: none;\"><div style=\"display: table-cell;\"></div><div style=\"display: table-cell;\">hover_glyph&nbsp;=&nbsp;None,</div></div><div class=\"2ebac40e-9bc5-4c3b-9979-28c4297f1365\" style=\"display: none;\"><div style=\"display: table-cell;\"></div><div style=\"display: table-cell;\">js_callbacks&nbsp;=&nbsp;{},</div></div><div class=\"2ebac40e-9bc5-4c3b-9979-28c4297f1365\" style=\"display: none;\"><div style=\"display: table-cell;\"></div><div style=\"display: table-cell;\">level&nbsp;=&nbsp;'glyph',</div></div><div class=\"2ebac40e-9bc5-4c3b-9979-28c4297f1365\" style=\"display: none;\"><div style=\"display: table-cell;\"></div><div style=\"display: table-cell;\">name&nbsp;=&nbsp;None,</div></div><div class=\"2ebac40e-9bc5-4c3b-9979-28c4297f1365\" style=\"display: none;\"><div style=\"display: table-cell;\"></div><div style=\"display: table-cell;\">nonselection_glyph&nbsp;=&nbsp;Line(id='55168a2f-657f-415c-95d8-79c14c98b244', ...),</div></div><div class=\"2ebac40e-9bc5-4c3b-9979-28c4297f1365\" style=\"display: none;\"><div style=\"display: table-cell;\"></div><div style=\"display: table-cell;\">selection_glyph&nbsp;=&nbsp;None,</div></div><div class=\"2ebac40e-9bc5-4c3b-9979-28c4297f1365\" style=\"display: none;\"><div style=\"display: table-cell;\"></div><div style=\"display: table-cell;\">tags&nbsp;=&nbsp;[],</div></div><div class=\"2ebac40e-9bc5-4c3b-9979-28c4297f1365\" style=\"display: none;\"><div style=\"display: table-cell;\"></div><div style=\"display: table-cell;\">visible&nbsp;=&nbsp;True,</div></div><div class=\"2ebac40e-9bc5-4c3b-9979-28c4297f1365\" style=\"display: none;\"><div style=\"display: table-cell;\"></div><div style=\"display: table-cell;\">x_range_name&nbsp;=&nbsp;'default',</div></div><div class=\"2ebac40e-9bc5-4c3b-9979-28c4297f1365\" style=\"display: none;\"><div style=\"display: table-cell;\"></div><div style=\"display: table-cell;\">y_range_name&nbsp;=&nbsp;'default')</div></div></div>\n",
       "<script>\n",
       "(function() {\n",
       "  var expanded = false;\n",
       "  var ellipsis = document.getElementById(\"8b863d1b-1462-4cc2-b08a-b4dd66e2eec8\");\n",
       "  ellipsis.addEventListener(\"click\", function() {\n",
       "    var rows = document.getElementsByClassName(\"2ebac40e-9bc5-4c3b-9979-28c4297f1365\");\n",
       "    for (var i = 0; i < rows.length; i++) {\n",
       "      var el = rows[i];\n",
       "      el.style.display = expanded ? \"none\" : \"table-row\";\n",
       "    }\n",
       "    ellipsis.innerHTML = expanded ? \"&hellip;)\" : \"&lsaquo;&lsaquo;&lsaquo;\";\n",
       "    expanded = !expanded;\n",
       "  });\n",
       "})();\n",
       "</script>\n"
      ],
      "text/plain": [
       "GlyphRenderer(id='607cd157-75d8-4f6d-af06-8524346fa648', ...)"
      ]
     },
     "execution_count": 9,
     "metadata": {},
     "output_type": "execute_result"
    }
   ],
   "source": [
    "p = figure(y_range=(-2, 2), width=600, height=300)\n",
    "p.line(x, y)"
   ]
  },
  {
   "cell_type": "code",
   "execution_count": 10,
   "metadata": {
    "collapsed": true
   },
   "outputs": [],
   "source": [
    "upper = Span(location=1, dimension='width', \n",
    "             line_color='olive', line_width=4)\n",
    "p.add_layout(upper)"
   ]
  },
  {
   "cell_type": "code",
   "execution_count": 11,
   "metadata": {
    "collapsed": true
   },
   "outputs": [],
   "source": [
    "lower = Span(location=-1, dimension='width', \n",
    "             line_color='firebrick', line_width=4)\n",
    "p.add_layout(lower)"
   ]
  },
  {
   "cell_type": "code",
   "execution_count": 12,
   "metadata": {
    "collapsed": false
   },
   "outputs": [
    {
     "data": {
      "text/html": [
       "\n",
       "\n",
       "    <div class=\"bk-root\">\n",
       "        <div class=\"bk-plotdiv\" id=\"a09bb648-f680-4ec8-a7d4-0cec05599cd2\"></div>\n",
       "    </div>\n",
       "<script type=\"text/javascript\">\n",
       "  \n",
       "  (function(global) {\n",
       "    function now() {\n",
       "      return new Date();\n",
       "    }\n",
       "  \n",
       "    var force = false;\n",
       "  \n",
       "    if (typeof (window._bokeh_onload_callbacks) === \"undefined\" || force === true) {\n",
       "      window._bokeh_onload_callbacks = [];\n",
       "      window._bokeh_is_loading = undefined;\n",
       "    }\n",
       "  \n",
       "  \n",
       "    \n",
       "    if (typeof (window._bokeh_timeout) === \"undefined\" || force === true) {\n",
       "      window._bokeh_timeout = Date.now() + 0;\n",
       "      window._bokeh_failed_load = false;\n",
       "    }\n",
       "  \n",
       "    var NB_LOAD_WARNING = {'data': {'text/html':\n",
       "       \"<div style='background-color: #fdd'>\\n\"+\n",
       "       \"<p>\\n\"+\n",
       "       \"BokehJS does not appear to have successfully loaded. If loading BokehJS from CDN, this \\n\"+\n",
       "       \"may be due to a slow or bad network connection. Possible fixes:\\n\"+\n",
       "       \"</p>\\n\"+\n",
       "       \"<ul>\\n\"+\n",
       "       \"<li>re-rerun `output_notebook()` to attempt to load from CDN again, or</li>\\n\"+\n",
       "       \"<li>use INLINE resources instead, as so:</li>\\n\"+\n",
       "       \"</ul>\\n\"+\n",
       "       \"<code>\\n\"+\n",
       "       \"from bokeh.resources import INLINE\\n\"+\n",
       "       \"output_notebook(resources=INLINE)\\n\"+\n",
       "       \"</code>\\n\"+\n",
       "       \"</div>\"}};\n",
       "  \n",
       "    function display_loaded() {\n",
       "      if (window.Bokeh !== undefined) {\n",
       "        document.getElementById(\"a09bb648-f680-4ec8-a7d4-0cec05599cd2\").textContent = \"BokehJS successfully loaded.\";\n",
       "      } else if (Date.now() < window._bokeh_timeout) {\n",
       "        setTimeout(display_loaded, 100)\n",
       "      }\n",
       "    }\n",
       "  \n",
       "    function run_callbacks() {\n",
       "      window._bokeh_onload_callbacks.forEach(function(callback) { callback() });\n",
       "      delete window._bokeh_onload_callbacks\n",
       "      console.info(\"Bokeh: all callbacks have finished\");\n",
       "    }\n",
       "  \n",
       "    function load_libs(js_urls, callback) {\n",
       "      window._bokeh_onload_callbacks.push(callback);\n",
       "      if (window._bokeh_is_loading > 0) {\n",
       "        console.log(\"Bokeh: BokehJS is being loaded, scheduling callback at\", now());\n",
       "        return null;\n",
       "      }\n",
       "      if (js_urls == null || js_urls.length === 0) {\n",
       "        run_callbacks();\n",
       "        return null;\n",
       "      }\n",
       "      console.log(\"Bokeh: BokehJS not loaded, scheduling load and callback at\", now());\n",
       "      window._bokeh_is_loading = js_urls.length;\n",
       "      for (var i = 0; i < js_urls.length; i++) {\n",
       "        var url = js_urls[i];\n",
       "        var s = document.createElement('script');\n",
       "        s.src = url;\n",
       "        s.async = false;\n",
       "        s.onreadystatechange = s.onload = function() {\n",
       "          window._bokeh_is_loading--;\n",
       "          if (window._bokeh_is_loading === 0) {\n",
       "            console.log(\"Bokeh: all BokehJS libraries loaded\");\n",
       "            run_callbacks()\n",
       "          }\n",
       "        };\n",
       "        s.onerror = function() {\n",
       "          console.warn(\"failed to load library \" + url);\n",
       "        };\n",
       "        console.log(\"Bokeh: injecting script tag for BokehJS library: \", url);\n",
       "        document.getElementsByTagName(\"head\")[0].appendChild(s);\n",
       "      }\n",
       "    };var element = document.getElementById(\"a09bb648-f680-4ec8-a7d4-0cec05599cd2\");\n",
       "    if (element == null) {\n",
       "      console.log(\"Bokeh: ERROR: autoload.js configured with elementid 'a09bb648-f680-4ec8-a7d4-0cec05599cd2' but no matching script tag was found. \")\n",
       "      return false;\n",
       "    }\n",
       "  \n",
       "    var js_urls = [];\n",
       "  \n",
       "    var inline_js = [\n",
       "      function(Bokeh) {\n",
       "        (function() {\n",
       "          var fn = function() {\n",
       "            var docs_json = {\"2502aab2-ab57-4524-bcf9-ea70f0f271ea\":{\"roots\":{\"references\":[{\"attributes\":{\"callback\":null,\"end\":2,\"start\":-2},\"id\":\"a77b1ade-3af4-4a95-ba31-657ec90aed76\",\"type\":\"Range1d\"},{\"attributes\":{\"line_alpha\":{\"value\":0.1},\"line_color\":{\"value\":\"#1f77b4\"},\"x\":{\"field\":\"x\"},\"y\":{\"field\":\"y\"}},\"id\":\"55168a2f-657f-415c-95d8-79c14c98b244\",\"type\":\"Line\"},{\"attributes\":{\"dimension\":1,\"plot\":{\"id\":\"b787a545-cf9e-44b8-957d-aff01d1d2612\",\"subtype\":\"Figure\",\"type\":\"Plot\"},\"ticker\":{\"id\":\"73f8fef7-3856-4731-94ca-505e84aeb5e0\",\"type\":\"BasicTicker\"}},\"id\":\"613568e1-3e30-4083-ab06-c6ebeb9d954e\",\"type\":\"Grid\"},{\"attributes\":{\"plot\":{\"id\":\"b787a545-cf9e-44b8-957d-aff01d1d2612\",\"subtype\":\"Figure\",\"type\":\"Plot\"}},\"id\":\"7a8d050d-1f6a-47af-b5c6-2e2adca5c8da\",\"type\":\"PanTool\"},{\"attributes\":{\"bottom_units\":\"screen\",\"fill_alpha\":{\"value\":0.5},\"fill_color\":{\"value\":\"lightgrey\"},\"left_units\":\"screen\",\"level\":\"overlay\",\"line_alpha\":{\"value\":1.0},\"line_color\":{\"value\":\"black\"},\"line_dash\":[4,4],\"line_width\":{\"value\":2},\"plot\":null,\"render_mode\":\"css\",\"right_units\":\"screen\",\"top_units\":\"screen\"},\"id\":\"b5737089-5533-4c77-afac-92064803184c\",\"type\":\"BoxAnnotation\"},{\"attributes\":{\"plot\":{\"id\":\"b787a545-cf9e-44b8-957d-aff01d1d2612\",\"subtype\":\"Figure\",\"type\":\"Plot\"}},\"id\":\"3cedc0c2-c764-434a-9e6f-1bd0bf691ae3\",\"type\":\"SaveTool\"},{\"attributes\":{\"overlay\":{\"id\":\"b5737089-5533-4c77-afac-92064803184c\",\"type\":\"BoxAnnotation\"},\"plot\":{\"id\":\"b787a545-cf9e-44b8-957d-aff01d1d2612\",\"subtype\":\"Figure\",\"type\":\"Plot\"}},\"id\":\"26ee160f-1ad5-4f9e-a033-0f35993260c4\",\"type\":\"BoxZoomTool\"},{\"attributes\":{\"plot\":{\"id\":\"b787a545-cf9e-44b8-957d-aff01d1d2612\",\"subtype\":\"Figure\",\"type\":\"Plot\"}},\"id\":\"e59a0912-2fc8-472e-8810-3cdbffc1e4c3\",\"type\":\"WheelZoomTool\"},{\"attributes\":{\"plot\":null,\"text\":\"\"},\"id\":\"be110c86-e866-4354-ae0d-c05a92f4d191\",\"type\":\"Title\"},{\"attributes\":{},\"id\":\"4831768a-01c0-414b-a521-33698e43a7fe\",\"type\":\"BasicTickFormatter\"},{\"attributes\":{},\"id\":\"7af1c540-98ce-436d-acf0-9a40d83c98b9\",\"type\":\"ToolEvents\"},{\"attributes\":{\"line_color\":{\"value\":\"olive\"},\"line_width\":{\"value\":4},\"location\":1,\"plot\":{\"id\":\"b787a545-cf9e-44b8-957d-aff01d1d2612\",\"subtype\":\"Figure\",\"type\":\"Plot\"}},\"id\":\"a6ecf4bd-1878-4344-a7a0-c7872743aaa2\",\"type\":\"Span\"},{\"attributes\":{\"callback\":null},\"id\":\"313dd13e-263c-4e04-b347-e4042e6ec54b\",\"type\":\"DataRange1d\"},{\"attributes\":{\"plot\":{\"id\":\"b787a545-cf9e-44b8-957d-aff01d1d2612\",\"subtype\":\"Figure\",\"type\":\"Plot\"}},\"id\":\"6a96e937-64f8-4e50-ac53-db9c95a6d91e\",\"type\":\"HelpTool\"},{\"attributes\":{\"plot\":{\"id\":\"b787a545-cf9e-44b8-957d-aff01d1d2612\",\"subtype\":\"Figure\",\"type\":\"Plot\"}},\"id\":\"88183079-35f8-4471-b607-7b628c087974\",\"type\":\"ResetTool\"},{\"attributes\":{\"line_color\":{\"value\":\"firebrick\"},\"line_width\":{\"value\":4},\"location\":-1,\"plot\":{\"id\":\"b787a545-cf9e-44b8-957d-aff01d1d2612\",\"subtype\":\"Figure\",\"type\":\"Plot\"}},\"id\":\"0f15ccb9-9099-4fb7-982a-16de0c2719e0\",\"type\":\"Span\"},{\"attributes\":{\"data_source\":{\"id\":\"47a5ba29-c37d-4081-b1f8-e0ed26373b2e\",\"type\":\"ColumnDataSource\"},\"glyph\":{\"id\":\"b65573b8-0106-469b-8ea3-9b1f42af19be\",\"type\":\"Line\"},\"hover_glyph\":null,\"nonselection_glyph\":{\"id\":\"55168a2f-657f-415c-95d8-79c14c98b244\",\"type\":\"Line\"},\"selection_glyph\":null},\"id\":\"607cd157-75d8-4f6d-af06-8524346fa648\",\"type\":\"GlyphRenderer\"},{\"attributes\":{\"active_drag\":\"auto\",\"active_scroll\":\"auto\",\"active_tap\":\"auto\",\"tools\":[{\"id\":\"7a8d050d-1f6a-47af-b5c6-2e2adca5c8da\",\"type\":\"PanTool\"},{\"id\":\"e59a0912-2fc8-472e-8810-3cdbffc1e4c3\",\"type\":\"WheelZoomTool\"},{\"id\":\"26ee160f-1ad5-4f9e-a033-0f35993260c4\",\"type\":\"BoxZoomTool\"},{\"id\":\"3cedc0c2-c764-434a-9e6f-1bd0bf691ae3\",\"type\":\"SaveTool\"},{\"id\":\"88183079-35f8-4471-b607-7b628c087974\",\"type\":\"ResetTool\"},{\"id\":\"6a96e937-64f8-4e50-ac53-db9c95a6d91e\",\"type\":\"HelpTool\"}]},\"id\":\"defb8ff1-80a1-4475-90f0-335947f0ae04\",\"type\":\"Toolbar\"},{\"attributes\":{},\"id\":\"73f8fef7-3856-4731-94ca-505e84aeb5e0\",\"type\":\"BasicTicker\"},{\"attributes\":{},\"id\":\"d53e8e2b-bdc9-4cad-abf5-353f3b97769a\",\"type\":\"BasicTicker\"},{\"attributes\":{\"formatter\":{\"id\":\"4831768a-01c0-414b-a521-33698e43a7fe\",\"type\":\"BasicTickFormatter\"},\"plot\":{\"id\":\"b787a545-cf9e-44b8-957d-aff01d1d2612\",\"subtype\":\"Figure\",\"type\":\"Plot\"},\"ticker\":{\"id\":\"d53e8e2b-bdc9-4cad-abf5-353f3b97769a\",\"type\":\"BasicTicker\"}},\"id\":\"93bc39d7-a910-44dc-9653-4e0018e73499\",\"type\":\"LinearAxis\"},{\"attributes\":{\"formatter\":{\"id\":\"f1491e20-4bd4-49a3-919a-5b3663f40513\",\"type\":\"BasicTickFormatter\"},\"plot\":{\"id\":\"b787a545-cf9e-44b8-957d-aff01d1d2612\",\"subtype\":\"Figure\",\"type\":\"Plot\"},\"ticker\":{\"id\":\"73f8fef7-3856-4731-94ca-505e84aeb5e0\",\"type\":\"BasicTicker\"}},\"id\":\"d60a6472-c7dd-4d5c-a880-875bb90e6f0b\",\"type\":\"LinearAxis\"},{\"attributes\":{\"line_color\":{\"value\":\"#1f77b4\"},\"x\":{\"field\":\"x\"},\"y\":{\"field\":\"y\"}},\"id\":\"b65573b8-0106-469b-8ea3-9b1f42af19be\",\"type\":\"Line\"},{\"attributes\":{\"below\":[{\"id\":\"93bc39d7-a910-44dc-9653-4e0018e73499\",\"type\":\"LinearAxis\"}],\"left\":[{\"id\":\"d60a6472-c7dd-4d5c-a880-875bb90e6f0b\",\"type\":\"LinearAxis\"}],\"plot_height\":300,\"renderers\":[{\"id\":\"93bc39d7-a910-44dc-9653-4e0018e73499\",\"type\":\"LinearAxis\"},{\"id\":\"9bd08a06-67fe-4d10-868a-d358bb1c8259\",\"type\":\"Grid\"},{\"id\":\"d60a6472-c7dd-4d5c-a880-875bb90e6f0b\",\"type\":\"LinearAxis\"},{\"id\":\"613568e1-3e30-4083-ab06-c6ebeb9d954e\",\"type\":\"Grid\"},{\"id\":\"b5737089-5533-4c77-afac-92064803184c\",\"type\":\"BoxAnnotation\"},{\"id\":\"607cd157-75d8-4f6d-af06-8524346fa648\",\"type\":\"GlyphRenderer\"},{\"id\":\"a6ecf4bd-1878-4344-a7a0-c7872743aaa2\",\"type\":\"Span\"},{\"id\":\"0f15ccb9-9099-4fb7-982a-16de0c2719e0\",\"type\":\"Span\"}],\"title\":{\"id\":\"be110c86-e866-4354-ae0d-c05a92f4d191\",\"type\":\"Title\"},\"tool_events\":{\"id\":\"7af1c540-98ce-436d-acf0-9a40d83c98b9\",\"type\":\"ToolEvents\"},\"toolbar\":{\"id\":\"defb8ff1-80a1-4475-90f0-335947f0ae04\",\"type\":\"Toolbar\"},\"x_range\":{\"id\":\"313dd13e-263c-4e04-b347-e4042e6ec54b\",\"type\":\"DataRange1d\"},\"y_range\":{\"id\":\"a77b1ade-3af4-4a95-ba31-657ec90aed76\",\"type\":\"Range1d\"}},\"id\":\"b787a545-cf9e-44b8-957d-aff01d1d2612\",\"subtype\":\"Figure\",\"type\":\"Plot\"},{\"attributes\":{\"plot\":{\"id\":\"b787a545-cf9e-44b8-957d-aff01d1d2612\",\"subtype\":\"Figure\",\"type\":\"Plot\"},\"ticker\":{\"id\":\"d53e8e2b-bdc9-4cad-abf5-353f3b97769a\",\"type\":\"BasicTicker\"}},\"id\":\"9bd08a06-67fe-4d10-868a-d358bb1c8259\",\"type\":\"Grid\"},{\"attributes\":{\"callback\":null,\"column_names\":[\"x\",\"y\"],\"data\":{\"x\":{\"__ndarray__\":\"AAAAAAAAAACBhJ9ciLq5P4GEn1yIusk/YaN3ReZL0z+BhJ9ciLrZP9Gy4zmVFOA/YaN3ReZL4z/xkwtRN4PmP4GEn1yIuuk/EXUzaNnx7D/RsuM5lRTwPxmrrb89sPE/YaN3ReZL8z+pm0HLjuf0P/GTC1E3g/Y/OYzV1t8e+D+BhJ9ciLr5P8l8aeIwVvs/EXUzaNnx/D9Zbf3tgY3+P9Gy4zmVFABA9a7IfGniAEAZq62/PbABQD2nkgISfgJAYaN3ReZLA0CFn1yIuhkEQKmbQcuO5wRAzZcmDmO1BUDxkwtRN4MGQBWQ8JMLUQdAOYzV1t8eCEBdiLoZtOwIQIGEn1yIuglApYCEn1yICkDJfGniMFYLQO14TiUFJAxAEXUzaNnxDEA1cRirrb8NQFlt/e2BjQ5AfWniMFZbD0DRsuM5lRQQQOMwVlt/exBA9a7IfGniEEAHLTueU0kRQBmrrb89sBFAKykg4ScXEkA9p5ICEn4SQE8lBST85BJAYaN3ReZLE0BzIepm0LITQIWfXIi6GRRAlx3PqaSAFECpm0HLjucUQLsZtOx4ThVAzZcmDmO1FUDfFZkvTRwWQPGTC1E3gxZAAxJ+ciHqFkAVkPCTC1EXQCcOY7X1txdAOYzV1t8eGEBLCkj4yYUYQF2Iuhm07BhAbwYtO55TGUCBhJ9ciLoZQJMCEn5yIRpApYCEn1yIGkC3/vbARu8aQMl8aeIwVhtA2/rbAxu9G0DteE4lBSQcQP/2wEbvihxAEXUzaNnxHEAj86WJw1gdQDVxGKutvx1AR++KzJcmHkBZbf3tgY0eQGvrbw9s9B5AfWniMFZbH0CP51RSQMIfQNGy4zmVFCBA2vGcSgpIIEDjMFZbf3sgQOxvD2z0riBA9a7IfGniIED+7YGN3hUhQActO55TSSFAEGz0rsh8IUAZq62/PbAhQCLqZtCy4yFAKykg4ScXIkA0aNnxnEoiQD2nkgISfiJARuZLE4exIkBPJQUk/OQiQFhkvjRxGCNAYaN3ReZLI0Bq4jBWW38jQHMh6mbQsiNAfGCjd0XmI0CFn1yIuhkkQI7eFZkvTSRAlx3PqaSAJECgXIi6GbQkQKmbQcuO5yRAstr62wMbJUC7GbTseE4lQMRYbf3tgSVAzZcmDmO1JUDW1t8e2OglQN8VmS9NHCZA6FRSQMJPJkDxkwtRN4MmQPrSxGGstiZAAxJ+ciHqJkAMUTeDlh0nQBWQ8JMLUSdAHs+ppICEJ0AnDmO19bcnQDBNHMZq6ydAOYzV1t8eKEBCy47nVFIoQEsKSPjJhShAVEkBCT+5KEBdiLoZtOwoQGbHcyopIClAbwYtO55TKUB4ReZLE4cpQIGEn1yIuilAisNYbf3tKUCTAhJ+ciEqQJxBy47nVCpApYCEn1yIKkCuvz2w0bsqQLf+9sBG7ypAwD2w0bsiK0DJfGniMFYrQNK7IvOliStA2/rbAxu9K0DkOZUUkPArQO14TiUFJCxA9rcHNnpXLED/9sBG74osQAg2eldkvixAEXUzaNnxLEAatOx4TiUtQCPzpYnDWC1ALDJfmjiMLUA1cRirrb8tQD6w0bsi8y1AR++KzJcmLkBQLkTdDFouQFlt/e2BjS5AYqy2/vbALkBr628PbPQuQHQqKSDhJy9AfWniMFZbL0CGqJtBy44vQI/nVFJAwi9AmCYOY7X1L0DRsuM5lRQwQFVSQMJPLjBA2vGcSgpIMEBekfnSxGEwQOMwVlt/ezBAZ9Cy4zmVMEDsbw9s9K4wQHAPbPSuyDBA9a7IfGniMEB5TiUFJPwwQP7tgY3eFTFAgo3eFZkvMUAHLTueU0kxQIvMlyYOYzFAEGz0rsh8MUCUC1E3g5YxQBmrrb89sDFAnUoKSPjJMUAi6mbQsuMxQKaJw1ht/TFAKykg4ScXMkCvyHxp4jAyQDRo2fGcSjJAuAc2eldkMkA9p5ICEn4yQMFG74rMlzJARuZLE4exMkDKhaibQcsyQE8lBST85DJA08RhrLb+MkBYZL40cRgzQNwDG70rMjNAYaN3ReZLM0DlQtTNoGUzQGriMFZbfzNA7oGN3hWZM0BzIepm0LIzQPfARu+KzDNAfGCjd0XmM0AAAAAAAAA0QA==\",\"dtype\":\"float64\",\"shape\":[200]},\"y\":{\"__ndarray__\":\"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\",\"dtype\":\"float64\",\"shape\":[200]}}},\"id\":\"47a5ba29-c37d-4081-b1f8-e0ed26373b2e\",\"type\":\"ColumnDataSource\"},{\"attributes\":{},\"id\":\"f1491e20-4bd4-49a3-919a-5b3663f40513\",\"type\":\"BasicTickFormatter\"}],\"root_ids\":[\"b787a545-cf9e-44b8-957d-aff01d1d2612\"]},\"title\":\"Bokeh Application\",\"version\":\"0.12.4\"}};\n",
       "            var render_items = [{\"docid\":\"2502aab2-ab57-4524-bcf9-ea70f0f271ea\",\"elementid\":\"a09bb648-f680-4ec8-a7d4-0cec05599cd2\",\"modelid\":\"b787a545-cf9e-44b8-957d-aff01d1d2612\"}];\n",
       "            \n",
       "            Bokeh.embed.embed_items(docs_json, render_items);\n",
       "          };\n",
       "          if (document.readyState != \"loading\") fn();\n",
       "          else document.addEventListener(\"DOMContentLoaded\", fn);\n",
       "        })();\n",
       "      },\n",
       "      function(Bokeh) {\n",
       "      }\n",
       "    ];\n",
       "  \n",
       "    function run_inline_js() {\n",
       "      \n",
       "      if ((window.Bokeh !== undefined) || (force === true)) {\n",
       "        for (var i = 0; i < inline_js.length; i++) {\n",
       "          inline_js[i](window.Bokeh);\n",
       "        }if (force === true) {\n",
       "          display_loaded();\n",
       "        }} else if (Date.now() < window._bokeh_timeout) {\n",
       "        setTimeout(run_inline_js, 100);\n",
       "      } else if (!window._bokeh_failed_load) {\n",
       "        console.log(\"Bokeh: BokehJS failed to load within specified timeout.\");\n",
       "        window._bokeh_failed_load = true;\n",
       "      } else if (force !== true) {\n",
       "        var cell = $(document.getElementById(\"a09bb648-f680-4ec8-a7d4-0cec05599cd2\")).parents('.cell').data().cell;\n",
       "        cell.output_area.append_execute_result(NB_LOAD_WARNING)\n",
       "      }\n",
       "  \n",
       "    }\n",
       "  \n",
       "    if (window._bokeh_is_loading === 0) {\n",
       "      console.log(\"Bokeh: BokehJS loaded, going straight to plotting\");\n",
       "      run_inline_js();\n",
       "    } else {\n",
       "      load_libs(js_urls, function() {\n",
       "        console.log(\"Bokeh: BokehJS plotting callback run at\", now());\n",
       "        run_inline_js();\n",
       "      });\n",
       "    }\n",
       "  }(this));\n",
       "</script>"
      ]
     },
     "metadata": {},
     "output_type": "display_data"
    }
   ],
   "source": [
    "show(p)"
   ]
  },
  {
   "cell_type": "markdown",
   "metadata": {
    "collapsed": true
   },
   "source": [
    "## Box Annotations\n",
    "\n",
    "Sometimes you might want to call out some region of the plot by drawing a shaded box. This can be done with the `BoxAnnotation`, which is configured with the coordinate properties:\n",
    "* `top`\n",
    "* `left`\n",
    "* `bottom`\n",
    "* `right`\n",
    "\n",
    "as well as any visual line or fill properties to control the appearance. \n",
    "\n",
    "\"Infinite\" boxes can be made by leaving any of the coordinates unspecified. E.g., if `top` is not given, the box will always extend to the top of the plot area, regardless of any panning or zooming that happens.\n",
    "\n",
    "Let's take a look at an example that adds a few shaded boxes to a plot:"
   ]
  },
  {
   "cell_type": "code",
   "execution_count": 13,
   "metadata": {
    "collapsed": true
   },
   "outputs": [],
   "source": [
    "import numpy as np\n",
    "from bokeh.models.annotations import BoxAnnotation"
   ]
  },
  {
   "cell_type": "code",
   "execution_count": 14,
   "metadata": {
    "collapsed": true
   },
   "outputs": [],
   "source": [
    "x = np.linspace(0, 20, 200)\n",
    "y = np.sin(x)"
   ]
  },
  {
   "cell_type": "code",
   "execution_count": 18,
   "metadata": {
    "collapsed": false
   },
   "outputs": [
    {
     "data": {
      "text/html": [
       "<div style=\"display: table;\"><div style=\"display: table-row;\"><div style=\"display: table-cell;\"><b title=\"bokeh.models.renderers.GlyphRenderer\">GlyphRenderer</b>(</div><div style=\"display: table-cell;\">id&nbsp;=&nbsp;'d710c564-f709-4f79-9d9a-446941e70d17', <span id=\"ca0a776d-3190-42f3-95cf-a7b46e833f9c\" style=\"cursor: pointer;\">&hellip;)</span></div></div><div class=\"d193e6d5-cbf1-486d-8170-7d17833530df\" style=\"display: none;\"><div style=\"display: table-cell;\"></div><div style=\"display: table-cell;\">data_source&nbsp;=&nbsp;ColumnDataSource(id='02657de2-33ac-4883-9ab4-be4703a02ce4', ...),</div></div><div class=\"d193e6d5-cbf1-486d-8170-7d17833530df\" style=\"display: none;\"><div style=\"display: table-cell;\"></div><div style=\"display: table-cell;\">glyph&nbsp;=&nbsp;Line(id='2da8e7fb-d525-4cec-ae06-71cfaba9f731', ...),</div></div><div class=\"d193e6d5-cbf1-486d-8170-7d17833530df\" style=\"display: none;\"><div style=\"display: table-cell;\"></div><div style=\"display: table-cell;\">hover_glyph&nbsp;=&nbsp;None,</div></div><div class=\"d193e6d5-cbf1-486d-8170-7d17833530df\" style=\"display: none;\"><div style=\"display: table-cell;\"></div><div style=\"display: table-cell;\">js_callbacks&nbsp;=&nbsp;{},</div></div><div class=\"d193e6d5-cbf1-486d-8170-7d17833530df\" style=\"display: none;\"><div style=\"display: table-cell;\"></div><div style=\"display: table-cell;\">level&nbsp;=&nbsp;'glyph',</div></div><div class=\"d193e6d5-cbf1-486d-8170-7d17833530df\" style=\"display: none;\"><div style=\"display: table-cell;\"></div><div style=\"display: table-cell;\">name&nbsp;=&nbsp;None,</div></div><div class=\"d193e6d5-cbf1-486d-8170-7d17833530df\" style=\"display: none;\"><div style=\"display: table-cell;\"></div><div style=\"display: table-cell;\">nonselection_glyph&nbsp;=&nbsp;Line(id='70637cc9-d77f-4b94-babc-5cc49c67ca58', ...),</div></div><div class=\"d193e6d5-cbf1-486d-8170-7d17833530df\" style=\"display: none;\"><div style=\"display: table-cell;\"></div><div style=\"display: table-cell;\">selection_glyph&nbsp;=&nbsp;None,</div></div><div class=\"d193e6d5-cbf1-486d-8170-7d17833530df\" style=\"display: none;\"><div style=\"display: table-cell;\"></div><div style=\"display: table-cell;\">tags&nbsp;=&nbsp;[],</div></div><div class=\"d193e6d5-cbf1-486d-8170-7d17833530df\" style=\"display: none;\"><div style=\"display: table-cell;\"></div><div style=\"display: table-cell;\">visible&nbsp;=&nbsp;True,</div></div><div class=\"d193e6d5-cbf1-486d-8170-7d17833530df\" style=\"display: none;\"><div style=\"display: table-cell;\"></div><div style=\"display: table-cell;\">x_range_name&nbsp;=&nbsp;'default',</div></div><div class=\"d193e6d5-cbf1-486d-8170-7d17833530df\" style=\"display: none;\"><div style=\"display: table-cell;\"></div><div style=\"display: table-cell;\">y_range_name&nbsp;=&nbsp;'default')</div></div></div>\n",
       "<script>\n",
       "(function() {\n",
       "  var expanded = false;\n",
       "  var ellipsis = document.getElementById(\"ca0a776d-3190-42f3-95cf-a7b46e833f9c\");\n",
       "  ellipsis.addEventListener(\"click\", function() {\n",
       "    var rows = document.getElementsByClassName(\"d193e6d5-cbf1-486d-8170-7d17833530df\");\n",
       "    for (var i = 0; i < rows.length; i++) {\n",
       "      var el = rows[i];\n",
       "      el.style.display = expanded ? \"none\" : \"table-row\";\n",
       "    }\n",
       "    ellipsis.innerHTML = expanded ? \"&hellip;)\" : \"&lsaquo;&lsaquo;&lsaquo;\";\n",
       "    expanded = !expanded;\n",
       "  });\n",
       "})();\n",
       "</script>\n"
      ],
      "text/plain": [
       "GlyphRenderer(id='d710c564-f709-4f79-9d9a-446941e70d17', ...)"
      ]
     },
     "execution_count": 18,
     "metadata": {},
     "output_type": "execute_result"
    }
   ],
   "source": [
    "p = figure(y_range=(-2, 2), height=300, width=600)\n",
    "p.line(x, y)"
   ]
  },
  {
   "cell_type": "code",
   "execution_count": 19,
   "metadata": {
    "collapsed": true
   },
   "outputs": [],
   "source": [
    "# region that always fills the top of the plot\n",
    "upper = BoxAnnotation(bottom=1, fill_alpha=0.1, fill_color='olive')\n",
    "p.add_layout(upper)"
   ]
  },
  {
   "cell_type": "code",
   "execution_count": 20,
   "metadata": {
    "collapsed": true
   },
   "outputs": [],
   "source": [
    "# region that always fills the bottom of the plot\n",
    "lower = BoxAnnotation(top=-1, fill_alpha=0.1, fill_color='firebrick')\n",
    "p.add_layout(lower)"
   ]
  },
  {
   "cell_type": "code",
   "execution_count": 21,
   "metadata": {
    "collapsed": true
   },
   "outputs": [],
   "source": [
    "# a finite region\n",
    "center = BoxAnnotation(top=0.6, bottom=-0.3, left=7, right=12, fill_alpha=0.1, fill_color='navy')\n",
    "p.add_layout(center)"
   ]
  },
  {
   "cell_type": "code",
   "execution_count": 22,
   "metadata": {
    "collapsed": false,
    "scrolled": false
   },
   "outputs": [
    {
     "data": {
      "text/html": [
       "\n",
       "\n",
       "    <div class=\"bk-root\">\n",
       "        <div class=\"bk-plotdiv\" id=\"51457183-6651-4514-a8bf-50a2bdb11d64\"></div>\n",
       "    </div>\n",
       "<script type=\"text/javascript\">\n",
       "  \n",
       "  (function(global) {\n",
       "    function now() {\n",
       "      return new Date();\n",
       "    }\n",
       "  \n",
       "    var force = false;\n",
       "  \n",
       "    if (typeof (window._bokeh_onload_callbacks) === \"undefined\" || force === true) {\n",
       "      window._bokeh_onload_callbacks = [];\n",
       "      window._bokeh_is_loading = undefined;\n",
       "    }\n",
       "  \n",
       "  \n",
       "    \n",
       "    if (typeof (window._bokeh_timeout) === \"undefined\" || force === true) {\n",
       "      window._bokeh_timeout = Date.now() + 0;\n",
       "      window._bokeh_failed_load = false;\n",
       "    }\n",
       "  \n",
       "    var NB_LOAD_WARNING = {'data': {'text/html':\n",
       "       \"<div style='background-color: #fdd'>\\n\"+\n",
       "       \"<p>\\n\"+\n",
       "       \"BokehJS does not appear to have successfully loaded. If loading BokehJS from CDN, this \\n\"+\n",
       "       \"may be due to a slow or bad network connection. Possible fixes:\\n\"+\n",
       "       \"</p>\\n\"+\n",
       "       \"<ul>\\n\"+\n",
       "       \"<li>re-rerun `output_notebook()` to attempt to load from CDN again, or</li>\\n\"+\n",
       "       \"<li>use INLINE resources instead, as so:</li>\\n\"+\n",
       "       \"</ul>\\n\"+\n",
       "       \"<code>\\n\"+\n",
       "       \"from bokeh.resources import INLINE\\n\"+\n",
       "       \"output_notebook(resources=INLINE)\\n\"+\n",
       "       \"</code>\\n\"+\n",
       "       \"</div>\"}};\n",
       "  \n",
       "    function display_loaded() {\n",
       "      if (window.Bokeh !== undefined) {\n",
       "        document.getElementById(\"51457183-6651-4514-a8bf-50a2bdb11d64\").textContent = \"BokehJS successfully loaded.\";\n",
       "      } else if (Date.now() < window._bokeh_timeout) {\n",
       "        setTimeout(display_loaded, 100)\n",
       "      }\n",
       "    }\n",
       "  \n",
       "    function run_callbacks() {\n",
       "      window._bokeh_onload_callbacks.forEach(function(callback) { callback() });\n",
       "      delete window._bokeh_onload_callbacks\n",
       "      console.info(\"Bokeh: all callbacks have finished\");\n",
       "    }\n",
       "  \n",
       "    function load_libs(js_urls, callback) {\n",
       "      window._bokeh_onload_callbacks.push(callback);\n",
       "      if (window._bokeh_is_loading > 0) {\n",
       "        console.log(\"Bokeh: BokehJS is being loaded, scheduling callback at\", now());\n",
       "        return null;\n",
       "      }\n",
       "      if (js_urls == null || js_urls.length === 0) {\n",
       "        run_callbacks();\n",
       "        return null;\n",
       "      }\n",
       "      console.log(\"Bokeh: BokehJS not loaded, scheduling load and callback at\", now());\n",
       "      window._bokeh_is_loading = js_urls.length;\n",
       "      for (var i = 0; i < js_urls.length; i++) {\n",
       "        var url = js_urls[i];\n",
       "        var s = document.createElement('script');\n",
       "        s.src = url;\n",
       "        s.async = false;\n",
       "        s.onreadystatechange = s.onload = function() {\n",
       "          window._bokeh_is_loading--;\n",
       "          if (window._bokeh_is_loading === 0) {\n",
       "            console.log(\"Bokeh: all BokehJS libraries loaded\");\n",
       "            run_callbacks()\n",
       "          }\n",
       "        };\n",
       "        s.onerror = function() {\n",
       "          console.warn(\"failed to load library \" + url);\n",
       "        };\n",
       "        console.log(\"Bokeh: injecting script tag for BokehJS library: \", url);\n",
       "        document.getElementsByTagName(\"head\")[0].appendChild(s);\n",
       "      }\n",
       "    };var element = document.getElementById(\"51457183-6651-4514-a8bf-50a2bdb11d64\");\n",
       "    if (element == null) {\n",
       "      console.log(\"Bokeh: ERROR: autoload.js configured with elementid '51457183-6651-4514-a8bf-50a2bdb11d64' but no matching script tag was found. \")\n",
       "      return false;\n",
       "    }\n",
       "  \n",
       "    var js_urls = [];\n",
       "  \n",
       "    var inline_js = [\n",
       "      function(Bokeh) {\n",
       "        (function() {\n",
       "          var fn = function() {\n",
       "            var docs_json = {\"8509ed69-6b92-4b6b-a7f5-d801a7ebf29d\":{\"roots\":{\"references\":[{\"attributes\":{\"plot\":{\"id\":\"3f6ebd14-90d1-4d65-b528-a3cca373acc5\",\"subtype\":\"Figure\",\"type\":\"Plot\"}},\"id\":\"01060328-44f9-4608-8f8d-fb86906ef4b1\",\"type\":\"WheelZoomTool\"},{\"attributes\":{\"overlay\":{\"id\":\"e3edfda2-a052-432a-b4e5-05da721a8fba\",\"type\":\"BoxAnnotation\"},\"plot\":{\"id\":\"3f6ebd14-90d1-4d65-b528-a3cca373acc5\",\"subtype\":\"Figure\",\"type\":\"Plot\"}},\"id\":\"909349df-fd2b-4774-955b-4ec4671f3f2b\",\"type\":\"BoxZoomTool\"},{\"attributes\":{\"plot\":{\"id\":\"3f6ebd14-90d1-4d65-b528-a3cca373acc5\",\"subtype\":\"Figure\",\"type\":\"Plot\"}},\"id\":\"ce4ecaf8-d5fc-4516-ad09-261811bbc5f8\",\"type\":\"SaveTool\"},{\"attributes\":{\"plot\":{\"id\":\"3f6ebd14-90d1-4d65-b528-a3cca373acc5\",\"subtype\":\"Figure\",\"type\":\"Plot\"}},\"id\":\"6e3a210f-2aa9-4610-8291-52cef2a6fcb1\",\"type\":\"ResetTool\"},{\"attributes\":{\"plot\":{\"id\":\"3f6ebd14-90d1-4d65-b528-a3cca373acc5\",\"subtype\":\"Figure\",\"type\":\"Plot\"}},\"id\":\"190a851c-c3ac-4af1-829d-8053892ee28b\",\"type\":\"HelpTool\"},{\"attributes\":{},\"id\":\"daab47f7-46ed-42d9-a3ec-40e68d29b544\",\"type\":\"BasicTickFormatter\"},{\"attributes\":{\"plot\":{\"id\":\"3f6ebd14-90d1-4d65-b528-a3cca373acc5\",\"subtype\":\"Figure\",\"type\":\"Plot\"},\"ticker\":{\"id\":\"ec71f53f-8cc7-4614-8328-14fcd40144c6\",\"type\":\"BasicTicker\"}},\"id\":\"13ac5847-2a7a-45ae-8e8a-0db3f0012723\",\"type\":\"Grid\"},{\"attributes\":{\"callback\":null,\"column_names\":[\"x\",\"y\"],\"data\":{\"x\":{\"__ndarray__\":\"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\",\"dtype\":\"float64\",\"shape\":[200]},\"y\":{\"__ndarray__\":\"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\",\"dtype\":\"float64\",\"shape\":[200]}}},\"id\":\"02657de2-33ac-4883-9ab4-be4703a02ce4\",\"type\":\"ColumnDataSource\"},{\"attributes\":{\"bottom\":-0.3,\"fill_alpha\":{\"value\":0.1},\"fill_color\":{\"value\":\"navy\"},\"left\":7,\"plot\":{\"id\":\"3f6ebd14-90d1-4d65-b528-a3cca373acc5\",\"subtype\":\"Figure\",\"type\":\"Plot\"},\"right\":12,\"top\":0.6},\"id\":\"af3752f0-50d3-4a58-8480-1295f3468619\",\"type\":\"BoxAnnotation\"},{\"attributes\":{\"below\":[{\"id\":\"a10110bf-5434-4c5d-9dac-0aaa599e5e7d\",\"type\":\"LinearAxis\"}],\"left\":[{\"id\":\"be778adf-33a5-468e-a356-382d55b23870\",\"type\":\"LinearAxis\"}],\"plot_height\":300,\"renderers\":[{\"id\":\"a10110bf-5434-4c5d-9dac-0aaa599e5e7d\",\"type\":\"LinearAxis\"},{\"id\":\"13ac5847-2a7a-45ae-8e8a-0db3f0012723\",\"type\":\"Grid\"},{\"id\":\"be778adf-33a5-468e-a356-382d55b23870\",\"type\":\"LinearAxis\"},{\"id\":\"8eba6728-2b35-4bcb-8e27-ceeec3a1bb1a\",\"type\":\"Grid\"},{\"id\":\"e3edfda2-a052-432a-b4e5-05da721a8fba\",\"type\":\"BoxAnnotation\"},{\"id\":\"d710c564-f709-4f79-9d9a-446941e70d17\",\"type\":\"GlyphRenderer\"},{\"id\":\"e7815113-999d-4011-83f7-f26d6e9519cf\",\"type\":\"BoxAnnotation\"},{\"id\":\"f39f2674-49b4-4fa6-b99d-222aa925af88\",\"type\":\"BoxAnnotation\"},{\"id\":\"af3752f0-50d3-4a58-8480-1295f3468619\",\"type\":\"BoxAnnotation\"}],\"title\":{\"id\":\"b1f2da2c-d3e8-4551-b699-bf3e3e7d0c19\",\"type\":\"Title\"},\"tool_events\":{\"id\":\"fee9b868-9dbe-4078-b8ce-668ad6c3ddd1\",\"type\":\"ToolEvents\"},\"toolbar\":{\"id\":\"502ee4ce-8b6c-4263-aa36-7a71842b290f\",\"type\":\"Toolbar\"},\"x_range\":{\"id\":\"6f6d2a10-440f-4ff4-8fa3-e06cca58f981\",\"type\":\"DataRange1d\"},\"y_range\":{\"id\":\"738ec6c2-9337-4d06-9705-c14ba7e01bb4\",\"type\":\"Range1d\"}},\"id\":\"3f6ebd14-90d1-4d65-b528-a3cca373acc5\",\"subtype\":\"Figure\",\"type\":\"Plot\"},{\"attributes\":{},\"id\":\"e46951aa-e6a1-4fc4-8be9-7866f4996107\",\"type\":\"BasicTickFormatter\"},{\"attributes\":{\"data_source\":{\"id\":\"02657de2-33ac-4883-9ab4-be4703a02ce4\",\"type\":\"ColumnDataSource\"},\"glyph\":{\"id\":\"2da8e7fb-d525-4cec-ae06-71cfaba9f731\",\"type\":\"Line\"},\"hover_glyph\":null,\"nonselection_glyph\":{\"id\":\"70637cc9-d77f-4b94-babc-5cc49c67ca58\",\"type\":\"Line\"},\"selection_glyph\":null},\"id\":\"d710c564-f709-4f79-9d9a-446941e70d17\",\"type\":\"GlyphRenderer\"},{\"attributes\":{},\"id\":\"fee9b868-9dbe-4078-b8ce-668ad6c3ddd1\",\"type\":\"ToolEvents\"},{\"attributes\":{\"callback\":null},\"id\":\"6f6d2a10-440f-4ff4-8fa3-e06cca58f981\",\"type\":\"DataRange1d\"},{\"attributes\":{\"active_drag\":\"auto\",\"active_scroll\":\"auto\",\"active_tap\":\"auto\",\"tools\":[{\"id\":\"2592a0e1-12ca-4f1d-ac89-f60daf2847e3\",\"type\":\"PanTool\"},{\"id\":\"01060328-44f9-4608-8f8d-fb86906ef4b1\",\"type\":\"WheelZoomTool\"},{\"id\":\"909349df-fd2b-4774-955b-4ec4671f3f2b\",\"type\":\"BoxZoomTool\"},{\"id\":\"ce4ecaf8-d5fc-4516-ad09-261811bbc5f8\",\"type\":\"SaveTool\"},{\"id\":\"6e3a210f-2aa9-4610-8291-52cef2a6fcb1\",\"type\":\"ResetTool\"},{\"id\":\"190a851c-c3ac-4af1-829d-8053892ee28b\",\"type\":\"HelpTool\"}]},\"id\":\"502ee4ce-8b6c-4263-aa36-7a71842b290f\",\"type\":\"Toolbar\"},{\"attributes\":{\"formatter\":{\"id\":\"e46951aa-e6a1-4fc4-8be9-7866f4996107\",\"type\":\"BasicTickFormatter\"},\"plot\":{\"id\":\"3f6ebd14-90d1-4d65-b528-a3cca373acc5\",\"subtype\":\"Figure\",\"type\":\"Plot\"},\"ticker\":{\"id\":\"6e72ba76-fffb-4551-b035-a8ed40d5d216\",\"type\":\"BasicTicker\"}},\"id\":\"be778adf-33a5-468e-a356-382d55b23870\",\"type\":\"LinearAxis\"},{\"attributes\":{\"callback\":null,\"end\":2,\"start\":-2},\"id\":\"738ec6c2-9337-4d06-9705-c14ba7e01bb4\",\"type\":\"Range1d\"},{\"attributes\":{\"formatter\":{\"id\":\"daab47f7-46ed-42d9-a3ec-40e68d29b544\",\"type\":\"BasicTickFormatter\"},\"plot\":{\"id\":\"3f6ebd14-90d1-4d65-b528-a3cca373acc5\",\"subtype\":\"Figure\",\"type\":\"Plot\"},\"ticker\":{\"id\":\"ec71f53f-8cc7-4614-8328-14fcd40144c6\",\"type\":\"BasicTicker\"}},\"id\":\"a10110bf-5434-4c5d-9dac-0aaa599e5e7d\",\"type\":\"LinearAxis\"},{\"attributes\":{},\"id\":\"ec71f53f-8cc7-4614-8328-14fcd40144c6\",\"type\":\"BasicTicker\"},{\"attributes\":{\"line_color\":{\"value\":\"#1f77b4\"},\"x\":{\"field\":\"x\"},\"y\":{\"field\":\"y\"}},\"id\":\"2da8e7fb-d525-4cec-ae06-71cfaba9f731\",\"type\":\"Line\"},{\"attributes\":{},\"id\":\"6e72ba76-fffb-4551-b035-a8ed40d5d216\",\"type\":\"BasicTicker\"},{\"attributes\":{\"dimension\":1,\"plot\":{\"id\":\"3f6ebd14-90d1-4d65-b528-a3cca373acc5\",\"subtype\":\"Figure\",\"type\":\"Plot\"},\"ticker\":{\"id\":\"6e72ba76-fffb-4551-b035-a8ed40d5d216\",\"type\":\"BasicTicker\"}},\"id\":\"8eba6728-2b35-4bcb-8e27-ceeec3a1bb1a\",\"type\":\"Grid\"},{\"attributes\":{\"line_alpha\":{\"value\":0.1},\"line_color\":{\"value\":\"#1f77b4\"},\"x\":{\"field\":\"x\"},\"y\":{\"field\":\"y\"}},\"id\":\"70637cc9-d77f-4b94-babc-5cc49c67ca58\",\"type\":\"Line\"},{\"attributes\":{\"fill_alpha\":{\"value\":0.1},\"fill_color\":{\"value\":\"firebrick\"},\"plot\":{\"id\":\"3f6ebd14-90d1-4d65-b528-a3cca373acc5\",\"subtype\":\"Figure\",\"type\":\"Plot\"},\"top\":-1},\"id\":\"f39f2674-49b4-4fa6-b99d-222aa925af88\",\"type\":\"BoxAnnotation\"},{\"attributes\":{\"bottom\":1,\"fill_alpha\":{\"value\":0.1},\"fill_color\":{\"value\":\"olive\"},\"plot\":{\"id\":\"3f6ebd14-90d1-4d65-b528-a3cca373acc5\",\"subtype\":\"Figure\",\"type\":\"Plot\"}},\"id\":\"e7815113-999d-4011-83f7-f26d6e9519cf\",\"type\":\"BoxAnnotation\"},{\"attributes\":{\"bottom_units\":\"screen\",\"fill_alpha\":{\"value\":0.5},\"fill_color\":{\"value\":\"lightgrey\"},\"left_units\":\"screen\",\"level\":\"overlay\",\"line_alpha\":{\"value\":1.0},\"line_color\":{\"value\":\"black\"},\"line_dash\":[4,4],\"line_width\":{\"value\":2},\"plot\":null,\"render_mode\":\"css\",\"right_units\":\"screen\",\"top_units\":\"screen\"},\"id\":\"e3edfda2-a052-432a-b4e5-05da721a8fba\",\"type\":\"BoxAnnotation\"},{\"attributes\":{\"plot\":{\"id\":\"3f6ebd14-90d1-4d65-b528-a3cca373acc5\",\"subtype\":\"Figure\",\"type\":\"Plot\"}},\"id\":\"2592a0e1-12ca-4f1d-ac89-f60daf2847e3\",\"type\":\"PanTool\"},{\"attributes\":{\"plot\":null,\"text\":\"\"},\"id\":\"b1f2da2c-d3e8-4551-b699-bf3e3e7d0c19\",\"type\":\"Title\"}],\"root_ids\":[\"3f6ebd14-90d1-4d65-b528-a3cca373acc5\"]},\"title\":\"Bokeh Application\",\"version\":\"0.12.4\"}};\n",
       "            var render_items = [{\"docid\":\"8509ed69-6b92-4b6b-a7f5-d801a7ebf29d\",\"elementid\":\"51457183-6651-4514-a8bf-50a2bdb11d64\",\"modelid\":\"3f6ebd14-90d1-4d65-b528-a3cca373acc5\"}];\n",
       "            \n",
       "            Bokeh.embed.embed_items(docs_json, render_items);\n",
       "          };\n",
       "          if (document.readyState != \"loading\") fn();\n",
       "          else document.addEventListener(\"DOMContentLoaded\", fn);\n",
       "        })();\n",
       "      },\n",
       "      function(Bokeh) {\n",
       "      }\n",
       "    ];\n",
       "  \n",
       "    function run_inline_js() {\n",
       "      \n",
       "      if ((window.Bokeh !== undefined) || (force === true)) {\n",
       "        for (var i = 0; i < inline_js.length; i++) {\n",
       "          inline_js[i](window.Bokeh);\n",
       "        }if (force === true) {\n",
       "          display_loaded();\n",
       "        }} else if (Date.now() < window._bokeh_timeout) {\n",
       "        setTimeout(run_inline_js, 100);\n",
       "      } else if (!window._bokeh_failed_load) {\n",
       "        console.log(\"Bokeh: BokehJS failed to load within specified timeout.\");\n",
       "        window._bokeh_failed_load = true;\n",
       "      } else if (force !== true) {\n",
       "        var cell = $(document.getElementById(\"51457183-6651-4514-a8bf-50a2bdb11d64\")).parents('.cell').data().cell;\n",
       "        cell.output_area.append_execute_result(NB_LOAD_WARNING)\n",
       "      }\n",
       "  \n",
       "    }\n",
       "  \n",
       "    if (window._bokeh_is_loading === 0) {\n",
       "      console.log(\"Bokeh: BokehJS loaded, going straight to plotting\");\n",
       "      run_inline_js();\n",
       "    } else {\n",
       "      load_libs(js_urls, function() {\n",
       "        console.log(\"Bokeh: BokehJS plotting callback run at\", now());\n",
       "        run_inline_js();\n",
       "      });\n",
       "    }\n",
       "  }(this));\n",
       "</script>"
      ]
     },
     "metadata": {},
     "output_type": "display_data"
    }
   ],
   "source": [
    "show(p)"
   ]
  },
  {
   "cell_type": "markdown",
   "metadata": {
    "collapsed": true
   },
   "source": [
    "## Label\n",
    "\n",
    "The `Label` annoation allows you to easily attach single text labels to plots. The position and text to display are configured as `x`, `y`, and `text`:\n",
    "\n",
    "```python\n",
    "Label(x=10, y=5, text=\"Some Label\")\n",
    "```\n",
    "\n",
    "By default the units are in \"data space\" but `x_units` and `y_units` maybe set to `\"screen\"` to position the label relative to the canvas. Labels can also accept `x_offset` and `y_offset` to offset the final position from `x` and `y` by a given screen space distance. \n",
    "\n",
    "`Label` objects also have standard text, line (`border_line`) and fill (`background_fill`) properties. The line and fill properties apply to a bounding box around the text:\n",
    "\n",
    "```python\n",
    "Label(x=10, y=5, text=\"Some Label\", text_font_size=\"12pt\", \n",
    "      border_line_color=\"red\", background_fill_color=\"blue\")\n",
    "```"
   ]
  },
  {
   "cell_type": "code",
   "execution_count": 23,
   "metadata": {
    "collapsed": true
   },
   "outputs": [],
   "source": [
    "from bokeh.models.annotations import Label\n",
    "from bokeh.plotting import figure"
   ]
  },
  {
   "cell_type": "code",
   "execution_count": 29,
   "metadata": {
    "collapsed": false
   },
   "outputs": [
    {
     "data": {
      "text/html": [
       "<div style=\"display: table;\"><div style=\"display: table-row;\"><div style=\"display: table-cell;\"><b title=\"bokeh.models.renderers.GlyphRenderer\">GlyphRenderer</b>(</div><div style=\"display: table-cell;\">id&nbsp;=&nbsp;'03483994-88b9-4296-9412-b417b289e156', <span id=\"10df3535-ab96-4531-8fa1-1242501d1b73\" style=\"cursor: pointer;\">&hellip;)</span></div></div><div class=\"769ecd39-acd2-4b91-a7e0-ba2508febaf3\" style=\"display: none;\"><div style=\"display: table-cell;\"></div><div style=\"display: table-cell;\">data_source&nbsp;=&nbsp;ColumnDataSource(id='ec6b2d1d-9987-4743-ae7a-2bbc991c3b49', ...),</div></div><div class=\"769ecd39-acd2-4b91-a7e0-ba2508febaf3\" style=\"display: none;\"><div style=\"display: table-cell;\"></div><div style=\"display: table-cell;\">glyph&nbsp;=&nbsp;Circle(id='88d51870-940e-4edb-a14c-b209eb3c2c72', ...),</div></div><div class=\"769ecd39-acd2-4b91-a7e0-ba2508febaf3\" style=\"display: none;\"><div style=\"display: table-cell;\"></div><div style=\"display: table-cell;\">hover_glyph&nbsp;=&nbsp;None,</div></div><div class=\"769ecd39-acd2-4b91-a7e0-ba2508febaf3\" style=\"display: none;\"><div style=\"display: table-cell;\"></div><div style=\"display: table-cell;\">js_callbacks&nbsp;=&nbsp;{},</div></div><div class=\"769ecd39-acd2-4b91-a7e0-ba2508febaf3\" style=\"display: none;\"><div style=\"display: table-cell;\"></div><div style=\"display: table-cell;\">level&nbsp;=&nbsp;'glyph',</div></div><div class=\"769ecd39-acd2-4b91-a7e0-ba2508febaf3\" style=\"display: none;\"><div style=\"display: table-cell;\"></div><div style=\"display: table-cell;\">name&nbsp;=&nbsp;None,</div></div><div class=\"769ecd39-acd2-4b91-a7e0-ba2508febaf3\" style=\"display: none;\"><div style=\"display: table-cell;\"></div><div style=\"display: table-cell;\">nonselection_glyph&nbsp;=&nbsp;Circle(id='d92e6296-143b-4682-926d-d8f98802110d', ...),</div></div><div class=\"769ecd39-acd2-4b91-a7e0-ba2508febaf3\" style=\"display: none;\"><div style=\"display: table-cell;\"></div><div style=\"display: table-cell;\">selection_glyph&nbsp;=&nbsp;None,</div></div><div class=\"769ecd39-acd2-4b91-a7e0-ba2508febaf3\" style=\"display: none;\"><div style=\"display: table-cell;\"></div><div style=\"display: table-cell;\">tags&nbsp;=&nbsp;[],</div></div><div class=\"769ecd39-acd2-4b91-a7e0-ba2508febaf3\" style=\"display: none;\"><div style=\"display: table-cell;\"></div><div style=\"display: table-cell;\">visible&nbsp;=&nbsp;True,</div></div><div class=\"769ecd39-acd2-4b91-a7e0-ba2508febaf3\" style=\"display: none;\"><div style=\"display: table-cell;\"></div><div style=\"display: table-cell;\">x_range_name&nbsp;=&nbsp;'default',</div></div><div class=\"769ecd39-acd2-4b91-a7e0-ba2508febaf3\" style=\"display: none;\"><div style=\"display: table-cell;\"></div><div style=\"display: table-cell;\">y_range_name&nbsp;=&nbsp;'default')</div></div></div>\n",
       "<script>\n",
       "(function() {\n",
       "  var expanded = false;\n",
       "  var ellipsis = document.getElementById(\"10df3535-ab96-4531-8fa1-1242501d1b73\");\n",
       "  ellipsis.addEventListener(\"click\", function() {\n",
       "    var rows = document.getElementsByClassName(\"769ecd39-acd2-4b91-a7e0-ba2508febaf3\");\n",
       "    for (var i = 0; i < rows.length; i++) {\n",
       "      var el = rows[i];\n",
       "      el.style.display = expanded ? \"none\" : \"table-row\";\n",
       "    }\n",
       "    ellipsis.innerHTML = expanded ? \"&hellip;)\" : \"&lsaquo;&lsaquo;&lsaquo;\";\n",
       "    expanded = !expanded;\n",
       "  });\n",
       "})();\n",
       "</script>\n"
      ],
      "text/plain": [
       "GlyphRenderer(id='03483994-88b9-4296-9412-b417b289e156', ...)"
      ]
     },
     "execution_count": 29,
     "metadata": {},
     "output_type": "execute_result"
    }
   ],
   "source": [
    "p = figure(x_range=(0,10), y_range=(0,10), height=300)\n",
    "p.circle([2, 5, 8], [4, 7, 6], color=\"olive\", size=10)"
   ]
  },
  {
   "cell_type": "code",
   "execution_count": 30,
   "metadata": {
    "collapsed": true
   },
   "outputs": [],
   "source": [
    "label = Label(x=5, y=7, y_offset=12, \n",
    "              text=\"Second Point\", text_baseline=\"middle\")\n",
    "p.add_layout(label)"
   ]
  },
  {
   "cell_type": "code",
   "execution_count": 31,
   "metadata": {
    "collapsed": false
   },
   "outputs": [
    {
     "data": {
      "text/html": [
       "\n",
       "\n",
       "    <div class=\"bk-root\">\n",
       "        <div class=\"bk-plotdiv\" id=\"ccd0f3da-32ac-41dd-a09f-d905a7399804\"></div>\n",
       "    </div>\n",
       "<script type=\"text/javascript\">\n",
       "  \n",
       "  (function(global) {\n",
       "    function now() {\n",
       "      return new Date();\n",
       "    }\n",
       "  \n",
       "    var force = false;\n",
       "  \n",
       "    if (typeof (window._bokeh_onload_callbacks) === \"undefined\" || force === true) {\n",
       "      window._bokeh_onload_callbacks = [];\n",
       "      window._bokeh_is_loading = undefined;\n",
       "    }\n",
       "  \n",
       "  \n",
       "    \n",
       "    if (typeof (window._bokeh_timeout) === \"undefined\" || force === true) {\n",
       "      window._bokeh_timeout = Date.now() + 0;\n",
       "      window._bokeh_failed_load = false;\n",
       "    }\n",
       "  \n",
       "    var NB_LOAD_WARNING = {'data': {'text/html':\n",
       "       \"<div style='background-color: #fdd'>\\n\"+\n",
       "       \"<p>\\n\"+\n",
       "       \"BokehJS does not appear to have successfully loaded. If loading BokehJS from CDN, this \\n\"+\n",
       "       \"may be due to a slow or bad network connection. Possible fixes:\\n\"+\n",
       "       \"</p>\\n\"+\n",
       "       \"<ul>\\n\"+\n",
       "       \"<li>re-rerun `output_notebook()` to attempt to load from CDN again, or</li>\\n\"+\n",
       "       \"<li>use INLINE resources instead, as so:</li>\\n\"+\n",
       "       \"</ul>\\n\"+\n",
       "       \"<code>\\n\"+\n",
       "       \"from bokeh.resources import INLINE\\n\"+\n",
       "       \"output_notebook(resources=INLINE)\\n\"+\n",
       "       \"</code>\\n\"+\n",
       "       \"</div>\"}};\n",
       "  \n",
       "    function display_loaded() {\n",
       "      if (window.Bokeh !== undefined) {\n",
       "        document.getElementById(\"ccd0f3da-32ac-41dd-a09f-d905a7399804\").textContent = \"BokehJS successfully loaded.\";\n",
       "      } else if (Date.now() < window._bokeh_timeout) {\n",
       "        setTimeout(display_loaded, 100)\n",
       "      }\n",
       "    }\n",
       "  \n",
       "    function run_callbacks() {\n",
       "      window._bokeh_onload_callbacks.forEach(function(callback) { callback() });\n",
       "      delete window._bokeh_onload_callbacks\n",
       "      console.info(\"Bokeh: all callbacks have finished\");\n",
       "    }\n",
       "  \n",
       "    function load_libs(js_urls, callback) {\n",
       "      window._bokeh_onload_callbacks.push(callback);\n",
       "      if (window._bokeh_is_loading > 0) {\n",
       "        console.log(\"Bokeh: BokehJS is being loaded, scheduling callback at\", now());\n",
       "        return null;\n",
       "      }\n",
       "      if (js_urls == null || js_urls.length === 0) {\n",
       "        run_callbacks();\n",
       "        return null;\n",
       "      }\n",
       "      console.log(\"Bokeh: BokehJS not loaded, scheduling load and callback at\", now());\n",
       "      window._bokeh_is_loading = js_urls.length;\n",
       "      for (var i = 0; i < js_urls.length; i++) {\n",
       "        var url = js_urls[i];\n",
       "        var s = document.createElement('script');\n",
       "        s.src = url;\n",
       "        s.async = false;\n",
       "        s.onreadystatechange = s.onload = function() {\n",
       "          window._bokeh_is_loading--;\n",
       "          if (window._bokeh_is_loading === 0) {\n",
       "            console.log(\"Bokeh: all BokehJS libraries loaded\");\n",
       "            run_callbacks()\n",
       "          }\n",
       "        };\n",
       "        s.onerror = function() {\n",
       "          console.warn(\"failed to load library \" + url);\n",
       "        };\n",
       "        console.log(\"Bokeh: injecting script tag for BokehJS library: \", url);\n",
       "        document.getElementsByTagName(\"head\")[0].appendChild(s);\n",
       "      }\n",
       "    };var element = document.getElementById(\"ccd0f3da-32ac-41dd-a09f-d905a7399804\");\n",
       "    if (element == null) {\n",
       "      console.log(\"Bokeh: ERROR: autoload.js configured with elementid 'ccd0f3da-32ac-41dd-a09f-d905a7399804' but no matching script tag was found. \")\n",
       "      return false;\n",
       "    }\n",
       "  \n",
       "    var js_urls = [];\n",
       "  \n",
       "    var inline_js = [\n",
       "      function(Bokeh) {\n",
       "        (function() {\n",
       "          var fn = function() {\n",
       "            var docs_json = {\"0ac63b9c-c3dc-4adc-8192-66c8e465143d\":{\"roots\":{\"references\":[{\"attributes\":{},\"id\":\"17bede0e-62ee-4aae-9967-a0e5293e4391\",\"type\":\"BasicTickFormatter\"},{\"attributes\":{\"callback\":null,\"column_names\":[\"x\",\"y\"],\"data\":{\"x\":[2,5,8],\"y\":[4,7,6]}},\"id\":\"ec6b2d1d-9987-4743-ae7a-2bbc991c3b49\",\"type\":\"ColumnDataSource\"},{\"attributes\":{\"below\":[{\"id\":\"3a73a755-44f8-43b8-8905-5cdb05c50154\",\"type\":\"LinearAxis\"}],\"left\":[{\"id\":\"738debf9-df16-4e50-84dc-bbd45434cef2\",\"type\":\"LinearAxis\"}],\"plot_height\":300,\"renderers\":[{\"id\":\"3a73a755-44f8-43b8-8905-5cdb05c50154\",\"type\":\"LinearAxis\"},{\"id\":\"af1e0928-3c00-4a2b-825a-f235c11454e5\",\"type\":\"Grid\"},{\"id\":\"738debf9-df16-4e50-84dc-bbd45434cef2\",\"type\":\"LinearAxis\"},{\"id\":\"8953ef9a-7403-428d-b197-54d935001823\",\"type\":\"Grid\"},{\"id\":\"bcea27ac-824f-4788-8d65-7aaab09d6ddb\",\"type\":\"BoxAnnotation\"},{\"id\":\"03483994-88b9-4296-9412-b417b289e156\",\"type\":\"GlyphRenderer\"},{\"id\":\"8c054b51-9baf-40a1-9fd5-c99f67063968\",\"type\":\"Label\"}],\"title\":{\"id\":\"1bad346c-b28c-471d-899a-79ff1663ef14\",\"type\":\"Title\"},\"tool_events\":{\"id\":\"ebe72d0f-9169-4fc0-b00d-f35664d6b959\",\"type\":\"ToolEvents\"},\"toolbar\":{\"id\":\"eced4254-7226-4ed7-991b-2d718db211ca\",\"type\":\"Toolbar\"},\"x_range\":{\"id\":\"880f542e-1c70-419c-97ec-3f12fef8a5cf\",\"type\":\"Range1d\"},\"y_range\":{\"id\":\"706982b5-443f-4ef2-a078-8e38ef953d46\",\"type\":\"Range1d\"}},\"id\":\"defb6b45-f42a-41ab-8599-0d29f85b4a47\",\"subtype\":\"Figure\",\"type\":\"Plot\"},{\"attributes\":{\"plot\":null,\"text\":\"\"},\"id\":\"1bad346c-b28c-471d-899a-79ff1663ef14\",\"type\":\"Title\"},{\"attributes\":{},\"id\":\"ebe72d0f-9169-4fc0-b00d-f35664d6b959\",\"type\":\"ToolEvents\"},{\"attributes\":{\"callback\":null,\"end\":10},\"id\":\"706982b5-443f-4ef2-a078-8e38ef953d46\",\"type\":\"Range1d\"},{\"attributes\":{\"active_drag\":\"auto\",\"active_scroll\":\"auto\",\"active_tap\":\"auto\",\"tools\":[{\"id\":\"2e28ff0f-173e-40b6-bee6-3ec221d9fa99\",\"type\":\"PanTool\"},{\"id\":\"ae3f7dc3-4cbd-4045-a141-0921f27b5378\",\"type\":\"WheelZoomTool\"},{\"id\":\"afeabdd0-797b-4940-ab10-266638a4520b\",\"type\":\"BoxZoomTool\"},{\"id\":\"d458ebc2-26d3-44f5-8b24-00b0720316ae\",\"type\":\"SaveTool\"},{\"id\":\"04991bc6-ab1e-4dbc-8fe8-c9c2e30aece7\",\"type\":\"ResetTool\"},{\"id\":\"25c8b5ef-5044-4572-b0e6-339ced411457\",\"type\":\"HelpTool\"}]},\"id\":\"eced4254-7226-4ed7-991b-2d718db211ca\",\"type\":\"Toolbar\"},{\"attributes\":{\"formatter\":{\"id\":\"17bede0e-62ee-4aae-9967-a0e5293e4391\",\"type\":\"BasicTickFormatter\"},\"plot\":{\"id\":\"defb6b45-f42a-41ab-8599-0d29f85b4a47\",\"subtype\":\"Figure\",\"type\":\"Plot\"},\"ticker\":{\"id\":\"24509261-107c-4025-bd73-edf014a0982c\",\"type\":\"BasicTicker\"}},\"id\":\"738debf9-df16-4e50-84dc-bbd45434cef2\",\"type\":\"LinearAxis\"},{\"attributes\":{\"formatter\":{\"id\":\"3231d1d1-1570-46f6-85b1-1cc471b6b442\",\"type\":\"BasicTickFormatter\"},\"plot\":{\"id\":\"defb6b45-f42a-41ab-8599-0d29f85b4a47\",\"subtype\":\"Figure\",\"type\":\"Plot\"},\"ticker\":{\"id\":\"05634e15-c9fd-4d00-80ce-cca9c65216a4\",\"type\":\"BasicTicker\"}},\"id\":\"3a73a755-44f8-43b8-8905-5cdb05c50154\",\"type\":\"LinearAxis\"},{\"attributes\":{},\"id\":\"05634e15-c9fd-4d00-80ce-cca9c65216a4\",\"type\":\"BasicTicker\"},{\"attributes\":{\"fill_alpha\":{\"value\":0.1},\"fill_color\":{\"value\":\"#1f77b4\"},\"line_alpha\":{\"value\":0.1},\"line_color\":{\"value\":\"#1f77b4\"},\"size\":{\"units\":\"screen\",\"value\":10},\"x\":{\"field\":\"x\"},\"y\":{\"field\":\"y\"}},\"id\":\"d92e6296-143b-4682-926d-d8f98802110d\",\"type\":\"Circle\"},{\"attributes\":{},\"id\":\"24509261-107c-4025-bd73-edf014a0982c\",\"type\":\"BasicTicker\"},{\"attributes\":{\"dimension\":1,\"plot\":{\"id\":\"defb6b45-f42a-41ab-8599-0d29f85b4a47\",\"subtype\":\"Figure\",\"type\":\"Plot\"},\"ticker\":{\"id\":\"24509261-107c-4025-bd73-edf014a0982c\",\"type\":\"BasicTicker\"}},\"id\":\"8953ef9a-7403-428d-b197-54d935001823\",\"type\":\"Grid\"},{\"attributes\":{\"data_source\":{\"id\":\"ec6b2d1d-9987-4743-ae7a-2bbc991c3b49\",\"type\":\"ColumnDataSource\"},\"glyph\":{\"id\":\"88d51870-940e-4edb-a14c-b209eb3c2c72\",\"type\":\"Circle\"},\"hover_glyph\":null,\"nonselection_glyph\":{\"id\":\"d92e6296-143b-4682-926d-d8f98802110d\",\"type\":\"Circle\"},\"selection_glyph\":null},\"id\":\"03483994-88b9-4296-9412-b417b289e156\",\"type\":\"GlyphRenderer\"},{\"attributes\":{\"plot\":{\"id\":\"defb6b45-f42a-41ab-8599-0d29f85b4a47\",\"subtype\":\"Figure\",\"type\":\"Plot\"},\"ticker\":{\"id\":\"05634e15-c9fd-4d00-80ce-cca9c65216a4\",\"type\":\"BasicTicker\"}},\"id\":\"af1e0928-3c00-4a2b-825a-f235c11454e5\",\"type\":\"Grid\"},{\"attributes\":{\"fill_color\":{\"value\":\"olive\"},\"line_color\":{\"value\":\"olive\"},\"size\":{\"units\":\"screen\",\"value\":10},\"x\":{\"field\":\"x\"},\"y\":{\"field\":\"y\"}},\"id\":\"88d51870-940e-4edb-a14c-b209eb3c2c72\",\"type\":\"Circle\"},{\"attributes\":{\"plot\":{\"id\":\"defb6b45-f42a-41ab-8599-0d29f85b4a47\",\"subtype\":\"Figure\",\"type\":\"Plot\"},\"text\":\"Second Point\",\"text_baseline\":\"middle\",\"x\":5,\"y\":7,\"y_offset\":12},\"id\":\"8c054b51-9baf-40a1-9fd5-c99f67063968\",\"type\":\"Label\"},{\"attributes\":{\"bottom_units\":\"screen\",\"fill_alpha\":{\"value\":0.5},\"fill_color\":{\"value\":\"lightgrey\"},\"left_units\":\"screen\",\"level\":\"overlay\",\"line_alpha\":{\"value\":1.0},\"line_color\":{\"value\":\"black\"},\"line_dash\":[4,4],\"line_width\":{\"value\":2},\"plot\":null,\"render_mode\":\"css\",\"right_units\":\"screen\",\"top_units\":\"screen\"},\"id\":\"bcea27ac-824f-4788-8d65-7aaab09d6ddb\",\"type\":\"BoxAnnotation\"},{\"attributes\":{\"callback\":null,\"end\":10},\"id\":\"880f542e-1c70-419c-97ec-3f12fef8a5cf\",\"type\":\"Range1d\"},{\"attributes\":{\"plot\":{\"id\":\"defb6b45-f42a-41ab-8599-0d29f85b4a47\",\"subtype\":\"Figure\",\"type\":\"Plot\"}},\"id\":\"2e28ff0f-173e-40b6-bee6-3ec221d9fa99\",\"type\":\"PanTool\"},{\"attributes\":{},\"id\":\"3231d1d1-1570-46f6-85b1-1cc471b6b442\",\"type\":\"BasicTickFormatter\"},{\"attributes\":{\"plot\":{\"id\":\"defb6b45-f42a-41ab-8599-0d29f85b4a47\",\"subtype\":\"Figure\",\"type\":\"Plot\"}},\"id\":\"ae3f7dc3-4cbd-4045-a141-0921f27b5378\",\"type\":\"WheelZoomTool\"},{\"attributes\":{\"overlay\":{\"id\":\"bcea27ac-824f-4788-8d65-7aaab09d6ddb\",\"type\":\"BoxAnnotation\"},\"plot\":{\"id\":\"defb6b45-f42a-41ab-8599-0d29f85b4a47\",\"subtype\":\"Figure\",\"type\":\"Plot\"}},\"id\":\"afeabdd0-797b-4940-ab10-266638a4520b\",\"type\":\"BoxZoomTool\"},{\"attributes\":{\"plot\":{\"id\":\"defb6b45-f42a-41ab-8599-0d29f85b4a47\",\"subtype\":\"Figure\",\"type\":\"Plot\"}},\"id\":\"d458ebc2-26d3-44f5-8b24-00b0720316ae\",\"type\":\"SaveTool\"},{\"attributes\":{\"plot\":{\"id\":\"defb6b45-f42a-41ab-8599-0d29f85b4a47\",\"subtype\":\"Figure\",\"type\":\"Plot\"}},\"id\":\"04991bc6-ab1e-4dbc-8fe8-c9c2e30aece7\",\"type\":\"ResetTool\"},{\"attributes\":{\"plot\":{\"id\":\"defb6b45-f42a-41ab-8599-0d29f85b4a47\",\"subtype\":\"Figure\",\"type\":\"Plot\"}},\"id\":\"25c8b5ef-5044-4572-b0e6-339ced411457\",\"type\":\"HelpTool\"}],\"root_ids\":[\"defb6b45-f42a-41ab-8599-0d29f85b4a47\"]},\"title\":\"Bokeh Application\",\"version\":\"0.12.4\"}};\n",
       "            var render_items = [{\"docid\":\"0ac63b9c-c3dc-4adc-8192-66c8e465143d\",\"elementid\":\"ccd0f3da-32ac-41dd-a09f-d905a7399804\",\"modelid\":\"defb6b45-f42a-41ab-8599-0d29f85b4a47\"}];\n",
       "            \n",
       "            Bokeh.embed.embed_items(docs_json, render_items);\n",
       "          };\n",
       "          if (document.readyState != \"loading\") fn();\n",
       "          else document.addEventListener(\"DOMContentLoaded\", fn);\n",
       "        })();\n",
       "      },\n",
       "      function(Bokeh) {\n",
       "      }\n",
       "    ];\n",
       "  \n",
       "    function run_inline_js() {\n",
       "      \n",
       "      if ((window.Bokeh !== undefined) || (force === true)) {\n",
       "        for (var i = 0; i < inline_js.length; i++) {\n",
       "          inline_js[i](window.Bokeh);\n",
       "        }if (force === true) {\n",
       "          display_loaded();\n",
       "        }} else if (Date.now() < window._bokeh_timeout) {\n",
       "        setTimeout(run_inline_js, 100);\n",
       "      } else if (!window._bokeh_failed_load) {\n",
       "        console.log(\"Bokeh: BokehJS failed to load within specified timeout.\");\n",
       "        window._bokeh_failed_load = true;\n",
       "      } else if (force !== true) {\n",
       "        var cell = $(document.getElementById(\"ccd0f3da-32ac-41dd-a09f-d905a7399804\")).parents('.cell').data().cell;\n",
       "        cell.output_area.append_execute_result(NB_LOAD_WARNING)\n",
       "      }\n",
       "  \n",
       "    }\n",
       "  \n",
       "    if (window._bokeh_is_loading === 0) {\n",
       "      console.log(\"Bokeh: BokehJS loaded, going straight to plotting\");\n",
       "      run_inline_js();\n",
       "    } else {\n",
       "      load_libs(js_urls, function() {\n",
       "        console.log(\"Bokeh: BokehJS plotting callback run at\", now());\n",
       "        run_inline_js();\n",
       "      });\n",
       "    }\n",
       "  }(this));\n",
       "</script>"
      ]
     },
     "metadata": {},
     "output_type": "display_data"
    }
   ],
   "source": [
    "show(p)"
   ]
  },
  {
   "cell_type": "markdown",
   "metadata": {
    "collapsed": true
   },
   "source": [
    "## Exercise 8.1: Labels\n",
    "\n",
    "1. Experiment with `Label` on one of these plots\n",
    "\n",
    "2. Go back to the `autompg` plots and add labels with details about certain entries, for example the highest and lowest fuel-efficiency.  Plot this for each year as an extra challenge."
   ]
  },
  {
   "cell_type": "code",
   "execution_count": null,
   "metadata": {
    "collapsed": true
   },
   "outputs": [],
   "source": [
    "# Exercise"
   ]
  },
  {
   "cell_type": "markdown",
   "metadata": {
    "collapsed": true
   },
   "source": [
    "## LabelSet\n",
    "\n",
    "The `LabelSet` annotation allows you to create many labels at once, for instance if you want to label an entire set of scatter markers. They are similar to `Label`, but they can also \n",
    "accept a `ColumnDataSource` as the `source` property, and then `x` and `y` may refer to columns in the data source, e.g. `x=\"col2\"` (but may also still be fixed values, e.g. `x=10`)."
   ]
  },
  {
   "cell_type": "code",
   "execution_count": 32,
   "metadata": {
    "collapsed": true
   },
   "outputs": [],
   "source": [
    "from bokeh.plotting import figure\n",
    "from bokeh.models import ColumnDataSource, LabelSet"
   ]
  },
  {
   "cell_type": "code",
   "execution_count": 33,
   "metadata": {
    "collapsed": true
   },
   "outputs": [],
   "source": [
    "source = ColumnDataSource(data=dict(\n",
    "    temp=[166, 171, 172, 168, 174, 162],\n",
    "    pressure=[165, 189, 220, 141, 260, 174],\n",
    "    names=['A', 'B', 'C', 'D', 'E', 'F']))"
   ]
  },
  {
   "cell_type": "code",
   "execution_count": 34,
   "metadata": {
    "collapsed": true
   },
   "outputs": [],
   "source": [
    "p = figure(x_range=(160, 175), y_range=(130, 280), width=600, height=300)\n",
    "p.scatter(x='temp', y='pressure', size=8, source=source)\n",
    "p.xaxis.axis_label = 'Temperature (C)'\n",
    "p.yaxis.axis_label = 'Pressure (lbs)'"
   ]
  },
  {
   "cell_type": "code",
   "execution_count": 35,
   "metadata": {
    "collapsed": true
   },
   "outputs": [],
   "source": [
    "labels = LabelSet(x='temp', y='pressure', text='names', level='glyph',\n",
    "                  x_offset=5, y_offset=5, source=source, \n",
    "                  render_mode='canvas')"
   ]
  },
  {
   "cell_type": "code",
   "execution_count": 36,
   "metadata": {
    "collapsed": true
   },
   "outputs": [],
   "source": [
    "p.add_layout(labels)"
   ]
  },
  {
   "cell_type": "code",
   "execution_count": 37,
   "metadata": {
    "collapsed": false
   },
   "outputs": [
    {
     "data": {
      "text/html": [
       "\n",
       "\n",
       "    <div class=\"bk-root\">\n",
       "        <div class=\"bk-plotdiv\" id=\"10c62f66-cb27-46d8-bd2a-458277c2f5ca\"></div>\n",
       "    </div>\n",
       "<script type=\"text/javascript\">\n",
       "  \n",
       "  (function(global) {\n",
       "    function now() {\n",
       "      return new Date();\n",
       "    }\n",
       "  \n",
       "    var force = false;\n",
       "  \n",
       "    if (typeof (window._bokeh_onload_callbacks) === \"undefined\" || force === true) {\n",
       "      window._bokeh_onload_callbacks = [];\n",
       "      window._bokeh_is_loading = undefined;\n",
       "    }\n",
       "  \n",
       "  \n",
       "    \n",
       "    if (typeof (window._bokeh_timeout) === \"undefined\" || force === true) {\n",
       "      window._bokeh_timeout = Date.now() + 0;\n",
       "      window._bokeh_failed_load = false;\n",
       "    }\n",
       "  \n",
       "    var NB_LOAD_WARNING = {'data': {'text/html':\n",
       "       \"<div style='background-color: #fdd'>\\n\"+\n",
       "       \"<p>\\n\"+\n",
       "       \"BokehJS does not appear to have successfully loaded. If loading BokehJS from CDN, this \\n\"+\n",
       "       \"may be due to a slow or bad network connection. Possible fixes:\\n\"+\n",
       "       \"</p>\\n\"+\n",
       "       \"<ul>\\n\"+\n",
       "       \"<li>re-rerun `output_notebook()` to attempt to load from CDN again, or</li>\\n\"+\n",
       "       \"<li>use INLINE resources instead, as so:</li>\\n\"+\n",
       "       \"</ul>\\n\"+\n",
       "       \"<code>\\n\"+\n",
       "       \"from bokeh.resources import INLINE\\n\"+\n",
       "       \"output_notebook(resources=INLINE)\\n\"+\n",
       "       \"</code>\\n\"+\n",
       "       \"</div>\"}};\n",
       "  \n",
       "    function display_loaded() {\n",
       "      if (window.Bokeh !== undefined) {\n",
       "        document.getElementById(\"10c62f66-cb27-46d8-bd2a-458277c2f5ca\").textContent = \"BokehJS successfully loaded.\";\n",
       "      } else if (Date.now() < window._bokeh_timeout) {\n",
       "        setTimeout(display_loaded, 100)\n",
       "      }\n",
       "    }\n",
       "  \n",
       "    function run_callbacks() {\n",
       "      window._bokeh_onload_callbacks.forEach(function(callback) { callback() });\n",
       "      delete window._bokeh_onload_callbacks\n",
       "      console.info(\"Bokeh: all callbacks have finished\");\n",
       "    }\n",
       "  \n",
       "    function load_libs(js_urls, callback) {\n",
       "      window._bokeh_onload_callbacks.push(callback);\n",
       "      if (window._bokeh_is_loading > 0) {\n",
       "        console.log(\"Bokeh: BokehJS is being loaded, scheduling callback at\", now());\n",
       "        return null;\n",
       "      }\n",
       "      if (js_urls == null || js_urls.length === 0) {\n",
       "        run_callbacks();\n",
       "        return null;\n",
       "      }\n",
       "      console.log(\"Bokeh: BokehJS not loaded, scheduling load and callback at\", now());\n",
       "      window._bokeh_is_loading = js_urls.length;\n",
       "      for (var i = 0; i < js_urls.length; i++) {\n",
       "        var url = js_urls[i];\n",
       "        var s = document.createElement('script');\n",
       "        s.src = url;\n",
       "        s.async = false;\n",
       "        s.onreadystatechange = s.onload = function() {\n",
       "          window._bokeh_is_loading--;\n",
       "          if (window._bokeh_is_loading === 0) {\n",
       "            console.log(\"Bokeh: all BokehJS libraries loaded\");\n",
       "            run_callbacks()\n",
       "          }\n",
       "        };\n",
       "        s.onerror = function() {\n",
       "          console.warn(\"failed to load library \" + url);\n",
       "        };\n",
       "        console.log(\"Bokeh: injecting script tag for BokehJS library: \", url);\n",
       "        document.getElementsByTagName(\"head\")[0].appendChild(s);\n",
       "      }\n",
       "    };var element = document.getElementById(\"10c62f66-cb27-46d8-bd2a-458277c2f5ca\");\n",
       "    if (element == null) {\n",
       "      console.log(\"Bokeh: ERROR: autoload.js configured with elementid '10c62f66-cb27-46d8-bd2a-458277c2f5ca' but no matching script tag was found. \")\n",
       "      return false;\n",
       "    }\n",
       "  \n",
       "    var js_urls = [];\n",
       "  \n",
       "    var inline_js = [\n",
       "      function(Bokeh) {\n",
       "        (function() {\n",
       "          var fn = function() {\n",
       "            var docs_json = {\"ca1239b8-601c-4f6f-b00b-3fc6d263cf32\":{\"roots\":{\"references\":[{\"attributes\":{\"bottom_units\":\"screen\",\"fill_alpha\":{\"value\":0.5},\"fill_color\":{\"value\":\"lightgrey\"},\"left_units\":\"screen\",\"level\":\"overlay\",\"line_alpha\":{\"value\":1.0},\"line_color\":{\"value\":\"black\"},\"line_dash\":[4,4],\"line_width\":{\"value\":2},\"plot\":null,\"render_mode\":\"css\",\"right_units\":\"screen\",\"top_units\":\"screen\"},\"id\":\"908e51c7-3f45-4e7a-95ae-75f52bcfaa13\",\"type\":\"BoxAnnotation\"},{\"attributes\":{},\"id\":\"f60f48a9-c668-47f2-80b1-737876eb6592\",\"type\":\"BasicTicker\"},{\"attributes\":{\"plot\":{\"id\":\"90d788e0-c9c8-4bf7-9d1d-1eb4c34485cb\",\"subtype\":\"Figure\",\"type\":\"Plot\"}},\"id\":\"0415c122-e4f1-4db7-ab06-bea5a75ebabc\",\"type\":\"HelpTool\"},{\"attributes\":{\"level\":\"glyph\",\"plot\":{\"id\":\"90d788e0-c9c8-4bf7-9d1d-1eb4c34485cb\",\"subtype\":\"Figure\",\"type\":\"Plot\"},\"source\":{\"id\":\"499dc6ac-d740-42c9-aa43-8bca78c2a530\",\"type\":\"ColumnDataSource\"},\"text\":{\"field\":\"names\"},\"x\":{\"field\":\"temp\"},\"x_offset\":{\"value\":5},\"y\":{\"field\":\"pressure\"},\"y_offset\":{\"value\":5}},\"id\":\"7924a6ba-0eb4-4e24-adc6-dd07af24f177\",\"type\":\"LabelSet\"},{\"attributes\":{\"plot\":{\"id\":\"90d788e0-c9c8-4bf7-9d1d-1eb4c34485cb\",\"subtype\":\"Figure\",\"type\":\"Plot\"}},\"id\":\"5643fc5c-6838-4ae6-a369-90c0718348a6\",\"type\":\"ResetTool\"},{\"attributes\":{\"plot\":null,\"text\":\"\"},\"id\":\"8c20bbe7-5ebc-489f-8fbc-32237e73c63a\",\"type\":\"Title\"},{\"attributes\":{\"fill_alpha\":{\"value\":0.1},\"fill_color\":{\"value\":\"#1f77b4\"},\"line_alpha\":{\"value\":0.1},\"line_color\":{\"value\":\"#1f77b4\"},\"size\":{\"units\":\"screen\",\"value\":8},\"x\":{\"field\":\"temp\"},\"y\":{\"field\":\"pressure\"}},\"id\":\"3fd18f70-3a0f-4b68-a779-5a413623168d\",\"type\":\"Circle\"},{\"attributes\":{\"callback\":null,\"column_names\":[\"temp\",\"pressure\",\"names\"],\"data\":{\"names\":[\"A\",\"B\",\"C\",\"D\",\"E\",\"F\"],\"pressure\":[165,189,220,141,260,174],\"temp\":[166,171,172,168,174,162]}},\"id\":\"499dc6ac-d740-42c9-aa43-8bca78c2a530\",\"type\":\"ColumnDataSource\"},{\"attributes\":{},\"id\":\"1f7c3a01-c970-4c90-8bc8-bc237d6b63d3\",\"type\":\"BasicTicker\"},{\"attributes\":{\"plot\":{\"id\":\"90d788e0-c9c8-4bf7-9d1d-1eb4c34485cb\",\"subtype\":\"Figure\",\"type\":\"Plot\"},\"ticker\":{\"id\":\"f60f48a9-c668-47f2-80b1-737876eb6592\",\"type\":\"BasicTicker\"}},\"id\":\"83b6b2ce-f092-4821-b1f1-cedbb0642bfb\",\"type\":\"Grid\"},{\"attributes\":{\"axis_label\":\"Pressure (lbs)\",\"formatter\":{\"id\":\"d6db0957-0e5e-440d-9158-f930fba6a000\",\"type\":\"BasicTickFormatter\"},\"plot\":{\"id\":\"90d788e0-c9c8-4bf7-9d1d-1eb4c34485cb\",\"subtype\":\"Figure\",\"type\":\"Plot\"},\"ticker\":{\"id\":\"1f7c3a01-c970-4c90-8bc8-bc237d6b63d3\",\"type\":\"BasicTicker\"}},\"id\":\"0b04fb5e-c5ce-49af-8590-269bbcdc4687\",\"type\":\"LinearAxis\"},{\"attributes\":{},\"id\":\"2b1a1336-d560-4154-a162-25397161305d\",\"type\":\"BasicTickFormatter\"},{\"attributes\":{\"plot\":{\"id\":\"90d788e0-c9c8-4bf7-9d1d-1eb4c34485cb\",\"subtype\":\"Figure\",\"type\":\"Plot\"}},\"id\":\"106a6a2a-ad5b-46b7-b659-b146c56589b6\",\"type\":\"SaveTool\"},{\"attributes\":{\"callback\":null,\"end\":175,\"start\":160},\"id\":\"8cfc32f0-179a-4ff9-92f8-bcdffc85a5e2\",\"type\":\"Range1d\"},{\"attributes\":{\"fill_color\":{\"value\":\"#1f77b4\"},\"line_color\":{\"value\":\"#1f77b4\"},\"size\":{\"units\":\"screen\",\"value\":8},\"x\":{\"field\":\"temp\"},\"y\":{\"field\":\"pressure\"}},\"id\":\"eb73d9a6-ff4e-4c37-93fb-6a570e54a604\",\"type\":\"Circle\"},{\"attributes\":{\"active_drag\":\"auto\",\"active_scroll\":\"auto\",\"active_tap\":\"auto\",\"tools\":[{\"id\":\"0f2da480-b7da-45c8-81d1-2fe9c6db6b25\",\"type\":\"PanTool\"},{\"id\":\"0cf73036-4999-41d3-b230-be828658d939\",\"type\":\"WheelZoomTool\"},{\"id\":\"34abdfd8-85d6-4769-b728-045ab323e365\",\"type\":\"BoxZoomTool\"},{\"id\":\"106a6a2a-ad5b-46b7-b659-b146c56589b6\",\"type\":\"SaveTool\"},{\"id\":\"5643fc5c-6838-4ae6-a369-90c0718348a6\",\"type\":\"ResetTool\"},{\"id\":\"0415c122-e4f1-4db7-ab06-bea5a75ebabc\",\"type\":\"HelpTool\"}]},\"id\":\"d88795aa-eead-4a35-a5da-af10baea8e47\",\"type\":\"Toolbar\"},{\"attributes\":{},\"id\":\"db723ab4-4336-4fed-b323-2236c2cbbb3e\",\"type\":\"ToolEvents\"},{\"attributes\":{\"plot\":{\"id\":\"90d788e0-c9c8-4bf7-9d1d-1eb4c34485cb\",\"subtype\":\"Figure\",\"type\":\"Plot\"}},\"id\":\"0cf73036-4999-41d3-b230-be828658d939\",\"type\":\"WheelZoomTool\"},{\"attributes\":{\"overlay\":{\"id\":\"908e51c7-3f45-4e7a-95ae-75f52bcfaa13\",\"type\":\"BoxAnnotation\"},\"plot\":{\"id\":\"90d788e0-c9c8-4bf7-9d1d-1eb4c34485cb\",\"subtype\":\"Figure\",\"type\":\"Plot\"}},\"id\":\"34abdfd8-85d6-4769-b728-045ab323e365\",\"type\":\"BoxZoomTool\"},{\"attributes\":{},\"id\":\"d6db0957-0e5e-440d-9158-f930fba6a000\",\"type\":\"BasicTickFormatter\"},{\"attributes\":{\"axis_label\":\"Temperature (C)\",\"formatter\":{\"id\":\"2b1a1336-d560-4154-a162-25397161305d\",\"type\":\"BasicTickFormatter\"},\"plot\":{\"id\":\"90d788e0-c9c8-4bf7-9d1d-1eb4c34485cb\",\"subtype\":\"Figure\",\"type\":\"Plot\"},\"ticker\":{\"id\":\"f60f48a9-c668-47f2-80b1-737876eb6592\",\"type\":\"BasicTicker\"}},\"id\":\"8e92e181-5a25-44ef-8772-578d08e153a4\",\"type\":\"LinearAxis\"},{\"attributes\":{\"data_source\":{\"id\":\"499dc6ac-d740-42c9-aa43-8bca78c2a530\",\"type\":\"ColumnDataSource\"},\"glyph\":{\"id\":\"eb73d9a6-ff4e-4c37-93fb-6a570e54a604\",\"type\":\"Circle\"},\"hover_glyph\":null,\"nonselection_glyph\":{\"id\":\"3fd18f70-3a0f-4b68-a779-5a413623168d\",\"type\":\"Circle\"},\"selection_glyph\":null},\"id\":\"97a33865-3012-4f37-bc24-fe3e9ace4ca3\",\"type\":\"GlyphRenderer\"},{\"attributes\":{\"callback\":null,\"end\":280,\"start\":130},\"id\":\"b39e2062-3cad-4747-8440-c3f806d5b94d\",\"type\":\"Range1d\"},{\"attributes\":{\"below\":[{\"id\":\"8e92e181-5a25-44ef-8772-578d08e153a4\",\"type\":\"LinearAxis\"}],\"left\":[{\"id\":\"0b04fb5e-c5ce-49af-8590-269bbcdc4687\",\"type\":\"LinearAxis\"}],\"plot_height\":300,\"renderers\":[{\"id\":\"8e92e181-5a25-44ef-8772-578d08e153a4\",\"type\":\"LinearAxis\"},{\"id\":\"83b6b2ce-f092-4821-b1f1-cedbb0642bfb\",\"type\":\"Grid\"},{\"id\":\"0b04fb5e-c5ce-49af-8590-269bbcdc4687\",\"type\":\"LinearAxis\"},{\"id\":\"c4426459-03b3-4005-bbc4-bfc1df0c0803\",\"type\":\"Grid\"},{\"id\":\"908e51c7-3f45-4e7a-95ae-75f52bcfaa13\",\"type\":\"BoxAnnotation\"},{\"id\":\"97a33865-3012-4f37-bc24-fe3e9ace4ca3\",\"type\":\"GlyphRenderer\"},{\"id\":\"7924a6ba-0eb4-4e24-adc6-dd07af24f177\",\"type\":\"LabelSet\"}],\"title\":{\"id\":\"8c20bbe7-5ebc-489f-8fbc-32237e73c63a\",\"type\":\"Title\"},\"tool_events\":{\"id\":\"db723ab4-4336-4fed-b323-2236c2cbbb3e\",\"type\":\"ToolEvents\"},\"toolbar\":{\"id\":\"d88795aa-eead-4a35-a5da-af10baea8e47\",\"type\":\"Toolbar\"},\"x_range\":{\"id\":\"8cfc32f0-179a-4ff9-92f8-bcdffc85a5e2\",\"type\":\"Range1d\"},\"y_range\":{\"id\":\"b39e2062-3cad-4747-8440-c3f806d5b94d\",\"type\":\"Range1d\"}},\"id\":\"90d788e0-c9c8-4bf7-9d1d-1eb4c34485cb\",\"subtype\":\"Figure\",\"type\":\"Plot\"},{\"attributes\":{\"plot\":{\"id\":\"90d788e0-c9c8-4bf7-9d1d-1eb4c34485cb\",\"subtype\":\"Figure\",\"type\":\"Plot\"}},\"id\":\"0f2da480-b7da-45c8-81d1-2fe9c6db6b25\",\"type\":\"PanTool\"},{\"attributes\":{\"dimension\":1,\"plot\":{\"id\":\"90d788e0-c9c8-4bf7-9d1d-1eb4c34485cb\",\"subtype\":\"Figure\",\"type\":\"Plot\"},\"ticker\":{\"id\":\"1f7c3a01-c970-4c90-8bc8-bc237d6b63d3\",\"type\":\"BasicTicker\"}},\"id\":\"c4426459-03b3-4005-bbc4-bfc1df0c0803\",\"type\":\"Grid\"}],\"root_ids\":[\"90d788e0-c9c8-4bf7-9d1d-1eb4c34485cb\"]},\"title\":\"Bokeh Application\",\"version\":\"0.12.4\"}};\n",
       "            var render_items = [{\"docid\":\"ca1239b8-601c-4f6f-b00b-3fc6d263cf32\",\"elementid\":\"10c62f66-cb27-46d8-bd2a-458277c2f5ca\",\"modelid\":\"90d788e0-c9c8-4bf7-9d1d-1eb4c34485cb\"}];\n",
       "            \n",
       "            Bokeh.embed.embed_items(docs_json, render_items);\n",
       "          };\n",
       "          if (document.readyState != \"loading\") fn();\n",
       "          else document.addEventListener(\"DOMContentLoaded\", fn);\n",
       "        })();\n",
       "      },\n",
       "      function(Bokeh) {\n",
       "      }\n",
       "    ];\n",
       "  \n",
       "    function run_inline_js() {\n",
       "      \n",
       "      if ((window.Bokeh !== undefined) || (force === true)) {\n",
       "        for (var i = 0; i < inline_js.length; i++) {\n",
       "          inline_js[i](window.Bokeh);\n",
       "        }if (force === true) {\n",
       "          display_loaded();\n",
       "        }} else if (Date.now() < window._bokeh_timeout) {\n",
       "        setTimeout(run_inline_js, 100);\n",
       "      } else if (!window._bokeh_failed_load) {\n",
       "        console.log(\"Bokeh: BokehJS failed to load within specified timeout.\");\n",
       "        window._bokeh_failed_load = true;\n",
       "      } else if (force !== true) {\n",
       "        var cell = $(document.getElementById(\"10c62f66-cb27-46d8-bd2a-458277c2f5ca\")).parents('.cell').data().cell;\n",
       "        cell.output_area.append_execute_result(NB_LOAD_WARNING)\n",
       "      }\n",
       "  \n",
       "    }\n",
       "  \n",
       "    if (window._bokeh_is_loading === 0) {\n",
       "      console.log(\"Bokeh: BokehJS loaded, going straight to plotting\");\n",
       "      run_inline_js();\n",
       "    } else {\n",
       "      load_libs(js_urls, function() {\n",
       "        console.log(\"Bokeh: BokehJS plotting callback run at\", now());\n",
       "        run_inline_js();\n",
       "      });\n",
       "    }\n",
       "  }(this));\n",
       "</script>"
      ]
     },
     "metadata": {},
     "output_type": "display_data"
    }
   ],
   "source": [
    "show(p)"
   ]
  },
  {
   "cell_type": "markdown",
   "metadata": {},
   "source": [
    "## Exercise 8.2: LabelSet\n",
    "\n",
    "Experiment with `LabelSet`"
   ]
  },
  {
   "cell_type": "code",
   "execution_count": null,
   "metadata": {
    "collapsed": true
   },
   "outputs": [],
   "source": [
    "# Exercise"
   ]
  },
  {
   "cell_type": "markdown",
   "metadata": {
    "collapsed": true
   },
   "source": [
    "## Arrows\n",
    "\n",
    "The `Arrow` annotation allows you to \"point\" at different things on your plot, and can be especially useful in conjuction with labels. \n",
    "\n",
    "For example, to create an arrow that points from `(0,0)` to `(1,1)`:\n",
    "\n",
    "```python\n",
    "p.add_layout(Arrow(x_start=0, y_start=0, x_end=1, y_end=0))\n",
    "```\n",
    "\n",
    "This arrow will have the default [`OpenHead`](http://bokeh.pydata.org/en/latest/docs/reference/models/arrow_heads.html#bokeh.models.arrow_heads.OpenHead) arrow head at the end of the arrow. Other kinds of arrow heads include [`NormalHead`](http://bokeh.pydata.org/en/latest/docs/reference/models/arrow_heads.html#bokeh.models.arrow_heads.NormalHead) and [`VeeHead`](http://bokeh.pydata.org/en/latest/docs/reference/models/arrow_heads.html#bokeh.models.arrow_heads.VeeHead). The arrow head type can be controlled by setting the `start` and `end` properties of `Arrow` objects:\n",
    "\n",
    "```python\n",
    "p.add_layout(Arrow(start=OpenHead(), end=VeeHead(), \n",
    "             x_start=0, y_start=0, x_end=1, y_end=0))\n",
    "```\n",
    "\n",
    "This will create a double-ended arrow with an \"open\" head at the start, and a \"vee\" head at the end. Arrowheads have the standard set of line and fill properties to control their appearance. As an example\n",
    "\n",
    "```python\n",
    "OpenHead(line_color=\"firebrick\", line_width=4)\n",
    "```\n",
    "\n",
    "The code and plot below shows several of these configurations together."
   ]
  },
  {
   "cell_type": "code",
   "execution_count": 38,
   "metadata": {
    "collapsed": true
   },
   "outputs": [],
   "source": [
    "from bokeh.models.annotations import Arrow\n",
    "from bokeh.models.arrow_heads import OpenHead, NormalHead, VeeHead"
   ]
  },
  {
   "cell_type": "code",
   "execution_count": 39,
   "metadata": {
    "collapsed": true
   },
   "outputs": [],
   "source": [
    "p = figure(x_range=(-2, 2), y_range=(-2, 2), \n",
    "           plot_width=600, plot_height=300)"
   ]
  },
  {
   "cell_type": "code",
   "execution_count": 40,
   "metadata": {
    "collapsed": false
   },
   "outputs": [
    {
     "data": {
      "text/html": [
       "<div style=\"display: table;\"><div style=\"display: table-row;\"><div style=\"display: table-cell;\"><b title=\"bokeh.models.renderers.GlyphRenderer\">GlyphRenderer</b>(</div><div style=\"display: table-cell;\">id&nbsp;=&nbsp;'3844bc01-ddaa-4cd4-8a4c-cdb70d1c8db4', <span id=\"eba56803-1089-4d44-9a7f-bcfb57ccfa7e\" style=\"cursor: pointer;\">&hellip;)</span></div></div><div class=\"732e03c8-bfc7-4616-8288-87f7a4592c2e\" style=\"display: none;\"><div style=\"display: table-cell;\"></div><div style=\"display: table-cell;\">data_source&nbsp;=&nbsp;ColumnDataSource(id='6cb74afd-958d-46e3-8355-3a1fbf9ad814', ...),</div></div><div class=\"732e03c8-bfc7-4616-8288-87f7a4592c2e\" style=\"display: none;\"><div style=\"display: table-cell;\"></div><div style=\"display: table-cell;\">glyph&nbsp;=&nbsp;Circle(id='c8bafaa1-bd49-4750-b1a9-44584d99e9b3', ...),</div></div><div class=\"732e03c8-bfc7-4616-8288-87f7a4592c2e\" style=\"display: none;\"><div style=\"display: table-cell;\"></div><div style=\"display: table-cell;\">hover_glyph&nbsp;=&nbsp;None,</div></div><div class=\"732e03c8-bfc7-4616-8288-87f7a4592c2e\" style=\"display: none;\"><div style=\"display: table-cell;\"></div><div style=\"display: table-cell;\">js_callbacks&nbsp;=&nbsp;{},</div></div><div class=\"732e03c8-bfc7-4616-8288-87f7a4592c2e\" style=\"display: none;\"><div style=\"display: table-cell;\"></div><div style=\"display: table-cell;\">level&nbsp;=&nbsp;'glyph',</div></div><div class=\"732e03c8-bfc7-4616-8288-87f7a4592c2e\" style=\"display: none;\"><div style=\"display: table-cell;\"></div><div style=\"display: table-cell;\">name&nbsp;=&nbsp;None,</div></div><div class=\"732e03c8-bfc7-4616-8288-87f7a4592c2e\" style=\"display: none;\"><div style=\"display: table-cell;\"></div><div style=\"display: table-cell;\">nonselection_glyph&nbsp;=&nbsp;Circle(id='61270436-c544-42bc-b5a3-0796f5d39f4b', ...),</div></div><div class=\"732e03c8-bfc7-4616-8288-87f7a4592c2e\" style=\"display: none;\"><div style=\"display: table-cell;\"></div><div style=\"display: table-cell;\">selection_glyph&nbsp;=&nbsp;None,</div></div><div class=\"732e03c8-bfc7-4616-8288-87f7a4592c2e\" style=\"display: none;\"><div style=\"display: table-cell;\"></div><div style=\"display: table-cell;\">tags&nbsp;=&nbsp;[],</div></div><div class=\"732e03c8-bfc7-4616-8288-87f7a4592c2e\" style=\"display: none;\"><div style=\"display: table-cell;\"></div><div style=\"display: table-cell;\">visible&nbsp;=&nbsp;True,</div></div><div class=\"732e03c8-bfc7-4616-8288-87f7a4592c2e\" style=\"display: none;\"><div style=\"display: table-cell;\"></div><div style=\"display: table-cell;\">x_range_name&nbsp;=&nbsp;'default',</div></div><div class=\"732e03c8-bfc7-4616-8288-87f7a4592c2e\" style=\"display: none;\"><div style=\"display: table-cell;\"></div><div style=\"display: table-cell;\">y_range_name&nbsp;=&nbsp;'default')</div></div></div>\n",
       "<script>\n",
       "(function() {\n",
       "  var expanded = false;\n",
       "  var ellipsis = document.getElementById(\"eba56803-1089-4d44-9a7f-bcfb57ccfa7e\");\n",
       "  ellipsis.addEventListener(\"click\", function() {\n",
       "    var rows = document.getElementsByClassName(\"732e03c8-bfc7-4616-8288-87f7a4592c2e\");\n",
       "    for (var i = 0; i < rows.length; i++) {\n",
       "      var el = rows[i];\n",
       "      el.style.display = expanded ? \"none\" : \"table-row\";\n",
       "    }\n",
       "    ellipsis.innerHTML = expanded ? \"&hellip;)\" : \"&lsaquo;&lsaquo;&lsaquo;\";\n",
       "    expanded = !expanded;\n",
       "  });\n",
       "})();\n",
       "</script>\n"
      ],
      "text/plain": [
       "GlyphRenderer(id='3844bc01-ddaa-4cd4-8a4c-cdb70d1c8db4', ...)"
      ]
     },
     "execution_count": 40,
     "metadata": {},
     "output_type": "execute_result"
    }
   ],
   "source": [
    "p.circle(x=[0, 1, 0.5], y=[0, 0, 0.7], radius=0.1,\n",
    "         color=[\"navy\", \"yellow\", \"red\"], fill_alpha=0.1)"
   ]
  },
  {
   "cell_type": "code",
   "execution_count": 41,
   "metadata": {
    "collapsed": true
   },
   "outputs": [],
   "source": [
    "p.add_layout(Arrow(end=OpenHead(line_color=\"firebrick\", line_width=4),\n",
    "                   x_start=0, y_start=0, x_end=1, y_end=0))"
   ]
  },
  {
   "cell_type": "code",
   "execution_count": 42,
   "metadata": {
    "collapsed": true
   },
   "outputs": [],
   "source": [
    "p.add_layout(Arrow(end=NormalHead(fill_color=\"orange\"),\n",
    "                   x_start=1, y_start=0, x_end=0.5, y_end=0.7))"
   ]
  },
  {
   "cell_type": "code",
   "execution_count": 43,
   "metadata": {
    "collapsed": true
   },
   "outputs": [],
   "source": [
    "p.add_layout(Arrow(end=VeeHead(size=35), line_color=\"red\",\n",
    "                   x_start=0.5, y_start=0.7, x_end=0, y_end=0))"
   ]
  },
  {
   "cell_type": "code",
   "execution_count": 44,
   "metadata": {
    "collapsed": false
   },
   "outputs": [
    {
     "data": {
      "text/html": [
       "\n",
       "\n",
       "    <div class=\"bk-root\">\n",
       "        <div class=\"bk-plotdiv\" id=\"0ffa2a4a-cb7b-46cf-8ecd-d76054280b70\"></div>\n",
       "    </div>\n",
       "<script type=\"text/javascript\">\n",
       "  \n",
       "  (function(global) {\n",
       "    function now() {\n",
       "      return new Date();\n",
       "    }\n",
       "  \n",
       "    var force = false;\n",
       "  \n",
       "    if (typeof (window._bokeh_onload_callbacks) === \"undefined\" || force === true) {\n",
       "      window._bokeh_onload_callbacks = [];\n",
       "      window._bokeh_is_loading = undefined;\n",
       "    }\n",
       "  \n",
       "  \n",
       "    \n",
       "    if (typeof (window._bokeh_timeout) === \"undefined\" || force === true) {\n",
       "      window._bokeh_timeout = Date.now() + 0;\n",
       "      window._bokeh_failed_load = false;\n",
       "    }\n",
       "  \n",
       "    var NB_LOAD_WARNING = {'data': {'text/html':\n",
       "       \"<div style='background-color: #fdd'>\\n\"+\n",
       "       \"<p>\\n\"+\n",
       "       \"BokehJS does not appear to have successfully loaded. If loading BokehJS from CDN, this \\n\"+\n",
       "       \"may be due to a slow or bad network connection. Possible fixes:\\n\"+\n",
       "       \"</p>\\n\"+\n",
       "       \"<ul>\\n\"+\n",
       "       \"<li>re-rerun `output_notebook()` to attempt to load from CDN again, or</li>\\n\"+\n",
       "       \"<li>use INLINE resources instead, as so:</li>\\n\"+\n",
       "       \"</ul>\\n\"+\n",
       "       \"<code>\\n\"+\n",
       "       \"from bokeh.resources import INLINE\\n\"+\n",
       "       \"output_notebook(resources=INLINE)\\n\"+\n",
       "       \"</code>\\n\"+\n",
       "       \"</div>\"}};\n",
       "  \n",
       "    function display_loaded() {\n",
       "      if (window.Bokeh !== undefined) {\n",
       "        document.getElementById(\"0ffa2a4a-cb7b-46cf-8ecd-d76054280b70\").textContent = \"BokehJS successfully loaded.\";\n",
       "      } else if (Date.now() < window._bokeh_timeout) {\n",
       "        setTimeout(display_loaded, 100)\n",
       "      }\n",
       "    }\n",
       "  \n",
       "    function run_callbacks() {\n",
       "      window._bokeh_onload_callbacks.forEach(function(callback) { callback() });\n",
       "      delete window._bokeh_onload_callbacks\n",
       "      console.info(\"Bokeh: all callbacks have finished\");\n",
       "    }\n",
       "  \n",
       "    function load_libs(js_urls, callback) {\n",
       "      window._bokeh_onload_callbacks.push(callback);\n",
       "      if (window._bokeh_is_loading > 0) {\n",
       "        console.log(\"Bokeh: BokehJS is being loaded, scheduling callback at\", now());\n",
       "        return null;\n",
       "      }\n",
       "      if (js_urls == null || js_urls.length === 0) {\n",
       "        run_callbacks();\n",
       "        return null;\n",
       "      }\n",
       "      console.log(\"Bokeh: BokehJS not loaded, scheduling load and callback at\", now());\n",
       "      window._bokeh_is_loading = js_urls.length;\n",
       "      for (var i = 0; i < js_urls.length; i++) {\n",
       "        var url = js_urls[i];\n",
       "        var s = document.createElement('script');\n",
       "        s.src = url;\n",
       "        s.async = false;\n",
       "        s.onreadystatechange = s.onload = function() {\n",
       "          window._bokeh_is_loading--;\n",
       "          if (window._bokeh_is_loading === 0) {\n",
       "            console.log(\"Bokeh: all BokehJS libraries loaded\");\n",
       "            run_callbacks()\n",
       "          }\n",
       "        };\n",
       "        s.onerror = function() {\n",
       "          console.warn(\"failed to load library \" + url);\n",
       "        };\n",
       "        console.log(\"Bokeh: injecting script tag for BokehJS library: \", url);\n",
       "        document.getElementsByTagName(\"head\")[0].appendChild(s);\n",
       "      }\n",
       "    };var element = document.getElementById(\"0ffa2a4a-cb7b-46cf-8ecd-d76054280b70\");\n",
       "    if (element == null) {\n",
       "      console.log(\"Bokeh: ERROR: autoload.js configured with elementid '0ffa2a4a-cb7b-46cf-8ecd-d76054280b70' but no matching script tag was found. \")\n",
       "      return false;\n",
       "    }\n",
       "  \n",
       "    var js_urls = [];\n",
       "  \n",
       "    var inline_js = [\n",
       "      function(Bokeh) {\n",
       "        (function() {\n",
       "          var fn = function() {\n",
       "            var docs_json = {\"0d7318ac-0652-49ca-a075-014dd547cb7b\":{\"roots\":{\"references\":[{\"attributes\":{},\"id\":\"b93ea244-0173-4008-9981-e0f205456498\",\"type\":\"BasicTicker\"},{\"attributes\":{\"callback\":null,\"end\":2,\"start\":-2},\"id\":\"0c71fafe-e9e8-480c-8fcd-554ac7b8f96d\",\"type\":\"Range1d\"},{\"attributes\":{\"plot\":{\"id\":\"23b41d44-6752-4d16-a602-37dfe8b09508\",\"subtype\":\"Figure\",\"type\":\"Plot\"},\"ticker\":{\"id\":\"9d51e803-9cfe-40ba-bd48-5c7a57ae4b08\",\"type\":\"BasicTicker\"}},\"id\":\"991a84ba-4b03-4389-8946-ae9deab6f211\",\"type\":\"Grid\"},{\"attributes\":{},\"id\":\"5b2431de-6000-417f-8f46-faebfabd7aad\",\"type\":\"ToolEvents\"},{\"attributes\":{\"end\":{\"id\":\"3fcd435a-e4b2-4df3-ac08-8fa45578a567\",\"type\":\"OpenHead\"},\"plot\":{\"id\":\"23b41d44-6752-4d16-a602-37dfe8b09508\",\"subtype\":\"Figure\",\"type\":\"Plot\"},\"source\":null,\"start\":null,\"x_end\":{\"value\":1},\"x_start\":{\"value\":0},\"y_end\":{\"value\":0},\"y_start\":{\"value\":0}},\"id\":\"93a24313-17b2-4533-ab59-fb0f622f8893\",\"type\":\"Arrow\"},{\"attributes\":{\"callback\":null,\"end\":2,\"start\":-2},\"id\":\"a4da0c39-e1c6-4a1f-9235-37a71d623f08\",\"type\":\"Range1d\"},{\"attributes\":{\"formatter\":{\"id\":\"85e48609-e368-4672-b09f-72ccd7f6bb18\",\"type\":\"BasicTickFormatter\"},\"plot\":{\"id\":\"23b41d44-6752-4d16-a602-37dfe8b09508\",\"subtype\":\"Figure\",\"type\":\"Plot\"},\"ticker\":{\"id\":\"b93ea244-0173-4008-9981-e0f205456498\",\"type\":\"BasicTicker\"}},\"id\":\"8f93dd5f-e2d0-4f3c-8573-7c5cb92b16e0\",\"type\":\"LinearAxis\"},{\"attributes\":{\"active_drag\":\"auto\",\"active_scroll\":\"auto\",\"active_tap\":\"auto\",\"tools\":[{\"id\":\"e066844d-ed1a-4389-b144-44b572dedbb9\",\"type\":\"PanTool\"},{\"id\":\"3e5a6451-d5ab-4473-9f04-f39dcdc082cc\",\"type\":\"WheelZoomTool\"},{\"id\":\"2f89df6d-86b6-4b5f-ba36-f73fdd2b632b\",\"type\":\"BoxZoomTool\"},{\"id\":\"bab7ad7d-79d1-470b-84ee-0e61e041e3fb\",\"type\":\"SaveTool\"},{\"id\":\"757e93a6-4a5a-4189-ad01-d6be4367036c\",\"type\":\"ResetTool\"},{\"id\":\"5da92b6f-bf8c-43a5-bc2c-1cd38fcf6ab3\",\"type\":\"HelpTool\"}]},\"id\":\"80a64a6b-0502-4868-8d74-37e1e91db85e\",\"type\":\"Toolbar\"},{\"attributes\":{\"dimension\":1,\"plot\":{\"id\":\"23b41d44-6752-4d16-a602-37dfe8b09508\",\"subtype\":\"Figure\",\"type\":\"Plot\"},\"ticker\":{\"id\":\"b93ea244-0173-4008-9981-e0f205456498\",\"type\":\"BasicTicker\"}},\"id\":\"ec41a332-bb47-456c-beeb-231529639886\",\"type\":\"Grid\"},{\"attributes\":{\"fill_color\":{\"value\":\"orange\"},\"plot\":null},\"id\":\"a693c913-2916-473e-b5b4-0206f1c13b1a\",\"type\":\"NormalHead\"},{\"attributes\":{},\"id\":\"9d51e803-9cfe-40ba-bd48-5c7a57ae4b08\",\"type\":\"BasicTicker\"},{\"attributes\":{\"formatter\":{\"id\":\"f1d45155-39b1-4a31-8d98-493070adce8e\",\"type\":\"BasicTickFormatter\"},\"plot\":{\"id\":\"23b41d44-6752-4d16-a602-37dfe8b09508\",\"subtype\":\"Figure\",\"type\":\"Plot\"},\"ticker\":{\"id\":\"9d51e803-9cfe-40ba-bd48-5c7a57ae4b08\",\"type\":\"BasicTicker\"}},\"id\":\"7738e76f-d85f-45bb-b65a-a58936119aa5\",\"type\":\"LinearAxis\"},{\"attributes\":{\"plot\":{\"id\":\"23b41d44-6752-4d16-a602-37dfe8b09508\",\"subtype\":\"Figure\",\"type\":\"Plot\"}},\"id\":\"e066844d-ed1a-4389-b144-44b572dedbb9\",\"type\":\"PanTool\"},{\"attributes\":{\"bottom_units\":\"screen\",\"fill_alpha\":{\"value\":0.5},\"fill_color\":{\"value\":\"lightgrey\"},\"left_units\":\"screen\",\"level\":\"overlay\",\"line_alpha\":{\"value\":1.0},\"line_color\":{\"value\":\"black\"},\"line_dash\":[4,4],\"line_width\":{\"value\":2},\"plot\":null,\"render_mode\":\"css\",\"right_units\":\"screen\",\"top_units\":\"screen\"},\"id\":\"d22a84b5-5b6e-44f4-bd34-9b0a1c03893c\",\"type\":\"BoxAnnotation\"},{\"attributes\":{\"data_source\":{\"id\":\"6cb74afd-958d-46e3-8355-3a1fbf9ad814\",\"type\":\"ColumnDataSource\"},\"glyph\":{\"id\":\"c8bafaa1-bd49-4750-b1a9-44584d99e9b3\",\"type\":\"Circle\"},\"hover_glyph\":null,\"nonselection_glyph\":{\"id\":\"61270436-c544-42bc-b5a3-0796f5d39f4b\",\"type\":\"Circle\"},\"selection_glyph\":null},\"id\":\"3844bc01-ddaa-4cd4-8a4c-cdb70d1c8db4\",\"type\":\"GlyphRenderer\"},{\"attributes\":{\"plot\":{\"id\":\"23b41d44-6752-4d16-a602-37dfe8b09508\",\"subtype\":\"Figure\",\"type\":\"Plot\"}},\"id\":\"3e5a6451-d5ab-4473-9f04-f39dcdc082cc\",\"type\":\"WheelZoomTool\"},{\"attributes\":{\"plot\":{\"id\":\"23b41d44-6752-4d16-a602-37dfe8b09508\",\"subtype\":\"Figure\",\"type\":\"Plot\"}},\"id\":\"5da92b6f-bf8c-43a5-bc2c-1cd38fcf6ab3\",\"type\":\"HelpTool\"},{\"attributes\":{\"plot\":{\"id\":\"23b41d44-6752-4d16-a602-37dfe8b09508\",\"subtype\":\"Figure\",\"type\":\"Plot\"}},\"id\":\"757e93a6-4a5a-4189-ad01-d6be4367036c\",\"type\":\"ResetTool\"},{\"attributes\":{\"line_color\":{\"value\":\"firebrick\"},\"line_width\":{\"value\":4},\"plot\":null},\"id\":\"3fcd435a-e4b2-4df3-ac08-8fa45578a567\",\"type\":\"OpenHead\"},{\"attributes\":{\"fill_alpha\":{\"value\":0.1},\"fill_color\":{\"value\":\"#1f77b4\"},\"line_alpha\":{\"value\":0.1},\"line_color\":{\"value\":\"#1f77b4\"},\"radius\":{\"units\":\"data\",\"value\":0.1},\"x\":{\"field\":\"x\"},\"y\":{\"field\":\"y\"}},\"id\":\"61270436-c544-42bc-b5a3-0796f5d39f4b\",\"type\":\"Circle\"},{\"attributes\":{\"plot\":{\"id\":\"23b41d44-6752-4d16-a602-37dfe8b09508\",\"subtype\":\"Figure\",\"type\":\"Plot\"}},\"id\":\"bab7ad7d-79d1-470b-84ee-0e61e041e3fb\",\"type\":\"SaveTool\"},{\"attributes\":{\"end\":{\"id\":\"e09268c7-9b53-4694-85ba-d17d26a854e4\",\"type\":\"VeeHead\"},\"line_color\":{\"value\":\"red\"},\"plot\":{\"id\":\"23b41d44-6752-4d16-a602-37dfe8b09508\",\"subtype\":\"Figure\",\"type\":\"Plot\"},\"source\":null,\"start\":null,\"x_end\":{\"value\":0},\"x_start\":{\"value\":0.5},\"y_end\":{\"value\":0},\"y_start\":{\"value\":0.7}},\"id\":\"2beeecda-dc4c-4e14-b3c2-43efde9d95f9\",\"type\":\"Arrow\"},{\"attributes\":{\"callback\":null,\"column_names\":[\"x\",\"y\",\"fill_color\",\"line_color\"],\"data\":{\"fill_color\":[\"navy\",\"yellow\",\"red\"],\"line_color\":[\"navy\",\"yellow\",\"red\"],\"x\":[0,1,0.5],\"y\":[0,0,0.7]}},\"id\":\"6cb74afd-958d-46e3-8355-3a1fbf9ad814\",\"type\":\"ColumnDataSource\"},{\"attributes\":{},\"id\":\"85e48609-e368-4672-b09f-72ccd7f6bb18\",\"type\":\"BasicTickFormatter\"},{\"attributes\":{\"fill_alpha\":{\"value\":0.1},\"fill_color\":{\"field\":\"fill_color\"},\"line_color\":{\"field\":\"line_color\"},\"radius\":{\"units\":\"data\",\"value\":0.1},\"x\":{\"field\":\"x\"},\"y\":{\"field\":\"y\"}},\"id\":\"c8bafaa1-bd49-4750-b1a9-44584d99e9b3\",\"type\":\"Circle\"},{\"attributes\":{\"plot\":null,\"size\":35},\"id\":\"e09268c7-9b53-4694-85ba-d17d26a854e4\",\"type\":\"VeeHead\"},{\"attributes\":{},\"id\":\"f1d45155-39b1-4a31-8d98-493070adce8e\",\"type\":\"BasicTickFormatter\"},{\"attributes\":{\"end\":{\"id\":\"a693c913-2916-473e-b5b4-0206f1c13b1a\",\"type\":\"NormalHead\"},\"plot\":{\"id\":\"23b41d44-6752-4d16-a602-37dfe8b09508\",\"subtype\":\"Figure\",\"type\":\"Plot\"},\"source\":null,\"start\":null,\"x_end\":{\"value\":0.5},\"x_start\":{\"value\":1},\"y_end\":{\"value\":0.7},\"y_start\":{\"value\":0}},\"id\":\"a6f3b899-5791-4e9b-a70d-791c3190489b\",\"type\":\"Arrow\"},{\"attributes\":{\"below\":[{\"id\":\"7738e76f-d85f-45bb-b65a-a58936119aa5\",\"type\":\"LinearAxis\"}],\"left\":[{\"id\":\"8f93dd5f-e2d0-4f3c-8573-7c5cb92b16e0\",\"type\":\"LinearAxis\"}],\"plot_height\":300,\"renderers\":[{\"id\":\"7738e76f-d85f-45bb-b65a-a58936119aa5\",\"type\":\"LinearAxis\"},{\"id\":\"991a84ba-4b03-4389-8946-ae9deab6f211\",\"type\":\"Grid\"},{\"id\":\"8f93dd5f-e2d0-4f3c-8573-7c5cb92b16e0\",\"type\":\"LinearAxis\"},{\"id\":\"ec41a332-bb47-456c-beeb-231529639886\",\"type\":\"Grid\"},{\"id\":\"d22a84b5-5b6e-44f4-bd34-9b0a1c03893c\",\"type\":\"BoxAnnotation\"},{\"id\":\"3844bc01-ddaa-4cd4-8a4c-cdb70d1c8db4\",\"type\":\"GlyphRenderer\"},{\"id\":\"93a24313-17b2-4533-ab59-fb0f622f8893\",\"type\":\"Arrow\"},{\"id\":\"a6f3b899-5791-4e9b-a70d-791c3190489b\",\"type\":\"Arrow\"},{\"id\":\"2beeecda-dc4c-4e14-b3c2-43efde9d95f9\",\"type\":\"Arrow\"}],\"title\":{\"id\":\"df5e929e-0c9d-4a49-b8b3-e077de8994e9\",\"type\":\"Title\"},\"tool_events\":{\"id\":\"5b2431de-6000-417f-8f46-faebfabd7aad\",\"type\":\"ToolEvents\"},\"toolbar\":{\"id\":\"80a64a6b-0502-4868-8d74-37e1e91db85e\",\"type\":\"Toolbar\"},\"x_range\":{\"id\":\"0c71fafe-e9e8-480c-8fcd-554ac7b8f96d\",\"type\":\"Range1d\"},\"y_range\":{\"id\":\"a4da0c39-e1c6-4a1f-9235-37a71d623f08\",\"type\":\"Range1d\"}},\"id\":\"23b41d44-6752-4d16-a602-37dfe8b09508\",\"subtype\":\"Figure\",\"type\":\"Plot\"},{\"attributes\":{\"plot\":null,\"text\":\"\"},\"id\":\"df5e929e-0c9d-4a49-b8b3-e077de8994e9\",\"type\":\"Title\"},{\"attributes\":{\"overlay\":{\"id\":\"d22a84b5-5b6e-44f4-bd34-9b0a1c03893c\",\"type\":\"BoxAnnotation\"},\"plot\":{\"id\":\"23b41d44-6752-4d16-a602-37dfe8b09508\",\"subtype\":\"Figure\",\"type\":\"Plot\"}},\"id\":\"2f89df6d-86b6-4b5f-ba36-f73fdd2b632b\",\"type\":\"BoxZoomTool\"}],\"root_ids\":[\"23b41d44-6752-4d16-a602-37dfe8b09508\"]},\"title\":\"Bokeh Application\",\"version\":\"0.12.4\"}};\n",
       "            var render_items = [{\"docid\":\"0d7318ac-0652-49ca-a075-014dd547cb7b\",\"elementid\":\"0ffa2a4a-cb7b-46cf-8ecd-d76054280b70\",\"modelid\":\"23b41d44-6752-4d16-a602-37dfe8b09508\"}];\n",
       "            \n",
       "            Bokeh.embed.embed_items(docs_json, render_items);\n",
       "          };\n",
       "          if (document.readyState != \"loading\") fn();\n",
       "          else document.addEventListener(\"DOMContentLoaded\", fn);\n",
       "        })();\n",
       "      },\n",
       "      function(Bokeh) {\n",
       "      }\n",
       "    ];\n",
       "  \n",
       "    function run_inline_js() {\n",
       "      \n",
       "      if ((window.Bokeh !== undefined) || (force === true)) {\n",
       "        for (var i = 0; i < inline_js.length; i++) {\n",
       "          inline_js[i](window.Bokeh);\n",
       "        }if (force === true) {\n",
       "          display_loaded();\n",
       "        }} else if (Date.now() < window._bokeh_timeout) {\n",
       "        setTimeout(run_inline_js, 100);\n",
       "      } else if (!window._bokeh_failed_load) {\n",
       "        console.log(\"Bokeh: BokehJS failed to load within specified timeout.\");\n",
       "        window._bokeh_failed_load = true;\n",
       "      } else if (force !== true) {\n",
       "        var cell = $(document.getElementById(\"0ffa2a4a-cb7b-46cf-8ecd-d76054280b70\")).parents('.cell').data().cell;\n",
       "        cell.output_area.append_execute_result(NB_LOAD_WARNING)\n",
       "      }\n",
       "  \n",
       "    }\n",
       "  \n",
       "    if (window._bokeh_is_loading === 0) {\n",
       "      console.log(\"Bokeh: BokehJS loaded, going straight to plotting\");\n",
       "      run_inline_js();\n",
       "    } else {\n",
       "      load_libs(js_urls, function() {\n",
       "        console.log(\"Bokeh: BokehJS plotting callback run at\", now());\n",
       "        run_inline_js();\n",
       "      });\n",
       "    }\n",
       "  }(this));\n",
       "</script>"
      ]
     },
     "metadata": {},
     "output_type": "display_data"
    }
   ],
   "source": [
    "show(p)"
   ]
  },
  {
   "cell_type": "markdown",
   "metadata": {},
   "source": [
    "## Exercise 8.3: Arrows\n",
    "\n",
    "Experiment with arrows and arrow heads"
   ]
  },
  {
   "cell_type": "code",
   "execution_count": null,
   "metadata": {
    "collapsed": true
   },
   "outputs": [],
   "source": [
    "# Exercise"
   ]
  },
  {
   "cell_type": "markdown",
   "metadata": {},
   "source": [
    "## Legends"
   ]
  },
  {
   "cell_type": "code",
   "execution_count": null,
   "metadata": {
    "collapsed": true
   },
   "outputs": [],
   "source": [
    "import numpy as np"
   ]
  },
  {
   "cell_type": "code",
   "execution_count": null,
   "metadata": {
    "collapsed": true
   },
   "outputs": [],
   "source": [
    "x = np.linspace(0, 4*np.pi, 100)\n",
    "y = np.sin(x)"
   ]
  },
  {
   "cell_type": "code",
   "execution_count": null,
   "metadata": {
    "collapsed": true
   },
   "outputs": [],
   "source": [
    "p = figure(height=400)"
   ]
  },
  {
   "cell_type": "code",
   "execution_count": null,
   "metadata": {
    "collapsed": false
   },
   "outputs": [],
   "source": [
    "p.circle(x, y, legend=\"sin(x)\")\n",
    "p.line(x, 2*y, legend=\"2*sin(x)\", line_dash=[4, 4], line_color=\"orange\", line_width=2)"
   ]
  },
  {
   "cell_type": "code",
   "execution_count": null,
   "metadata": {
    "collapsed": false
   },
   "outputs": [],
   "source": [
    "show(p)"
   ]
  },
  {
   "cell_type": "markdown",
   "metadata": {},
   "source": [
    "## Exercise 8.3: Legend\n",
    "\n",
    "1. Create your own plot with multiple data series, and include a legend.\n",
    "\n",
    "2. Try moving the legend using `p.legend.location`"
   ]
  },
  {
   "cell_type": "code",
   "execution_count": null,
   "metadata": {
    "collapsed": true
   },
   "outputs": [],
   "source": [
    "# Exercise"
   ]
  },
  {
   "cell_type": "markdown",
   "metadata": {},
   "source": [
    "## Color bars"
   ]
  },
  {
   "cell_type": "code",
   "execution_count": null,
   "metadata": {
    "collapsed": true
   },
   "outputs": [],
   "source": [
    "from bokeh.sampledata.autompg import autompg\n",
    "from bokeh.models import LinearColorMapper, ColorBar\n",
    "from bokeh.palettes import Viridis256"
   ]
  },
  {
   "cell_type": "code",
   "execution_count": null,
   "metadata": {
    "collapsed": true
   },
   "outputs": [],
   "source": [
    "source = ColumnDataSource(autompg)\n",
    "color_mapper = LinearColorMapper(palette=Viridis256, low=autompg.weight.min(), high=autompg.weight.max())"
   ]
  },
  {
   "cell_type": "code",
   "execution_count": null,
   "metadata": {
    "collapsed": true
   },
   "outputs": [],
   "source": [
    "p = figure(x_axis_label='Year', y_axis_label='MPG', tools='', toolbar_location='above', width=600, height=300)"
   ]
  },
  {
   "cell_type": "code",
   "execution_count": null,
   "metadata": {
    "collapsed": false
   },
   "outputs": [],
   "source": [
    "p.circle(x='yr', y='mpg', color={'field': 'weight', 'transform': color_mapper}, size=20, alpha=0.6, source=source)"
   ]
  },
  {
   "cell_type": "code",
   "execution_count": null,
   "metadata": {
    "collapsed": true
   },
   "outputs": [],
   "source": [
    "color_bar = ColorBar(color_mapper=color_mapper, label_standoff=12, location=(0,0), title='Weight')\n",
    "p.add_layout(color_bar, 'right')"
   ]
  },
  {
   "cell_type": "code",
   "execution_count": null,
   "metadata": {
    "collapsed": false
   },
   "outputs": [],
   "source": [
    "show(p)"
   ]
  },
  {
   "cell_type": "code",
   "execution_count": null,
   "metadata": {
    "collapsed": true
   },
   "outputs": [],
   "source": []
  }
 ],
 "metadata": {
  "anaconda-cloud": {},
  "kernelspec": {
   "display_name": "Python 3",
   "language": "python",
   "name": "python3"
  },
  "language_info": {
   "codemirror_mode": {
    "name": "ipython",
    "version": 3
   },
   "file_extension": ".py",
   "mimetype": "text/x-python",
   "name": "python",
   "nbconvert_exporter": "python",
   "pygments_lexer": "ipython3",
   "version": "3.6.0"
  }
 },
 "nbformat": 4,
 "nbformat_minor": 0
}
