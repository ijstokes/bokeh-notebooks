{
 "cells": [
  {
   "cell_type": "markdown",
   "metadata": {},
   "source": [
    "<table style=\"float:left; border:none\">\n",
    "   <tr style=\"border:none\">\n",
    "       <td style=\"border:none\">\n",
    "           <a href=\"http://bokeh.pydata.org/\">     \n",
    "           <img \n",
    "               src=\"assets/images/bokeh-transparent.png\" \n",
    "               style=\"width:50px\"\n",
    "           >\n",
    "           </a>    \n",
    "       </td>\n",
    "       <td style=\"border:none\">\n",
    "           <h1>Bokeh Tutorial</h1>\n",
    "       </td>\n",
    "   </tr>\n",
    "</table>\n",
    "\n",
    "<div style=\"float:right;\"><h2>11. Geographic Data</h2></div>"
   ]
  },
  {
   "cell_type": "markdown",
   "metadata": {},
   "source": [
    "It is often useful to be able to relate datasets with their real-world context.  You can plot geographic data just like any other type of data, as in the [Texas Unemployment example](http://nbviewer.jupyter.org/github/bokeh/bokeh-notebooks/blob/master/gallery/texas.ipynb), but Bokeh also Bokeh provides several specialized mechanisms for plotting data in geographic coordinates:\n",
    "\n",
    "* [TileSource](http://bokeh.pydata.org/en/latest/docs/reference/models/tiles.html), especially WMTSTileSource: allows data to be overlaid on data from any map tile server, including [Google Maps](http://maps.google.com), [Stamen](http://maps.stamen.com), [MapQuest](https://www.mapquest.com/), [OpenStreetMap](https://www.openstreetmap.org), [ESRI](http://www.esri.com), and custom servers.\n",
    "* [GeoJSONDataSource](http://bokeh.pydata.org/en/0.11.1/docs/user_guide/geo.html#geojson-datasource): Allows reading data in [GeoJSON](http://geojson.org/) format and using it just like any other ColumnDataSource.\n",
    "* GMapPlot: older, more limited interface just to Google Maps (GMapPlot); obsoleted by TileSource.\n",
    "\n",
    "Here we will briefly demonstrate how to use a WTMS tile source along with your data.  "
   ]
  },
  {
   "cell_type": "markdown",
   "metadata": {},
   "source": [
    "# WMTS Tile Source\n",
    "\n",
    "WTMS is the most common web standard for tiled map data, i.e. maps supplied as standard-sized image patches from which the overall map can be constructed at a given zoom level.  WTMS uses Web Mercator format, measuring distances from Greenwich, England as meters north and meters west, which is easy to compute but does distort the global shape. \n",
    "\n",
    "First let's create an empty Bokeh plot covering the USA, with bounds specified in meters:"
   ]
  },
  {
   "cell_type": "code",
   "execution_count": 1,
   "metadata": {
    "collapsed": false
   },
   "outputs": [
    {
     "data": {
      "text/html": [
       "\n",
       "    <div class=\"bk-root\">\n",
       "        <a href=\"http://bokeh.pydata.org\" target=\"_blank\" class=\"bk-logo bk-logo-small bk-logo-notebook\"></a>\n",
       "        <span id=\"f6f68759-1bf8-498e-a585-017a7e4eab5f\">Loading BokehJS ...</span>\n",
       "    </div>"
      ]
     },
     "metadata": {},
     "output_type": "display_data"
    },
    {
     "data": {
      "application/javascript": [
       "\n",
       "(function(global) {\n",
       "  function now() {\n",
       "    return new Date();\n",
       "  }\n",
       "\n",
       "  var force = true;\n",
       "\n",
       "  if (typeof (window._bokeh_onload_callbacks) === \"undefined\" || force === true) {\n",
       "    window._bokeh_onload_callbacks = [];\n",
       "    window._bokeh_is_loading = undefined;\n",
       "  }\n",
       "\n",
       "\n",
       "  \n",
       "  if (typeof (window._bokeh_timeout) === \"undefined\" || force === true) {\n",
       "    window._bokeh_timeout = Date.now() + 5000;\n",
       "    window._bokeh_failed_load = false;\n",
       "  }\n",
       "\n",
       "  var NB_LOAD_WARNING = {'data': {'text/html':\n",
       "     \"<div style='background-color: #fdd'>\\n\"+\n",
       "     \"<p>\\n\"+\n",
       "     \"BokehJS does not appear to have successfully loaded. If loading BokehJS from CDN, this \\n\"+\n",
       "     \"may be due to a slow or bad network connection. Possible fixes:\\n\"+\n",
       "     \"</p>\\n\"+\n",
       "     \"<ul>\\n\"+\n",
       "     \"<li>re-rerun `output_notebook()` to attempt to load from CDN again, or</li>\\n\"+\n",
       "     \"<li>use INLINE resources instead, as so:</li>\\n\"+\n",
       "     \"</ul>\\n\"+\n",
       "     \"<code>\\n\"+\n",
       "     \"from bokeh.resources import INLINE\\n\"+\n",
       "     \"output_notebook(resources=INLINE)\\n\"+\n",
       "     \"</code>\\n\"+\n",
       "     \"</div>\"}};\n",
       "\n",
       "  function display_loaded() {\n",
       "    if (window.Bokeh !== undefined) {\n",
       "      document.getElementById(\"f6f68759-1bf8-498e-a585-017a7e4eab5f\").textContent = \"BokehJS successfully loaded.\";\n",
       "    } else if (Date.now() < window._bokeh_timeout) {\n",
       "      setTimeout(display_loaded, 100)\n",
       "    }\n",
       "  }\n",
       "\n",
       "  function run_callbacks() {\n",
       "    window._bokeh_onload_callbacks.forEach(function(callback) { callback() });\n",
       "    delete window._bokeh_onload_callbacks\n",
       "    console.info(\"Bokeh: all callbacks have finished\");\n",
       "  }\n",
       "\n",
       "  function load_libs(js_urls, callback) {\n",
       "    window._bokeh_onload_callbacks.push(callback);\n",
       "    if (window._bokeh_is_loading > 0) {\n",
       "      console.log(\"Bokeh: BokehJS is being loaded, scheduling callback at\", now());\n",
       "      return null;\n",
       "    }\n",
       "    if (js_urls == null || js_urls.length === 0) {\n",
       "      run_callbacks();\n",
       "      return null;\n",
       "    }\n",
       "    console.log(\"Bokeh: BokehJS not loaded, scheduling load and callback at\", now());\n",
       "    window._bokeh_is_loading = js_urls.length;\n",
       "    for (var i = 0; i < js_urls.length; i++) {\n",
       "      var url = js_urls[i];\n",
       "      var s = document.createElement('script');\n",
       "      s.src = url;\n",
       "      s.async = false;\n",
       "      s.onreadystatechange = s.onload = function() {\n",
       "        window._bokeh_is_loading--;\n",
       "        if (window._bokeh_is_loading === 0) {\n",
       "          console.log(\"Bokeh: all BokehJS libraries loaded\");\n",
       "          run_callbacks()\n",
       "        }\n",
       "      };\n",
       "      s.onerror = function() {\n",
       "        console.warn(\"failed to load library \" + url);\n",
       "      };\n",
       "      console.log(\"Bokeh: injecting script tag for BokehJS library: \", url);\n",
       "      document.getElementsByTagName(\"head\")[0].appendChild(s);\n",
       "    }\n",
       "  };var element = document.getElementById(\"f6f68759-1bf8-498e-a585-017a7e4eab5f\");\n",
       "  if (element == null) {\n",
       "    console.log(\"Bokeh: ERROR: autoload.js configured with elementid 'f6f68759-1bf8-498e-a585-017a7e4eab5f' but no matching script tag was found. \")\n",
       "    return false;\n",
       "  }\n",
       "\n",
       "  var js_urls = [\"https://cdn.pydata.org/bokeh/release/bokeh-0.12.4.min.js\", \"https://cdn.pydata.org/bokeh/release/bokeh-widgets-0.12.4.min.js\"];\n",
       "\n",
       "  var inline_js = [\n",
       "    function(Bokeh) {\n",
       "      Bokeh.set_log_level(\"info\");\n",
       "    },\n",
       "    \n",
       "    function(Bokeh) {\n",
       "      \n",
       "      document.getElementById(\"f6f68759-1bf8-498e-a585-017a7e4eab5f\").textContent = \"BokehJS is loading...\";\n",
       "    },\n",
       "    function(Bokeh) {\n",
       "      console.log(\"Bokeh: injecting CSS: https://cdn.pydata.org/bokeh/release/bokeh-0.12.4.min.css\");\n",
       "      Bokeh.embed.inject_css(\"https://cdn.pydata.org/bokeh/release/bokeh-0.12.4.min.css\");\n",
       "      console.log(\"Bokeh: injecting CSS: https://cdn.pydata.org/bokeh/release/bokeh-widgets-0.12.4.min.css\");\n",
       "      Bokeh.embed.inject_css(\"https://cdn.pydata.org/bokeh/release/bokeh-widgets-0.12.4.min.css\");\n",
       "    }\n",
       "  ];\n",
       "\n",
       "  function run_inline_js() {\n",
       "    \n",
       "    if ((window.Bokeh !== undefined) || (force === true)) {\n",
       "      for (var i = 0; i < inline_js.length; i++) {\n",
       "        inline_js[i](window.Bokeh);\n",
       "      }if (force === true) {\n",
       "        display_loaded();\n",
       "      }} else if (Date.now() < window._bokeh_timeout) {\n",
       "      setTimeout(run_inline_js, 100);\n",
       "    } else if (!window._bokeh_failed_load) {\n",
       "      console.log(\"Bokeh: BokehJS failed to load within specified timeout.\");\n",
       "      window._bokeh_failed_load = true;\n",
       "    } else if (force !== true) {\n",
       "      var cell = $(document.getElementById(\"f6f68759-1bf8-498e-a585-017a7e4eab5f\")).parents('.cell').data().cell;\n",
       "      cell.output_area.append_execute_result(NB_LOAD_WARNING)\n",
       "    }\n",
       "\n",
       "  }\n",
       "\n",
       "  if (window._bokeh_is_loading === 0) {\n",
       "    console.log(\"Bokeh: BokehJS loaded, going straight to plotting\");\n",
       "    run_inline_js();\n",
       "  } else {\n",
       "    load_libs(js_urls, function() {\n",
       "      console.log(\"Bokeh: BokehJS plotting callback run at\", now());\n",
       "      run_inline_js();\n",
       "    });\n",
       "  }\n",
       "}(this));"
      ]
     },
     "metadata": {},
     "output_type": "display_data"
    }
   ],
   "source": [
    "from bokeh.io import output_notebook, show\n",
    "output_notebook()"
   ]
  },
  {
   "cell_type": "code",
   "execution_count": 2,
   "metadata": {
    "collapsed": true
   },
   "outputs": [],
   "source": [
    "from bokeh.plotting import figure\n",
    "from bokeh.tile_providers import WMTSTileSource"
   ]
  },
  {
   "cell_type": "code",
   "execution_count": 3,
   "metadata": {
    "collapsed": true
   },
   "outputs": [],
   "source": [
    "USA = x_range,y_range = ((-13884029,-7453304), (2698291,6455972))"
   ]
  },
  {
   "cell_type": "code",
   "execution_count": 4,
   "metadata": {
    "collapsed": false
   },
   "outputs": [],
   "source": [
    "fig = figure(tools='pan, wheel_zoom', x_range=x_range, y_range=y_range)\n",
    "fig.axis.visible = False"
   ]
  },
  {
   "cell_type": "markdown",
   "metadata": {},
   "source": [
    "A few WTMS tile sources are already defined in `bokeh.tile_providers`, but here we'll show how to specify the interface using a format string showing Bokeh how to request a tile with the required zoom, x, and y values from a given tile provider:"
   ]
  },
  {
   "cell_type": "code",
   "execution_count": 5,
   "metadata": {
    "collapsed": true
   },
   "outputs": [],
   "source": [
    "url = 'http://a.basemaps.cartocdn.com/dark_all/{Z}/{X}/{Y}.png'\n",
    "attribution = \"Map tiles by Carto, under CC BY 3.0. Data by OpenStreetMap, under ODbL\""
   ]
  },
  {
   "cell_type": "code",
   "execution_count": 6,
   "metadata": {
    "collapsed": false
   },
   "outputs": [
    {
     "data": {
      "text/html": [
       "<div style=\"display: table;\"><div style=\"display: table-row;\"><div style=\"display: table-cell;\"><b title=\"bokeh.models.renderers.TileRenderer\">TileRenderer</b>(</div><div style=\"display: table-cell;\">id&nbsp;=&nbsp;'f63f9f26-e598-420b-8830-3fa10b67a6f3', <span id=\"39b79f36-f470-4931-b6ed-2b621f4abf40\" style=\"cursor: pointer;\">&hellip;)</span></div></div><div class=\"ba4e84a9-3407-4262-ac92-230e38ea66e9\" style=\"display: none;\"><div style=\"display: table-cell;\"></div><div style=\"display: table-cell;\">alpha&nbsp;=&nbsp;1.0,</div></div><div class=\"ba4e84a9-3407-4262-ac92-230e38ea66e9\" style=\"display: none;\"><div style=\"display: table-cell;\"></div><div style=\"display: table-cell;\">js_callbacks&nbsp;=&nbsp;{},</div></div><div class=\"ba4e84a9-3407-4262-ac92-230e38ea66e9\" style=\"display: none;\"><div style=\"display: table-cell;\"></div><div style=\"display: table-cell;\">level&nbsp;=&nbsp;'underlay',</div></div><div class=\"ba4e84a9-3407-4262-ac92-230e38ea66e9\" style=\"display: none;\"><div style=\"display: table-cell;\"></div><div style=\"display: table-cell;\">name&nbsp;=&nbsp;None,</div></div><div class=\"ba4e84a9-3407-4262-ac92-230e38ea66e9\" style=\"display: none;\"><div style=\"display: table-cell;\"></div><div style=\"display: table-cell;\">render_parents&nbsp;=&nbsp;True,</div></div><div class=\"ba4e84a9-3407-4262-ac92-230e38ea66e9\" style=\"display: none;\"><div style=\"display: table-cell;\"></div><div style=\"display: table-cell;\">tags&nbsp;=&nbsp;[],</div></div><div class=\"ba4e84a9-3407-4262-ac92-230e38ea66e9\" style=\"display: none;\"><div style=\"display: table-cell;\"></div><div style=\"display: table-cell;\">tile_source&nbsp;=&nbsp;WMTSTileSource(id='ee9f7380-5e8d-45e0-ab42-3b192159c5c1', ...),</div></div><div class=\"ba4e84a9-3407-4262-ac92-230e38ea66e9\" style=\"display: none;\"><div style=\"display: table-cell;\"></div><div style=\"display: table-cell;\">visible&nbsp;=&nbsp;True,</div></div><div class=\"ba4e84a9-3407-4262-ac92-230e38ea66e9\" style=\"display: none;\"><div style=\"display: table-cell;\"></div><div style=\"display: table-cell;\">x_range_name&nbsp;=&nbsp;'default',</div></div><div class=\"ba4e84a9-3407-4262-ac92-230e38ea66e9\" style=\"display: none;\"><div style=\"display: table-cell;\"></div><div style=\"display: table-cell;\">y_range_name&nbsp;=&nbsp;'default')</div></div></div>\n",
       "<script>\n",
       "(function() {\n",
       "  var expanded = false;\n",
       "  var ellipsis = document.getElementById(\"39b79f36-f470-4931-b6ed-2b621f4abf40\");\n",
       "  ellipsis.addEventListener(\"click\", function() {\n",
       "    var rows = document.getElementsByClassName(\"ba4e84a9-3407-4262-ac92-230e38ea66e9\");\n",
       "    for (var i = 0; i < rows.length; i++) {\n",
       "      var el = rows[i];\n",
       "      el.style.display = expanded ? \"none\" : \"table-row\";\n",
       "    }\n",
       "    ellipsis.innerHTML = expanded ? \"&hellip;)\" : \"&lsaquo;&lsaquo;&lsaquo;\";\n",
       "    expanded = !expanded;\n",
       "  });\n",
       "})();\n",
       "</script>\n"
      ],
      "text/plain": [
       "TileRenderer(id='f63f9f26-e598-420b-8830-3fa10b67a6f3', ...)"
      ]
     },
     "execution_count": 6,
     "metadata": {},
     "output_type": "execute_result"
    }
   ],
   "source": [
    "fig.add_tile(WMTSTileSource(url=url, attribution=attribution))"
   ]
  },
  {
   "cell_type": "markdown",
   "metadata": {},
   "source": [
    "If you show the figure, you can then use the wheel zoom and pan tools to navigate over any zoom level, and Bokeh will request the appropriate tiles from the server and insert them at the correct locations in the plot:"
   ]
  },
  {
   "cell_type": "code",
   "execution_count": 7,
   "metadata": {
    "collapsed": false
   },
   "outputs": [
    {
     "data": {
      "text/html": [
       "\n",
       "\n",
       "    <div class=\"bk-root\">\n",
       "        <div class=\"bk-plotdiv\" id=\"68f0d6f9-9740-468c-89bf-209ae6049d7e\"></div>\n",
       "    </div>\n",
       "<script type=\"text/javascript\">\n",
       "  \n",
       "  (function(global) {\n",
       "    function now() {\n",
       "      return new Date();\n",
       "    }\n",
       "  \n",
       "    var force = false;\n",
       "  \n",
       "    if (typeof (window._bokeh_onload_callbacks) === \"undefined\" || force === true) {\n",
       "      window._bokeh_onload_callbacks = [];\n",
       "      window._bokeh_is_loading = undefined;\n",
       "    }\n",
       "  \n",
       "  \n",
       "    \n",
       "    if (typeof (window._bokeh_timeout) === \"undefined\" || force === true) {\n",
       "      window._bokeh_timeout = Date.now() + 0;\n",
       "      window._bokeh_failed_load = false;\n",
       "    }\n",
       "  \n",
       "    var NB_LOAD_WARNING = {'data': {'text/html':\n",
       "       \"<div style='background-color: #fdd'>\\n\"+\n",
       "       \"<p>\\n\"+\n",
       "       \"BokehJS does not appear to have successfully loaded. If loading BokehJS from CDN, this \\n\"+\n",
       "       \"may be due to a slow or bad network connection. Possible fixes:\\n\"+\n",
       "       \"</p>\\n\"+\n",
       "       \"<ul>\\n\"+\n",
       "       \"<li>re-rerun `output_notebook()` to attempt to load from CDN again, or</li>\\n\"+\n",
       "       \"<li>use INLINE resources instead, as so:</li>\\n\"+\n",
       "       \"</ul>\\n\"+\n",
       "       \"<code>\\n\"+\n",
       "       \"from bokeh.resources import INLINE\\n\"+\n",
       "       \"output_notebook(resources=INLINE)\\n\"+\n",
       "       \"</code>\\n\"+\n",
       "       \"</div>\"}};\n",
       "  \n",
       "    function display_loaded() {\n",
       "      if (window.Bokeh !== undefined) {\n",
       "        document.getElementById(\"68f0d6f9-9740-468c-89bf-209ae6049d7e\").textContent = \"BokehJS successfully loaded.\";\n",
       "      } else if (Date.now() < window._bokeh_timeout) {\n",
       "        setTimeout(display_loaded, 100)\n",
       "      }\n",
       "    }\n",
       "  \n",
       "    function run_callbacks() {\n",
       "      window._bokeh_onload_callbacks.forEach(function(callback) { callback() });\n",
       "      delete window._bokeh_onload_callbacks\n",
       "      console.info(\"Bokeh: all callbacks have finished\");\n",
       "    }\n",
       "  \n",
       "    function load_libs(js_urls, callback) {\n",
       "      window._bokeh_onload_callbacks.push(callback);\n",
       "      if (window._bokeh_is_loading > 0) {\n",
       "        console.log(\"Bokeh: BokehJS is being loaded, scheduling callback at\", now());\n",
       "        return null;\n",
       "      }\n",
       "      if (js_urls == null || js_urls.length === 0) {\n",
       "        run_callbacks();\n",
       "        return null;\n",
       "      }\n",
       "      console.log(\"Bokeh: BokehJS not loaded, scheduling load and callback at\", now());\n",
       "      window._bokeh_is_loading = js_urls.length;\n",
       "      for (var i = 0; i < js_urls.length; i++) {\n",
       "        var url = js_urls[i];\n",
       "        var s = document.createElement('script');\n",
       "        s.src = url;\n",
       "        s.async = false;\n",
       "        s.onreadystatechange = s.onload = function() {\n",
       "          window._bokeh_is_loading--;\n",
       "          if (window._bokeh_is_loading === 0) {\n",
       "            console.log(\"Bokeh: all BokehJS libraries loaded\");\n",
       "            run_callbacks()\n",
       "          }\n",
       "        };\n",
       "        s.onerror = function() {\n",
       "          console.warn(\"failed to load library \" + url);\n",
       "        };\n",
       "        console.log(\"Bokeh: injecting script tag for BokehJS library: \", url);\n",
       "        document.getElementsByTagName(\"head\")[0].appendChild(s);\n",
       "      }\n",
       "    };var element = document.getElementById(\"68f0d6f9-9740-468c-89bf-209ae6049d7e\");\n",
       "    if (element == null) {\n",
       "      console.log(\"Bokeh: ERROR: autoload.js configured with elementid '68f0d6f9-9740-468c-89bf-209ae6049d7e' but no matching script tag was found. \")\n",
       "      return false;\n",
       "    }\n",
       "  \n",
       "    var js_urls = [];\n",
       "  \n",
       "    var inline_js = [\n",
       "      function(Bokeh) {\n",
       "        (function() {\n",
       "          var fn = function() {\n",
       "            var docs_json = {\"610c6d06-e552-42b8-81d0-5ae9864b5956\":{\"roots\":{\"references\":[{\"attributes\":{},\"id\":\"ff9015f6-2b9e-40f3-ae05-07feb845b7c1\",\"type\":\"BasicTickFormatter\"},{\"attributes\":{\"plot\":null,\"text\":\"\"},\"id\":\"06331b16-43e8-47e8-a144-9db59305612e\",\"type\":\"Title\"},{\"attributes\":{},\"id\":\"0e8dff48-1c3d-4794-bc53-79e211096f0d\",\"type\":\"BasicTickFormatter\"},{\"attributes\":{\"attribution\":\"Map tiles by Carto, under CC BY 3.0. Data by OpenStreetMap, under ODbL\",\"url\":\"http://a.basemaps.cartocdn.com/dark_all/{Z}/{X}/{Y}.png\"},\"id\":\"ee9f7380-5e8d-45e0-ab42-3b192159c5c1\",\"type\":\"WMTSTileSource\"},{\"attributes\":{\"tile_source\":{\"id\":\"ee9f7380-5e8d-45e0-ab42-3b192159c5c1\",\"type\":\"WMTSTileSource\"}},\"id\":\"f63f9f26-e598-420b-8830-3fa10b67a6f3\",\"type\":\"TileRenderer\"},{\"attributes\":{\"below\":[{\"id\":\"56fd394b-01ce-4d19-9d2d-4cded18bee5f\",\"type\":\"LinearAxis\"}],\"left\":[{\"id\":\"67600352-217e-4802-8272-462f6fd2de44\",\"type\":\"LinearAxis\"}],\"renderers\":[{\"id\":\"56fd394b-01ce-4d19-9d2d-4cded18bee5f\",\"type\":\"LinearAxis\"},{\"id\":\"9b2fbe6a-1303-4659-a401-9ae6776091aa\",\"type\":\"Grid\"},{\"id\":\"67600352-217e-4802-8272-462f6fd2de44\",\"type\":\"LinearAxis\"},{\"id\":\"ba6feaa1-3091-40f8-a56c-702bce44ea9e\",\"type\":\"Grid\"},{\"id\":\"f63f9f26-e598-420b-8830-3fa10b67a6f3\",\"type\":\"TileRenderer\"}],\"title\":{\"id\":\"06331b16-43e8-47e8-a144-9db59305612e\",\"type\":\"Title\"},\"tool_events\":{\"id\":\"4bb7e001-cb9c-43df-afa5-af7f26c16b18\",\"type\":\"ToolEvents\"},\"toolbar\":{\"id\":\"7ede092c-de54-40c4-b2d4-6018d85af52a\",\"type\":\"Toolbar\"},\"x_range\":{\"id\":\"bee7bc3b-1732-4032-8d81-598c1dbee077\",\"type\":\"Range1d\"},\"y_range\":{\"id\":\"e9620eb6-3ce1-4ada-baeb-8ffb5ea7bff4\",\"type\":\"Range1d\"}},\"id\":\"2a4fb053-ee1c-4fc6-ac85-5e80cc79f1aa\",\"subtype\":\"Figure\",\"type\":\"Plot\"},{\"attributes\":{},\"id\":\"4bb7e001-cb9c-43df-afa5-af7f26c16b18\",\"type\":\"ToolEvents\"},{\"attributes\":{\"callback\":null,\"end\":-7453304,\"start\":-13884029},\"id\":\"bee7bc3b-1732-4032-8d81-598c1dbee077\",\"type\":\"Range1d\"},{\"attributes\":{\"active_drag\":\"auto\",\"active_scroll\":\"auto\",\"active_tap\":\"auto\",\"tools\":[{\"id\":\"792cb36b-b09f-40b4-ba08-ddd79fc8ec2a\",\"type\":\"PanTool\"},{\"id\":\"7806acd2-a06c-46b5-bf55-643866804792\",\"type\":\"WheelZoomTool\"}]},\"id\":\"7ede092c-de54-40c4-b2d4-6018d85af52a\",\"type\":\"Toolbar\"},{\"attributes\":{\"callback\":null,\"end\":6455972,\"start\":2698291},\"id\":\"e9620eb6-3ce1-4ada-baeb-8ffb5ea7bff4\",\"type\":\"Range1d\"},{\"attributes\":{\"formatter\":{\"id\":\"0e8dff48-1c3d-4794-bc53-79e211096f0d\",\"type\":\"BasicTickFormatter\"},\"plot\":{\"id\":\"2a4fb053-ee1c-4fc6-ac85-5e80cc79f1aa\",\"subtype\":\"Figure\",\"type\":\"Plot\"},\"ticker\":{\"id\":\"fa72a9e3-0375-43e2-b084-8cf63432cde0\",\"type\":\"BasicTicker\"},\"visible\":false},\"id\":\"56fd394b-01ce-4d19-9d2d-4cded18bee5f\",\"type\":\"LinearAxis\"},{\"attributes\":{},\"id\":\"fa72a9e3-0375-43e2-b084-8cf63432cde0\",\"type\":\"BasicTicker\"},{\"attributes\":{\"plot\":{\"id\":\"2a4fb053-ee1c-4fc6-ac85-5e80cc79f1aa\",\"subtype\":\"Figure\",\"type\":\"Plot\"},\"ticker\":{\"id\":\"fa72a9e3-0375-43e2-b084-8cf63432cde0\",\"type\":\"BasicTicker\"}},\"id\":\"9b2fbe6a-1303-4659-a401-9ae6776091aa\",\"type\":\"Grid\"},{\"attributes\":{\"formatter\":{\"id\":\"ff9015f6-2b9e-40f3-ae05-07feb845b7c1\",\"type\":\"BasicTickFormatter\"},\"plot\":{\"id\":\"2a4fb053-ee1c-4fc6-ac85-5e80cc79f1aa\",\"subtype\":\"Figure\",\"type\":\"Plot\"},\"ticker\":{\"id\":\"c30686a4-8f19-4d2e-b3e5-bed586786e63\",\"type\":\"BasicTicker\"},\"visible\":false},\"id\":\"67600352-217e-4802-8272-462f6fd2de44\",\"type\":\"LinearAxis\"},{\"attributes\":{},\"id\":\"c30686a4-8f19-4d2e-b3e5-bed586786e63\",\"type\":\"BasicTicker\"},{\"attributes\":{\"dimension\":1,\"plot\":{\"id\":\"2a4fb053-ee1c-4fc6-ac85-5e80cc79f1aa\",\"subtype\":\"Figure\",\"type\":\"Plot\"},\"ticker\":{\"id\":\"c30686a4-8f19-4d2e-b3e5-bed586786e63\",\"type\":\"BasicTicker\"}},\"id\":\"ba6feaa1-3091-40f8-a56c-702bce44ea9e\",\"type\":\"Grid\"},{\"attributes\":{\"plot\":{\"id\":\"2a4fb053-ee1c-4fc6-ac85-5e80cc79f1aa\",\"subtype\":\"Figure\",\"type\":\"Plot\"}},\"id\":\"7806acd2-a06c-46b5-bf55-643866804792\",\"type\":\"WheelZoomTool\"},{\"attributes\":{\"plot\":{\"id\":\"2a4fb053-ee1c-4fc6-ac85-5e80cc79f1aa\",\"subtype\":\"Figure\",\"type\":\"Plot\"}},\"id\":\"792cb36b-b09f-40b4-ba08-ddd79fc8ec2a\",\"type\":\"PanTool\"}],\"root_ids\":[\"2a4fb053-ee1c-4fc6-ac85-5e80cc79f1aa\"]},\"title\":\"Bokeh Application\",\"version\":\"0.12.4\"}};\n",
       "            var render_items = [{\"docid\":\"610c6d06-e552-42b8-81d0-5ae9864b5956\",\"elementid\":\"68f0d6f9-9740-468c-89bf-209ae6049d7e\",\"modelid\":\"2a4fb053-ee1c-4fc6-ac85-5e80cc79f1aa\"}];\n",
       "            \n",
       "            Bokeh.embed.embed_items(docs_json, render_items);\n",
       "          };\n",
       "          if (document.readyState != \"loading\") fn();\n",
       "          else document.addEventListener(\"DOMContentLoaded\", fn);\n",
       "        })();\n",
       "      },\n",
       "      function(Bokeh) {\n",
       "      }\n",
       "    ];\n",
       "  \n",
       "    function run_inline_js() {\n",
       "      \n",
       "      if ((window.Bokeh !== undefined) || (force === true)) {\n",
       "        for (var i = 0; i < inline_js.length; i++) {\n",
       "          inline_js[i](window.Bokeh);\n",
       "        }if (force === true) {\n",
       "          display_loaded();\n",
       "        }} else if (Date.now() < window._bokeh_timeout) {\n",
       "        setTimeout(run_inline_js, 100);\n",
       "      } else if (!window._bokeh_failed_load) {\n",
       "        console.log(\"Bokeh: BokehJS failed to load within specified timeout.\");\n",
       "        window._bokeh_failed_load = true;\n",
       "      } else if (force !== true) {\n",
       "        var cell = $(document.getElementById(\"68f0d6f9-9740-468c-89bf-209ae6049d7e\")).parents('.cell').data().cell;\n",
       "        cell.output_area.append_execute_result(NB_LOAD_WARNING)\n",
       "      }\n",
       "  \n",
       "    }\n",
       "  \n",
       "    if (window._bokeh_is_loading === 0) {\n",
       "      console.log(\"Bokeh: BokehJS loaded, going straight to plotting\");\n",
       "      run_inline_js();\n",
       "    } else {\n",
       "      load_libs(js_urls, function() {\n",
       "        console.log(\"Bokeh: BokehJS plotting callback run at\", now());\n",
       "        run_inline_js();\n",
       "      });\n",
       "    }\n",
       "  }(this));\n",
       "</script>"
      ]
     },
     "metadata": {},
     "output_type": "display_data"
    }
   ],
   "source": [
    "show(fig)"
   ]
  },
  {
   "cell_type": "markdown",
   "metadata": {},
   "source": [
    "That's all it takes to put map data into your plot!  Of course, you'll usually want to show other data as well, or you could just use the tile server's own web address. You can now add anything you would normally use in a Bokeh plot, as long as you can obtain coordinates for it in Web Mercator format.  For example:"
   ]
  },
  {
   "cell_type": "code",
   "execution_count": 8,
   "metadata": {
    "collapsed": true
   },
   "outputs": [],
   "source": [
    "import pandas as pd\n",
    "import numpy as np"
   ]
  },
  {
   "cell_type": "code",
   "execution_count": 9,
   "metadata": {
    "collapsed": true
   },
   "outputs": [],
   "source": [
    "def wgs84_to_web_mercator(df, lon=\"lon\", lat=\"lat\"):\n",
    "    \"\"\"Converts decimal longitude/latitude to Web Mercator format\"\"\"\n",
    "    k = 6378137\n",
    "    df[\"x\"] = df[lon] * (k * np.pi/180.0)\n",
    "    df[\"y\"] = np.log(np.tan((90 + df[lat]) * np.pi/360.0)) * k\n",
    "    return df"
   ]
  },
  {
   "cell_type": "code",
   "execution_count": 10,
   "metadata": {
    "collapsed": true
   },
   "outputs": [],
   "source": [
    "df = pd.DataFrame(dict(name=[\"Austin\",\"NYC\"],\n",
    "                       lon=[-97.7431,-74.0059],\n",
    "                       lat=[30.2672,40.7128]))"
   ]
  },
  {
   "cell_type": "code",
   "execution_count": 11,
   "metadata": {
    "collapsed": false
   },
   "outputs": [
    {
     "data": {
      "text/html": [
       "<div>\n",
       "<table border=\"1\" class=\"dataframe\">\n",
       "  <thead>\n",
       "    <tr style=\"text-align: right;\">\n",
       "      <th></th>\n",
       "      <th>lat</th>\n",
       "      <th>lon</th>\n",
       "      <th>name</th>\n",
       "      <th>x</th>\n",
       "      <th>y</th>\n",
       "    </tr>\n",
       "  </thead>\n",
       "  <tbody>\n",
       "    <tr>\n",
       "      <th>0</th>\n",
       "      <td>30.2672</td>\n",
       "      <td>-97.7431</td>\n",
       "      <td>Austin</td>\n",
       "      <td>-1.088071e+07</td>\n",
       "      <td>3.537942e+06</td>\n",
       "    </tr>\n",
       "    <tr>\n",
       "      <th>1</th>\n",
       "      <td>40.7128</td>\n",
       "      <td>-74.0059</td>\n",
       "      <td>NYC</td>\n",
       "      <td>-8.238299e+06</td>\n",
       "      <td>4.970072e+06</td>\n",
       "    </tr>\n",
       "  </tbody>\n",
       "</table>\n",
       "</div>"
      ],
      "text/plain": [
       "       lat      lon    name             x             y\n",
       "0  30.2672 -97.7431  Austin -1.088071e+07  3.537942e+06\n",
       "1  40.7128 -74.0059     NYC -8.238299e+06  4.970072e+06"
      ]
     },
     "execution_count": 11,
     "metadata": {},
     "output_type": "execute_result"
    }
   ],
   "source": [
    "wgs84_to_web_mercator(df)"
   ]
  },
  {
   "cell_type": "code",
   "execution_count": 12,
   "metadata": {
    "collapsed": false
   },
   "outputs": [
    {
     "data": {
      "text/html": [
       "\n",
       "\n",
       "    <div class=\"bk-root\">\n",
       "        <div class=\"bk-plotdiv\" id=\"cd9d315e-686f-48bd-a257-b0ea381c0b3a\"></div>\n",
       "    </div>\n",
       "<script type=\"text/javascript\">\n",
       "  \n",
       "  (function(global) {\n",
       "    function now() {\n",
       "      return new Date();\n",
       "    }\n",
       "  \n",
       "    var force = false;\n",
       "  \n",
       "    if (typeof (window._bokeh_onload_callbacks) === \"undefined\" || force === true) {\n",
       "      window._bokeh_onload_callbacks = [];\n",
       "      window._bokeh_is_loading = undefined;\n",
       "    }\n",
       "  \n",
       "  \n",
       "    \n",
       "    if (typeof (window._bokeh_timeout) === \"undefined\" || force === true) {\n",
       "      window._bokeh_timeout = Date.now() + 0;\n",
       "      window._bokeh_failed_load = false;\n",
       "    }\n",
       "  \n",
       "    var NB_LOAD_WARNING = {'data': {'text/html':\n",
       "       \"<div style='background-color: #fdd'>\\n\"+\n",
       "       \"<p>\\n\"+\n",
       "       \"BokehJS does not appear to have successfully loaded. If loading BokehJS from CDN, this \\n\"+\n",
       "       \"may be due to a slow or bad network connection. Possible fixes:\\n\"+\n",
       "       \"</p>\\n\"+\n",
       "       \"<ul>\\n\"+\n",
       "       \"<li>re-rerun `output_notebook()` to attempt to load from CDN again, or</li>\\n\"+\n",
       "       \"<li>use INLINE resources instead, as so:</li>\\n\"+\n",
       "       \"</ul>\\n\"+\n",
       "       \"<code>\\n\"+\n",
       "       \"from bokeh.resources import INLINE\\n\"+\n",
       "       \"output_notebook(resources=INLINE)\\n\"+\n",
       "       \"</code>\\n\"+\n",
       "       \"</div>\"}};\n",
       "  \n",
       "    function display_loaded() {\n",
       "      if (window.Bokeh !== undefined) {\n",
       "        document.getElementById(\"cd9d315e-686f-48bd-a257-b0ea381c0b3a\").textContent = \"BokehJS successfully loaded.\";\n",
       "      } else if (Date.now() < window._bokeh_timeout) {\n",
       "        setTimeout(display_loaded, 100)\n",
       "      }\n",
       "    }\n",
       "  \n",
       "    function run_callbacks() {\n",
       "      window._bokeh_onload_callbacks.forEach(function(callback) { callback() });\n",
       "      delete window._bokeh_onload_callbacks\n",
       "      console.info(\"Bokeh: all callbacks have finished\");\n",
       "    }\n",
       "  \n",
       "    function load_libs(js_urls, callback) {\n",
       "      window._bokeh_onload_callbacks.push(callback);\n",
       "      if (window._bokeh_is_loading > 0) {\n",
       "        console.log(\"Bokeh: BokehJS is being loaded, scheduling callback at\", now());\n",
       "        return null;\n",
       "      }\n",
       "      if (js_urls == null || js_urls.length === 0) {\n",
       "        run_callbacks();\n",
       "        return null;\n",
       "      }\n",
       "      console.log(\"Bokeh: BokehJS not loaded, scheduling load and callback at\", now());\n",
       "      window._bokeh_is_loading = js_urls.length;\n",
       "      for (var i = 0; i < js_urls.length; i++) {\n",
       "        var url = js_urls[i];\n",
       "        var s = document.createElement('script');\n",
       "        s.src = url;\n",
       "        s.async = false;\n",
       "        s.onreadystatechange = s.onload = function() {\n",
       "          window._bokeh_is_loading--;\n",
       "          if (window._bokeh_is_loading === 0) {\n",
       "            console.log(\"Bokeh: all BokehJS libraries loaded\");\n",
       "            run_callbacks()\n",
       "          }\n",
       "        };\n",
       "        s.onerror = function() {\n",
       "          console.warn(\"failed to load library \" + url);\n",
       "        };\n",
       "        console.log(\"Bokeh: injecting script tag for BokehJS library: \", url);\n",
       "        document.getElementsByTagName(\"head\")[0].appendChild(s);\n",
       "      }\n",
       "    };var element = document.getElementById(\"cd9d315e-686f-48bd-a257-b0ea381c0b3a\");\n",
       "    if (element == null) {\n",
       "      console.log(\"Bokeh: ERROR: autoload.js configured with elementid 'cd9d315e-686f-48bd-a257-b0ea381c0b3a' but no matching script tag was found. \")\n",
       "      return false;\n",
       "    }\n",
       "  \n",
       "    var js_urls = [];\n",
       "  \n",
       "    var inline_js = [\n",
       "      function(Bokeh) {\n",
       "        (function() {\n",
       "          var fn = function() {\n",
       "            var docs_json = {\"73c63678-57a1-456c-bb18-d836fb0bca95\":{\"roots\":{\"references\":[{\"attributes\":{\"data_source\":{\"id\":\"6dad6382-93f9-48c8-9bc0-3351bd9aa822\",\"type\":\"ColumnDataSource\"},\"glyph\":{\"id\":\"e8d9bfa0-d3fc-4156-9794-ec630c7769f5\",\"type\":\"Circle\"},\"hover_glyph\":null,\"nonselection_glyph\":{\"id\":\"09fd9f78-942e-40dc-8949-6eda675199df\",\"type\":\"Circle\"},\"selection_glyph\":null},\"id\":\"f8cafb21-8ece-48c7-906c-637edfed145d\",\"type\":\"GlyphRenderer\"},{\"attributes\":{},\"id\":\"ff9015f6-2b9e-40f3-ae05-07feb845b7c1\",\"type\":\"BasicTickFormatter\"},{\"attributes\":{\"plot\":null,\"text\":\"\"},\"id\":\"06331b16-43e8-47e8-a144-9db59305612e\",\"type\":\"Title\"},{\"attributes\":{\"fill_color\":{\"value\":\"blue\"},\"line_color\":{\"value\":\"#1f77b4\"},\"size\":{\"units\":\"screen\",\"value\":10},\"x\":{\"field\":\"x\"},\"y\":{\"field\":\"y\"}},\"id\":\"e8d9bfa0-d3fc-4156-9794-ec630c7769f5\",\"type\":\"Circle\"},{\"attributes\":{},\"id\":\"0e8dff48-1c3d-4794-bc53-79e211096f0d\",\"type\":\"BasicTickFormatter\"},{\"attributes\":{\"fill_alpha\":{\"value\":0.1},\"fill_color\":{\"value\":\"#1f77b4\"},\"line_alpha\":{\"value\":0.1},\"line_color\":{\"value\":\"#1f77b4\"},\"size\":{\"units\":\"screen\",\"value\":10},\"x\":{\"field\":\"x\"},\"y\":{\"field\":\"y\"}},\"id\":\"09fd9f78-942e-40dc-8949-6eda675199df\",\"type\":\"Circle\"},{\"attributes\":{\"attribution\":\"Map tiles by Carto, under CC BY 3.0. Data by OpenStreetMap, under ODbL\",\"url\":\"http://a.basemaps.cartocdn.com/dark_all/{Z}/{X}/{Y}.png\"},\"id\":\"ee9f7380-5e8d-45e0-ab42-3b192159c5c1\",\"type\":\"WMTSTileSource\"},{\"attributes\":{\"tile_source\":{\"id\":\"ee9f7380-5e8d-45e0-ab42-3b192159c5c1\",\"type\":\"WMTSTileSource\"}},\"id\":\"f63f9f26-e598-420b-8830-3fa10b67a6f3\",\"type\":\"TileRenderer\"},{\"attributes\":{\"below\":[{\"id\":\"56fd394b-01ce-4d19-9d2d-4cded18bee5f\",\"type\":\"LinearAxis\"}],\"left\":[{\"id\":\"67600352-217e-4802-8272-462f6fd2de44\",\"type\":\"LinearAxis\"}],\"renderers\":[{\"id\":\"56fd394b-01ce-4d19-9d2d-4cded18bee5f\",\"type\":\"LinearAxis\"},{\"id\":\"9b2fbe6a-1303-4659-a401-9ae6776091aa\",\"type\":\"Grid\"},{\"id\":\"67600352-217e-4802-8272-462f6fd2de44\",\"type\":\"LinearAxis\"},{\"id\":\"ba6feaa1-3091-40f8-a56c-702bce44ea9e\",\"type\":\"Grid\"},{\"id\":\"f63f9f26-e598-420b-8830-3fa10b67a6f3\",\"type\":\"TileRenderer\"},{\"id\":\"f8cafb21-8ece-48c7-906c-637edfed145d\",\"type\":\"GlyphRenderer\"}],\"title\":{\"id\":\"06331b16-43e8-47e8-a144-9db59305612e\",\"type\":\"Title\"},\"tool_events\":{\"id\":\"4bb7e001-cb9c-43df-afa5-af7f26c16b18\",\"type\":\"ToolEvents\"},\"toolbar\":{\"id\":\"7ede092c-de54-40c4-b2d4-6018d85af52a\",\"type\":\"Toolbar\"},\"x_range\":{\"id\":\"bee7bc3b-1732-4032-8d81-598c1dbee077\",\"type\":\"Range1d\"},\"y_range\":{\"id\":\"e9620eb6-3ce1-4ada-baeb-8ffb5ea7bff4\",\"type\":\"Range1d\"}},\"id\":\"2a4fb053-ee1c-4fc6-ac85-5e80cc79f1aa\",\"subtype\":\"Figure\",\"type\":\"Plot\"},{\"attributes\":{},\"id\":\"4bb7e001-cb9c-43df-afa5-af7f26c16b18\",\"type\":\"ToolEvents\"},{\"attributes\":{\"callback\":null,\"end\":-7453304,\"start\":-13884029},\"id\":\"bee7bc3b-1732-4032-8d81-598c1dbee077\",\"type\":\"Range1d\"},{\"attributes\":{\"active_drag\":\"auto\",\"active_scroll\":\"auto\",\"active_tap\":\"auto\",\"tools\":[{\"id\":\"792cb36b-b09f-40b4-ba08-ddd79fc8ec2a\",\"type\":\"PanTool\"},{\"id\":\"7806acd2-a06c-46b5-bf55-643866804792\",\"type\":\"WheelZoomTool\"}]},\"id\":\"7ede092c-de54-40c4-b2d4-6018d85af52a\",\"type\":\"Toolbar\"},{\"attributes\":{\"callback\":null,\"end\":6455972,\"start\":2698291},\"id\":\"e9620eb6-3ce1-4ada-baeb-8ffb5ea7bff4\",\"type\":\"Range1d\"},{\"attributes\":{\"formatter\":{\"id\":\"0e8dff48-1c3d-4794-bc53-79e211096f0d\",\"type\":\"BasicTickFormatter\"},\"plot\":{\"id\":\"2a4fb053-ee1c-4fc6-ac85-5e80cc79f1aa\",\"subtype\":\"Figure\",\"type\":\"Plot\"},\"ticker\":{\"id\":\"fa72a9e3-0375-43e2-b084-8cf63432cde0\",\"type\":\"BasicTicker\"},\"visible\":false},\"id\":\"56fd394b-01ce-4d19-9d2d-4cded18bee5f\",\"type\":\"LinearAxis\"},{\"attributes\":{},\"id\":\"fa72a9e3-0375-43e2-b084-8cf63432cde0\",\"type\":\"BasicTicker\"},{\"attributes\":{\"plot\":{\"id\":\"2a4fb053-ee1c-4fc6-ac85-5e80cc79f1aa\",\"subtype\":\"Figure\",\"type\":\"Plot\"},\"ticker\":{\"id\":\"fa72a9e3-0375-43e2-b084-8cf63432cde0\",\"type\":\"BasicTicker\"}},\"id\":\"9b2fbe6a-1303-4659-a401-9ae6776091aa\",\"type\":\"Grid\"},{\"attributes\":{\"formatter\":{\"id\":\"ff9015f6-2b9e-40f3-ae05-07feb845b7c1\",\"type\":\"BasicTickFormatter\"},\"plot\":{\"id\":\"2a4fb053-ee1c-4fc6-ac85-5e80cc79f1aa\",\"subtype\":\"Figure\",\"type\":\"Plot\"},\"ticker\":{\"id\":\"c30686a4-8f19-4d2e-b3e5-bed586786e63\",\"type\":\"BasicTicker\"},\"visible\":false},\"id\":\"67600352-217e-4802-8272-462f6fd2de44\",\"type\":\"LinearAxis\"},{\"attributes\":{},\"id\":\"c30686a4-8f19-4d2e-b3e5-bed586786e63\",\"type\":\"BasicTicker\"},{\"attributes\":{\"dimension\":1,\"plot\":{\"id\":\"2a4fb053-ee1c-4fc6-ac85-5e80cc79f1aa\",\"subtype\":\"Figure\",\"type\":\"Plot\"},\"ticker\":{\"id\":\"c30686a4-8f19-4d2e-b3e5-bed586786e63\",\"type\":\"BasicTicker\"}},\"id\":\"ba6feaa1-3091-40f8-a56c-702bce44ea9e\",\"type\":\"Grid\"},{\"attributes\":{\"plot\":{\"id\":\"2a4fb053-ee1c-4fc6-ac85-5e80cc79f1aa\",\"subtype\":\"Figure\",\"type\":\"Plot\"}},\"id\":\"7806acd2-a06c-46b5-bf55-643866804792\",\"type\":\"WheelZoomTool\"},{\"attributes\":{\"plot\":{\"id\":\"2a4fb053-ee1c-4fc6-ac85-5e80cc79f1aa\",\"subtype\":\"Figure\",\"type\":\"Plot\"}},\"id\":\"792cb36b-b09f-40b4-ba08-ddd79fc8ec2a\",\"type\":\"PanTool\"},{\"attributes\":{\"callback\":null,\"column_names\":[\"x\",\"y\"],\"data\":{\"x\":{\"__ndarray__\":\"TJjbA9nAZMGf/KLGNm1fwQ==\",\"dtype\":\"float64\",\"shape\":[2]},\"y\":{\"__ndarray__\":\"a6XdLQv+SkFnqxDllfVSQQ==\",\"dtype\":\"float64\",\"shape\":[2]}}},\"id\":\"6dad6382-93f9-48c8-9bc0-3351bd9aa822\",\"type\":\"ColumnDataSource\"}],\"root_ids\":[\"2a4fb053-ee1c-4fc6-ac85-5e80cc79f1aa\"]},\"title\":\"Bokeh Application\",\"version\":\"0.12.4\"}};\n",
       "            var render_items = [{\"docid\":\"73c63678-57a1-456c-bb18-d836fb0bca95\",\"elementid\":\"cd9d315e-686f-48bd-a257-b0ea381c0b3a\",\"modelid\":\"2a4fb053-ee1c-4fc6-ac85-5e80cc79f1aa\"}];\n",
       "            \n",
       "            Bokeh.embed.embed_items(docs_json, render_items);\n",
       "          };\n",
       "          if (document.readyState != \"loading\") fn();\n",
       "          else document.addEventListener(\"DOMContentLoaded\", fn);\n",
       "        })();\n",
       "      },\n",
       "      function(Bokeh) {\n",
       "      }\n",
       "    ];\n",
       "  \n",
       "    function run_inline_js() {\n",
       "      \n",
       "      if ((window.Bokeh !== undefined) || (force === true)) {\n",
       "        for (var i = 0; i < inline_js.length; i++) {\n",
       "          inline_js[i](window.Bokeh);\n",
       "        }if (force === true) {\n",
       "          display_loaded();\n",
       "        }} else if (Date.now() < window._bokeh_timeout) {\n",
       "        setTimeout(run_inline_js, 100);\n",
       "      } else if (!window._bokeh_failed_load) {\n",
       "        console.log(\"Bokeh: BokehJS failed to load within specified timeout.\");\n",
       "        window._bokeh_failed_load = true;\n",
       "      } else if (force !== true) {\n",
       "        var cell = $(document.getElementById(\"cd9d315e-686f-48bd-a257-b0ea381c0b3a\")).parents('.cell').data().cell;\n",
       "        cell.output_area.append_execute_result(NB_LOAD_WARNING)\n",
       "      }\n",
       "  \n",
       "    }\n",
       "  \n",
       "    if (window._bokeh_is_loading === 0) {\n",
       "      console.log(\"Bokeh: BokehJS loaded, going straight to plotting\");\n",
       "      run_inline_js();\n",
       "    } else {\n",
       "      load_libs(js_urls, function() {\n",
       "        console.log(\"Bokeh: BokehJS plotting callback run at\", now());\n",
       "        run_inline_js();\n",
       "      });\n",
       "    }\n",
       "  }(this));\n",
       "</script>"
      ]
     },
     "metadata": {},
     "output_type": "display_data"
    }
   ],
   "source": [
    "fig.circle(x=df['x'], y=df['y'],fill_color='blue', size=10)\n",
    "show(fig)"
   ]
  },
  {
   "cell_type": "markdown",
   "metadata": {
    "collapsed": true
   },
   "source": [
    "## Exercise 11.1: GeoData Visualization in Bokeh\n",
    "\n",
    "Find some data in lat, lon, import it into a dataframe or data source, and add it to a map"
   ]
  },
  {
   "cell_type": "code",
   "execution_count": null,
   "metadata": {
    "collapsed": true
   },
   "outputs": [],
   "source": [
    "# Exercise"
   ]
  }
 ],
 "metadata": {
  "anaconda-cloud": {},
  "kernelspec": {
   "display_name": "Python 3",
   "language": "python",
   "name": "python3"
  },
  "language_info": {
   "codemirror_mode": {
    "name": "ipython",
    "version": 3
   },
   "file_extension": ".py",
   "mimetype": "text/x-python",
   "name": "python",
   "nbconvert_exporter": "python",
   "pygments_lexer": "ipython3",
   "version": "3.6.0"
  }
 },
 "nbformat": 4,
 "nbformat_minor": 0
}
