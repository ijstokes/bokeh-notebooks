{
 "cells": [
  {
   "cell_type": "markdown",
   "metadata": {
    "slideshow": {
     "slide_type": "slide"
    }
   },
   "source": [
    "Data Visualization Apps with Bokeh\n",
    "===================\n",
    "**June 2017**\n",
    "\n",
    "Ian Stokes-Rees [@ijstokes](http://twitter.com/ijstokes) \n",
    "[http://bit.ly/dataviz-bokeh-wkshp](http://bit.ly/dataviz-bokeh-wkshp)"
   ]
  },
  {
   "cell_type": "markdown",
   "metadata": {
    "slideshow": {
     "slide_type": "fragment"
    }
   },
   "source": [
    "<div>\n",
    "<a href=\"http://bokeh.pydata.org/\"><img src=\"images/bokeh-header.png\"></a>\n",
    "</div>"
   ]
  },
  {
   "cell_type": "markdown",
   "metadata": {
    "slideshow": {
     "slide_type": "subslide"
    }
   },
   "source": [
    "Description\n",
    "-----------\n",
    "This hands-on 3 hour workshop will introduce participants to [Bokeh](http://bokeh.pydata.org), a framework for building web-oriented interactive visualizations.  The workshop will focus on using the Python interface to create visualizations first in Jupyter Notebooks, then using stand-alone Python, and finally creating \"Bokeh Apps\" -- mini data apps.  Participants should know basic Python and have Anaconda pre-installed on their laptops.\n",
    "\n",
    "Bokeh is a Python interactive visualization library for large datasets that natively uses the latest web technologies. Its goal is to provide elegant, concise construction of novel graphics in the style of Protovis/D3, while delivering high-performance interactivity over large data to thin clients."
   ]
  },
  {
   "cell_type": "markdown",
   "metadata": {
    "slideshow": {
     "slide_type": "subslide"
    }
   },
   "source": [
    "Presenter\n",
    "--------\n",
    "\n",
    "<table>\n",
    "\n",
    "<tr><td>\n",
    "<font size=+2><b>Ian Stokes-Rees</b> [@ijstokes](http://twitter.com/ijstokes)\n",
    "<br/>[ijstokes@continuum.io](mailto:ijstokes@continuum.io)\n",
    "<br/>\n",
    "[http://about.me/ijstokes](http://about.me/ijstokes)\n",
    "<br/>\n",
    "[http://linkedin.com/in/ijstokes](http://linkedin.com/in/ijstokes)\n",
    "<br/></font>\n",
    "</td>\n",
    "<td>\n",
    "<a href=https://continuum.io ><img src=http://ijstokes-public.s3.amazonaws.com/dspyr/img/AnacondaCIO_Logo width=400 />\n",
    "</a>\n",
    "</td></tr>\n",
    "</table>"
   ]
  },
  {
   "cell_type": "markdown",
   "metadata": {
    "slideshow": {
     "slide_type": "subslide"
    }
   },
   "source": [
    "Acknowledgements\n",
    "---------------\n",
    "Adapted from material created by:\n",
    "* [Bryan Van de Ven](https://github.com/bryevdv)\n",
    "* [Jim Bednar](https://github.com/jbednar)\n",
    "\n",
    "In particular:\n",
    "* [Bokeh Tutorial](https://github.com/bokeh/bokeh-notebooks/tree/master/tutorial)\n",
    "* [Datashader Examples](https://github.com/bokeh/datashader/tree/master/examples)"
   ]
  },
  {
   "cell_type": "markdown",
   "metadata": {
    "slideshow": {
     "slide_type": "slide"
    }
   },
   "source": [
    "Assets and Reference\n",
    "-------------------\n",
    "This presentation:\n",
    "* Anaconda Cloud: https://anaconda.org/ijstokes/dataviz-bokeh-wkshp\n",
    "* GitHub: https://github.com/ijstokes/dataviz-bokeh-wkshp\n",
    "\n",
    "The material is based on the BSD-3 open source Bokeh and Datashader projects, which are included in the Anaconda Distribution:\n",
    "* Docs:\n",
    "    * http://bokeh.pydata.org/\n",
    "    * http://datashader.pydata.org/\n",
    "\n",
    "* GitHub:\n",
    "    * https://github.com/bokeh/bokeh\n",
    "    * https://github.com/bokeh/datashader"
   ]
  },
  {
   "cell_type": "markdown",
   "metadata": {
    "slideshow": {
     "slide_type": "slide"
    }
   },
   "source": [
    "## Introductions\n",
    "<table>\n",
    "\n",
    "<tr><td>\n",
    "At Continuum we say \n",
    "<br/>\n",
    "<font size=+2><b>*\"Programming Python with Anaconda\n",
    "<br/>is more fun with a friend\"*</b></font>\n",
    "</td>\n",
    "<td>\n",
    "<a href=https://continuum.io ><img src=http://ijstokes-public.s3.amazonaws.com/dspyr/img/AnacondaCIO_Logo width=400 />\n",
    "</a>\n",
    "</td></tr>\n",
    "</table>\n",
    "\n",
    "### Introduce yourself to the people on either side of you\n",
    "\n",
    "There is only one of me, so you're going to need to rely on each other for help during exercises!"
   ]
  },
  {
   "cell_type": "markdown",
   "metadata": {
    "slideshow": {
     "slide_type": "subslide"
    }
   },
   "source": [
    "Setup\n",
    "-----\n",
    "* [Download Anaconda 4.3 for Python 3.6](http://continuum.io/downloads)\n",
    "* Clone or download the GitHub repo for the workshop:\n",
    "```bash\n",
    "git clone git@github.com:ijstokes/dataviz-bokeh-wkshp.git\n",
    "```\n",
    "\n",
    "\n",
    "* Create a conda environment for the workshop:\n",
    "```bash\n",
    "conda env create ijstokes/bokehwkshp\n",
    "source activate bokehwkshp # macOS and *nix\n",
    "activate bokehwkshp # Windows\n",
    "```\n",
    "\n",
    "* If that doesn't work, this should do the trick:\n",
    "```bash\n",
    "conda create -n bokehwkshp bokeh=0.12 notebook=5 jupyter \\\n",
    "    datashader jupyter scikit-learn pandas=0.19 \\\n",
    "    python=3.6\n",
    "```\n",
    "\n",
    "* Download sample data with the command:\n",
    "```\n",
    "bokeh sampledata\n",
    "```\n",
    "\n",
    "* Navigate to the directory where you've cloned or downloaded this material\n",
    "\n",
    "* Start Jupyter with the command `jupyter notebook` from the command line or pick the `bokehwkshp` environment in Navigator and start Jupyter from the *\"Home\"* tab."
   ]
  },
  {
   "cell_type": "markdown",
   "metadata": {},
   "source": [
    "## Check Software Versions\n",
    "Setup-test, run the next cell. Hopefully you should see output that looks something like this (`MAJOR.MINOR` should match):\n",
    "\n",
    "    IPython - 5.1.0\n",
    "    Pandas  - 0.19.2\n",
    "    Bokeh   - 0.12.4\n",
    "    \n",
    "If this isn't working for you, see the [`README.md`](README.md) in this directory.  The only piece there that is really important is that `Bokeh` is reported as version `0.12.x`.  Pandas and IPython versions shouldn't matter."
   ]
  },
  {
   "cell_type": "code",
   "execution_count": 1,
   "metadata": {
    "collapsed": false
   },
   "outputs": [
    {
     "name": "stdout",
     "output_type": "stream",
     "text": [
      "IPython - 5.1.0\n",
      "Pandas  - 0.19.2\n",
      "Bokeh   - 0.12.4\n"
     ]
    }
   ],
   "source": [
    "from IPython import __version__ as ipython_version\n",
    "from pandas  import __version__ as pandas_version\n",
    "from bokeh   import __version__ as bokeh_version\n",
    "print(\"IPython - %s\" % ipython_version)\n",
    "print(\"Pandas  - %s\" % pandas_version)\n",
    "print(\"Bokeh   - %s\" % bokeh_version)"
   ]
  },
  {
   "cell_type": "markdown",
   "metadata": {
    "slideshow": {
     "slide_type": "subslide"
    }
   },
   "source": [
    "## Quickstart\n",
    "\n",
    "Get started with a 5-min introduction to Bokeh [here](quickstart/quickstart.ipynb)."
   ]
  },
  {
   "cell_type": "markdown",
   "metadata": {
    "slideshow": {
     "slide_type": "slide"
    }
   },
   "source": [
    "## Tutorial\n",
    "\n",
    "Start with the [Tutorial Introduction](tutorial/00%20-%20intro.ipynb) and jump to any of the specific topic sections from there."
   ]
  },
  {
   "cell_type": "markdown",
   "metadata": {
    "slideshow": {
     "slide_type": "slide"
    }
   },
   "source": [
    "## Notebook Gallery\n",
    "\n",
    "Some examples of Bokeh's interactive plots in IPython Notebooks:\n",
    "\n",
    "[Texas unemployment](gallery/texas.ipynb) | [Linked brushing](gallery/linked_brushing.ipynb) | [Linked panning](gallery/linked_panning.ipynb) | [Lorenz](gallery/lorenz.ipynb) | [Candlestick](gallery/candlestick.ipynb) | [Annular wedge](gallery/burtin.ipynb) | [Rectangular](gallery/rect.ipynb) | [Glucose](gallery/glucose.ipynb) | [Correlation](gallery/correlation.ipynb) | [Bollinger](gallery/bollinger.ipynb) | [Color Scatter](gallery/color_scatterplot.ipynb)\n",
    "\n",
    "<table cellspacing=\"20\" style=\"border:0px\">\n",
    "<tbody style=\"border:0px\"><tr style=\"border:0px\">\n",
    "<td style=\"border:0px\">  <a class=\"reference external\" href=\"gallery/texas.ipynb\"><img alt=\"texas\" src=\"http://bokeh.pydata.org/en/latest/_images/choropleth_t.png\"></a>         <span class=\"raw-html\"></span></td>\n",
    "<td style=\"border:0px\">  <a class=\"reference external\" href=\"gallery/lorenz.ipynb\"><img alt=\"lorenz\" src=\"http://bokeh.pydata.org/en/latest/_images/lorenz_t.png\"></a>       <span class=\"raw-html\"></span></td>\n",
    "<td style=\"border:0px\">  <a class=\"reference external\" href=\"gallery/candlestick.ipynb\"><img alt=\"image\" src=\"http://bokeh.pydata.org/en/latest/_images/candlestick_t.png\"></a>         <span class=\"raw-html\"></span></td>\n",
    "<td style=\"border:0px\">  <a class=\"reference external\" href=\"gallery/burtin.ipynb\"><img alt=\"annular\" src=\"http://bokeh.pydata.org/en/latest/_images/burtin_t.png\"></a>         <span class=\"raw-html\"></span></td>\n",
    "<td style=\"border:0px\">  <a class=\"reference external\" href=\"gallery/vector.ipynb\"><img alt=\"vector\" src=\"http://bokeh.pydata.org/en/latest/_images/streamline_t.png\"></a>         <span class=\"raw-html\"></span></td>\n",
    "</tr><tr style=\"border:0px\">\n",
    "</tbody></table>"
   ]
  },
  {
   "cell_type": "markdown",
   "metadata": {
    "slideshow": {
     "slide_type": "subslide"
    }
   },
   "source": [
    "## More information\n",
    "\n",
    "For the full documentation, see http://bokeh.pydata.org/en/latest\n",
    "\n",
    "To see the Bokeh source code, visit the GitHub repository: https://github.com/bokeh/bokeh \n",
    "\n",
    "Be sure to follow us on Twitter [@BokehPlots](http://twitter.com/BokehPlots), as well as on [Youtube](https://www.youtube.com/channel/UCK0rSk29mmg4UT4bIOvPYhw) and [Vine](https://vine.co/bokehplots)!"
   ]
  },
  {
   "cell_type": "markdown",
   "metadata": {
    "slideshow": {
     "slide_type": "subslide"
    }
   },
   "source": [
    "## Contact\n",
    "\n",
    "For questions, please join the [Bokeh mailing list](https://groups.google.com/a/continuum.io/forum/#!forum/bokeh) or visit the [Gitter chat room](https://gitter.im/bokeh/bokeh)\n",
    "\n",
    "You can also ask questions on StackOverflow and use the [``#bokeh`` tag](http://stackoverflow.com/questions/tagged/bokeh)\n",
    "\n",
    "For information about commercial development, custom visualization development or embedding Bokeh in your applications, please contact [sales@continuum.io](mailto:sales@continuum.io)\n",
    "\n",
    "To donate funds to support the development of Bokeh, please contact [info@pydata.org](mailto:info@pydata.org)"
   ]
  },
  {
   "cell_type": "markdown",
   "metadata": {
    "slideshow": {
     "slide_type": "subslide"
    }
   },
   "source": [
    "## Thanks\n",
    "\n",
    "Bokeh is developed in part with funding from the DARPA XDATA program. Additionally, many thanks to [all of the Bokeh Github contributors](https://github.com/bokeh/bokeh/graphs/contributors)."
   ]
  },
  {
   "cell_type": "markdown",
   "metadata": {},
   "source": [
    "<script>\n",
    "  (function(i,s,o,g,r,a,m){i['GoogleAnalyticsObject']=r;i[r]=i[r]||function(){\n",
    "  (i[r].q=i[r].q||[]).push(arguments)},i[r].l=1*new Date();a=s.createElement(o),\n",
    "  m=s.getElementsByTagName(o)[0];a.async=1;a.src=g;m.parentNode.insertBefore(a,m)\n",
    "  })(window,document,'script','//www.google-analytics.com/analytics.js','ga');\n",
    "\n",
    "  ga('create', 'UA-27761864-9', 'auto');\n",
    "  ga('send', 'pageview');\n",
    "</script>"
   ]
  }
 ],
 "metadata": {
  "celltoolbar": "Slideshow",
  "kernelspec": {
   "display_name": "Python 3",
   "language": "python",
   "name": "python3"
  },
  "language_info": {
   "codemirror_mode": {
    "name": "ipython",
    "version": 3
   },
   "file_extension": ".py",
   "mimetype": "text/x-python",
   "name": "python",
   "nbconvert_exporter": "python",
   "pygments_lexer": "ipython3",
   "version": "3.6.0"
  }
 },
 "nbformat": 4,
 "nbformat_minor": 0
}
