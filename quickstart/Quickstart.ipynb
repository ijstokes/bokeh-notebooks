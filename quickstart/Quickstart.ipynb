{
 "cells": [
  {
   "cell_type": "markdown",
   "metadata": {},
   "source": [
    "<img src=\"files/bokeh-transparent.png\" width=\"64px\" height=\"64px\">\n",
    "\n",
    "# Bokeh 5-minute Overview\n",
    "\n",
    "Bokeh is an interactive web visualization library for Python \n",
    "(and other languages). It provides d3-like novel graphics, over\n",
    "large datasets, all without requiring any knowledge of Javascript. It \n",
    "has a Matplotlib compatibility layer, and it works great with\n",
    "the IPython Notebook, but can also be used to generate standalone HTML.\n",
    "\n",
    "## Simple Example\n",
    "\n",
    "Here is a simple first example.  First we'll import the `bokeh.plotting`\n",
    "module, which defines the graphical functions and primitives."
   ]
  },
  {
   "cell_type": "code",
   "execution_count": 7,
   "metadata": {
    "collapsed": true
   },
   "outputs": [],
   "source": [
    "from bokeh.plotting import figure, output_notebook, show"
   ]
  },
  {
   "cell_type": "markdown",
   "metadata": {},
   "source": [
    "Next, we'll tell Bokeh to display its plots directly into the notebook.\n",
    "This will cause all of the Javascript and data to be embedded directly\n",
    "into the HTML of the notebook itself.\n",
    "(Bokeh can output straight to HTML files, or use a server, which we'll\n",
    "look at later.)"
   ]
  },
  {
   "cell_type": "code",
   "execution_count": 8,
   "metadata": {
    "collapsed": false
   },
   "outputs": [
    {
     "data": {
      "text/html": [
       "\n",
       "    <div class=\"bk-root\">\n",
       "        <a href=\"http://bokeh.pydata.org\" target=\"_blank\" class=\"bk-logo bk-logo-small bk-logo-notebook\"></a>\n",
       "        <span id=\"0ea9bc0f-16a0-4791-bf68-7beebc684a37\">Loading BokehJS ...</span>\n",
       "    </div>"
      ]
     },
     "metadata": {},
     "output_type": "display_data"
    },
    {
     "data": {
      "application/javascript": [
       "\n",
       "(function(global) {\n",
       "  function now() {\n",
       "    return new Date();\n",
       "  }\n",
       "\n",
       "  var force = true;\n",
       "\n",
       "  if (typeof (window._bokeh_onload_callbacks) === \"undefined\" || force === true) {\n",
       "    window._bokeh_onload_callbacks = [];\n",
       "    window._bokeh_is_loading = undefined;\n",
       "  }\n",
       "\n",
       "\n",
       "  \n",
       "  if (typeof (window._bokeh_timeout) === \"undefined\" || force === true) {\n",
       "    window._bokeh_timeout = Date.now() + 5000;\n",
       "    window._bokeh_failed_load = false;\n",
       "  }\n",
       "\n",
       "  var NB_LOAD_WARNING = {'data': {'text/html':\n",
       "     \"<div style='background-color: #fdd'>\\n\"+\n",
       "     \"<p>\\n\"+\n",
       "     \"BokehJS does not appear to have successfully loaded. If loading BokehJS from CDN, this \\n\"+\n",
       "     \"may be due to a slow or bad network connection. Possible fixes:\\n\"+\n",
       "     \"</p>\\n\"+\n",
       "     \"<ul>\\n\"+\n",
       "     \"<li>re-rerun `output_notebook()` to attempt to load from CDN again, or</li>\\n\"+\n",
       "     \"<li>use INLINE resources instead, as so:</li>\\n\"+\n",
       "     \"</ul>\\n\"+\n",
       "     \"<code>\\n\"+\n",
       "     \"from bokeh.resources import INLINE\\n\"+\n",
       "     \"output_notebook(resources=INLINE)\\n\"+\n",
       "     \"</code>\\n\"+\n",
       "     \"</div>\"}};\n",
       "\n",
       "  function display_loaded() {\n",
       "    if (window.Bokeh !== undefined) {\n",
       "      document.getElementById(\"0ea9bc0f-16a0-4791-bf68-7beebc684a37\").textContent = \"BokehJS successfully loaded.\";\n",
       "    } else if (Date.now() < window._bokeh_timeout) {\n",
       "      setTimeout(display_loaded, 100)\n",
       "    }\n",
       "  }\n",
       "\n",
       "  function run_callbacks() {\n",
       "    window._bokeh_onload_callbacks.forEach(function(callback) { callback() });\n",
       "    delete window._bokeh_onload_callbacks\n",
       "    console.info(\"Bokeh: all callbacks have finished\");\n",
       "  }\n",
       "\n",
       "  function load_libs(js_urls, callback) {\n",
       "    window._bokeh_onload_callbacks.push(callback);\n",
       "    if (window._bokeh_is_loading > 0) {\n",
       "      console.log(\"Bokeh: BokehJS is being loaded, scheduling callback at\", now());\n",
       "      return null;\n",
       "    }\n",
       "    if (js_urls == null || js_urls.length === 0) {\n",
       "      run_callbacks();\n",
       "      return null;\n",
       "    }\n",
       "    console.log(\"Bokeh: BokehJS not loaded, scheduling load and callback at\", now());\n",
       "    window._bokeh_is_loading = js_urls.length;\n",
       "    for (var i = 0; i < js_urls.length; i++) {\n",
       "      var url = js_urls[i];\n",
       "      var s = document.createElement('script');\n",
       "      s.src = url;\n",
       "      s.async = false;\n",
       "      s.onreadystatechange = s.onload = function() {\n",
       "        window._bokeh_is_loading--;\n",
       "        if (window._bokeh_is_loading === 0) {\n",
       "          console.log(\"Bokeh: all BokehJS libraries loaded\");\n",
       "          run_callbacks()\n",
       "        }\n",
       "      };\n",
       "      s.onerror = function() {\n",
       "        console.warn(\"failed to load library \" + url);\n",
       "      };\n",
       "      console.log(\"Bokeh: injecting script tag for BokehJS library: \", url);\n",
       "      document.getElementsByTagName(\"head\")[0].appendChild(s);\n",
       "    }\n",
       "  };var element = document.getElementById(\"0ea9bc0f-16a0-4791-bf68-7beebc684a37\");\n",
       "  if (element == null) {\n",
       "    console.log(\"Bokeh: ERROR: autoload.js configured with elementid '0ea9bc0f-16a0-4791-bf68-7beebc684a37' but no matching script tag was found. \")\n",
       "    return false;\n",
       "  }\n",
       "\n",
       "  var js_urls = [\"https://cdn.pydata.org/bokeh/release/bokeh-0.12.4.min.js\", \"https://cdn.pydata.org/bokeh/release/bokeh-widgets-0.12.4.min.js\"];\n",
       "\n",
       "  var inline_js = [\n",
       "    function(Bokeh) {\n",
       "      Bokeh.set_log_level(\"info\");\n",
       "    },\n",
       "    \n",
       "    function(Bokeh) {\n",
       "      \n",
       "      document.getElementById(\"0ea9bc0f-16a0-4791-bf68-7beebc684a37\").textContent = \"BokehJS is loading...\";\n",
       "    },\n",
       "    function(Bokeh) {\n",
       "      console.log(\"Bokeh: injecting CSS: https://cdn.pydata.org/bokeh/release/bokeh-0.12.4.min.css\");\n",
       "      Bokeh.embed.inject_css(\"https://cdn.pydata.org/bokeh/release/bokeh-0.12.4.min.css\");\n",
       "      console.log(\"Bokeh: injecting CSS: https://cdn.pydata.org/bokeh/release/bokeh-widgets-0.12.4.min.css\");\n",
       "      Bokeh.embed.inject_css(\"https://cdn.pydata.org/bokeh/release/bokeh-widgets-0.12.4.min.css\");\n",
       "    }\n",
       "  ];\n",
       "\n",
       "  function run_inline_js() {\n",
       "    \n",
       "    if ((window.Bokeh !== undefined) || (force === true)) {\n",
       "      for (var i = 0; i < inline_js.length; i++) {\n",
       "        inline_js[i](window.Bokeh);\n",
       "      }if (force === true) {\n",
       "        display_loaded();\n",
       "      }} else if (Date.now() < window._bokeh_timeout) {\n",
       "      setTimeout(run_inline_js, 100);\n",
       "    } else if (!window._bokeh_failed_load) {\n",
       "      console.log(\"Bokeh: BokehJS failed to load within specified timeout.\");\n",
       "      window._bokeh_failed_load = true;\n",
       "    } else if (force !== true) {\n",
       "      var cell = $(document.getElementById(\"0ea9bc0f-16a0-4791-bf68-7beebc684a37\")).parents('.cell').data().cell;\n",
       "      cell.output_area.append_execute_result(NB_LOAD_WARNING)\n",
       "    }\n",
       "\n",
       "  }\n",
       "\n",
       "  if (window._bokeh_is_loading === 0) {\n",
       "    console.log(\"Bokeh: BokehJS loaded, going straight to plotting\");\n",
       "    run_inline_js();\n",
       "  } else {\n",
       "    load_libs(js_urls, function() {\n",
       "      console.log(\"Bokeh: BokehJS plotting callback run at\", now());\n",
       "      run_inline_js();\n",
       "    });\n",
       "  }\n",
       "}(this));"
      ]
     },
     "metadata": {},
     "output_type": "display_data"
    }
   ],
   "source": [
    "output_notebook()"
   ]
  },
  {
   "cell_type": "markdown",
   "metadata": {},
   "source": [
    "Next, we'll import NumPy and create some simple data."
   ]
  },
  {
   "cell_type": "code",
   "execution_count": 12,
   "metadata": {
    "collapsed": false
   },
   "outputs": [],
   "source": [
    "from numpy import cos, sin, linspace, random\n",
    "x = linspace(-6, 6, 100)\n",
    "y = cos(x) + 0.2*random.randn(100)"
   ]
  },
  {
   "cell_type": "markdown",
   "metadata": {},
   "source": [
    "Now we'll call Bokeh's `circle()` function to render a red circle at\n",
    "each of the points in x and y.\n",
    "\n",
    "We can immediately interact with the plot:\n",
    "\n",
    "  * click-drag will pan the plot around.\n",
    "  * mousewheel will zoom in and out\n",
    "  \n",
    "(The toolbar is simply a default one that is available for all plots;\n",
    "this can be configured dynamically via the `tools` keyword argument.)"
   ]
  },
  {
   "cell_type": "code",
   "execution_count": 13,
   "metadata": {
    "collapsed": false
   },
   "outputs": [
    {
     "data": {
      "text/html": [
       "\n",
       "\n",
       "    <div class=\"bk-root\">\n",
       "        <div class=\"bk-plotdiv\" id=\"0b50cd2b-a88d-435e-9304-30a40773c8dd\"></div>\n",
       "    </div>\n",
       "<script type=\"text/javascript\">\n",
       "  \n",
       "  (function(global) {\n",
       "    function now() {\n",
       "      return new Date();\n",
       "    }\n",
       "  \n",
       "    var force = false;\n",
       "  \n",
       "    if (typeof (window._bokeh_onload_callbacks) === \"undefined\" || force === true) {\n",
       "      window._bokeh_onload_callbacks = [];\n",
       "      window._bokeh_is_loading = undefined;\n",
       "    }\n",
       "  \n",
       "  \n",
       "    \n",
       "    if (typeof (window._bokeh_timeout) === \"undefined\" || force === true) {\n",
       "      window._bokeh_timeout = Date.now() + 0;\n",
       "      window._bokeh_failed_load = false;\n",
       "    }\n",
       "  \n",
       "    var NB_LOAD_WARNING = {'data': {'text/html':\n",
       "       \"<div style='background-color: #fdd'>\\n\"+\n",
       "       \"<p>\\n\"+\n",
       "       \"BokehJS does not appear to have successfully loaded. If loading BokehJS from CDN, this \\n\"+\n",
       "       \"may be due to a slow or bad network connection. Possible fixes:\\n\"+\n",
       "       \"</p>\\n\"+\n",
       "       \"<ul>\\n\"+\n",
       "       \"<li>re-rerun `output_notebook()` to attempt to load from CDN again, or</li>\\n\"+\n",
       "       \"<li>use INLINE resources instead, as so:</li>\\n\"+\n",
       "       \"</ul>\\n\"+\n",
       "       \"<code>\\n\"+\n",
       "       \"from bokeh.resources import INLINE\\n\"+\n",
       "       \"output_notebook(resources=INLINE)\\n\"+\n",
       "       \"</code>\\n\"+\n",
       "       \"</div>\"}};\n",
       "  \n",
       "    function display_loaded() {\n",
       "      if (window.Bokeh !== undefined) {\n",
       "        document.getElementById(\"0b50cd2b-a88d-435e-9304-30a40773c8dd\").textContent = \"BokehJS successfully loaded.\";\n",
       "      } else if (Date.now() < window._bokeh_timeout) {\n",
       "        setTimeout(display_loaded, 100)\n",
       "      }\n",
       "    }\n",
       "  \n",
       "    function run_callbacks() {\n",
       "      window._bokeh_onload_callbacks.forEach(function(callback) { callback() });\n",
       "      delete window._bokeh_onload_callbacks\n",
       "      console.info(\"Bokeh: all callbacks have finished\");\n",
       "    }\n",
       "  \n",
       "    function load_libs(js_urls, callback) {\n",
       "      window._bokeh_onload_callbacks.push(callback);\n",
       "      if (window._bokeh_is_loading > 0) {\n",
       "        console.log(\"Bokeh: BokehJS is being loaded, scheduling callback at\", now());\n",
       "        return null;\n",
       "      }\n",
       "      if (js_urls == null || js_urls.length === 0) {\n",
       "        run_callbacks();\n",
       "        return null;\n",
       "      }\n",
       "      console.log(\"Bokeh: BokehJS not loaded, scheduling load and callback at\", now());\n",
       "      window._bokeh_is_loading = js_urls.length;\n",
       "      for (var i = 0; i < js_urls.length; i++) {\n",
       "        var url = js_urls[i];\n",
       "        var s = document.createElement('script');\n",
       "        s.src = url;\n",
       "        s.async = false;\n",
       "        s.onreadystatechange = s.onload = function() {\n",
       "          window._bokeh_is_loading--;\n",
       "          if (window._bokeh_is_loading === 0) {\n",
       "            console.log(\"Bokeh: all BokehJS libraries loaded\");\n",
       "            run_callbacks()\n",
       "          }\n",
       "        };\n",
       "        s.onerror = function() {\n",
       "          console.warn(\"failed to load library \" + url);\n",
       "        };\n",
       "        console.log(\"Bokeh: injecting script tag for BokehJS library: \", url);\n",
       "        document.getElementsByTagName(\"head\")[0].appendChild(s);\n",
       "      }\n",
       "    };var element = document.getElementById(\"0b50cd2b-a88d-435e-9304-30a40773c8dd\");\n",
       "    if (element == null) {\n",
       "      console.log(\"Bokeh: ERROR: autoload.js configured with elementid '0b50cd2b-a88d-435e-9304-30a40773c8dd' but no matching script tag was found. \")\n",
       "      return false;\n",
       "    }\n",
       "  \n",
       "    var js_urls = [];\n",
       "  \n",
       "    var inline_js = [\n",
       "      function(Bokeh) {\n",
       "        (function() {\n",
       "          var fn = function() {\n",
       "            var docs_json = {\"71a09558-2839-4ded-a0c4-327337e54efc\":{\"roots\":{\"references\":[{\"attributes\":{\"plot\":{\"id\":\"b7ac94ca-58bd-4090-a638-d524c79e6ada\",\"subtype\":\"Figure\",\"type\":\"Plot\"}},\"id\":\"edf0ed19-d80f-4f16-a215-e68fa78caf82\",\"type\":\"ResetTool\"},{\"attributes\":{\"plot\":{\"id\":\"b7ac94ca-58bd-4090-a638-d524c79e6ada\",\"subtype\":\"Figure\",\"type\":\"Plot\"}},\"id\":\"88498309-c2f2-4322-874c-c30d42885f93\",\"type\":\"HelpTool\"},{\"attributes\":{},\"id\":\"0d5e5468-09d0-4cba-a260-514807fe7d6c\",\"type\":\"BasicTickFormatter\"},{\"attributes\":{\"data_source\":{\"id\":\"1a7538bd-3de7-4c4d-b583-2f16945ba921\",\"type\":\"ColumnDataSource\"},\"glyph\":{\"id\":\"91b8c099-d051-4c25-8837-a17c2bf817e6\",\"type\":\"Triangle\"},\"hover_glyph\":null,\"nonselection_glyph\":{\"id\":\"34052b73-517b-4edb-a709-0851549c7d9c\",\"type\":\"Triangle\"},\"selection_glyph\":null},\"id\":\"4a111255-242e-49f6-8a2f-60dc5a9a12be\",\"type\":\"GlyphRenderer\"},{\"attributes\":{\"fill_alpha\":{\"value\":0.1},\"fill_color\":{\"value\":\"#1f77b4\"},\"line_alpha\":{\"value\":0.1},\"line_color\":{\"value\":\"#1f77b4\"},\"size\":{\"units\":\"screen\",\"value\":7},\"x\":{\"field\":\"x\"},\"y\":{\"field\":\"y\"}},\"id\":\"34052b73-517b-4edb-a709-0851549c7d9c\",\"type\":\"Triangle\"},{\"attributes\":{\"fill_alpha\":{\"value\":0.5},\"fill_color\":{\"value\":\"blue\"},\"line_alpha\":{\"value\":0.5},\"line_color\":{\"value\":\"blue\"},\"size\":{\"units\":\"screen\",\"value\":7},\"x\":{\"field\":\"x\"},\"y\":{\"field\":\"y\"}},\"id\":\"91b8c099-d051-4c25-8837-a17c2bf817e6\",\"type\":\"Triangle\"},{\"attributes\":{\"below\":[{\"id\":\"3f7523bf-6096-48db-a51c-af5194d94022\",\"type\":\"LinearAxis\"}],\"left\":[{\"id\":\"afc30076-294f-4127-8c38-95fffc87a194\",\"type\":\"LinearAxis\"}],\"plot_height\":300,\"renderers\":[{\"id\":\"3f7523bf-6096-48db-a51c-af5194d94022\",\"type\":\"LinearAxis\"},{\"id\":\"101612fd-78bb-4059-a1c3-5011bc39ca0a\",\"type\":\"Grid\"},{\"id\":\"afc30076-294f-4127-8c38-95fffc87a194\",\"type\":\"LinearAxis\"},{\"id\":\"84dfc09f-9d21-42d3-8db4-17b0f7880621\",\"type\":\"Grid\"},{\"id\":\"e80efd69-2edf-4d91-9bc5-ce2418eca21d\",\"type\":\"BoxAnnotation\"},{\"id\":\"6f0d27ad-689f-4167-86c5-2bd880bc85a2\",\"type\":\"GlyphRenderer\"},{\"id\":\"4a111255-242e-49f6-8a2f-60dc5a9a12be\",\"type\":\"GlyphRenderer\"}],\"title\":{\"id\":\"f4f338cf-26d4-44d3-b571-daca64806928\",\"type\":\"Title\"},\"tool_events\":{\"id\":\"63fa4dcf-9f05-460a-96e5-5cb649208a4e\",\"type\":\"ToolEvents\"},\"toolbar\":{\"id\":\"8413a8a3-b331-480b-9ed6-b54068ba7d9f\",\"type\":\"Toolbar\"},\"x_range\":{\"id\":\"c10028e6-0b20-4062-9949-5f892dcf8f13\",\"type\":\"DataRange1d\"},\"y_range\":{\"id\":\"44090c76-5f6f-481d-a59b-7591604261ec\",\"type\":\"DataRange1d\"}},\"id\":\"b7ac94ca-58bd-4090-a638-d524c79e6ada\",\"subtype\":\"Figure\",\"type\":\"Plot\"},{\"attributes\":{\"plot\":null,\"text\":\"\"},\"id\":\"f4f338cf-26d4-44d3-b571-daca64806928\",\"type\":\"Title\"},{\"attributes\":{\"callback\":null,\"column_names\":[\"x\",\"y\"],\"data\":{\"x\":{\"__ndarray__\":\"AAAAAAAAGMCEDz744IMXwAgffPDBBxfAjC666KKLFsAQPvjggw8WwJNNNtlkkxXAF1100UUXFcCbbLLJJpsUwB988MEHHxTAo4suuuiiE8Anm2yyySYTwKqqqqqqqhLALrrooosuEsCyySabbLIRwDbZZJNNNhHAuuiiiy66EMA++OCDDz4QwIQPPvjggw/AjC666KKLDsCTTTbZZJMNwJtssskmmwzAo4suuuiiC8CqqqqqqqoKwLLJJptssgnAuuiiiy66CMDCBx988MEHwMomm2yyyQbA0UUXXXTRBcDZZJNNNtkEwOGDDz744APA6KKLLrroAsDwwQcffPABwPjggw8++ADAAAAAAAAAAMAQPvjggw/+vyB88MEHH/y/MLrooosu+r88+OCDDz74v0w22WSTTfa/XHTRRRdd9L9ssskmm2zyv3zwwQcffPC/GF100UUX7b842WSTTTbpv1BVVVVVVeW/cNFFF1104b8gm2yyySbbv2CTTTbZZNO/QBdddNFFx78AH3zwwQevvwAffPDBB68/QBdddNFFxz9gk0022WTTPzCbbLLJJts/eNFFF1104T9YVVVVVVXlPzjZZJNNNuk/GF100UUX7T988MEHH3zwP2yyySabbPI/YHTRRRdd9D9QNtlkk032P0D44IMPPvg/MLrooosu+j8gfPDBBx/8PxA++OCDD/4/AAAAAAAAAED44IMPPvgAQPDBBx988AFA6KKLLrroAkDggw8++OADQNhkk0022QRA0EUXXXTRBUDMJptssskGQMQHH3zwwQdAvOiiiy66CEC0ySabbLIJQKyqqqqqqgpApIsuuuiiC0CcbLLJJpsMQJRNNtlkkw1AjC666KKLDkCEDz744IMPQD744IMPPhBAuuiiiy66EEA22WSTTTYRQLLJJptsshFALrrooosuEkCsqqqqqqoSQCibbLLJJhNApIsuuuiiE0AgfPDBBx8UQJxssskmmxRAGF100UUXFUCUTTbZZJMVQBA++OCDDxZAjC666KKLFkAIH3zwwQcXQIQPPvjggxdAAAAAAAAAGEA=\",\"dtype\":\"float64\",\"shape\":[100]},\"y\":{\"__ndarray__\":\"jDIGFLL86z/GLOeoANTzP9dvHNB3Iu0/fpMtWgXc8j9NzvY1DendP7YMkPcaZ+w/kXjy5I9Q2z/qeU4iXP7eP9CXY2iTaeQ/f7vCMXlUxD900oR51kDLP1LEO6OtMZA/C/PDDeQct79TjUhadSTkv+v2vSBiQ9m/N/3K4kfj1r95aPRD/Lzkv3HBLpMNaOK/L2sE+iXN5L/anLb2tXXnv0CXXmqtbee/Pp9Y5d2S4r9nOk/enSDuv7/ycjUx6O+/HQN8A41d8784Een2eznqvzK+HJUlj/C/mD0KgkCa8L9wfeFNCYPtvxVRRFjUsea/xPdxonTk8L/K7z/o9IDbvx5ix5hrks6/ZA8GVU3X1r/iXWH3OrjVv0r/XR6rWMm/5nVa0mJB1r+uTrcyCPDAv2rRc9c4r88/b3+aW8vu0D/FpZKODP/bP3Sclh8wMts/uMW0lYdv4z9oDLAbp9+9P5ybb7dasu4/IvE0OI7w7T+ZKL6mHc/rP01L4dkfKfA/szyw9o8e8T8FXntwjFnwPxd4x3xwoe0/yr11Ih925T/V5BliJb3rP3pFrVLgGvU/dyksV6l35D+7dyhrRUzjPzDvIM2N8+M/JLW6P0yV3z9LJep3oAraP5XJF+1yEtY/txwcgZM10T88lG73PIDSP+fCdgUbIsw/M2BlZTr9t7/38yIRczLIv7SEHMmCC+O/nZlKYb7r4r9jcoH2dd7hv9fw16+DUOq/sOgDDTTU5L/5birXa+bhv95xDq5ug+W/Oxazv5co8L+KV+V+0UbyvzSC1AhoTfC/b/MGljzY8L+6js3Gn2Twvx1UIzH+Uei/ukIem4VP4L8dXlk1cfTnv2tAbNM2beu/sGRFRA+N7L9yOhCFPXnlv3oRnkM+0ea/jaAOy7H35r9Z0Oxchu3YvwtEJcaUY8K/zS6CWtN50L8xPxB2ooLUv/Qho7aHH7E/OlvIf0tV1j8t+JQoCojRPwBpat9XgZq/hGkTLEQO1T+CCzDQ23fdPxSLq+JbPOE/qGtYoAcx7j+9WqTnzqLwP15tINaQ3uc/BUex5SkB9D8=\",\"dtype\":\"float64\",\"shape\":[100]}}},\"id\":\"ba5d3b72-02e2-47d2-9c43-df7e1f526f00\",\"type\":\"ColumnDataSource\"},{\"attributes\":{},\"id\":\"63fa4dcf-9f05-460a-96e5-5cb649208a4e\",\"type\":\"ToolEvents\"},{\"attributes\":{\"callback\":null},\"id\":\"c10028e6-0b20-4062-9949-5f892dcf8f13\",\"type\":\"DataRange1d\"},{\"attributes\":{\"active_drag\":\"auto\",\"active_scroll\":\"auto\",\"active_tap\":\"auto\",\"tools\":[{\"id\":\"c2d2093b-4b91-48ad-8a6e-e86f700174f1\",\"type\":\"PanTool\"},{\"id\":\"7dc11017-56b4-421a-9b59-b92a5b1c7a5c\",\"type\":\"WheelZoomTool\"},{\"id\":\"faff9f8d-3e03-4c96-b6f8-a7afad107d52\",\"type\":\"BoxZoomTool\"},{\"id\":\"60b4f6fe-ef9f-4d13-9e1b-375559c154f5\",\"type\":\"SaveTool\"},{\"id\":\"edf0ed19-d80f-4f16-a215-e68fa78caf82\",\"type\":\"ResetTool\"},{\"id\":\"88498309-c2f2-4322-874c-c30d42885f93\",\"type\":\"HelpTool\"}]},\"id\":\"8413a8a3-b331-480b-9ed6-b54068ba7d9f\",\"type\":\"Toolbar\"},{\"attributes\":{\"fill_alpha\":{\"value\":0.1},\"fill_color\":{\"value\":\"#1f77b4\"},\"line_alpha\":{\"value\":0.1},\"line_color\":{\"value\":\"#1f77b4\"},\"size\":{\"units\":\"screen\",\"value\":7},\"x\":{\"field\":\"x\"},\"y\":{\"field\":\"y\"}},\"id\":\"90106675-8504-430a-8317-7dd65625f4f1\",\"type\":\"Circle\"},{\"attributes\":{\"callback\":null},\"id\":\"44090c76-5f6f-481d-a59b-7591604261ec\",\"type\":\"DataRange1d\"},{\"attributes\":{\"formatter\":{\"id\":\"b4a36139-15eb-498b-ac66-578a23094184\",\"type\":\"BasicTickFormatter\"},\"plot\":{\"id\":\"b7ac94ca-58bd-4090-a638-d524c79e6ada\",\"subtype\":\"Figure\",\"type\":\"Plot\"},\"ticker\":{\"id\":\"2228f9d0-81ec-4eae-96f2-420fd96e4342\",\"type\":\"BasicTicker\"}},\"id\":\"3f7523bf-6096-48db-a51c-af5194d94022\",\"type\":\"LinearAxis\"},{\"attributes\":{},\"id\":\"2228f9d0-81ec-4eae-96f2-420fd96e4342\",\"type\":\"BasicTicker\"},{\"attributes\":{\"plot\":{\"id\":\"b7ac94ca-58bd-4090-a638-d524c79e6ada\",\"subtype\":\"Figure\",\"type\":\"Plot\"},\"ticker\":{\"id\":\"2228f9d0-81ec-4eae-96f2-420fd96e4342\",\"type\":\"BasicTicker\"}},\"id\":\"101612fd-78bb-4059-a1c3-5011bc39ca0a\",\"type\":\"Grid\"},{\"attributes\":{\"formatter\":{\"id\":\"0d5e5468-09d0-4cba-a260-514807fe7d6c\",\"type\":\"BasicTickFormatter\"},\"plot\":{\"id\":\"b7ac94ca-58bd-4090-a638-d524c79e6ada\",\"subtype\":\"Figure\",\"type\":\"Plot\"},\"ticker\":{\"id\":\"08048e29-0bb5-48b7-a2f0-794cda75e851\",\"type\":\"BasicTicker\"}},\"id\":\"afc30076-294f-4127-8c38-95fffc87a194\",\"type\":\"LinearAxis\"},{\"attributes\":{},\"id\":\"08048e29-0bb5-48b7-a2f0-794cda75e851\",\"type\":\"BasicTicker\"},{\"attributes\":{\"dimension\":1,\"plot\":{\"id\":\"b7ac94ca-58bd-4090-a638-d524c79e6ada\",\"subtype\":\"Figure\",\"type\":\"Plot\"},\"ticker\":{\"id\":\"08048e29-0bb5-48b7-a2f0-794cda75e851\",\"type\":\"BasicTicker\"}},\"id\":\"84dfc09f-9d21-42d3-8db4-17b0f7880621\",\"type\":\"Grid\"},{\"attributes\":{\"data_source\":{\"id\":\"ba5d3b72-02e2-47d2-9c43-df7e1f526f00\",\"type\":\"ColumnDataSource\"},\"glyph\":{\"id\":\"033a4321-9b81-46d0-a700-4594ad9d8d9d\",\"type\":\"Circle\"},\"hover_glyph\":null,\"nonselection_glyph\":{\"id\":\"90106675-8504-430a-8317-7dd65625f4f1\",\"type\":\"Circle\"},\"selection_glyph\":null},\"id\":\"6f0d27ad-689f-4167-86c5-2bd880bc85a2\",\"type\":\"GlyphRenderer\"},{\"attributes\":{\"fill_alpha\":{\"value\":0.5},\"fill_color\":{\"value\":\"firebrick\"},\"line_alpha\":{\"value\":0.5},\"line_color\":{\"value\":\"firebrick\"},\"size\":{\"units\":\"screen\",\"value\":7},\"x\":{\"field\":\"x\"},\"y\":{\"field\":\"y\"}},\"id\":\"033a4321-9b81-46d0-a700-4594ad9d8d9d\",\"type\":\"Circle\"},{\"attributes\":{\"callback\":null,\"column_names\":[\"x\",\"y\"],\"data\":{\"x\":{\"__ndarray__\":\"AAAAAAAAGMCEDz744IMXwAgffPDBBxfAjC666KKLFsAQPvjggw8WwJNNNtlkkxXAF1100UUXFcCbbLLJJpsUwB988MEHHxTAo4suuuiiE8Anm2yyySYTwKqqqqqqqhLALrrooosuEsCyySabbLIRwDbZZJNNNhHAuuiiiy66EMA++OCDDz4QwIQPPvjggw/AjC666KKLDsCTTTbZZJMNwJtssskmmwzAo4suuuiiC8CqqqqqqqoKwLLJJptssgnAuuiiiy66CMDCBx988MEHwMomm2yyyQbA0UUXXXTRBcDZZJNNNtkEwOGDDz744APA6KKLLrroAsDwwQcffPABwPjggw8++ADAAAAAAAAAAMAQPvjggw/+vyB88MEHH/y/MLrooosu+r88+OCDDz74v0w22WSTTfa/XHTRRRdd9L9ssskmm2zyv3zwwQcffPC/GF100UUX7b842WSTTTbpv1BVVVVVVeW/cNFFF1104b8gm2yyySbbv2CTTTbZZNO/QBdddNFFx78AH3zwwQevvwAffPDBB68/QBdddNFFxz9gk0022WTTPzCbbLLJJts/eNFFF1104T9YVVVVVVXlPzjZZJNNNuk/GF100UUX7T988MEHH3zwP2yyySabbPI/YHTRRRdd9D9QNtlkk032P0D44IMPPvg/MLrooosu+j8gfPDBBx/8PxA++OCDD/4/AAAAAAAAAED44IMPPvgAQPDBBx988AFA6KKLLrroAkDggw8++OADQNhkk0022QRA0EUXXXTRBUDMJptssskGQMQHH3zwwQdAvOiiiy66CEC0ySabbLIJQKyqqqqqqgpApIsuuuiiC0CcbLLJJpsMQJRNNtlkkw1AjC666KKLDkCEDz744IMPQD744IMPPhBAuuiiiy66EEA22WSTTTYRQLLJJptsshFALrrooosuEkCsqqqqqqoSQCibbLLJJhNApIsuuuiiE0AgfPDBBx8UQJxssskmmxRAGF100UUXFUCUTTbZZJMVQBA++OCDDxZAjC666KKLFkAIH3zwwQcXQIQPPvjggxdAAAAAAAAAGEA=\",\"dtype\":\"float64\",\"shape\":[100]},\"y\":{\"__ndarray__\":\"ZgOwMwKT0D9RnConAX7WP6Ce/8bekuQ/SqNQGsX94T8YKAuBaxjvPw1gVhuknO4/PIQgFXpJ6j/129uSqKbnP2oREJJ+H+0/lnX3f0sa8D+jyQnmKFrrP7T93+oH1O0/D7KNtYWe7T8XzM2umwjwPyRdFYvIM+4/0/yKeq/b6T88eo8wu2fnP10OxH24jOY/PL9/FGwN5T9YW9YkkAngPyYN+qaqEt0/6gx3SN52yz/6HtdmrN/TP5+COkjpYLo/ZLiVD39wur9st4okZhavvypIJWvYcca/audI1jqXz78uFDd37u7YvywYhygLY9+/Dq5+KfEZ4r9jtMxYopXkv5DiR77jEOy/Of7UzrPB6r8bpqh5z03qv8Rmp8mViey/Whw0Wh1t8b/kf5TYUSjyvy6WDorzB+y/pm77VX3y8L/LLnhaov7tv3DNp5iGbOq/0NqkQkHZ6b8IxW0Mie/nv1YV4oPB7+K//0Pkl2Z44b+ENcvKv9TdvxZJeRxkAdu/IcsgvdZyy7/qADk4dM7Cv8ADusNTcWK/PbqWg2p8wD9q4789IUrTPwbmfv9uhNI/33/oaR2M2j/iblXRGd3iPzKHmKs+heE/D5Nea0ZM5T9wHcanPyDvP7606h0gceg/2RoEi8bJ7D8w9EyTJejpPz6I43i6gfM/LEEaS5G18D/gQv8VReLrP5F3C8ropu4/NtINiAbj5j9VRw8toJHqP8cq84O9GOg/b5kedVt66T/BbM7hbFDjPyR2H2w8udQ/+l9107ti3z9AOSiqFRraPyIH4/vEVNM/pGh0RO1RpD+CycK5vHW/P9SSQcgXwcG/Vvcxvo7D3L+EkXnOkUfkv/r63Dhvv96/Pt7Qll0C3783Hk2n7v7nvyn250ubYOm/pKU8C9S77r+ihQraAhPtv/gl9orHoO+/7FDiFjGV8L+8dM1LJRXsv8lAMIwOEvK/BOJqJtIo7b/obwgFFFvtv9PVcjyk5ei/yOFsOqiG6r9jWNhWOGfkv6JOSQSa4eO/VDLgJOxp5b+gqVdKM6rhvxsJUzZZ/NG/GClvY58t178=\",\"dtype\":\"float64\",\"shape\":[100]}}},\"id\":\"1a7538bd-3de7-4c4d-b583-2f16945ba921\",\"type\":\"ColumnDataSource\"},{\"attributes\":{\"bottom_units\":\"screen\",\"fill_alpha\":{\"value\":0.5},\"fill_color\":{\"value\":\"lightgrey\"},\"left_units\":\"screen\",\"level\":\"overlay\",\"line_alpha\":{\"value\":1.0},\"line_color\":{\"value\":\"black\"},\"line_dash\":[4,4],\"line_width\":{\"value\":2},\"plot\":null,\"render_mode\":\"css\",\"right_units\":\"screen\",\"top_units\":\"screen\"},\"id\":\"e80efd69-2edf-4d91-9bc5-ce2418eca21d\",\"type\":\"BoxAnnotation\"},{\"attributes\":{\"plot\":{\"id\":\"b7ac94ca-58bd-4090-a638-d524c79e6ada\",\"subtype\":\"Figure\",\"type\":\"Plot\"}},\"id\":\"c2d2093b-4b91-48ad-8a6e-e86f700174f1\",\"type\":\"PanTool\"},{\"attributes\":{},\"id\":\"b4a36139-15eb-498b-ac66-578a23094184\",\"type\":\"BasicTickFormatter\"},{\"attributes\":{\"plot\":{\"id\":\"b7ac94ca-58bd-4090-a638-d524c79e6ada\",\"subtype\":\"Figure\",\"type\":\"Plot\"}},\"id\":\"7dc11017-56b4-421a-9b59-b92a5b1c7a5c\",\"type\":\"WheelZoomTool\"},{\"attributes\":{\"overlay\":{\"id\":\"e80efd69-2edf-4d91-9bc5-ce2418eca21d\",\"type\":\"BoxAnnotation\"},\"plot\":{\"id\":\"b7ac94ca-58bd-4090-a638-d524c79e6ada\",\"subtype\":\"Figure\",\"type\":\"Plot\"}},\"id\":\"faff9f8d-3e03-4c96-b6f8-a7afad107d52\",\"type\":\"BoxZoomTool\"},{\"attributes\":{\"plot\":{\"id\":\"b7ac94ca-58bd-4090-a638-d524c79e6ada\",\"subtype\":\"Figure\",\"type\":\"Plot\"}},\"id\":\"60b4f6fe-ef9f-4d13-9e1b-375559c154f5\",\"type\":\"SaveTool\"}],\"root_ids\":[\"b7ac94ca-58bd-4090-a638-d524c79e6ada\"]},\"title\":\"Bokeh Application\",\"version\":\"0.12.4\"}};\n",
       "            var render_items = [{\"docid\":\"71a09558-2839-4ded-a0c4-327337e54efc\",\"elementid\":\"0b50cd2b-a88d-435e-9304-30a40773c8dd\",\"modelid\":\"b7ac94ca-58bd-4090-a638-d524c79e6ada\"}];\n",
       "            \n",
       "            Bokeh.embed.embed_items(docs_json, render_items);\n",
       "          };\n",
       "          if (document.readyState != \"loading\") fn();\n",
       "          else document.addEventListener(\"DOMContentLoaded\", fn);\n",
       "        })();\n",
       "      },\n",
       "      function(Bokeh) {\n",
       "      }\n",
       "    ];\n",
       "  \n",
       "    function run_inline_js() {\n",
       "      \n",
       "      if ((window.Bokeh !== undefined) || (force === true)) {\n",
       "        for (var i = 0; i < inline_js.length; i++) {\n",
       "          inline_js[i](window.Bokeh);\n",
       "        }if (force === true) {\n",
       "          display_loaded();\n",
       "        }} else if (Date.now() < window._bokeh_timeout) {\n",
       "        setTimeout(run_inline_js, 100);\n",
       "      } else if (!window._bokeh_failed_load) {\n",
       "        console.log(\"Bokeh: BokehJS failed to load within specified timeout.\");\n",
       "        window._bokeh_failed_load = true;\n",
       "      } else if (force !== true) {\n",
       "        var cell = $(document.getElementById(\"0b50cd2b-a88d-435e-9304-30a40773c8dd\")).parents('.cell').data().cell;\n",
       "        cell.output_area.append_execute_result(NB_LOAD_WARNING)\n",
       "      }\n",
       "  \n",
       "    }\n",
       "  \n",
       "    if (window._bokeh_is_loading === 0) {\n",
       "      console.log(\"Bokeh: BokehJS loaded, going straight to plotting\");\n",
       "      run_inline_js();\n",
       "    } else {\n",
       "      load_libs(js_urls, function() {\n",
       "        console.log(\"Bokeh: BokehJS plotting callback run at\", now());\n",
       "        run_inline_js();\n",
       "      });\n",
       "    }\n",
       "  }(this));\n",
       "</script>"
      ]
     },
     "metadata": {},
     "output_type": "display_data"
    }
   ],
   "source": [
    "p = figure(width=600, height=300)\n",
    "p.circle(x, y, size=7, color=\"firebrick\", alpha=0.5)\n",
    "show(p)"
   ]
  },
  {
   "cell_type": "markdown",
   "metadata": {},
   "source": [
    "# Bar Plot Example\n",
    "\n",
    "\n",
    "Bokeh's core display model relies on *composing graphical primitives* which\n",
    "are bound to data series.  This is similar in spirit to Protovis and D3,\n",
    "and different than most other Python plotting libraries (except for perhaps\n",
    "Vincent and other, newer libraries).\n",
    "\n",
    "A slightly more sophisticated example demonstrates this idea.\n",
    "\n",
    "Bokeh ships with a small set of interesting \"sample data\" in the `bokeh.sampledata`\n",
    "package.  We'll load up some historical automobile mileage data, which is returned\n",
    "as a Pandas `DataFrame`."
   ]
  },
  {
   "cell_type": "code",
   "execution_count": null,
   "metadata": {
    "collapsed": true
   },
   "outputs": [],
   "source": [
    "from bokeh.sampledata.autompg import autompg\n",
    "from numpy import array\n",
    "\n",
    "grouped = autompg.groupby(\"yr\")\n",
    "mpg = grouped[\"mpg\"]\n",
    "avg = mpg.mean()\n",
    "std = mpg.std()\n",
    "years = array(list(grouped.groups.keys()))\n",
    "american = autompg[autompg[\"origin\"]==1]\n",
    "japanese = autompg[autompg[\"origin\"]==3]"
   ]
  },
  {
   "cell_type": "markdown",
   "metadata": {},
   "source": [
    "For each year, we want to plot the distribution of MPG within that year."
   ]
  },
  {
   "cell_type": "code",
   "execution_count": null,
   "metadata": {
    "collapsed": false
   },
   "outputs": [],
   "source": [
    "p = figure()\n",
    "\n",
    "p.quad(left=years-0.4, right=years+0.4, bottom=avg-std, top=avg+std, fill_alpha=0.4)\n",
    "\n",
    "p.circle(x=japanese[\"yr\"], y=japanese[\"mpg\"], size=8,\n",
    "         alpha=0.4, line_color=\"red\", fill_color=None, line_width=2)\n",
    "\n",
    "p.triangle(x=american[\"yr\"], y=american[\"mpg\"], size=8, \n",
    "           alpha=0.4, line_color=\"blue\", fill_color=None, line_width=2)\n",
    "\n",
    "show(p)"
   ]
  },
  {
   "cell_type": "markdown",
   "metadata": {},
   "source": [
    "This kind of approach can be used to generate other kinds of interesting plots, like some of the following which are available on the [Bokeh web page](http://bokeh.pydata.org/en/latest).  \n",
    "\n",
    "*(Click on any of the thumbnails to open the interactive version.)*\n",
    "\n",
    "<table><tr>\n",
    "<td><a href=\"http://bokeh.pydata.org/docs/gallery/burtin.html\" target=\"_blank\"><img width=50% src=\"files/burtin.png\"></a></td>\n",
    "<td><a href=\"http://bokeh.pydata.org/docs/gallery/periodic.html\" target=\"_blank\"><img width=50% src=\"files/periodic.png\"></a></td>\n",
    "<td><a href=\"http://bokeh.pydata.org/docs/gallery/boxplot.html\" target=\"_blank\"><img width=50% src=\"files/boxplot.png\"></a></td>\n",
    "</tr>\n",
    "<tr>\n",
    "<td><a href=\"http://bokeh.pydata.org/docs/gallery/texas.html\" target=\"_blank\"><img width=50% src=\"files/texas.png\"></a></td>\n",
    "<td><a href=\"http://bokeh.pydata.org/docs/gallery/chord_chart.html\" target=\"_blank\"><img width=50% src=\"files/chord_chart.png\"></a></td>\n",
    "<td><a href=\"http://bokeh.pydata.org/docs/gallery/les_mis.html\" target=\"_blank\"><img width=50% src=\"files/les_mis.png\"></a></td>\n",
    "</tr></table>"
   ]
  },
  {
   "cell_type": "markdown",
   "metadata": {},
   "source": [
    "## Linked Brushing\n",
    "\n",
    "To link plots together at a data level, we can explicitly wrap the data in a ColumnDataSource.\n",
    "This allows us to reference columns by name.\n",
    "\n",
    "We can use the \"select\" tool to select points on one plot, and the linked points\n",
    "on the other plots will highlight."
   ]
  },
  {
   "cell_type": "code",
   "execution_count": null,
   "metadata": {
    "collapsed": false
   },
   "outputs": [],
   "source": [
    "from bokeh.models import ColumnDataSource\n",
    "from bokeh.layouts import gridplot\n",
    "\n",
    "source = ColumnDataSource(autompg.to_dict(\"list\"))\n",
    "source.add(autompg[\"yr\"], name=\"yr\")\n",
    "\n",
    "plot_config = dict(plot_width=250, plot_height=250,\n",
    "                   tools=\"pan,wheel_zoom,box_zoom,box_select,lasso_select\")\n",
    "\n",
    "p1 = figure(title=\"MPG by Year\", **plot_config)\n",
    "p1.circle(\"yr\", \"mpg\", color=\"blue\", source=source)\n",
    "\n",
    "p2 = figure(title=\"HP vs. Displacement\", **plot_config)\n",
    "p2.circle(\"hp\", \"displ\", color=\"green\", source=source)\n",
    "\n",
    "p3 = figure(title=\"MPG vs. Displacement\", **plot_config)\n",
    "p3.circle(\"mpg\", \"displ\", size=\"cyl\", line_color=\"red\", fill_color=None, source=source)\n",
    "\n",
    "p = gridplot([[ p1, p2, p3]], toolbar_location=\"left\")\n",
    "\n",
    "show(p)"
   ]
  },
  {
   "cell_type": "markdown",
   "metadata": {},
   "source": [
    "## Standalone HTML\n",
    "\n",
    "In addition to working well with the Notebook, Bokeh can also\n",
    "save plots out into their own HTML files.  Here is the bar plot\n",
    "example from above, but saving into its own standalone file.\n",
    "\n",
    "Note that when we call `show()`, a new browser tab is opened.\n",
    "(If we just wanted to save the file, we would use `save()` instead.)"
   ]
  },
  {
   "cell_type": "code",
   "execution_count": null,
   "metadata": {
    "collapsed": false
   },
   "outputs": [],
   "source": [
    "from bokeh.plotting import output_file\n",
    "\n",
    "output_file(\"barplot.html\")\n",
    "\n",
    "p = figure()\n",
    "\n",
    "p.quad(left=years-0.4, right=years+0.4, bottom=avg-std, top=avg+std, fill_alpha=0.4)\n",
    "\n",
    "p.circle(x=japanese[\"yr\"], y=japanese[\"mpg\"], size=8, \n",
    "         alpha=0.4, line_color=\"red\", fill_color=None, line_width=2)\n",
    "\n",
    "p.triangle(x=american[\"yr\"], y=american[\"mpg\"], size=8, \n",
    "           alpha=0.4, line_color=\"blue\", fill_color=None, line_width=2)\n",
    "\n",
    "show(p)"
   ]
  },
  {
   "cell_type": "markdown",
   "metadata": {},
   "source": [
    "# Bokeh Apps\n",
    "\n",
    "When the linked brushing and server-based operation are combined,\n",
    "you can build graphical \"applets\", which resemble things like\n",
    "what Crossfilter and others do. However, Bokeh provides the\n",
    "reactive object model across client and server, so these sorts\n",
    "of selections and interactions can trigger server-side code,\n",
    "which is implemented in Python.\n",
    "\n",
    "*(Click to launch the live app.)*\n",
    "\n",
    "<a href=\"https://demo.bokehplots.com/apps/movies\" target=\"_blank\">\n",
    "  <img width=\"40%\" height=\"40%\" style=\"display: inline; padding: 20px\" src=\"http://bokeh.pydata.org/static/movies.png\" >\n",
    "</a>\n",
    "<a href=\"https://demo.bokehplots.com/apps/crossfilter\" target=\"_blank\" >\n",
    "  <img width=\"40%\" height=\"40%\" style=\"display: inline\" src=\"http://bokeh.pydata.org/static/crossfilter.png\">\n",
    "</a>\n"
   ]
  },
  {
   "cell_type": "markdown",
   "metadata": {},
   "source": [
    "## BokehJS\n",
    "\n",
    "At its core, Bokeh consists of a Javascript library, [BokehJS](https://github.com/bokeh/bokeh/tree/master/bokehjs), and a Python binding which provides classes and objects that ultimately generate a JSON representation of the plot structure.\n",
    "\n",
    "You can read more about design and usage in the [Developing with JavaScript](http://bokeh.pydata.org/en/latest/docs/user_guide/bokehjs.html) section of the Bokeh User's Guide."
   ]
  },
  {
   "cell_type": "markdown",
   "metadata": {},
   "source": [
    "More Information\n",
    "----------------\n",
    "\n",
    "Full documentation and live examples: http://bokeh.pydata.org/en/latest\n",
    "\n",
    "GitHub: https://github.com/bokeh/bokeh\n",
    "\n",
    "Mailing list: [bokeh@continuum.io](mailto:bokeh@continuum.io)\n",
    "\n",
    "Gitter: https://gitter.im/bokeh/bokeh\n",
    "\n",
    "Be sure to follow us on Twitter [@bokehplots](http://twitter.com/BokehPlots>), as well as on [Youtube](https://www.youtube.com/channel/UCK0rSk29mmg4UT4bIOvPYhw) and [Vine](https://vine.co/bokehplots)!\n",
    "\n",
    "<img src=\"files/bokeh-transparent.png\" width=\"64px\" height=\"64px\">"
   ]
  },
  {
   "cell_type": "markdown",
   "metadata": {},
   "source": [
    "<script>\n",
    "  (function(i,s,o,g,r,a,m){i['GoogleAnalyticsObject']=r;i[r]=i[r]||function(){\n",
    "  (i[r].q=i[r].q||[]).push(arguments)},i[r].l=1*new Date();a=s.createElement(o),\n",
    "  m=s.getElementsByTagName(o)[0];a.async=1;a.src=g;m.parentNode.insertBefore(a,m)\n",
    "  })(window,document,'script','//www.google-analytics.com/analytics.js','ga');\n",
    "\n",
    "  ga('create', 'UA-27761864-9', 'auto');\n",
    "  ga('send', 'pageview');\n",
    "</script>"
   ]
  }
 ],
 "metadata": {
  "kernelspec": {
   "display_name": "Python 3",
   "language": "python",
   "name": "python3"
  },
  "language_info": {
   "codemirror_mode": {
    "name": "ipython",
    "version": 3
   },
   "file_extension": ".py",
   "mimetype": "text/x-python",
   "name": "python",
   "nbconvert_exporter": "python",
   "pygments_lexer": "ipython3",
   "version": "3.6.0"
  }
 },
 "nbformat": 4,
 "nbformat_minor": 1
}
