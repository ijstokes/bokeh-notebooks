{
 "cells": [
  {
   "cell_type": "markdown",
   "metadata": {},
   "source": [
    "<img src=\"files/bokeh-transparent.png\" width=\"64px\" height=\"64px\">\n",
    "\n",
    "# Bokeh 5-minute Overview\n",
    "\n",
    "Bokeh is an interactive web visualization library for Python \n",
    "(and other languages). It provides d3-like novel graphics, over\n",
    "large datasets, all without requiring any knowledge of Javascript. It \n",
    "has a Matplotlib compatibility layer, and it works great with\n",
    "the IPython Notebook, but can also be used to generate standalone HTML.\n",
    "\n",
    "## Simple Example\n",
    "\n",
    "Here is a simple first example.  First we'll import the `bokeh.plotting`\n",
    "module, which defines the graphical functions and primitives."
   ]
  },
  {
   "cell_type": "code",
   "execution_count": null,
   "metadata": {
    "collapsed": false
   },
   "outputs": [],
   "source": [
    "from bokeh.plotting import figure, output_notebook, show"
   ]
  },
  {
   "cell_type": "markdown",
   "metadata": {},
   "source": [
    "Next, we'll tell Bokeh to display its plots directly into the notebook.\n",
    "This will cause all of the Javascript and data to be embedded directly\n",
    "into the HTML of the notebook itself.\n",
    "(Bokeh can output straight to HTML files, or use a server, which we'll\n",
    "look at later.)"
   ]
  },
  {
   "cell_type": "code",
   "execution_count": null,
   "metadata": {
    "collapsed": false
   },
   "outputs": [],
   "source": [
    "output_notebook()"
   ]
  },
  {
   "cell_type": "markdown",
   "metadata": {},
   "source": [
    "Next, we'll import NumPy and create some simple data."
   ]
  },
  {
   "cell_type": "code",
   "execution_count": null,
   "metadata": {
    "collapsed": false
   },
   "outputs": [],
   "source": [
    "from numpy import cos, linspace\n",
    "x = linspace(-6, 6, 100)\n",
    "y = cos(x)"
   ]
  },
  {
   "cell_type": "markdown",
   "metadata": {},
   "source": [
    "Now we'll call Bokeh's `circle()` function to render a red circle at\n",
    "each of the points in x and y.\n",
    "\n",
    "We can immediately interact with the plot:\n",
    "\n",
    "  * click-drag will pan the plot around.\n",
    "  * mousewheel will zoom in and out\n",
    "  \n",
    "(The toolbar is simply a default one that is available for all plots;\n",
    "this can be configured dynamically via the `tools` keyword argument.)"
   ]
  },
  {
   "cell_type": "code",
   "execution_count": null,
   "metadata": {
    "collapsed": false
   },
   "outputs": [],
   "source": [
    "p = figure(width=500, height=500)\n",
    "p.circle(x, y, size=7, color=\"firebrick\", alpha=0.5)\n",
    "show(p)"
   ]
  },
  {
   "cell_type": "markdown",
   "metadata": {},
   "source": [
    "# Bar Plot Example\n",
    "\n",
    "\n",
    "Bokeh's core display model relies on *composing graphical primitives* which\n",
    "are bound to data series.  This is similar in spirit to Protovis and D3,\n",
    "and different than most other Python plotting libraries (except for perhaps\n",
    "Vincent and other, newer libraries).\n",
    "\n",
    "A slightly more sophisticated example demonstrates this idea.\n",
    "\n",
    "Bokeh ships with a small set of interesting \"sample data\" in the `bokeh.sampledata`\n",
    "package.  We'll load up some historical automobile mileage data, which is returned\n",
    "as a Pandas `DataFrame`."
   ]
  },
  {
   "cell_type": "code",
   "execution_count": null,
   "metadata": {
    "collapsed": false
   },
   "outputs": [],
   "source": [
    "from bokeh.sampledata.autompg import autompg\n",
    "from numpy import array\n",
    "\n",
    "grouped = autompg.groupby(\"yr\")\n",
    "mpg = grouped[\"mpg\"]\n",
    "avg = mpg.mean()\n",
    "std = mpg.std()\n",
    "years = array(list(grouped.groups.keys()))\n",
    "american = autompg[autompg[\"origin\"]==1]\n",
    "japanese = autompg[autompg[\"origin\"]==3]"
   ]
  },
  {
   "cell_type": "markdown",
   "metadata": {},
   "source": [
    "For each year, we want to plot the distribution of MPG within that year."
   ]
  },
  {
   "cell_type": "code",
   "execution_count": null,
   "metadata": {
    "collapsed": false
   },
   "outputs": [],
   "source": [
    "p = figure()\n",
    "\n",
    "p.quad(left=years-0.4, right=years+0.4, bottom=avg-std, top=avg+std, fill_alpha=0.4)\n",
    "\n",
    "p.circle(x=japanese[\"yr\"], y=japanese[\"mpg\"], size=8,\n",
    "         alpha=0.4, line_color=\"red\", fill_color=None, line_width=2)\n",
    "\n",
    "p.triangle(x=american[\"yr\"], y=american[\"mpg\"], size=8, \n",
    "           alpha=0.4, line_color=\"blue\", fill_color=None, line_width=2)\n",
    "\n",
    "show(p)"
   ]
  },
  {
   "cell_type": "markdown",
   "metadata": {},
   "source": [
    "# This kind of approach can be used to generate other kinds of interesting plots, like some of the following which are available on the [Bokeh web page](http://bokeh.pydata.org/en/latest).  \n",
    "\n",
    "*(Click on any of the thumbnails to open the interactive version.)*\n",
    "\n",
    "<table><tr>\n",
    "<td><a href=\"http://bokeh.pydata.org/docs/gallery/burtin.html\" target=\"_blank\"><img width=50% src=\"files/burtin.png\"></a></td>\n",
    "<td><a href=\"http://bokeh.pydata.org/docs/gallery/periodic.html\" target=\"_blank\"><img width=50% src=\"files/periodic.png\"></a></td>\n",
    "<td><a href=\"http://bokeh.pydata.org/docs/gallery/boxplot.html\" target=\"_blank\"><img width=50% src=\"files/boxplot.png\"></a></td>\n",
    "</tr>\n",
    "<tr>\n",
    "<td><a href=\"http://bokeh.pydata.org/docs/gallery/texas.html\" target=\"_blank\"><img width=50% src=\"files/texas.png\"></a></td>\n",
    "<td><a href=\"http://bokeh.pydata.org/docs/gallery/chord_chart.html\" target=\"_blank\"><img width=50% src=\"files/chord_chart.png\"></a></td>\n",
    "<td><a href=\"http://bokeh.pydata.org/docs/gallery/les_mis.html\" target=\"_blank\"><img width=50% src=\"files/les_mis.png\"></a></td>\n",
    "</tr></table>"
   ]
  },
  {
   "cell_type": "markdown",
   "metadata": {},
   "source": [
    "## Linked Brushing\n",
    "\n",
    "To link plots together at a data level, we can explicitly wrap the data in a ColumnDataSource.\n",
    "This allows us to reference columns by name.\n",
    "\n",
    "We can use the \"select\" tool to select points on one plot, and the linked points\n",
    "on the other plots will highlight."
   ]
  },
  {
   "cell_type": "code",
   "execution_count": null,
   "metadata": {
    "collapsed": false
   },
   "outputs": [],
   "source": [
    "from bokeh.models import ColumnDataSource\n",
    "from bokeh.layouts import gridplot\n",
    "\n",
    "source = ColumnDataSource(autompg.to_dict(\"list\"))\n",
    "source.add(autompg[\"yr\"], name=\"yr\")\n",
    "\n",
    "plot_config = dict(plot_width=300, plot_height=300,\n",
    "                   tools=\"pan,wheel_zoom,box_zoom,box_select,lasso_select\")\n",
    "\n",
    "p1 = figure(title=\"MPG by Year\", **plot_config)\n",
    "p1.circle(\"yr\", \"mpg\", color=\"blue\", source=source)\n",
    "\n",
    "p2 = figure(title=\"HP vs. Displacement\", **plot_config)\n",
    "p2.circle(\"hp\", \"displ\", color=\"green\", source=source)\n",
    "\n",
    "p3 = figure(title=\"MPG vs. Displacement\", **plot_config)\n",
    "p3.circle(\"mpg\", \"displ\", size=\"cyl\", line_color=\"red\", fill_color=None, source=source)\n",
    "\n",
    "p = gridplot([[ p1, p2, p3]], toolbar_location=\"right\")\n",
    "\n",
    "show(p)"
   ]
  },
  {
   "cell_type": "markdown",
   "metadata": {},
   "source": [
    "## Standalone HTML\n",
    "\n",
    "In addition to working well with the Notebook, Bokeh can also\n",
    "save plots out into their own HTML files.  Here is the bar plot\n",
    "example from above, but saving into its own standalone file.\n",
    "\n",
    "Note that when we call `show()`, a new browser tab is opened.\n",
    "(If we just wanted to save the file, we would use `save()` instead.)"
   ]
  },
  {
   "cell_type": "code",
   "execution_count": null,
   "metadata": {
    "collapsed": false
   },
   "outputs": [],
   "source": [
    "from bokeh.plotting import output_file\n",
    "\n",
    "output_file(\"barplot.html\")\n",
    "\n",
    "p = figure()\n",
    "\n",
    "p.quad(left=years-0.4, right=years+0.4, bottom=avg-std, top=avg+std, fill_alpha=0.4)\n",
    "\n",
    "p.circle(x=japanese[\"yr\"], y=japanese[\"mpg\"], size=8, \n",
    "         alpha=0.4, line_color=\"red\", fill_color=None, line_width=2)\n",
    "\n",
    "p.triangle(x=american[\"yr\"], y=american[\"mpg\"], size=8, \n",
    "           alpha=0.4, line_color=\"blue\", fill_color=None, line_width=2)\n",
    "\n",
    "show(p)"
   ]
  },
  {
   "cell_type": "markdown",
   "metadata": {},
   "source": [
    "# Bokeh Apps\n",
    "\n",
    "When the linked brushing and server-based operation are combined,\n",
    "you can build graphical \"applets\", which resemble things like\n",
    "what Crossfilter and others do. However, Bokeh provides the\n",
    "reactive object model across client and server, so these sorts\n",
    "of selections and interactions can trigger server-side code,\n",
    "which is implemented in Python.\n",
    "\n",
    "*(Click to launch the live app.)*\n",
    "\n",
    "<a href=\"https://demo.bokehplots.com/apps/movies\" target=\"_blank\">\n",
    "  <img width=\"40%\" height=\"40%\" style=\"display: inline; padding: 20px\" src=\"http://bokeh.pydata.org/static/movies.png\" >\n",
    "</a>\n",
    "<a href=\"https://demo.bokehplots.com/apps/crossfilter\" target=\"_blank\" >\n",
    "  <img width=\"40%\" height=\"40%\" style=\"display: inline\" src=\"http://bokeh.pydata.org/static/crossfilter.png\">\n",
    "</a>\n"
   ]
  },
  {
   "cell_type": "markdown",
   "metadata": {},
   "source": [
    "## BokehJS\n",
    "\n",
    "At its core, Bokeh consists of a Javascript library, [BokehJS](https://github.com/bokeh/bokeh/tree/master/bokehjs), and a Python binding which provides classes and objects that ultimately generate a JSON representation of the plot structure.\n",
    "\n",
    "You can read more about design and usage in the [Developing with JavaScript](http://bokeh.pydata.org/en/latest/docs/user_guide/bokehjs.html) section of the Bokeh User's Guide."
   ]
  },
  {
   "cell_type": "markdown",
   "metadata": {},
   "source": [
    "More Information\n",
    "----------------\n",
    "\n",
    "Full documentation and live examples: http://bokeh.pydata.org/en/latest\n",
    "\n",
    "GitHub: https://github.com/bokeh/bokeh\n",
    "\n",
    "Mailing list: [bokeh@continuum.io](mailto:bokeh@continuum.io)\n",
    "\n",
    "Gitter: https://gitter.im/bokeh/bokeh\n",
    "\n",
    "Be sure to follow us on Twitter [@bokehplots](http://twitter.com/BokehPlots>), as well as on [Youtube](https://www.youtube.com/channel/UCK0rSk29mmg4UT4bIOvPYhw) and [Vine](https://vine.co/bokehplots)!\n",
    "\n",
    "<img src=\"files/bokeh-transparent.png\" width=\"64px\" height=\"64px\">"
   ]
  },
  {
   "cell_type": "markdown",
   "metadata": {},
   "source": [
    "<script>\n",
    "  (function(i,s,o,g,r,a,m){i['GoogleAnalyticsObject']=r;i[r]=i[r]||function(){\n",
    "  (i[r].q=i[r].q||[]).push(arguments)},i[r].l=1*new Date();a=s.createElement(o),\n",
    "  m=s.getElementsByTagName(o)[0];a.async=1;a.src=g;m.parentNode.insertBefore(a,m)\n",
    "  })(window,document,'script','//www.google-analytics.com/analytics.js','ga');\n",
    "\n",
    "  ga('create', 'UA-27761864-9', 'auto');\n",
    "  ga('send', 'pageview');\n",
    "</script>"
   ]
  }
 ],
 "metadata": {
  "kernelspec": {
   "display_name": "Python 3",
   "language": "python",
   "name": "python3"
  },
  "language_info": {
   "codemirror_mode": {
    "name": "ipython",
    "version": 3
   },
   "file_extension": ".py",
   "mimetype": "text/x-python",
   "name": "python",
   "nbconvert_exporter": "python",
   "pygments_lexer": "ipython3",
   "version": "3.6.0"
  }
 },
 "nbformat": 4,
 "nbformat_minor": 0
}
